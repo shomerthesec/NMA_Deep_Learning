{
  "nbformat": 4,
  "nbformat_minor": 0,
  "metadata": {
    "accelerator": "GPU",
    "colab": {
      "name": "W2D1_Tutorial2",
      "provenance": [],
      "collapsed_sections": [],
      "machine_shape": "hm"
    },
    "kernel": {
      "display_name": "Python 3",
      "language": "python",
      "name": "python3"
    },
    "kernelspec": {
      "display_name": "Python 3",
      "name": "python3"
    },
    "widgets": {
      "application/vnd.jupyter.widget-state+json": {
        "1d4ea11144ff46eabab50e2786bc2023": {
          "model_module": "@jupyter-widgets/controls",
          "model_name": "TabModel",
          "state": {
            "_view_name": "TabView",
            "_dom_classes": [],
            "_titles": {
              "0": "Youtube",
              "1": "Bilibili"
            },
            "_model_name": "TabModel",
            "_view_module": "@jupyter-widgets/controls",
            "selected_index": 0,
            "_model_module_version": "1.5.0",
            "_view_count": null,
            "_view_module_version": "1.5.0",
            "box_style": "",
            "layout": "IPY_MODEL_f4b47b00783d410c971232153f8adfd3",
            "_model_module": "@jupyter-widgets/controls",
            "children": [
              "IPY_MODEL_1d0b233730cb453f9dba718b2025022c",
              "IPY_MODEL_39158b3a89d943e3924a3dd07ddf69c7"
            ]
          }
        },
        "f4b47b00783d410c971232153f8adfd3": {
          "model_module": "@jupyter-widgets/base",
          "model_name": "LayoutModel",
          "state": {
            "_view_name": "LayoutView",
            "grid_template_rows": null,
            "right": null,
            "justify_content": null,
            "_view_module": "@jupyter-widgets/base",
            "overflow": null,
            "_model_module_version": "1.2.0",
            "_view_count": null,
            "flex_flow": null,
            "width": null,
            "min_width": null,
            "border": null,
            "align_items": null,
            "bottom": null,
            "_model_module": "@jupyter-widgets/base",
            "top": null,
            "grid_column": null,
            "overflow_y": null,
            "overflow_x": null,
            "grid_auto_flow": null,
            "grid_area": null,
            "grid_template_columns": null,
            "flex": null,
            "_model_name": "LayoutModel",
            "justify_items": null,
            "grid_row": null,
            "max_height": null,
            "align_content": null,
            "visibility": null,
            "align_self": null,
            "height": null,
            "min_height": null,
            "padding": null,
            "grid_auto_rows": null,
            "grid_gap": null,
            "max_width": null,
            "order": null,
            "_view_module_version": "1.2.0",
            "grid_template_areas": null,
            "object_position": null,
            "object_fit": null,
            "grid_auto_columns": null,
            "margin": null,
            "display": null,
            "left": null
          }
        },
        "1d0b233730cb453f9dba718b2025022c": {
          "model_module": "@jupyter-widgets/output",
          "model_name": "OutputModel",
          "state": {
            "_view_name": "OutputView",
            "msg_id": "",
            "_dom_classes": [],
            "_model_name": "OutputModel",
            "outputs": [
              {
                "output_type": "stream",
                "metadata": {
                  "tags": []
                },
                "text": "Video available at https://youtube.com/watch?v=PsZjS125lLs\n",
                "stream": "stdout"
              },
              {
                "output_type": "display_data",
                "metadata": {
                  "tags": []
                },
                "text/html": "\n        <iframe\n            width=\"854\"\n            height=\"480\"\n            src=\"https://www.youtube.com/embed/PsZjS125lLs?fs=1&rel=0\"\n            frameborder=\"0\"\n            allowfullscreen\n        ></iframe>\n        ",
                "text/plain": "<IPython.lib.display.YouTubeVideo at 0x7f3294641810>",
                "image/jpeg": "/9j/4AAQSkZJRgABAQAAAQABAAD/2wCEABALDBoYFhsaGRoeHRwfIy8iIyIiITcvKCUuLi0xMjI9LjA1SFBCNzhLOS4vRW1FTVNWW11bN0FlbWRYbFBZW1cBERISGRYYLRsbL1c/Nz1XV1dXV1dXV1dXV1dXV1dXV1dXV1dXV11XV1dXV1dXV1dXV1dXV1dXV1dXV1dXV1ddV//AABEIAWgB4AMBIgACEQEDEQH/xAAbAAEAAgMBAQAAAAAAAAAAAAAAAwQBBQYHAv/EAEkQAAIBAgMDBgsGBAUDAwUAAAABAgMRBBIhBTFhExRBUVORBhYXInFygZKTsdIVMjNSodEjQsHhJGKCsuJD8PEHNKIlRXOEs//EABgBAQEBAQEAAAAAAAAAAAAAAAABAgME/8QAIBEBAQACAgMBAQEBAAAAAAAAAAECERIxAyFREzJhQf/aAAwDAQACEQMRAD8A8/AAAAAAAAAAAAAAAAAAAAAAAAAAAAAAAAAAAAAAAAAAAAAAAAAAAAAAAAAAAAAAAAAAAAAAAAAAAAAAAAAAAAAAAAAAAAAAAAAAAAAAAAAAAAAAAAAAAAAAAAAAAAAAAAAAAAAAAAAAAAAAAAAAAAAAAAAAAAAAAAB0kfAXaDSapws9fxEZ8Q9odnD4iA5oHS+Ie0Ozh8RDxD2h2cPiIDmgdL4h7Q7OHxEPEPaHZw+IgOaB0viHtDs4fEQ8Q9odnD4iA5oHS+Ie0Ozh8RDxD2h2cPiIDmgdL4h7Q7OHxEPEPaHZw+IgOaB0viHtDs4fEQ8Q9odnD4iA5oHS+Ie0Ozh8RDxD2h2cPiIDmgdL4h7Q7OHxEPEPaHZw+IgOaB0viHtDs4fEQ8Q9odnD4iA5oHS+Ie0Ozh8RDxD2h2cPiIDmgdL4h7Q7OHxEPEPaHZw+IgOaB0viHtDs4fEQ8Q9odnD4iA5oHS+Ie0Ozh8RDxD2h2cPiIDmgdL4h7Q7OHxEPEPaHZw+IgOaB0viHtDs4fEQ8Q9odnD4iA5oHS+Ie0Ozh8RDxD2h2cPiIDmgdL4h7Q7OHxEPEPaHZw+IgOaB0viHtDs4fEQ8Q9odnD4iA5oHS+Ie0Ozh8RDxD2h2cPiIDmgdL4h7Q7OHxEPEPaHZw+IgOaB0viHtDs4fEQ8Q9odnD4iA5oHS+Ie0Ozh8RDxD2h2cPiIDmgdL4h7Q7OHxEPEPaHZw+IgOaB0viHtDs4fEQ8Q9odnD4iA5oHQ1vAzGU7coqcL7rzvfuuQT8GK63zpdW9/sS2QaUG6j4MV3/ADUu9/sSLwTxH5qXe/2Jyi6aEG/8UcT+al3v9jPihifzUvef7F5RHPg3/ihifzUvef7BeCOJ/PS95/sOUGgB1EfAPFtXz0Pel9JnxBxf56HvS+k3xrH6Y/XqWH/Dh6q+RIR4f8OHqr5EhlsBgAZBgyABgAZAAAGABkAAAAAAAAAAADAGQAAAAAAAAAAAAAAAAAAAAAAAAAAAAAAAAAAAAGm8Ifu0vS/6GhxStb1l8zfeEX3afpf9DRY6LsvXj80cc+2o+aF+Xt0NG6pUobnK3sNNQX+I/wC+o2M5eezI2tPCUn/MSPC0ktWUKUrK7aS62yptLbVChB5qsbtaRTu37EUbd4Sm90l3lDGUYxlGzTvf+hzS8MIt605qPX/Yv4DakMQ7xlfLvT0a9hZ2OqpRWVeg+sqIqVeOVa9A51DROSu9yvqz12V4PS1h/wAOHqr5EhHh/wAOHqr5Ehye1pvCvFVKODcqU3CeeEcytdKUknvKOOlisBOhN4qWIp1KsaUqdSEU/Oe+Lilqifw1V8C1e38WnqvXRRxmG5jjKNfEzqYjDfdU6sruhN9Nt1n19AH34QbUxNDHp05t0aVGNarTsvOjncZPruk0/YbHH4+XPNnqnP8AhVnUcrbppU80SJxUtstOzjLBWfU06hpsLGdDaWDwc7tUKlV0pPppzpycfarNewC1s7bNeGPqqtUcsPPETw8L2/hzWsV6GnY2lDHyjj8ZGpUtRpUqc1fdG6k5P9DXYDZ6xVHadFuzeLm4y/LJKLi++xT2RiI4qptDnX8O9CnSrN6ZWs8ZO/p1A3+G8I6FWcIqFZKo7QnKlJQk+izLlDaVKpiKuHi3ylJJzVtNd2poaWJxOCnhaTxFLFUKk1SilG1RLoejaaVjf0cVQlXqU4OPLQSc0lqk9130gZ2nUlDDV5xdpRpyafU1F2Oai8bT2fHHRxspyVJVZU6kIuLVrtXSTR0e2P8A2mI//FP/AGs0Gx9g84weH5bE1p0XTjLkbpQ3JpOyu17QNlPwmw1NQ5WThKVKNVRs22pbkrb3v0JK+36MOTSVWpOpBVFTp03Kai+mS6PaVaUIrbU9F5uEjbTd573FKEJ/amMjznm85qnKHmxeeCjbRy6nfRdYG6pbcw0sPPEcplpwbU8yalGS0s4vW9+g0+N26q2IwMaSr0r11fPCUFOOV+xrdoUtqYWFFKo8Qq6eMozxDskopJpXUdPym02/iqc8Ts6MakZS5wpWUk3bK1fTo1AvYLFwU8ZKVeUo0p+cpq0aXm3sn0qxDT8KMPLLaNfLL7kuRllnpfzX03NDtWEpYfbGVN2rwckt7ilBy/Q66lj6DhTcakMs7KCTWvUkgNT4NbfeIhGFVVHUlKfnck1CybteSVr2VvSWfCnaU8Lg51KV1UbSi8t0tVfN1K19/Ar+BtWPM8mZZ1VqpxvrfPJ7vQSeGa/+mYj0RfdOIFLbO21KhRqQdaio4ikpucJU7x1ct+9WRs8F4QUK9ZUYqpCUk5Q5Sm4qaW/LfeUvCSrCdHCZZRkuc0dzvvZLt1f47Zr6eVmv/gBYxXhBRpznBRq1HT/EdKm5Rh6zXTwNjhsRCrTjUpyUoSV4tdKOS8HadR06sOe8jUhVnylNwg2m5N3vLVpm/wDB/C06OFjClV5WClO01azbm27W00dwG0NvYfD1eRqOfKOKnGMYOTldtJK296M+9n7Zo4iFScXKHJO1SNRZZQ0v5ye5FH/73/8Apr/+jNPtmnKVTbCgm26VFtLe0k7/AKXA3tLwlw8pQ0qxhUeWFWVJqnJvdaT6y7h9p0qlWrRTaqUfvxkraPc11riaCthY4jCJz2kuQkov7kFa1muKehB4V0nWr5cNGUq1Kk3XcXa9J/yes9WgLe0/Cdf4WeH5R051sspKk2pwV08vW77ravU3+Cxca9NTjGcU21acHGWnB6nObUxNGdHZdWjZUOc07dCirNWfVbcdTCakrxaa4O4FDaG2qOHqRpSzzqyWZU6cHKVutpbkajae3abnga0ak4UuVnGomnF6Qeko9OttCbZtWNPauOjVajOapyp5na8FGzt6GNrV6dTGbOcJRmlXmm07q6psC/s3blHE1JUoqpCpFZstSDi3HrSe9FeXhTh46yhXjTvblHRkod/VxIdpTybVoTSu1hqrt12adjTY7E1MRsupia2OS5SDtQgoqN3ui73k2B1GP25h8NNQrTyuUM60umr20tvfAuYTExrU41IXyyV1dWftXQc/QSe0sFdXtg216bxOlAyAAAAAAAAAAAAAAAAAANL4Rvzafpf9DntsbVhBqUrt547l1f8Ag3/hM/Np+l/0PO/CNzdSKjd73Zew55Tdajf4PatCdXlM6hH/ADNI2McQpttPW+7rXWjzadCpq3GXHQ6nEYuNOlpLXS1nwRmzS9rHhFtx0lko1Fndr2WsdOh33+w5DNJtt3lJ730n1ia0pzbbu27+k3mysNKnreOZ6+cr3/UvUWTavT2DWnTU49OuXc0bDZ9KtS8+dO1vNk9149PcbzAYhTjqsslo0fG08TFUppyjdRbtc53KunCaUK04uN6dSolfpk9UQbNoUnKTbktXeLla6+ZSo1ISowTk027cEugjxj5HERSquSUd66Lmrbty4x63h/w4eqvkSEeH/Dh6q+RId2EWIw8KsctSEZxunaSurrcZrUYVIOE4qUJKzjJXT9KJABXo4GjTkpQpwjKMOTTUdVC98q4X6D6nhKcqkKsqcXUhdRm150b77MmAEVHDwp5skIxzyc5WVs0nvb4kfMKN6kuSp3qq1TzV56/zdZZAFDCbGwtCeelh6UJ/mjFXXo6izTwtONSdSMIqpO2aSWsrbrvpJgB8VKalFxkk4yVmnuae+4pUowjGEIqMYqySVkkuo+wBFzeHKcrkjyjjlz287Le9r9VyLG7OoYhJV6UKlt2aKdvQWgBUo7Mw9OlKlChTjTl96CgrS9K6SPD7FwtK3J4elFxlmTUFdPruXwBFTw1OLm4winN3m0vvO1tesq0NiYSlU5SnhqUZrdJQSa9HUXwBThsrDxrcvGhTVXV51FZrvR69ZaqQUouMkpRas01dNPrR9ACjR2Nhaayww9OKzKdlFfeW5+lFmrh4TlCUoRlKDvBtaxb0duolAFHGbHwteWetQpzluzSir95aoUIU4KFOMYQW6MVZL0JEgAi5tDlOVyR5TLkz287Le9r9VxDDwjOVRQipzspSS1lbdd8CUAa77AweflOa0c173yLf6C3Rw1Om5uEIxc3mk0tZPrfWTACo9l4fk5UuRp8nJ5pQyrK3126yXC4SnRgqdKEYQW6MVZakwAq43ZtDEJcvRhUtuzRTa9DFLZ1CCpqFGnFU23C0Usre9riy0AIpYeDqKo4Rc4pxUrapPekymthYNSlLm1G87qTyLW+82IAhWFpqcZqEc0Y5Iytqo9S4EpkAAAAAAAAAAAAAAAAAAABofCh+bS9Mv6HmW1pPnVTV956X4VytGl/q/oeZbXf+Jn6Ec7/TUV7vrfeZk5ONrs+Gz6TDaxsuKnNQcenNe/6HVRw9OUbTirLgc/sWjabqNabjfV6so5VGKae+7sYyvt0wnrSenReSWXS7SXBGk20qkKag1FZndtdS6/bY2lCd24qMoO17XvH9DS7Zxbq1rR3U9NOl9JmX2uU1FSjJuK0a4EjT6dT4TfUzKbXQzNYkeyYf8OHqr5EhHh/w4eqvkSHrcAAAAAAAAAAAAAAAAAAAAAAAAAAAAAAAAAAAAAAAAAAAAAAAAAAAAAAAAAAAAAAAAHOeF782j/q+SPPMZg51sVKMF0K76F6T1naOzKeJUVUcvNvbK7b/APwVIeDWHjuz+8v2MavLbUrz+h4PwWtSblwWi/ct/Z8FolaK3RW729Z278HqHXP3v7GPF2h11Pe/sTLG2elxy9+3FqlZNH1Sqfyyi5I7Hxcw/XP3v7GV4OYdfn97+xieOx0/SOYhRVtE0nv6zW19hb3Tn7Jfud6th0f8/f8A2D2HRfTPv/sWeO/9Zyz3fTzHF4OpR/EjZdD6O8rxmulo9XnsSjKLjLM01Zps1j8B8H11ffX7E/Mmf10OH/Dh6q+RIR4f8OHqr5Eh3cgAAAAAAAAAAAAAAAAAAAAAAAGDVV9pSm2qVox/O1dy9VdXFlvak2qE7dNo36szS/qamTyxemiW70B1wxndSLEVlqqsn6yTXyRscDjuUvGSyzWtlua60aHB4t1PvQyvLGa86+kr2vx0LdN5alOS3qaXsl5r+f6FbuMsb4yAR5wAACvi8UqUbvVvSMVvbLBptoyviGuiMFb/AFN3+S7g1hN18TxVaWrqZeEErL2vV/ofdLH1YfefKR6VZKXsa0foKeJrOCVkm5SUVd2V31kez6sp07zd5Z5rTdpOSVvYiu2p1p01KopxUou6aumfZrdjy0qR6FK64XSb/W79psiOGU1dAACBhtJXeiRko7Xl/By9EpRi/RfX5WCybulWttGc3/D8yHQ7XlLjrol/3oRxxNaOqqt8JJNfpZnwYK9HGRtsFjFVTTWWcfvR/qutFo0eFllr0muluL9Di380jc06kZK8WmrtaPpTs13kcc8dV9gAMAAAAAAAAAAAAAAAAAAAAACPD/hw9VfIkI8P+HD1V8iQAAAAAAAAAAAAAAAAAAAAAAAACHFUeUpyhe2ZWv1PoZpFfWMlaS0lH/vofWdAQ4jCU6ts8btbmtGvQ0G8MtdtJClGP3Uloo+xbl+pPgaXKVU19ym7t9Dl0L2b/YifD4KhOU0pTnycskk5Oydk+jg0bKEFFJRSSW5Lcg3c5r0yZADiAAAava1FqSqpaWyz4Jap+jV95tDAXG6u3PThGcbSSlF9D1TMJQpxskoxW5JdL6kuls2GNweHpxdSTlTjdXyOyu2ktN29lmhgKdN5km5fmk7v2X3Fdf0j52bh3Cm3JWlN5muroS7ki4ARyt3dgACBXx2H5Sk4r72jj6U7osGAsunOuTaajaMlo1JXyviroUlNXzyi+rLFr5tm7xGCp1HeUfO/MnZ96KeEweHqpyjKVRKUoNSlpeLaenTqiu36RHs2lnqKp/JC9n1yemnBK/eXsFgIUHVcFblZ8pJf5mtSykkrLRIyRyyy3QABkAAAAAAAAAAAAAAAAAAAAAR4f8OHqr5EhHh/w4eqvkSAAAAAAAAAAAAAAAAAAAAAAAFfF4yFFJzvq7JJXbKn23S/LU91fuWY2puNmDWfbdP8tT3V+4+26f5Knur9y8Mvhyj5o4bk44x0FlqSm5J77yyxfTxI8BtGpWqxV7QmuVh5u+nbLZ8c1n6JGaG1acXN5ajzSzfdWmiXXwJVtml+Sov9K/ccMvhyjZg+KVSM4qUXeLV0z7MqAGvq7YpRk42nKzs3FaXW8slvSb02ANZ9t0vy1PdX7j7bpflqe6v3Lwy+HKJNtYeFXDuM45o5oaP10R7SxdWlOMaai88XGmmt9RWsm+rLmf8ApZFidq06kMuWotYv7q6JJ9fAkltii2m6c24u6bitHa2mvU2OGXw5RZ2dinWg6mmST8zSzSsk79bvctlDB7RozkqcIuD1snGyfS7WL5LLO13sAKuLx0KNlK7b3KKuySbFoGs+26X5anur9x9t0vy1PdX7muOXxOUbM02HjzfCVZUUoqNWcndNqyqPN078qJ/tul+Wp7q/cgobTpRg4uNSScpN+av5pN238Rxy+HKJcBtCdWq4PKlG89FvhK3Jvg3d+6zaGqjtegnfJOOiTeRblu3dCNpGSaTWqeqJZZ2S7ZABFAAAAAAAAAAAAAAAAAAAAAEeH/Dh6q+RIR4f8OHqr5EgAAAAAAAAAAAAAAAAAAAfEqsVo5JelkdXG0oWc6sIpuybklqRbRlCnTlVlTjPKru6Wkel34K7PhYShWzKdCm4wnZXimm0t9vTdewCptxpyotO6tLd/pNabHbcFGVFRSSUZJJLRfdNcenx/wAuOfaGriYwklJ2um+7/wAkqPh0/Ozf5XHvf9itChUjCcbuS3JO12sqSytNZdeu5tldB8Ur5Y3VnbW59lRvtkySwtNtpKz3+llrlofnj3oqbKgpYWmpJNWejV1vZDipQp1JU+QpO8M1PT78s2Vp6aWvHXjwPHe3onTYUMTTqq9OcZrrjJP5HLrfL1pf7mdLhMDSoK1KnCnfflVr+nrOaW+XrS/3M6+LuseRkh5zBScG7NNLvSt8yYhlQvn1+809261v2O9ckwIcJCUacVNtySs22m33EwE2B/8AcUfWf+2RvHtGgv8ArUvfRo8D/wC4o+s/9sjebQrypQU0o5Yyjnut0G7Sa9G/2Hn8vbr4+kcdsYZ1VSVenyj3RzLX0de4obb/AB4+p/U2eE89Oo4xvJvK1Gzy38279GvtNZtv8ePqf1J4/wCms+lArxxXnSi4uymoZraXaTXzLBHyMdd+slP2q1v9qPS4JDBVoYecVTWeyimmr3v7X/2iTCU3GLTSXnSaSd1ZttdC6wqZ7jf4TE04UKKnOEW6cfvSS6F1mge46PARToUbpfhx+SOPl6jfjfNbauGpxzSr00uvOixRrQqRU4SjOL1Uou6foaNZhIupN0qvnci3nzQjad3em93RHq6TbJJKy0RwdWQfMo3a1as76dOjWvf+h8qna3nS0be/fe+/v/RASAAAAAAAAAAAAAAAAAACPD/hw9VfIkI8P+HD1V8iQAAAAAAAAAAAAAAAAAAAPmUU001dNWaPjDYeNKnGnC+WKsru79r6WSgCntDAcso2lllG9na6s9913FH7Dn20fh/8jdA1M7OkuMrS/Yc+2j8P/kPsOfbR+H/yN0C/pl9TjGjjsdtySrxbi7NZNztfXzupn19hz7ZfD/uWdnYZQr4uScm51E3d6XyR3ezT2IlxON5N1Fkvkp8pv379P0H6ZfThE+GoKnTjCO6KtqKlCE5QlKKbg7xfU2rfJkiMmGg1FXYjcpOFXKm27OF7Xd990bcFmVnSWS9tL9hy7ZfD/uPsOXbL4f8Ac3QNfpl9ThGjqbHcYuUq8Ulvbhu/U+vsOfbL4f8Actbew6q4SrCTaTjrZ2e8uTeSDf3ssenpsh+mX04RQweyOTqKcqmbLuSjbW1tdX1mxnBSi4ySaas09zTK+HxfKSUctv4cal7/AJr6foWjNtvayaYjFJJJWS0SKW0Nncs4yU8skrbrpr0aF4wJde4tm2m+w59tH4f/ACH2HPto/D/5G6Br9MvrPCNL9hz7aPw/+R8w2O5Xy14uzadobmt6+8bw12xsMqca1pSeatOTzO+t9bD9Mvpwit9hy6aytwp6/M29KmoRjFbopJehFatjsrmsl8jgt+/O7foXCXK3tZJOmDIBlQAAAAAAAAAAAAAAAAAAAABHh/w4eqvkSEeH/Dh6q+RIAAAAAAAAAAAAAAAAAAAAAAAAABhuyu9EjTVsVOrqm4U+hLRtdbe/2Gcspj2lumzoUnGVVvdOV16MsV/Q+cRgoVJXlm3ZXZ2Uo77PgalUktYuUX1qTuX8DjJOXJ1Hdv7svzW3p8TGPlmV0ky2vmQDq0AAAAVcdiuTSUUnOX3U92m9vgiW6H3jaTqUpwjvatqTSV009zNFOLlrOUpvi7L2JaH1TlOnrTk/Vk24vv3ew5ftNs8o2mFwcaX3cz0Ubyd7JXsvQrssEOGrqpBSWnQ096a3omOzQAAAB8VaihFyk7KKu36APsgwlJwUk+mcpexybRq6tedXWTcY9EE7e81q3+hHGnl1i5RfWpP/AMP2nG+abZ5RtquChOed5r+bdJ6PK7xuuDLJRwGMcm6dS2dK6a/mX7l46yyzcagACgAAAAAAAAAAAAAAAAAAAAAjw/4cPVXyJCPD/hw9VfIkAAAAAAAAAAAAAAAAAAAAAAAAAqbUf+HqcVZ+htJ/oa43NWmpxlGWqkmn7TSTTpvJU0fRLon6OPA4eaXtjKKOG2hKdfJ5uVqbi0mvuSUel67+pe0vN2lTa3qcbe2ST/Rs+ckI3laMeluyX6lrAUHUnGo1aEdY3/mfX6Ec8ZvKaZnutsAD1uoAABqMe/8AEPhTjb2uV/kjblHaWGlK1SCvKOjX5lw4r9zGc3j6TKempxdaUeTUMt5zyXluXmye5eqfWEqudOMmkm1rbdfcfcZxlu1t3p+joYzJNRirye6Md/8Ab0nk/wAcl3ZO+qujMn7cq/ZGyK2Bw/Jws9ZN5pNdb/ZWXsLJ7MZqSOs6AAaUKW1vwkuhzin7yLpFiaKqQlB6XW/qfQ+8lm4NQa7A4udWpFtxyypZ1Bb4+cvvcejo6S+24yyVPNn+kuMes+XGELytGN97slc8fXquKWj+NRtvzNezLK5ujW7Ow7cuVkrJLzE1rrvfA2Z6fFLMfbpj0AA6NAAAAAAAAAAAAAAAAAAAAACPD/hw9VfIkI8P+HD1V8iQAAAAAAAAAAAAAAAAAAAAAAAAAfM4KStJJp9DV0fQArwwNGLuqUE+vKtCwAAAAAAAAABDWwtOo7zpxk+txTZ9UqEIK0IRiv8AKrEgAwZAAAAAAAPipTjNWlFSXU1dEVPBUoO8aUE+tRVywAMGQAAAAAAAAAAAAAAAAAAAAAAAAAI8P+HD1V8iQjw/4cPVXyJAAAAAAAAAAAAAAAAAAAAAAAAAAAAAAAAYAyDBkADAAyAAAMGQAMGQAMGQAAAAwZAAAADAAyDBkADAAyAAAMADIMGQAAAAACPD/hw9VfIkNdRxMskd33V0cD75zLh3AXgUedS613DnMuHcBeBR5zLrXcOcy4dwF4FHnUutdw5zLh3AXgUecy4dw5zLh3AXgUecy4dw5zLh3AXgUecz4dw5zPh3AXgUecy4dw5zLh3AXgUedS613DnM+HcBeBR5zLh3DnMuHcBeBR5zPh3DnMuHcBeBR5zLh3DnUutdwF40tLZNWnUlKE7Z53ll083NOTvu1tK3SXOdS613DnMuHcBVxWyakpuVOq4Xm573o3Fr0appX6LaCGy66/676G9Wr+bZrTr087eraby1zmXDuHOZcO4Cr9lVl92vKN5ZpJSlbp679a9NtS9i8K6kWrqSzKWWS81pdDt0dPTqR85lw7jmtrbTrc6r044yVGUKUZ06UYRed2blq0+hBZNt3DZVaNksQ1D8kbpLrSd7pdXUS1sBXlyWXESioq097c+jf6HL25X0HFT27X5CEo7QqOq5NOnkjouh3y6/3N7sXaNTnVWk8XLEKFNOWaKWSea0lotSbW42Nn9lVm4yeIleLTSzSa0UlLf+a+/eldItYjByqThNqF0rNSu8juneHHT5dQ5zLh3DnMuHcVlX+yXyDpWprWD0jbNkabcr31dup+0+8Jsrk7WnqoRjdLpWknZ6apRXsJecy4dw5zLh3AU6OxZxyWqRjyc1OKjHpSS1b11imuu0nqyxU2dNzrSzqSqqKyyW7K5O3od0u8k5zLh3DnMuHcBHU2fOVGFPOoOm7xlFtfyNLdus5bupFeOyq8ZvLVai7u+eWj81LTc9E/Rcuc5lw7hzmXDuAh+zqsoxUqmsV97Vu+jT16U4x9OvWRy2ZXf/AF5RWu6c30aK7fQ9b73e25FrnMuHcOcy4dwED2ZWu2sRNavL50nZXTV03rpff1ny9mV8rtXkm9Es8rJa31fTu13lnnMuHcOcy4dwEOIwFebX8fLHJllFJ2bs9d+muX9esip7IqpW5eVluabT6bLToTf6a63Zb5zLh3DnMuHcBSrbJxEozi8RJxkstnKW7Lbo10eu/XpJ6eArxc/42ko5Vq/N03pdD9HWTc5lw7hzmXDuApVNn4lNZasm3J75vLBXjZavzrJSW7W92SfZNXzouvena0YNfdtfL6bNR7mWecy4dw5zLh3AVauyqzVliJX3ptyeWVkrpX111s93QZ5jiYwqWrOUnTcYpyfmy1s0+vcvZfpZZ5zLh3DnMuHcBUlsusruNVtylquUkla8ba73ZJq+9kktlzV3Cplct7V43dl5zUbXd8zs/wA3BE/OZcO4c5lw7gK0tm15NylWeZvcpSSSutE+j0oT2PJqH8WTytO0m3FWVrxXAs85lw7hzmXDuArQ2M1BRzRurrRPK04xju4uN36WfNPYjTk3JJSjZJbk7xa42WWyXHoLfOZcO4c5lw7gIcPshRmpSUGo1JVF5t3drfd677vuNoUecy4dw5zLh3AV6X3I+hfI02Nw2JljFWhH+HC1NLN96MovM7elrj5p0FGiskd/3V8j75FcQOSoYfH06cYRzJxp2XnRypKja3Xn5Tp3H3iae0FCUabnJ3bjJyhf7kNGtFbNm/ZnVciuI5FcQNFj9nSrYqlJ6U403d6Pzs0WrLrtfUoUpY6dJSjKUmqjhZWSlGHm5m3uu7y0vuOs5FcRyK4gcpDCY2nCapOSzSnLLeOl69/N4uDfT3G0oRxPIU1mXKKXnupHVwzPoi3ra3SbfkVxHIriBocRhZPGOc6MqsHGCptSS5JpvNdNrfdO6vusaelsXFKmoSUnF0bWzq8ZSqU3NXv1RbXtO25FcRyK4gcnDCY6nmScpPlt6a8+ChGMW23dbr7t99C/tGnUxWHpZIZW6kZNT6IpvWS0ura2N7yK4jkVxA4uvsjFOj5ikqkaDp2c01NuUsyWu6zTT6LIsT2bio1+UhmyutKbV1paDUJJN2/menoOs5FcRyK4gc/SWLWEakpOtmSTzK+W6u+HS7X9pBSp4+9NylK8eTTV42l581PN/py7jp+RXEciuIHNbNwuIy4iVaM89SjGN5SjdySne2XcrtWK32djKFBKi3yk1dqLSUHGKtpJ6tu93e3A67kVxHIriBzOLpY7LNwlUcpVJZUnG0IpPK0tL3dt79h84ihj3ncZ1E7SypOFrqnFx3rpnmOo5FcRyK4gcpiMNjqnKKTna6aUXFJpTi1ld9+W+lkfcqePc52lUim7L7mkc0bO9/vKObo6+B1HIriORXEDnds4GrN0eTjKq4Rt5+VwbutZq6aen3lxK9LC4ylGSgptSc3lUo+a3WunHp+427X7jquRXEciuIHLc1xs4rlJSdo0/N8y0pco8zfFRUXvFbnlOMpzqTyt3lrG6XKvSLto3C286nkVxHIriBq9j1Jzw1OVTNnabebfvdr+yxdJ+RXEciuIEB574XV3S2pGotXBU5Wva9td56TyK4mtx3g3hMRU5StTcp2Svma0XoA4tV6VKpLHrDx5vOKVGnraNXp1/wAuWT9qsS/+nz/j4i+ryL/cdbLwYwjpRouE3SjLMocpKyb6bXJdnbAw2FlKVCDg5Kz85u69pd7FgE/IriORXEggBPyK4jkVxAgBPyK4jkVxAgBPyK4jkVxAgBPyK4jkVxAgBPyK4jkVxAgBPyK4jkVxAgMFjkVxHIriByW0qeNjXquiqkoQfKRSbtPlEouP+l3lboJHVx1OU6cIykoQywvFtSSgvOz21le+jfsOp5FcRyK4gcrSq4zlqc3Go4NKM5cm01HO/wCVpa7ru27UuYxS57RcY10lrOazOm1ZpRsvN3u7b6jfciuI5FcQNe3VcqycYqGX+G03mbs73XRqaDCc7p0ouMcQv4cFPPeT5S/nOKlmdrb9LHX8iuI5FcQOcwOMxUq9GlUss1NVanmpOOji426Lys+8s4dzWOrXVZ03TiouSeRSTlfK925o3PIRvfpM8iuIEAJ+RXEciuIEAJ+RXEciuICj9yPqr5EhHR+5H1V8iQAAAAAAAAAAAAAAAAAAAAAAAAAAAAAAAAAAAAAAAAAAAAAAAAAAAAAAAAAAAAAAAAAAAAAAAAAAAAAA1dfanJOEMrdopy7uguLFx5JVZebFq55w/DvEvJejh24bm4S6rfmFTw6xUnFulh7R3Ryyt7VmA9Bp16jpzrNZY5W4wfDVN9JDDaE80E3TeaSVlGSer4nDz/8AUDFyTTpYdpqz82X1EEfDOsmmsPhrp3Xmz0/+YHoGL2tyc3BRvlfna71boNjTmpRUlezV9VZnmdTw8xMmnKjhnZ3XmS3+8SeULGdnh/dl9QHpQPNPKFjOzw/uy+oeULGdnh/dl9QHpYPNPKFjOzw/uy+oeULGdnh/dl9QHpYPNPKFjOzw/uy+oeULGdnh/dl9QHpYPNPKFjOzw/uy+oeULGdnh/dl9QHpYPNPKFjOzw/uy+oeULGdnh/dl9QHpYPNPKFjOzw/uy+oeULGdnh/dl9QHpYPNPKFjOzw/uy+oeULGdnh/dl9QHpYPNPKFjOzw/uy+oeULGdnh/dl9QHpYPNPKFjOzw/uy+oeULGdnh/dl9QHpYPNPKFjOzw/uy+oeULGdnh/dl9QHpYPNPKFjOzw/uy+oeULGdnh/dl9QHpYPNPKFjOzw/uy+oeULGdnh/dl9QHpYPNPKFjOzw/uy+oeULGdnh/dl9QHpYPNPKFjOzw/uy+oeULGdnh/dl9QHpYPNPKFjOzw/uy+oeULGdnh/dl9QHpYPNPKFjOzw/uy+oeULGdnh/dl9QHpYPNPKFjOzw/uy+oeULGdnh/dl9QHpYPNPKFjOzw/uy+oeULGdnh/dl9QHpYPNPKFjOzw/uy+oeULGdnh/dl9QHpYPNPKFjOzw/uy+oeULGdnh/dl9QHpYPNPKFjOzw/uy+oeULGdnh/dl9QHpYPNPKFjOzw/uy+oeULGdnh/dl9QHpYPNPKFjOzw/uy+oeULGdnh/dl9QHpYPNPKFjOzw/uy+oeULGdnh/dl9QHpYPNPKFjOzw/uy+oeULGdnh/dl9QHpYPNPKFjOzw/uy+oeULGdnh/dl9QHpYPNPKFjOzw/uy+oeULGdnh/dl9QHJgAAAAAAAAAAAAAAAAAAAAAAAAAAAAAAAAAAAAAAAAAAAAAAAAAAAAAAAAAAAAAAAAAAAAAAAAAAAAAAAAAAAAAAAAAAAAAAAAAAAAAAAAAAAAAAAAAAAAAAAAAAAAAAAAAAAAAAAAAAAAAAAAAAAAAAAAAAAAAAAAAAAAAAAAAAAAAAAAAAAAAAAAAAAAAAAAAAAAAAAAAAAAAAAAAAAAAAAAAAAAAAAAAAAAAAAAAAAAAAA//9k=\n"
              }
            ],
            "_view_module": "@jupyter-widgets/output",
            "_model_module_version": "1.0.0",
            "_view_count": null,
            "_view_module_version": "1.0.0",
            "layout": "IPY_MODEL_e8457c98ac1c43b59369aec7324e9acd",
            "_model_module": "@jupyter-widgets/output"
          }
        },
        "39158b3a89d943e3924a3dd07ddf69c7": {
          "model_module": "@jupyter-widgets/output",
          "model_name": "OutputModel",
          "state": {
            "_view_name": "OutputView",
            "msg_id": "",
            "_dom_classes": [],
            "_model_name": "OutputModel",
            "outputs": [
              {
                "output_type": "stream",
                "metadata": {
                  "tags": []
                },
                "text": "Video available at https://www.bilibili.com/video/BV1L44y1m7PP\n",
                "stream": "stdout"
              },
              {
                "output_type": "display_data",
                "metadata": {
                  "tags": []
                },
                "text/html": "\n        <iframe\n            width=\"854\"\n            height=\"480\"\n            src=\"https://player.bilibili.com/player.html?bvid=BV1L44y1m7PP&page=1?fs=1\"\n            frameborder=\"0\"\n            allowfullscreen\n        ></iframe>\n        ",
                "text/plain": "<__main__.BiliVideo at 0x7f3215868650>"
              }
            ],
            "_view_module": "@jupyter-widgets/output",
            "_model_module_version": "1.0.0",
            "_view_count": null,
            "_view_module_version": "1.0.0",
            "layout": "IPY_MODEL_336e2a234ed745949b11519eccdb7216",
            "_model_module": "@jupyter-widgets/output"
          }
        },
        "e8457c98ac1c43b59369aec7324e9acd": {
          "model_module": "@jupyter-widgets/base",
          "model_name": "LayoutModel",
          "state": {
            "_view_name": "LayoutView",
            "grid_template_rows": null,
            "right": null,
            "justify_content": null,
            "_view_module": "@jupyter-widgets/base",
            "overflow": null,
            "_model_module_version": "1.2.0",
            "_view_count": null,
            "flex_flow": null,
            "width": null,
            "min_width": null,
            "border": null,
            "align_items": null,
            "bottom": null,
            "_model_module": "@jupyter-widgets/base",
            "top": null,
            "grid_column": null,
            "overflow_y": null,
            "overflow_x": null,
            "grid_auto_flow": null,
            "grid_area": null,
            "grid_template_columns": null,
            "flex": null,
            "_model_name": "LayoutModel",
            "justify_items": null,
            "grid_row": null,
            "max_height": null,
            "align_content": null,
            "visibility": null,
            "align_self": null,
            "height": null,
            "min_height": null,
            "padding": null,
            "grid_auto_rows": null,
            "grid_gap": null,
            "max_width": null,
            "order": null,
            "_view_module_version": "1.2.0",
            "grid_template_areas": null,
            "object_position": null,
            "object_fit": null,
            "grid_auto_columns": null,
            "margin": null,
            "display": null,
            "left": null
          }
        },
        "336e2a234ed745949b11519eccdb7216": {
          "model_module": "@jupyter-widgets/base",
          "model_name": "LayoutModel",
          "state": {
            "_view_name": "LayoutView",
            "grid_template_rows": null,
            "right": null,
            "justify_content": null,
            "_view_module": "@jupyter-widgets/base",
            "overflow": null,
            "_model_module_version": "1.2.0",
            "_view_count": null,
            "flex_flow": null,
            "width": null,
            "min_width": null,
            "border": null,
            "align_items": null,
            "bottom": null,
            "_model_module": "@jupyter-widgets/base",
            "top": null,
            "grid_column": null,
            "overflow_y": null,
            "overflow_x": null,
            "grid_auto_flow": null,
            "grid_area": null,
            "grid_template_columns": null,
            "flex": null,
            "_model_name": "LayoutModel",
            "justify_items": null,
            "grid_row": null,
            "max_height": null,
            "align_content": null,
            "visibility": null,
            "align_self": null,
            "height": null,
            "min_height": null,
            "padding": null,
            "grid_auto_rows": null,
            "grid_gap": null,
            "max_width": null,
            "order": null,
            "_view_module_version": "1.2.0",
            "grid_template_areas": null,
            "object_position": null,
            "object_fit": null,
            "grid_auto_columns": null,
            "margin": null,
            "display": null,
            "left": null
          }
        },
        "b8f196e83bfc483894d4d7373980f5a8": {
          "model_module": "@jupyter-widgets/controls",
          "model_name": "HBoxModel",
          "state": {
            "_view_name": "HBoxView",
            "_dom_classes": [],
            "_model_name": "HBoxModel",
            "_view_module": "@jupyter-widgets/controls",
            "_model_module_version": "1.5.0",
            "_view_count": null,
            "_view_module_version": "1.5.0",
            "box_style": "",
            "layout": "IPY_MODEL_83291a369b424727a8d7c4bc745828c7",
            "_model_module": "@jupyter-widgets/controls",
            "children": [
              "IPY_MODEL_d4def3fb221d4d9ab977005073a9861f",
              "IPY_MODEL_97a8520f95e54d58845860426c7b3ce8"
            ]
          }
        },
        "83291a369b424727a8d7c4bc745828c7": {
          "model_module": "@jupyter-widgets/base",
          "model_name": "LayoutModel",
          "state": {
            "_view_name": "LayoutView",
            "grid_template_rows": null,
            "right": null,
            "justify_content": null,
            "_view_module": "@jupyter-widgets/base",
            "overflow": null,
            "_model_module_version": "1.2.0",
            "_view_count": null,
            "flex_flow": null,
            "width": null,
            "min_width": null,
            "border": null,
            "align_items": null,
            "bottom": null,
            "_model_module": "@jupyter-widgets/base",
            "top": null,
            "grid_column": null,
            "overflow_y": null,
            "overflow_x": null,
            "grid_auto_flow": null,
            "grid_area": null,
            "grid_template_columns": null,
            "flex": null,
            "_model_name": "LayoutModel",
            "justify_items": null,
            "grid_row": null,
            "max_height": null,
            "align_content": null,
            "visibility": null,
            "align_self": null,
            "height": null,
            "min_height": null,
            "padding": null,
            "grid_auto_rows": null,
            "grid_gap": null,
            "max_width": null,
            "order": null,
            "_view_module_version": "1.2.0",
            "grid_template_areas": null,
            "object_position": null,
            "object_fit": null,
            "grid_auto_columns": null,
            "margin": null,
            "display": null,
            "left": null
          }
        },
        "d4def3fb221d4d9ab977005073a9861f": {
          "model_module": "@jupyter-widgets/controls",
          "model_name": "FloatProgressModel",
          "state": {
            "_view_name": "ProgressView",
            "style": "IPY_MODEL_bf73da6efbf54a1e9d31ce9a85c10402",
            "_dom_classes": [],
            "description": "100%",
            "_model_name": "FloatProgressModel",
            "bar_style": "success",
            "max": 1000,
            "_view_module": "@jupyter-widgets/controls",
            "_model_module_version": "1.5.0",
            "value": 1000,
            "_view_count": null,
            "_view_module_version": "1.5.0",
            "orientation": "horizontal",
            "min": 0,
            "description_tooltip": null,
            "_model_module": "@jupyter-widgets/controls",
            "layout": "IPY_MODEL_ad2279da924c470493693a8320c5b414"
          }
        },
        "97a8520f95e54d58845860426c7b3ce8": {
          "model_module": "@jupyter-widgets/controls",
          "model_name": "HTMLModel",
          "state": {
            "_view_name": "HTMLView",
            "style": "IPY_MODEL_72b2dde2941d4ad1b71322eba618cc08",
            "_dom_classes": [],
            "description": "",
            "_model_name": "HTMLModel",
            "placeholder": "​",
            "_view_module": "@jupyter-widgets/controls",
            "_model_module_version": "1.5.0",
            "value": " 1000/1000 [04:32&lt;00:00,  3.67it/s]",
            "_view_count": null,
            "_view_module_version": "1.5.0",
            "description_tooltip": null,
            "_model_module": "@jupyter-widgets/controls",
            "layout": "IPY_MODEL_236b2367317b4af2965b8b78ec941a7b"
          }
        },
        "bf73da6efbf54a1e9d31ce9a85c10402": {
          "model_module": "@jupyter-widgets/controls",
          "model_name": "ProgressStyleModel",
          "state": {
            "_view_name": "StyleView",
            "_model_name": "ProgressStyleModel",
            "description_width": "initial",
            "_view_module": "@jupyter-widgets/base",
            "_model_module_version": "1.5.0",
            "_view_count": null,
            "_view_module_version": "1.2.0",
            "bar_color": null,
            "_model_module": "@jupyter-widgets/controls"
          }
        },
        "ad2279da924c470493693a8320c5b414": {
          "model_module": "@jupyter-widgets/base",
          "model_name": "LayoutModel",
          "state": {
            "_view_name": "LayoutView",
            "grid_template_rows": null,
            "right": null,
            "justify_content": null,
            "_view_module": "@jupyter-widgets/base",
            "overflow": null,
            "_model_module_version": "1.2.0",
            "_view_count": null,
            "flex_flow": null,
            "width": null,
            "min_width": null,
            "border": null,
            "align_items": null,
            "bottom": null,
            "_model_module": "@jupyter-widgets/base",
            "top": null,
            "grid_column": null,
            "overflow_y": null,
            "overflow_x": null,
            "grid_auto_flow": null,
            "grid_area": null,
            "grid_template_columns": null,
            "flex": null,
            "_model_name": "LayoutModel",
            "justify_items": null,
            "grid_row": null,
            "max_height": null,
            "align_content": null,
            "visibility": null,
            "align_self": null,
            "height": null,
            "min_height": null,
            "padding": null,
            "grid_auto_rows": null,
            "grid_gap": null,
            "max_width": null,
            "order": null,
            "_view_module_version": "1.2.0",
            "grid_template_areas": null,
            "object_position": null,
            "object_fit": null,
            "grid_auto_columns": null,
            "margin": null,
            "display": null,
            "left": null
          }
        },
        "72b2dde2941d4ad1b71322eba618cc08": {
          "model_module": "@jupyter-widgets/controls",
          "model_name": "DescriptionStyleModel",
          "state": {
            "_view_name": "StyleView",
            "_model_name": "DescriptionStyleModel",
            "description_width": "",
            "_view_module": "@jupyter-widgets/base",
            "_model_module_version": "1.5.0",
            "_view_count": null,
            "_view_module_version": "1.2.0",
            "_model_module": "@jupyter-widgets/controls"
          }
        },
        "236b2367317b4af2965b8b78ec941a7b": {
          "model_module": "@jupyter-widgets/base",
          "model_name": "LayoutModel",
          "state": {
            "_view_name": "LayoutView",
            "grid_template_rows": null,
            "right": null,
            "justify_content": null,
            "_view_module": "@jupyter-widgets/base",
            "overflow": null,
            "_model_module_version": "1.2.0",
            "_view_count": null,
            "flex_flow": null,
            "width": null,
            "min_width": null,
            "border": null,
            "align_items": null,
            "bottom": null,
            "_model_module": "@jupyter-widgets/base",
            "top": null,
            "grid_column": null,
            "overflow_y": null,
            "overflow_x": null,
            "grid_auto_flow": null,
            "grid_area": null,
            "grid_template_columns": null,
            "flex": null,
            "_model_name": "LayoutModel",
            "justify_items": null,
            "grid_row": null,
            "max_height": null,
            "align_content": null,
            "visibility": null,
            "align_self": null,
            "height": null,
            "min_height": null,
            "padding": null,
            "grid_auto_rows": null,
            "grid_gap": null,
            "max_width": null,
            "order": null,
            "_view_module_version": "1.2.0",
            "grid_template_areas": null,
            "object_position": null,
            "object_fit": null,
            "grid_auto_columns": null,
            "margin": null,
            "display": null,
            "left": null
          }
        },
        "aa5f81cd564d488087e7f54bae082f02": {
          "model_module": "@jupyter-widgets/controls",
          "model_name": "TabModel",
          "state": {
            "_view_name": "TabView",
            "_dom_classes": [],
            "_titles": {
              "0": "Youtube",
              "1": "Bilibili"
            },
            "_model_name": "TabModel",
            "_view_module": "@jupyter-widgets/controls",
            "selected_index": 0,
            "_model_module_version": "1.5.0",
            "_view_count": null,
            "_view_module_version": "1.5.0",
            "box_style": "",
            "layout": "IPY_MODEL_008b897ad6b54bc091ac11dabc922b02",
            "_model_module": "@jupyter-widgets/controls",
            "children": [
              "IPY_MODEL_b80207805ff748b4abbd27891de2b1d0",
              "IPY_MODEL_e30950b4aab843df92b43d3ecaa56d36"
            ]
          }
        },
        "008b897ad6b54bc091ac11dabc922b02": {
          "model_module": "@jupyter-widgets/base",
          "model_name": "LayoutModel",
          "state": {
            "_view_name": "LayoutView",
            "grid_template_rows": null,
            "right": null,
            "justify_content": null,
            "_view_module": "@jupyter-widgets/base",
            "overflow": null,
            "_model_module_version": "1.2.0",
            "_view_count": null,
            "flex_flow": null,
            "width": null,
            "min_width": null,
            "border": null,
            "align_items": null,
            "bottom": null,
            "_model_module": "@jupyter-widgets/base",
            "top": null,
            "grid_column": null,
            "overflow_y": null,
            "overflow_x": null,
            "grid_auto_flow": null,
            "grid_area": null,
            "grid_template_columns": null,
            "flex": null,
            "_model_name": "LayoutModel",
            "justify_items": null,
            "grid_row": null,
            "max_height": null,
            "align_content": null,
            "visibility": null,
            "align_self": null,
            "height": null,
            "min_height": null,
            "padding": null,
            "grid_auto_rows": null,
            "grid_gap": null,
            "max_width": null,
            "order": null,
            "_view_module_version": "1.2.0",
            "grid_template_areas": null,
            "object_position": null,
            "object_fit": null,
            "grid_auto_columns": null,
            "margin": null,
            "display": null,
            "left": null
          }
        },
        "b80207805ff748b4abbd27891de2b1d0": {
          "model_module": "@jupyter-widgets/output",
          "model_name": "OutputModel",
          "state": {
            "_view_name": "OutputView",
            "msg_id": "",
            "_dom_classes": [],
            "_model_name": "OutputModel",
            "outputs": [
              {
                "output_type": "stream",
                "metadata": {
                  "tags": []
                },
                "text": "Video available at https://youtube.com/watch?v=as6C334LmRs\n",
                "stream": "stdout"
              },
              {
                "output_type": "display_data",
                "metadata": {
                  "tags": []
                },
                "text/html": "\n        <iframe\n            width=\"854\"\n            height=\"480\"\n            src=\"https://www.youtube.com/embed/as6C334LmRs?fs=1&rel=0\"\n            frameborder=\"0\"\n            allowfullscreen\n        ></iframe>\n        ",
                "text/plain": "<IPython.lib.display.YouTubeVideo at 0x7f320dac4810>",
                "image/jpeg": "/9j/4AAQSkZJRgABAQAAAQABAAD/2wCEABALDBoYFhsaGRodHRsfITMlIiIiHzIuLykzMi0yOzItNSs3QVBCNThLPS0wRWFRS1NWXV1bMkFlbWRYbVBZW1cBERISGRYZLxobL1c3MDZbV1dXV1dXV1dXV1dXV1dXV1dXV1dXV1dXV1dXV1dXV1ddY11XV1dXV11dXVdXV11dV//AABEIAWgB4AMBIgACEQEDEQH/xAAbAAEAAgMBAQAAAAAAAAAAAAAAAwQBBQYCB//EAEYQAAIBAgQCBQkGBAUCBgMAAAECAAMRBBIhMQUTIkFRU2EUF3GBkZKhsdIGFjIzcpMVI1LBQmKC0eE08CRjc6Ky8QdD4v/EABgBAQADAQAAAAAAAAAAAAAAAAABAgME/8QAHxEBAQACAgIDAQAAAAAAAAAAAAECERIhMUEDE1Ey/9oADAMBAAIRAxEAPwD5/ERAREQEREBERAREQEREBERAREQEREBERAREQEREBERAREQEREBERAREQEREBERAREQEREBERAREQEREBERAREQEREBERAREQEREBERAREQEREBERAREQEREBERAREQEREBERAREQEREBERAREQEREBERAREQEREBERAREQEREBERAREQEREBERAREQEREBERAREQEREBE6RfsLxAgEU0sRf8xZn7h8Q7tP3Fgc1E6X7h8Q7tP3Fj7h8Q7tP3Fgc1E6X7h8Q7tP3Fj7h8Q7tP3Fgc1E6X7h8Q7tP3Fj7h8Q7tP3Fgc1E6X7h8Q7tP3Fj7h8Q7tP3Fgc1E6X7h8Q7tP3Fj7h8Q7tP3Fgc1E6X7h8Q7tP3Fj7h8Q7tP3Fgc1E6X7h8Q7tP3Fj7h8Q7tP3Fgc1E6X7h8Q7tP3Fj7h8Q7tP3Fgc1E6X7h8Q7tP3Fj7h8Q7tP3Fgc1E6X7h8Q7tP3Fj7h8Q7tP3Fgc1E6X7h8Q7tP3Fj7h8Q7tP3Fgc1E6X7h8Q7tP3Fj7h8Q7tP3Fgc1E6X7h8Q7tP3Fj7h8Q7tP3Fgc1E6X7h8Q7tP3Fj7h8Q7tP3Fgc1E6X7h8Q7tP3Fj7h8Q7tP3Fgc1E6X7h8Q7tP3Fj7h8Q7tP3Fgc1E6X7h8Q7tP3Fj7h8Q7tP3Fgc1E6X7h8Q7tP3Fj7h8Q7tP3Fgc1E6X7h8Q7tP3Fj7h8Q7tP3Fgc1E6X7h8Q7tP3Fj7h8Q7tP3Fgc1E6X7h8Q7tP3Fj7h8Q7tP3Fgc1E6X7h8Q7tP3Fj7h8Q7tP3Fgc1E6X7h8Q7tP3Fj7h8Q7tP3Fgc1E6X7h8Q7tP3Fj7h8Q7tP3Fgc1E6Gr9i8ZTtzBTS+13vf2XkL/AGXrru9L2t/tItkGkibtfsvXP+Ol7W/2nsfZLE/1Uveb/aRyidNDE3/3QxP9VL3m+mZ+5+J/qpe830xyhpz8Tf8A3QxP9VL3m+mZH2QxJNs9H3m+mTyiNOfidSv2BxZF89D3m+mZ+4OM/roe830y3GqfZj+vqOH/AC0/SPlJJHh/y0/SPlJJC5ERAREQEREBERAREQEREBERAREQEREBERAREQEREBERAREQEREBERAREQEREBERAREQEREBERAREQEREDT/AGh/DT9J/tNFjBYf6h8xN79ofw0/Sf7TR8QXo/61/wDkJjn5WjxRv5RbqIm8pUU2LATSUR/4j/vsmzdumZUbOnhKZ/xCSHC0x1zna/2jwtE5WqXYbhBmt6baCYpfanD1DlGdSfwl1sCey/8AvLDoDhKZ2YSjjKAR1sQbg/2lV8ZUGhFjPCVizAnqEieR0KLoPRM2kaVhYazBxCXAzC52F9TOzVcPSzh/y0/SPlJJHh/y0/SPlJJk7CJDisVTo02qVWCIouWPVKFDj9F3RMtZOYbIXosoY9gJHzgbWJiZgImJDUxIWqlMhyXBIIUlRbtbYQJ4lXiOOXD0jVcMVBAsu+pA6/TLUBExMwESBsUgqrRJ/mMpcCx2BAJv6xGHxIqFwAwyNlOZSLntF9x4wJ4iICIiAiIgIiICIiAiIgIiICIiAiIgIiICIiAiIgIiICIiAiIgIiICIiAiIgab7R/hp+v+05/jHEkQAtcnOuw7CD/ab77Sno0/X/afPvtKzl0CXO5IGvZM8purRu8Nxag1Q1c2Vf8ANoduyavjX2idiy02y3OttbD9QO8500KmpZXHaSpno3Z7Wvr8o4yJXOG8NOJLAPa2+k3+D+z9RAQ1QZSNgOvtmeGV1pqAKLKvWQB7TbWbh8YoHW2mgUXMzuVbTGaV8NxAmpUoVyWqBbo7btbcHxliqwVLsbAggn1Cc9xXGAYmi4BUi5IO5/7vL/EOIgLTya3uTp4CN+2VmrpHXa6jJWrAXsQWI/5kHC6FMlrs+5BXNa46ttZBUqo6rdiGdrHTaVsUxo4gDm5gEGo6r9UbtRxj61h/y0/SPlJJHh/y0/SPlJJ0KNF9prZsEH/KOKXP2bHLfwzWm4xL5abNa+UEgHtGonjG4OniKTUqq5kbcfIg9RlKhwJFdGaviKoQ3RalUlQRtoLX9d4Gkak68NXiHPrHE5BVJ5jZTci6ZL5cuttpbp4LyrFY0VKtcKjJlRarKFJpg30/+pcX7N0RZc9bkq2YUM/8sG9xpva/Ve02FDBJTqVqi3zViC1z2LYW9UDl0bEVsNgqtRa9ejyiKq0amVywNgxsQWFgeveWMPjV5mDNCpWemErkrUZs11t0WB3IOgvNmOAoqU1pVq9LlrlBSpuLk6ggg6k62kuG4LRpGkVDXpZ7Xa98/wCItfcmBzWLwWfha4upVqvWqZHb+a2XpOvRyXy2F+zqlqu9TE4rFA0cTVWk/LQUa4phOiDcjOpLEnxG02B+y1Ark5lflA5lpc3oKb30H9jeWcVwVHqmslStRqMAHNJ7ZrbXBBF/HeBpqVLE1a2Do4irWpMcPU5gRwC2V1AJIuLkWNxrvM4+ktSpWWiuLqNRUI1QYooqMEFrdLVtidDqZvMPwmnTem4LlqaMgLOWJDEEkk6k3EgxHAKT1Kj8ysgq/mIlTKrm1rnrGnYRA0mEoeVYjBPVermqYIsxSqy6gptY6Xub9s91sVVvWoiq6irxAUc2Y3RDTBIU9V7W9c3D8ApFKCo9Wm1BMiOj2bKbXBNrHYSSpwOgyVUYMRVqCoTmsQwAAZSNj0RA1mIpnB4kUqVSoadahVJV6jNlZACGBYkje0p06DUsLgcWK9dqrvRDZqrEFXIBXLtax9PXN9h+C00Z3d6tWoyGnnqNchTuBYAD2SRuE0jQpUOlkpFCuuvQIK3PqgaDE3o16r40YtRzb069OqeWqXGUFQej43E62aqrwCm5OerXakzZjRNS6E3v2XtfqvabWBmIiAiIgIiICIiAiIgIiICIiAiIgIiICIiAiIgIiICIiAiIgIiICIiBo/tMejS/1f2nzPjLHyp9TawO/hPpP2qawpf6vkJ8041/1TfpEzv9LRWDEC9zLPCaWaoGzDRrWvrtf2Snftk/DWyYhD1Xt7RHpf26rlIFLbHq1NvZtLIpowXp9Q/CdR/3/aVK9VlChctjuT1eyTYes7NlIQi2pW+ntExtb8Y1P2nwpHLZW0Jy6nW41v8AGUVzZQCxNh2yXjNTPiTa5VBlHp67f99Urg6bMZNvUjLXdegx7T8Z6IJ31kYJ2sZ6Fx1GUqX2LD/lp+kfKSSPD/lp+kfKSTsc7EzEQEREDEzEQMRMxAxEzMQETMxAzMTMQMTMxMwEREBERAREQEREBERAREQEREBERAREQEREBERAREQEREBERAREQEREDnftcdKP+r5CcXX4Qa1Y1GbKmUAW3P8AtPpPEOG08Tl5mboXtY23lYfZ6h21PeH+0pxu9p304Snwigh/CWt1sb/DaRDA5SCbk3vO/P2dodr+8P8AaeT9msP21PeH+0rnjlfC+GUnlxtNyulswmwoXYfhCjwnR/dvD/8Ame9/xJU4FRXYv7f+JS/Hlpp9scpVwFNx0kHZfY+0Ss/AEJOV2U+NjO1/glGxHT18f+JleDUh1v7f+JeYddsrl30+a8Q4dUw9i9ip0DDb19kpioLakXn1WvwSjURkbMVI11/4mtP2Iwh663vj/aVvxLTP9dBh/wAtP0j5SSR4f8tP0j5SSbsmIvEoYnhS1MTTxBdgaYsFGx3/AN4F+a/jFaqiUuSbO1QDbcZWNvXabGV8VhuYaRvbl1M+2/RYW+MDXpxJquJo8s/yWuCLfibIW+Gg9N5KOMKGZai5LIX0dW0XcEDYyWvw5WNPJZApckKOt1IJ9NzeVE4KSoSoyZBTanZEyk5gBmJvvpA94zHVRTVuU9PppbpKSwLC676H/u8kbiBPRZXputVFIBU/i217PjPTYOs6qtSohCsrDKhF8rA669dpmtw4tUZ82702tb+jq9cDxS4rmKk0mFNqhphyRuCRtva4ijxdWZBl6DtlVswuTruu4BtPScOIpomb8NU1L23u7Nb/AN084ThrUioBpGmpuCafTt2Zr/GBnjJqJRqVadVkKITlAUgkdtxeHrvQKqeZXapfKOiLWHqFpZx+G51GpSBy51Ivba8VcPmq0nv+DNpbe4tAr1eJ5Kio9OwZgoOdSddjlve155TityCaTBDVNLPcfizFRpe9riRnhL52s6ZTWFW+TpnpBspa+2lpMOHHlqmbavzb2/8AMLW+NoFfEcTZ8NWemhVQjlXzC4Kg7ruNpPieJ8ogOnR0GbOtze2oW9yNZXq8GZy5ZqalkZMyU7FswtdtdbT1W4Q7GpZ0C1GDElLtpbS99tIGG4hUtXzKyqlUKGUrcarYWO+/xlhuKAEnltylflmpcb3te29r6Xnitw125qh1CVHD6qbggr1326PxhuGuc1MOvJapzCMvS1bMVve1iYHocV6WtJgnN5We43zWGm9ryxjcXygnQLl3CAAjcgnr9EhPDjy8mb/9/Nvb/Pmt/aT4rD8w0je2SoH23sCLfGBUTixv0qLqBUFNzmXosTYekaj2z2vFLkHlsKTPkFS43va9t7E6XmW4cSrjN+KsKu21ipt/7ZGvDH6NM1FNFamcDL0vxZgpN7WB8OqBG/EXdqBRGWk1WwckdIWbq3ANp7XjCvay2V7hGzAm9iRddxe2kxS4ZUHKQ1FNKk+ZRk6RFjoTfqvM4bhj07IGpZF0B5fTt1DNf4wJuHYh2p0Mys2eiGap1XsND4m/wnrGYnl1E1a2R2IFrHKAdeuZwuGemKS5wUSnkIy7kWs1+rY6eMxjcGarA5rWR12/qFr/AAgQpxcAXqU2pqaZqKSQbgWvoNjqJl+JMihnw7gMVCgMpJzG1rX0MV+FioqKzaLSambDU5gBcdm0ycHWcIKlRCEdWGVCL5TfXXrgeKvFstwaRzIuZ1LqCt+oa9I2F9JmvxYIVJToNls2dbkNaxCXvbWZr8PY1WqUzT6YGYVKeaxHWNR1SCpwdyXAenZ2ViTT6XRy6A30HR9UCzT4lmZ7IeWjMrPmGmW9yV3tpMYXigqOqlMucEocwN7a2IGxtI6vCjUq53NO3SuUTK7AgjKzX1Fj8JJgsE9Mrc0iqi1xTsx7Lm/ygMbjuS7E5iFpZ8otY9K3pvJcNjC9Rqb02psFDAEg3BJHV16SPH8PNYuQ1s1LJt/mveTjD/zzVvugS1vEm8CniqtV6tVUqGmKVMMLAHMxudbjbTql3DVjUoo4sCyBhftIlfFYF2d2pOq8xMj3W+17Ea76mTUcO6aK45YQKildiOsnr6vZAj4XWd0fmEFhUZdBYaHqlLiGMZa9Rea9NVpqyhKea5Ja99D2Dsl7h+FqUs4d0YMxboqRqTc7k6TxWwlXnNUpVEXMgUhkJ2J1Go7YEfDsXUqVAHIP8hHIW1sxJvY+qV6uLbn11NaqgVgFFOlmFiinU5T1mT0eGVKTA0aii1MIc6E3sSb6Eds9rg66PUdKtMcwgkGmTqFA06W2kD1ha7nym5vy3KrpsMin5kz1hcV/4RK1QknlB2IG/RudJHUwNUNV5VRFFXVsyEkGwBK69gG8tJQyURTQ2yplUkX2FhcdcCr/ABM5AxpHpkCmFdTmJ6r30ta5no498wTktzTc5cwtYW6Wbs1tKycGYEuGpo+ZWUU0sgK31K31uGIlg4StnWrzKfNAK2yHLlNtN73BF7+MDCcVzFFSk7MwJIuBlytlINz1GYp8XVmUBeg7ZVbML31scu4BtPeD4dynV8+Y5WDaWuWbMT4SPC8NakVCmkaatcE0+na+2a/xgXamIC1KdOxu97HssJUPFQSFWmSxZ1ALAfgaxNz8pNjMM7tTemyq6E/iFwQRY7GVG4U/LyFqVS7Mx5lK+rG9xroReB7qcSyM5K1Cf5Y5fR0LkiwPb656/ilgwakwqhgoS4NywuLHa1gfZPC8IIt/Mvblakanlm/xjH4OzPWzMDmRly0yxBUEaqNSCGMC1hMWahqKyFGpkAgkHcX0I9MtTW8IV71qj36bixKZbgKBfKdQPTNlAREQETEzAxMxECPD/lp+kfKSSPD/AJafpHykkBERATBMzNdxaiHOHVlzLztR4ZH38IF/MLXuLdt5kEds52vRKllAC0FxBuDTLKAaa2JUEaZifC89YYpRelUz3pZqgzCmVVSwSwA10uD6zA6C47ZgML2uL9k0GFw61XoB0JQmubMCN6i2uP8AeeEYNiKbBUSoMQQyLSIYDpas/Xff1wN9hcQKqBwCASRr4Ej+0kDA7EaeMo8KuuG2Nwzm3b02mlo2JDIEBajUzrTpFQvR/CT1m8DqSw3uJCMUpqNT2KqrX6ukTb5TUPhqdMYYun8kqTUuCRmyjKW+O8LhKNSpVK0waYoDJddBrUvYGBtq2MWmTnDAAqL20JY2AHrk2YaajXbWc3UpFqRZ1LWp4djdb7N0vhe8ziUps9S7U0psoFEmiW6NtchBFjmue3aB0hYbXEjw+IWooZTcHb22/tNPSWjzagxK5qjMvLLITdcq2y9mt7yDD8umlE5QrU6386y2IFqgBPhqPbA6O8xmGmo121mgFNa1QXUmm2LJ1BFxyTr6LyPE0AKlZHZaeo5d6JZsoUZcjA6WI2A3gdITMZxa9xbtvKPGEVqIDOFGYG5Qspt1MOyanflMy06dEZxflFqZa4s2W4tcXtfx7YHSFgNyBfxmbzmaqplWmxQqKZyO1Aktdm6CA7W07eqWcFhi5LFb1Fw9MoW6mytr6bwNvicStNSx1sQCBvqQP7yYEHY3nOMlA4YKifzsqh+ic341zZj6ZssHQWniqyouVDTQ2AsL3cE+m1oFjFcQpUmVXdVLdpGgsdT2DS09PjaYqpSv03vYDwF7n2TU8Ufl189JjzCdabUyQxCNa3pvbeWcbiFGIw2bQqWLCxNroQNfTAstxBeY1MU6rFCAxVbgXAO9+wzDcTQVClnsGCF8vRDH/Df1iUcayLVY0XqDENUW6C9m/CDcWtbL1yOoehUw9jzWxGYCx1UuGzX7LfKBuMViVpKC1zchVAFySeoCQfxNMgaz5i+TJbpZrXtb0a9lpBjsQrNTqC5SjXs5tt0WBPiASJUDWrDE68nygnNY7crLm9F+uBsv4mmVSFcszFQgXpXXcEdVpZw2IWqgdb2PaLEEGxBHbeaSi4SsMQ1xRarUsxB0BVQCewEofaJseEqeUzWIz1HZbjqLG2nxgXri9r69kwGB2I9s52mqeTFVQ+WZDn6Jz3/x6+OtvVGLWmwq+TL/AC+QQ+VSAWzLlH6gM0Dos47Rvbf4QWA6xNFiuH0w2KApCww4KgDTNZ9R/m0HjIK4pHykVFzViiCn0SWvyxax6jeB0t5HSxCuzqDqhs3psD/eaLGVMlPGU3zcx1BUBSc38tQSLeIMYqkA2LCpaszBlsmpSy57dv8AigdCrA7EH0QWHaNZqeEInMdkdCCoBWnSKKLHQm5Os8kUhiK3lC3cuvKJUno5RbL/AKr3gbjML2uL9kir4lKaM7HRRc21t6po6Cr/ACQFPlYq3qHKc1rnMSf6SNvVK3JXlVKaIla1JjzBTIcWINnvux9ukDpTiVFRaeuZlLDssLX19Yk01lBaRq0WpZQgRwAqkDUrfqt1TZwERMQMxEQMTMRAxMxEBERAxMzEzAREQI8P+Wn6R8pJI8P+Wn6R8pJAREQERMQMxEQEREBETEDMRMQMxEQETEzARMRAzExMwERKON4jyWykKejm1exOtrAW1MC9EqtxCkCQWOm/RPUQCBprqRtPL8RpgC1ySQLZTpdsuummt9+yBZemCVJ3U3HsI+RM9yoOJUupidQBZG1ve1tNRodZ7q4ymjZWOunUevbXxtAsRKwxqcpKhzAMLgZSTtfYTHloyVHAuFNh/muAR7cwgTUaK01yqLC5PrJuT7TJJRq44o2VqepHR6W/SCi/YCW0g48gAmnpmyN0uvNlsvb29WkC9EqDG/juhASoEN+w26VuzpTL41VqGm1wQF1sSOlew0Gm0C1EoUeK02AJDi4FhkJvdc3UOyTU8dTYkKS1hfRSR1ddvEQLEjp0VVnYbuQW17Bb5CQnHKGsRpci41vYhdh2kkeqMLjhUDGxAUX17LsNv9MC3Eq/xCl2te+2Rr6AE6WvaxHtmBxGle12ve34Gtvbe1rX0gW4kFTForZWOunUbC+1zsLyNOI0my2LdK1ug3Xt1aXgW4lH+KJ0b3FzqbGwFiwJNrbC9vGem4glja5IUmxBB0tYWI67iBciU2xxBdchzAqoubZix38BpMtjbUGq5GOUG6je6kg6+kGBbmJXOMAdlYFQqZ8x29Ug/if4OhlzZr5jbLZsutgdYGwiUmx1mHQ6JfIDm1JvbQeo+rtmG4kuWqwUkIbL/n0vp4b+y+0C9EqHGEOgKaNsb6no3vl7Or0yCrxYKisUIuWFiwB6Jtb9R7PjA2USnQxweq1O1st9b/0kDUdV76THl9mqKy2KgEAEEm5IAt1E/wB4F2JSXiAJpDKb1FzH/L0SRf2H2SJeK3UHILnqL2sMt9bjfsgbGZlIY4ki1MkMuZOkLnQG9uoa73k+Fr8xSbWsxU2Nxp2HrgTREQI8P+Wn6R8pJI8P+Wn6R8pJARMRAzESrjsWaWQKuZ6jZVBNhexOp9AgWolRcWUQtiAtKzWHTuGvtbQH1SFuMUhUALryymYNfchiCLeFoGxiVzjaWVm5i5VUMxvoAdj6DM1cZTS+ZwLWJ9e3tsYE8Sr/ABGjkDmqgUki5NtQLkeB0kNHjFFy4zABTYH+oWBuPbb1QNhEhw+Kp1b8tg2U2NuqeDjqQfIai5r2t42vb0+ECzEqcP4gmIUldwTcesgH12vPTY+iKnLNRQ97W8ey/bAsxK+CxBqKxItZ2X3TaSUqyvmysDlbK1uojcQJIkBxVPfOv48m/wDi/p9Mr4jiaU6qqWXKcwY32IANvTrAvTMgo4unUtkdWuuYWO4va/tnunWV1zKwK9o20gSStiMGKhJLMLrlYAjUdm3j1SBOK03rKiMrKUZma+2XLb1anXwljDY2lVuKbhiBfTsOx9ECIcMphiRcXN7aaG4O9r7jrMy3D0LEgsLm7WI1sxYA6dRJ9smqYqmufM4GQAvc7A7EzFTF01zZnUZQCbnYHb22MCGhw2nTIK36JBUaaWBAGg13O+s91MCjVOYb30vtrbbquPURJaGISoLowYA2Pgewjqkfl1LmcvmLnva1+vs9PhA8VOHq1NKZLWTbbstrpbb1zPkQFJkUkXsQTrYgCx/9omV4jQZ8gqqXJta/WNx6dJjA40VRY2D3bo+AYrf4QMeQAlyXfpm5FxoQbixtfS2kwvDwGVg73F/6dSTcnUaE+FtJYXEIafMDApa+bqsOuQ/xKhlzCqpF8uhvra9tNzaB6q4UNmsbZ2Vm9VtB6QoE9PhlZixvclT7puPnI34lQUKTVWzC66723tM1OI0VVWNRbMLqb3uO3TqgQ/wyxTJUdQtuy+ilR1dh+Ekp8ORGDKWBC5RtoNOu1zt1z3V4hRQgNVQEgEa7g7Edu088Px6YimHXsuR2X6oGfIVtoWB0s19QQSb+0mYTAKFKhnsws2up/F1/6jMfxGmoJqOi9NlHSvfL/fwns8QohFfmLlbRTffwAgRJwxF1VnU63K2GhABGgsPwjbsknkKePt/z5vnC8RokqoqoS1sovqb7W9kJxGi17VFNgWOvUNyO0eiAfAqxuWY3sWFxZipupOnV4dgkFXhpLKFbKgC311OXb17f8ydOI0WVmFRbILtc2tfbeBxCjlz8wZQcvr7Lb3geanDabHXNlO6A6Ho5b9u2m8Dh65gzM7Ne5JI12sDYf5RPTcRohVY1Fs17eNt9PCe6+IC0jUUqQFzAlrAj09kDFXCqxY3IJy6jqKnQj2wMIvLandsrKQde29z6TeeH4jRVsjVVDXAIvsTa3o3EnrVlpqWchVG5MDy+FRjdhfo5bHa17yH+HIFygsq3N1B0a5uQf+J7HEKJQvzFyqbE32PZ6Z5PEqAUNzFsSQO243Ft4BsApCgs+UWut9Gsbgnxvrpa88/wuj0hkHS+GltOzSTLjKRVmDqVUBib6AEXB9k8txCiGyGqgYdV9fw5tvRrAxSwKo+dWbYDLpawGg2uB177zzU4ejC12H4gbEahzdhtt8Z7pY+i4YrUWyi7a2sO3XqmKPEKNQhUqKSdh17XgYp4FVbMGYb2FxZcxBa2nWR13j+HoTd7v2ZjfLrfT/m8sU6qtfKQcpym3UR1T3AprwyiMllsU2I32tqZhuHKQbu5JtdiRewvYbW6z4+MuzECn/Dl6dndQ4sQCNBawANrgD0yxh6PLUKCSBtcDTw0AEkiAmZiZgR4f8tP0j5SSR4f8tP0j5SSBiUMTTxJxNI02UUAOmDv13/tL8zAxKnEVDIA1A1lJ1AtcdhANpbiBo6WGqoyVRTc00qkrSZgXVSlri57bm19jLtFHfEc00yimll6Vr3zeHhrL5IAJJsBuZ55i2vcWAve/V2wNHh+GVLYdWToGmFrC+2Q3UeNyfhM0sNiKdImzZuYqtkIzGmi2BF+snX1mb1WBAI1B2MQNHhsFUzoxpsF8pL9NgTl5VgSb9ssO1ak+JNOizmoQyEEZfwKutz1ETaE21MQKfDEy08pR1N7sXtdyd20JlClg2VijpWYc3OCrrk/HmBPWLdnhN07hQWYgAC5J6pkG+sCjwpXRGpujKVZjmNrMC7EW17DKOLo13dgyVWtWVlIYCmEDqdr3JsDvN7MQKGDFSn0TTJD1nJNx0QSSD43lrDsTnvTyWcgajpD+rTtksQNPieGvUrVRb+WRzEP/mZQo9lr+uesFhageg7pZv5jVNR0S5Fh7NPVNtBNoGhxGHqU6SMvRq851W/WKjH5aN6ptK+D/wDCtQp6fyyi+ywk5CM3+FmQ+kqbfDQz3A0WJoVcRYCi1MCg6dIi1zk00O3ROsuUA9TEJUNJqapTKnNa5JK6Cx2FvjNjPLVFUXLAC9r36ybAe2BrsdgWqYhdL0nUCr/oOZR6ybSovD63LzMCXSquisAWRFygg7X1Jm+mYFHhtO3MbJVUsRc1SCTYW2G0pHDVeWcPyzc18/N0y25me+9720tN3MQNQMHU5KLl6QxXMI0/DzSb+yV8RhqiUqZXo1jUemL/ANNRm19Wjeqb8m288uikhmAuuoJ6vX1QK+Iw9sM9KmNqZVR/psBKeKwrjyd1V7U0KstMgMLhdRfQ7W9c20QNFSvRr0ytGqSUqHKSpbV1NzrbX+89YPD1cO2c0i+dLZUIOQ53bLqRp09/CbnIpIawvawPXY+PZPUDVcKwL0nXOBpQVb+OZiQPRcSfg6ulFaboymmMtzazb6ix2l1HDC6kEdoM8VcQiEB3VSdgWAvA11DCVBWRiugq1Wvps34T65HSw9SlUFXls4DVRlW1wHYEMAT4fGbmIGsp4d3fEMUNPm0lVb2uDZr7ekSqmHqhBlp1hWpoQpZ1KA2t0e3w0m9iBofJGYuzUsQVNNR0nXPcPe41sLb+qZNDEMUqMKrKjnKLqKmUqBfTQ2N/UZvZmBoWwzKM9OniUqEsQwZCdbfiBNrGwl/GUqj4NkIBqtTsQu2a2tvXL8QNRXwlQ0sYAmtRgU21sqj5gy3xLmcr+VfNcXy2zZb9LLfS9pciBoEwlUMagp1CFqq4V2BZgEIJ33F728JaZqnOWvyHy5CmXo5hqCGte1ja2/UJtJmBpMSla2IAoOTXpjLYrZTlsQxv8pNSw9VBimRQKjBeWTbW1NR8wZtJmBzz4KrUzkJV/LA/nOLsQ4bLodAbS1xGszUWq8pqbUWV0z26R610J3Bt65tp5emrCzAEXvqL6jYwKWGJoChRtmd8zOb7dbN7xA9c2E85Re9he1r9duyeoCIiAiIgIiIEeH/LT9I+UkkeH/LT9I+UkgIiICUeJYk0eXUvamHtU9BU2+NvbL0jrUVqKVdQynqPgbiBpFxtYqabn+Yqu76DVSl1HqLgf6ZikjMcQ2dv+mQlQFsbo2m23om7bDIWZiozMuUntHZ8ZG2ApEglBcLlG+1rW8dzA1FTE1cNTQioXzYdmswFlKhLWsNul1yTHV6uHzKKzPeizgsFupUrqLDY5vhNscMhy3UHKpUeANrj4CR0eH0UDBaYswsb3Nx2a9XhA13G6rEVaeYheRmsLb5/9psieVRYvUYhVLFyBewF9gLaTzS4bRQMFpjpLla9zcdhvJqeHREyBehrodd994Giq16uSsjmoUfDO45hS+gGvR2365YavUSoDUaotK6BCgUpqBo3+IEnT2S9T4ZQW9qY1Uqdzodxr1T1/D6OfPkGYG+53GxtteBQw+Iq5cNWNUtzmAanYWAIJ0sL3FvnLWPaoatGmlQ08+a5ABOg8ZNTwFFHzqgDam/Zfew2F/CTNSUsrEXZb2PZfeBplxGJdmZOYclTLa9MJZSAc1zmuRc+yZFesEFbnMf55Tl2WxXmFbbXvbXfqmxqcPos+dkBbcnXW21xsfXIsHwunTOZgGfOzBtdMxJ27bG14FShiauShWNUnmuFNOwsAb6DS9xbt6jIStWpQw9R67EvVTQKoA6R123m3TAUVfmBAGuTfsJ3IGwJnpsHTNPlFBkGy9ljeBq6lWoKj01qEHnomfKt7GkCb6amBiKufkc0/nZOYQM1uWGtta99Nps0wVIWsg0Ib1gWB9mkixmCDqwVad2YM2dSQbC19CLHaBjhjsecrOXyVCoJte1h2Ads1RosKFQ8xj/4uwBC2B546W2/wm44dg+QhXo3ZixyrYC/UB2aT0cBSzM2QXYgnfUggg27bgQNXiMVWpO9EO73dAGsuYBg1wL2X/Dpftmw4ca3TFUNYHoFypa1uvLpvJquEpvmzIDnsGv1229kzh8KlIEItr6nUkn1mBQo1KjipW5rAI7gUwFtZSRY6XubdvXIRXrqtBlq8xq6nRgMoPLLAiw2BFte2bI4CkanMyDPe9/HttteeU4bQW9qa9IEH0HcAdQ9EDT4h2ZAj1Ky1BUpEq4TS9QDMCBYi/ymx41TIwNYFmJFM3Jtc6delpOvDaIVl5Ys1s1ySTbbU66SYUECcvL0LWsddOzWBr8tRqxo8+ooSmHzWW7FiR2WsLfGe6dZq2BzsbM1I3I9B1Hpkx4XQKhTT0W9tTfXcXve3hLSoAuUABQLWtpbsgabDrVAw1Na7gPSLE5VJFglgNPHrvBxlTmo6NVNJq3LJbJlOpBAA6WhG/hNlQwNKnYogFr21Ol7Xt7BPI4bRz5+WM2bNfXQ9oGwMDW4SpUqNSpiqaalKjHIq65agA6tN5Ic1bC07otSpVBpl2XRR0rsfZt2mbOnhaaEFVAIBA9BNz8YXCoAgCiyG6+B11+JgeqNPIircnKoFz12EkiICIiAiIgImJmAiJiBmJiIGYiICIiAiIgIiICIiAiIgR4f8tP0j5SSR4f8tP0j5SSAiIgIiICIiAiIgIiICIiAiIgIiICIiAiIgJ5ZwLXIF9rneepreJ4dma6oWOTKPwkHXZg2w8QYGxJiauph6rmzB/zASQ4y2DgjKNwQPR17zw9LFC2Qk211Ya6lQD4ZSG9IgbiYmoajiM7AGoF1F8/VnWxBvvlDdQ9cyMPUVsoWtl5hYsKm4uLDVuvrv2HtgbaJr8TTrGuMpYU+jttuc19R1eBnhqVUYaiihwwWzWbUWX0i+vjA2YMwXA6xvbf4SrgFdQc6m7HMTp/So+d/ZKb0iwy8osc7h2GW4Ge9hcjcZdeoAQNtnGuo03129MZxpqNdtd5qPJnW55GYi+9rMTUzBt9banXtmaWDYFbUzuhzHKMuViWGh0vc2t/VA2+Yaa77RNalAvSogXCioWFjYhenl19BEq1MPWUZ2D5lAYtm6xSYXtfe9vbA3s8lgNyBNQaeIsCvNte4UuL7Dc30F79vXptLVWizv+E5dtTfQvdvVZVA9MC7mF7XF5majD4arzFd1ckZcxLA3IFS+XXQdIdm89V1xBqMUDgWNukLfh067A38PXA20TVGhVbY1VAK2Bqa2z9K+v8AT6fbJCtXlqpDmzHNZhmK3awBvv8AhJgbCLzTuKqKGqs4GZQQKgGmXtuADm322MxSp1mpI5FQllANmAYjJob6f4mPwgbjMLXuLdsZh2iagUK4UKA1wtvxDLbJYAC++a3x1lnyUk0nI6QqFjrsCG//AJEC8GBvYg23mbjtmu4fQamRemRZFQnTpEE3bfbX06wcB0WAXaurrr1XW531Oh3gbAsBuQJjmLa+YW7bzV1cHVL1SwzBwNVOtg9woB00Ht9c9U6D5bvTLZdFHRuAXJvb8NwAvsgbPMLgXFzqBeA4IuCLdt5qEwlQCkBTsy26RIsQMwAY7ggHq01mKPD25LqUP+AqGIBuoA2XSwtpf/aBuMwuRcXG4vAYEAgix2N5qmwr852NPOCWuDlsQQtrHe+g0Ok90cG2VCVN1rFhci4BOpIGl99ur1wNpExMwEREBERAjw/5afpHykkjw/5afpHykkBERAREQEREBERAREQEREBERAREQEREBERAREQMRMxAxMxEDETMQMRMxAREQMRMxAxEzEDETMQMRMxAxEzEBMTMQMRMxAxEzEDETMQMRMxAREQEREBERAjw/wCWn6R8pJI8P+Wn6R8pJAREQEREBERAREQEREBERAREQEREBERAREQEREBERAREQEREBERAREQEREBERAREQEREBERAREQEREBERAREQEREBERAREQERECPD/lp+kfKSTXUcQ2Rdf8ACOrwnvyh+34QL0Sj5S/b8I8pft+EC9Eo+UP2/CPKX7fhAvRKPlD9vwjyl+34QL0Sj5S/b8I8pft+EC9Eo+Uv2/CPKX7fhAvRKPlD9vwjyh+34QL0Sj5S/b8I8pft+EC9Eo+Uv2/CPKX7fhAvRKPlL9vwjyl+34QL0Sj5S/b8I8pft+EC9Eo+Uv2/CPKX7fhAvRKPlL9vwjyl+34QL0Sj5S/b8I8pft+EC9E1HEsfUp4atUUjMlJmFx1hSROcq8dxi8i2Mw7LVAOYUhZddQdeq8i3SZjb4dzMzh6fGsY1apT8tw4SmpbmmkMpAt49ZP8A9ze8H4jVrYWjUcjM6AmwiUuNnlu4lHyl+34R5S/b8JKF6JR8pft+EeUv2/CBeiUfKX7fhHlL9vwgXolHyl+34R5S/b8IF6JR8pft+EeUv2/CBeiUfKX7fhHlL9vwgXolHyl+34R5S/b8IF6JR8pft+EeUv2/CBeiUfKH7fhHlL9vwgXolHyl+34R5Q/b8IF6JR8pft+EeUv2/CBeiUfKX7fhHlL9vwgXolHyl+34TBxTDdh8IF+JQ8qbbMPYJnyl+34QK9L8C+gfKabGnE+WB0WpyUtTIGzZgbtl67Err1WM6CjRGRd/wj5T3yR4wORw9fHpTVQlS609AadxYUb5i39fM0t8OuSYnFY9EYKrs4YlSKQsRkQ5SLH/ABFh1bbzquSPGOSPGBoeIYWtVxVLIzLTFMljd8t8y2HRYa2vvcb6SknEMY9MOtyRU5ZCUwc2TRmBsQAWvvpYbidXyR4zAoKNtIHKo+NpI4VXYFnNilyv87qPX0DcDXwE2lCriDQpHKrVC1nzgp0bm5tYa2t1Tb8keMckeMDQYlHOMJqLXNPKnJ5ZbKDc581jbs/F1TUUsNjuWEc17GhfMC2YM1SndT4gBreBM7bkjxjkjxgcmlTHU84IcnnW0W+ZQigEEghQTcnbr1Ev8Sd8Rh6TUA/SqqdyvRudSVNwp+Rm95I8Y5I8YHF16ON5N0NfOmHKspv0mLMDbtYDKQesCWHp4xa+ZeaaZrMbG5y5UOXTrU39qidZyR4xyR4wOfpYnE+RlmWpzs4Asgva4uwXLe2+63kNLE485CVOmQMvLtmu7hrncWAU+udNyR4xyR4wOa4acSwxD1RVDtRW10y2az3CjwJGvolbJjcPQBTmM7i4XV8pCbNmBN2PZYC2867kjxjkjxgc1i8RjQjsoe5qsEC0gbKASCdCSDoP7zxXxGP/AJhUMLBsq8oHampHtYsJ1HJHjHJHjA5TEVsc/NBFRbEEBKZ2Dr+Fra9G9xcnTqntsVjs7gBrXst6PVmWzXta+Um4v7LTqOSPGOSPGBzvG6de9HIalQqNVUMA501LIRlPp01lak+MpIwy1SGLkdC5T+dYG5BuMpvsdNp1fJHjHJHjA5fmY2onTVhZaZK8u2Y8whtdxZQDFbGYxFZnJCk6k01GQc0rpfQnLY6zqOSPGYagpFiLjxgazg+IarhqdRzcsCb2tcXNjYeFpdk3JXxmeSPGBquNf9Fif/Qf/wCBnzzg1Wm1Kth6ilqj64c3sFqWO/6uiPUJ9TxOCSrTem18rqVNjrYixmjo/YjB03V0auGUhlOcaEG4P4YHFcSqU6eGpYcIy4g2fEEnTY5Vt1EA3I6j2md79nP+gw3/AKYkeM+xuFr1Wq1Xrs7m7HOov6gtpt8HgEo0kpJmyoMoudbRvYxEn5I8Y5I8YEESfkjxjkjxgQRJ+SPGOSPGBBEn5I8Y5I8YEESfkjxjkjxgQRJ+SPGOSPGBBEn5I8Y5I8YEESfkjxjkjxgclxKnjVr1TRFRkQ51AJs2cBSv+k3aSGrjqbPTQMwRLJdCc1kHSz21a99CfV1zqeSPGOSPGBytGrjOdTcrUKEBXblkELnP+Ega7XNttZcxgby2jlWuANXcZihFiAlvw9dyfCb7kjxjkjxga+9UtVBVRTy/yyCcxNje46tZz+E8rp0lKriR/LQPnux5l+kyhgxtbfSdhyR4xyR4wOcwOMxTV6VKpYZqQq1OiAV0KlbdV2sfbLOHLjHVrisaZpqFLA5AwLXsdtiJueQt79czyR4wIJrq9F81YrRD5wtsxWxIvc2J6r+G03HJHjHJHjA0+GwxWrT/AJRVUTKGutz0QOkQb6WtNhLHJHjHJHjAzR/Av6R8p7nij+Bf0j5T3AREQEREBERAREQEREBERAREQEREBERAREQEREBERAREQEREBERAREQEREBERAREQEREBERAREQEREBERAREQEREBERAREQEREDxR/Av6R8p7nzNf/yBjAAOXh9Bb8LfVM+cLGd3h/df6oH0uJ8084WM7vD+6/1R5wsZ3eH91/qgfS4nzTzhYzu8P7r/AFR5wsZ3eH91/qgfS4nzTzhYzu8P7r/VHnCxnd4f3X+qB9LifNPOFjO7w/uv9UecLGd3h/df6oH0uJ8084WM7vD+6/1R5wsZ3eH91/qgfS4nzTzhYzu8P7r/AFR5wsZ3eH91/qgfS4nzTzhYzu8P7r/VHnCxnd4f3X+qB9LifNPOFjO7w/uv9UecLGd3h/df6oH0uJ8084WM7vD+6/1R5wsZ3eH91/qgfS4nzTzhYzu8P7r/AFR5wsZ3eH91/qgfS4nzTzhYzu8P7r/VHnCxnd4f3X+qB9LifNPOFjO7w/uv9UecLGd3h/df6oH0uJ8084WM7vD+6/1R5wsZ3eH91/qgfS4nzTzhYzu8P7r/AFR5wsZ3eH91/qgfS4nzTzhYzu8P7r/VHnCxnd4f3X+qB9LifNPOFjO7w/uv9UecLGd3h/df6oH0uJ8084WM7vD+6/1R5wsZ3eH91/qgfS4nzTzhYzu8P7r/AFR5wsZ3eH91/qgfS4nzTzhYzu8P7r/VHnCxnd4f3X+qB9LifNPOFjO7w/uv9UecLGd3h/df6oH0uJ8084WM7vD+6/1R5wsZ3eH91/qgfS4nzTzhYzu8P7r/AFR5wsZ3eH91/qgfS4nzTzhYzu8P7r/VHnCxnd4f3X+qB9LifNPOFjO7w/uv9UecLGd3h/df6oH0uJ8084WM7vD+6/1R5wsZ3eH91/qgfS4nzTzhYzu8P7r/AFR5wsZ3eH91/qgfS4nzTzhYzu8P7r/VHnCxnd4f3X+qB9LifNPOFjO7w/uv9UecLGd3h/df6oH0uJ8084WM7vD+6/1R5wsZ3eH91/qgcnERAREQEREBERAREQEREBERAREQEREBERAREQEREBERAREQEREBERAREQEREBERAREQEREBERAREQEREBERAREQEREBERAREQEREBERAREQEREBERAREQEREBERAREQEREBERAREQEREBERAREQEREBERAREQEREBERAREQEREBERAREQEREBERAREQEREBERAREQEREBERAREQEREBERAREQEREBERAREQEREBERAREQEREBERAREQEREBERAREQEREBERAREQEREBERAREQEREBERAREQEREBERAREQERED//2Q==\n"
              }
            ],
            "_view_module": "@jupyter-widgets/output",
            "_model_module_version": "1.0.0",
            "_view_count": null,
            "_view_module_version": "1.0.0",
            "layout": "IPY_MODEL_3814a1c3d10c455998f789a607c98399",
            "_model_module": "@jupyter-widgets/output"
          }
        },
        "e30950b4aab843df92b43d3ecaa56d36": {
          "model_module": "@jupyter-widgets/output",
          "model_name": "OutputModel",
          "state": {
            "_view_name": "OutputView",
            "msg_id": "",
            "_dom_classes": [],
            "_model_name": "OutputModel",
            "outputs": [
              {
                "output_type": "stream",
                "metadata": {
                  "tags": []
                },
                "text": "Video available at https://www.bilibili.com/video/BV1My4y1j7HJ\n",
                "stream": "stdout"
              },
              {
                "output_type": "display_data",
                "metadata": {
                  "tags": []
                },
                "text/html": "\n        <iframe\n            width=\"854\"\n            height=\"480\"\n            src=\"https://player.bilibili.com/player.html?bvid=BV1My4y1j7HJ&page=1?fs=1\"\n            frameborder=\"0\"\n            allowfullscreen\n        ></iframe>\n        ",
                "text/plain": "<__main__.BiliVideo at 0x7f3294641f50>"
              }
            ],
            "_view_module": "@jupyter-widgets/output",
            "_model_module_version": "1.0.0",
            "_view_count": null,
            "_view_module_version": "1.0.0",
            "layout": "IPY_MODEL_419a385ecbae405884219f0cf24efbc5",
            "_model_module": "@jupyter-widgets/output"
          }
        },
        "3814a1c3d10c455998f789a607c98399": {
          "model_module": "@jupyter-widgets/base",
          "model_name": "LayoutModel",
          "state": {
            "_view_name": "LayoutView",
            "grid_template_rows": null,
            "right": null,
            "justify_content": null,
            "_view_module": "@jupyter-widgets/base",
            "overflow": null,
            "_model_module_version": "1.2.0",
            "_view_count": null,
            "flex_flow": null,
            "width": null,
            "min_width": null,
            "border": null,
            "align_items": null,
            "bottom": null,
            "_model_module": "@jupyter-widgets/base",
            "top": null,
            "grid_column": null,
            "overflow_y": null,
            "overflow_x": null,
            "grid_auto_flow": null,
            "grid_area": null,
            "grid_template_columns": null,
            "flex": null,
            "_model_name": "LayoutModel",
            "justify_items": null,
            "grid_row": null,
            "max_height": null,
            "align_content": null,
            "visibility": null,
            "align_self": null,
            "height": null,
            "min_height": null,
            "padding": null,
            "grid_auto_rows": null,
            "grid_gap": null,
            "max_width": null,
            "order": null,
            "_view_module_version": "1.2.0",
            "grid_template_areas": null,
            "object_position": null,
            "object_fit": null,
            "grid_auto_columns": null,
            "margin": null,
            "display": null,
            "left": null
          }
        },
        "419a385ecbae405884219f0cf24efbc5": {
          "model_module": "@jupyter-widgets/base",
          "model_name": "LayoutModel",
          "state": {
            "_view_name": "LayoutView",
            "grid_template_rows": null,
            "right": null,
            "justify_content": null,
            "_view_module": "@jupyter-widgets/base",
            "overflow": null,
            "_model_module_version": "1.2.0",
            "_view_count": null,
            "flex_flow": null,
            "width": null,
            "min_width": null,
            "border": null,
            "align_items": null,
            "bottom": null,
            "_model_module": "@jupyter-widgets/base",
            "top": null,
            "grid_column": null,
            "overflow_y": null,
            "overflow_x": null,
            "grid_auto_flow": null,
            "grid_area": null,
            "grid_template_columns": null,
            "flex": null,
            "_model_name": "LayoutModel",
            "justify_items": null,
            "grid_row": null,
            "max_height": null,
            "align_content": null,
            "visibility": null,
            "align_self": null,
            "height": null,
            "min_height": null,
            "padding": null,
            "grid_auto_rows": null,
            "grid_gap": null,
            "max_width": null,
            "order": null,
            "_view_module_version": "1.2.0",
            "grid_template_areas": null,
            "object_position": null,
            "object_fit": null,
            "grid_auto_columns": null,
            "margin": null,
            "display": null,
            "left": null
          }
        },
        "5958b4ba3ff74aa99736d2c0336aec67": {
          "model_module": "@jupyter-widgets/controls",
          "model_name": "TextareaModel",
          "state": {
            "_view_name": "TextareaView",
            "style": "IPY_MODEL_a3b4c9611ab04335a0eac5773999c8db",
            "rows": null,
            "_dom_classes": [],
            "description": "",
            "_model_name": "TextareaModel",
            "placeholder": "Type something",
            "_view_module": "@jupyter-widgets/controls",
            "_model_module_version": "1.5.0",
            "value": "idk but hope that it's not that much\n",
            "_view_count": null,
            "disabled": false,
            "_view_module_version": "1.5.0",
            "continuous_update": true,
            "description_tooltip": null,
            "_model_module": "@jupyter-widgets/controls",
            "layout": "IPY_MODEL_3afb52271ff045e18e1922e0fc2b08af"
          }
        },
        "a3b4c9611ab04335a0eac5773999c8db": {
          "model_module": "@jupyter-widgets/controls",
          "model_name": "DescriptionStyleModel",
          "state": {
            "_view_name": "StyleView",
            "_model_name": "DescriptionStyleModel",
            "description_width": "",
            "_view_module": "@jupyter-widgets/base",
            "_model_module_version": "1.5.0",
            "_view_count": null,
            "_view_module_version": "1.2.0",
            "_model_module": "@jupyter-widgets/controls"
          }
        },
        "3afb52271ff045e18e1922e0fc2b08af": {
          "model_module": "@jupyter-widgets/base",
          "model_name": "LayoutModel",
          "state": {
            "_view_name": "LayoutView",
            "grid_template_rows": null,
            "right": null,
            "justify_content": null,
            "_view_module": "@jupyter-widgets/base",
            "overflow": null,
            "_model_module_version": "1.2.0",
            "_view_count": null,
            "flex_flow": null,
            "width": null,
            "min_width": null,
            "border": null,
            "align_items": null,
            "bottom": null,
            "_model_module": "@jupyter-widgets/base",
            "top": null,
            "grid_column": null,
            "overflow_y": null,
            "overflow_x": null,
            "grid_auto_flow": null,
            "grid_area": null,
            "grid_template_columns": null,
            "flex": null,
            "_model_name": "LayoutModel",
            "justify_items": null,
            "grid_row": null,
            "max_height": null,
            "align_content": null,
            "visibility": null,
            "align_self": null,
            "height": null,
            "min_height": null,
            "padding": null,
            "grid_auto_rows": null,
            "grid_gap": null,
            "max_width": null,
            "order": null,
            "_view_module_version": "1.2.0",
            "grid_template_areas": null,
            "object_position": null,
            "object_fit": null,
            "grid_auto_columns": null,
            "margin": null,
            "display": null,
            "left": null
          }
        },
        "bc136efd2eb14abca39af0b45fb38b81": {
          "model_module": "@jupyter-widgets/controls",
          "model_name": "ButtonModel",
          "state": {
            "_view_name": "ButtonView",
            "style": "IPY_MODEL_33859010bb6a4a1e903d4e2bfa97bc71",
            "_dom_classes": [],
            "description": "Submit!",
            "_model_name": "ButtonModel",
            "button_style": "",
            "_view_module": "@jupyter-widgets/controls",
            "_model_module_version": "1.5.0",
            "tooltip": "",
            "_view_count": null,
            "disabled": false,
            "_view_module_version": "1.5.0",
            "layout": "IPY_MODEL_a65c15e865ab4be5bad1a651fc9a71f5",
            "_model_module": "@jupyter-widgets/controls",
            "icon": ""
          }
        },
        "33859010bb6a4a1e903d4e2bfa97bc71": {
          "model_module": "@jupyter-widgets/controls",
          "model_name": "ButtonStyleModel",
          "state": {
            "_view_name": "StyleView",
            "_model_name": "ButtonStyleModel",
            "_view_module": "@jupyter-widgets/base",
            "_model_module_version": "1.5.0",
            "_view_count": null,
            "button_color": null,
            "font_weight": "",
            "_view_module_version": "1.2.0",
            "_model_module": "@jupyter-widgets/controls"
          }
        },
        "a65c15e865ab4be5bad1a651fc9a71f5": {
          "model_module": "@jupyter-widgets/base",
          "model_name": "LayoutModel",
          "state": {
            "_view_name": "LayoutView",
            "grid_template_rows": null,
            "right": null,
            "justify_content": null,
            "_view_module": "@jupyter-widgets/base",
            "overflow": null,
            "_model_module_version": "1.2.0",
            "_view_count": null,
            "flex_flow": null,
            "width": null,
            "min_width": null,
            "border": null,
            "align_items": null,
            "bottom": null,
            "_model_module": "@jupyter-widgets/base",
            "top": null,
            "grid_column": null,
            "overflow_y": null,
            "overflow_x": null,
            "grid_auto_flow": null,
            "grid_area": null,
            "grid_template_columns": null,
            "flex": null,
            "_model_name": "LayoutModel",
            "justify_items": null,
            "grid_row": null,
            "max_height": null,
            "align_content": null,
            "visibility": null,
            "align_self": null,
            "height": null,
            "min_height": null,
            "padding": null,
            "grid_auto_rows": null,
            "grid_gap": null,
            "max_width": null,
            "order": null,
            "_view_module_version": "1.2.0",
            "grid_template_areas": null,
            "object_position": null,
            "object_fit": null,
            "grid_auto_columns": null,
            "margin": null,
            "display": null,
            "left": null
          }
        }
      }
    }
  },
  "cells": [
    {
      "cell_type": "markdown",
      "metadata": {
        "execution": {},
        "id": "z27qA-vF0mW9"
      },
      "source": [
        "# Tutorial 2: Introduction to RNNs\n",
        "\n",
        "**Week 2, Day 1: Convnets And Recurrent Neural Networks**\n",
        "\n",
        "**By Neuromatch Academy**\n",
        "\n",
        "__Content creators:__ Dawn McKnight, Richard Gerum, Cassidy Pirlot, Rohan Saha, Liam Peet-Pare, Saeed Najafi, Alona Fyshe\n",
        "\n",
        "__Content reviewers:__ Saeed Salehi, Lily Cheng, Yu-Fang Yang, Polina Turishcheva, Nina Kudryashova, Kelson Shilling-Scrivo\n",
        "\n",
        "__Content editors:__ Nina Kudryashova\n",
        "\n",
        "__Production editors:__ Anmol Gupta, Spiros Chavlis \n",
        "\n",
        "*Based on material from:* Konrad Kording, Hmrishav Bandyopadhyay, Rahul Shekhar, Tejas Srivastava"
      ]
    },
    {
      "cell_type": "markdown",
      "metadata": {
        "execution": {},
        "id": "7XjlafFZ0mXA"
      },
      "source": [
        "**Our 2021 Sponsors, including Presenting Sponsor Facebook Reality Labs**\n",
        "\n",
        "<p align='center'><img src='https://github.com/NeuromatchAcademy/widgets/blob/master/sponsors.png?raw=True'/></p>"
      ]
    },
    {
      "cell_type": "markdown",
      "metadata": {
        "execution": {},
        "id": "Vhlb2QKj0mXC"
      },
      "source": [
        "---\n",
        "# Tutorial Objectives\n",
        "At the end of this tutorial, we will be able to:\n",
        "- Understand the structure of a Recurrent Neural Network (RNN)\n",
        "- Build a simple RNN model\n",
        "\n",
        " "
      ]
    },
    {
      "cell_type": "code",
      "metadata": {
        "cellView": "form",
        "execution": {},
        "id": "SfSsNxZK0mXE",
        "outputId": "efd06c79-8e9b-4717-b12b-6210f307b134",
        "colab": {
          "base_uri": "https://localhost:8080/",
          "height": 500
        }
      },
      "source": [
        "# @title Tutorial slides\n",
        "\n",
        "# @markdown These are the slides for the videos in this tutorial\n",
        "\n",
        "# @markdown If you want to download locally the slides, click [here](https://osf.io/5asx2/download)\n",
        "from IPython.display import IFrame\n",
        "IFrame(src=f\"https://mfr.ca-1.osf.io/render?url=https://osf.io/5asx2/?direct%26mode=render%26action=download%26mode=render\", width=854, height=480)"
      ],
      "execution_count": 1,
      "outputs": [
        {
          "output_type": "execute_result",
          "data": {
            "text/html": [
              "\n",
              "        <iframe\n",
              "            width=\"854\"\n",
              "            height=\"480\"\n",
              "            src=\"https://mfr.ca-1.osf.io/render?url=https://osf.io/5asx2/?direct%26mode=render%26action=download%26mode=render\"\n",
              "            frameborder=\"0\"\n",
              "            allowfullscreen\n",
              "        ></iframe>\n",
              "        "
            ],
            "text/plain": [
              "<IPython.lib.display.IFrame at 0x7f3273c3f410>"
            ]
          },
          "metadata": {
            "tags": []
          },
          "execution_count": 1
        }
      ]
    },
    {
      "cell_type": "markdown",
      "metadata": {
        "execution": {},
        "id": "F11eK97z0mXF"
      },
      "source": [
        "---\n",
        "# Setup"
      ]
    },
    {
      "cell_type": "code",
      "metadata": {
        "cellView": "form",
        "execution": {},
        "id": "2eWjqLiO0mXG",
        "outputId": "00d33a2f-5327-4f75-9008-a31b1e9cb80e",
        "colab": {
          "base_uri": "https://localhost:8080/"
        }
      },
      "source": [
        "# @title Install dependencies\n",
        "!pip install livelossplot --quiet\n",
        "!pip install unidecode\n",
        "\n",
        "!pip install git+https://github.com/NeuromatchAcademy/evaltools --quiet\n",
        "from evaltools.airtable import AirtableForm\n",
        "\n",
        "# generate airtable form\n",
        "atform = AirtableForm('appn7VdPRseSoMXEG','W2D1_T2','https://portal.neuromatchacademy.org/api/redirect/to/351ca652-13d8-4e31-be28-30153d03e639')"
      ],
      "execution_count": 2,
      "outputs": [
        {
          "output_type": "stream",
          "text": [
            "Collecting unidecode\n",
            "  Downloading Unidecode-1.2.0-py2.py3-none-any.whl (241 kB)\n",
            "\u001b[?25l\r\u001b[K     |█▍                              | 10 kB 29.6 MB/s eta 0:00:01\r\u001b[K     |██▊                             | 20 kB 21.9 MB/s eta 0:00:01\r\u001b[K     |████                            | 30 kB 17.0 MB/s eta 0:00:01\r\u001b[K     |█████▍                          | 40 kB 15.2 MB/s eta 0:00:01\r\u001b[K     |██████▉                         | 51 kB 7.2 MB/s eta 0:00:01\r\u001b[K     |████████▏                       | 61 kB 8.4 MB/s eta 0:00:01\r\u001b[K     |█████████▌                      | 71 kB 8.0 MB/s eta 0:00:01\r\u001b[K     |██████████▉                     | 81 kB 8.9 MB/s eta 0:00:01\r\u001b[K     |████████████▏                   | 92 kB 9.4 MB/s eta 0:00:01\r\u001b[K     |█████████████▋                  | 102 kB 7.6 MB/s eta 0:00:01\r\u001b[K     |███████████████                 | 112 kB 7.6 MB/s eta 0:00:01\r\u001b[K     |████████████████▎               | 122 kB 7.6 MB/s eta 0:00:01\r\u001b[K     |█████████████████▋              | 133 kB 7.6 MB/s eta 0:00:01\r\u001b[K     |███████████████████             | 143 kB 7.6 MB/s eta 0:00:01\r\u001b[K     |████████████████████▍           | 153 kB 7.6 MB/s eta 0:00:01\r\u001b[K     |█████████████████████▊          | 163 kB 7.6 MB/s eta 0:00:01\r\u001b[K     |███████████████████████         | 174 kB 7.6 MB/s eta 0:00:01\r\u001b[K     |████████████████████████▍       | 184 kB 7.6 MB/s eta 0:00:01\r\u001b[K     |█████████████████████████▊      | 194 kB 7.6 MB/s eta 0:00:01\r\u001b[K     |███████████████████████████▏    | 204 kB 7.6 MB/s eta 0:00:01\r\u001b[K     |████████████████████████████▌   | 215 kB 7.6 MB/s eta 0:00:01\r\u001b[K     |█████████████████████████████▉  | 225 kB 7.6 MB/s eta 0:00:01\r\u001b[K     |███████████████████████████████▏| 235 kB 7.6 MB/s eta 0:00:01\r\u001b[K     |████████████████████████████████| 241 kB 7.6 MB/s \n",
            "\u001b[?25hInstalling collected packages: unidecode\n",
            "Successfully installed unidecode-1.2.0\n",
            "  Building wheel for evaltools (setup.py) ... \u001b[?25l\u001b[?25hdone\n"
          ],
          "name": "stdout"
        }
      ]
    },
    {
      "cell_type": "code",
      "metadata": {
        "execution": {},
        "id": "t0qBbV4b0mXI"
      },
      "source": [
        "# Imports\n",
        "import time\n",
        "import math\n",
        "import torch\n",
        "import string\n",
        "import random\n",
        "import unidecode\n",
        "import numpy as np\n",
        "import matplotlib.pyplot as plt\n",
        "\n",
        "import torch.nn as nn\n",
        "\n",
        "from tqdm.notebook import tqdm"
      ],
      "execution_count": 3,
      "outputs": []
    },
    {
      "cell_type": "code",
      "metadata": {
        "cellView": "form",
        "execution": {},
        "id": "TfXflC910mXJ"
      },
      "source": [
        "# @title Figure settings\n",
        "import ipywidgets as widgets       # interactive display\n",
        "%config InlineBackend.figure_format = 'retina'\n",
        "plt.style.use(\"https://raw.githubusercontent.com/NeuromatchAcademy/content-creation/main/nma.mplstyle\")\n",
        "\n",
        "plt.rcParams[\"mpl_toolkits.legacy_colorbar\"] = False\n",
        "\n",
        "import warnings\n",
        "warnings.filterwarnings(\"ignore\", category=UserWarning, module=\"matplotlib\")"
      ],
      "execution_count": 4,
      "outputs": []
    },
    {
      "cell_type": "code",
      "metadata": {
        "cellView": "form",
        "execution": {},
        "id": "qEnzbAME0mXL"
      },
      "source": [
        "# @title Helper functions\n",
        "# https://github.com/spro/char-rnn.pytorch\n",
        "\n",
        "def read_file(filename):\n",
        "  file = unidecode.unidecode(open(filename).read())\n",
        "  return file, len(file)\n",
        "\n",
        "\n",
        "# Turning a string into a tensor\n",
        "def char_tensor(string):\n",
        "  tensor = torch.zeros(len(string)).long()\n",
        "  for c in range(len(string)):\n",
        "    try:\n",
        "      tensor[c] = all_characters.index(string[c])\n",
        "    except:\n",
        "      continue\n",
        "  return tensor\n",
        "\n",
        "\n",
        "# Readable time elapsed\n",
        "def time_since(since):\n",
        "  s = time.time() - since\n",
        "  m = math.floor(s / 60)\n",
        "  s -= m * 60\n",
        "  out = f\"{m}min {s}sec\"\n",
        "  return out\n",
        "\n",
        "\n",
        "def generate(decoder, prime_str='A', predict_len=100, temperature=0.8,\n",
        "             device='cpu'):\n",
        "\n",
        "  hidden = decoder.init_hidden(1)\n",
        "  prime_input = char_tensor(prime_str).unsqueeze(0)\n",
        "\n",
        "  hidden = hidden.to(device)\n",
        "  prime_input = prime_input.to(device)\n",
        "  predicted = prime_str\n",
        "\n",
        "  # Use priming string to \"build up\" hidden state\n",
        "  for p in range(len(prime_str) - 1):\n",
        "    _, hidden = decoder(prime_input[:,p], hidden)\n",
        "\n",
        "  inp = prime_input[:,-1]\n",
        "\n",
        "  for p in range(predict_len):\n",
        "    output, hidden = decoder(inp, hidden)\n",
        "\n",
        "    # Sample from the network as a multinomial distribution\n",
        "    output_dist = output.data.view(-1).div(temperature).exp()\n",
        "    top_i = torch.multinomial(output_dist, 1)[0]\n",
        "\n",
        "    # Add predicted character to string and use as next input\n",
        "    predicted_char = all_characters[top_i]\n",
        "    predicted += predicted_char\n",
        "    inp = char_tensor(predicted_char).unsqueeze(0)\n",
        "    inp = inp.to(device)\n",
        "\n",
        "  return predicted"
      ],
      "execution_count": 5,
      "outputs": []
    },
    {
      "cell_type": "code",
      "metadata": {
        "cellView": "form",
        "execution": {},
        "id": "h70rSoTz0mXN"
      },
      "source": [
        "# @title Set random seed\n",
        "\n",
        "# @markdown Executing `set_seed(seed=seed)` you are setting the seed\n",
        "\n",
        "# for DL its critical to set the random seed so that students can have a\n",
        "# baseline to compare their results to expected results.\n",
        "# Read more here: https://pytorch.org/docs/stable/notes/randomness.html\n",
        "\n",
        "# Call `set_seed` function in the exercises to ensure reproducibility.\n",
        "import random\n",
        "import torch\n",
        "\n",
        "def set_seed(seed=None, seed_torch=True):\n",
        "  if seed is None:\n",
        "    seed = np.random.choice(2 ** 32)\n",
        "  random.seed(seed)\n",
        "  np.random.seed(seed)\n",
        "  if seed_torch:\n",
        "    torch.manual_seed(seed)\n",
        "    torch.cuda.manual_seed_all(seed)\n",
        "    torch.cuda.manual_seed(seed)\n",
        "    torch.backends.cudnn.benchmark = False\n",
        "    torch.backends.cudnn.deterministic = True\n",
        "\n",
        "  print(f'Random seed {seed} has been set.')\n",
        "\n",
        "\n",
        "# In case that `DataLoader` is used\n",
        "def seed_worker(worker_id):\n",
        "  worker_seed = torch.initial_seed() % 2**32\n",
        "  np.random.seed(worker_seed)\n",
        "  random.seed(worker_seed)"
      ],
      "execution_count": 6,
      "outputs": []
    },
    {
      "cell_type": "code",
      "metadata": {
        "cellView": "form",
        "execution": {},
        "id": "bZf_IRQG0mXQ"
      },
      "source": [
        "#@title Set device (GPU or CPU). Execute `set_device()`\n",
        "# especially if torch modules used.\n",
        "\n",
        "# inform the user if the notebook uses GPU or CPU.\n",
        "\n",
        "def set_device():\n",
        "  device = \"cuda\" if torch.cuda.is_available() else \"cpu\"\n",
        "  if device != \"cuda\":\n",
        "    print(\"WARNING: For this notebook to perform best, \"\n",
        "        \"if possible, in the menu under `Runtime` -> \"\n",
        "        \"`Change runtime type.`  select `GPU` \")\n",
        "  else:\n",
        "    print(\"GPU is enabled in this notebook.\")\n",
        "\n",
        "  return device"
      ],
      "execution_count": 7,
      "outputs": []
    },
    {
      "cell_type": "code",
      "metadata": {
        "execution": {},
        "id": "49XLqL120mXT",
        "outputId": "abf74856-ba5f-4403-9774-6798e097d4f4",
        "colab": {
          "base_uri": "https://localhost:8080/"
        }
      },
      "source": [
        "SEED = 2021\n",
        "set_seed(seed=SEED)\n",
        "DEVICE = set_device()"
      ],
      "execution_count": 8,
      "outputs": [
        {
          "output_type": "stream",
          "text": [
            "Random seed 2021 has been set.\n",
            "GPU is enabled in this notebook.\n"
          ],
          "name": "stdout"
        }
      ]
    },
    {
      "cell_type": "markdown",
      "metadata": {
        "execution": {},
        "id": "fjZqMiwV0mXV"
      },
      "source": [
        "---\n",
        "# Section 1: Recurrent Neural Networks (RNNs)\n",
        "\n",
        "*Time estimate: ~20mins*"
      ]
    },
    {
      "cell_type": "code",
      "metadata": {
        "cellView": "form",
        "execution": {},
        "id": "nzNcZHW30mXW",
        "outputId": "f9abba47-ed94-48f7-c5d2-1be61be55f6b",
        "colab": {
          "base_uri": "https://localhost:8080/",
          "height": 579,
          "referenced_widgets": [
            "1d4ea11144ff46eabab50e2786bc2023",
            "f4b47b00783d410c971232153f8adfd3",
            "1d0b233730cb453f9dba718b2025022c",
            "39158b3a89d943e3924a3dd07ddf69c7",
            "e8457c98ac1c43b59369aec7324e9acd",
            "336e2a234ed745949b11519eccdb7216"
          ]
        }
      },
      "source": [
        "# @title Video 1: RNNs\n",
        "from ipywidgets import widgets\n",
        "\n",
        "out2 = widgets.Output()\n",
        "with out2:\n",
        "  from IPython.display import IFrame\n",
        "  class BiliVideo(IFrame):\n",
        "    def __init__(self, id, page=1, width=400, height=300, **kwargs):\n",
        "      self.id=id\n",
        "      src = \"https://player.bilibili.com/player.html?bvid={0}&page={1}\".format(id, page)\n",
        "      super(BiliVideo, self).__init__(src, width, height, **kwargs)\n",
        "\n",
        "  video = BiliVideo(id=f\"BV1L44y1m7PP\", width=854, height=480, fs=1)\n",
        "  print(\"Video available at https://www.bilibili.com/video/{0}\".format(video.id))\n",
        "  display(video)\n",
        "\n",
        "out1 = widgets.Output()\n",
        "with out1:\n",
        "  from IPython.display import YouTubeVideo\n",
        "  video = YouTubeVideo(id=f\"PsZjS125lLs\", width=854, height=480, fs=1, rel=0)\n",
        "  print(\"Video available at https://youtube.com/watch?v=\" + video.id)\n",
        "  display(video)\n",
        "\n",
        "out = widgets.Tab([out1, out2])\n",
        "out.set_title(0, 'Youtube')\n",
        "out.set_title(1, 'Bilibili')\n",
        "\n",
        "# add event to airtable\n",
        "atform.add_event('Video 1: RNNs')\n",
        "\n",
        "display(out)"
      ],
      "execution_count": 9,
      "outputs": [
        {
          "output_type": "display_data",
          "data": {
            "application/vnd.jupyter.widget-view+json": {
              "model_id": "1d4ea11144ff46eabab50e2786bc2023",
              "version_minor": 0,
              "version_major": 2
            },
            "text/plain": [
              "Tab(children=(Output(), Output()), _titles={'0': 'Youtube', '1': 'Bilibili'})"
            ]
          },
          "metadata": {
            "tags": []
          }
        }
      ]
    },
    {
      "cell_type": "markdown",
      "metadata": {
        "execution": {},
        "id": "41B6PBj40mXY"
      },
      "source": [
        "RNNs are compact models that operate over timeseries, and have the ability to remember past input. They also save parameters by using the same weights at every time step.  If you've heard of Transformers, those models don't have this kind of temporal weight sharing, and so they are *much* larger.\n",
        "\n",
        "The code below is adapted from [this github repository](https://github.com/spro/char-rnn.pytorch)."
      ]
    },
    {
      "cell_type": "code",
      "metadata": {
        "execution": {},
        "id": "Anvhvx5J0mXa"
      },
      "source": [
        "# RNN\n",
        "# https://github.com/spro/char-rnn.pytorch\n",
        "class CharRNN(nn.Module):\n",
        "  def __init__(self, input_size, hidden_size, output_size,\n",
        "               model=\"gru\", n_layers=1):\n",
        "    \"\"\"\n",
        "    input_size: int\n",
        "      Size of the input layer.\n",
        "    hidden_size: int\n",
        "      Size of the hidden layers.\n",
        "    output_size: int\n",
        "      Size of the output layer.\n",
        "    model: string\n",
        "      `model` can take the values \"gru\", \"rnn\", \"lstm\". Default is \"gru\".\n",
        "    n_layers: int\n",
        "      Number of layers\n",
        "    \"\"\"\n",
        "    super(CharRNN, self).__init__()\n",
        "    self.model = model.lower()\n",
        "    self.input_size = input_size\n",
        "    self.hidden_size = hidden_size\n",
        "    self.output_size = output_size\n",
        "    self.n_layers = n_layers\n",
        "\n",
        "    self.encoder = nn.Embedding(input_size, hidden_size)\n",
        "    if self.model == \"gru\":\n",
        "      self.rnn = nn.GRU(hidden_size, hidden_size, n_layers)\n",
        "    elif self.model == \"lstm\":\n",
        "      self.rnn = nn.LSTM(hidden_size, hidden_size, n_layers)\n",
        "    elif self.model == \"rnn\":\n",
        "      self.rnn = nn.RNN(hidden_size, hidden_size, n_layers)\n",
        "    self.decoder = nn.Linear(hidden_size, output_size)\n",
        "\n",
        "  def forward(self, input, hidden):\n",
        "    batch_size = input.size(0)\n",
        "    encoded = self.encoder(input)\n",
        "    output, hidden = self.rnn(encoded.reshape(1, batch_size, -1), hidden)\n",
        "    output = self.decoder(output.reshape(batch_size, -1))\n",
        "    return output, hidden\n",
        "\n",
        "  def init_hidden(self, batch_size):\n",
        "    if self.model == \"lstm\":\n",
        "      return (torch.zeros(self.n_layers, batch_size, self.hidden_size), torch.zeros(self.n_layers, batch_size, self.hidden_size))\n",
        "\n",
        "    return torch.zeros(self.n_layers, batch_size, self.hidden_size)"
      ],
      "execution_count": 10,
      "outputs": []
    },
    {
      "cell_type": "markdown",
      "metadata": {
        "execution": {},
        "id": "FcOuFwbw0mXc"
      },
      "source": [
        "This next section of code takes care of training the RNN on several of Mark Twain's books. In this short section, we won't dive into the code, but you'll get to learn a lot more about RNNs in a few days! For now, we are just going to observe the training process."
      ]
    },
    {
      "cell_type": "code",
      "metadata": {
        "cellView": "form",
        "execution": {},
        "id": "kC1PWNer0mXc"
      },
      "source": [
        "# @title Run Me to get the data\n",
        "import requests\n",
        "\n",
        "url = 'https://raw.githubusercontent.com/NeuromatchAcademy/course-content-dl/main/tutorials/W2D1_ConvnetsAndRecurrentNeuralNetworks/static/twain.txt'\n",
        "r = requests.get(url, stream=True)\n",
        "\n",
        "with open('twain.txt', 'wb') as fd:\n",
        "  fd.write(r.content)"
      ],
      "execution_count": 11,
      "outputs": []
    },
    {
      "cell_type": "markdown",
      "metadata": {
        "execution": {},
        "id": "iYA19-U40mXd"
      },
      "source": [
        "One cool thing about RNNs is that they can be used to _generate_ language based on what the network sees during training. As the network makes predictions, instead of confirming of those predictions are correct against some training text, we just feed them back into the model as the next observed token.  Starting from a random vector for the hidden state, we can generate many original sentences! And what the network generates will reflect the text it was trained on."
      ]
    },
    {
      "cell_type": "code",
      "metadata": {
        "cellView": "code",
        "execution": {},
        "id": "nKE3iBV00mXe"
      },
      "source": [
        "# https://github.com/spro/char-rnn.pytorch\n",
        "def random_training_set(file, file_len, chunk_len, batch_size,\n",
        "                        device='cpu', seed=0):\n",
        "  random.seed(seed)\n",
        "\n",
        "  inp = torch.LongTensor(batch_size, chunk_len).to(device)\n",
        "  target = torch.LongTensor(batch_size, chunk_len).to(device)\n",
        "\n",
        "  for bi in range(batch_size):\n",
        "    start_index = random.randint(0, file_len - chunk_len - 1)\n",
        "    end_index = start_index + chunk_len + 1\n",
        "    chunk = file[start_index:end_index]\n",
        "    inp[bi] = char_tensor(chunk[:-1])\n",
        "    target[bi] = char_tensor(chunk[1:])\n",
        "\n",
        "  return inp, target, chunk_len, batch_size, device\n",
        "\n",
        "\n",
        "def train(decoder, criterion, inp, target, chunk_len, batch_size, device):\n",
        "  hidden = decoder.init_hidden(batch_size)\n",
        "  decoder.zero_grad()\n",
        "  loss = 0\n",
        "\n",
        "  for c in range(chunk_len):\n",
        "    output, hidden = decoder(inp[:, c].to(device), hidden.to(device))\n",
        "    loss += criterion(output.reshape(batch_size, -1), target[:,c])\n",
        "\n",
        "  loss.backward()\n",
        "  decoder_optimizer.step()\n",
        "  return loss.item() / chunk_len"
      ],
      "execution_count": 12,
      "outputs": []
    },
    {
      "cell_type": "markdown",
      "metadata": {
        "execution": {},
        "id": "HpsVOjY00mXf"
      },
      "source": [
        "First, let's load the text file, and define the model and its hyperparameters."
      ]
    },
    {
      "cell_type": "code",
      "metadata": {
        "execution": {},
        "id": "a8iLisgg0mXf"
      },
      "source": [
        "# Reading and un-unicode-encoding data\n",
        "all_characters = string.printable\n",
        "n_characters = len(all_characters)\n",
        "\n",
        "# load the text file\n",
        "file, file_len = read_file('twain.txt')\n",
        "\n",
        "# Hyperparams\n",
        "batch_size = 50\n",
        "chunk_len = 200\n",
        "model = \"rnn\"  # other options: `lstm`, `gru`\n",
        "\n",
        "n_layers = 2\n",
        "hidden_size = 200\n",
        "learning_rate = 0.01\n",
        "\n",
        "# Define the model, optimizer, and the loss criterion\n",
        "decoder = CharRNN(n_characters, hidden_size, n_characters,\n",
        "                  model=model, n_layers=n_layers)\n",
        "decoder.to(DEVICE)\n",
        "\n",
        "decoder_optimizer = torch.optim.Adagrad(decoder.parameters(), lr=learning_rate)\n",
        "criterion = nn.CrossEntropyLoss()"
      ],
      "execution_count": 13,
      "outputs": []
    },
    {
      "cell_type": "markdown",
      "metadata": {
        "execution": {},
        "id": "AFURVdSd0mXg"
      },
      "source": [
        "Let's try it! Run the code below. As the network trains, it will output samples of generated text every 25 epochs. Notice that as the training progresses, the model learns to spell short words, then learns to string some words together, and eventually can produce meaningful sentences (sometimes)! Keep in mind that this is a relatively small network, and doesn't employ some of the cool things you'll learn about later in the week (e.g., LSTMs, though you can change that in the code below by changing the value of the `model` variable if you wish!)\n",
        "\n",
        "After running the model, and observing the output, get together with your pod, and talk about what you noticed during training. Did your network produce anything interesting? Did it produce anything characteristic of Twain?  \n",
        "\n",
        "**Note:** training for the full 2000 epochs is likely to take a while, so you may need to stop it before it finishes. If you have time left, set `n_epochs` to 2000 below."
      ]
    },
    {
      "cell_type": "code",
      "metadata": {
        "execution": {},
        "id": "nBBPjSWn0mXh",
        "outputId": "cb0bca4d-f229-4ee8-dcc6-b936ef5238e5",
        "colab": {
          "base_uri": "https://localhost:8080/",
          "height": 1000,
          "referenced_widgets": [
            "b8f196e83bfc483894d4d7373980f5a8",
            "83291a369b424727a8d7c4bc745828c7",
            "d4def3fb221d4d9ab977005073a9861f",
            "97a8520f95e54d58845860426c7b3ce8",
            "bf73da6efbf54a1e9d31ce9a85c10402",
            "ad2279da924c470493693a8320c5b414",
            "72b2dde2941d4ad1b71322eba618cc08",
            "236b2367317b4af2965b8b78ec941a7b"
          ]
        }
      },
      "source": [
        "n_epochs = 1000   # initial was set to 2000\n",
        "\n",
        "print_every = 50  # frequency of printing the outputs\n",
        "\n",
        "start = time.time()\n",
        "all_losses = []\n",
        "loss_avg = 0\n",
        "\n",
        "print(f\"Training for {n_epochs} epochs...\\n\")\n",
        "for epoch in tqdm(range(1, n_epochs + 1), position=0, leave=True):\n",
        "  loss = train(decoder, criterion,\n",
        "               *random_training_set(file, file_len, chunk_len, batch_size,\n",
        "                                    device=DEVICE, seed=epoch))\n",
        "  loss_avg += loss\n",
        "\n",
        "  if epoch % print_every == 0:\n",
        "    print(f\"[{time_since(start)} {epoch/n_epochs * 100}%) {loss:.4f}]\")\n",
        "    print(f\"{generate(decoder, prime_str='Wh', predict_len=150, device=DEVICE)}\")"
      ],
      "execution_count": 14,
      "outputs": [
        {
          "output_type": "stream",
          "text": [
            "Training for 1000 epochs...\n",
            "\n"
          ],
          "name": "stdout"
        },
        {
          "output_type": "display_data",
          "data": {
            "application/vnd.jupyter.widget-view+json": {
              "model_id": "b8f196e83bfc483894d4d7373980f5a8",
              "version_minor": 0,
              "version_major": 2
            },
            "text/plain": [
              "HBox(children=(FloatProgress(value=0.0, max=1000.0), HTML(value='')))"
            ]
          },
          "metadata": {
            "tags": []
          }
        },
        {
          "output_type": "stream",
          "text": [
            "[0min 13.330607414245605sec 5.0%) 2.1638]\n",
            "Whey\n",
            "aid to het slidks beran to with it horlest sow un oving the seas ane linn ther pand fersisher his rot gris on teen woCg't we fid hen stored whex on\n",
            "[0min 27.115872859954834sec 10.0%) 1.9462]\n",
            "Wher, blethen chat and suns proment in ous at sese reten and of and Tom The gut we'p the dand thep thesired whon\n",
            "aght and and beterndelly, and_\n",
            "way. I d\n",
            "[0min 41.158790588378906sec 15.0%) 1.9125]\n",
            "Wher. The didy. for for betand sone, but feppiout ingring.\"\n",
            "\n",
            "\"What in the some was geavelight ow, be all kenting no cometing, he had him;\n",
            "uple was comen\n",
            "[0min 54.72306561470032sec 20.0%) 1.8870]\n",
            "Whel. _Two, and hand her what wounding spart stees.  I was know the the going and\n",
            "hack. I was the coulds the he well combion she pots me labdeng-and\n",
            "and\n",
            "[1min 8.842742919921875sec 25.0%) 1.8738]\n",
            "Whered most the was eefder. About wass. Tow head you but don an the kisp was from shere for you couldn't was do then says:\n",
            "\n",
            "\"Then that was went was arou\n",
            "[1min 22.631033658981323sec 30.0%) 1.7899]\n",
            "Why some, body right, I don't be wook it his a what he my\n",
            "juck the recarlan the romes for abolich of the ricked them on the with to be and that where of\n",
            "[1min 36.1529541015625sec 35.0%) 1.7620]\n",
            "Whack and\n",
            "would find and han him sast they yould out the start a air a body-urst or while, and bed timbody conlat it of they was her the tound dary and \n",
            "[1min 49.3212411403656sec 40.0%) 1.7369]\n",
            "Where and laid his privided in in the docked him, and did a roffly he now and mears hone over_--and sich, and sturt get five the this be of they, and Ge\n",
            "[2min 2.913182020187378sec 45.0%) 1.7477]\n",
            "When come was a lain't do the read of his see and feeth, and\n",
            "spart giend that day you got to paiculy couldn't yess, and catious but neegooved and deside\n",
            "[2min 17.054463863372803sec 50.0%) 1.6915]\n",
            "WhE\n",
            "\n",
            "Onesing tow in the infelce\n",
            "fain high, and I don's hamper to teard it seapoted ite. I say what the it upres to pace, with it on the cristantpers and\n",
            "[2min 30.534542560577393sec 55.00000000000001%) 1.6896]\n",
            "What to the tood the whine the resande_ it of the wern the said--\n",
            "\n",
            "\"The barn't\n",
            "the pioul all the puting out again't down't gun_ was seat when and sunclo\n",
            "[2min 43.80406880378723sec 60.0%) 1.6591]\n",
            "What its ascapon your heart hould who jurred--that would 'et was a\n",
            "noken scable to sigting I goke\n",
            "\n",
            "\"Goom time as I went throud steast den, and said,\n",
            "and\n",
            "[2min 57.00019836425781sec 65.0%) 1.6145]\n",
            "Where was I hards and leton he done hard as to\n",
            "was a tried the wall say!  The whilated all forget of howed out he lead and curcatious off\n",
            "happine?\" near\n",
            "[3min 10.651618957519531sec 70.0%) 1.6671]\n",
            "Whered for him so the chaifful moring and intered the sangle as if any of here of the sebventure; and reasing fationed some\n",
            "dessing big for the martless\n",
            "[3min 24.74663782119751sec 75.0%) 1.6385]\n",
            "Why, '_ Mut a blishing the flates to it. He soowed the talky and all before the may done bard condigution of the Canners was at house to for a starting \n",
            "[3min 38.27599239349365sec 80.0%) 1.6331]\n",
            "Wh was a didn't do me to me and make and brothered to the boys on the old for dissetted you,\" my little had fection wooked them done the it.  or I've of\n",
            "[3min 51.340062618255615sec 85.0%) 1.6179]\n",
            "Whispered with the said no herry teller to let to come that took a good so the courted to let onter in the tried of thy said in the reckoned was all dea\n",
            "[4min 4.51525092124939sec 90.0%) 1.6034]\n",
            "Where her from on the work. We\n",
            "wall that did\n",
            "be no the rowd with the facler, and the compauning a dill you judged them.\n",
            "He was a began. The woodand and \n",
            "[4min 18.15816855430603sec 95.0%) 1.6064]\n",
            "Where have, and no?  Then who.  The him.  The boy expriver. What ain't \"Take hear a charget. Then he still and was a when this doom in the retter thing.\n",
            "[4min 32.13937973976135sec 100.0%) 1.5523]\n",
            "Where in the litched time to poor that peesed about-body, I'll did nother kney secain and then I know when the drepty any great with sight long to got s\n",
            "\n"
          ],
          "name": "stdout"
        }
      ]
    },
    {
      "cell_type": "markdown",
      "metadata": {
        "execution": {},
        "id": "_XdDjvkl0mXh"
      },
      "source": [
        "Now you can generate more examples using a trained model. Recall that `generate` takes the mentioned below arguments to work:\n",
        "\n",
        "```python\n",
        "generate(decoder, prime_str='A', predict_len=100, temperature=0.8, device='cpu')\n",
        "```\n",
        "\n",
        "Try it by yourself"
      ]
    },
    {
      "cell_type": "code",
      "metadata": {
        "execution": {},
        "id": "rz4BWpMU0mXh",
        "outputId": "d25b5aeb-1afc-443b-bf46-3536c5066e51",
        "colab": {
          "base_uri": "https://localhost:8080/"
        }
      },
      "source": [
        "print(f\"{generate(decoder, prime_str='Wh', predict_len=100, device=DEVICE)}\\n\")"
      ],
      "execution_count": 15,
      "outputs": [
        {
          "output_type": "stream",
          "text": [
            "Which it boing the your all on it ouch\n",
            "here, and the lay, out half a did only breast perabout--\n",
            "\n",
            "\"A li\n",
            "\n"
          ],
          "name": "stdout"
        }
      ]
    },
    {
      "cell_type": "markdown",
      "metadata": {
        "execution": {},
        "id": "rS5TlrQe0mXi"
      },
      "source": [
        "---\n",
        "# Section 2: Power consumption in Deep Learning\n",
        "\n",
        "*Time estimate: ~20mins*"
      ]
    },
    {
      "cell_type": "markdown",
      "metadata": {
        "execution": {},
        "id": "evYyD0C10mXi"
      },
      "source": [
        "Training NN models can be incredibly costly, both in actual money but also in power consumption."
      ]
    },
    {
      "cell_type": "code",
      "metadata": {
        "cellView": "form",
        "execution": {},
        "id": "UDF8HxHm0mXj",
        "outputId": "9ec7f2aa-6ac2-4027-e100-2a037ef7165e",
        "colab": {
          "base_uri": "https://localhost:8080/",
          "height": 579,
          "referenced_widgets": [
            "aa5f81cd564d488087e7f54bae082f02",
            "008b897ad6b54bc091ac11dabc922b02",
            "b80207805ff748b4abbd27891de2b1d0",
            "e30950b4aab843df92b43d3ecaa56d36",
            "3814a1c3d10c455998f789a607c98399",
            "419a385ecbae405884219f0cf24efbc5"
          ]
        }
      },
      "source": [
        "# @title Video 2: Carbon Footprint of AI\n",
        "from ipywidgets import widgets\n",
        "\n",
        "out2 = widgets.Output()\n",
        "with out2:\n",
        "  from IPython.display import IFrame\n",
        "  class BiliVideo(IFrame):\n",
        "    def __init__(self, id, page=1, width=400, height=300, **kwargs):\n",
        "      self.id=id\n",
        "      src = \"https://player.bilibili.com/player.html?bvid={0}&page={1}\".format(id, page)\n",
        "      super(BiliVideo, self).__init__(src, width, height, **kwargs)\n",
        "\n",
        "  video = BiliVideo(id=f\"BV1My4y1j7HJ\", width=854, height=480, fs=1)\n",
        "  print(\"Video available at https://www.bilibili.com/video/{0}\".format(video.id))\n",
        "  display(video)\n",
        "\n",
        "out1 = widgets.Output()\n",
        "with out1:\n",
        "  from IPython.display import YouTubeVideo\n",
        "  video = YouTubeVideo(id=f\"as6C334LmRs\", width=854, height=480, fs=1, rel=0)\n",
        "  print(\"Video available at https://youtube.com/watch?v=\" + video.id)\n",
        "  display(video)\n",
        "\n",
        "out = widgets.Tab([out1, out2])\n",
        "out.set_title(0, 'Youtube')\n",
        "out.set_title(1, 'Bilibili')\n",
        "\n",
        "# add event to airtable\n",
        "atform.add_event('Video 2: Carbon Footprint of AI')\n",
        "\n",
        "display(out)"
      ],
      "execution_count": 16,
      "outputs": [
        {
          "output_type": "display_data",
          "data": {
            "application/vnd.jupyter.widget-view+json": {
              "model_id": "aa5f81cd564d488087e7f54bae082f02",
              "version_minor": 0,
              "version_major": 2
            },
            "text/plain": [
              "Tab(children=(Output(), Output()), _titles={'0': 'Youtube', '1': 'Bilibili'})"
            ]
          },
          "metadata": {
            "tags": []
          }
        }
      ]
    },
    {
      "cell_type": "markdown",
      "metadata": {
        "execution": {},
        "id": "4Ui5t9hD0mXj"
      },
      "source": [
        "Take a few moments to chat with your pod about the following points:\n",
        "* Which societal costs of training do you find most compelling?\n",
        "* When is training an AI model worth the cost?  Who should make that decision?\n",
        "* Should there be additional taxes on energy costs for compute centers? "
      ]
    },
    {
      "cell_type": "markdown",
      "metadata": {
        "execution": {},
        "id": "XW5HoFsi0mXk"
      },
      "source": [
        "## Exercise 2: Calculate the carbon footprint that your pod generated today.\n",
        "\n",
        "You can use this [online calculator](https://mlco2.github.io/impact/#compute). "
      ]
    },
    {
      "cell_type": "code",
      "metadata": {
        "cellView": "form",
        "execution": {},
        "id": "zAnQpC2J0mXk",
        "outputId": "797c709d-f4dd-42de-9c07-535681bb8064",
        "colab": {
          "base_uri": "https://localhost:8080/",
          "height": 110,
          "referenced_widgets": [
            "5958b4ba3ff74aa99736d2c0336aec67",
            "a3b4c9611ab04335a0eac5773999c8db",
            "3afb52271ff045e18e1922e0fc2b08af",
            "bc136efd2eb14abca39af0b45fb38b81",
            "33859010bb6a4a1e903d4e2bfa97bc71",
            "a65c15e865ab4be5bad1a651fc9a71f5"
          ]
        }
      },
      "source": [
        "# @title Student Response\n",
        "from ipywidgets import widgets\n",
        "\n",
        "\n",
        "text=widgets.Textarea(\n",
        "   value='Type your answer here and click on `Submit!`',\n",
        "   placeholder='Type something',\n",
        "   description='',\n",
        "   disabled=False\n",
        ")\n",
        "\n",
        "button = widgets.Button(description=\"Submit!\")\n",
        "\n",
        "display(text,button)\n",
        "\n",
        "def on_button_clicked(b):\n",
        "   atform.add_answer('q1', text.value)\n",
        "   print(\"Submission successful!\")\n",
        "\n",
        "\n",
        "button.on_click(on_button_clicked)"
      ],
      "execution_count": 17,
      "outputs": [
        {
          "output_type": "display_data",
          "data": {
            "application/vnd.jupyter.widget-view+json": {
              "model_id": "5958b4ba3ff74aa99736d2c0336aec67",
              "version_minor": 0,
              "version_major": 2
            },
            "text/plain": [
              "Textarea(value='Type your answer here and click on `Submit!`', placeholder='Type something')"
            ]
          },
          "metadata": {
            "tags": []
          }
        },
        {
          "output_type": "display_data",
          "data": {
            "application/vnd.jupyter.widget-view+json": {
              "model_id": "bc136efd2eb14abca39af0b45fb38b81",
              "version_minor": 0,
              "version_major": 2
            },
            "text/plain": [
              "Button(description='Submit!', style=ButtonStyle())"
            ]
          },
          "metadata": {
            "tags": []
          }
        },
        {
          "output_type": "stream",
          "text": [
            "Submission successful!\n"
          ],
          "name": "stdout"
        }
      ]
    },
    {
      "cell_type": "markdown",
      "metadata": {
        "execution": {},
        "id": "0YOOJREs0mXk"
      },
      "source": [
        "---\n",
        "# Summary\n",
        "\n",
        "What a day!  We've learned a lot!  The basics of CNNs and RNNs, and how changes to architecture that allow models to parameter share can greatly reduce the size of the model.  We learned about convolution and pooling, as well as the basic idea behind RNNs.  To wrap up we thought about the impact of training large NN models."
      ]
    },
    {
      "cell_type": "code",
      "metadata": {
        "cellView": "form",
        "execution": {},
        "id": "vIKKcoHy0mXl",
        "outputId": "01e7b003-0508-4619-9e85-4e46becb1f94",
        "colab": {
          "base_uri": "https://localhost:8080/",
          "height": 158
        }
      },
      "source": [
        "# @title Airtable Submission Link\n",
        "from IPython import display as IPydisplay\n",
        "IPydisplay.HTML(\n",
        "   f\"\"\"\n",
        " <div>\n",
        "   <a href= \"{atform.url()}\" target=\"_blank\">\n",
        "   <img src=\"https://github.com/NeuromatchAcademy/course-content-dl/blob/main/tutorials/static/SurveyButton.png?raw=1\"\n",
        " alt=\"button link end of day Survey\" style=\"width:410px\"></a>\n",
        "   </div>\"\"\" )"
      ],
      "execution_count": 18,
      "outputs": [
        {
          "output_type": "execute_result",
          "data": {
            "text/html": [
              "\n",
              " <div>\n",
              "   <a href= \"https://portal.neuromatchacademy.org/api/redirect/to/351ca652-13d8-4e31-be28-30153d03e639?data=eyJmb3JtX2lkIjogImFwcG43VmRQUnNlU29NWEVHIiwgInRhYmxlX25hbWUiOiAiVzJEMV9UMiIsICJhbnN3ZXJzIjoge30sICJldmVudHMiOiBbeyJldmVudCI6ICJpbml0IiwgInRzIjogMTYyODU0MjgyNS40NDE0MjQ4fSwgeyJldmVudCI6ICJWaWRlbyAxOiBSTk5zIiwgInRzIjogMTYyODU0MjgyOS41NzM1ODYyfSwgeyJldmVudCI6ICJWaWRlbyAyOiBDYXJib24gRm9vdHByaW50IG9mIEFJIiwgInRzIjogMTYyODU0MzExNC41NDQ0ODd9LCB7ImV2ZW50IjogInVybCBnZW5lcmF0ZWQiLCAidHMiOiAxNjI4NTQzMTE0LjYwMjYxMzd9XX0%3D\" target=\"_blank\">\n",
              "   <img src=\"https://github.com/NeuromatchAcademy/course-content-dl/blob/main/tutorials/static/SurveyButton.png?raw=1\"\n",
              " alt=\"button link end of day Survey\" style=\"width:410px\"></a>\n",
              "   </div>"
            ],
            "text/plain": [
              "<IPython.core.display.HTML object>"
            ]
          },
          "metadata": {
            "tags": []
          },
          "execution_count": 18
        }
      ]
    }
  ]
}