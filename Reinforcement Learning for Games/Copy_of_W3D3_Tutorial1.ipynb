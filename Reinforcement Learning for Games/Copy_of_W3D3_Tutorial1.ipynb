{
  "nbformat": 4,
  "nbformat_minor": 0,
  "metadata": {
    "accelerator": "GPU",
    "colab": {
      "name": "Copy of W3D3_Tutorial1",
      "provenance": [],
      "collapsed_sections": []
    },
    "kernel": {
      "display_name": "Python 3",
      "language": "python",
      "name": "python3"
    },
    "kernelspec": {
      "display_name": "Python 3",
      "name": "python3"
    },
    "language_info": {
      "name": "python"
    },
    "widgets": {
      "application/vnd.jupyter.widget-state+json": {
        "21e1c3df5a324f31aa6bd190bb5cfaed": {
          "model_module": "@jupyter-widgets/controls",
          "model_name": "TabModel",
          "model_module_version": "1.5.0",
          "state": {
            "_view_name": "TabView",
            "_dom_classes": [],
            "_titles": {
              "0": "Youtube",
              "1": "Bilibili"
            },
            "_model_name": "TabModel",
            "_view_module": "@jupyter-widgets/controls",
            "selected_index": 0,
            "_model_module_version": "1.5.0",
            "_view_count": null,
            "_view_module_version": "1.5.0",
            "box_style": "",
            "layout": "IPY_MODEL_5722ba64e25147849c98016b57b8a3c2",
            "_model_module": "@jupyter-widgets/controls",
            "children": [
              "IPY_MODEL_b79e25627b19457f9280befb6e8b5d29",
              "IPY_MODEL_1be13c47d32648c1aa89af526443c5d2"
            ]
          }
        },
        "5722ba64e25147849c98016b57b8a3c2": {
          "model_module": "@jupyter-widgets/base",
          "model_name": "LayoutModel",
          "model_module_version": "1.2.0",
          "state": {
            "_view_name": "LayoutView",
            "grid_template_rows": null,
            "right": null,
            "justify_content": null,
            "_view_module": "@jupyter-widgets/base",
            "overflow": null,
            "_model_module_version": "1.2.0",
            "_view_count": null,
            "flex_flow": null,
            "width": null,
            "min_width": null,
            "border": null,
            "align_items": null,
            "bottom": null,
            "_model_module": "@jupyter-widgets/base",
            "top": null,
            "grid_column": null,
            "overflow_y": null,
            "overflow_x": null,
            "grid_auto_flow": null,
            "grid_area": null,
            "grid_template_columns": null,
            "flex": null,
            "_model_name": "LayoutModel",
            "justify_items": null,
            "grid_row": null,
            "max_height": null,
            "align_content": null,
            "visibility": null,
            "align_self": null,
            "height": null,
            "min_height": null,
            "padding": null,
            "grid_auto_rows": null,
            "grid_gap": null,
            "max_width": null,
            "order": null,
            "_view_module_version": "1.2.0",
            "grid_template_areas": null,
            "object_position": null,
            "object_fit": null,
            "grid_auto_columns": null,
            "margin": null,
            "display": null,
            "left": null
          }
        },
        "b79e25627b19457f9280befb6e8b5d29": {
          "model_module": "@jupyter-widgets/output",
          "model_name": "OutputModel",
          "model_module_version": "1.0.0",
          "state": {
            "_view_name": "OutputView",
            "msg_id": "",
            "_dom_classes": [],
            "_model_name": "OutputModel",
            "outputs": [
              {
                "output_type": "stream",
                "text": [
                  "Video available at https://youtube.com/watch?v=5kQ-xGbjlJo\n"
                ],
                "name": "stdout"
              },
              {
                "output_type": "display_data",
                "data": {
                  "text/html": [
                    "\n",
                    "        <iframe\n",
                    "            width=\"854\"\n",
                    "            height=\"480\"\n",
                    "            src=\"https://www.youtube.com/embed/5kQ-xGbjlJo?fs=1&rel=0\"\n",
                    "            frameborder=\"0\"\n",
                    "            allowfullscreen\n",
                    "        ></iframe>\n",
                    "        "
                  ],
                  "text/plain": [
                    "<IPython.lib.display.YouTubeVideo at 0x7fa84157dd10>"
                  ],
                  "image/jpeg": "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\n"
                },
                "metadata": {
                  "tags": []
                }
              }
            ],
            "_view_module": "@jupyter-widgets/output",
            "_model_module_version": "1.0.0",
            "_view_count": null,
            "_view_module_version": "1.0.0",
            "layout": "IPY_MODEL_69c1c2147ef340a589c43f9a0982c403",
            "_model_module": "@jupyter-widgets/output"
          }
        },
        "1be13c47d32648c1aa89af526443c5d2": {
          "model_module": "@jupyter-widgets/output",
          "model_name": "OutputModel",
          "model_module_version": "1.0.0",
          "state": {
            "_view_name": "OutputView",
            "msg_id": "",
            "_dom_classes": [],
            "_model_name": "OutputModel",
            "outputs": [
              {
                "output_type": "stream",
                "text": [
                  "Video available at https://www.bilibili.com/video/BV1Yh411B7EP\n"
                ],
                "name": "stdout"
              },
              {
                "output_type": "display_data",
                "data": {
                  "text/html": [
                    "\n",
                    "        <iframe\n",
                    "            width=\"854\"\n",
                    "            height=\"480\"\n",
                    "            src=\"https://player.bilibili.com/player.html?bvid=BV1Yh411B7EP&page=1?fs=1\"\n",
                    "            frameborder=\"0\"\n",
                    "            allowfullscreen\n",
                    "        ></iframe>\n",
                    "        "
                  ],
                  "text/plain": [
                    "<__main__.BiliVideo at 0x7fa83fd23750>"
                  ]
                },
                "metadata": {
                  "tags": []
                }
              }
            ],
            "_view_module": "@jupyter-widgets/output",
            "_model_module_version": "1.0.0",
            "_view_count": null,
            "_view_module_version": "1.0.0",
            "layout": "IPY_MODEL_210f2c658dce43dabfcc936869d970b4",
            "_model_module": "@jupyter-widgets/output"
          }
        },
        "69c1c2147ef340a589c43f9a0982c403": {
          "model_module": "@jupyter-widgets/base",
          "model_name": "LayoutModel",
          "model_module_version": "1.2.0",
          "state": {
            "_view_name": "LayoutView",
            "grid_template_rows": null,
            "right": null,
            "justify_content": null,
            "_view_module": "@jupyter-widgets/base",
            "overflow": null,
            "_model_module_version": "1.2.0",
            "_view_count": null,
            "flex_flow": null,
            "width": null,
            "min_width": null,
            "border": null,
            "align_items": null,
            "bottom": null,
            "_model_module": "@jupyter-widgets/base",
            "top": null,
            "grid_column": null,
            "overflow_y": null,
            "overflow_x": null,
            "grid_auto_flow": null,
            "grid_area": null,
            "grid_template_columns": null,
            "flex": null,
            "_model_name": "LayoutModel",
            "justify_items": null,
            "grid_row": null,
            "max_height": null,
            "align_content": null,
            "visibility": null,
            "align_self": null,
            "height": null,
            "min_height": null,
            "padding": null,
            "grid_auto_rows": null,
            "grid_gap": null,
            "max_width": null,
            "order": null,
            "_view_module_version": "1.2.0",
            "grid_template_areas": null,
            "object_position": null,
            "object_fit": null,
            "grid_auto_columns": null,
            "margin": null,
            "display": null,
            "left": null
          }
        },
        "210f2c658dce43dabfcc936869d970b4": {
          "model_module": "@jupyter-widgets/base",
          "model_name": "LayoutModel",
          "model_module_version": "1.2.0",
          "state": {
            "_view_name": "LayoutView",
            "grid_template_rows": null,
            "right": null,
            "justify_content": null,
            "_view_module": "@jupyter-widgets/base",
            "overflow": null,
            "_model_module_version": "1.2.0",
            "_view_count": null,
            "flex_flow": null,
            "width": null,
            "min_width": null,
            "border": null,
            "align_items": null,
            "bottom": null,
            "_model_module": "@jupyter-widgets/base",
            "top": null,
            "grid_column": null,
            "overflow_y": null,
            "overflow_x": null,
            "grid_auto_flow": null,
            "grid_area": null,
            "grid_template_columns": null,
            "flex": null,
            "_model_name": "LayoutModel",
            "justify_items": null,
            "grid_row": null,
            "max_height": null,
            "align_content": null,
            "visibility": null,
            "align_self": null,
            "height": null,
            "min_height": null,
            "padding": null,
            "grid_auto_rows": null,
            "grid_gap": null,
            "max_width": null,
            "order": null,
            "_view_module_version": "1.2.0",
            "grid_template_areas": null,
            "object_position": null,
            "object_fit": null,
            "grid_auto_columns": null,
            "margin": null,
            "display": null,
            "left": null
          }
        },
        "4a7205cb05aa4daea0520f5089496fde": {
          "model_module": "@jupyter-widgets/controls",
          "model_name": "TabModel",
          "model_module_version": "1.5.0",
          "state": {
            "_view_name": "TabView",
            "_dom_classes": [],
            "_titles": {
              "0": "Youtube",
              "1": "Bilibili"
            },
            "_model_name": "TabModel",
            "_view_module": "@jupyter-widgets/controls",
            "selected_index": 0,
            "_model_module_version": "1.5.0",
            "_view_count": null,
            "_view_module_version": "1.5.0",
            "box_style": "",
            "layout": "IPY_MODEL_13edad6a8067432e8a8250a3208842e5",
            "_model_module": "@jupyter-widgets/controls",
            "children": [
              "IPY_MODEL_d80a5fa1b11845439d972e50706589b7",
              "IPY_MODEL_9e3aba30b51e4c7885893f4af59fc17e"
            ]
          }
        },
        "13edad6a8067432e8a8250a3208842e5": {
          "model_module": "@jupyter-widgets/base",
          "model_name": "LayoutModel",
          "model_module_version": "1.2.0",
          "state": {
            "_view_name": "LayoutView",
            "grid_template_rows": null,
            "right": null,
            "justify_content": null,
            "_view_module": "@jupyter-widgets/base",
            "overflow": null,
            "_model_module_version": "1.2.0",
            "_view_count": null,
            "flex_flow": null,
            "width": null,
            "min_width": null,
            "border": null,
            "align_items": null,
            "bottom": null,
            "_model_module": "@jupyter-widgets/base",
            "top": null,
            "grid_column": null,
            "overflow_y": null,
            "overflow_x": null,
            "grid_auto_flow": null,
            "grid_area": null,
            "grid_template_columns": null,
            "flex": null,
            "_model_name": "LayoutModel",
            "justify_items": null,
            "grid_row": null,
            "max_height": null,
            "align_content": null,
            "visibility": null,
            "align_self": null,
            "height": null,
            "min_height": null,
            "padding": null,
            "grid_auto_rows": null,
            "grid_gap": null,
            "max_width": null,
            "order": null,
            "_view_module_version": "1.2.0",
            "grid_template_areas": null,
            "object_position": null,
            "object_fit": null,
            "grid_auto_columns": null,
            "margin": null,
            "display": null,
            "left": null
          }
        },
        "d80a5fa1b11845439d972e50706589b7": {
          "model_module": "@jupyter-widgets/output",
          "model_name": "OutputModel",
          "model_module_version": "1.0.0",
          "state": {
            "_view_name": "OutputView",
            "msg_id": "",
            "_dom_classes": [],
            "_model_name": "OutputModel",
            "outputs": [
              {
                "output_type": "stream",
                "text": [
                  "Video available at https://youtube.com/watch?v=aH2Hs8f6KrQ\n"
                ],
                "name": "stdout"
              },
              {
                "output_type": "display_data",
                "data": {
                  "text/html": [
                    "\n",
                    "        <iframe\n",
                    "            width=\"854\"\n",
                    "            height=\"480\"\n",
                    "            src=\"https://www.youtube.com/embed/aH2Hs8f6KrQ?fs=1&rel=0\"\n",
                    "            frameborder=\"0\"\n",
                    "            allowfullscreen\n",
                    "        ></iframe>\n",
                    "        "
                  ],
                  "text/plain": [
                    "<IPython.lib.display.YouTubeVideo at 0x7fa862da8990>"
                  ],
                  "image/jpeg": "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\n"
                },
                "metadata": {
                  "tags": []
                }
              }
            ],
            "_view_module": "@jupyter-widgets/output",
            "_model_module_version": "1.0.0",
            "_view_count": null,
            "_view_module_version": "1.0.0",
            "layout": "IPY_MODEL_54644dbc58c345188672e37f914af230",
            "_model_module": "@jupyter-widgets/output"
          }
        },
        "9e3aba30b51e4c7885893f4af59fc17e": {
          "model_module": "@jupyter-widgets/output",
          "model_name": "OutputModel",
          "model_module_version": "1.0.0",
          "state": {
            "_view_name": "OutputView",
            "msg_id": "",
            "_dom_classes": [],
            "_model_name": "OutputModel",
            "outputs": [
              {
                "output_type": "stream",
                "text": [
                  "Video available at https://www.bilibili.com/video/BV1Wy4y1V7bt\n"
                ],
                "name": "stdout"
              },
              {
                "output_type": "display_data",
                "data": {
                  "text/html": [
                    "\n",
                    "        <iframe\n",
                    "            width=\"854\"\n",
                    "            height=\"480\"\n",
                    "            src=\"https://player.bilibili.com/player.html?bvid=BV1Wy4y1V7bt&page=1?fs=1\"\n",
                    "            frameborder=\"0\"\n",
                    "            allowfullscreen\n",
                    "        ></iframe>\n",
                    "        "
                  ],
                  "text/plain": [
                    "<__main__.BiliVideo at 0x7fa862d9d9d0>"
                  ]
                },
                "metadata": {
                  "tags": []
                }
              }
            ],
            "_view_module": "@jupyter-widgets/output",
            "_model_module_version": "1.0.0",
            "_view_count": null,
            "_view_module_version": "1.0.0",
            "layout": "IPY_MODEL_437c45180dc34fca8ace48c4e825e5cc",
            "_model_module": "@jupyter-widgets/output"
          }
        },
        "54644dbc58c345188672e37f914af230": {
          "model_module": "@jupyter-widgets/base",
          "model_name": "LayoutModel",
          "model_module_version": "1.2.0",
          "state": {
            "_view_name": "LayoutView",
            "grid_template_rows": null,
            "right": null,
            "justify_content": null,
            "_view_module": "@jupyter-widgets/base",
            "overflow": null,
            "_model_module_version": "1.2.0",
            "_view_count": null,
            "flex_flow": null,
            "width": null,
            "min_width": null,
            "border": null,
            "align_items": null,
            "bottom": null,
            "_model_module": "@jupyter-widgets/base",
            "top": null,
            "grid_column": null,
            "overflow_y": null,
            "overflow_x": null,
            "grid_auto_flow": null,
            "grid_area": null,
            "grid_template_columns": null,
            "flex": null,
            "_model_name": "LayoutModel",
            "justify_items": null,
            "grid_row": null,
            "max_height": null,
            "align_content": null,
            "visibility": null,
            "align_self": null,
            "height": null,
            "min_height": null,
            "padding": null,
            "grid_auto_rows": null,
            "grid_gap": null,
            "max_width": null,
            "order": null,
            "_view_module_version": "1.2.0",
            "grid_template_areas": null,
            "object_position": null,
            "object_fit": null,
            "grid_auto_columns": null,
            "margin": null,
            "display": null,
            "left": null
          }
        },
        "437c45180dc34fca8ace48c4e825e5cc": {
          "model_module": "@jupyter-widgets/base",
          "model_name": "LayoutModel",
          "model_module_version": "1.2.0",
          "state": {
            "_view_name": "LayoutView",
            "grid_template_rows": null,
            "right": null,
            "justify_content": null,
            "_view_module": "@jupyter-widgets/base",
            "overflow": null,
            "_model_module_version": "1.2.0",
            "_view_count": null,
            "flex_flow": null,
            "width": null,
            "min_width": null,
            "border": null,
            "align_items": null,
            "bottom": null,
            "_model_module": "@jupyter-widgets/base",
            "top": null,
            "grid_column": null,
            "overflow_y": null,
            "overflow_x": null,
            "grid_auto_flow": null,
            "grid_area": null,
            "grid_template_columns": null,
            "flex": null,
            "_model_name": "LayoutModel",
            "justify_items": null,
            "grid_row": null,
            "max_height": null,
            "align_content": null,
            "visibility": null,
            "align_self": null,
            "height": null,
            "min_height": null,
            "padding": null,
            "grid_auto_rows": null,
            "grid_gap": null,
            "max_width": null,
            "order": null,
            "_view_module_version": "1.2.0",
            "grid_template_areas": null,
            "object_position": null,
            "object_fit": null,
            "grid_auto_columns": null,
            "margin": null,
            "display": null,
            "left": null
          }
        },
        "3d547bc02d084700b1ff1d599c938915": {
          "model_module": "@jupyter-widgets/controls",
          "model_name": "TabModel",
          "model_module_version": "1.5.0",
          "state": {
            "_view_name": "TabView",
            "_dom_classes": [],
            "_titles": {
              "0": "Youtube",
              "1": "Bilibili"
            },
            "_model_name": "TabModel",
            "_view_module": "@jupyter-widgets/controls",
            "selected_index": 0,
            "_model_module_version": "1.5.0",
            "_view_count": null,
            "_view_module_version": "1.5.0",
            "box_style": "",
            "layout": "IPY_MODEL_08dd1fb27ffd4eb39f897e15855d0494",
            "_model_module": "@jupyter-widgets/controls",
            "children": [
              "IPY_MODEL_78af2b416f944525bce327c102b0130e",
              "IPY_MODEL_3c513c5b80e44584af56d624ef2860a6"
            ]
          }
        },
        "08dd1fb27ffd4eb39f897e15855d0494": {
          "model_module": "@jupyter-widgets/base",
          "model_name": "LayoutModel",
          "model_module_version": "1.2.0",
          "state": {
            "_view_name": "LayoutView",
            "grid_template_rows": null,
            "right": null,
            "justify_content": null,
            "_view_module": "@jupyter-widgets/base",
            "overflow": null,
            "_model_module_version": "1.2.0",
            "_view_count": null,
            "flex_flow": null,
            "width": null,
            "min_width": null,
            "border": null,
            "align_items": null,
            "bottom": null,
            "_model_module": "@jupyter-widgets/base",
            "top": null,
            "grid_column": null,
            "overflow_y": null,
            "overflow_x": null,
            "grid_auto_flow": null,
            "grid_area": null,
            "grid_template_columns": null,
            "flex": null,
            "_model_name": "LayoutModel",
            "justify_items": null,
            "grid_row": null,
            "max_height": null,
            "align_content": null,
            "visibility": null,
            "align_self": null,
            "height": null,
            "min_height": null,
            "padding": null,
            "grid_auto_rows": null,
            "grid_gap": null,
            "max_width": null,
            "order": null,
            "_view_module_version": "1.2.0",
            "grid_template_areas": null,
            "object_position": null,
            "object_fit": null,
            "grid_auto_columns": null,
            "margin": null,
            "display": null,
            "left": null
          }
        },
        "78af2b416f944525bce327c102b0130e": {
          "model_module": "@jupyter-widgets/output",
          "model_name": "OutputModel",
          "model_module_version": "1.0.0",
          "state": {
            "_view_name": "OutputView",
            "msg_id": "",
            "_dom_classes": [],
            "_model_name": "OutputModel",
            "outputs": [
              {
                "output_type": "stream",
                "text": [
                  "Video available at https://youtube.com/watch?v=f9lZq0WQJFg\n"
                ],
                "name": "stdout"
              },
              {
                "output_type": "display_data",
                "data": {
                  "text/html": [
                    "\n",
                    "        <iframe\n",
                    "            width=\"854\"\n",
                    "            height=\"480\"\n",
                    "            src=\"https://www.youtube.com/embed/f9lZq0WQJFg?fs=1&rel=0\"\n",
                    "            frameborder=\"0\"\n",
                    "            allowfullscreen\n",
                    "        ></iframe>\n",
                    "        "
                  ],
                  "text/plain": [
                    "<IPython.lib.display.YouTubeVideo at 0x7fa83cc9ca50>"
                  ],
                  "image/jpeg": "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\n"
                },
                "metadata": {
                  "tags": []
                }
              }
            ],
            "_view_module": "@jupyter-widgets/output",
            "_model_module_version": "1.0.0",
            "_view_count": null,
            "_view_module_version": "1.0.0",
            "layout": "IPY_MODEL_dbfa07c6d8894565899c192f7e08fd1f",
            "_model_module": "@jupyter-widgets/output"
          }
        },
        "3c513c5b80e44584af56d624ef2860a6": {
          "model_module": "@jupyter-widgets/output",
          "model_name": "OutputModel",
          "model_module_version": "1.0.0",
          "state": {
            "_view_name": "OutputView",
            "msg_id": "",
            "_dom_classes": [],
            "_model_name": "OutputModel",
            "outputs": [
              {
                "output_type": "stream",
                "text": [
                  "Video available at https://www.bilibili.com/video/BV1pg411j7f7\n"
                ],
                "name": "stdout"
              },
              {
                "output_type": "display_data",
                "data": {
                  "text/html": [
                    "\n",
                    "        <iframe\n",
                    "            width=\"854\"\n",
                    "            height=\"480\"\n",
                    "            src=\"https://player.bilibili.com/player.html?bvid=BV1pg411j7f7&page=1?fs=1\"\n",
                    "            frameborder=\"0\"\n",
                    "            allowfullscreen\n",
                    "        ></iframe>\n",
                    "        "
                  ],
                  "text/plain": [
                    "<__main__.BiliVideo at 0x7fa83cc71410>"
                  ]
                },
                "metadata": {
                  "tags": []
                }
              }
            ],
            "_view_module": "@jupyter-widgets/output",
            "_model_module_version": "1.0.0",
            "_view_count": null,
            "_view_module_version": "1.0.0",
            "layout": "IPY_MODEL_0217e31ade24446996559d505b84db91",
            "_model_module": "@jupyter-widgets/output"
          }
        },
        "dbfa07c6d8894565899c192f7e08fd1f": {
          "model_module": "@jupyter-widgets/base",
          "model_name": "LayoutModel",
          "model_module_version": "1.2.0",
          "state": {
            "_view_name": "LayoutView",
            "grid_template_rows": null,
            "right": null,
            "justify_content": null,
            "_view_module": "@jupyter-widgets/base",
            "overflow": null,
            "_model_module_version": "1.2.0",
            "_view_count": null,
            "flex_flow": null,
            "width": null,
            "min_width": null,
            "border": null,
            "align_items": null,
            "bottom": null,
            "_model_module": "@jupyter-widgets/base",
            "top": null,
            "grid_column": null,
            "overflow_y": null,
            "overflow_x": null,
            "grid_auto_flow": null,
            "grid_area": null,
            "grid_template_columns": null,
            "flex": null,
            "_model_name": "LayoutModel",
            "justify_items": null,
            "grid_row": null,
            "max_height": null,
            "align_content": null,
            "visibility": null,
            "align_self": null,
            "height": null,
            "min_height": null,
            "padding": null,
            "grid_auto_rows": null,
            "grid_gap": null,
            "max_width": null,
            "order": null,
            "_view_module_version": "1.2.0",
            "grid_template_areas": null,
            "object_position": null,
            "object_fit": null,
            "grid_auto_columns": null,
            "margin": null,
            "display": null,
            "left": null
          }
        },
        "0217e31ade24446996559d505b84db91": {
          "model_module": "@jupyter-widgets/base",
          "model_name": "LayoutModel",
          "model_module_version": "1.2.0",
          "state": {
            "_view_name": "LayoutView",
            "grid_template_rows": null,
            "right": null,
            "justify_content": null,
            "_view_module": "@jupyter-widgets/base",
            "overflow": null,
            "_model_module_version": "1.2.0",
            "_view_count": null,
            "flex_flow": null,
            "width": null,
            "min_width": null,
            "border": null,
            "align_items": null,
            "bottom": null,
            "_model_module": "@jupyter-widgets/base",
            "top": null,
            "grid_column": null,
            "overflow_y": null,
            "overflow_x": null,
            "grid_auto_flow": null,
            "grid_area": null,
            "grid_template_columns": null,
            "flex": null,
            "_model_name": "LayoutModel",
            "justify_items": null,
            "grid_row": null,
            "max_height": null,
            "align_content": null,
            "visibility": null,
            "align_self": null,
            "height": null,
            "min_height": null,
            "padding": null,
            "grid_auto_rows": null,
            "grid_gap": null,
            "max_width": null,
            "order": null,
            "_view_module_version": "1.2.0",
            "grid_template_areas": null,
            "object_position": null,
            "object_fit": null,
            "grid_auto_columns": null,
            "margin": null,
            "display": null,
            "left": null
          }
        },
        "129ec25eeb984214a902046b797d4909": {
          "model_module": "@jupyter-widgets/controls",
          "model_name": "TabModel",
          "model_module_version": "1.5.0",
          "state": {
            "_view_name": "TabView",
            "_dom_classes": [],
            "_titles": {
              "0": "Youtube",
              "1": "Bilibili"
            },
            "_model_name": "TabModel",
            "_view_module": "@jupyter-widgets/controls",
            "selected_index": 0,
            "_model_module_version": "1.5.0",
            "_view_count": null,
            "_view_module_version": "1.5.0",
            "box_style": "",
            "layout": "IPY_MODEL_4e02ca5754fd4e8983a45efacd90189c",
            "_model_module": "@jupyter-widgets/controls",
            "children": [
              "IPY_MODEL_d169a36664444089a3fb07a86ad00cb8",
              "IPY_MODEL_f2ccbff040dd45dcbfd3148815d193fd"
            ]
          }
        },
        "4e02ca5754fd4e8983a45efacd90189c": {
          "model_module": "@jupyter-widgets/base",
          "model_name": "LayoutModel",
          "model_module_version": "1.2.0",
          "state": {
            "_view_name": "LayoutView",
            "grid_template_rows": null,
            "right": null,
            "justify_content": null,
            "_view_module": "@jupyter-widgets/base",
            "overflow": null,
            "_model_module_version": "1.2.0",
            "_view_count": null,
            "flex_flow": null,
            "width": null,
            "min_width": null,
            "border": null,
            "align_items": null,
            "bottom": null,
            "_model_module": "@jupyter-widgets/base",
            "top": null,
            "grid_column": null,
            "overflow_y": null,
            "overflow_x": null,
            "grid_auto_flow": null,
            "grid_area": null,
            "grid_template_columns": null,
            "flex": null,
            "_model_name": "LayoutModel",
            "justify_items": null,
            "grid_row": null,
            "max_height": null,
            "align_content": null,
            "visibility": null,
            "align_self": null,
            "height": null,
            "min_height": null,
            "padding": null,
            "grid_auto_rows": null,
            "grid_gap": null,
            "max_width": null,
            "order": null,
            "_view_module_version": "1.2.0",
            "grid_template_areas": null,
            "object_position": null,
            "object_fit": null,
            "grid_auto_columns": null,
            "margin": null,
            "display": null,
            "left": null
          }
        },
        "d169a36664444089a3fb07a86ad00cb8": {
          "model_module": "@jupyter-widgets/output",
          "model_name": "OutputModel",
          "model_module_version": "1.0.0",
          "state": {
            "_view_name": "OutputView",
            "msg_id": "",
            "_dom_classes": [],
            "_model_name": "OutputModel",
            "outputs": [
              {
                "output_type": "stream",
                "text": [
                  "Video available at https://youtube.com/watch?v=tvmzVHPBKKs\n"
                ],
                "name": "stdout"
              },
              {
                "output_type": "display_data",
                "data": {
                  "text/html": [
                    "\n",
                    "        <iframe\n",
                    "            width=\"854\"\n",
                    "            height=\"480\"\n",
                    "            src=\"https://www.youtube.com/embed/tvmzVHPBKKs?fs=1&rel=0\"\n",
                    "            frameborder=\"0\"\n",
                    "            allowfullscreen\n",
                    "        ></iframe>\n",
                    "        "
                  ],
                  "text/plain": [
                    "<IPython.lib.display.YouTubeVideo at 0x7fa862dbe510>"
                  ],
                  "image/jpeg": "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\n"
                },
                "metadata": {
                  "tags": []
                }
              }
            ],
            "_view_module": "@jupyter-widgets/output",
            "_model_module_version": "1.0.0",
            "_view_count": null,
            "_view_module_version": "1.0.0",
            "layout": "IPY_MODEL_4a82808b55924a41bc36088964642bc7",
            "_model_module": "@jupyter-widgets/output"
          }
        },
        "f2ccbff040dd45dcbfd3148815d193fd": {
          "model_module": "@jupyter-widgets/output",
          "model_name": "OutputModel",
          "model_module_version": "1.0.0",
          "state": {
            "_view_name": "OutputView",
            "msg_id": "",
            "_dom_classes": [],
            "_model_name": "OutputModel",
            "outputs": [
              {
                "output_type": "stream",
                "text": [
                  "Video available at https://www.bilibili.com/video/BV1Ug411j7ig\n"
                ],
                "name": "stdout"
              },
              {
                "output_type": "display_data",
                "data": {
                  "text/html": [
                    "\n",
                    "        <iframe\n",
                    "            width=\"854\"\n",
                    "            height=\"480\"\n",
                    "            src=\"https://player.bilibili.com/player.html?bvid=BV1Ug411j7ig&page=1?fs=1\"\n",
                    "            frameborder=\"0\"\n",
                    "            allowfullscreen\n",
                    "        ></iframe>\n",
                    "        "
                  ],
                  "text/plain": [
                    "<__main__.BiliVideo at 0x7fa83cc78090>"
                  ]
                },
                "metadata": {
                  "tags": []
                }
              }
            ],
            "_view_module": "@jupyter-widgets/output",
            "_model_module_version": "1.0.0",
            "_view_count": null,
            "_view_module_version": "1.0.0",
            "layout": "IPY_MODEL_89a87a188dc74f0b91dc0ba9a52ca67b",
            "_model_module": "@jupyter-widgets/output"
          }
        },
        "4a82808b55924a41bc36088964642bc7": {
          "model_module": "@jupyter-widgets/base",
          "model_name": "LayoutModel",
          "model_module_version": "1.2.0",
          "state": {
            "_view_name": "LayoutView",
            "grid_template_rows": null,
            "right": null,
            "justify_content": null,
            "_view_module": "@jupyter-widgets/base",
            "overflow": null,
            "_model_module_version": "1.2.0",
            "_view_count": null,
            "flex_flow": null,
            "width": null,
            "min_width": null,
            "border": null,
            "align_items": null,
            "bottom": null,
            "_model_module": "@jupyter-widgets/base",
            "top": null,
            "grid_column": null,
            "overflow_y": null,
            "overflow_x": null,
            "grid_auto_flow": null,
            "grid_area": null,
            "grid_template_columns": null,
            "flex": null,
            "_model_name": "LayoutModel",
            "justify_items": null,
            "grid_row": null,
            "max_height": null,
            "align_content": null,
            "visibility": null,
            "align_self": null,
            "height": null,
            "min_height": null,
            "padding": null,
            "grid_auto_rows": null,
            "grid_gap": null,
            "max_width": null,
            "order": null,
            "_view_module_version": "1.2.0",
            "grid_template_areas": null,
            "object_position": null,
            "object_fit": null,
            "grid_auto_columns": null,
            "margin": null,
            "display": null,
            "left": null
          }
        },
        "89a87a188dc74f0b91dc0ba9a52ca67b": {
          "model_module": "@jupyter-widgets/base",
          "model_name": "LayoutModel",
          "model_module_version": "1.2.0",
          "state": {
            "_view_name": "LayoutView",
            "grid_template_rows": null,
            "right": null,
            "justify_content": null,
            "_view_module": "@jupyter-widgets/base",
            "overflow": null,
            "_model_module_version": "1.2.0",
            "_view_count": null,
            "flex_flow": null,
            "width": null,
            "min_width": null,
            "border": null,
            "align_items": null,
            "bottom": null,
            "_model_module": "@jupyter-widgets/base",
            "top": null,
            "grid_column": null,
            "overflow_y": null,
            "overflow_x": null,
            "grid_auto_flow": null,
            "grid_area": null,
            "grid_template_columns": null,
            "flex": null,
            "_model_name": "LayoutModel",
            "justify_items": null,
            "grid_row": null,
            "max_height": null,
            "align_content": null,
            "visibility": null,
            "align_self": null,
            "height": null,
            "min_height": null,
            "padding": null,
            "grid_auto_rows": null,
            "grid_gap": null,
            "max_width": null,
            "order": null,
            "_view_module_version": "1.2.0",
            "grid_template_areas": null,
            "object_position": null,
            "object_fit": null,
            "grid_auto_columns": null,
            "margin": null,
            "display": null,
            "left": null
          }
        },
        "a1b889eddd034e4885817290219618a2": {
          "model_module": "@jupyter-widgets/controls",
          "model_name": "TabModel",
          "model_module_version": "1.5.0",
          "state": {
            "_view_name": "TabView",
            "_dom_classes": [],
            "_titles": {
              "0": "Youtube",
              "1": "Bilibili"
            },
            "_model_name": "TabModel",
            "_view_module": "@jupyter-widgets/controls",
            "selected_index": 0,
            "_model_module_version": "1.5.0",
            "_view_count": null,
            "_view_module_version": "1.5.0",
            "box_style": "",
            "layout": "IPY_MODEL_5bf233e7c9aa4ffa84fc57a79fa76b80",
            "_model_module": "@jupyter-widgets/controls",
            "children": [
              "IPY_MODEL_30c67f6de72e4ef58557038a5bd230ef",
              "IPY_MODEL_25ca4ed02dba46e6977536a1bda55cca"
            ]
          }
        },
        "5bf233e7c9aa4ffa84fc57a79fa76b80": {
          "model_module": "@jupyter-widgets/base",
          "model_name": "LayoutModel",
          "model_module_version": "1.2.0",
          "state": {
            "_view_name": "LayoutView",
            "grid_template_rows": null,
            "right": null,
            "justify_content": null,
            "_view_module": "@jupyter-widgets/base",
            "overflow": null,
            "_model_module_version": "1.2.0",
            "_view_count": null,
            "flex_flow": null,
            "width": null,
            "min_width": null,
            "border": null,
            "align_items": null,
            "bottom": null,
            "_model_module": "@jupyter-widgets/base",
            "top": null,
            "grid_column": null,
            "overflow_y": null,
            "overflow_x": null,
            "grid_auto_flow": null,
            "grid_area": null,
            "grid_template_columns": null,
            "flex": null,
            "_model_name": "LayoutModel",
            "justify_items": null,
            "grid_row": null,
            "max_height": null,
            "align_content": null,
            "visibility": null,
            "align_self": null,
            "height": null,
            "min_height": null,
            "padding": null,
            "grid_auto_rows": null,
            "grid_gap": null,
            "max_width": null,
            "order": null,
            "_view_module_version": "1.2.0",
            "grid_template_areas": null,
            "object_position": null,
            "object_fit": null,
            "grid_auto_columns": null,
            "margin": null,
            "display": null,
            "left": null
          }
        },
        "30c67f6de72e4ef58557038a5bd230ef": {
          "model_module": "@jupyter-widgets/output",
          "model_name": "OutputModel",
          "model_module_version": "1.0.0",
          "state": {
            "_view_name": "OutputView",
            "msg_id": "",
            "_dom_classes": [],
            "_model_name": "OutputModel",
            "outputs": [
              {
                "output_type": "stream",
                "text": [
                  "Video available at https://youtube.com/watch?v=vj9gKNJ19D8\n"
                ],
                "name": "stdout"
              },
              {
                "output_type": "display_data",
                "data": {
                  "text/html": [
                    "\n",
                    "        <iframe\n",
                    "            width=\"854\"\n",
                    "            height=\"480\"\n",
                    "            src=\"https://www.youtube.com/embed/vj9gKNJ19D8?fs=1&rel=0\"\n",
                    "            frameborder=\"0\"\n",
                    "            allowfullscreen\n",
                    "        ></iframe>\n",
                    "        "
                  ],
                  "text/plain": [
                    "<IPython.lib.display.YouTubeVideo at 0x7fa83c7e9d90>"
                  ],
                  "image/jpeg": "/9j/4AAQSkZJRgABAQAAAQABAAD/2wCEABALDBoYFhsaGRoeHRsfIjElIyIiIzYtLSMwMSo2MDIqLS01QlBCNT1POTAtRWFFS1NWW1xdMkFlbWRYbFBZW1cBERISGRYZMBsbL1c4NUJXV1dYV1dXV1dXV11XV1ddV1dXXVdXV1dXV1dXV1pXV1dXV1dXV11XV1dXV1dXXV1XV//AABEIAWgB4AMBIgACEQEDEQH/xAAbAAEAAgMBAQAAAAAAAAAAAAAAAwQBAgUGB//EAEUQAAEDAgMECAQCBgkEAwEAAAEAAhEDBBIhMQUTQVEXIlNhcYGS0hQykaFCsQYVI1LB0TM0YnJzgpOy8BZjouFDVPEk/8QAGAEBAQEBAQAAAAAAAAAAAAAAAAIBAwT/xAAeEQEBAAIDAQEBAQAAAAAAAAAAAQIRAyExQRJRE//aAAwDAQACEQMRAD8A+foiICIiAiIgIiICIiAiIgIiICIiAiIgIiICIiAiIgIiICIiAiIgIiICIiAiIgIiICIiAiIgIiICIiAiIgIiICIiAiIgIiICIiAiIgIiICIiAiIgIiICIiAiIgIiICIiAiIgIiICIiAiIgIiICIiAiIgIiICIiAiIgIiICIiAiIgIiICIiAiIgIiICIiAiIgIiICIiAiIgIvX9HN72tv6nexOjm97W39TvYg8gi9f0cXva2/qf7E6OL3tbf1P9iDyCL1/Rxe9rb+p/sTo4ve1t/U/wBiDyCL1/Rxe9rb+p/sTo4ve1t/U/2IPIIvX9HF72tv6n+xOji97W39T/Yg8gi9f0cXva2/qf7E6OL3tbf1P9iDyCL1/Rxe9rb+p/sTo4ve1t/U/wBiDyCL1/Rxe9rb+p/sTo4ve1t/U/2IPIIvX9HF72tv6n+xOji97W39T/Yg8gi9f0cXva2/qf7E6OL3tbf1P9iDyCL1/Rxe9rb+p/sTo4ve1t/U/wBiDyCL1/Rxe9rb+p/sTo4ve1t/U/2IPIIvX9HF72tv6n+xOji97W39T/Yg8gi9f0cXva2/qf7E6OL3tbf1P9iDyCL1/Rxe9rb+p/sTo4ve1t/U/wBiDyCL1/Rxe9rb+p/sTo4ve1t/U/2IPIIvX9HF72tv6n+xOji97W39T/Yg8gi9f0cXva2/qf7E6OL3tbf1P9iDyCL1/Rxe9rb+p/sTo4ve1t/U/wBiDyCL1/Rxe9rb+p/sTo4ve1t/U/2IPIIvX9HF72tv6n+xOji97W39T/Yg8gi9f0cXva2/qf7E6OL3tbf1P9iDyCL1/Rxe9rb+p/sUB/QS7wudvKEDXrO9qM3p5dF6Zn6D3REipQ9Tvatv+hLvtKHqd7Vm43Ty6L1I/QK77Sh6ne1Z/wCgLztKHqd7U3DTyqL1X/QF52lD1O9q1P6B3faUPU72p+oaeXRenP6DXQ/+Sh6ne1an9CbrtKPqd7U3B5pF6M/oXc/v0fU72rU/odc/v0fU72puDzyL0B/RC4/fo+p3tWP+kbj9+l6ne1NwcBF3x+iNx+/S9Tvan/SNx+/R9Tvam4Pr6IsrQREQEREBERAREQEREBERAREQEREBERAREQEREBERAREQEREBERAREQEREBERAREQEREBERAXILxu6s8z+a664LKzWOe+oQGMk58T/wA/NbK5ct1APwUi6TlqCNFOx8rzx2qx9R2MgB7pE6aZDPjkpLfbNOrjax+Bw+UkTPeBxUZ9t49zu16am2VYbTXltk3O7uH1LiqDUPVAkARkZDZK9JTv6LgTvGiNZIEeK53G7ddpixQ1KS1O1rX/AOxS9YUZ2xanIXFJx4APElLjYSo6jVC4LepXk5Kjf3W6ZigHuJhVjC1DtLaNO3bL5z0AVKy23RruwNJDuRGq4e1bx1brHITkI081zLdwpvZUxQWmSOcGIV3Fkr3pK0JVWx2i2voOE6qyVCmzDmPELJ1UT3QFkFYPYIiLqkRQ3NzTosL6r2sYNXOMATkFUp7es3ODW3NIuJAADxmToEHRRFgkAScgEGUWlOo17Q5pDmkSCDII5grdAREQEREBFpVqtY1z3kNa0SSdABqSsNrMLsIcC6MUTnB4xyQSIiICIiAiLEiY48kGUREBEWr3hoLnGABJJ4AcUGyLVjw5oc0yCJBHEHisVqrWNc97g1rRJJMADmSg3RRW1yyqzHTcHNPEKVAREQEREBERAREQEWCYEnIIgyiIgIiICIiAvG7Q2aa5e5j462c6a5HJeyXlKlTAa+YaTIg6On8iqxm3Ll8eLrW7gMxmROmYUNs4xIJGWZBifuvT390y2YKeDeVHtjETzECeS8eQ4CPLw/5BUZYyMmVs8dLaVIPe0NOEt+WoXH9ocsmnn3ypm2jqVKq55bLmGADJPeVy7ag81A4NDyJOGTnAJhdj9GrVm0qj21QKZY0EOpyDy4yJWXL66Sbjl21bMFaUHzcU/wDEb/uC+n7Wq7m03Ix1Kj24GQM3EN1MeCq7KeazKza2He0qmCWiBED/ANqP9VTj+tmOXJ2xWBfgOgbJK7LqcFcW5tatatUpNiGj5jyOcLthU5PM3ddrjAyAMqk8B8gLo3n6P3DXfLI5jNKewK5GkeJS1WOFY/Ryvgrhs5ObHmvWErhfozsNxvy15jdsnLPM6faV7l+xaJaWlzpjUOg+K51Xjx207qCyKkDOQ38UDRW9nPeaTN588Zrn7c2NTtywUXO1kYnExxJVzZ1817mswuM/iHDxWbjHvURF0YELi7LyqbRIiRXkZf8AZYu0qtCwaw1yC79u7E6eBwhuXkAg5lrd1hYsuK1x16zKeHDSBwlw0a0ZucZ45dyWl3VFapRe+o8bg1BvaYa5pBiMgA4Gfsrztks+GpW4c8CkG4HgjE0sEB2kT5Qs09mftDUfVfUeaZp54QIJByAA5IOZaXNeoLGmyoKYq2pe8tY3UYPlEQPmPd3K/setULrilVfvDRq4Q8gAkFjXZxlPWUltstlI0CHOO4pGk2YzBw5nLXqhTW1o2m+s8Ek1Xh7p4ENDcvJoQUdo3DjW3TK1VpawOc2jSDiJJguLgRGWQGeRVjYl26tbMe8gu6wJAicLi2Y4TEws1tnTWNanVfSc5oa/CGkPDZw/MDBEnTmpbCzbQpCm0ucASZdr1nFx/NBzqPxFd9yBcmkKdUtYGsafwtPWkZiTwjxUNDada4bbU2uFJ9QVDUeADG6dgOAHLMnjMBSUdl1XVLoitWoY6xPUwkPbgaJGIGNDmIVqpsanu6TKbn0jR/o3sPWbOs4gQ6eMhBzNqVqrKF/bVX72LV1RjyAHQQ5pa4DLIjWBr3K1WvtzUqvIBbTsxUiBJguyxaxlorA2Kw0q7alSpUfXZgfUdGLDBAAAEACTw4qx+r2bwvMuxUhSLToWgk/xQVrS2uSGPfdSXCXsDG4RI/BxEGMyTMKqNp1XW1NgIF26ruHGBk5p6740+QFw8Qrlpst1JzYuazqbPkpktgZQAXAYnAd5Kr7Ps8d7WujTexpaGsDxBc6IdUw8Mg1v+VBa25cvo2depTMPYwlpInNQOdXo3NuHVzUbWLmuYWABpDC4FsZ8IzJ1V6/tG3FGpRcSGvbhJbqPCVm4tG1KlF5JBpOLhHGWlufkUHBZtWrVa+q2rWY7E7d0227nMIaSAHOwkkmM4Iie5TNbUq39CpvH08dsXYC1vVzZLMxOvmrv6oLS7dXFWlTc4udTZhiSZOElpLZM6HwhTXGz8dalWbUex1MFpwwQ9pIJa7EDyGYzQcmptauLdgaZr03PNbqjrNonrwOBcMMf3lNd7WqNNy+mQ6nTbTYwHQ1HmZJ1gBzPqV0KGzKbLitXE4qwAcCeqIEEgd8CfAKK12LRp2zrbrPpvnFiOZnvHIQB4BBBUNe2fRc+uazKlQU3tc1ogumHMwjnwM5KJtStVpXb31eow1mNYGjMCQJOuXd91bo7Iiox9WvVr7szTa/CA0xGLqgYjBOZnVWKez2tp1qYLoque4nKRj1j6oOXsXaBuN1TovDadGmwvMdaoS3RoP4cjLuYgKx+k9NzrQw8tGJkwAcUvAgyPPyVn9VsBoOaXNdRAaHCJc2ILXZQQY/lCmvbUV6ZpuJAJBka5OB/gg581zd7gVyGMose52BuJxxuB4QJjPLwhaUHXNy2rWp190GveymwMaQcDi2XzmZIOhEBdNto0V3VpOJzAyOEAkz45qlV2LLn7uvWpU6hLqlNmGHE/MQSCWzxghBWpbQrXLrQMfuRWove+AHEEFo6pPiVXrXN020uavxJxWrngdRv7TBn18uWXVhdqns6mypSeyWijTNNrRphOH2haP2Ux1G4olzsNcuLjlIxiDGSC1VrBlNzyMmtLo8BK87S2pWNJlcVKz3uAcaIt3buDBLWuwTIGjpgxyXpcIiNRELnW+yTSwtZcVhRaerS6sADRuLDiw909yCttPaVa3q7sEONxAoF0DduyBx6S3ORxnLiFJVNc3LLdtctbuMTnhjcROKJEiB9FaqbKpvNY1JeawwmT8rRo1saQc51nPkqVTZtQ3TCKtVuG3wisMMk49HAjCZHcghq7VrUKdem9wqVKdRjGVMOoqRBc1upGeQ1gc1LaXtQV6TA+vWZUkP3lAs3ZwkhwdhaIyiDzCtM2LS3VSm8vqGq7E+o4w4uEQ4EREQIjSFLaWVRjsT7mrVgQA4MA8ThaJPig4lZ1evs25q1K+WCsAxrGwQ1zhmSOIEZR9c139n03No0w55ecI6xAB8MgAoqWy6bbZ9tLjTeHgyc/wBo5xOn94qayt3UqYY6o6qR+JwAMcB1QAg5NCrc1qVW5bXwAF+7phjS2GEjrEiSTE5EQsuvnvpWoFao2pUoio4UqYc85N60kYWiTyznJV7u2c012UmXbQ8uO6bh3by78QqasBJkjEPBdGnskhtAtqup1aVIUi5gBDgAMiHAjUSCgojaVc2ww1BvBdNo43MjE0vAlzOBg92nBS0xcm6q23xTsIptqB+BmMYnObhGUR1Z0lWxsdmDCXvP7cVySRJcHB0aaZKy2zaLh1eTicxtMjhDS4g+PWKDijbFU29q1ziKlUvDqjKZcQKZglrADmcuEDNS0b24iuylvKxFIvpOq0jTOLTAZDQeBHmrn6nZuadNr3tdTcXMqAjE0kknhBGZEEQpaVi4NeH3FWoXiMRwtLf7oaAB4oKeyLvFVLHXFVz8MmlWpBjgZHWbAEjwnUZqjbVGVKtVp6zSCCPzXXttmltVtWpXqVntaWsxhoDQYnJoEkwMyvMsBpGphJBc50HOBLiqxvbly+OPWbSFV5rEwHZFupIy/ILmbdoYCyoww1+jZ1ga/dW9t03PexlNgbLiY0nxlVqmz3gsxc4Pd3gqckY+xx6NdzCHtdDmuEfzXuv0VvKYaTToCkHgFzsU4nDLy7h4rzH6je4uBq02tboSYnj/ACXU2e6lQpspsqNe8nMjMa6+XeueU3HpnT0m0rqa9rn+J/8AsKr7Iuh8TdgHIua4ebYP5Lk175wq29So4Gl1iHRBHVgz+agpbRd8W91BjXMLRLnGA0D8R/kpx4/4256r0+0tpNoUnVHCY4DU+Cg2JtelcUa1UNLXNIaecRI/53Lz20KzXmazzUiOqOq0eWv3XY/R6q39rThrRhBAAj/mq9GOFk7c/wBS1eF21/ykLR9do1KUbGm573DIjU6T/NV2WzA8ujMHiude3Dx5zbm0H07pwp1HtBDSQHETl3dygofpDWoQ+m8h+knPLiM1S2jUFavUfMS7I9wyCiFsIzJ8lcnTy5XddG7/AElrVR1oJGhjn3JT/SN2IOcwFwEawPouW8U28CfNV3HklxjJX35FhFgyiIgIiICIiAiIgwsoiAiIgwiyiAiIgIiICIiAiIgIiICIiAiIgIiICwsogIiwgyiIgwsoiAiIgIiIC8rtKgXVJD4psOTAPqSecyvVLx21tqUqGIPfLp+XjmcleMcuT5HE2zVe2oyoySSc4EkTGq0vrxriym50YRiOUFx1De4qltPatUD9nhbPECXR48FWpXOJ2B7BDYcXHU6TPisvXibj3tJWvHVhSYGN/aOgNOsaYpXe2t8PZ0KYa0GoRhZ5DU935qCo2k5++aWsY38MBod/FV9uV/2YrFjMy0Mzk4dT+ZWy9Vz9sjnOvJcHEYqpOTjo3LJsc/8A0rF8dzTbSBlzpLzzJaVVs6mKo4ANDGnGQOf/AOwql1c4nzPGVmE1Nu2t1K+oalTuyH0XTpXBY972H5Gh0fvAEAj6Fcijkp6FaKgJORBafBwg/mug9Lv2VaYdTqkA8MWY5grm3u1sM0qTy4wcTjoABMD8pXGqU4JB1BhAwNY5373Vb+bj+Q81H5dZyXWlQKak4rRbNIHFbpG2ta3MjCCQeSlt9mvc4YhA+66mwwH1Q05yD9l6I2zQOAU2N290iLKlTC5O1tuttajGGmXYhiJBiBMZczkuuo6lBjyC5jXFuYJAMeCDdQXtUspy3IlzWgnhicBP3U6xUYHNLXAEHIgoKNeq6gRL3VGlrjDokFrZkEDTh5hSV70tJaGSYZGcfO4t+0KRllTbORMjCcTi7LlJJgLDLGm3QE/LmXEnqmW6ngUGa9ZzcADQXPMfNAHVJ1ju5KFl893VbTGMYsQLoAwuw5GM5OmSnubYVCySQGunIkH5SNRpqtTY04AwkROYcQc8zJBkydZQVmXxc5pBIY7AQMsgWOcZ+ilbePwNqOpgMdhgh0kBx1IjvHHmpxasBBDQIiI4QCBl4EqKpYtwPYzq4hhzJIAPJpMDyQYrXTtxVqMA6odhk64eP1BWGXJYx2IS5haCZmcUcYHPkrAoN3e7jqYcMd0QtKlnTc7EQZy/EQDGhImCgg/WBGbmAMxPbIdJ6mKco5NPFKtzWDWHAwYntHzk5E8ctVZ+GZl1dHFw8XTP+4/VaCxp4cMOiQfndlBkRnl5IIad289VjcTpcTidEAPLQMh3f+1j9ZEjG1ksAY4kugw/kI4eKnfZUyNCNdHEHrGSJB0J4Lc2rIIwiCACBlkNEGl1dbsxhmWkjPUiIb5z9lAb/EW4QQCQCe803OwnwgfVXKtFr8OIThdiHcef3WjbSmNGx1i/zIIJ+5QQ7PrOfOIz1WH6tkqP9YuDA91MBrmlzYdJyEwcssgeau0qDWfKIyA+ggKtQ2cxrA10uOEtMkxB1gTlPcgw+8eJimCWNxu6+gMwBlmYB5DvWla9eQTTaAwPY3ETn1i2YbGkOjVWq1ox5lw4RkSJHIwcx3FYfZU3OxFpkkEw4gEiIJAMTkPogjdfgMDy3Il4PcGYs/8Ax+6xUvHsaC9jQXEBoDidQT1ssshwlStsqYdiw5yTBJIE6wJgTJWBZUw0th0ZavcYjTCZ6vkgUbnFTc8jDhmZ0y4gkDJYs7o1C4FoaWgHInQzzAPDkphRbgLIJaZBxEmZ5krFG3awktmSACS4k5aanvKCBl44sdUwNFOCWkuzMGBIjKfNRC+qOcwBrQd5gdJOmDFlLZ+o4Kx8FT62Rh0yMRjMySBMAznIWfg6fIziDpxGZAiZmdMkFZm1QQXFhwYS4ESTAE5iIE+K3devbIfTAdDYAfIJc7CATAjNTC0YMUA5giCSW569WYUFDZwGLGQ4FobHWyAM6kk6/SEGfjX4gw0xvMeGMXVzaXAzE8OSU7t7uqxoc7rE4nQAA8tGg7lPTtGNggGQ7FJJJmMMknM5ZLDrKmYyIicw4g9YyRIOk8EETr6KoZhEE4ZBORwk8o4c1LYvL6FJzjLnMaSeZICz8IzFigzOL5jExExMcSpKVMMa1rRDWgADkAg2hIWUQYhIWUQYhIWUQYhIWUQYVY7OoEkmhSJOpwDP7K0iCs2woiYo0hPJg/ksvsqLvmpUz4sB/grCIK7rGiYmjTMaSwfyWDs+hEbmlGsYB/JWFq2o0uLQc2xI5ToghGz6HY0vQP5LX9WW/wD9ej/pt/kra0fVa0tBMFxwjvMEx9AUFf8AVtv2FL/Tb/JP1bb9hS/02/yVpa1ajWNxOMAankggOzqB/wDgpehv8kOzqB1oUsv7Df5KysoKn6st+wo/6bf5J+rLfsKP+m3+StogrM2fQaZbRpA8wwD+C2dZ0jrTYfFoU6ICLEogyiIgKK4rbtswSZAAHEkwApVHWoh7cLtMjlqCDII80FNt6/G4OaRFTDhAk/0WOPqsjaDnBhY1pxPDT1wYynyPcpm2TAZ6xOLFJcZnDgn6J8E3WXF0g4pzy0/M/VBDUviWyGlo64EwZwg592YWRfkAB7CCWhwzGYJDT4QXD6qc2jCAIMDFx/emfzKj/V7IIOIyMIJcZaAZgHhmAfJBrVvHCq1jWz+0wOJP/bx5f84LVl+cMhheQ3G6IECTEDicjkpRYs1l2LEH4sWchuH8skds+mRHWAw4TDoxCSYP1P1Qa/HycmEsxNbikfiAIMf5gpK1wWuwtYXujERIEDTjxWfhWZ5auDvNsR/tCVrZryCS4ECJaYMHggibtBrhIBzwYRxcH6H85/ulRjazCCYkYXOEOBJwicxwkBWRaUw5jg2DTGFsaARGnh+ZWosmYXNl2BwIw4sgDrCDZ1eKeNzcOUwSPz0VSptAlstyIxg8c2sxCD9Feq0Q9uEzGWmogyD9QojYsMzJmSSTrLcJ+wQZq3BaKfVxOeYAmM8Jd/BRtvi6GtpkvzlsgRhMHPzEKS4tse7gkBjpyOfyuGR81r8CyBBcCJ6wdmcRkyUGlPaDXPY0D5gCMRAJnkDrHFas2hibIEdZoiQSMTohzdWlTfBs6ozDWxDZy6uhhBZMmSXOOUEmYg4gPqgr0752AYmxiLw12WZGIjLwb9kbtRogGJAbi6wBlwBybqdQp22DAfxECSAXZAumSPqfqtm2bWkFpc3SQDkYECfIBBmtcFrmsa0ucQTExAESfuFTo7ROAOcJOBjjwAxFwkngOqrta3Dy10kOboWmDB1H2C0ZZMaIaXN6obIdnDZj/cUGovC4gMZiOEOMOEAEwIPGYP0Wj9ogAktgYyxpLgA4iZz4DIqQWLBGEuaQIJDoJEzn5k/Vbm0YWxmOsXgg5gkkkg+Z+qCsNpS5pgYMLy8zMYY0jUZ/dS2t82q7DkDGIQ4Oy740K3daNOGS44QRmZkO1B5hb0aAZo5x4DEZgdyCB20GiphMRmJkHQEmR4ArWpeVAxrhSjE5oEuGjjHkVKLJmKc4xF0TlLgQcu+T9VgWLcOHE+Mo6x6uEyIQaNvCeq1pe6X5ZCA15asHaIjE1hLQ1riZAgO7uYhSmyZwLmmXZtMHrGSPqs/B04LQIBaGwDwbogxRuw+o5kRhnUicjE4dYPAqwoHWjS4uLnzBA63yzrHJToMoiICIiAiIgIiICIiDV5IaSBJjITE90rk0by6fVDJt/wAWYa45Mc0O483EeS66q0NnU6bqbmzNNjmAk6hxBdPMy0FAo7QY+pgAMEuAdwcWEBwHgTHkVSt7zc2e/IL31HkgcXOfUwsbPm1vgFvszZG5e17sOJjCxsfikgue7vMDLhnnmpKNgMD6DwSwVN5TdOnX3g8C132A70G1tdvNarTqYIptaS8ZCXTLYJ4AAz/aWtWu2r8JUYZa+oHDKMjSfw4LW42Q006+7J3lZrgXOM9YtDcX0a3uEaKV9u4fDgNADKkkN0aMDwPzAQQ1NqOF0KEBsuAbiaQKgiXFr/lkZ9XXIq7TrU6weAQ4AljuWmY79VHS2dTYQQDAcXtbwDnTLvHrHXmobK2fb0XgNaXlznAN/E5zi6SeAl3kBxQb7HqF1syTJbiZJ44HFs/ZXlBZW+6pMpzOEQTzPE/WVOgIiICIiDCIsoMLn7Q2zRtntZUxS4TkPlExJ+66Kq3WzqNZzXVKYc5uhP5HmPFBZUN5WNNgcIgOGLwJgn7z5KZa1aYe1zTo4EHzQUPj3EvADZ3gazvbiwkn0vP0Vi3v2VHAAEYhLSY6wHgZHmjbBgNI5k02lok6yIk8zr9Ss21oKfykwBABjIeMSfNBH8fDqgNN3VeGNiOsSAea2N80VN2QQTkDIOeHFEAzoCtzaNLy6Tm4OjKJAifpC1+BbiDpdAcXgZRJBB4TxKCNm0RhBLXEQwucAABjiMpnj3qxXuMBa0Nc9zpIa2NBqcyBxCjbYMDC2TBDR6dPyUla3xkODnNc2QHNjQ6jMEcAggdtJgBIa9wDA9xAHVEkZydRhOSluLgsfSaGl2N2EkRl1Sf4fmtPgGYXNzhzN2c+HWz8esVNWo4ywyQWOxCPAiM+4lBVobRGAGo0t6hdigQY1jOeIU9tdtqEtghwAMEg5HQ5E8itTYsLWtMkNaW68DE/kpKFDBPWLvEAfkAgg/WI4U6hnFGmeEweP5rJ2g2JDXFoALnACGgiROc6Z5KRlo0RE5Yo/wA5kqP9XNjCHODSA1zZEPAECcuWWUINnXzAJMjNwP8AZwzJPdl9wtP1myCSCCIyluYJgGQYGfNSGyYXvcQTjbhI4RoY8YH0CMtIaQHuz4w2RHln5oNn3IbSNQggATGRP2MKI34BILHhwIGHKTimCM44H6LNSz//AJ3UmcQczlmTJ008lltkMWJznOdIMmPwzAyGmZQPjhPyOw4sOLKMWkazrlOkrV9+3C0tnrAHSYBcGwROuf2PJbfBNxTidhxY8GWHFrPPXOJiUFgwY4nruDjnpDsUDumT5lBob6XMhpDC8tLzEGA6YznUcQsM2nTIJgjq4hocQkDIA65jIxqtxYtBHWcWhxcGZQCQZ4TxKN2e0MLMTi0iAMuryggTOmqDa3uHPqPaWluENMGJznkSOAUX6xAbJa50NLiWgCACRxPcp6Fvgc5xc5znAAkxwmNAOa0FiwBwkw5hYfAkn+JQbXFwWGkA0uD3YcoyyJnPwUFHaIwg1Glowudi4ENOfGdFZq0A4MzILCCCPCOPcSozYsLQ0yWgOEcw7VBtb3YqEtgtcADBIOR8CVG3aDC7CAcyWgyMyJkRM8DqOCmt6GCesXeIH8AFHTsg0ktcQCSYyyJ1IMTqSg1G0GES1rnZhuQ/Efw5nUceSHaLdMLscluAwCIAJzJjQjjxWr9ngACmS3rNJz4g5u/vH7rY7PbridjkuL8iTIAOUREAcOAQav2kMJLGOeQzHwgaiDnzaVbpPxNa4iCRMHgohaN60ycTMB8M+XHMqWkzC0NkmBEnU/RBuiIgIiICIiAiIgIiICIiAiIg4e0Nr7u/oUZ6kQ/xfk36QPqu4uDtDZFF97SxNJNQPLuscy0NiM8vJd1BlERAREQEREBERAREQEREBR1qwY3E7TIZCSSTAAHipFFcUd42JIMggjgQZCCBl7O8lruq4NAjPNoOfDissv2ufAa4twY5jviI1nJamwk4i8lxfjzaInBhiPBY/Vow4Q8xgLDkMwTP8UG/x7I0dOLDhjOYnw0Wz71jdcWQBd1flB0xclH8Bk7rDrEEjAMOQjRajZjQRBnqhpxNDicPHMZFBYt7jGXjCRhdhz4960+PYMU4hhE5t1ExkPHhqpKVDCX5mHGY5ZQc1WZsxoEYjk0NEADIOBz5nJBL8c3k/Fiw4cOcxP5ZytRe/sKlXCeoX5cThJHHwW1SzlxeHFrsWIGJjq4YjiIWW2gFJ9MuJD8UnKesST+aCMbQAc4Oa4AYc40xfvealbdsLsOepaHRkSNRPkVp8HIcC4kuwyY/dSlYNa/EIjEXRhEycz1tYkyg3r3jGEg4jAxOgThHM/Q/RbG5ZnmcnBmnExH5hR17PGXEPLcbcLojMZ6ToczmtTY9bJ5DcTX4YGrYGvLIIMUtoBzW9R+J2KGgSYaYJ+4UgvaZaXAmGtDzlwMx+RUIsnte3C8gAPzgGMTmmI46HNDs0YS1r3BpYGOyBJiTM88ygsW1xvC8YSMDsOfHLVaW961+EAEktDjAyGLTvUlGjgc8zIc7FHIxH8FA3Z4G762VMNAyE9X+1rB4hBm7vTTLmhpJFMvnhlwWwvmZyHAiMi3M4tIHkfos3NpvCTiIlhYR3Fa17FtQkkmThjIGMJJGR11KCVty0sc/MBk4pGbYEmR4LT4xuEGHZmGiM3ZTl5Lajb4GFoIBM5taB9tPqoGbODcw6HYsQIaAAYj5e8HNBrW2jBbgaTIcTIOWCAWxwMlSfrFgAJa8ZNJ6pOHEYE+ayyxaMy4kw8E88ZBJ+ywLEYSC4kkMEwPwGQg3+NbhJwvydhIjMHX8o+qC+pnDBPWALcvmnl/HktX2ILi6cy4uzAIzaGnLy1WrNnhuDrOmmAGHlGv14oM3V2adRrYywue50TAbEx9VJVu2NyM/h0E/MYH3Wa9q2oZJPyOZlydE/wC1RCxzl1QuPU4AfI6Qg2+ObGQcXSRhw9aRr/DPvC1+O6zm4SILBLgROMgfXNZdZ9Yva8tdiJmAdQARH+UFHWcukvJnATkMywyD5oMi/Z/ajOHRk6NYPkfFb0LpryQA4GA7MRIOhH0UI2eIDS84GzhbA6sgjXjAJhSi2gghxBwtboNAZ+6DNpcb1mLCW5kQe4wp1DbUd20tkkYiRPCTMfdTICIiAiIgIiICIiAsLKIOPX28Gl0MGAPdTDn1GtxOaYdhBzMEEeSy/bTm0xVNJgpuiH79sGdIPFczZ9TcVK9Z7HOZvKzZa3E6nFd7jLRnDgWmRy8EtXhrvi8OKiXVHYGwXUcQb1sI4nC4kDMY/FBaqbRc91O6DKe6pB4Lt+2M4GvCIVmjtl1RrnMpMc1vzEV29Xjnyy5rn1gd4brARSFRjjTMBz4a5u8w85c2Ac+oOMLW4cLouuKTf2bWtDg+GGthqBxaQdAAHDrR8x4IL9Lb2NrnMpNeGDE7BWa4gc448V2Kbw5ocNCJHmvNXF4y6aK9MFtOnSqzUeMOIFhGATmRMGdOqF6CzEUaY/sN/IIJ0REBERAREQYRFlAREQEREBERAREQEREBERAREQEREBERBhFlEBERAREQEREBERBhZREBERAREQEREBERAREQEREBERAWFlEHIvTYOqu31Ok+oMnE0sZGWhIBXDvf1cGvayhSe1wJa/dFopuzyxhvPQc8shCsWAbUq1adZxbT3tZzG4y0PO/qBxMETAw5d8rNIh5bQqPJs8T20yX5VQA2GOdxAJqAc8HHiEFOlY04LadG4cYBDqGHCQP3g0geETnqqdAWBDHvpsEANqg0YBz+VmWZ5mZIy45dTGGPNFlRws940OeHnqEtcXUw/UNxBmc5YyEuS2ialOg8ihhaa0OxCjNQAlpMxLS4nlE+IS2LtmgF+7oA7xxDzSgAYjBxRAXo15mrRpUP2dqeo6jU3lMPLmhuAkPiTBxQO/EdYXoLL+hpf3G/kEE6IiAiIgIiICIiDChr3lKm5ralRrS7QE6qZczaew6dzUY97nAtEEDiJmPuUHTUdxW3YBIkFwae6TE/UhSKO5o7ym5mmIRPI8CgrnaA68NJLajWD+1JAkd0yP8AKVYp3LHkhrgSP+Zc/JVWbOIdScXThBx5fO7PPuzc4+azZ2JplskHAIaZdP0JgZDh9kEvx1OXgujA4NM8yJyW/wASzFhxdblzymJ5woXWji8mRhL2v78hEfZaGycagcXAgPLs5mC1zQ2NMp+yCZt9T6suALgDE6YtM1vUuWtqMYZxPmPJVmbPIplmIZhgmP3I/kprm3L3NIMABwPg4Rl3oN6Nyx5IY4EjPy5jmO9avvaTXYS8SDEd8THjHBR29q8OY57mnAwsbhETMST6Rks/CHEHSP6Xeaf2MMIJDeUwGnGIdmD/ABPLzWXXDBPWEgkR3gTH0VOrs5xaW4xBa4ZzlicTIAOesZ8lI6xJqOqYhLgWkRlhjLznOfLkgl+OpiJeAcsuUiQFn4xhggy0gmf7pAOWvFRNsSBGIfOx2n7gaP4LHwbwS5jwHRUgkaY3BwPlCCYXtPDixiJjjqNRGqzXumMp7wmW5QRnMmFWNg6KcEAskQHOEgxJJBmZEz4qZ9r+w3bYByPGJBniZ1QKd8xzyyYcHYR35A/x0UlO5Y5xa1wJH8NY5qL4Q5yRJqippyAy+yjs7DdlsmQwQ0y6eWhMDLl9kEz7wBzmx8pjXXqY1s27ZhkuA6ocRyxaKGpZFzy7EM3YtP8At4P/AGom7MLaeAPylrhMziGRzBmDHl4ZIJ6l80AEZghxmYjCJIM6LZl6wvcwmHB2Ed/VB/j9lXfs4uaRIBcHzqc3NDQZJngFN8IetmM6rX6fuhuX/iglZdU3OLQ8Eiftr4wtW3lIgkPENEk93A+Crfq5xa2m5w3bA4NgdYy0tz8ifErL7F783ObiaAGwDGTg6SPFoy8UFm3uW1C8N0aQJ8ROnBauv6QDjiBwgkxyGsc1m3ouBqOeQS8jJvCBCrCwdhawubhYxzGQMzIiT5ckE3xrRTY94jGQABnrotqF6x5LZh2JzY54SR/CYWa9AuY0NIlpac9DhMqL4GWtBdpUe8xyeH5f+f2QWKVwx5Ia4GP+SOY70+IZjwYhi5fePFV7OzNMguIJa3CDLjllwJgaDRausXGpiLpGMu1MwWkYY0ESgkqbRpNE4pEgZDmYnvC3N4wCXEDrFvOY10UPwtTdCniZ1cOEwc8JBz+nBBaPa7GxzcUvyIMQ4g/UQEE77yk2JeMwD5HQ+Hesm6pguGIdUEnujXNVm7Oim9gd81MMmOIxZ/8AlothbPFRzmua2ZyzhxIyxNmPMZlBcWVgLKAiIgIiICIiAsLKIOTdbCZVD27x7abyXOpgMc2XZkgOaYkklcy72YaVGpQN1W+Umm0tY8PbHy4cOUacuPONLekbqrWacOJtSpiqPBcY3r2Ma0SAAAz/AJmVE3Z1OqTa7um2s3E19aCTDQ0yyTqd4MiSBmM0CnZVhFtVrVmUHNDYphrg0EfI4tZIJ+kHXSZbKyNKlSZQuqjab2z1RTimScy7qaHQd/dMafAsYfhDTpOqlzYqkGC0tccbhPzjdnQ8jloo6myaVuDbupsquqAGnUzaSS8M/aQYIBcD3iRCDqbP2E0U3sFeqGF7w5owDEMRBkhs5+K7rGgAAZACAF5N2yxatwPIqY2VMNQAsqNe1pfMg6QD3iBrK9RavLqVNxzJaCfogmREQEREBERBiUREGUREBERAREQEREBERAREQEREBERBhZREBQ3dcUqVSoQSGNLiBxgSplS21/U7n/Bf/tKCSzuH1AS+k6lpEuaZnwKjvtoigHE03uDQCS2MpMAZkSSeCs0Pkb/dH5KttK0fWFNow4W1GvcDOeB2IDLvAPkgmt65fjljmFrsJDozyBkQTlmp0WEGUREBERAREQEREBQXVZ7ACykap4gOAjvzKnWDoUENlcitRp1QC0PaHQdRI0KmVDYP9St/8Jv5LoICIiAiIgIiICIiAsLKIOBU2PWa5xpYc3vcHioWOAe8vLSMJBEkwh2XXwNaKdJpaS4PbXfjk6kuwZzxld9EHmn2tRrm0HMpGpVJeHmu/GXNA62LBkY04aqYbMrw8Pp0qheAHOfXcXQMwAQwRBzyjNUtr07k7RpvZTJw/wBGMQ6wbm7j3lerQcAbLuetO7LnMLA99ZzywO1wtwgcu8xqu7Rp4GNaPwgD6CFuiAiIgIiICIiDCyiICIiAiIgIiINKlQMaXOIDWiSToANSqVltUVqjmbqqwBgqB7wAHNOh1yOWhg9yqfpPXAotpHFFV7RUwsc6KYMvJDQTBAw/5lJdbRp17au23Jedy84mgwDEYSeB7tckFr9YtFEVi04XkCm0ZufiMNgcJ17hrGcYZtIENJaWjeGk6SOo+YAPMEwJ7x5UdpQXWby5wpMa54LBJLsENAEGSQ50BafCupbOcKhO9e7GZ1xvqAgeIJA8kHeRR3QdgdhxYuGEgHyJyXMwXHK5/wBSl/JB0by43VN1TA5+HUNifuQFTZteXUwbeq0VHYQ4lhAMkZgOJAkawpdqPDbV+Ix1Yz5rk2dxTo1RUFR9V1UimKYzwzVPWGXVEGTPJB6NZVCltLE54NGoxjPme4tgZYtA7FpHDitmbUpHIlzHSBge0tcZMCAdR4ILqLmOqVH3NZorOp06bGzAbk4yTmQfw4fqrGy7h1a3pVHCHOaCconvjhOvmgtqltr+p3P+C/8A2lTMu6bqjqQe01GiXNnMA81Dtr+p3P8Agv8A9pQVts7Ofc2eClUfSqgBzHNcW5gaGOBVL9HnUbuicbXsr0zgrM3j+q4cfm0K79H5G/3R+S4VaxnarK1s7C4Ni6y6rmx1Qf7enkJ5SFu72BTqDqVK9J/Bzaz8j/dJgq1c3Zo0WvqMLjLWuwRkXECc4yk+KtrnbfeBbOni9n+9p/IFB0Vlecu6z8F0Zd8TvP8A+cAnMQMGEaEHOfOVHVqB9w5tWrhAr9Yl7gC008IpiMh1iOOonVB6ZFy9sW4qPosLqvWOjHuYAGgucSWkEzAbnzyVK3uRQt7cNNUGrTNWo5znPc1rWguI3hMZlo8zkg7dzcYMAAxOe7C0eUkk8AACVMuPbvqOrWL6ohzrZ5cOAed0Y+mL7qlc3Dy4l7qjahusIDSf2dJhJGQy64bx1xgcMg9HVfhY52sAn6BKL8TGuiJAP1CoNu31RdAswsZLWnLM4AToeZjyXO2pWqbumKRzp0cRpmQKuIQAxw1eMJygjrCeCD0R0y1UNtcCqzFEEEtc0/hcDBH148VXtbl5rvpYTgpsb1yQSXGZBz5Rw4rGz/6S7/d32X+kyfvKBsH+pW/+E38l0Fz9g/1K3/wm/kuggIiICIiAiIgIiICIiAiLCDn3X9ctv7tT8mroLn2l/TrvpuawkOa51OpAOWQMkfLMjLX6LoAg6GUGUREBERAREQEREBFhEGUREBERAREQYSFlEENrbikwMaThHyg/hHBo7hw7krW4e5hcTDDiDeBPAnw/PwUyIMLKIgIiII2UGtxwIxnE7vMASfIAeSyWAkEgEjQxp4LdEFP9V0ZeS0nGcTgXuIcYjMTByA+ioUDRvajntOdCoabmuHFrs/IgZeK7SipWzGOc5ogu+bvQbNoMDy8NaHkQXRmfNVttf1O5/wAF/wDtKuqltr+p3P8Agv8A9pQR7RuK1O2Bt6Rq1SAABHVkfMZImOXFUrO9qUaYY2wujxc5xpy9x1c7r6lX7+5fStcdMAvwta0E5YnQ1v3IWKu1Aw4XBpMCYqMGo7yD9kFC72velsUNn1A85B1V7A1veQ0klduiwtY1pcXEAAuOp7yuXcX73n9m7ABQfUkYXSWkACRIjWYXTtqhfTY8iC5odHKRKCRU3bMYQ5mJ4pucXOpyMJLjiPCcySdeKuogwobi0p1IxtDo084kHmMhlpkp0QQ3FuKmGSQ5rsTXDUHT8iR5qVZRBXFmwCphEGpOI+OscualpU8LWt5AD6BboggFqwPdUaIe7U+QGnkPos29uKVPC2TqSTq4nMuPeSSVMsHQoKGwf6lb/wCE38l0Fz9g/wBSt/8ADb+S6CAiIgIiICIiAiIgIiIChu2PdSe2k/BUI6ronCecFTIg4rNni3Ne4ZTFI7oyylmXkdbEREYuAgcT5Wth08FtTbiL4Alx4mJcRGoklX1lAREQEREBERAREQYSVS37uab93NBdlJVLfu5pv3c0F2UlUt+7mm/dzQXZSVS37uab93NBdlJVLfu5pv3c0F2UlUt+7mm/dzQXZSVS37uab93NBdlJVLfu5pv3c0F2UlUt+7mm/fzQXZSVS37+ab9/NBdlR3FFtSm+m6cL2lpjkRBVbfv5pv380G1LZ7GsLHOfVaYyqHFEaR9vorIY0AANAAyGWiqb9/NN+/mgnr2tOoIexrhBGY4HUeB4jiplS37+ab9/NBdlJVLfv5pv380F2UlUt+/mq1xtJzXBgc3Ef3jAH8yYOQ5FB1llebutr12VKbIc7E9rXOYzCGEZnN2RaZAkaZ5yuoy4qFoxZGMxrHmg6CKjv3c037uaC8oLq23gA3lRkH8DonxUG/dzTfu5oLFpbto0mUmThY0NEmTA5lTKjv3c037uaC8io793NN+7mgvIqO/dzTfu5oLyKjv3c037uaC8io793NN+7mgvIqO/dzTfu5oLyKjv3c037uaC8io793NN+7mgvIqO/dzTfu5oLyKjv3c037uaC8io793NN+7mgvIqO/dzTfu5oInCQRz5Lh0qVzTZLd45+Op87nOhuOGZE/ur0e7as7oIPPfEXonE2RPzNpyQA94kNnOQGHuxKHFfHE7MOEuDcEt/ofl1z68hen3QTdBBxLa6rVTcNMRTBaC38TiJAGeRAgHvUGO4cKMMqthjQ+QQcQc2eOeU5r0W6byTdBB5yzqXTcAe18ECSWl5JwU8jn1ROPPmPrHdX95Sp4ywHDRL3nBADt253Pg4NGvFen3QTdN5IOLTfdPoVMOFtXFFN1RhALcsy0HL8Q8gq93SuTdhzce6/ZgkOMD5y7qaEGGgnhIK9Fugm6CDgMNd9g1v7VlcNY1xI6xOWIj75rFKteF+EthuKC4s+UYnDI4utLQ0zzPkPQboJugg8/d/EC5lrajhiZgwuhgb+PFGUzPzcIhRC7vnMcRTwuEkSzXqyG6j8WU//q9Lugm6CDgfEXgqNaWNLcTgXYD1gHmNJjqwe9XNl1ar6U1mw8GNInTMDUDXX/2unugm6CCBFPuhyTdDkggRT7ock3Q5IIEU+6HJN0OSCBFPuhyTdDkggRT7ock3Q5IIEU+6HJN0OSCBcW6vKZuRSjeGpLhhbizYCC0HQEEA/Veh3QUT7Om4kuEyAIJyyMjLnP5BBx3U3B27JNRzmQHkjE2cIMgaCGgzz8V1lJTtabJwtDZMmBErfdBBAin3QTdBBAin3QTdBBAin3QTdBBAin3QTdBBAin3QTdBBAin3QTdBBAin3QTdBBAin3QTdBBAin3QTdBBAin3QTdBBAin3QTdBBAin3QTdBBAin3QTdBBAsKxugm6CDaECFG6INW1AXFozLde7u8VI0KJlINJIyxZkcJ5qZhQRvrMaYcYymYy0nXwBW9MhzQ4aHmFFXtG1HS5x0IjLiIOevl3BSW9IU24QZzJ4cTOgQCtGVA6YOhg9xW5UdOkGknUuOZP2HggkWlJ+JswR3Hx7luo6FLA0Ny46CBmZ0QbhZWBxWUBERAREQEREBERAREQEREBERAREQEREBERAREQEREBERAREQEREBERAREQEREBERAREQEREBERAREQEREGFqW95C+b9IV52dv6Xe5OkK87O39Lvcg+kYO8pg7yvm/SFednb+l3uTpCvOzt/S73IPpGDvKYO8r5v0hXnZ2/pd7k6Qrzs7f0u9yD6Rg7ymDvK+b9IV52dv6Xe5OkK87O39Lvcg+kYO8pg7yvm/SFednb+l3uTpCvOzt/S73IPpQELK+adIV52dv6Xe5OkK87O39Lvcg+lovmnSFednb+l3uTpCvOzt/S73IPpaL5p0hXnZ2/pd7k6Qrzs7f0u9yD6Wi+adIV52dv6Xe5OkK87O39Lvcg+lovmnSFednb+l3uTpCvOzt/S73IPpaL5p0hXnZ2/pd7k6Qrzs7f0u9yD6Wi+adIV52dv6Xe5OkK87O39Lvcg+lovmnSFednb+l3uTpCvOzt/S73IPpaL5p0hXnZ2/pd7k6Qrzs7f0u9yD6Wi+adIV52dv6Xe5OkK87O39Lvcg+lovmnSFednb+l3uTpCvOzt/S73IPpaL5p0hXnZ2/pd7k6Qrzs7f0u9yD6Wi+adIV52dv6Xe5OkK87O39Lvcg+lovmnSFednb+l3uTpCvOzt/S73IPpaL5p0hXnZ2/pd7k6Qrzs7f0u9yD6Wi+adIV52dv6Xe5OkK87O39Lvcg+lovmnSFednb+l3uTpCvOzt/S73IPpaL5p0hXnZ2/pd7k6Qrzs7f0u9yD6Wi+adIV52dv6Xe5OkK87O39Lvcg+lovmnSFednb+l3uTpCvOzt/S73IPpaL5p0hXnZ2/pd7k6Qrzs7f0u9yD6Wi+adIV52dv6Xe5OkK87O39Lvcg+lovmnSFednb+l3uTpCvOzt/S73IPpaL5p0hXnZ2/pd7k6Qrzs7f0u9yD6Wi+adIV52dv6Xe5OkK87O39Lvcg8miIgIiICIiAiIgIiICIiAiIgIiICIiAiIgIiICIiAiIgIiICIiAiIgIiICIiAiIgIiICIiAiIgIiICIiAiIgIiICIiAiIgIiICIiAiIgIiICIiAiIgIiICIiAiIgIiICIiAiIgIiICIiAiIgIiICIiAiIgIiICIiAiIgIiICIiAiIgIiICIiAiIgIiICIiAiIgIiICIiAiIgIiICIiAiIgIiICIiAiIgIiICIiAiIgIiICIiAiIgIiICIiAiIgIiICIiAiIgIiICIiAiIgIiICIiAiIgIiICIiAiIgIiICIiD//2Q==\n"
                },
                "metadata": {
                  "tags": []
                }
              }
            ],
            "_view_module": "@jupyter-widgets/output",
            "_model_module_version": "1.0.0",
            "_view_count": null,
            "_view_module_version": "1.0.0",
            "layout": "IPY_MODEL_71cb325acc4d4256929d099abc10ce52",
            "_model_module": "@jupyter-widgets/output"
          }
        },
        "25ca4ed02dba46e6977536a1bda55cca": {
          "model_module": "@jupyter-widgets/output",
          "model_name": "OutputModel",
          "model_module_version": "1.0.0",
          "state": {
            "_view_name": "OutputView",
            "msg_id": "",
            "_dom_classes": [],
            "_model_name": "OutputModel",
            "outputs": [
              {
                "output_type": "stream",
                "text": [
                  "Video available at https://www.bilibili.com/video/BV1hQ4y127GJ\n"
                ],
                "name": "stdout"
              },
              {
                "output_type": "display_data",
                "data": {
                  "text/html": [
                    "\n",
                    "        <iframe\n",
                    "            width=\"854\"\n",
                    "            height=\"480\"\n",
                    "            src=\"https://player.bilibili.com/player.html?bvid=BV1hQ4y127GJ&page=1?fs=1\"\n",
                    "            frameborder=\"0\"\n",
                    "            allowfullscreen\n",
                    "        ></iframe>\n",
                    "        "
                  ],
                  "text/plain": [
                    "<__main__.BiliVideo at 0x7fa83c7e9fd0>"
                  ]
                },
                "metadata": {
                  "tags": []
                }
              }
            ],
            "_view_module": "@jupyter-widgets/output",
            "_model_module_version": "1.0.0",
            "_view_count": null,
            "_view_module_version": "1.0.0",
            "layout": "IPY_MODEL_942bb1985ed948e09e983a4a5d762b31",
            "_model_module": "@jupyter-widgets/output"
          }
        },
        "71cb325acc4d4256929d099abc10ce52": {
          "model_module": "@jupyter-widgets/base",
          "model_name": "LayoutModel",
          "model_module_version": "1.2.0",
          "state": {
            "_view_name": "LayoutView",
            "grid_template_rows": null,
            "right": null,
            "justify_content": null,
            "_view_module": "@jupyter-widgets/base",
            "overflow": null,
            "_model_module_version": "1.2.0",
            "_view_count": null,
            "flex_flow": null,
            "width": null,
            "min_width": null,
            "border": null,
            "align_items": null,
            "bottom": null,
            "_model_module": "@jupyter-widgets/base",
            "top": null,
            "grid_column": null,
            "overflow_y": null,
            "overflow_x": null,
            "grid_auto_flow": null,
            "grid_area": null,
            "grid_template_columns": null,
            "flex": null,
            "_model_name": "LayoutModel",
            "justify_items": null,
            "grid_row": null,
            "max_height": null,
            "align_content": null,
            "visibility": null,
            "align_self": null,
            "height": null,
            "min_height": null,
            "padding": null,
            "grid_auto_rows": null,
            "grid_gap": null,
            "max_width": null,
            "order": null,
            "_view_module_version": "1.2.0",
            "grid_template_areas": null,
            "object_position": null,
            "object_fit": null,
            "grid_auto_columns": null,
            "margin": null,
            "display": null,
            "left": null
          }
        },
        "942bb1985ed948e09e983a4a5d762b31": {
          "model_module": "@jupyter-widgets/base",
          "model_name": "LayoutModel",
          "model_module_version": "1.2.0",
          "state": {
            "_view_name": "LayoutView",
            "grid_template_rows": null,
            "right": null,
            "justify_content": null,
            "_view_module": "@jupyter-widgets/base",
            "overflow": null,
            "_model_module_version": "1.2.0",
            "_view_count": null,
            "flex_flow": null,
            "width": null,
            "min_width": null,
            "border": null,
            "align_items": null,
            "bottom": null,
            "_model_module": "@jupyter-widgets/base",
            "top": null,
            "grid_column": null,
            "overflow_y": null,
            "overflow_x": null,
            "grid_auto_flow": null,
            "grid_area": null,
            "grid_template_columns": null,
            "flex": null,
            "_model_name": "LayoutModel",
            "justify_items": null,
            "grid_row": null,
            "max_height": null,
            "align_content": null,
            "visibility": null,
            "align_self": null,
            "height": null,
            "min_height": null,
            "padding": null,
            "grid_auto_rows": null,
            "grid_gap": null,
            "max_width": null,
            "order": null,
            "_view_module_version": "1.2.0",
            "grid_template_areas": null,
            "object_position": null,
            "object_fit": null,
            "grid_auto_columns": null,
            "margin": null,
            "display": null,
            "left": null
          }
        },
        "7996eafc4b6d4b8db37e95c764dc0cdf": {
          "model_module": "@jupyter-widgets/controls",
          "model_name": "TabModel",
          "model_module_version": "1.5.0",
          "state": {
            "_view_name": "TabView",
            "_dom_classes": [],
            "_titles": {
              "0": "Youtube",
              "1": "Bilibili"
            },
            "_model_name": "TabModel",
            "_view_module": "@jupyter-widgets/controls",
            "selected_index": 0,
            "_model_module_version": "1.5.0",
            "_view_count": null,
            "_view_module_version": "1.5.0",
            "box_style": "",
            "layout": "IPY_MODEL_90dc5eb1f6f84fba8b8bc5b0c3dfe72c",
            "_model_module": "@jupyter-widgets/controls",
            "children": [
              "IPY_MODEL_6b8f1edf6f144dc783a0d2e3479184ca",
              "IPY_MODEL_233f59b4d4b14721a52690beb04368a9"
            ]
          }
        },
        "90dc5eb1f6f84fba8b8bc5b0c3dfe72c": {
          "model_module": "@jupyter-widgets/base",
          "model_name": "LayoutModel",
          "model_module_version": "1.2.0",
          "state": {
            "_view_name": "LayoutView",
            "grid_template_rows": null,
            "right": null,
            "justify_content": null,
            "_view_module": "@jupyter-widgets/base",
            "overflow": null,
            "_model_module_version": "1.2.0",
            "_view_count": null,
            "flex_flow": null,
            "width": null,
            "min_width": null,
            "border": null,
            "align_items": null,
            "bottom": null,
            "_model_module": "@jupyter-widgets/base",
            "top": null,
            "grid_column": null,
            "overflow_y": null,
            "overflow_x": null,
            "grid_auto_flow": null,
            "grid_area": null,
            "grid_template_columns": null,
            "flex": null,
            "_model_name": "LayoutModel",
            "justify_items": null,
            "grid_row": null,
            "max_height": null,
            "align_content": null,
            "visibility": null,
            "align_self": null,
            "height": null,
            "min_height": null,
            "padding": null,
            "grid_auto_rows": null,
            "grid_gap": null,
            "max_width": null,
            "order": null,
            "_view_module_version": "1.2.0",
            "grid_template_areas": null,
            "object_position": null,
            "object_fit": null,
            "grid_auto_columns": null,
            "margin": null,
            "display": null,
            "left": null
          }
        },
        "6b8f1edf6f144dc783a0d2e3479184ca": {
          "model_module": "@jupyter-widgets/output",
          "model_name": "OutputModel",
          "model_module_version": "1.0.0",
          "state": {
            "_view_name": "OutputView",
            "msg_id": "",
            "_dom_classes": [],
            "_model_name": "OutputModel",
            "outputs": [
              {
                "output_type": "stream",
                "text": [
                  "Video available at https://youtube.com/watch?v=yHtVqT2Nstk\n"
                ],
                "name": "stdout"
              },
              {
                "output_type": "display_data",
                "data": {
                  "text/html": [
                    "\n",
                    "        <iframe\n",
                    "            width=\"854\"\n",
                    "            height=\"480\"\n",
                    "            src=\"https://www.youtube.com/embed/yHtVqT2Nstk?fs=1&rel=0\"\n",
                    "            frameborder=\"0\"\n",
                    "            allowfullscreen\n",
                    "        ></iframe>\n",
                    "        "
                  ],
                  "text/plain": [
                    "<IPython.lib.display.YouTubeVideo at 0x7fa83c7e9d90>"
                  ],
                  "image/jpeg": "/9j/4AAQSkZJRgABAQAAAQABAAD/2wCEABALDBoYFhsaGRoeHRwfIjEmIiIiIy8vJygqMzI3MDAuMis6P1BCNzhLOTYuRWFFS1NWW11bMkFlbXBYbVBZW1cBERISGRYZMBsbL1c6Nz1dV1lXV1ddV1dXWldfV1dXV1dXV1dXV1ddV1dXV1dXXVdXV1dkV1dXXV1eV1dXV1ddV//AABEIAWgB4AMBIgACEQEDEQH/xAAbAAEAAgMBAQAAAAAAAAAAAAAAAQQCAwUGB//EAEUQAAEDAwIBCQYEBAMHBAMAAAEAAhEDBBIhMUEFExciUVNhktIUMnGBkaEGQlKxFSPB0WKCkxYzQ3Ky4fAHNHPCJKLi/8QAGAEBAAMBAAAAAAAAAAAAAAAAAAECAwT/xAAfEQEBAAICAgMBAAAAAAAAAAAAAQIRAzESIUFRYRP/2gAMAwEAAhEDEQA/APn6IiAiIgIiICIiAiIgIiICIiAiIgIiICIiAiIgIiICIiAiIgIiICIiAiIgIiICIiAiIgIiICIiAiIgIiICIiAiIgIiICIiAiIgIiICIiAiIgIiICIiAiIgIiICIiAiIgIiICIiAiIgIiICIiAiIgIiICIiAiIgIiICIiAiIgIiICIiAiIgIiICIiAiIgIiICIiAiIgIiICL1/Rze97b+Z/oTo5ve9t/M/0IPIIvX9HF73tv5n+hOji97238z/Qg8gi9f0cXve2/mf6E6OL3vbfzP8AQg8gi9f0cXve2/mf6E6OL3vbfzP9CDyCL1/Rxe97b+Z/oTo4ve9t/M/0IPIIvX9HF73tv5n+hOji97238z/Qg8gi9f0cXve2/mf6E6OL3vbfzP8AQg8gi9f0cXve2/mf6E6OL3vbfzP9CDyCL1/Rxe97b+Z/oTo4ve9t/M/0IPIIvX9HF73tv5n+hOji97238z/Qg8gi9f0cXve2/mf6E6OL3vbfzP8AQg8gi9f0cXve2/mf6E6OL3vbfzP9CDyCL1/Rxe97b+Z/oTo4ve9t/M/0IPIIvX9HF73tv5n+hOji97238z/Qg8gi9f0cXve2/mf6E6OL3vbfzP8AQg8gi9f0cXve2/mf6E6OL3vbfzP9CDyCL1/Rxe97b+Z/oTo4ve9t/M/0IPIIvX9HF73tv5n+hOji97238z/Qg8gi9f0cXve2/mf6E6OL3vbfzP8AQg8gi9f0cXve2/mf6E6OL3vbfzP9CDyCL1/Rxe97b+Z/oTo4ve9t/M/0IPIIvX9HF73tv5n+hOji97238z/Qg8gi9f0cXve2/mf6E6OL3vbfzP8AQg8gi9f0cXve2/mf6FD/AP07vAJNW38z/Qg8ii9O78DXQcW85Qkf4nelT/sHd95Q8zvSo3ont5dF6kfgK77yh5nelZD/ANP7zvKHmf6U3DTyiL1fR9ed5Q8z/SsT+Absf8Sh5nelPKGnlkXpz+BbrvKHmd6VifwTdd5Q8zvSm4PNIvRn8F3P66Pmd6Vifwdc/ro+Z3pTcHnkXf8A9kLj9dHzO9Kf7I3H66Pmd6U3B9fRSikEREBERAREQEREBERAREQEREBERAREQEREBERAREQEREBERAREQEREBERAREQEREBERAREQEREBaboww/L91uVTlJ0UXGQNtTtuFMVy6rnvcHViZMbTwnsUULjJzxOxhcjljlqmzGmwginqTsCeOv7qo38RUmlkS7L3iOHyUZ9aZcW+7Xr6cKyxi8Xc1mGoypWrnmWuyxeYg+ECfqvR2/4itXFoNVgLhLZI1HaFjcXRt1MAtT6SpO/EdmDHPtkaaA/2Wt/4nsgY54T2Qf7Kbhfg8mN/cNpDrHU7DiV5CveVC9zuceBJAgx8BC6nL13g11aJcZDZ4DwXjK9y95O+plbzCYz2z8t309VYcvscAyq6Hdp4zsus4yvnVZrhEg7L0HJnLsUWB7mgjTUGdFnk0j0RUKvZXXOty0jcETrv2/BbyqpeuREWioiKg/lq1bU5t1xSD5iMhoew9hQX0UKUBEUEgbmEEosOdblhkMonGdY2mOxZoCIiAiIgIiICIiAiIgIokTE69ilAREQEWFKq14ljg4SRIMiQYI+qzQEREBERAREQEWl91TaXhz2gsbk+TGLTOp7BofotoMiRqCglERARV619SpvbTfUa17/AHWk6nWP30W9BKIiAigkDcwsRVaXlmQzABLZ1AOxjs0KDNERAREQFS5Xa11u8O2MA/UK6qPLH/t3/Lf4hIjLp4Pljknm39VxMCdtZJ0XErUnNqlrgQYBMr119cNpOdUMh7WhrA4ToZ0+HivJcoVn1nCs87iNNAIkKc5Iwwt1+NgrMbSc3qQfey3jT3e1y2WFvRpgVDWGIOgiCfj9ly8QfedB7F2eTWVHX9K3LucoOA0aGluGMzERoqWtcZ8Mbbku6rE1KVF72Fxhw2OvBRX5Lusw/mKkaHb4L6HVNKxtXm3ptABnAEgEkgeMLnck507mrRrVM5pNeBMtByMx9lT+30v/ADUOR7RtZlV9yC5zXloa7hHgrAsKDT1abR8leumCmyo5gkvdP2XKoXbnOLSwyOPBa27i/HJKsVLZhB6o27F4ylaNayamhLjGsbGP6L1VKrUe6IIHy+6wNgHPJBAHwHxOqym23JrW2vkUjmhG2I/cq5XrNY0ucYAEk+Cucn0LWiCatdnwLgPsF0C2yuabg1lKq1upBb/dW16c7qopRXQ5n4jquZY13MJacYyG7QSA5w+AJKs0bCi2gKLabOaxjGBiR49sqxUYHNLXAFpEEHYg8FyhyEQ3m2XVw2jtzYc3QfpDy3MD5oJqc77U23pVBSpNoh0BoJ96IE7aKl/E31XVXCrWpYVHMY1lu57TgcZc7EzJB0BEBdmlYsZVFRsyKYpgTpiDI8ZVd/JRD3upXFWiKhye1mBBdxIyacSfD90FarfvqU7cZVKNSozJ1OnTyqaRPvCGtB7RJ0XOvLirXs6gdVdNG7ZTywALxnTLS5pGhGXCNQu9X5Nyeyoyq+nUY3DIQcm6aODgQdRM7rSeRGc1WpmpUJq1BVLzGQeMYI0jdoMQg1Vaz2XFVuWRZaZZlrci6XakgeG2y0trXLadpXdcZc66m19PBoZDxw0kEGDv8l0RyaC4ufUe97qPNOccRIkmYAAnX4LJ3JzTSo0snRRLC06ScNpQU6Dq9xUrPbXNJlOoabGBrSHY7l8idTOgI0VnkS4fVtaVSoZe4akCNZPBc+7pFleqabbxmZlzaQaWVTA1yM4HgTLdvmujyNauoWtGk/3mt1AMwd4nig5HKXKdRrbitSr1CKOUAURzJLd2F0STwLgYBV6rUrVbt1JlY0mCi1/Va0ukucNCQezsKmryGHU61IVqraNXKaYxgF85Q4tmJJMT9ldp2bW1jWBORptpxpENJIPx1QV+RLipUpOFV2T6dV9PKIyDXEAkDjCqcoXT3Varadeq3mgJFOiHNaYmHkgk8NBsCupZ2jaIeGknOo6oZjdxkj4Ku7kv+ZUeytUpiqZqMbjBMBsgkEgkADTsQUqd9WufZWMfzJq0OeqOaAT+UYtmRud/BYVOUq1v7bm8VeZZTNOWgSX5DrR4xstt5ye2lTtgwXE0W4Nq0g1z2iAIc0jrAwOB24KOTOTi83TqzahZXDWRVPXcGgguIHuzOgERHBBhQvaralKKletk4NqNfbOY0A/macBABjQk6KH1LmpRuqrbgs5l9TBoY0ghmwdI1HwhdG25PexzS65rVGt91jsI7NSGgu+ZWbOT2ilWpy6KpeXHSRnvCDl4vqX9rU51zcrdzsQ1sATTJbJEwZ+Omi6PLFy+lSa5hgmrTadJ0c8NP2Kh/JYzoPZVex1FuAIxOTNJBkHfEaiCt3KFk24pGm4ubJBDm7tc0ggj4EBBoubmo28pUmkYuo1HEHi5pYG6/MqjyVe1DUptr16jKzh16NSkGtJiSKbgNY/5joFdo8kxVbWqV6tWo1jmS7ECHEEwGgAHTdKfJRzpuqXFWqKRyY1+EAwRJIaCYBO5Qc6he1jSoCm5rDUu6tMnARiDU4dvVGq2Pv6tq+7bUqGu2lbis0uDQ6SXgt6oAjqjgr1Pkim0UwHP/l1nVhtq5+Ug6bdc/QLbVsGGpVqkF5qUhScwxBaC4x8TkQg5lybqhSpVHXObn1KbXtwbiA57QQyBI3jWV2L6uKdGo8uDMWk5ESB8hv8ABedFnUqCjSb7WWtqMdFYNDKTWkOjICXnSBq7t8V6K8tW1qTqT5xcIMGCOwg9soORaXlVtzRY6pVe2sHSKtINIIEgtIA04QdVd5auKlNlLmnBrn1mMkiRDjB0U0+TDzlKpUr1KjqU45BgGogyGtCw5ctnVWUmtDjFemSWmCADqZ8EGrna1tcU2VKxrU6rXnrNaHNcwZaYgSCJ+yq+03XsYvue/wCHz3M4t5vCMsZjLLHjO/BdG25Lxq87VrVK7w0taXhoDQd4DQBJga+C0fwBsc3z1X2aZ5jq4RM45Rlj4T4baIKV9XIfyhVaBIsWOGQBH/FIkHQq5z1WtX5inUNFtOix73Na0ucXyABIIAGJ4cVaueSmVDXJLhz9IUnRGjRlqNN+sVFzyUHObUp1alGo1uGbMTk3scHAg667aSUGp1atQrW7atQVKdTKmXYgdf3mEx2gOB4TC28l3L6xrVCf5XOFtIR+VvVLp4y6flCq8r2r/ZfZ2c7VqPPVqH8rg4HNztAI3gdkBdS0tm0aTKTBDWNDR8AIQcanTe3lG6fzrurQY6MWxB5yGzEwDr+62P5Qqixta2XXqOoBxga5uaHafAldFtk0VqlWSTUY1jhwhuUf9RVCnyAAxlN1xWdTpua6mw4w3BwcBIbLhpGpKA03FetdMbcGk2k8NZixpOrGu1JB0k/HxWi25SrXFOyY14pvr0TVqPDQYDcQQ0HSSXDeYErr29o2m+s8Ek1XBzp2BDQ3T5BVByIwUaFNlSox1ARTqtjMCIIMiCDxBCCly5a1hbsDrlzouKUHBoMGowCdIJB10A4TKzu791vWunGH8zaMfsA5zpqbkDYwNNhqrlXknOgaVSvVe4va/nDjkHNILYAGIEgaQtjeS2Fz3VHOqmpSFJ+UQ5oy1IAGpyKCjXdc2zKdd9fnQXMbUp4NDYcQ3qECRBPEmVLXXFerdtbcGk2lUxZixpPuNdqSDIk/HxW6lyIAWCpXrVadMgspvLcQR7pJADnRwyJVy3s203VnAkms7J08DiG6fIBBr5HunV7ShVfGVSm1zo2kjVXVXsLRtCjTotJLabQ0E7wNNVYQFz+XHRa1D8P3C6Co8sMDraoCQBAMnYQZRF6eS/EDs20YkwNSNRGhEn5Lg17+lXpPa9rWgA4hrdSeGvbK6t45z6LnB4gzsTrpp8AuVY8ksNKcgerLpO3ir5fjln3XAFMjUiQBJ1jwXofwlyhVaebD4Y12RGI2IgjL/wA1ha6fJ9F7GFzScZDiDBPh/VWLGGtqey2xAygucZMx/wB+3is7LZrTpmUny9JyvdZWx8XM/wCpq0e1n+IAkQDSc2RrMOkfBcO+cMWiDzoe0tDJJI0JyG2/9FcuGkvZUqOIqNEBjHQ0TvJ3JVcOLacuTT0vtAJLCRJE/RUjcU6cudoNgR/VcqldOnTUkxordzQp455S14kO+PCFrlh4xPHyeVWKFw10lpBnbtXiOW6dT2ioXtcGlxLZOkL2FuGaFsQPzbLy/Ll82rXOB6rOqD29qph235bvFx6VQtK3v5RfLcXER2HdTzLHanQ+G30So4U9IHhotnM+3ooRZLClQpQEREBERAREQQilEEKVClAREQQilQglERAUKVCApREBQpUICIiCVClEEKURAUKUQQpREEKVClBClQpQQilEEKURAREQFU5TY11B4cJGmh+KtqryjSqPovbSxLztkSG78SAf2UztGXTx3KLAGlgADTw4BeepSxj6dOo2o7iRwHZM6n4L0V1+FL+tlzlSgZ2Ac4AfLFUW/wDp3cgaV6U5SPe/spt+mfjXIrUarqTqsBtKMWCeqDsY/ou7b1X2/J2NJpdUI0J7dy7XsCvWv4Vu2Nhz6BaCSG5O1ntOP9Fn/sxcua7I0c8SGQ90NnwxU43TPLHK+tPKcnufTL6z/wBMgzOROv2gn6Lc6sXuDidyYHaB/RdR34HvBRZTbUoSCcpc6NdP0rZQ/BV22C6pQJAgQ52g8qvjZJpe4WuZUusAMdCDI+Kr3F/VpuPMuim7rNa4SBP/AH0Xcf8Agu7P56Pmd6U/2Kui3Evo6GR1nfMe78FNylMcbHmXcoV6zg17upMlo0BA1P7Ki1q9iPwRdBrofQydpOTvd4/l+C1D8B3feUPM70qvpfdvby0Qsnszbjx4fFepH4Eu/wBdDzO9Kxb+BLwf8Sh5nelNw9voiKUWS6ryi97aRLHYuLmAGJiXAbfNVv4ictRq1hDmf48mga9hnfsK6FSmHiHCRIPzBkfcBa32lNzi5zAS5uBPa3eEGk3xa7Go0NIIyIdIAcHQZgcWkfRZWt5zhAxLTiS4E+7rAHz1PyWXsVPFzS0uDoyycSTG2pMrayi1rnOAhz4yPbGgQURdVi5ohutVzQMtCA0nUxpsFNTlPFgdgNGlzhkZAaSDEN8DEwrbbZgdlGuWW5iYiY22WDrCkQRiYIIMOIkEkkGDrqT9UEWtZ7n1Q4Nhr4bB4Yg66eK0/wATEe4Zwnf8+2HxVxlFrXOcBBdE6mNBG2y1+x0/0D3+c/z9qDTT5QyfiG9XIsnWZBIJIiIkdqi5un06lQhocxlNryCY4umNNTA+ysttmh5cJBmYyOMnc4zEqalu12Uic24u8W66fcoK774ipgGggnEGT70TB0jh2rF3KYgENmWtOukOcYDTp8Z+CseysyygzOXvGJiJiYT2OnD246Pdk7f3u2eCCLa5za4kY4mDvB0mQSBotdneGo4tLQOqHAgmCDI4gdisMpBrS3Ug75EmfmVjRtmMMtBmI1cToOGpQaPbnTJYAzMsnLWQSJiNtO1aa1+/mi7HDOm59Mh0nQTqI0Oo7VZo2LWuyMk5OcNTAJJ/LMTrEo2wpAEY6FpbBcSA07gCeqPgg1i7dkWNbk7J0ZGAA2J1A8Qs/bDlgW9fJrYncESTPYAHeVZvtGO3BBkukOIMnfUGVDLUCrzhjqswaOIHGTxQV765qNNUNiG0sgZ1mTwiOC2OvXNyDmtDwQAMiQZkjZszodIW+raseZcJOOJ1IkdhCVLVjiSRqSDIJB0mII23P1QVqF4+pUYA1oaWvy1M5NcG6abfTdH3T21KnVDmNexu8EZBo0Ea6md1YZaMaWkAgtmOsfzGTOusnXVZOt2HKR7xBPiREfsEFU8oHNzQzLR2OJMkt4agD6Erfa3HONJ6oIMaEn6yAQfkgsqczB4/mdAy3gTp8lnSoNZMTruSSSfmdUFCjyi5tJjqrfepZggySQBMiBBMrYeUSAcmdaQBBdiZnjjOkHh2LdTsKTRAbIxxgkkBvYAToNB9Fl7IzEtORBIOr3EgjaCTI+SDS2+e7FraYyOQ1cQ3SDIMSRr2Ka12427atMCXY6OO0kDeFYZbtaWnUlswS4k676lQbZnN83HUiAJOkba7oNDr1wDzi3quwEuPWPwAJWr+ImA7E+6+WzpLXhu8SrZtWERB97KZMz2zuoFlTiMe3ifzHI8e3VBofflstcwZ5BoAcS3VuUzE7A8Fky9c8ta2mMjJMuIAAMaGJMzpot9S2Y6ZGpIMgkGRoCCNvksXWbDjOXVmDk6ddwTMkfFBqoXJFvRqO1yDcj2Tx+sLE33WJiG4viTocXNaDtOpOitC3ZzfNx1McY8IiFibOmQBjo1uI1Og0P8AQa+CDC1ujUa+W4lhgxPYHcQDx4haG8oPxaQzIRTkl0GX6DSI3+CuUqDWZRPWMmSSSYA3PgAsRaMAgN06vE/l1b9EFOvfPDXQAHtbU0mWy0AzMTxW2pfFjmgtafdDoJ0LjH6Y48SFvdaUySS3eZ1P5oB/YLH2Gn2O4fndrjsTrqfigqsv3tGVQbGro0zIYYG4Gq2vvXs6r6Yz6sAOkEOcG7xoQfBbxZ09erMlxIJJHW97TbVQyypjgTqDJcSeqZbqTsDwQTbVi/IOaGuY7EwZGwOhgcCFvWDKYaXED3jJ+MAfsAs0BERARFCCVClQgKVQbdOqXLqdMwylHOO7XESGD4CCT4jxV9BCIpQQpVKhXcbqvTJ6rGUy0RsXZT+wV1BClQtdw1zmEMdg6NHRIB8R2INqKpydec9TkjF7XFlRv6XjcfDiPAhW0BFEog03dQsaCN82D5F4B+xK0UuU2OdAiDIByE6TuOA0Kt1aYeIOwIPzBBH3C1CzYJHWxMyyerrvog0N5TBBhkkFugcDOZga/JZ+2nKDTIAeGEyNCQDt2aws22TQZJcT1dSf0klv3KzNs3XfV4fvxEf2CCqOUSGzgXYsD3GQNJPDt0Wx17qYYS0PDMpG5IG3ZJWYsmYubBhzMDrw1/uVpqWJNSQQGZteYJ1Ij8u3Aa/ZBvrXBa4MawvdGREgQNuPE/0Wn+JAjJrCWQ0l0gaO20W+tbNeQZc0gRLTBg8FHsdOC0CAQ0QOxu0IIu7xtItBiXTEuDRA31PxC1jlBpwAaSag6nj+r6b/ALKxWoB5BkgjYgwddwsHWjCZMkgCCTqI1EH/AMlBqbf7FzC1hc5odI3bPDs0KwZyq0gnGerkA1wJiQNY2Oo0WyhYhsFxLoc4gT1RkTw+BhZts2hpbLi3QAF2wGohBFvcPdUe1zA0NDY1k6rWb1xczFsMNQtyJGsB06cNR9labRAeXiZcADrpptotXsLMp60BxcGz1QTMmPGT9UFZ/KZxdg0FwAI6wIIJjgt5vgKgpkbnH3hIMTsp9gZBEuPVxHW2G4hSLNuQMu0dlE6ZREoNlaqGAEjQuA+EmAfrCrfxRmOUHTInbYRB+ctj4rebYGlzbyXAtgknU+MqPYqcuOPvNDD8B/59ggi1vBULgIlsEw4OEGY1HwKxbeS0vwinBIcXATHx2lb6VLH8znf8xlafYWQRLsT+XIwNZ0+aDWzlDKAGS4vwgOETjlM/BbRdjmTVxOkyOMgwfupbaNDg7Uuyyknjjj+yy9mZzZpwcXTOvaSTr8Sg1XF8KZII2IBJMNEgmSeA0Wutyo1hggaNDndZswez9R+C3NswJhz5JBLstdBCNsWNjHJsAN0cdQNp+6Bd3BZjjqSHadsNJ3WurdPbQZUDBk4skTp1iB/VWalFriCeEx8xBWBtWmkKZLoEQZ10MjXwgINZvdfcOGeGUj3pjbsnSVlWuS1+DaZecctCBpMRrxT2JmWXW3yxnq5dsdv9dVFa0zqZFzgMMeqSDvKDU3lCQ5wgtJbhJA0c0OWTeUmlpdB93IDTra4wPGYHzC2exM0xlpBBEHaBjp8tFrNiM6Ue7TJcNSSSeB8J1+ICDdWrlrmtDcnOkxMQBEmfmFWfyo0Ma8t0IyILhIExtxW+7oF+JbGTZ1yLTB8QtVPk1vNhri49TF0EjIan+p+qCXXxyxFMnrlgMjVwE/SAVg7lVoAMa45EFwBAkiBO50P0VoWzZB1kPL9+JBH7FYexMEYlzYESHRImYP3QY070OqYAfUgEiJkN3I13VpaXWrS7Il2moGWgMRI+RK3NEADs7d0BEUoIREQFKhSgIiIKPKDrgkMt8GEiXVXiWtHYGyJJ+y41rcX9U0IuaH85jqjf5B9wFsH3uOTV1uXm1nWr6dAE1KkMkH3Q7RzvkJWqpavZf2zmMmi2g+mTp1dWkfXGEFl90aFJnPu5yo4howbBe48Gtns8dACVss7xtYOgFrmOLHtMS1wg8NNiD81ybptWpyn1HsYLe3yGbS4TUJBMBw4N38Stn4WD3Uatd5BNxWdUECBjo1pAk6ENB+aDP8LnK1NU+9Vq1Hu85A+wA+Sk37693Ut6DsG0QDWqQCcne6xs6TxJM9ij8MjCjUoH3qNaow/Auzb/APq4LVydbVbWrdxSdUNasajHAjEggaOPCDPD4Sg3ciX1WtUum1CxzKNXm2OaILiB1ieE7DTxXSp3DHPexrgXU4zA/LIkT8lxPw7aXFOlzdUGmZqOquEdao53VLd9Ik6+Hip/DFMltS4dVe416r3AOx6zWnBp0APutG2mqC9bf+9uf/jpf/dVL7lljbw21S4bbNFMPydiC8uJEAu6oAj5z4K3bf8Avrn/AOOl/wDdUDbPqUqjLyh7TULnYdRoYGn3QHzoPHdB0uT7ip7PzlyBTcMidR7oJgkjScYJhW6VVr2te0y1wBB7QdQV5vlSxfQ5Lo2oquzdhQ6sQ7MgO3BMAZbQvQWlMMYGB5eG6SYkRw0AGiDnWRw5Su2DZ9OnV/zasP2a1dhcfk8Z395V/K0U6IPi0F7v+sD5LsIIhFKIK3KFc06Rc2AcmiSJiXAHQb7rVSuyAJJqucYAaws2En3j91ar0Q9uJmJB07WkOH3Cxr0My05Frm7OETruNdIQa6V617mhrXEkEnQdWDBnXtWq4vXNc9oYeqacHTXJ0HSVYoWrWEETMRrxkySfGVFS0DnFxLtcZGkS12QKDWeUGgatcHZY4nGZjLeYiCOK2C7YaXO649nGZiPjOixqWLXEukhxdlOmhxDdiIiAtjrcGnzZkjt2PbOnGUEMuZLWuY5pdMAxwE8CVq/iLYJDXkBmZMDQa+O+izNoTiTUfk0yHdWdRBERELFtgwNLZdBZgddY1++pQRU5Ra3drgQMnDqy0a6nXwOglT7c3KMXEBwZlpEkAjjPELKrZhz8pLTABiNQNtwfHZZG1brvq8P+YiPloEGujeTQNV7S2ASRoTA+aj20l1ICmYe4iZaYgTOh1W2lb4MLA50awdJE66afutbbBog5OkPyJ0EmMSIiNkGqrymA1+LCXNEgS3UTB2OnzWx3KDA7Eg6ENJkaExA3niNu1QOTW445OgMwG2jdI4eA3WbbMB+WR1ILhDesQInbTYbQg3VqoY3IzEgacJMStB5Qp676OLTp+kEk/DRbeYmmWPOWQIJ8DP8ARam8n0wdZP8AL5uCdx4+Pigyt7xtQlsFpiYJG3yJRt3JMMcWiRlpBLdxvO4IWVvb83PWLuGoH9AFgbJpD25OwflLNI62/CeJO6DBnKTSNGumQIGJmZjUGOB4ra26HNuqEOAbOQ4jHfZYtshlkXOLpaZMflmNh4ra2gGtcASMiTPEE9iDSb4BgfiYJgdZn75R91i7lJsAhj3DFriQBoHEgcfDgpbYNGoc7LLLKG8RB0iNvBS2wYG4yYxDfk0kj90D28bc2/LPDHqzOOW8xELD+IiZIIaGkkEdbIOxjs3WVWyJeHNcW9cvcdJ9zDTTwCfw5mMEuOhkk6yXZZfGUG23uRUmBBbuCQd9tQSFpHKTOtIIxE8DOsQIJ1kjQ9qsUaOAIkuniQB+wCrt5NYAAS4gNwbtoJBEQNwQNUEuvHB7G804ZEgzjpAmdCsW8ojAOLXOAYHPcAIaCJ1EztrpK2+yziTUeS0zJjiIIiIha/4c3HEOcGloa5siHACNdOzTSEGftozxxdGeGWkZRPbP2WVpdCq3JoIHAkjX6HT4FPZW9p9/P5/2ShahjnOyLnOABJjYbbATvug1nlBgc5rpGIJnQ+7voDI+ayN5AE03hxMNb1ZOk9sDQHdY/wAOZsS4thwDdIAdvrErI2cgTUeXAy12kjSOyNid0EVL4Nn+W/qtyfAHVGu+uux2nZHXzRlDXGCGyI6zjBAGvij7EO/O/VuLyCOsNd9NNztG6ydZtIcASJcHAjgQABH0QaG35ydkC0B5ERrAph+8x2rZ/EGwZY8GGkAxLsjAjXt7YU+wN1lziSSSTG5bgeHYlxZhwJE5YtA1j3TIMxvKDZRuM8+o4FhggxMwDprHFaKPKBdTYebeXOZmWtjQdu/04rZZUHszLzLnunedgBvA7OxYt5PAADaj2w3GRE48Btw7d0FilVDxIBxIBB4EEToti10aQYIBOIAAHAACNFsQEREBERAUKUQVLvk2lWdLwTLcXQSA5szi4Dcf3ParIAAAAgDYKUQVHWhFwKzCBkA2o07OAnEjscJ+YPgFbRSggqrZ8nUqECmCIGLZJOLd8ROw/wCytqEFajbFtxVqyIexjQOPVyn9wrShSgr3dmysGh4PUcHNIMFrhpIPwJ+qGgWUiyhi0/lLpIBJ1ceJOpPiVvRBosrRtGmKbZMSSTu5xMlx8SSSrCIgIiIIUqFrdcMFQU8uuRIHgEG1EWFWoGCSHH/laSfoEGahV6N6x4aRlDj1ZaROhdpI7ArCAiIgIsOebMAycsdBsYnXs0WaCUUIglFqNw0TJiATBBmG7lZtcCARsUGSLVz7ZAnUkj5jdbEEqFi+oGloP5jA+ME/sCpyExxidtPqgyULF9QNiT7xgfFZIClQoY8OEtMg8UEoiIJRYU6geJaZH/eEqVA0STxA+ZMD7oM0WupVDRJ214E7CVDa7TGu5gSCJ0nTt0QbFKha/aG5Fs6gx8wJP2KDYpWFKoHtDm6ggEfArJBKLTb3LKrcmGR4iNwDx8CFtQSihJQSiwp1A4SNpI+YMH7rCncNc5zQdW76HtI/og3IoUOeBEncwPj2IMkWLHgiR9xClBKLClUD2hzdis0BERBClQpQEREBQpUIJREQQpUIglERBCBSiCFWuKbucpvDZxDp2nbQKytNK7pvdi10nfY6jtHb8kG4FCpUIOeyzJp2rXtBw98GCPcI+epC0GxfDQW5NAcA0Bpx6xIOp06sbbQupQrtqNDmODmnYjw0WaCpdUXGmxsZwRlMFxAG4nSZj7qrTtHANzpc40B4DOr1ZcSDBMe7A02XVUOeBuQNCfkNz+yDmizcKhxZjNXLIRsaZHx0cfutfsTywhtPA80Wu1HXcYgyN+Op11XXBkTwKIK1tb4VKkNDWOxgDaYM6fRUhY1Yjh/ut/8Ahfq+PBddQg5TrJ2WXNyf5wB0kZOlp+ET9VZtLXm3yGhoNNoMcXAnfx8VdUIObTseuAaQxFVzjtBBBgx9lqNi+GgtLmhmIAxOJyPadNI1HYuo+s1phxgwT8hAP7hZoKtxb5CiCMg10uniMXCT26kKnUtHtY7ZrQH8YGJqBwb4At08F11iHAkgGY0Phx/aEHIpUW1XuwpgUw9kt6saB07acRosn2Txj1JYC+GANMS4FpAOm0/CV1tAOwBYtqNJgEEgA/IzB+xQc4WjmvpkNLiA0EvxIgb67g/DQqTR5uyqswxhr9NNd9dF0kQcp1mXE40sGE05bI60OlzoHh8ys3WjszFPrc41zakjqsEdXtGgIjbVdJQ1wIBBkHUFBy6Vo8FuNINe0vJeSIcDlDdNdy0/JYCyfi4c2YPNy04CS18u0Gmy7ClByfZH6408GlziGSNAaZbsNBLuAU+xuyaXU8sajTwOnNhpOvj+y6eQnHjEx4LJBzuTWEuJmW05p0yDMiZJ/wCkf5StbKEvBwycyrUk6SA6S068IIXSa8SWjdsSOydkfVa2MjEz9hJQcv8Ah7xTaGNDXcyGuiNXAt0PyyE+Kt2FDDI4loJHVIaBpxAb/wCaK2DpPBYmoA3KerEzwjtQUr9jGmmXNaWAmWEtEmBB1gGAD9VotbUvYHAAHm3Cm79JLnQR8iNV1Gva6QIMGD4Hf+oWRMalByRZP5twa0sMNBb1AHQQTtvpIk7yshaEBp5suZnJpnEflgENBjfWJ8V0mvBMAzoD8jsskHHNBzAxjYY6qXsLQdQwuLg75CfMusym1uwA+CyhQ14JIB1bv4cUHK9kqlziBg5wqAuGIGvu6jU/NbDag82RbhuLwSOrJ0Ika8NPoujkJidd4WSDkG0dHXpc5LCGiR1XZOM67SC3Ua6LZ7C7rEgOqB9Mh/GBjkR2bOXSUZCceMTHggq8nk4nQ4ue9wPCC4x9d1cUIglFix4c0OaZBEg+CyQEREBERAUKUQEREEIpRAREQEREELn0aj31DUfSqNxBDGwPmSZ3MaBdBEAFV78PNJzaY6zurPYDufkJVhQ5wAkkATGvadAg5ns1UZMxhrnU3DBxgQ5ocOBHVE/VWrem5gqgDTI82CdIxH0EyrS5w59t64lwNu9ggH8rh4+M7a7cOIaadCrDoa/Ehkj3SYccwNd448VnVt+s1zKbx/LqNHaCYjSdBuum1wMwQYMH49ilBy3UaknqvL5Zg6dGgBsg69uUjjK2Ubdwcx0OnnKmRk+6cseO3uroKHODQSSAAJJOwCDn3tOo6pIadMMSJ7etrOmn18eEc0+KgDX88c4fOkE9WDPZGnBdFjw4S0gjwUoOa6kIbjSqCmHddpOp6pjSddYnt8VFK3qEtnIQ1+Mu90lwwnXUgLpog4/s746lOo13NEEk6l0t4zvodVvFs/IOAcHc67WfyEOjTsmNF0UnWOKDlcn6VaQhwdzTsyXSHOluu+vHVTUt3B9Uhji11VrnR+ZmIGmv6tSOwLpMpNbOLQJ3gASsp+6ClQouNKq0ghri7BrjqGkbeGsnwlVfZHFjyGODhRYGawQ8Zzx31H1XXRBzW0anPEnIHOQ4DTDsnKIjSI318VtuqZNUFzHvZjDQ07OnXiOEQeEFXUQcw0XuqyWkS5wdvGGJA1nXhpwWhtvUwpjFwaKQaBBJa8TkfeEHaD4cF2kQci4BDnZZF/OMxcHaYy3SJ046eK2No1Mh1X55OL3z1XNIdAGv/LA4QuiaTcssRl2wJ+qyQcs21QU2hod/uhl1tSZaXCZ3IkSsqtKQ0NpuayTMgkzAjq5aA66+HjK6SIKXJ9N4k1AZNOmCT+oA5fdVBbvxb1H84GvzdOhcWkAjXiduzwXYRBzOYdznuucHCHZcBhGjp1E8I3MrU21fzToY8EWwawTHX688d9Rr4rsIg5bqDuceQx+ZqtLXzpjDcuPgRHFHU6jmhhY/Q1JJOhmcdZ13C6iIOUKL8RDH4AU8mTBIGWQGvbBPaFlRtXOc3JrhSycQ0nZsNgHXtyIHiumiCgadT2VjSHFwDchPWIBGQnthV3UH9YsY5rDUBLSJluEe7O0xouuiDlG1eCwtDsubqNa4j3SSC2RJ03UMtnlpADxJZI1b+cFxnI6xMkb+K6yIOa6zJeTDo50R1j7mAB47TKwdb1ccQHRDgIdw5wEcf0rqog5de2eC4MB5vnAS3Uy3CNpEjKDCCg4YZtqPZDoA0LXE6SMuzYzp4LqIg02LC2jTa4QQwAjxhb1ClAREQEREBERAREQEREBERBEokIglERAVXlFpNKAHHrsPV3gPBMfJWkQck1H0w6o3nDTa8YtdMuBABGuvvRE+K3XdA+zta7JzmuY52MyesC6I17VdfTa6MgDBkSNj2rJBzadFwcHNzBNZ06mMSDuOyY1Tk4VMhmXTj/MBDoLtOJ07duC6aIOZU5wVX4ZOJmJyAb1dP8JE/PVaalJz2Oa0VS0s6wdlOcjafnMabLsog5QoEVHtHOAGsCTLtW4dvx/p4IxlRgBAqOOFQEFx1gjD4GOO66qhByWiri4MLi7JvNkhwbMHKcpOP9dlZfn7OMc8tMp9+MhnHjExHyV5EHLa5zSHNFXmhUG4cXRiQdD1sZj7rTUDh/MIqA83Wg9bTrS2ezTt7Au0sXNBBBEg6EIOWS8SafO4gMLsspnMTE6nq5TGmylwL6rXkVMRX6ujhDTTAmOzL+q6gUoNdGMGxlEfmmfnOq2IiAoWDqzQ5rSes6YHw3Pw8fEdqzQFKqU79hbWqZN5ulu4EkgBocZEaaHhMiDxVpBKLWKrS8snrATHh2rYgIiICIiCFAcJIkSN/BRWDixwaYdBg+PBeb5Ltmilbc7IqU2OFZnNamW9fnDrkC7XxMFB6aVAcO0LzPJlvSp16YdR/kuDnWs0z/Kl3Wa4R1STBE8JGnGtSoMNpWZRp/8A5HtdTmsWwWkVTDgeDQJnhEjwQenNwXV+abEMblUJ8ZDWjx0J+XirK51gCLq7Dty6m4f8uAb/ANTXLcbevOlcf6Y/ugtpK5991aBZVabguMYhsAjfUD8vb27a7KlaVqdKi3mmVAKlRrA8Mw4gQ1jtmiTA7A4+JDr3txzVJ74kgaDtcdGj5mB81Ru+Ua1GnWeWMc2hTl7i4tyeG5ENEHTbWePgt93/ADK9Glwaedf/AJdGDzGf8io/iaqHUm24DjzlVgqQ1xAp5AuJIG0CPmgtUrq4fzYNOmw1KZcDkXYOAEAiBI17QrVjdCtSD4g6hzZnFwMOE+BBC3NIIBGxVDkb3ax4Or1CPNB+4KDooiICIiAiIgIiICIiAiIgIiICIiAiIgIiICIiAiIgIiICIiAiIgIiICIiAiIghcO55XrsF27GmG27A/WZJIJw33gNM/4tiu4VxeT+THPFV1w17TUrGo6mXNLXAQGTE7AN0mJHFBYsqgfcXNR2mAYwTwGAefu77BaLflapUNs4Mbzdy52I1yFMNLg8nbUAacMgrgoFlw8xNOs0B3g5ojXwLdP8vitVPkSk00utUIpNwYC4QGadTbbqjXcxqUGm+suZsb3rl2bKrtgIkOPzgQPg0Lbyzyp7NhIxY4OLqhY5zWkRAMbTJ1OggqxyxTc+0uGtBc51J4AG5JaQAouOTGVHvcS4c4wMqBpHWaJgTEj3jtG6CveOdlZVSA1/OBroMiHsOTQeIyDT/lC6FzVLGFwDSf8AE7EfVVbi3NSvRGMU6JznYF2Ja1o7QASfk1XXsa4Q4Bw7CJCDn/xF/wCij/rj0roU3S0ExqOBkfXitXsdLuqflC3AACAIAQVjfN/RV/0nf2T29v6K3+k7+yqN5VqOuatu2iA+mA4ZVIzYdnN6p04HsWV1f3NJhf7JmBqRTqgujwBAn5ILPtzf0Vv9J39k9vb+it/pP/sufyxV511pTpAPNR/Oe9jLGtJ1I4EloPxW7kZzazefdPPGWPBOjC0kFgbsIM67nTwQWTfN/RW/0nf2VaxNOg1zWNuCHOLjlTces4yTtxJJXTRBz31mGq2oGVg4AtMUndZvYdOB1Hz7St3tzf0Vv9J/9laRBV9vb+it/pP/ALLTc1KNXEVKVV2Lsh/LfoYI4DsJHzXQWm2uBUyLQcQ4tDv1RoSPCZHyQVqddjalSphWJfA/3TtABoBp2yfmtvt7f0Vv9J/9laRBTq3gc0gNrNJEZCk6R4jRRQuadNjWMp1g1ogDmn/2V1abq4FNuUEkuDQBuSTAQa/b2/orf6T/AOye3t/RW/0n/wBlpuOWaVMPc4VMWPwLgwkZEgQO3UxpxWT+VGtzllQc2A5+TYhhkZeIEGfggt0aweJAcNY6zS0/QrYoBUoCIiAiIgIiICIiAiIgIiICKECCUREBERAREQEREBERAREQEREBERAREQQiKUEKURBCKUQQpREBQpUIOR+IqBwZXpHG4pO/lf4yd6ZHEO+2/BdZhJAkQY1EzB+K5Nand+0moKNGo1ulLKuW4g7ujmz1j8dBp2yuanKLmEU6NtTcfzGs50eOOAn6oOjVp02kPc1uQIaHYyRJgAHfis6dFjJxa1smTAAk9pXMuHDnralTquc9r4eA/UNa3Ilw7TLBr+oLKpa1y5xA0kx/+VUGnww0+CC/UuabHsY5wDnmGjiTBP7A/RUuXbqpTZSFPTnKzKbnSBi0zxOxJAb/AJlhe06k2cU3O5urk/F2UDB7fedBOrhwXTq0mvaWvaHNOhBEg/JBxLltw1laK2BY9rqTcg4kGP5bzE9YggHfrLVcXFR1hVrtr1GVMpLer/KOUGnEcJ4777Ls/wAPodX+VTJY7JpLQSHdo8dtVV5R5IbUpVWUW0qb6pGb8PegzrET80GqtWqUbrmmvdUa63e8h2pY5pABnsdJ0/w6cVZ5Nltlb800PIpMgF0T1RrMFWbe2ZTHVY1pMZYiJj+iwsLY0Wc1pg0xT7Q3g0jw2+ACDDn7nuGf63/8qtypUcajW07g0qjW5FvVxj9VSRJbodBE668R1lWr2NGp/vKTH9YO6zQesBAOvGEGDLpoNKmHhznDd25EEzoIkxMaaT2LCr/MumN/LRbzh/5nS1n2z+yhtKpUum1HMwZSa8CSDm5xADtOxo4/qW+zoFnOOdGVR5cY7NmjygfOUHO5XYHV7K3aIa6qargOymC7/rLV1nUmnIkDrCCe0a6fc/VaHcmW5fzhoUy+ZyLBlPxWd7Te+m5jDiXdUu4tB3I8Y2QV+QXE2VuXb8039l0FhSphjWtaIa0AAdgGyzQEREBERAREQEREBERAREQRI7UlcqtVaxpc9wa0blxgD5rGhc06v+7e1/HqkHw4eKDrykrnQsBUaTAIJ1MTrpofug6kpK5lR4a0ucQ1oEknQAdpKwqXFNphz2tPYSBwJ/YO+hQdaUlcxjw4S0giY07VlCDoykrnQtD7uk2oKZqMFQ7MLhkfkg7EpK5XPMw5zJuETlIxjtnsWbSCARqDqCEHSlJXIq3VNjmtfUY1zvdDnAE/ALdCDoykrnQiDoykrmog6UpK5qIOlKSuaiDpSkrmog6UpK5qIOlKSuaiDpSkrmrXcVC1vVEuJAbO0nt8OPyQdaVAcO0LzIdnTmXh594VHkFuhcCGN0JkcNwDqVnyIyqKf854LwTmGtAaS7r5bTMFB6INaCSAJO54lZSO1c1EHSkdqSO1c1EHSkdqSO1c1EHSkdqSO1c1EHSkdqSO1c1EHSkdqSO1c1EHSkdqSFzUQdKQkhc1EHSlJC5qIOlISR2rmog6UpIXNRB0pCSFzUQdKQkhc1EHSkJK5qIMarMmub2ghcr+DuLaTTUGLKbGOAkZYhwJ07SR9F6FEHmP4FVDcRX+pd1XYNaXjX3smlwnTrLNnIJDpDgIc5zSMp6z2vk/IEL0iIPO0eTKjra4pvcQaoNNmRnGmJDJgnXUk/JLzkmrWdk+owGIhodHuVWzr/8AIPovRIg8+OSagdPONIh0Tl1SSTLYO+sa9ir3fI1YNcaVTakWNaCZJwjc/wCLWSf7r1CIOI3kvKhUo1HuAe/Ic24jEaQ1pOsaT8ysLnkg1Ljns+rNOWHY4Zb+MkEfDxXeRBwafJbzZey1HMMMDGkB2wjU/Rav4K8vM1eqXgnV0ubmHQddIb1RHBejRBwr7kyo+q59OoGZhgcSOsMST1e2Z2PEAqueRKjnuLq0tc/ItEidKg4R+pvb7q9KiDzP8CqDECu6AQSJO+LAXSZ1lrj/AJlf5Ns30TVyfkHuyHEj5/8AnxXXRBVRWkQVUVpEFVFaRBVRWkQVUVpEFVFaRBVVLlao9tImm0Fzes0kgNDgRAPx20+y66EIPOUqRNNoexwrBgaCxji5hbo4c4TB30Om53XTtqbgCXxm4y6NtgAPoAugiCqitIgqorSIKqK0iCqitIgqorSIKqK0iCqitIgqorSIKqK0iCqitIgqorSIKqK0iCqitIgqorSIEIEQIMW1ASQNxutjRK1sphpJHHccJ7VtYUGurXYww6RpOxjt3WVNwcJHiPmNCsKtu17g4mYERAjUQfl4LKjTDG4g9p+Z1KCYWLHh0xwMHwWSwZTDSTuXHUnfwHwCDOFhSfkJgjwKzWuhTwbGnHYQN+xBmDqVKxG5WSAiIgIiICIiAiIgIiICIiAiIgIiICIiAiIgIiICIiAiIgIiICIiAiIgIiICIiAiIgIiICIiAiIgIiICIiAscfEhfNukK87u38r/AFJ0hXnd2/lf6kH0gtPaUwPaV836Qrzu7fyv9SdIV53dv5X+pB9IwP6imB7Svm/SFed3b+V/qTpCvO7t/K/1IPpGB7SmB7Svm/SFed3b+V/qTpCvO7t/K/1IPpGB7Sgae0r5v0hXnd2/lf6k6Qrzu7fyv9SD6UApXzTpCvO7t/K/1J0hXnd2/lf6kH0tF806Qrzu7fyv9SdIV53dv5X+pB9LRfNOkK87u38r/UnSFed3b+V/qQfS0XzTpCvO7t/K/wBSdIV53dv5X+pB9LRfNOkK87u38r/UnSFed3b+V/qQfS0XzTpCvO7t/K/1J0hXnd2/lf6kH0tF806Qrzu7fyv9SdIV53dv5X+pB9LRfNOkK87u38r/AFJ0hXnd2/lf6kH0tF806Qrzu7fyv9SdIV53dv5X+pB9LRfNOkK87u38r/UnSFed3b+V/qQfS0XzTpCvO7t/K/1J0hXnd2/lf6kH0tF806Qrzu7fyv8AUnSFed3b+V/qQfS0XzTpCvO7t/K/1J0hXnd2/lf6kH0tF806Qrzu7fyv9SdIV53dv5X+pB9LRfNOkK87u38r/UnSFed3b+V/qQfS0XzTpCvO7t/K/wBSdIV53dv5X+pB9LRfNOkK87u38r/UnSFed3b+V/qQfS0XzTpCvO7t/K/1J0hXnd2/lf6kH0tF806Qrzu7fyv9SdIV53dv5X+pB9LRfNOkK87u38r/AFJ0hXnd2/lf6kH0tF806Qrzu7fyv9SdIV53dv5X+pB9LRfNOkK87u38r/UnSFed3b+V/qQfS0XzTpCvO7t/K/1J0hXnd2/lf6kH0tF806Qrzu7fyv8AUnSFed3b+V/qQfS0XzTpCvO7t/K/1J0hXnd2/lf6kHk0REBERAREQEREBERAREQEREBERAREQEREBERAREQEREBERAREQEREBERAREQEREBERAREQEREBERAREQEREBERAREQEREBERAREQEREBERAREQEREBERAREQEREBERAREQEREBERAREQEREBERAREQEREBERAREQEREBERAREQEREBERAREQEREBERAREQEREBERAREQEREBERAREQEREBERAREQEREBERAREQEREBERAREQEREBERAREQEREBERAREQEREBERAREQEREBERAREQEREBERAREQEREBERAREQf/9k=\n"
                },
                "metadata": {
                  "tags": []
                }
              }
            ],
            "_view_module": "@jupyter-widgets/output",
            "_model_module_version": "1.0.0",
            "_view_count": null,
            "_view_module_version": "1.0.0",
            "layout": "IPY_MODEL_f7fc248aef454d07881ad196444c4f4e",
            "_model_module": "@jupyter-widgets/output"
          }
        },
        "233f59b4d4b14721a52690beb04368a9": {
          "model_module": "@jupyter-widgets/output",
          "model_name": "OutputModel",
          "model_module_version": "1.0.0",
          "state": {
            "_view_name": "OutputView",
            "msg_id": "",
            "_dom_classes": [],
            "_model_name": "OutputModel",
            "outputs": [
              {
                "output_type": "stream",
                "text": [
                  "Video available at https://www.bilibili.com/video/BV1aq4y1S7o4\n"
                ],
                "name": "stdout"
              },
              {
                "output_type": "display_data",
                "data": {
                  "text/html": [
                    "\n",
                    "        <iframe\n",
                    "            width=\"854\"\n",
                    "            height=\"480\"\n",
                    "            src=\"https://player.bilibili.com/player.html?bvid=BV1aq4y1S7o4&page=1?fs=1\"\n",
                    "            frameborder=\"0\"\n",
                    "            allowfullscreen\n",
                    "        ></iframe>\n",
                    "        "
                  ],
                  "text/plain": [
                    "<__main__.BiliVideo at 0x7fa83cc7a310>"
                  ]
                },
                "metadata": {
                  "tags": []
                }
              }
            ],
            "_view_module": "@jupyter-widgets/output",
            "_model_module_version": "1.0.0",
            "_view_count": null,
            "_view_module_version": "1.0.0",
            "layout": "IPY_MODEL_5d0d5616f4034a2c9817cef5c12de7f7",
            "_model_module": "@jupyter-widgets/output"
          }
        },
        "f7fc248aef454d07881ad196444c4f4e": {
          "model_module": "@jupyter-widgets/base",
          "model_name": "LayoutModel",
          "model_module_version": "1.2.0",
          "state": {
            "_view_name": "LayoutView",
            "grid_template_rows": null,
            "right": null,
            "justify_content": null,
            "_view_module": "@jupyter-widgets/base",
            "overflow": null,
            "_model_module_version": "1.2.0",
            "_view_count": null,
            "flex_flow": null,
            "width": null,
            "min_width": null,
            "border": null,
            "align_items": null,
            "bottom": null,
            "_model_module": "@jupyter-widgets/base",
            "top": null,
            "grid_column": null,
            "overflow_y": null,
            "overflow_x": null,
            "grid_auto_flow": null,
            "grid_area": null,
            "grid_template_columns": null,
            "flex": null,
            "_model_name": "LayoutModel",
            "justify_items": null,
            "grid_row": null,
            "max_height": null,
            "align_content": null,
            "visibility": null,
            "align_self": null,
            "height": null,
            "min_height": null,
            "padding": null,
            "grid_auto_rows": null,
            "grid_gap": null,
            "max_width": null,
            "order": null,
            "_view_module_version": "1.2.0",
            "grid_template_areas": null,
            "object_position": null,
            "object_fit": null,
            "grid_auto_columns": null,
            "margin": null,
            "display": null,
            "left": null
          }
        },
        "5d0d5616f4034a2c9817cef5c12de7f7": {
          "model_module": "@jupyter-widgets/base",
          "model_name": "LayoutModel",
          "model_module_version": "1.2.0",
          "state": {
            "_view_name": "LayoutView",
            "grid_template_rows": null,
            "right": null,
            "justify_content": null,
            "_view_module": "@jupyter-widgets/base",
            "overflow": null,
            "_model_module_version": "1.2.0",
            "_view_count": null,
            "flex_flow": null,
            "width": null,
            "min_width": null,
            "border": null,
            "align_items": null,
            "bottom": null,
            "_model_module": "@jupyter-widgets/base",
            "top": null,
            "grid_column": null,
            "overflow_y": null,
            "overflow_x": null,
            "grid_auto_flow": null,
            "grid_area": null,
            "grid_template_columns": null,
            "flex": null,
            "_model_name": "LayoutModel",
            "justify_items": null,
            "grid_row": null,
            "max_height": null,
            "align_content": null,
            "visibility": null,
            "align_self": null,
            "height": null,
            "min_height": null,
            "padding": null,
            "grid_auto_rows": null,
            "grid_gap": null,
            "max_width": null,
            "order": null,
            "_view_module_version": "1.2.0",
            "grid_template_areas": null,
            "object_position": null,
            "object_fit": null,
            "grid_auto_columns": null,
            "margin": null,
            "display": null,
            "left": null
          }
        },
        "37850e6e7fc5463db8eb031961d2d85b": {
          "model_module": "@jupyter-widgets/controls",
          "model_name": "TabModel",
          "model_module_version": "1.5.0",
          "state": {
            "_view_name": "TabView",
            "_dom_classes": [],
            "_titles": {
              "0": "Youtube",
              "1": "Bilibili"
            },
            "_model_name": "TabModel",
            "_view_module": "@jupyter-widgets/controls",
            "selected_index": 0,
            "_model_module_version": "1.5.0",
            "_view_count": null,
            "_view_module_version": "1.5.0",
            "box_style": "",
            "layout": "IPY_MODEL_23d346b711c1484ca8760a9bb2f42536",
            "_model_module": "@jupyter-widgets/controls",
            "children": [
              "IPY_MODEL_93c32f4e50774cb68b852d1cfb3a73f3",
              "IPY_MODEL_c4be85dd97d149c88accaef91ef1f700"
            ]
          }
        },
        "23d346b711c1484ca8760a9bb2f42536": {
          "model_module": "@jupyter-widgets/base",
          "model_name": "LayoutModel",
          "model_module_version": "1.2.0",
          "state": {
            "_view_name": "LayoutView",
            "grid_template_rows": null,
            "right": null,
            "justify_content": null,
            "_view_module": "@jupyter-widgets/base",
            "overflow": null,
            "_model_module_version": "1.2.0",
            "_view_count": null,
            "flex_flow": null,
            "width": null,
            "min_width": null,
            "border": null,
            "align_items": null,
            "bottom": null,
            "_model_module": "@jupyter-widgets/base",
            "top": null,
            "grid_column": null,
            "overflow_y": null,
            "overflow_x": null,
            "grid_auto_flow": null,
            "grid_area": null,
            "grid_template_columns": null,
            "flex": null,
            "_model_name": "LayoutModel",
            "justify_items": null,
            "grid_row": null,
            "max_height": null,
            "align_content": null,
            "visibility": null,
            "align_self": null,
            "height": null,
            "min_height": null,
            "padding": null,
            "grid_auto_rows": null,
            "grid_gap": null,
            "max_width": null,
            "order": null,
            "_view_module_version": "1.2.0",
            "grid_template_areas": null,
            "object_position": null,
            "object_fit": null,
            "grid_auto_columns": null,
            "margin": null,
            "display": null,
            "left": null
          }
        },
        "93c32f4e50774cb68b852d1cfb3a73f3": {
          "model_module": "@jupyter-widgets/output",
          "model_name": "OutputModel",
          "model_module_version": "1.0.0",
          "state": {
            "_view_name": "OutputView",
            "msg_id": "",
            "_dom_classes": [],
            "_model_name": "OutputModel",
            "outputs": [
              {
                "output_type": "stream",
                "text": [
                  "Video available at https://youtube.com/watch?v=DtCWDIlSo18\n"
                ],
                "name": "stdout"
              },
              {
                "output_type": "display_data",
                "data": {
                  "text/html": [
                    "\n",
                    "        <iframe\n",
                    "            width=\"854\"\n",
                    "            height=\"480\"\n",
                    "            src=\"https://www.youtube.com/embed/DtCWDIlSo18?fs=1&rel=0\"\n",
                    "            frameborder=\"0\"\n",
                    "            allowfullscreen\n",
                    "        ></iframe>\n",
                    "        "
                  ],
                  "text/plain": [
                    "<IPython.lib.display.YouTubeVideo at 0x7fa83cc78cd0>"
                  ],
                  "image/jpeg": "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\n"
                },
                "metadata": {
                  "tags": []
                }
              }
            ],
            "_view_module": "@jupyter-widgets/output",
            "_model_module_version": "1.0.0",
            "_view_count": null,
            "_view_module_version": "1.0.0",
            "layout": "IPY_MODEL_35b1fecb8fdb4c4b85aed4f5493a9657",
            "_model_module": "@jupyter-widgets/output"
          }
        },
        "c4be85dd97d149c88accaef91ef1f700": {
          "model_module": "@jupyter-widgets/output",
          "model_name": "OutputModel",
          "model_module_version": "1.0.0",
          "state": {
            "_view_name": "OutputView",
            "msg_id": "",
            "_dom_classes": [],
            "_model_name": "OutputModel",
            "outputs": [
              {
                "output_type": "stream",
                "text": [
                  "Video available at https://www.bilibili.com/video/BV1Rb4y1U7BW\n"
                ],
                "name": "stdout"
              },
              {
                "output_type": "display_data",
                "data": {
                  "text/html": [
                    "\n",
                    "        <iframe\n",
                    "            width=\"854\"\n",
                    "            height=\"480\"\n",
                    "            src=\"https://player.bilibili.com/player.html?bvid=BV1Rb4y1U7BW&page=1?fs=1\"\n",
                    "            frameborder=\"0\"\n",
                    "            allowfullscreen\n",
                    "        ></iframe>\n",
                    "        "
                  ],
                  "text/plain": [
                    "<__main__.BiliVideo at 0x7fa83c7e9c50>"
                  ]
                },
                "metadata": {
                  "tags": []
                }
              }
            ],
            "_view_module": "@jupyter-widgets/output",
            "_model_module_version": "1.0.0",
            "_view_count": null,
            "_view_module_version": "1.0.0",
            "layout": "IPY_MODEL_936b1dfcfe2f4086a8519bf99e4b0cf6",
            "_model_module": "@jupyter-widgets/output"
          }
        },
        "35b1fecb8fdb4c4b85aed4f5493a9657": {
          "model_module": "@jupyter-widgets/base",
          "model_name": "LayoutModel",
          "model_module_version": "1.2.0",
          "state": {
            "_view_name": "LayoutView",
            "grid_template_rows": null,
            "right": null,
            "justify_content": null,
            "_view_module": "@jupyter-widgets/base",
            "overflow": null,
            "_model_module_version": "1.2.0",
            "_view_count": null,
            "flex_flow": null,
            "width": null,
            "min_width": null,
            "border": null,
            "align_items": null,
            "bottom": null,
            "_model_module": "@jupyter-widgets/base",
            "top": null,
            "grid_column": null,
            "overflow_y": null,
            "overflow_x": null,
            "grid_auto_flow": null,
            "grid_area": null,
            "grid_template_columns": null,
            "flex": null,
            "_model_name": "LayoutModel",
            "justify_items": null,
            "grid_row": null,
            "max_height": null,
            "align_content": null,
            "visibility": null,
            "align_self": null,
            "height": null,
            "min_height": null,
            "padding": null,
            "grid_auto_rows": null,
            "grid_gap": null,
            "max_width": null,
            "order": null,
            "_view_module_version": "1.2.0",
            "grid_template_areas": null,
            "object_position": null,
            "object_fit": null,
            "grid_auto_columns": null,
            "margin": null,
            "display": null,
            "left": null
          }
        },
        "936b1dfcfe2f4086a8519bf99e4b0cf6": {
          "model_module": "@jupyter-widgets/base",
          "model_name": "LayoutModel",
          "model_module_version": "1.2.0",
          "state": {
            "_view_name": "LayoutView",
            "grid_template_rows": null,
            "right": null,
            "justify_content": null,
            "_view_module": "@jupyter-widgets/base",
            "overflow": null,
            "_model_module_version": "1.2.0",
            "_view_count": null,
            "flex_flow": null,
            "width": null,
            "min_width": null,
            "border": null,
            "align_items": null,
            "bottom": null,
            "_model_module": "@jupyter-widgets/base",
            "top": null,
            "grid_column": null,
            "overflow_y": null,
            "overflow_x": null,
            "grid_auto_flow": null,
            "grid_area": null,
            "grid_template_columns": null,
            "flex": null,
            "_model_name": "LayoutModel",
            "justify_items": null,
            "grid_row": null,
            "max_height": null,
            "align_content": null,
            "visibility": null,
            "align_self": null,
            "height": null,
            "min_height": null,
            "padding": null,
            "grid_auto_rows": null,
            "grid_gap": null,
            "max_width": null,
            "order": null,
            "_view_module_version": "1.2.0",
            "grid_template_areas": null,
            "object_position": null,
            "object_fit": null,
            "grid_auto_columns": null,
            "margin": null,
            "display": null,
            "left": null
          }
        },
        "1edb2297002d4eb29da952fb098f732c": {
          "model_module": "@jupyter-widgets/controls",
          "model_name": "TabModel",
          "model_module_version": "1.5.0",
          "state": {
            "_view_name": "TabView",
            "_dom_classes": [],
            "_titles": {
              "0": "Youtube",
              "1": "Bilibili"
            },
            "_model_name": "TabModel",
            "_view_module": "@jupyter-widgets/controls",
            "selected_index": 0,
            "_model_module_version": "1.5.0",
            "_view_count": null,
            "_view_module_version": "1.5.0",
            "box_style": "",
            "layout": "IPY_MODEL_491c4a77ccf2457a89a426fa76f80669",
            "_model_module": "@jupyter-widgets/controls",
            "children": [
              "IPY_MODEL_041335ef89b94b2296524b6c05a439f6",
              "IPY_MODEL_27bb1e9bafd6427db7a8f2e2ad3631ba"
            ]
          }
        },
        "491c4a77ccf2457a89a426fa76f80669": {
          "model_module": "@jupyter-widgets/base",
          "model_name": "LayoutModel",
          "model_module_version": "1.2.0",
          "state": {
            "_view_name": "LayoutView",
            "grid_template_rows": null,
            "right": null,
            "justify_content": null,
            "_view_module": "@jupyter-widgets/base",
            "overflow": null,
            "_model_module_version": "1.2.0",
            "_view_count": null,
            "flex_flow": null,
            "width": null,
            "min_width": null,
            "border": null,
            "align_items": null,
            "bottom": null,
            "_model_module": "@jupyter-widgets/base",
            "top": null,
            "grid_column": null,
            "overflow_y": null,
            "overflow_x": null,
            "grid_auto_flow": null,
            "grid_area": null,
            "grid_template_columns": null,
            "flex": null,
            "_model_name": "LayoutModel",
            "justify_items": null,
            "grid_row": null,
            "max_height": null,
            "align_content": null,
            "visibility": null,
            "align_self": null,
            "height": null,
            "min_height": null,
            "padding": null,
            "grid_auto_rows": null,
            "grid_gap": null,
            "max_width": null,
            "order": null,
            "_view_module_version": "1.2.0",
            "grid_template_areas": null,
            "object_position": null,
            "object_fit": null,
            "grid_auto_columns": null,
            "margin": null,
            "display": null,
            "left": null
          }
        },
        "041335ef89b94b2296524b6c05a439f6": {
          "model_module": "@jupyter-widgets/output",
          "model_name": "OutputModel",
          "model_module_version": "1.0.0",
          "state": {
            "_view_name": "OutputView",
            "msg_id": "",
            "_dom_classes": [],
            "_model_name": "OutputModel",
            "outputs": [
              {
                "output_type": "stream",
                "text": [
                  "Video available at https://youtube.com/watch?v=plmFzAy3H5s\n"
                ],
                "name": "stdout"
              },
              {
                "output_type": "display_data",
                "data": {
                  "text/html": [
                    "\n",
                    "        <iframe\n",
                    "            width=\"854\"\n",
                    "            height=\"480\"\n",
                    "            src=\"https://www.youtube.com/embed/plmFzAy3H5s?fs=1&rel=0\"\n",
                    "            frameborder=\"0\"\n",
                    "            allowfullscreen\n",
                    "        ></iframe>\n",
                    "        "
                  ],
                  "text/plain": [
                    "<IPython.lib.display.YouTubeVideo at 0x7fa843dcf090>"
                  ],
                  "image/jpeg": "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\n"
                },
                "metadata": {
                  "tags": []
                }
              }
            ],
            "_view_module": "@jupyter-widgets/output",
            "_model_module_version": "1.0.0",
            "_view_count": null,
            "_view_module_version": "1.0.0",
            "layout": "IPY_MODEL_e34b7e87eb4e45e19dcef6c58223481a",
            "_model_module": "@jupyter-widgets/output"
          }
        },
        "27bb1e9bafd6427db7a8f2e2ad3631ba": {
          "model_module": "@jupyter-widgets/output",
          "model_name": "OutputModel",
          "model_module_version": "1.0.0",
          "state": {
            "_view_name": "OutputView",
            "msg_id": "",
            "_dom_classes": [],
            "_model_name": "OutputModel",
            "outputs": [
              {
                "output_type": "stream",
                "text": [
                  "Video available at https://www.bilibili.com/video/BV1bh411B7S4\n"
                ],
                "name": "stdout"
              },
              {
                "output_type": "display_data",
                "data": {
                  "text/html": [
                    "\n",
                    "        <iframe\n",
                    "            width=\"854\"\n",
                    "            height=\"480\"\n",
                    "            src=\"https://player.bilibili.com/player.html?bvid=BV1bh411B7S4&page=1?fs=1\"\n",
                    "            frameborder=\"0\"\n",
                    "            allowfullscreen\n",
                    "        ></iframe>\n",
                    "        "
                  ],
                  "text/plain": [
                    "<__main__.BiliVideo at 0x7fa83c7f21d0>"
                  ]
                },
                "metadata": {
                  "tags": []
                }
              }
            ],
            "_view_module": "@jupyter-widgets/output",
            "_model_module_version": "1.0.0",
            "_view_count": null,
            "_view_module_version": "1.0.0",
            "layout": "IPY_MODEL_b1ccbafe598145a89c98cc31606844f8",
            "_model_module": "@jupyter-widgets/output"
          }
        },
        "e34b7e87eb4e45e19dcef6c58223481a": {
          "model_module": "@jupyter-widgets/base",
          "model_name": "LayoutModel",
          "model_module_version": "1.2.0",
          "state": {
            "_view_name": "LayoutView",
            "grid_template_rows": null,
            "right": null,
            "justify_content": null,
            "_view_module": "@jupyter-widgets/base",
            "overflow": null,
            "_model_module_version": "1.2.0",
            "_view_count": null,
            "flex_flow": null,
            "width": null,
            "min_width": null,
            "border": null,
            "align_items": null,
            "bottom": null,
            "_model_module": "@jupyter-widgets/base",
            "top": null,
            "grid_column": null,
            "overflow_y": null,
            "overflow_x": null,
            "grid_auto_flow": null,
            "grid_area": null,
            "grid_template_columns": null,
            "flex": null,
            "_model_name": "LayoutModel",
            "justify_items": null,
            "grid_row": null,
            "max_height": null,
            "align_content": null,
            "visibility": null,
            "align_self": null,
            "height": null,
            "min_height": null,
            "padding": null,
            "grid_auto_rows": null,
            "grid_gap": null,
            "max_width": null,
            "order": null,
            "_view_module_version": "1.2.0",
            "grid_template_areas": null,
            "object_position": null,
            "object_fit": null,
            "grid_auto_columns": null,
            "margin": null,
            "display": null,
            "left": null
          }
        },
        "b1ccbafe598145a89c98cc31606844f8": {
          "model_module": "@jupyter-widgets/base",
          "model_name": "LayoutModel",
          "model_module_version": "1.2.0",
          "state": {
            "_view_name": "LayoutView",
            "grid_template_rows": null,
            "right": null,
            "justify_content": null,
            "_view_module": "@jupyter-widgets/base",
            "overflow": null,
            "_model_module_version": "1.2.0",
            "_view_count": null,
            "flex_flow": null,
            "width": null,
            "min_width": null,
            "border": null,
            "align_items": null,
            "bottom": null,
            "_model_module": "@jupyter-widgets/base",
            "top": null,
            "grid_column": null,
            "overflow_y": null,
            "overflow_x": null,
            "grid_auto_flow": null,
            "grid_area": null,
            "grid_template_columns": null,
            "flex": null,
            "_model_name": "LayoutModel",
            "justify_items": null,
            "grid_row": null,
            "max_height": null,
            "align_content": null,
            "visibility": null,
            "align_self": null,
            "height": null,
            "min_height": null,
            "padding": null,
            "grid_auto_rows": null,
            "grid_gap": null,
            "max_width": null,
            "order": null,
            "_view_module_version": "1.2.0",
            "grid_template_areas": null,
            "object_position": null,
            "object_fit": null,
            "grid_auto_columns": null,
            "margin": null,
            "display": null,
            "left": null
          }
        },
        "d478a9b7e3bf4f4aafac64087350f792": {
          "model_module": "@jupyter-widgets/controls",
          "model_name": "TabModel",
          "model_module_version": "1.5.0",
          "state": {
            "_view_name": "TabView",
            "_dom_classes": [],
            "_titles": {
              "0": "Youtube",
              "1": "Bilibili"
            },
            "_model_name": "TabModel",
            "_view_module": "@jupyter-widgets/controls",
            "selected_index": 0,
            "_model_module_version": "1.5.0",
            "_view_count": null,
            "_view_module_version": "1.5.0",
            "box_style": "",
            "layout": "IPY_MODEL_e7cf4d03f2bf4fbca6d77221ccea4c83",
            "_model_module": "@jupyter-widgets/controls",
            "children": [
              "IPY_MODEL_f33342d3847643bd8726ea814538f015",
              "IPY_MODEL_b4d92369a43843428adee8de86bd4a0d"
            ]
          }
        },
        "e7cf4d03f2bf4fbca6d77221ccea4c83": {
          "model_module": "@jupyter-widgets/base",
          "model_name": "LayoutModel",
          "model_module_version": "1.2.0",
          "state": {
            "_view_name": "LayoutView",
            "grid_template_rows": null,
            "right": null,
            "justify_content": null,
            "_view_module": "@jupyter-widgets/base",
            "overflow": null,
            "_model_module_version": "1.2.0",
            "_view_count": null,
            "flex_flow": null,
            "width": null,
            "min_width": null,
            "border": null,
            "align_items": null,
            "bottom": null,
            "_model_module": "@jupyter-widgets/base",
            "top": null,
            "grid_column": null,
            "overflow_y": null,
            "overflow_x": null,
            "grid_auto_flow": null,
            "grid_area": null,
            "grid_template_columns": null,
            "flex": null,
            "_model_name": "LayoutModel",
            "justify_items": null,
            "grid_row": null,
            "max_height": null,
            "align_content": null,
            "visibility": null,
            "align_self": null,
            "height": null,
            "min_height": null,
            "padding": null,
            "grid_auto_rows": null,
            "grid_gap": null,
            "max_width": null,
            "order": null,
            "_view_module_version": "1.2.0",
            "grid_template_areas": null,
            "object_position": null,
            "object_fit": null,
            "grid_auto_columns": null,
            "margin": null,
            "display": null,
            "left": null
          }
        },
        "f33342d3847643bd8726ea814538f015": {
          "model_module": "@jupyter-widgets/output",
          "model_name": "OutputModel",
          "model_module_version": "1.0.0",
          "state": {
            "_view_name": "OutputView",
            "msg_id": "",
            "_dom_classes": [],
            "_model_name": "OutputModel",
            "outputs": [
              {
                "output_type": "stream",
                "text": [
                  "Video available at https://youtube.com/watch?v=q7181lvoNpM\n"
                ],
                "name": "stdout"
              },
              {
                "output_type": "display_data",
                "data": {
                  "text/html": [
                    "\n",
                    "        <iframe\n",
                    "            width=\"854\"\n",
                    "            height=\"480\"\n",
                    "            src=\"https://www.youtube.com/embed/q7181lvoNpM?fs=1&rel=0\"\n",
                    "            frameborder=\"0\"\n",
                    "            allowfullscreen\n",
                    "        ></iframe>\n",
                    "        "
                  ],
                  "text/plain": [
                    "<IPython.lib.display.YouTubeVideo at 0x7fa83cca0210>"
                  ],
                  "image/jpeg": "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\n"
                },
                "metadata": {
                  "tags": []
                }
              }
            ],
            "_view_module": "@jupyter-widgets/output",
            "_model_module_version": "1.0.0",
            "_view_count": null,
            "_view_module_version": "1.0.0",
            "layout": "IPY_MODEL_0a75cc4604894769b0c6eccc1d4ad313",
            "_model_module": "@jupyter-widgets/output"
          }
        },
        "b4d92369a43843428adee8de86bd4a0d": {
          "model_module": "@jupyter-widgets/output",
          "model_name": "OutputModel",
          "model_module_version": "1.0.0",
          "state": {
            "_view_name": "OutputView",
            "msg_id": "",
            "_dom_classes": [],
            "_model_name": "OutputModel",
            "outputs": [
              {
                "output_type": "stream",
                "text": [
                  "Video available at https://www.bilibili.com/video/BV1WA411w7mw\n"
                ],
                "name": "stdout"
              },
              {
                "output_type": "display_data",
                "data": {
                  "text/html": [
                    "\n",
                    "        <iframe\n",
                    "            width=\"854\"\n",
                    "            height=\"480\"\n",
                    "            src=\"https://player.bilibili.com/player.html?bvid=BV1WA411w7mw&page=1?fs=1\"\n",
                    "            frameborder=\"0\"\n",
                    "            allowfullscreen\n",
                    "        ></iframe>\n",
                    "        "
                  ],
                  "text/plain": [
                    "<__main__.BiliVideo at 0x7fa83cca01d0>"
                  ]
                },
                "metadata": {
                  "tags": []
                }
              }
            ],
            "_view_module": "@jupyter-widgets/output",
            "_model_module_version": "1.0.0",
            "_view_count": null,
            "_view_module_version": "1.0.0",
            "layout": "IPY_MODEL_dc5d151aff5441a8a8afeb39e2f92af3",
            "_model_module": "@jupyter-widgets/output"
          }
        },
        "0a75cc4604894769b0c6eccc1d4ad313": {
          "model_module": "@jupyter-widgets/base",
          "model_name": "LayoutModel",
          "model_module_version": "1.2.0",
          "state": {
            "_view_name": "LayoutView",
            "grid_template_rows": null,
            "right": null,
            "justify_content": null,
            "_view_module": "@jupyter-widgets/base",
            "overflow": null,
            "_model_module_version": "1.2.0",
            "_view_count": null,
            "flex_flow": null,
            "width": null,
            "min_width": null,
            "border": null,
            "align_items": null,
            "bottom": null,
            "_model_module": "@jupyter-widgets/base",
            "top": null,
            "grid_column": null,
            "overflow_y": null,
            "overflow_x": null,
            "grid_auto_flow": null,
            "grid_area": null,
            "grid_template_columns": null,
            "flex": null,
            "_model_name": "LayoutModel",
            "justify_items": null,
            "grid_row": null,
            "max_height": null,
            "align_content": null,
            "visibility": null,
            "align_self": null,
            "height": null,
            "min_height": null,
            "padding": null,
            "grid_auto_rows": null,
            "grid_gap": null,
            "max_width": null,
            "order": null,
            "_view_module_version": "1.2.0",
            "grid_template_areas": null,
            "object_position": null,
            "object_fit": null,
            "grid_auto_columns": null,
            "margin": null,
            "display": null,
            "left": null
          }
        },
        "dc5d151aff5441a8a8afeb39e2f92af3": {
          "model_module": "@jupyter-widgets/base",
          "model_name": "LayoutModel",
          "model_module_version": "1.2.0",
          "state": {
            "_view_name": "LayoutView",
            "grid_template_rows": null,
            "right": null,
            "justify_content": null,
            "_view_module": "@jupyter-widgets/base",
            "overflow": null,
            "_model_module_version": "1.2.0",
            "_view_count": null,
            "flex_flow": null,
            "width": null,
            "min_width": null,
            "border": null,
            "align_items": null,
            "bottom": null,
            "_model_module": "@jupyter-widgets/base",
            "top": null,
            "grid_column": null,
            "overflow_y": null,
            "overflow_x": null,
            "grid_auto_flow": null,
            "grid_area": null,
            "grid_template_columns": null,
            "flex": null,
            "_model_name": "LayoutModel",
            "justify_items": null,
            "grid_row": null,
            "max_height": null,
            "align_content": null,
            "visibility": null,
            "align_self": null,
            "height": null,
            "min_height": null,
            "padding": null,
            "grid_auto_rows": null,
            "grid_gap": null,
            "max_width": null,
            "order": null,
            "_view_module_version": "1.2.0",
            "grid_template_areas": null,
            "object_position": null,
            "object_fit": null,
            "grid_auto_columns": null,
            "margin": null,
            "display": null,
            "left": null
          }
        },
        "23fbd03977cf46edb3735fe644bdd32c": {
          "model_module": "@jupyter-widgets/controls",
          "model_name": "TabModel",
          "model_module_version": "1.5.0",
          "state": {
            "_view_name": "TabView",
            "_dom_classes": [],
            "_titles": {
              "0": "Youtube",
              "1": "Bilibili"
            },
            "_model_name": "TabModel",
            "_view_module": "@jupyter-widgets/controls",
            "selected_index": 0,
            "_model_module_version": "1.5.0",
            "_view_count": null,
            "_view_module_version": "1.5.0",
            "box_style": "",
            "layout": "IPY_MODEL_89b761adcea941a99aeba4adc8eb652d",
            "_model_module": "@jupyter-widgets/controls",
            "children": [
              "IPY_MODEL_113ac9be0ca84b56853c864b65e8eb97",
              "IPY_MODEL_75f0c7d5032e48e184f34e0c6e927d6f"
            ]
          }
        },
        "89b761adcea941a99aeba4adc8eb652d": {
          "model_module": "@jupyter-widgets/base",
          "model_name": "LayoutModel",
          "model_module_version": "1.2.0",
          "state": {
            "_view_name": "LayoutView",
            "grid_template_rows": null,
            "right": null,
            "justify_content": null,
            "_view_module": "@jupyter-widgets/base",
            "overflow": null,
            "_model_module_version": "1.2.0",
            "_view_count": null,
            "flex_flow": null,
            "width": null,
            "min_width": null,
            "border": null,
            "align_items": null,
            "bottom": null,
            "_model_module": "@jupyter-widgets/base",
            "top": null,
            "grid_column": null,
            "overflow_y": null,
            "overflow_x": null,
            "grid_auto_flow": null,
            "grid_area": null,
            "grid_template_columns": null,
            "flex": null,
            "_model_name": "LayoutModel",
            "justify_items": null,
            "grid_row": null,
            "max_height": null,
            "align_content": null,
            "visibility": null,
            "align_self": null,
            "height": null,
            "min_height": null,
            "padding": null,
            "grid_auto_rows": null,
            "grid_gap": null,
            "max_width": null,
            "order": null,
            "_view_module_version": "1.2.0",
            "grid_template_areas": null,
            "object_position": null,
            "object_fit": null,
            "grid_auto_columns": null,
            "margin": null,
            "display": null,
            "left": null
          }
        },
        "113ac9be0ca84b56853c864b65e8eb97": {
          "model_module": "@jupyter-widgets/output",
          "model_name": "OutputModel",
          "model_module_version": "1.0.0",
          "state": {
            "_view_name": "OutputView",
            "msg_id": "",
            "_dom_classes": [],
            "_model_name": "OutputModel",
            "outputs": [
              {
                "output_type": "stream",
                "text": [
                  "Video available at https://youtube.com/watch?v=uQ26iIUzmtw\n"
                ],
                "name": "stdout"
              },
              {
                "output_type": "display_data",
                "data": {
                  "text/html": [
                    "\n",
                    "        <iframe\n",
                    "            width=\"854\"\n",
                    "            height=\"480\"\n",
                    "            src=\"https://www.youtube.com/embed/uQ26iIUzmtw?fs=1&rel=0\"\n",
                    "            frameborder=\"0\"\n",
                    "            allowfullscreen\n",
                    "        ></iframe>\n",
                    "        "
                  ],
                  "text/plain": [
                    "<IPython.lib.display.YouTubeVideo at 0x7fa83c7f2150>"
                  ],
                  "image/jpeg": "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\n"
                },
                "metadata": {
                  "tags": []
                }
              }
            ],
            "_view_module": "@jupyter-widgets/output",
            "_model_module_version": "1.0.0",
            "_view_count": null,
            "_view_module_version": "1.0.0",
            "layout": "IPY_MODEL_ab7d65e4b9714bf396180c6f95555578",
            "_model_module": "@jupyter-widgets/output"
          }
        },
        "75f0c7d5032e48e184f34e0c6e927d6f": {
          "model_module": "@jupyter-widgets/output",
          "model_name": "OutputModel",
          "model_module_version": "1.0.0",
          "state": {
            "_view_name": "OutputView",
            "msg_id": "",
            "_dom_classes": [],
            "_model_name": "OutputModel",
            "outputs": [
              {
                "output_type": "stream",
                "text": [
                  "Video available at https://www.bilibili.com/video/BV1a64y1s7Sh\n"
                ],
                "name": "stdout"
              },
              {
                "output_type": "display_data",
                "data": {
                  "text/html": [
                    "\n",
                    "        <iframe\n",
                    "            width=\"854\"\n",
                    "            height=\"480\"\n",
                    "            src=\"https://player.bilibili.com/player.html?bvid=BV1a64y1s7Sh&page=1?fs=1\"\n",
                    "            frameborder=\"0\"\n",
                    "            allowfullscreen\n",
                    "        ></iframe>\n",
                    "        "
                  ],
                  "text/plain": [
                    "<__main__.BiliVideo at 0x7fa83c815a90>"
                  ]
                },
                "metadata": {
                  "tags": []
                }
              }
            ],
            "_view_module": "@jupyter-widgets/output",
            "_model_module_version": "1.0.0",
            "_view_count": null,
            "_view_module_version": "1.0.0",
            "layout": "IPY_MODEL_71548705c9954d67b01c4e05440038bb",
            "_model_module": "@jupyter-widgets/output"
          }
        },
        "ab7d65e4b9714bf396180c6f95555578": {
          "model_module": "@jupyter-widgets/base",
          "model_name": "LayoutModel",
          "model_module_version": "1.2.0",
          "state": {
            "_view_name": "LayoutView",
            "grid_template_rows": null,
            "right": null,
            "justify_content": null,
            "_view_module": "@jupyter-widgets/base",
            "overflow": null,
            "_model_module_version": "1.2.0",
            "_view_count": null,
            "flex_flow": null,
            "width": null,
            "min_width": null,
            "border": null,
            "align_items": null,
            "bottom": null,
            "_model_module": "@jupyter-widgets/base",
            "top": null,
            "grid_column": null,
            "overflow_y": null,
            "overflow_x": null,
            "grid_auto_flow": null,
            "grid_area": null,
            "grid_template_columns": null,
            "flex": null,
            "_model_name": "LayoutModel",
            "justify_items": null,
            "grid_row": null,
            "max_height": null,
            "align_content": null,
            "visibility": null,
            "align_self": null,
            "height": null,
            "min_height": null,
            "padding": null,
            "grid_auto_rows": null,
            "grid_gap": null,
            "max_width": null,
            "order": null,
            "_view_module_version": "1.2.0",
            "grid_template_areas": null,
            "object_position": null,
            "object_fit": null,
            "grid_auto_columns": null,
            "margin": null,
            "display": null,
            "left": null
          }
        },
        "71548705c9954d67b01c4e05440038bb": {
          "model_module": "@jupyter-widgets/base",
          "model_name": "LayoutModel",
          "model_module_version": "1.2.0",
          "state": {
            "_view_name": "LayoutView",
            "grid_template_rows": null,
            "right": null,
            "justify_content": null,
            "_view_module": "@jupyter-widgets/base",
            "overflow": null,
            "_model_module_version": "1.2.0",
            "_view_count": null,
            "flex_flow": null,
            "width": null,
            "min_width": null,
            "border": null,
            "align_items": null,
            "bottom": null,
            "_model_module": "@jupyter-widgets/base",
            "top": null,
            "grid_column": null,
            "overflow_y": null,
            "overflow_x": null,
            "grid_auto_flow": null,
            "grid_area": null,
            "grid_template_columns": null,
            "flex": null,
            "_model_name": "LayoutModel",
            "justify_items": null,
            "grid_row": null,
            "max_height": null,
            "align_content": null,
            "visibility": null,
            "align_self": null,
            "height": null,
            "min_height": null,
            "padding": null,
            "grid_auto_rows": null,
            "grid_gap": null,
            "max_width": null,
            "order": null,
            "_view_module_version": "1.2.0",
            "grid_template_areas": null,
            "object_position": null,
            "object_fit": null,
            "grid_auto_columns": null,
            "margin": null,
            "display": null,
            "left": null
          }
        },
        "af8a9febe8944cc19ece4f366d42648c": {
          "model_module": "@jupyter-widgets/controls",
          "model_name": "TabModel",
          "model_module_version": "1.5.0",
          "state": {
            "_view_name": "TabView",
            "_dom_classes": [],
            "_titles": {
              "0": "Youtube",
              "1": "Bilibili"
            },
            "_model_name": "TabModel",
            "_view_module": "@jupyter-widgets/controls",
            "selected_index": 0,
            "_model_module_version": "1.5.0",
            "_view_count": null,
            "_view_module_version": "1.5.0",
            "box_style": "",
            "layout": "IPY_MODEL_5a451a282d3b4b26847c7c1efebd9219",
            "_model_module": "@jupyter-widgets/controls",
            "children": [
              "IPY_MODEL_19bdd7f925af4cde922efdf00b4e87a8",
              "IPY_MODEL_56675a1dbb4a49c99fd8279e35cad215"
            ]
          }
        },
        "5a451a282d3b4b26847c7c1efebd9219": {
          "model_module": "@jupyter-widgets/base",
          "model_name": "LayoutModel",
          "model_module_version": "1.2.0",
          "state": {
            "_view_name": "LayoutView",
            "grid_template_rows": null,
            "right": null,
            "justify_content": null,
            "_view_module": "@jupyter-widgets/base",
            "overflow": null,
            "_model_module_version": "1.2.0",
            "_view_count": null,
            "flex_flow": null,
            "width": null,
            "min_width": null,
            "border": null,
            "align_items": null,
            "bottom": null,
            "_model_module": "@jupyter-widgets/base",
            "top": null,
            "grid_column": null,
            "overflow_y": null,
            "overflow_x": null,
            "grid_auto_flow": null,
            "grid_area": null,
            "grid_template_columns": null,
            "flex": null,
            "_model_name": "LayoutModel",
            "justify_items": null,
            "grid_row": null,
            "max_height": null,
            "align_content": null,
            "visibility": null,
            "align_self": null,
            "height": null,
            "min_height": null,
            "padding": null,
            "grid_auto_rows": null,
            "grid_gap": null,
            "max_width": null,
            "order": null,
            "_view_module_version": "1.2.0",
            "grid_template_areas": null,
            "object_position": null,
            "object_fit": null,
            "grid_auto_columns": null,
            "margin": null,
            "display": null,
            "left": null
          }
        },
        "19bdd7f925af4cde922efdf00b4e87a8": {
          "model_module": "@jupyter-widgets/output",
          "model_name": "OutputModel",
          "model_module_version": "1.0.0",
          "state": {
            "_view_name": "OutputView",
            "msg_id": "",
            "_dom_classes": [],
            "_model_name": "OutputModel",
            "outputs": [
              {
                "output_type": "stream",
                "text": [
                  "Video available at https://youtube.com/watch?v=Hhw6Ed0Zmco\n"
                ],
                "name": "stdout"
              },
              {
                "output_type": "display_data",
                "data": {
                  "text/html": [
                    "\n",
                    "        <iframe\n",
                    "            width=\"854\"\n",
                    "            height=\"480\"\n",
                    "            src=\"https://www.youtube.com/embed/Hhw6Ed0Zmco?fs=1&rel=0\"\n",
                    "            frameborder=\"0\"\n",
                    "            allowfullscreen\n",
                    "        ></iframe>\n",
                    "        "
                  ],
                  "text/plain": [
                    "<IPython.lib.display.YouTubeVideo at 0x7fa841ac1550>"
                  ],
                  "image/jpeg": "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\n"
                },
                "metadata": {
                  "tags": []
                }
              }
            ],
            "_view_module": "@jupyter-widgets/output",
            "_model_module_version": "1.0.0",
            "_view_count": null,
            "_view_module_version": "1.0.0",
            "layout": "IPY_MODEL_1322901296464292a86c7b10f5091a7a",
            "_model_module": "@jupyter-widgets/output"
          }
        },
        "56675a1dbb4a49c99fd8279e35cad215": {
          "model_module": "@jupyter-widgets/output",
          "model_name": "OutputModel",
          "model_module_version": "1.0.0",
          "state": {
            "_view_name": "OutputView",
            "msg_id": "",
            "_dom_classes": [],
            "_model_name": "OutputModel",
            "outputs": [
              {
                "output_type": "stream",
                "text": [
                  "Video available at https://www.bilibili.com/video/BV1yQ4y127Sr\n"
                ],
                "name": "stdout"
              },
              {
                "output_type": "display_data",
                "data": {
                  "text/html": [
                    "\n",
                    "        <iframe\n",
                    "            width=\"854\"\n",
                    "            height=\"480\"\n",
                    "            src=\"https://player.bilibili.com/player.html?bvid=BV1yQ4y127Sr&page=1?fs=1\"\n",
                    "            frameborder=\"0\"\n",
                    "            allowfullscreen\n",
                    "        ></iframe>\n",
                    "        "
                  ],
                  "text/plain": [
                    "<__main__.BiliVideo at 0x7fa862dbe350>"
                  ]
                },
                "metadata": {
                  "tags": []
                }
              }
            ],
            "_view_module": "@jupyter-widgets/output",
            "_model_module_version": "1.0.0",
            "_view_count": null,
            "_view_module_version": "1.0.0",
            "layout": "IPY_MODEL_7efc44e731d748aabd8a87b4909469b4",
            "_model_module": "@jupyter-widgets/output"
          }
        },
        "1322901296464292a86c7b10f5091a7a": {
          "model_module": "@jupyter-widgets/base",
          "model_name": "LayoutModel",
          "model_module_version": "1.2.0",
          "state": {
            "_view_name": "LayoutView",
            "grid_template_rows": null,
            "right": null,
            "justify_content": null,
            "_view_module": "@jupyter-widgets/base",
            "overflow": null,
            "_model_module_version": "1.2.0",
            "_view_count": null,
            "flex_flow": null,
            "width": null,
            "min_width": null,
            "border": null,
            "align_items": null,
            "bottom": null,
            "_model_module": "@jupyter-widgets/base",
            "top": null,
            "grid_column": null,
            "overflow_y": null,
            "overflow_x": null,
            "grid_auto_flow": null,
            "grid_area": null,
            "grid_template_columns": null,
            "flex": null,
            "_model_name": "LayoutModel",
            "justify_items": null,
            "grid_row": null,
            "max_height": null,
            "align_content": null,
            "visibility": null,
            "align_self": null,
            "height": null,
            "min_height": null,
            "padding": null,
            "grid_auto_rows": null,
            "grid_gap": null,
            "max_width": null,
            "order": null,
            "_view_module_version": "1.2.0",
            "grid_template_areas": null,
            "object_position": null,
            "object_fit": null,
            "grid_auto_columns": null,
            "margin": null,
            "display": null,
            "left": null
          }
        },
        "7efc44e731d748aabd8a87b4909469b4": {
          "model_module": "@jupyter-widgets/base",
          "model_name": "LayoutModel",
          "model_module_version": "1.2.0",
          "state": {
            "_view_name": "LayoutView",
            "grid_template_rows": null,
            "right": null,
            "justify_content": null,
            "_view_module": "@jupyter-widgets/base",
            "overflow": null,
            "_model_module_version": "1.2.0",
            "_view_count": null,
            "flex_flow": null,
            "width": null,
            "min_width": null,
            "border": null,
            "align_items": null,
            "bottom": null,
            "_model_module": "@jupyter-widgets/base",
            "top": null,
            "grid_column": null,
            "overflow_y": null,
            "overflow_x": null,
            "grid_auto_flow": null,
            "grid_area": null,
            "grid_template_columns": null,
            "flex": null,
            "_model_name": "LayoutModel",
            "justify_items": null,
            "grid_row": null,
            "max_height": null,
            "align_content": null,
            "visibility": null,
            "align_self": null,
            "height": null,
            "min_height": null,
            "padding": null,
            "grid_auto_rows": null,
            "grid_gap": null,
            "max_width": null,
            "order": null,
            "_view_module_version": "1.2.0",
            "grid_template_areas": null,
            "object_position": null,
            "object_fit": null,
            "grid_auto_columns": null,
            "margin": null,
            "display": null,
            "left": null
          }
        },
        "29b8be3b7d5749999b2e49097ee38bbc": {
          "model_module": "@jupyter-widgets/controls",
          "model_name": "TabModel",
          "model_module_version": "1.5.0",
          "state": {
            "_view_name": "TabView",
            "_dom_classes": [],
            "_titles": {
              "0": "Youtube",
              "1": "Bilibili"
            },
            "_model_name": "TabModel",
            "_view_module": "@jupyter-widgets/controls",
            "selected_index": 0,
            "_model_module_version": "1.5.0",
            "_view_count": null,
            "_view_module_version": "1.5.0",
            "box_style": "",
            "layout": "IPY_MODEL_8018d282b13a481dbc937bf17faef1a9",
            "_model_module": "@jupyter-widgets/controls",
            "children": [
              "IPY_MODEL_b0d5a7e045e44f42a1dfdcea6188940f",
              "IPY_MODEL_0063d635a21f43c8983bdb9966deef22"
            ]
          }
        },
        "8018d282b13a481dbc937bf17faef1a9": {
          "model_module": "@jupyter-widgets/base",
          "model_name": "LayoutModel",
          "model_module_version": "1.2.0",
          "state": {
            "_view_name": "LayoutView",
            "grid_template_rows": null,
            "right": null,
            "justify_content": null,
            "_view_module": "@jupyter-widgets/base",
            "overflow": null,
            "_model_module_version": "1.2.0",
            "_view_count": null,
            "flex_flow": null,
            "width": null,
            "min_width": null,
            "border": null,
            "align_items": null,
            "bottom": null,
            "_model_module": "@jupyter-widgets/base",
            "top": null,
            "grid_column": null,
            "overflow_y": null,
            "overflow_x": null,
            "grid_auto_flow": null,
            "grid_area": null,
            "grid_template_columns": null,
            "flex": null,
            "_model_name": "LayoutModel",
            "justify_items": null,
            "grid_row": null,
            "max_height": null,
            "align_content": null,
            "visibility": null,
            "align_self": null,
            "height": null,
            "min_height": null,
            "padding": null,
            "grid_auto_rows": null,
            "grid_gap": null,
            "max_width": null,
            "order": null,
            "_view_module_version": "1.2.0",
            "grid_template_areas": null,
            "object_position": null,
            "object_fit": null,
            "grid_auto_columns": null,
            "margin": null,
            "display": null,
            "left": null
          }
        },
        "b0d5a7e045e44f42a1dfdcea6188940f": {
          "model_module": "@jupyter-widgets/output",
          "model_name": "OutputModel",
          "model_module_version": "1.0.0",
          "state": {
            "_view_name": "OutputView",
            "msg_id": "",
            "_dom_classes": [],
            "_model_name": "OutputModel",
            "outputs": [
              {
                "output_type": "stream",
                "text": [
                  "Video available at https://youtube.com/watch?v=1BRXb-igKAU\n"
                ],
                "name": "stdout"
              },
              {
                "output_type": "display_data",
                "data": {
                  "text/html": [
                    "\n",
                    "        <iframe\n",
                    "            width=\"854\"\n",
                    "            height=\"480\"\n",
                    "            src=\"https://www.youtube.com/embed/1BRXb-igKAU?fs=1&rel=0\"\n",
                    "            frameborder=\"0\"\n",
                    "            allowfullscreen\n",
                    "        ></iframe>\n",
                    "        "
                  ],
                  "text/plain": [
                    "<IPython.lib.display.YouTubeVideo at 0x7fa83c7b43d0>"
                  ],
                  "image/jpeg": "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\n"
                },
                "metadata": {
                  "tags": []
                }
              }
            ],
            "_view_module": "@jupyter-widgets/output",
            "_model_module_version": "1.0.0",
            "_view_count": null,
            "_view_module_version": "1.0.0",
            "layout": "IPY_MODEL_6793b33576734727a9aa812dc3750724",
            "_model_module": "@jupyter-widgets/output"
          }
        },
        "0063d635a21f43c8983bdb9966deef22": {
          "model_module": "@jupyter-widgets/output",
          "model_name": "OutputModel",
          "model_module_version": "1.0.0",
          "state": {
            "_view_name": "OutputView",
            "msg_id": "",
            "_dom_classes": [],
            "_model_name": "OutputModel",
            "outputs": [
              {
                "output_type": "stream",
                "text": [
                  "Video available at https://www.bilibili.com/video/BV13q4y1H7H6\n"
                ],
                "name": "stdout"
              },
              {
                "output_type": "display_data",
                "data": {
                  "text/html": [
                    "\n",
                    "        <iframe\n",
                    "            width=\"854\"\n",
                    "            height=\"480\"\n",
                    "            src=\"https://player.bilibili.com/player.html?bvid=BV13q4y1H7H6&page=1?fs=1\"\n",
                    "            frameborder=\"0\"\n",
                    "            allowfullscreen\n",
                    "        ></iframe>\n",
                    "        "
                  ],
                  "text/plain": [
                    "<__main__.BiliVideo at 0x7fa83c7b4250>"
                  ]
                },
                "metadata": {
                  "tags": []
                }
              }
            ],
            "_view_module": "@jupyter-widgets/output",
            "_model_module_version": "1.0.0",
            "_view_count": null,
            "_view_module_version": "1.0.0",
            "layout": "IPY_MODEL_df0f976313df4d59a664d260f8bf215b",
            "_model_module": "@jupyter-widgets/output"
          }
        },
        "6793b33576734727a9aa812dc3750724": {
          "model_module": "@jupyter-widgets/base",
          "model_name": "LayoutModel",
          "model_module_version": "1.2.0",
          "state": {
            "_view_name": "LayoutView",
            "grid_template_rows": null,
            "right": null,
            "justify_content": null,
            "_view_module": "@jupyter-widgets/base",
            "overflow": null,
            "_model_module_version": "1.2.0",
            "_view_count": null,
            "flex_flow": null,
            "width": null,
            "min_width": null,
            "border": null,
            "align_items": null,
            "bottom": null,
            "_model_module": "@jupyter-widgets/base",
            "top": null,
            "grid_column": null,
            "overflow_y": null,
            "overflow_x": null,
            "grid_auto_flow": null,
            "grid_area": null,
            "grid_template_columns": null,
            "flex": null,
            "_model_name": "LayoutModel",
            "justify_items": null,
            "grid_row": null,
            "max_height": null,
            "align_content": null,
            "visibility": null,
            "align_self": null,
            "height": null,
            "min_height": null,
            "padding": null,
            "grid_auto_rows": null,
            "grid_gap": null,
            "max_width": null,
            "order": null,
            "_view_module_version": "1.2.0",
            "grid_template_areas": null,
            "object_position": null,
            "object_fit": null,
            "grid_auto_columns": null,
            "margin": null,
            "display": null,
            "left": null
          }
        },
        "df0f976313df4d59a664d260f8bf215b": {
          "model_module": "@jupyter-widgets/base",
          "model_name": "LayoutModel",
          "model_module_version": "1.2.0",
          "state": {
            "_view_name": "LayoutView",
            "grid_template_rows": null,
            "right": null,
            "justify_content": null,
            "_view_module": "@jupyter-widgets/base",
            "overflow": null,
            "_model_module_version": "1.2.0",
            "_view_count": null,
            "flex_flow": null,
            "width": null,
            "min_width": null,
            "border": null,
            "align_items": null,
            "bottom": null,
            "_model_module": "@jupyter-widgets/base",
            "top": null,
            "grid_column": null,
            "overflow_y": null,
            "overflow_x": null,
            "grid_auto_flow": null,
            "grid_area": null,
            "grid_template_columns": null,
            "flex": null,
            "_model_name": "LayoutModel",
            "justify_items": null,
            "grid_row": null,
            "max_height": null,
            "align_content": null,
            "visibility": null,
            "align_self": null,
            "height": null,
            "min_height": null,
            "padding": null,
            "grid_auto_rows": null,
            "grid_gap": null,
            "max_width": null,
            "order": null,
            "_view_module_version": "1.2.0",
            "grid_template_areas": null,
            "object_position": null,
            "object_fit": null,
            "grid_auto_columns": null,
            "margin": null,
            "display": null,
            "left": null
          }
        }
      }
    }
  },
  "cells": [
    {
      "cell_type": "markdown",
      "metadata": {
        "execution": {},
        "id": "UMamo972TdRx"
      },
      "source": [
        "# Tutorial 1: Learn to play games with RL\n",
        "\n",
        "**Week 3, Day 3: Reinforcement Learning for Games**\n",
        "\n",
        "**By Neuromatch Academy**\n",
        "\n",
        "__Content creators:__ Mandana Samiei, Raymond Chua, Tim Lilicrap, Blake Richards\n",
        "\n",
        "__Content reviewers:__ Arush Tagade, Lily Cheng, Melvin Selim Atay, Kelson Shilling-Scrivo\n",
        "\n",
        "__Content editors:__ Melvin Selim Atay, Spiros Chavlis\n",
        "\n",
        "__Production editors:__ Namrata Bafna, Spiros Chavlis"
      ]
    },
    {
      "cell_type": "markdown",
      "metadata": {
        "execution": {},
        "id": "Y_OuR9yLTdR4"
      },
      "source": [
        "**Our 2021 Sponsors, including Presenting Sponsor Facebook Reality Labs**\n",
        "\n",
        "<p align='center'><img src='https://github.com/NeuromatchAcademy/widgets/blob/master/sponsors.png?raw=True'/></p>"
      ]
    },
    {
      "cell_type": "markdown",
      "metadata": {
        "execution": {},
        "id": "E9Jz5DbcTdR5"
      },
      "source": [
        "---\n",
        "# Tutorial Objectives\n",
        "\n",
        "In this tutotial, you will learn how to implement a game loop and improve the performance of a random player. \n",
        "\n",
        "The specific objectives for this tutorial:\n",
        "*   Understand the format of two-players games\n",
        "*   Learn about value network and policy network\n",
        "\n",
        "In the Bonus sections you will learn about Monte Carlo Tree Search (MCTS) and compare its performance to policy-based and value-based players."
      ]
    },
    {
      "cell_type": "code",
      "metadata": {
        "cellView": "form",
        "execution": {},
        "id": "GUdAE63TTdR6",
        "colab": {
          "base_uri": "https://localhost:8080/",
          "height": 500
        },
        "outputId": "beeb6e44-a0ab-4bb1-96ec-65d57eb64251"
      },
      "source": [
        "# @title Tutorial slides\n",
        "\n",
        "# @markdown These are the slides for the videos in the tutorial\n",
        "\n",
        "# @markdown If you want to locally download the slides, click [here](https://osf.io/3zn9w/download)\n",
        "from IPython.display import IFrame\n",
        "IFrame(src=f\"https://mfr.ca-1.osf.io/render?url=https://osf.io/3zn9w/?direct%26mode=render%26action=download%26mode=render\", width=854, height=480)"
      ],
      "execution_count": null,
      "outputs": [
        {
          "output_type": "execute_result",
          "data": {
            "text/html": [
              "\n",
              "        <iframe\n",
              "            width=\"854\"\n",
              "            height=\"480\"\n",
              "            src=\"https://mfr.ca-1.osf.io/render?url=https://osf.io/3zn9w/?direct%26mode=render%26action=download%26mode=render\"\n",
              "            frameborder=\"0\"\n",
              "            allowfullscreen\n",
              "        ></iframe>\n",
              "        "
            ],
            "text/plain": [
              "<IPython.lib.display.IFrame at 0x7feb3117bd90>"
            ]
          },
          "metadata": {
            "tags": []
          },
          "execution_count": 1
        }
      ]
    },
    {
      "cell_type": "markdown",
      "metadata": {
        "execution": {},
        "id": "QPrEEz_QTdR7"
      },
      "source": [
        "---\n",
        "# Setup"
      ]
    },
    {
      "cell_type": "code",
      "metadata": {
        "execution": {},
        "cellView": "form",
        "id": "JetOALoKTdR8",
        "colab": {
          "base_uri": "https://localhost:8080/"
        },
        "outputId": "dda909b7-ca83-4493-b1a1-f6e97593e1ea"
      },
      "source": [
        "# @title Install dependencies\n",
        "!pip install coloredlogs --quiet\n",
        "\n",
        "!pip install git+https://github.com/NeuromatchAcademy/evaltools --quiet\n",
        "from evaltools.airtable import AirtableForm\n",
        "\n",
        "# generate airtable form\n",
        "atform = AirtableForm('appn7VdPRseSoMXEG','W3D3_T1','https://portal.neuromatchacademy.org/api/redirect/to/2baacd95-3fb5-4399-bf95-bbe5de255d2b')"
      ],
      "execution_count": null,
      "outputs": [
        {
          "output_type": "stream",
          "text": [
            "\u001b[?25l\r\u001b[K     |███████▏                        | 10 kB 29.7 MB/s eta 0:00:01\r\u001b[K     |██████████████▎                 | 20 kB 35.8 MB/s eta 0:00:01\r\u001b[K     |█████████████████████▍          | 30 kB 22.5 MB/s eta 0:00:01\r\u001b[K     |████████████████████████████▌   | 40 kB 17.7 MB/s eta 0:00:01\r\u001b[K     |████████████████████████████████| 46 kB 2.4 MB/s \n",
            "\u001b[?25h\u001b[?25l\r\u001b[K     |███▉                            | 10 kB 47.8 MB/s eta 0:00:01\r\u001b[K     |███████▋                        | 20 kB 53.9 MB/s eta 0:00:01\r\u001b[K     |███████████▍                    | 30 kB 63.2 MB/s eta 0:00:01\r\u001b[K     |███████████████▏                | 40 kB 56.5 MB/s eta 0:00:01\r\u001b[K     |███████████████████             | 51 kB 60.0 MB/s eta 0:00:01\r\u001b[K     |██████████████████████▊         | 61 kB 10.9 MB/s eta 0:00:01\r\u001b[K     |██████████████████████████▌     | 71 kB 12.2 MB/s eta 0:00:01\r\u001b[K     |██████████████████████████████▎ | 81 kB 13.6 MB/s eta 0:00:01\r\u001b[K     |████████████████████████████████| 86 kB 5.4 MB/s \n",
            "\u001b[?25h  Building wheel for evaltools (setup.py) ... \u001b[?25l\u001b[?25hdone\n"
          ],
          "name": "stdout"
        }
      ]
    },
    {
      "cell_type": "code",
      "metadata": {
        "execution": {},
        "id": "KCwr_BE6TdR9"
      },
      "source": [
        "# Imports\n",
        "import os\n",
        "import math\n",
        "import time\n",
        "import torch\n",
        "import random\n",
        "import logging\n",
        "import coloredlogs\n",
        "\n",
        "import numpy as np\n",
        "\n",
        "import torch.nn as nn\n",
        "import torch.optim as optim\n",
        "import torch.nn.functional as F\n",
        "\n",
        "from tqdm.notebook import tqdm\n",
        "from pickle import Unpickler\n",
        "\n",
        "log = logging.getLogger(__name__)\n",
        "coloredlogs.install(level='INFO')  # Change this to DEBUG to see more info."
      ],
      "execution_count": null,
      "outputs": []
    },
    {
      "cell_type": "code",
      "metadata": {
        "cellView": "form",
        "execution": {},
        "id": "FJX4sV70TdR-"
      },
      "source": [
        "# @title Set random seed\n",
        "\n",
        "# @markdown Executing `set_seed(seed=seed)` you are setting the seed\n",
        "\n",
        "# for DL its critical to set the random seed so that students can have a\n",
        "# baseline to compare their results to expected results.\n",
        "# Read more here: https://pytorch.org/docs/stable/notes/randomness.html\n",
        "\n",
        "# Call `set_seed` function in the exercises to ensure reproducibility.\n",
        "import random\n",
        "import torch\n",
        "\n",
        "def set_seed(seed=None, seed_torch=True):\n",
        "  if seed is None:\n",
        "    seed = np.random.choice(2 ** 32)\n",
        "  random.seed(seed)\n",
        "  np.random.seed(seed)\n",
        "  if seed_torch:\n",
        "    torch.manual_seed(seed)\n",
        "    torch.cuda.manual_seed_all(seed)\n",
        "    torch.cuda.manual_seed(seed)\n",
        "    torch.backends.cudnn.benchmark = False\n",
        "    torch.backends.cudnn.deterministic = True\n",
        "\n",
        "  print(f'Random seed {seed} has been set.')\n",
        "\n",
        "\n",
        "# In case that `DataLoader` is used\n",
        "def seed_worker(worker_id):\n",
        "  worker_seed = torch.initial_seed() % 2**32\n",
        "  np.random.seed(worker_seed)\n",
        "  random.seed(worker_seed)"
      ],
      "execution_count": null,
      "outputs": []
    },
    {
      "cell_type": "code",
      "metadata": {
        "cellView": "form",
        "execution": {},
        "id": "HItMnpv6TdR_"
      },
      "source": [
        "# @title Set device (GPU or CPU). Execute `set_device()`\n",
        "# especially if torch modules used.\n",
        "\n",
        "# inform the user if the notebook uses GPU or CPU.\n",
        "\n",
        "def set_device():\n",
        "  device = \"cuda\" if torch.cuda.is_available() else \"cpu\"\n",
        "  if device != \"cuda\":\n",
        "    print(\"WARNING: For this notebook to perform best, \"\n",
        "        \"if possible, in the menu under `Runtime` -> \"\n",
        "        \"`Change runtime type.`  select `GPU` \")\n",
        "  else:\n",
        "    print(\"GPU is enabled in this notebook.\")\n",
        "\n",
        "  return device"
      ],
      "execution_count": null,
      "outputs": []
    },
    {
      "cell_type": "code",
      "metadata": {
        "execution": {},
        "id": "0Yb12xaKTdSA",
        "colab": {
          "base_uri": "https://localhost:8080/"
        },
        "outputId": "24f24091-7a9f-4b7c-afa0-f00a11735248"
      },
      "source": [
        "SEED = 2021\n",
        "set_seed(seed=SEED)\n",
        "DEVICE = set_device()"
      ],
      "execution_count": null,
      "outputs": [
        {
          "output_type": "stream",
          "text": [
            "Random seed 2021 has been set.\n",
            "GPU is enabled in this notebook.\n"
          ],
          "name": "stdout"
        }
      ]
    },
    {
      "cell_type": "code",
      "metadata": {
        "cellView": "form",
        "execution": {},
        "id": "Kf97CYnSTdSB",
        "colab": {
          "base_uri": "https://localhost:8080/"
        },
        "outputId": "89655c6d-7f26-4396-fac9-e3b496781fbd"
      },
      "source": [
        "# @title Download the modules\n",
        "\n",
        "# @markdown Run this cell!\n",
        "\n",
        "# @markdown Download from OSF. Original repo: https://github.com/raymondchua/nma_rl_games.git\n",
        "\n",
        "import os, io, sys, shutil, zipfile\n",
        "from urllib.request import urlopen\n",
        "\n",
        "# download from github repo directly\n",
        "#!git clone git://github.com/raymondchua/nma_rl_games.git --quiet\n",
        "REPO_PATH = 'nma_rl_games'\n",
        "\n",
        "if os.path.exists(REPO_PATH):\n",
        "  download_string = \"Redownloading\"\n",
        "  shutil.rmtree(REPO_PATH)\n",
        "else:\n",
        "  download_string = \"Downloading\"\n",
        "\n",
        "zipurl = 'https://osf.io/kf4p9/download'\n",
        "print(f\"{download_string} and unzipping the file... Please wait.\")\n",
        "with urlopen(zipurl) as zipresp:\n",
        "  with zipfile.ZipFile(io.BytesIO(zipresp.read())) as zfile:\n",
        "    zfile.extractall()\n",
        "print(\"Download completed.\")\n",
        "\n",
        "print(f\"Add the {REPO_PATH} in the path and import the modules.\")\n",
        "# add the repo in the path\n",
        "sys.path.append('nma_rl_games/alpha-zero')\n",
        "\n",
        "# @markdown Import modules designed for use in this notebook\n",
        "import Arena\n",
        "\n",
        "from utils import *\n",
        "from Game import Game\n",
        "from MCTS import MCTS\n",
        "from NeuralNet import NeuralNet\n",
        "\n",
        "from othello.OthelloPlayers import *\n",
        "from othello.OthelloLogic import Board\n",
        "from othello.OthelloGame import OthelloGame\n",
        "from othello.pytorch.NNet import NNetWrapper as NNet"
      ],
      "execution_count": null,
      "outputs": [
        {
          "output_type": "stream",
          "text": [
            "Downloading and unzipping the file... Please wait.\n",
            "Download completed.\n",
            "Add the nma_rl_games in the path and import the modules.\n"
          ],
          "name": "stdout"
        }
      ]
    },
    {
      "cell_type": "markdown",
      "metadata": {
        "execution": {},
        "id": "0qZCQfWLTdSD"
      },
      "source": [
        "The hyperparameters used throughout the notebook."
      ]
    },
    {
      "cell_type": "code",
      "metadata": {
        "execution": {},
        "id": "gOvnRruUTdSE"
      },
      "source": [
        "args = dotdict({\n",
        "    'numIters': 1,            # in training setting this was 1000 and num of episodes=100\n",
        "    'numEps': 1,              # Number of complete self-play games to simulate during a new iteration.\n",
        "    'tempThreshold': 15,      # To control exploration and exploitation\n",
        "    'updateThreshold': 0.6,   # During arena playoff, new neural net will be accepted if threshold or more of games are won.\n",
        "    'maxlenOfQueue': 200,     # Number of game examples to train the neural networks.\n",
        "    'numMCTSSims': 15,        # Number of games moves for MCTS to simulate.\n",
        "    'arenaCompare': 10,       # Number of games to play during arena play to determine if new net will be accepted.\n",
        "    'cpuct': 1,\n",
        "    'maxDepth':5,             # Maximum number of rollouts\n",
        "    'numMCsims': 5,           # Number of monte carlo simulations\n",
        "    'mc_topk': 3,             # top k actions for monte carlo rollout\n",
        "\n",
        "    'checkpoint': './temp/',\n",
        "    'load_model': False,\n",
        "    'load_folder_file': ('/dev/models/8x100x50','best.pth.tar'),\n",
        "    'numItersForTrainExamplesHistory': 20,\n",
        "\n",
        "    # define neural network arguments\n",
        "    'lr': 0.001,               # lr: learning rate\n",
        "    'dropout': 0.3,\n",
        "    'epochs': 10,\n",
        "    'batch_size': 64,\n",
        "    'device': DEVICE,\n",
        "    'num_channels': 512,\n",
        "})"
      ],
      "execution_count": null,
      "outputs": []
    },
    {
      "cell_type": "markdown",
      "metadata": {
        "execution": {},
        "id": "4X_MsIfCTdSF"
      },
      "source": [
        "---\n",
        "# Section 0: Introduction"
      ]
    },
    {
      "cell_type": "code",
      "metadata": {
        "cellView": "form",
        "execution": {},
        "id": "8WGE2VFKTdSG",
        "colab": {
          "base_uri": "https://localhost:8080/",
          "height": 579,
          "referenced_widgets": [
            "21e1c3df5a324f31aa6bd190bb5cfaed",
            "5722ba64e25147849c98016b57b8a3c2",
            "b79e25627b19457f9280befb6e8b5d29",
            "1be13c47d32648c1aa89af526443c5d2",
            "69c1c2147ef340a589c43f9a0982c403",
            "210f2c658dce43dabfcc936869d970b4"
          ]
        },
        "outputId": "f3f61bf7-13bc-4347-db74-9b57665c7d7b"
      },
      "source": [
        "# @title Video 0: Introduction\n",
        "from ipywidgets import widgets\n",
        "\n",
        "out2 = widgets.Output()\n",
        "with out2:\n",
        "  from IPython.display import IFrame\n",
        "  class BiliVideo(IFrame):\n",
        "    def __init__(self, id, page=1, width=400, height=300, **kwargs):\n",
        "      self.id=id\n",
        "      src = \"https://player.bilibili.com/player.html?bvid={0}&page={1}\".format(id, page)\n",
        "      super(BiliVideo, self).__init__(src, width, height, **kwargs)\n",
        "\n",
        "  video = BiliVideo(id=f\"BV1Yh411B7EP\", width=854, height=480, fs=1)\n",
        "  print(\"Video available at https://www.bilibili.com/video/{0}\".format(video.id))\n",
        "  display(video)\n",
        "\n",
        "out1 = widgets.Output()\n",
        "with out1:\n",
        "  from IPython.display import YouTubeVideo\n",
        "  video = YouTubeVideo(id=f\"5kQ-xGbjlJo\", width=854, height=480, fs=1, rel=0)\n",
        "  print(\"Video available at https://youtube.com/watch?v=\" + video.id)\n",
        "  display(video)\n",
        "\n",
        "out = widgets.Tab([out1, out2])\n",
        "out.set_title(0, 'Youtube')\n",
        "out.set_title(1, 'Bilibili')\n",
        "\n",
        "# add event to airtable\n",
        "atform.add_event('Video 0: Introduction')\n",
        "\n",
        "display(out)"
      ],
      "execution_count": null,
      "outputs": [
        {
          "output_type": "display_data",
          "data": {
            "application/vnd.jupyter.widget-view+json": {
              "model_id": "21e1c3df5a324f31aa6bd190bb5cfaed",
              "version_minor": 0,
              "version_major": 2
            },
            "text/plain": [
              "Tab(children=(Output(), Output()), _titles={'0': 'Youtube', '1': 'Bilibili'})"
            ]
          },
          "metadata": {
            "tags": []
          }
        }
      ]
    },
    {
      "cell_type": "markdown",
      "metadata": {
        "execution": {},
        "id": "asHgTh1FTdSH"
      },
      "source": [
        "---\n",
        "# Section 1: Create a game/agent loop for RL\n",
        "\n",
        "*Time estimate: ~15mins*"
      ]
    },
    {
      "cell_type": "code",
      "metadata": {
        "cellView": "form",
        "execution": {},
        "id": "32Lq5Ie1TdSH",
        "colab": {
          "base_uri": "https://localhost:8080/",
          "height": 579,
          "referenced_widgets": [
            "4a7205cb05aa4daea0520f5089496fde",
            "13edad6a8067432e8a8250a3208842e5",
            "d80a5fa1b11845439d972e50706589b7",
            "9e3aba30b51e4c7885893f4af59fc17e",
            "54644dbc58c345188672e37f914af230",
            "437c45180dc34fca8ace48c4e825e5cc"
          ]
        },
        "outputId": "4077f2cc-ef52-413f-aeda-df32e1f2fde9"
      },
      "source": [
        "# @title Video 1: A game loop for RL\n",
        "from ipywidgets import widgets\n",
        "\n",
        "out2 = widgets.Output()\n",
        "with out2:\n",
        "  from IPython.display import IFrame\n",
        "  class BiliVideo(IFrame):\n",
        "    def __init__(self, id, page=1, width=400, height=300, **kwargs):\n",
        "      self.id=id\n",
        "      src = \"https://player.bilibili.com/player.html?bvid={0}&page={1}\".format(id, page)\n",
        "      super(BiliVideo, self).__init__(src, width, height, **kwargs)\n",
        "\n",
        "  video = BiliVideo(id=f\"BV1Wy4y1V7bt\", width=854, height=480, fs=1)\n",
        "  print(\"Video available at https://www.bilibili.com/video/{0}\".format(video.id))\n",
        "  display(video)\n",
        "\n",
        "out1 = widgets.Output()\n",
        "with out1:\n",
        "  from IPython.display import YouTubeVideo\n",
        "  video = YouTubeVideo(id=f\"aH2Hs8f6KrQ\", width=854, height=480, fs=1, rel=0)\n",
        "  print(\"Video available at https://youtube.com/watch?v=\" + video.id)\n",
        "  display(video)\n",
        "\n",
        "out = widgets.Tab([out1, out2])\n",
        "out.set_title(0, 'Youtube')\n",
        "out.set_title(1, 'Bilibili')\n",
        "\n",
        "# add event to airtable\n",
        "atform.add_event('Video 1: A game loop for RL')\n",
        "\n",
        "display(out)"
      ],
      "execution_count": null,
      "outputs": [
        {
          "output_type": "display_data",
          "data": {
            "application/vnd.jupyter.widget-view+json": {
              "model_id": "4a7205cb05aa4daea0520f5089496fde",
              "version_minor": 0,
              "version_major": 2
            },
            "text/plain": [
              "Tab(children=(Output(), Output()), _titles={'0': 'Youtube', '1': 'Bilibili'})"
            ]
          },
          "metadata": {
            "tags": []
          }
        }
      ]
    },
    {
      "cell_type": "markdown",
      "metadata": {
        "execution": {},
        "id": "mUSsf6SaTdSI"
      },
      "source": [
        "\n",
        "***Goal***: How to setup a game environment with multiple players for reinforcement learning experiments.\n",
        "\n",
        "***Exercise***: \n",
        "\n",
        "\n",
        "*   Build an agent that plays random moves\n",
        "*   Connect with connect 4 game\n",
        "*   Generate games including wins and losses"
      ]
    },
    {
      "cell_type": "code",
      "metadata": {
        "execution": {},
        "id": "67PEX9tYTdSI"
      },
      "source": [
        "class OthelloGame(Game):\n",
        "  square_content = {\n",
        "      -1: \"X\",\n",
        "      +0: \"-\",\n",
        "      +1: \"O\"\n",
        "      }\n",
        "\n",
        "  @staticmethod\n",
        "  def getSquarePiece(piece):\n",
        "    return OthelloGame.square_content[piece]\n",
        "\n",
        "  def __init__(self, n):\n",
        "    self.n = n\n",
        "\n",
        "  def getInitBoard(self):\n",
        "    # return initial board (numpy board)\n",
        "    b = Board(self.n)\n",
        "    return np.array(b.pieces)\n",
        "\n",
        "  def getBoardSize(self):\n",
        "    # (a,b) tuple\n",
        "    return (self.n, self.n)\n",
        "\n",
        "  def getActionSize(self):\n",
        "    # return number of actions, n is the board size and +1 is for no-op action\n",
        "    return self.n*self.n + 1\n",
        "\n",
        "  def getNextState(self, board, player, action):\n",
        "    # if player takes action on board, return next (board,player)\n",
        "    # action must be a valid move\n",
        "    if action == self.n*self.n:\n",
        "      return (board, -player)\n",
        "    b = Board(self.n)\n",
        "    b.pieces = np.copy(board)\n",
        "    move = (int(action/self.n), action%self.n)\n",
        "    b.execute_move(move, player)\n",
        "    return (b.pieces, -player)\n",
        "\n",
        "  def getValidMoves(self, board, player):\n",
        "    # return a fixed size binary vector\n",
        "    valids = [0]*self.getActionSize()\n",
        "    b = Board(self.n)\n",
        "    b.pieces = np.copy(board)\n",
        "    legalMoves =  b.get_legal_moves(player)\n",
        "    if len(legalMoves)==0:\n",
        "      valids[-1]=1\n",
        "      return np.array(valids)\n",
        "    for x, y in legalMoves:\n",
        "      valids[self.n*x+y]=1\n",
        "    return np.array(valids)\n",
        "\n",
        "  def getGameEnded(self, board, player):\n",
        "    # return 0 if not ended, 1 if player 1 won, -1 if player 1 lost\n",
        "    # player = 1\n",
        "    b = Board(self.n)\n",
        "    b.pieces = np.copy(board)\n",
        "    if b.has_legal_moves(player):\n",
        "      return 0\n",
        "    if b.has_legal_moves(-player):\n",
        "      return 0\n",
        "    if b.countDiff(player) > 0:\n",
        "      return 1\n",
        "    return -1\n",
        "\n",
        "  def getCanonicalForm(self, board, player):\n",
        "    # return state if player==1, else return -state if player==-1\n",
        "    return player*board\n",
        "\n",
        "  def getSymmetries(self, board, pi):\n",
        "    # mirror, rotational\n",
        "    assert(len(pi) == self.n**2+1)  # 1 for pass\n",
        "    pi_board = np.reshape(pi[:-1], (self.n, self.n))\n",
        "    l = []\n",
        "\n",
        "    for i in range(1, 5):\n",
        "      for j in [True, False]:\n",
        "        newB = np.rot90(board, i)\n",
        "        newPi = np.rot90(pi_board, i)\n",
        "        if j:\n",
        "          newB = np.fliplr(newB)\n",
        "          newPi = np.fliplr(newPi)\n",
        "        l += [(newB, list(newPi.ravel()) + [pi[-1]])]\n",
        "    return l\n",
        "\n",
        "  def stringRepresentation(self, board):\n",
        "    return board.tobytes()\n",
        "\n",
        "  def stringRepresentationReadable(self, board):\n",
        "    board_s = \"\".join(self.square_content[square] for row in board for square in row)\n",
        "    return board_s\n",
        "\n",
        "  def getScore(self, board, player):\n",
        "    b = Board(self.n)\n",
        "    b.pieces = np.copy(board)\n",
        "    return b.countDiff(player)\n",
        "\n",
        "  @staticmethod\n",
        "  def display(board):\n",
        "    n = board.shape[0]\n",
        "    print(\"   \", end=\"\")\n",
        "    for y in range(n):\n",
        "      print(y, end=\" \")\n",
        "    print(\"\")\n",
        "    print(\"-----------------------\")\n",
        "    for y in range(n):\n",
        "      print(y, \"|\", end=\"\")    # print the row #\n",
        "      for x in range(n):\n",
        "        piece = board[y][x]    # get the piece to print\n",
        "        print(OthelloGame.square_content[piece], end=\" \")\n",
        "      print(\"|\")\n",
        "    print(\"-----------------------\")"
      ],
      "execution_count": null,
      "outputs": []
    },
    {
      "cell_type": "markdown",
      "metadata": {
        "execution": {},
        "id": "NHpvNFsdTdSK"
      },
      "source": [
        "## Section 1.1: Create a random player"
      ]
    },
    {
      "cell_type": "markdown",
      "metadata": {
        "execution": {},
        "id": "P3-DJlwzTdSL"
      },
      "source": [
        "### Coding Exercise 1.1: Implement a random player"
      ]
    },
    {
      "cell_type": "code",
      "metadata": {
        "execution": {},
        "id": "Zx8cfU3OTdSL"
      },
      "source": [
        "class RandomPlayer():\n",
        "  def __init__(self, game):\n",
        "    self.game = game\n",
        "\n",
        "  def play(self, board):\n",
        "\n",
        "    #################################################\n",
        "    ## TODO for students: ##\n",
        "    ## 1. Please compute the valid moves using getValidMoves(). ##\n",
        "    ## 2. Compute the probability over actions.##\n",
        "    ## 3. Pick a random action based on the probability computed above.##\n",
        "    # Fill out function and remove ##\n",
        "    #raise NotImplementedError(\"Implement the random player\")\n",
        "    #################################################\n",
        "\n",
        "    valids = self.game.getValidMoves( board ,1 )\n",
        "    prob = valids/ valids.sum()\n",
        "    a = np.random.choice( self.game.getActionSize( ) , p=prob )\n",
        "\n",
        "    return a\n",
        "\n",
        "\n",
        "# add event to airtable\n",
        "atform.add_event('Coding Exercise 1.1: Implement a random player')"
      ],
      "execution_count": null,
      "outputs": []
    },
    {
      "cell_type": "markdown",
      "metadata": {
        "execution": {},
        "id": "FWB5wdoiTdSM"
      },
      "source": [
        "[*Click for solution*](https://github.com/NeuromatchAcademy/course-content-dl/tree/main//tutorials/W3D3_ReinforcementLearningForGames/solutions/W3D3_Tutorial1_Solution_7474bcfc.py)\n",
        "\n"
      ]
    },
    {
      "cell_type": "markdown",
      "metadata": {
        "execution": {},
        "id": "zATzdo5ITdSM"
      },
      "source": [
        "## Section 1.2. Initiate the game board\n"
      ]
    },
    {
      "cell_type": "code",
      "metadata": {
        "execution": {},
        "id": "u6SA2zroTdSN",
        "colab": {
          "base_uri": "https://localhost:8080/"
        },
        "outputId": "70b1d98a-d719-44e3-ca84-aa09a37b3d26"
      },
      "source": [
        "# Display the board\n",
        "set_seed(seed=SEED)\n",
        "game = OthelloGame(6)\n",
        "board = game.getInitBoard()\n",
        "game.display(board)"
      ],
      "execution_count": null,
      "outputs": [
        {
          "output_type": "stream",
          "text": [
            "Random seed 2021 has been set.\n",
            "   0 1 2 3 4 5 \n",
            "-----------------------\n",
            "0 |- - - - - - |\n",
            "1 |- - - - - - |\n",
            "2 |- - X O - - |\n",
            "3 |- - O X - - |\n",
            "4 |- - - - - - |\n",
            "5 |- - - - - - |\n",
            "-----------------------\n"
          ],
          "name": "stdout"
        }
      ]
    },
    {
      "cell_type": "code",
      "metadata": {
        "execution": {},
        "id": "Fu03P4NBTdSN",
        "colab": {
          "base_uri": "https://localhost:8080/"
        },
        "outputId": "43bc20ad-75d8-446d-e7b9-31d4160f3ae4"
      },
      "source": [
        "# observe the game board size\n",
        "print(f'Board size = {game.getBoardSize()}')\n",
        "\n",
        "# observe the action size\n",
        "print(f'Action size = {game.getActionSize()}')"
      ],
      "execution_count": null,
      "outputs": [
        {
          "output_type": "stream",
          "text": [
            "Board size = (6, 6)\n",
            "Action size = 37\n"
          ],
          "name": "stdout"
        }
      ]
    },
    {
      "cell_type": "markdown",
      "metadata": {
        "execution": {},
        "id": "abfTmhqxTdSO"
      },
      "source": [
        "## Section 1.3. Create two random agents to play against each other"
      ]
    },
    {
      "cell_type": "code",
      "metadata": {
        "execution": {},
        "id": "ue2LocTWTdSO",
        "colab": {
          "base_uri": "https://localhost:8080/"
        },
        "outputId": "cf740fa2-d394-4442-f849-280334400722"
      },
      "source": [
        "# define the random player\n",
        "player1 = RandomPlayer(game).play  # player 1 is a random player\n",
        "player2 = RandomPlayer(game).play  # player 2 is a random player\n",
        "\n",
        "# define number of games\n",
        "num_games = 20\n",
        "\n",
        "# start the competition\n",
        "set_seed(seed=SEED)\n",
        "arena = Arena.Arena(player1, player2 , game, display=None)  # to see the steps of the competition set \"display=OthelloGame.display\"\n",
        "result = arena.playGames(num_games, verbose=False)  # return  ( number of games won by player1, num of games won by player2, num of games won by nobody)\n",
        "print(f\"\\n\\n{result}\")"
      ],
      "execution_count": null,
      "outputs": [
        {
          "output_type": "stream",
          "text": [
            "Random seed 2021 has been set.\n"
          ],
          "name": "stdout"
        },
        {
          "output_type": "stream",
          "text": [
            "Arena.playGames (1): 100%|██████████| 10/10 [00:00<00:00, 25.78it/s]\n",
            "Arena.playGames (2): 100%|██████████| 10/10 [00:00<00:00, 24.71it/s]"
          ],
          "name": "stderr"
        },
        {
          "output_type": "stream",
          "text": [
            "\n",
            "\n",
            "(11, 9, 0)\n"
          ],
          "name": "stdout"
        },
        {
          "output_type": "stream",
          "text": [
            "\n"
          ],
          "name": "stderr"
        }
      ]
    },
    {
      "cell_type": "markdown",
      "metadata": {
        "execution": {},
        "id": "xGm4WCZVTdSO"
      },
      "source": [
        "```\n",
        "(11, 9, 0)\n",
        "```"
      ]
    },
    {
      "cell_type": "markdown",
      "metadata": {
        "execution": {},
        "id": "-nko01NZTdSP"
      },
      "source": [
        "## Section 1.4. Compute win rate for the random player (player 1)"
      ]
    },
    {
      "cell_type": "code",
      "metadata": {
        "execution": {},
        "id": "BeYXE-eYTdSP",
        "colab": {
          "base_uri": "https://localhost:8080/"
        },
        "outputId": "1a5d9c94-1354-4cc5-c026-c5c2291b4e99"
      },
      "source": [
        "print(f\"Number of games won by player1 = {result[0]}, \"\n",
        "      f\"Number of games won by player2 = {result[1]} out of {num_games} games\")\n",
        "win_rate_player1 = result[0]/num_games\n",
        "print(f\"\\nWin rate for player1 over 20 games: {round(win_rate_player1*100, 1)}%\")"
      ],
      "execution_count": null,
      "outputs": [
        {
          "output_type": "stream",
          "text": [
            "Number of games won by player1 = 11, Number of games won by player2 = 9 out of 20 games\n",
            "\n",
            "Win rate for player1 over 20 games: 55.0%\n"
          ],
          "name": "stdout"
        }
      ]
    },
    {
      "cell_type": "markdown",
      "metadata": {
        "execution": {},
        "id": "2SpuJA0ZTdSQ"
      },
      "source": [
        "```\n",
        "Number of games won by player1 = 11, Number of games won by player2 = 9 out of 20 games\n",
        "\n",
        "Win rate for player1 over 20 games: 55.0%\n",
        "```"
      ]
    },
    {
      "cell_type": "markdown",
      "metadata": {
        "execution": {},
        "id": "XEzSotLHTdSQ"
      },
      "source": [
        "---\n",
        "# Section 2: Train a value function from expert game data\n",
        "\n",
        "*Time estimate: ~25mins*\n",
        "\n"
      ]
    },
    {
      "cell_type": "markdown",
      "metadata": {
        "execution": {},
        "id": "2C-B3BxnTdSQ"
      },
      "source": [
        "**Goal:** Learn how to train a value function from a dataset of games played by an expert.\n",
        "\n",
        "**Exercise:** \n",
        "\n",
        "* Load a dataset of expert generated games.\n",
        "* Train a network to minimize MSE for win/loss predictions given board states sampled throughout the game. This will be done on a very small number of games. We will provide a network trained on a larger dataset."
      ]
    },
    {
      "cell_type": "code",
      "metadata": {
        "cellView": "form",
        "execution": {},
        "id": "UnBzWPGbTdSR",
        "colab": {
          "base_uri": "https://localhost:8080/",
          "height": 579,
          "referenced_widgets": [
            "3d547bc02d084700b1ff1d599c938915",
            "08dd1fb27ffd4eb39f897e15855d0494",
            "78af2b416f944525bce327c102b0130e",
            "3c513c5b80e44584af56d624ef2860a6",
            "dbfa07c6d8894565899c192f7e08fd1f",
            "0217e31ade24446996559d505b84db91"
          ]
        },
        "outputId": "e661e7a2-2e82-47e4-ed40-3251eb699e2c"
      },
      "source": [
        "# @title Video 2: Train a value function\n",
        "from ipywidgets import widgets\n",
        "\n",
        "out2 = widgets.Output()\n",
        "with out2:\n",
        "  from IPython.display import IFrame\n",
        "  class BiliVideo(IFrame):\n",
        "    def __init__(self, id, page=1, width=400, height=300, **kwargs):\n",
        "      self.id=id\n",
        "      src = \"https://player.bilibili.com/player.html?bvid={0}&page={1}\".format(id, page)\n",
        "      super(BiliVideo, self).__init__(src, width, height, **kwargs)\n",
        "\n",
        "  video = BiliVideo(id=f\"BV1pg411j7f7\", width=854, height=480, fs=1)\n",
        "  print(\"Video available at https://www.bilibili.com/video/{0}\".format(video.id))\n",
        "  display(video)\n",
        "\n",
        "out1 = widgets.Output()\n",
        "with out1:\n",
        "  from IPython.display import YouTubeVideo\n",
        "  video = YouTubeVideo(id=f\"f9lZq0WQJFg\", width=854, height=480, fs=1, rel=0)\n",
        "  print(\"Video available at https://youtube.com/watch?v=\" + video.id)\n",
        "  display(video)\n",
        "\n",
        "out = widgets.Tab([out1, out2])\n",
        "out.set_title(0, 'Youtube')\n",
        "out.set_title(1, 'Bilibili')\n",
        "\n",
        "# add event to airtable\n",
        "atform.add_event('Video 2: Train a value function')\n",
        "\n",
        "display(out)"
      ],
      "execution_count": null,
      "outputs": [
        {
          "output_type": "display_data",
          "data": {
            "application/vnd.jupyter.widget-view+json": {
              "model_id": "3d547bc02d084700b1ff1d599c938915",
              "version_minor": 0,
              "version_major": 2
            },
            "text/plain": [
              "Tab(children=(Output(), Output()), _titles={'0': 'Youtube', '1': 'Bilibili'})"
            ]
          },
          "metadata": {
            "tags": []
          }
        }
      ]
    },
    {
      "cell_type": "markdown",
      "metadata": {
        "execution": {},
        "id": "d8FPVBQkTdSR"
      },
      "source": [
        "## Section 2.1. Load expert data"
      ]
    },
    {
      "cell_type": "code",
      "metadata": {
        "execution": {},
        "id": "P6EzcvngTdSS"
      },
      "source": [
        "def loadTrainExamples(folder, filename):\n",
        "  trainExamplesHistory = []\n",
        "  modelFile = os.path.join(folder, filename)\n",
        "  examplesFile = modelFile + \".examples\"\n",
        "  if not os.path.isfile(examplesFile):\n",
        "    print(f'File \"{examplesFile}\" with trainExamples not found!')\n",
        "    r = input(\"Continue? [y|n]\")\n",
        "    if r != \"y\":\n",
        "      sys.exit()\n",
        "  else:\n",
        "    print(\"File with train examples found. Loading it...\")\n",
        "    with open(examplesFile, \"rb\") as f:\n",
        "      trainExamplesHistory = Unpickler(f).load()\n",
        "    print('Loading done!')\n",
        "    # examples based on the model were already collected (loaded)\n",
        "    return trainExamplesHistory"
      ],
      "execution_count": null,
      "outputs": []
    },
    {
      "cell_type": "code",
      "metadata": {
        "execution": {},
        "id": "xdUvT9s0TdSS",
        "colab": {
          "base_uri": "https://localhost:8080/"
        },
        "outputId": "d083a747-136d-4c19-d952-53551d8f8ad4"
      },
      "source": [
        "path = \"nma_rl_games/alpha-zero/pretrained_models/data/\"\n",
        "loaded_games = loadTrainExamples(folder=path, filename='checkpoint_1.pth.tar')"
      ],
      "execution_count": null,
      "outputs": [
        {
          "output_type": "stream",
          "text": [
            "File with train examples found. Loading it...\n",
            "Loading done!\n"
          ],
          "name": "stdout"
        }
      ]
    },
    {
      "cell_type": "markdown",
      "metadata": {
        "execution": {},
        "id": "CSxAQnVKTdST"
      },
      "source": [
        "## Section 2.2. Define the Neural Network Architecture for Othello\n"
      ]
    },
    {
      "cell_type": "markdown",
      "metadata": {
        "execution": {},
        "id": "XwzhsqfWTdST"
      },
      "source": [
        "### Coding Exercise 2.2: Implement the NN `OthelloNNet` for Othello"
      ]
    },
    {
      "cell_type": "code",
      "metadata": {
        "execution": {},
        "id": "bSXLtd5ZTdST"
      },
      "source": [
        "class OthelloNNet(nn.Module):\n",
        "  def __init__(self, game, args):\n",
        "    # game params\n",
        "    self.board_x, self.board_y = game.getBoardSize()\n",
        "    self.action_size = game.getActionSize()\n",
        "    self.args = args\n",
        "\n",
        "    super(OthelloNNet, self).__init__()\n",
        "    self.conv1 = nn.Conv2d(1, args.num_channels, 3, stride=1, padding=1)\n",
        "    self.conv2 = nn.Conv2d(args.num_channels, args.num_channels, 3, stride=1,\n",
        "                           padding=1)\n",
        "    self.conv3 = nn.Conv2d(args.num_channels, args.num_channels, 3, stride=1)\n",
        "    self.conv4 = nn.Conv2d(args.num_channels, args.num_channels, 3, stride=1)\n",
        "\n",
        "    self.bn1 = nn.BatchNorm2d(args.num_channels)\n",
        "    self.bn2 = nn.BatchNorm2d(args.num_channels)\n",
        "    self.bn3 = nn.BatchNorm2d(args.num_channels)\n",
        "    self.bn4 = nn.BatchNorm2d(args.num_channels)\n",
        "\n",
        "    self.fc1 = nn.Linear(args.num_channels * (self.board_x - 4) * (self.board_y - 4), 1024)\n",
        "    self.fc_bn1 = nn.BatchNorm1d(1024)\n",
        "\n",
        "    self.fc2 = nn.Linear(1024, 512)\n",
        "    self.fc_bn2 = nn.BatchNorm1d(512)\n",
        "\n",
        "    self.fc3 = nn.Linear(512, self.action_size)\n",
        "\n",
        "    self.fc4 = nn.Linear(512, 1)\n",
        "\n",
        "  def forward(self, s):\n",
        "    # s: batch_size x board_x x board_y\n",
        "    s = s.view(-1, 1, self.board_x, self.board_y)                # batch_size x 1 x board_x x board_y\n",
        "    s = F.relu(self.bn1(self.conv1(s)))                          # batch_size x num_channels x board_x x board_y\n",
        "    s = F.relu(self.bn2(self.conv2(s)))                          # batch_size x num_channels x board_x x board_y\n",
        "    s = F.relu(self.bn3(self.conv3(s)))                          # batch_size x num_channels x (board_x-2) x (board_y-2)\n",
        "    s = F.relu(self.bn4(self.conv4(s)))                          # batch_size x num_channels x (board_x-4) x (board_y-4)\n",
        "    s = s.view(-1, self.args.num_channels * (self.board_x - 4) * (self.board_y - 4))\n",
        "\n",
        "    s = F.dropout(F.relu(self.fc_bn1(self.fc1(s))), p=self.args.dropout, training=self.training)  # batch_size x 1024\n",
        "    s = F.dropout(F.relu(self.fc_bn2(self.fc2(s))), p=self.args.dropout, training=self.training)  # batch_size x 512\n",
        "\n",
        "    pi = self.fc3(s)  # batch_size x action_size\n",
        "    v = self.fc4(s)   # batch_size x 1\n",
        "    #################################################\n",
        "    ## TODO for students: Please compute a probability distribution over 'pi' using log softmax (for numerical stability)\n",
        "    # Fill out function and remove\n",
        "    #raise NotImplementedError(\"Calculate the probability distribution and the value\")\n",
        "    #################################################\n",
        "    # return a probability distribution over actions at the current state and the value of the current state.\n",
        "    return F.log_softmax( pi , axis=1 )  ,  F.tanh( v )\n",
        "\n",
        "\n",
        "# add event to airtable\n",
        "atform.add_event('Coding Exercise 2.2: Implement the NN OthelloNNet for Othello')"
      ],
      "execution_count": null,
      "outputs": []
    },
    {
      "cell_type": "markdown",
      "metadata": {
        "execution": {},
        "id": "e_dJAbhjTdSU"
      },
      "source": [
        "[*Click for solution*](https://github.com/NeuromatchAcademy/course-content-dl/tree/main//tutorials/W3D3_ReinforcementLearningForGames/solutions/W3D3_Tutorial1_Solution_7b72acfd.py)\n",
        "\n"
      ]
    },
    {
      "cell_type": "markdown",
      "metadata": {
        "execution": {},
        "id": "yl3vFVrHTdSU"
      },
      "source": [
        "## Section 2.3. Define the Value network\n",
        " During the training the ground truth will be uploaded from the **MCTS simulations** available at 'checkpoint_x.path.tar.examples'."
      ]
    },
    {
      "cell_type": "markdown",
      "metadata": {
        "execution": {},
        "id": "TutSKDgdTdSV"
      },
      "source": [
        "### Coding Exercise 2.3: Implement the `ValueNetwork`"
      ]
    },
    {
      "cell_type": "code",
      "metadata": {
        "execution": {},
        "id": "uN6PrefyTdSV"
      },
      "source": [
        "class ValueNetwork(NeuralNet):\n",
        "  def __init__(self, game):\n",
        "    self.nnet = OthelloNNet(game, args)\n",
        "    self.board_x, self.board_y = game.getBoardSize()\n",
        "    self.action_size = game.getActionSize()\n",
        "\n",
        "    self.nnet.to(args.device)\n",
        "\n",
        "  def train(self, games):\n",
        "    \"\"\"\n",
        "    examples: list of examples, each example is of form (board, pi, v)\n",
        "    \"\"\"\n",
        "    optimizer = optim.Adam(self.nnet.parameters())\n",
        "    for examples in games:\n",
        "      for epoch in range(args.epochs):\n",
        "        print('EPOCH ::: ' + str(epoch + 1))\n",
        "        self.nnet.train()\n",
        "        v_losses = []   # to store the losses per epoch\n",
        "        batch_count = int(len(examples) / args.batch_size)  # len(examples)=200, batch-size=64, batch_count=3\n",
        "        t = tqdm(range(batch_count), desc='Training Value Network')\n",
        "        for _ in t:\n",
        "          sample_ids = np.random.randint(len(examples), size=args.batch_size)  # read the ground truth information from MCTS simulation using the loaded examples\n",
        "          boards, pis, vs = list(zip(*[examples[i] for i in sample_ids]))  # length of boards, pis, vis = 64\n",
        "          boards = torch.FloatTensor(np.array(boards).astype(np.float64))\n",
        "          target_vs = torch.FloatTensor(np.array(vs).astype(np.float64))\n",
        "\n",
        "          # predict\n",
        "          boards, target_vs = boards.contiguous().to(args.device), target_vs.contiguous().to(args.device)\n",
        "\n",
        "          #################################################\n",
        "          ## TODO for students:\n",
        "          ## 1. Compute the value predicted by OthelloNNet() ##\n",
        "          ## 2. First implement the loss_v() function below and then use it to update the value loss. ##\n",
        "          # Fill out function and remove\n",
        "          #raise NotImplementedError(\"Compute the output\")\n",
        "          #################################################\n",
        "          # compute output\n",
        "          _, out_v = self.nnet( boards )\n",
        "          l_v =  loss_v( target_vs , out_v  )  # total loss\n",
        "\n",
        "          # record loss\n",
        "          v_losses.append(l_v.item())\n",
        "          t.set_postfix(Loss_v=l_v.item())\n",
        "\n",
        "          # compute gradient and do SGD step\n",
        "          optimizer.zero_grad()\n",
        "          l_v.backward()\n",
        "          optimizer.step()\n",
        "\n",
        "  def predict(self, board):\n",
        "    \"\"\"\n",
        "    board: np array with board\n",
        "    \"\"\"\n",
        "    # timing\n",
        "    start = time.time()\n",
        "\n",
        "    # preparing input\n",
        "    board = torch.FloatTensor(board.astype(np.float64))\n",
        "    board = board.contiguous().to(args.device)\n",
        "    board = board.view(1, self.board_x, self.board_y)\n",
        "    self.nnet.eval()\n",
        "    with torch.no_grad():\n",
        "        _, v = self.nnet(board)\n",
        "    return v.data.cpu().numpy()[0]\n",
        "\n",
        "  def loss_v(self, targets, outputs):\n",
        "    #################################################\n",
        "    ## TODO for students: Please compute Mean squared error and return as output. ##\n",
        "    # Fill out function and remove\n",
        "    # NotImplementedError(\"Calculate the loss\")\n",
        "    #################################################\n",
        "    # Mean squared error (MSE)\n",
        "    return F.mse_loss( outputs , targets )\n",
        "\n",
        "  def save_checkpoint(self, folder='checkpoint', filename='checkpoint.pth.tar'):\n",
        "    filepath = os.path.join(folder, filename)\n",
        "    if not os.path.exists(folder):\n",
        "      print(\"Checkpoint Directory does not exist! Making directory {}\".format(folder))\n",
        "      os.mkdir(folder)\n",
        "    else:\n",
        "      print(\"Checkpoint Directory exists! \")\n",
        "    torch.save({'state_dict': self.nnet.state_dict(),}, filepath)\n",
        "    print(\"Model saved! \")\n",
        "\n",
        "  def load_checkpoint(self, folder='checkpoint', filename='checkpoint.pth.tar'):\n",
        "    # https://github.com/pytorch/examples/blob/master/imagenet/main.py#L98\n",
        "    filepath = os.path.join(folder, filename)\n",
        "    if not os.path.exists(filepath):\n",
        "      raise (\"No model in path {}\".format(filepath))\n",
        "\n",
        "    checkpoint = torch.load(filepath, map_location=args.device)\n",
        "    self.nnet.load_state_dict(checkpoint['state_dict'])\n",
        "\n",
        "\n",
        "# add event to airtable\n",
        "atform.add_event('Coding Exercise 2.3: Implement the ValueNetwork')"
      ],
      "execution_count": null,
      "outputs": []
    },
    {
      "cell_type": "markdown",
      "metadata": {
        "execution": {},
        "id": "EMmwApP_TdSW"
      },
      "source": [
        "[*Click for solution*](https://github.com/NeuromatchAcademy/course-content-dl/tree/main//tutorials/W3D3_ReinforcementLearningForGames/solutions/W3D3_Tutorial1_Solution_5f1dc256.py)\n",
        "\n"
      ]
    },
    {
      "cell_type": "markdown",
      "metadata": {
        "execution": {},
        "id": "roVzrB-ETdSW"
      },
      "source": [
        "## Section 2.4. Train the value network and observe the MSE loss progress\n",
        "\n",
        "**Important:** Only run this cell if you do not have access to the pretrained models in the `rl_for_games` repositry."
      ]
    },
    {
      "cell_type": "code",
      "metadata": {
        "execution": {},
        "id": "K5-avuXbTdSX"
      },
      "source": [
        "if not os.listdir('nma_rl_games/alpha-zero/pretrained_models/models/'):\n",
        "  set_seed(seed=SEED)\n",
        "  game = OthelloGame(6)\n",
        "  vnet = ValueNetwork(game)\n",
        "  vnet.train(loaded_games)"
      ],
      "execution_count": null,
      "outputs": []
    },
    {
      "cell_type": "markdown",
      "metadata": {
        "execution": {},
        "id": "dNGDGOkzTdSX"
      },
      "source": [
        "---\n",
        "# Section 3: Use a trained value network to play games\n",
        "\n",
        "*Time estimate: ~25mins*\n"
      ]
    },
    {
      "cell_type": "markdown",
      "metadata": {
        "execution": {},
        "id": "lop0h4C8TdSX"
      },
      "source": [
        "**Goal**: Learn how to use a value function in order to make a player that works better than a random player.\n",
        "\n",
        "**Exercise:**\n",
        "* Sample random valid moves and use the value function to rank them\n",
        "* Choose the best move as the action and play it\n",
        "Show that doing so beats the random player\n",
        "\n",
        "**Hint:** You might need to change the sign of the value based on the player"
      ]
    },
    {
      "cell_type": "code",
      "metadata": {
        "cellView": "form",
        "execution": {},
        "id": "WQ9WOnxATdSY",
        "colab": {
          "base_uri": "https://localhost:8080/",
          "height": 579,
          "referenced_widgets": [
            "129ec25eeb984214a902046b797d4909",
            "4e02ca5754fd4e8983a45efacd90189c",
            "d169a36664444089a3fb07a86ad00cb8",
            "f2ccbff040dd45dcbfd3148815d193fd",
            "4a82808b55924a41bc36088964642bc7",
            "89a87a188dc74f0b91dc0ba9a52ca67b"
          ]
        },
        "outputId": "d5f75b35-4ed8-4dcd-d4c3-adf2cffeb410"
      },
      "source": [
        "# @title Video 3: Play games using a value function\n",
        "from ipywidgets import widgets\n",
        "\n",
        "out2 = widgets.Output()\n",
        "with out2:\n",
        "  from IPython.display import IFrame\n",
        "  class BiliVideo(IFrame):\n",
        "    def __init__(self, id, page=1, width=400, height=300, **kwargs):\n",
        "      self.id=id\n",
        "      src = \"https://player.bilibili.com/player.html?bvid={0}&page={1}\".format(id, page)\n",
        "      super(BiliVideo, self).__init__(src, width, height, **kwargs)\n",
        "\n",
        "  video = BiliVideo(id=f\"BV1Ug411j7ig\", width=854, height=480, fs=1)\n",
        "  print(\"Video available at https://www.bilibili.com/video/{0}\".format(video.id))\n",
        "  display(video)\n",
        "\n",
        "out1 = widgets.Output()\n",
        "with out1:\n",
        "  from IPython.display import YouTubeVideo\n",
        "  video = YouTubeVideo(id=f\"tvmzVHPBKKs\", width=854, height=480, fs=1, rel=0)\n",
        "  print(\"Video available at https://youtube.com/watch?v=\" + video.id)\n",
        "  display(video)\n",
        "\n",
        "out = widgets.Tab([out1, out2])\n",
        "out.set_title(0, 'Youtube')\n",
        "out.set_title(1, 'Bilibili')\n",
        "\n",
        "# add event to airtable\n",
        "atform.add_event('Video 3: Play games using a value function')\n",
        "\n",
        "display(out)"
      ],
      "execution_count": null,
      "outputs": [
        {
          "output_type": "display_data",
          "data": {
            "application/vnd.jupyter.widget-view+json": {
              "model_id": "129ec25eeb984214a902046b797d4909",
              "version_minor": 0,
              "version_major": 2
            },
            "text/plain": [
              "Tab(children=(Output(), Output()), _titles={'0': 'Youtube', '1': 'Bilibili'})"
            ]
          },
          "metadata": {
            "tags": []
          }
        }
      ]
    },
    {
      "cell_type": "markdown",
      "metadata": {
        "execution": {},
        "id": "eMWNZzJnTdSY"
      },
      "source": [
        "## Coding Exercise 3: Value-based player"
      ]
    },
    {
      "cell_type": "code",
      "metadata": {
        "execution": {},
        "id": "bm7LBkeZTdSZ",
        "colab": {
          "base_uri": "https://localhost:8080/"
        },
        "outputId": "a6337b4a-2a98-46a6-ecfc-0d60d4848de2"
      },
      "source": [
        "model_save_name = 'ValueNetwork.pth.tar'\n",
        "path = \"nma_rl_games/alpha-zero/pretrained_models/models/\"\n",
        "set_seed(seed=SEED)\n",
        "game = OthelloGame(6)\n",
        "vnet = ValueNetwork(game)\n",
        "vnet.load_checkpoint(folder=path, filename=model_save_name)"
      ],
      "execution_count": null,
      "outputs": [
        {
          "output_type": "stream",
          "text": [
            "Random seed 2021 has been set.\n"
          ],
          "name": "stdout"
        }
      ]
    },
    {
      "cell_type": "code",
      "metadata": {
        "execution": {},
        "id": "vnCRQn4iTdSZ",
        "colab": {
          "base_uri": "https://localhost:8080/"
        },
        "outputId": "4d7ca821-92eb-4353-8028-f7b3a88ea169"
      },
      "source": [
        "class ValueBasedPlayer():\n",
        "  def __init__(self, game, vnet):\n",
        "    self.game = game\n",
        "    self.vnet = vnet\n",
        "\n",
        "  def play(self, board):\n",
        "    valids = self.game.getValidMoves(board, 1)\n",
        "    candidates = []\n",
        "    max_num_actions = 4\n",
        "    va = np.where(valids)[0]\n",
        "    va_list = va.tolist()\n",
        "    random.shuffle(va_list)\n",
        "    #################################################\n",
        "    ## TODO for students: In the first part, please return the next board state using getNextState(), then predict\n",
        "    ## the value of next state using value network, and finally add the value and action as a tuple to the candidate list.\n",
        "    ## Note that you need to reverse the sign of the value. In zero-sum games the players flip every turn. In detail, we train\n",
        "    ## a value function to think about the game from one player's (either black or white) perspective. In order to use the same\n",
        "    ## value function to estimate how good the position is for the other player, we need to take the negative of the output of\n",
        "    ## the function. E.g., if the value function is trained for white's perspective and says that white is likely to win the game\n",
        "    ## from the current state with an output of 0.75, this similarly means that it would suggest that black is very unlikely (-0.75)\n",
        "    ## to win the game from the current state.##\n",
        "    # Fill out function and remove\n",
        "    #raise NotImplementedError(\"Implement the value-based player\")\n",
        "    #################################################\n",
        "    for a in va_list:\n",
        "      nextBoard, _ =self.game.getNextState( board , 1 , a )\n",
        "      value = self.vnet.predict( nextBoard )\n",
        "      candidates += [(-value , a)]\n",
        "\n",
        "      if len(candidates) == max_num_actions:\n",
        "        break\n",
        "\n",
        "    candidates.sort()\n",
        "\n",
        "    return candidates[0][1]\n",
        "\n",
        "\n",
        "# add event to airtable\n",
        "atform.add_event('Coding Exercise 3: Value-based player')\n",
        "\n",
        "# playing games between a value-based player and a random player\n",
        "set_seed(seed=SEED)\n",
        "num_games = 20\n",
        "player1 = ValueBasedPlayer(game, vnet).play\n",
        "player2 = RandomPlayer(game).play\n",
        "arena = Arena.Arena(player1, player2, game, display=OthelloGame.display)\n",
        "## Uncomment the code below to check your code!\n",
        "result = arena.playGames(num_games, verbose=False)\n",
        "print(f\"\\n\\n{result}\")"
      ],
      "execution_count": null,
      "outputs": [
        {
          "output_type": "stream",
          "text": [
            "Random seed 2021 has been set.\n"
          ],
          "name": "stdout"
        },
        {
          "output_type": "stream",
          "text": [
            "\rArena.playGames (1):   0%|          | 0/10 [00:00<?, ?it/s]/usr/local/lib/python3.7/dist-packages/ipykernel_launcher.py:50: UserWarning: Implicit dimension choice for softmax has been deprecated. Change the call to include dim=X as an argument.\n",
            "/usr/local/lib/python3.7/dist-packages/torch/nn/functional.py:1794: UserWarning: nn.functional.tanh is deprecated. Use torch.tanh instead.\n",
            "  warnings.warn(\"nn.functional.tanh is deprecated. Use torch.tanh instead.\")\n",
            "Arena.playGames (1): 100%|██████████| 10/10 [00:01<00:00,  5.56it/s]\n",
            "Arena.playGames (2): 100%|██████████| 10/10 [00:01<00:00,  6.76it/s]"
          ],
          "name": "stderr"
        },
        {
          "output_type": "stream",
          "text": [
            "\n",
            "\n",
            "(14, 6, 0)\n"
          ],
          "name": "stdout"
        },
        {
          "output_type": "stream",
          "text": [
            "\n"
          ],
          "name": "stderr"
        }
      ]
    },
    {
      "cell_type": "markdown",
      "metadata": {
        "execution": {},
        "id": "MtP19P_5TdSa"
      },
      "source": [
        "[*Click for solution*](https://github.com/NeuromatchAcademy/course-content-dl/tree/main//tutorials/W3D3_ReinforcementLearningForGames/solutions/W3D3_Tutorial1_Solution_45ffeae9.py)\n",
        "\n"
      ]
    },
    {
      "cell_type": "markdown",
      "metadata": {
        "execution": {},
        "id": "yKWJw2ArTdSa"
      },
      "source": [
        "```\n",
        "(14, 6, 0)\n",
        "```"
      ]
    },
    {
      "cell_type": "markdown",
      "metadata": {
        "execution": {},
        "id": "ccfIZxUdTdSa"
      },
      "source": [
        "**Result of pitting a value-based player against a random player**"
      ]
    },
    {
      "cell_type": "code",
      "metadata": {
        "execution": {},
        "id": "GyKkL8wETdSb",
        "colab": {
          "base_uri": "https://localhost:8080/"
        },
        "outputId": "8fcccc26-2701-4ddb-8846-01e6ec9c2cdd"
      },
      "source": [
        "print(f\"Number of games won by player1 = {result[0]}, \"\n",
        "      f\"Number of games won by player2 = {result[1]}, out of {num_games} games\")\n",
        "win_rate_player1 = result[0]/num_games # result[0] is the number of times that player 1 wins\n",
        "print(f\"\\nWin rate for player1 over {num_games} games: {round(win_rate_player1*100, 1)}%\")"
      ],
      "execution_count": null,
      "outputs": [
        {
          "output_type": "stream",
          "text": [
            "Number of games won by player1 = 14, Number of games won by player2 = 6, out of 20 games\n",
            "\n",
            "Win rate for player1 over 20 games: 70.0%\n"
          ],
          "name": "stdout"
        }
      ]
    },
    {
      "cell_type": "markdown",
      "metadata": {
        "execution": {},
        "id": "gu8tVOCDTdSb"
      },
      "source": [
        "```\n",
        "Number of games won by player1 = 14, Number of games won by player2 = 6, out of 20 games\n",
        "\n",
        "Win rate for player1 over 20 games: 70.0%\n",
        "```"
      ]
    },
    {
      "cell_type": "markdown",
      "metadata": {
        "execution": {},
        "id": "Xkk1n3RITdSc"
      },
      "source": [
        "---\n",
        "# Section 4: Train a policy network from expert game data\n",
        "\n",
        "*Time estimate: ~20mins*"
      ]
    },
    {
      "cell_type": "markdown",
      "metadata": {
        "execution": {},
        "id": "hfeB03K2TdSc"
      },
      "source": [
        "**Goal**: How to train a policy network via supervised learning / behavioural cloning.\n",
        "\n",
        "**Exercise**:\n",
        "* Train a network to predict the next move in an expert dataset by maximizing the log likelihood of the next action."
      ]
    },
    {
      "cell_type": "code",
      "metadata": {
        "cellView": "form",
        "execution": {},
        "id": "rcdrRRPQTdSc",
        "colab": {
          "base_uri": "https://localhost:8080/",
          "height": 579,
          "referenced_widgets": [
            "a1b889eddd034e4885817290219618a2",
            "5bf233e7c9aa4ffa84fc57a79fa76b80",
            "30c67f6de72e4ef58557038a5bd230ef",
            "25ca4ed02dba46e6977536a1bda55cca",
            "71cb325acc4d4256929d099abc10ce52",
            "942bb1985ed948e09e983a4a5d762b31"
          ]
        },
        "outputId": "864d4b14-018e-4fd4-a6b9-1373f20c5b98"
      },
      "source": [
        "# @title Video 4: Train a policy network\n",
        "from ipywidgets import widgets\n",
        "\n",
        "out2 = widgets.Output()\n",
        "with out2:\n",
        "  from IPython.display import IFrame\n",
        "  class BiliVideo(IFrame):\n",
        "    def __init__(self, id, page=1, width=400, height=300, **kwargs):\n",
        "      self.id=id\n",
        "      src = \"https://player.bilibili.com/player.html?bvid={0}&page={1}\".format(id, page)\n",
        "      super(BiliVideo, self).__init__(src, width, height, **kwargs)\n",
        "\n",
        "  video = BiliVideo(id=f\"BV1hQ4y127GJ\", width=854, height=480, fs=1)\n",
        "  print(\"Video available at https://www.bilibili.com/video/{0}\".format(video.id))\n",
        "  display(video)\n",
        "\n",
        "out1 = widgets.Output()\n",
        "with out1:\n",
        "  from IPython.display import YouTubeVideo\n",
        "  video = YouTubeVideo(id=f\"vj9gKNJ19D8\", width=854, height=480, fs=1, rel=0)\n",
        "  print(\"Video available at https://youtube.com/watch?v=\" + video.id)\n",
        "  display(video)\n",
        "\n",
        "out = widgets.Tab([out1, out2])\n",
        "out.set_title(0, 'Youtube')\n",
        "out.set_title(1, 'Bilibili')\n",
        "\n",
        "# add event to airtable\n",
        "atform.add_event('Video 4: Train a policy network')\n",
        "\n",
        "display(out)"
      ],
      "execution_count": null,
      "outputs": [
        {
          "output_type": "display_data",
          "data": {
            "application/vnd.jupyter.widget-view+json": {
              "model_id": "a1b889eddd034e4885817290219618a2",
              "version_minor": 0,
              "version_major": 2
            },
            "text/plain": [
              "Tab(children=(Output(), Output()), _titles={'0': 'Youtube', '1': 'Bilibili'})"
            ]
          },
          "metadata": {
            "tags": []
          }
        }
      ]
    },
    {
      "cell_type": "markdown",
      "metadata": {
        "execution": {},
        "id": "eT48PcUjTdSd"
      },
      "source": [
        "## Coding Exercise 4: Implement `PolicyNetwork`"
      ]
    },
    {
      "cell_type": "code",
      "metadata": {
        "execution": {},
        "id": "BbqiNlbFTdSd"
      },
      "source": [
        "class PolicyNetwork(NeuralNet):\n",
        "  def __init__(self, game):\n",
        "    self.nnet = OthelloNNet(game, args)\n",
        "    self.board_x, self.board_y = game.getBoardSize()\n",
        "    self.action_size = game.getActionSize()\n",
        "\n",
        "    self.nnet.to(args.device)\n",
        "\n",
        "  def train(self, games):\n",
        "    \"\"\"\n",
        "    examples: list of examples, each example is of form (board, pi, v)\n",
        "    \"\"\"\n",
        "    optimizer = optim.Adam(self.nnet.parameters())\n",
        "\n",
        "    for examples in games:\n",
        "      for epoch in range(args.epochs):\n",
        "        print('EPOCH ::: ' + str(epoch + 1))\n",
        "        self.nnet.train()\n",
        "        pi_losses = []\n",
        "\n",
        "        batch_count = int(len(examples) / args.batch_size)\n",
        "\n",
        "        t = tqdm(range(batch_count), desc='Training Policy Network')\n",
        "        for _ in t:\n",
        "          sample_ids = np.random.randint(len(examples), size=args.batch_size)\n",
        "          boards, pis, _ = list(zip(*[examples[i] for i in sample_ids]))\n",
        "          boards = torch.FloatTensor(np.array(boards).astype(np.float64))\n",
        "          target_pis = torch.FloatTensor(np.array(pis))\n",
        "\n",
        "          # predict\n",
        "          boards, target_pis = boards.contiguous().to(args.device), target_pis.contiguous().to(args.device)\n",
        "\n",
        "          #################################################\n",
        "          ## TODO for students: ##\n",
        "          ## 1. Compute the policy (pi) predicted by OthelloNNet() ##\n",
        "          ## 2. Implement the loss_pi() function below and then use it to update the policy loss. ##\n",
        "          # Fill out function and remove\n",
        "          #raise NotImplementedError(\"Compute the output\")\n",
        "          #################################################\n",
        "          # compute output\n",
        "          out_pi, _ = self.nnet(boards)\n",
        "          l_pi = loss_pi( out_pi )\n",
        "\n",
        "          # record loss\n",
        "          pi_losses.append(l_pi.item())\n",
        "          t.set_postfix(Loss_pi=l_pi.item())\n",
        "\n",
        "          # compute gradient and do SGD step\n",
        "          optimizer.zero_grad()\n",
        "          l_pi.backward()\n",
        "          optimizer.step()\n",
        "\n",
        "  def predict(self, board):\n",
        "    \"\"\"\n",
        "    board: np array with board\n",
        "    \"\"\"\n",
        "    # timing\n",
        "    start = time.time()\n",
        "\n",
        "    # preparing input\n",
        "    board = torch.FloatTensor(board.astype(np.float64))\n",
        "    board = board.contiguous().to(args.device)\n",
        "    board = board.view(1, self.board_x, self.board_y)\n",
        "    self.nnet.eval()\n",
        "    with torch.no_grad():\n",
        "      pi,_ = self.nnet(board)\n",
        "    return torch.exp(pi).data.cpu().numpy()[0]\n",
        "\n",
        "  def loss_pi(self, targets, outputs):\n",
        "    #################################################\n",
        "    ## TODO for students: To implement the loss function, please compute and return the negative log likelihood of targets.\n",
        "    ## For more information, here is a reference that connects the expression to the neg-log-prob: https://gombru.github.io/2018/05/23/cross_entropy_loss/\n",
        "    # Fill out function and remove\n",
        "    #raise NotImplementedError(\"Compute the loss\")\n",
        "    #################################################\n",
        "    return - F.mse_loss( outputs , targets )\n",
        "\n",
        "  def save_checkpoint(self, folder='checkpoint', filename='checkpoint.pth.tar'):\n",
        "    filepath = os.path.join(folder, filename)\n",
        "    if not os.path.exists(folder):\n",
        "      print(\"Checkpoint Directory does not exist! Making directory {}\".format(folder))\n",
        "      os.mkdir(folder)\n",
        "    else:\n",
        "      print(\"Checkpoint Directory exists! \")\n",
        "    torch.save({'state_dict': self.nnet.state_dict(),}, filepath)\n",
        "    print(\"Model saved! \")\n",
        "\n",
        "  def load_checkpoint(self, folder='checkpoint', filename='checkpoint.pth.tar'):\n",
        "    # https://github.com/pytorch/examples/blob/master/imagenet/main.py#L98\n",
        "    filepath = os.path.join(folder, filename)\n",
        "    if not os.path.exists(filepath):\n",
        "      raise (\"No model in path {}\".format(filepath))\n",
        "\n",
        "    checkpoint = torch.load(filepath, map_location=args.device)\n",
        "    self.nnet.load_state_dict(checkpoint['state_dict'])\n",
        "\n",
        "\n",
        "# add event to airtable\n",
        "atform.add_event('Coding Exercise 4: Implement PolicyNetwork')"
      ],
      "execution_count": null,
      "outputs": []
    },
    {
      "cell_type": "markdown",
      "metadata": {
        "execution": {},
        "id": "XnfuEMd-TdSe"
      },
      "source": [
        "[*Click for solution*](https://github.com/NeuromatchAcademy/course-content-dl/tree/main//tutorials/W3D3_ReinforcementLearningForGames/solutions/W3D3_Tutorial1_Solution_fe4292a6.py)\n",
        "\n"
      ]
    },
    {
      "cell_type": "markdown",
      "metadata": {
        "execution": {},
        "id": "khx25HCyTdSe"
      },
      "source": [
        "### Train the policy network\n",
        "\n",
        "**Important:** Only run this cell if you do not have access to the pretrained models in the `rl_for_games` repositry."
      ]
    },
    {
      "cell_type": "code",
      "metadata": {
        "execution": {},
        "id": "7l1Y5uM2TdSf"
      },
      "source": [
        "if not os.listdir('nma_rl_games/alpha-zero/pretrained_models/models/'):\n",
        "  set_seed(seed=SEED)\n",
        "  game = OthelloGame(6)\n",
        "  pnet = PolicyNetwork(game)\n",
        "  pnet.train(loaded_games)"
      ],
      "execution_count": null,
      "outputs": []
    },
    {
      "cell_type": "markdown",
      "metadata": {
        "execution": {},
        "id": "lyMe3mo6TdSf"
      },
      "source": [
        "---\n",
        "# Section 5: Use a trained policy network to play games\n",
        "\n",
        "Time estimate: ~20mins\n"
      ]
    },
    {
      "cell_type": "markdown",
      "metadata": {
        "execution": {},
        "id": "TLkWOAqnTdSg"
      },
      "source": [
        "**Goal**: How to use a policy network to play games.\n",
        "\n",
        "**Exercise:** \n",
        "* Use the policy network to give probabilities for the next move.\n",
        "* Build a player that takes the move given the maximum probability by the network.\n",
        "* Compare this to another player that samples moves according to the probability distribution output by the network."
      ]
    },
    {
      "cell_type": "code",
      "metadata": {
        "cellView": "form",
        "execution": {},
        "id": "RBkTC3gSTdSg",
        "colab": {
          "base_uri": "https://localhost:8080/",
          "height": 579,
          "referenced_widgets": [
            "7996eafc4b6d4b8db37e95c764dc0cdf",
            "90dc5eb1f6f84fba8b8bc5b0c3dfe72c",
            "6b8f1edf6f144dc783a0d2e3479184ca",
            "233f59b4d4b14721a52690beb04368a9",
            "f7fc248aef454d07881ad196444c4f4e",
            "5d0d5616f4034a2c9817cef5c12de7f7"
          ]
        },
        "outputId": "8bc99ed1-1c7e-4c32-fa7e-bea27d17dc51"
      },
      "source": [
        "# @title Video 5: Play games using a policy network\n",
        "from ipywidgets import widgets\n",
        "\n",
        "out2 = widgets.Output()\n",
        "with out2:\n",
        "  from IPython.display import IFrame\n",
        "  class BiliVideo(IFrame):\n",
        "    def __init__(self, id, page=1, width=400, height=300, **kwargs):\n",
        "      self.id=id\n",
        "      src = \"https://player.bilibili.com/player.html?bvid={0}&page={1}\".format(id, page)\n",
        "      super(BiliVideo, self).__init__(src, width, height, **kwargs)\n",
        "\n",
        "  video = BiliVideo(id=f\"BV1aq4y1S7o4\", width=854, height=480, fs=1)\n",
        "  print(\"Video available at https://www.bilibili.com/video/{0}\".format(video.id))\n",
        "  display(video)\n",
        "\n",
        "out1 = widgets.Output()\n",
        "with out1:\n",
        "  from IPython.display import YouTubeVideo\n",
        "  video = YouTubeVideo(id=f\"yHtVqT2Nstk\", width=854, height=480, fs=1, rel=0)\n",
        "  print(\"Video available at https://youtube.com/watch?v=\" + video.id)\n",
        "  display(video)\n",
        "\n",
        "out = widgets.Tab([out1, out2])\n",
        "out.set_title(0, 'Youtube')\n",
        "out.set_title(1, 'Bilibili')\n",
        "\n",
        "# add event to airtable\n",
        "atform.add_event('Video 5: Play games using a policy network')\n",
        "\n",
        "display(out)"
      ],
      "execution_count": null,
      "outputs": [
        {
          "output_type": "display_data",
          "data": {
            "application/vnd.jupyter.widget-view+json": {
              "model_id": "7996eafc4b6d4b8db37e95c764dc0cdf",
              "version_minor": 0,
              "version_major": 2
            },
            "text/plain": [
              "Tab(children=(Output(), Output()), _titles={'0': 'Youtube', '1': 'Bilibili'})"
            ]
          },
          "metadata": {
            "tags": []
          }
        }
      ]
    },
    {
      "cell_type": "markdown",
      "metadata": {
        "execution": {},
        "id": "mI0VHqefTdSh"
      },
      "source": [
        "## Coding Exercise 5: Implement the `PolicyBasedPlayer`"
      ]
    },
    {
      "cell_type": "code",
      "metadata": {
        "execution": {},
        "id": "0LI4-rq-TdSh",
        "colab": {
          "base_uri": "https://localhost:8080/"
        },
        "outputId": "8f61c236-0568-4c51-caff-bac42300f203"
      },
      "source": [
        "model_save_name = 'PolicyNetwork.pth.tar'\n",
        "path = \"nma_rl_games/alpha-zero/pretrained_models/models/\"\n",
        "set_seed(seed=SEED)\n",
        "game = OthelloGame(6)\n",
        "pnet = PolicyNetwork(game)\n",
        "pnet.load_checkpoint(folder=path, filename=model_save_name)"
      ],
      "execution_count": null,
      "outputs": [
        {
          "output_type": "stream",
          "text": [
            "Random seed 2021 has been set.\n"
          ],
          "name": "stdout"
        }
      ]
    },
    {
      "cell_type": "code",
      "metadata": {
        "execution": {},
        "id": "z6c2qQ7jTdSh",
        "colab": {
          "base_uri": "https://localhost:8080/"
        },
        "outputId": "b816ea3d-6d23-47d3-c645-c3066d62f139"
      },
      "source": [
        "class PolicyBasedPlayer():\n",
        "  def __init__(self, game, pnet, greedy=True):\n",
        "    self.game = game\n",
        "    self.pnet = pnet\n",
        "    self.greedy = greedy\n",
        "\n",
        "  def play(self, board):\n",
        "    valids = self.game.getValidMoves(board, 1)\n",
        "    #################################################\n",
        "    ## TODO for students:  ##\n",
        "    ## 1. Compute the action probabilities using policy network pnet()\n",
        "    ## 2. Mask invalid moves using valids variable and the action probabilites computed above.\n",
        "    ## 3. Compute the sum over valid actions and store them in sum_vap.\n",
        "    # Fill out function and remove\n",
        "    #raise NotImplementedError(\"Define the play\")\n",
        "    #################################################\n",
        "    action_probs = self.pnet.predict( board )\n",
        "    vap = valids * action_probs # masking invalid moves \n",
        "    sum_vap = np.sum(vap)\n",
        "\n",
        "    if sum_vap > 0:\n",
        "      vap /= sum_vap  # renormalize\n",
        "    else:\n",
        "      # if all valid moves were masked we make all valid moves equally probable\n",
        "      print(\"All valid moves were masked, doing a workaround.\")\n",
        "      vap = vap + valids\n",
        "      vap /= np.sum(vap)\n",
        "\n",
        "    if self.greedy:\n",
        "      # greedy policy player\n",
        "      a = np.where(vap == np.max(vap))[0][0]\n",
        "    else:\n",
        "      # sample-based policy player\n",
        "      a = np.random.choice(self.game.getActionSize(), p=vap)\n",
        "\n",
        "    return a\n",
        "\n",
        "\n",
        "# add event to airtable\n",
        "atform.add_event('Coding Exercise 5: Implement the PolicyBasedPlayer')\n",
        "\n",
        "# playing games\n",
        "set_seed(seed=SEED)\n",
        "num_games = 20\n",
        "player1 = PolicyBasedPlayer(game, pnet, greedy=True).play\n",
        "player2 = RandomPlayer(game).play\n",
        "arena = Arena.Arena(player1, player2, game, display=OthelloGame.display)\n",
        "## Uncomment below to test!\n",
        "result = arena.playGames(num_games, verbose=False)\n",
        "print(f\"\\n\\n{result}\")\n",
        "win_rate_player1 = result[0] / num_games\n",
        "print(f\"\\nWin rate for player1 over {num_games} games: {round(win_rate_player1*100, 1)}%\")"
      ],
      "execution_count": null,
      "outputs": [
        {
          "output_type": "stream",
          "text": [
            "Random seed 2021 has been set.\n"
          ],
          "name": "stdout"
        },
        {
          "output_type": "stream",
          "text": [
            "Arena.playGames (1):   0%|          | 0/10 [00:00<?, ?it/s]/usr/local/lib/python3.7/dist-packages/ipykernel_launcher.py:50: UserWarning: Implicit dimension choice for softmax has been deprecated. Change the call to include dim=X as an argument.\n",
            "/usr/local/lib/python3.7/dist-packages/torch/nn/functional.py:1794: UserWarning: nn.functional.tanh is deprecated. Use torch.tanh instead.\n",
            "  warnings.warn(\"nn.functional.tanh is deprecated. Use torch.tanh instead.\")\n",
            "Arena.playGames (1): 100%|██████████| 10/10 [00:00<00:00, 11.74it/s]\n",
            "Arena.playGames (2): 100%|██████████| 10/10 [00:00<00:00, 13.94it/s]"
          ],
          "name": "stderr"
        },
        {
          "output_type": "stream",
          "text": [
            "\n",
            "\n",
            "(16, 4, 0)\n",
            "\n",
            "Win rate for player1 over 20 games: 80.0%\n"
          ],
          "name": "stdout"
        },
        {
          "output_type": "stream",
          "text": [
            "\n"
          ],
          "name": "stderr"
        }
      ]
    },
    {
      "cell_type": "markdown",
      "metadata": {
        "execution": {},
        "id": "3bRdp63BTdSi"
      },
      "source": [
        "[*Click for solution*](https://github.com/NeuromatchAcademy/course-content-dl/tree/main//tutorials/W3D3_ReinforcementLearningForGames/solutions/W3D3_Tutorial1_Solution_ef26beca.py)\n",
        "\n"
      ]
    },
    {
      "cell_type": "markdown",
      "metadata": {
        "execution": {},
        "id": "fwMWIAoxTdSj"
      },
      "source": [
        "```\n",
        " Win rate for player1 over 20 games: 80.0%\n",
        "```"
      ]
    },
    {
      "cell_type": "markdown",
      "metadata": {
        "execution": {},
        "id": "0iTJT7sqTdSj"
      },
      "source": [
        "### Comparing a policy based player versus a random player\n",
        "\n",
        "There's often randomness in the results as we are running the players for a low number of games (only 20 games due compute + time costs). So, when students are running the cells they might not get the expected result. To better measure the strength of players you can run more games!"
      ]
    },
    {
      "cell_type": "code",
      "metadata": {
        "execution": {},
        "id": "PJpWP1baTdSk",
        "colab": {
          "base_uri": "https://localhost:8080/"
        },
        "outputId": "ae8ca6d6-325d-4da0-a17a-be8996fa7532"
      },
      "source": [
        "set_seed(seed=SEED)\n",
        "num_games = 20\n",
        "game = OthelloGame(6)\n",
        "player1 = PolicyBasedPlayer(game, pnet, greedy=False).play\n",
        "player2 = RandomPlayer(game).play\n",
        "arena = Arena.Arena(player1, player2, game, display=OthelloGame.display)\n",
        "result = arena.playGames(num_games, verbose=False)\n",
        "print(f\"\\n\\n{result}\")"
      ],
      "execution_count": null,
      "outputs": [
        {
          "output_type": "stream",
          "text": [
            "Random seed 2021 has been set.\n"
          ],
          "name": "stdout"
        },
        {
          "output_type": "stream",
          "text": [
            "Arena.playGames (1):   0%|          | 0/10 [00:00<?, ?it/s]/usr/local/lib/python3.7/dist-packages/ipykernel_launcher.py:50: UserWarning: Implicit dimension choice for softmax has been deprecated. Change the call to include dim=X as an argument.\n",
            "/usr/local/lib/python3.7/dist-packages/torch/nn/functional.py:1794: UserWarning: nn.functional.tanh is deprecated. Use torch.tanh instead.\n",
            "  warnings.warn(\"nn.functional.tanh is deprecated. Use torch.tanh instead.\")\n",
            "Arena.playGames (1): 100%|██████████| 10/10 [00:00<00:00, 12.18it/s]\n",
            "Arena.playGames (2): 100%|██████████| 10/10 [00:00<00:00, 14.16it/s]"
          ],
          "name": "stderr"
        },
        {
          "output_type": "stream",
          "text": [
            "\n",
            "\n",
            "(12, 8, 0)\n"
          ],
          "name": "stdout"
        },
        {
          "output_type": "stream",
          "text": [
            "\n"
          ],
          "name": "stderr"
        }
      ]
    },
    {
      "cell_type": "code",
      "metadata": {
        "execution": {},
        "id": "giDPiLH9TdSk",
        "colab": {
          "base_uri": "https://localhost:8080/"
        },
        "outputId": "b99d94da-97f8-4edb-d875-a0f4aad63849"
      },
      "source": [
        "win_rate_player1 = result[0]/num_games\n",
        "print(f\"Win rate for player1 over {num_games} games: {round(win_rate_player1*100, 1)}%\")"
      ],
      "execution_count": null,
      "outputs": [
        {
          "output_type": "stream",
          "text": [
            "Win rate for player1 over 20 games: 60.0%\n"
          ],
          "name": "stdout"
        }
      ]
    },
    {
      "cell_type": "markdown",
      "metadata": {
        "execution": {},
        "id": "aSZXR2eOTdSl"
      },
      "source": [
        "```\n",
        "Win rate for player1 over 20 games: 95.0%\n",
        "```"
      ]
    },
    {
      "cell_type": "markdown",
      "metadata": {
        "execution": {},
        "id": "1pG-c0uKTdSm"
      },
      "source": [
        "### Compare greedy policy based player versus value based player "
      ]
    },
    {
      "cell_type": "code",
      "metadata": {
        "execution": {},
        "id": "6H3mSub8TdSm",
        "colab": {
          "base_uri": "https://localhost:8080/"
        },
        "outputId": "3838df0a-f8a5-4e77-d2b1-dcd68c043582"
      },
      "source": [
        "set_seed(seed=SEED)\n",
        "num_games = 20\n",
        "game = OthelloGame(6)\n",
        "player1 = PolicyBasedPlayer(game, pnet).play\n",
        "player2 = ValueBasedPlayer(game, vnet).play\n",
        "arena = Arena.Arena(player1, player2, game, display=OthelloGame.display)\n",
        "result = arena.playGames(num_games, verbose=False)\n",
        "print(f\"\\n\\n{result}\")"
      ],
      "execution_count": null,
      "outputs": [
        {
          "output_type": "stream",
          "text": [
            "Random seed 2021 has been set.\n"
          ],
          "name": "stdout"
        },
        {
          "output_type": "stream",
          "text": [
            "\rArena.playGames (1):   0%|          | 0/10 [00:00<?, ?it/s]/usr/local/lib/python3.7/dist-packages/ipykernel_launcher.py:50: UserWarning: Implicit dimension choice for softmax has been deprecated. Change the call to include dim=X as an argument.\n",
            "/usr/local/lib/python3.7/dist-packages/torch/nn/functional.py:1794: UserWarning: nn.functional.tanh is deprecated. Use torch.tanh instead.\n",
            "  warnings.warn(\"nn.functional.tanh is deprecated. Use torch.tanh instead.\")\n",
            "Arena.playGames (1): 100%|██████████| 10/10 [00:01<00:00,  5.40it/s]\n",
            "Arena.playGames (2): 100%|██████████| 10/10 [00:01<00:00,  5.63it/s]"
          ],
          "name": "stderr"
        },
        {
          "output_type": "stream",
          "text": [
            "\n",
            "\n",
            "(11, 9, 0)\n"
          ],
          "name": "stdout"
        },
        {
          "output_type": "stream",
          "text": [
            "\n"
          ],
          "name": "stderr"
        }
      ]
    },
    {
      "cell_type": "code",
      "metadata": {
        "execution": {},
        "id": "L7GQ0vHITdSn",
        "colab": {
          "base_uri": "https://localhost:8080/"
        },
        "outputId": "bbcab904-32b0-42ef-d353-d92554773df3"
      },
      "source": [
        "win_rate_player1 = result[0]/num_games\n",
        "print(f\"Win rate for player 1 over {num_games} games: {round(win_rate_player1*100, 1)}%\")"
      ],
      "execution_count": null,
      "outputs": [
        {
          "output_type": "stream",
          "text": [
            "Win rate for player 1 over 20 games: 55.0%\n"
          ],
          "name": "stdout"
        }
      ]
    },
    {
      "cell_type": "markdown",
      "metadata": {
        "execution": {},
        "id": "T4RctA8uTdSn"
      },
      "source": [
        "```\n",
        "Win rate for player 1 over 20 games: 55.0%\n",
        "```"
      ]
    },
    {
      "cell_type": "markdown",
      "metadata": {
        "execution": {},
        "id": "3Jt0HJP0TdSo"
      },
      "source": [
        "### Compare greedy policy based player versus sample-based policy player "
      ]
    },
    {
      "cell_type": "code",
      "metadata": {
        "execution": {},
        "id": "Np49JUhDTdSo",
        "colab": {
          "base_uri": "https://localhost:8080/"
        },
        "outputId": "06553169-0f91-4888-9eda-0e13f1c73aa6"
      },
      "source": [
        "set_seed(seed=SEED)\n",
        "num_games = 20\n",
        "game = OthelloGame(6)\n",
        "player1 = PolicyBasedPlayer(game, pnet).play # greedy player\n",
        "player2 = PolicyBasedPlayer(game, pnet, greedy=False).play # sample-based player\n",
        "arena = Arena.Arena(player1, player2, game, display=OthelloGame.display)\n",
        "result = arena.playGames(num_games, verbose=False)\n",
        "print(f\"\\n\\n{result}\")"
      ],
      "execution_count": null,
      "outputs": [
        {
          "output_type": "stream",
          "text": [
            "Random seed 2021 has been set.\n"
          ],
          "name": "stdout"
        },
        {
          "output_type": "stream",
          "text": [
            "Arena.playGames (1):   0%|          | 0/10 [00:00<?, ?it/s]/usr/local/lib/python3.7/dist-packages/ipykernel_launcher.py:50: UserWarning: Implicit dimension choice for softmax has been deprecated. Change the call to include dim=X as an argument.\n",
            "/usr/local/lib/python3.7/dist-packages/torch/nn/functional.py:1794: UserWarning: nn.functional.tanh is deprecated. Use torch.tanh instead.\n",
            "  warnings.warn(\"nn.functional.tanh is deprecated. Use torch.tanh instead.\")\n",
            "Arena.playGames (1): 100%|██████████| 10/10 [00:01<00:00,  8.98it/s]\n",
            "Arena.playGames (2): 100%|██████████| 10/10 [00:00<00:00, 10.32it/s]"
          ],
          "name": "stderr"
        },
        {
          "output_type": "stream",
          "text": [
            "\n",
            "\n",
            "(15, 5, 0)\n"
          ],
          "name": "stdout"
        },
        {
          "output_type": "stream",
          "text": [
            "\n"
          ],
          "name": "stderr"
        }
      ]
    },
    {
      "cell_type": "code",
      "metadata": {
        "execution": {},
        "id": "9CGo4M67TdSo",
        "colab": {
          "base_uri": "https://localhost:8080/"
        },
        "outputId": "fa9ca43a-2722-469c-98d5-3cf9711f0cfb"
      },
      "source": [
        "win_rate_player1 = result[0]/num_games\n",
        "print(f\"Win rate for player 1 over {num_games} games: {round(win_rate_player1*100, 1)}%\")"
      ],
      "execution_count": null,
      "outputs": [
        {
          "output_type": "stream",
          "text": [
            "Win rate for player 1 over 20 games: 75.0%\n"
          ],
          "name": "stdout"
        }
      ]
    },
    {
      "cell_type": "markdown",
      "metadata": {
        "execution": {},
        "id": "pxGxow2XTdSp"
      },
      "source": [
        "```\n",
        " Win rate for player 1 over 20 games: 50.0%\n",
        "```"
      ]
    },
    {
      "cell_type": "markdown",
      "metadata": {
        "execution": {},
        "id": "wgtqKT6DTdSp"
      },
      "source": [
        "---\n",
        "# Section 6: Plan using Monte Carlo rollouts\n",
        "\n",
        "*Time estimate: ~15mins*\n",
        "\n"
      ]
    },
    {
      "cell_type": "markdown",
      "metadata": {
        "execution": {},
        "id": "1Eg3wKL0TdSq"
      },
      "source": [
        "**Goal**: Teach the students the core idea behind using simulated rollouts to understand the future and value actions.\n",
        "\n",
        "**Exercise**:\n",
        "* Build a loop to run Monte Carlo simulations using the policy network.\n",
        "* Use this to obtain better estimates of the value of moves."
      ]
    },
    {
      "cell_type": "code",
      "metadata": {
        "cellView": "form",
        "execution": {},
        "id": "DbKkiP4cTdSq",
        "colab": {
          "base_uri": "https://localhost:8080/",
          "height": 579,
          "referenced_widgets": [
            "37850e6e7fc5463db8eb031961d2d85b",
            "23d346b711c1484ca8760a9bb2f42536",
            "93c32f4e50774cb68b852d1cfb3a73f3",
            "c4be85dd97d149c88accaef91ef1f700",
            "35b1fecb8fdb4c4b85aed4f5493a9657",
            "936b1dfcfe2f4086a8519bf99e4b0cf6"
          ]
        },
        "outputId": "aa6949eb-28a5-4691-c0c8-b81c7b365bd2"
      },
      "source": [
        "# @title Video 6: Play using Monte-Carlo rollouts\n",
        "from ipywidgets import widgets\n",
        "\n",
        "out2 = widgets.Output()\n",
        "with out2:\n",
        "  from IPython.display import IFrame\n",
        "  class BiliVideo(IFrame):\n",
        "    def __init__(self, id, page=1, width=400, height=300, **kwargs):\n",
        "      self.id=id\n",
        "      src = \"https://player.bilibili.com/player.html?bvid={0}&page={1}\".format(id, page)\n",
        "      super(BiliVideo, self).__init__(src, width, height, **kwargs)\n",
        "\n",
        "  video = BiliVideo(id=f\"BV1Rb4y1U7BW\", width=854, height=480, fs=1)\n",
        "  print(\"Video available at https://www.bilibili.com/video/{0}\".format(video.id))\n",
        "  display(video)\n",
        "\n",
        "out1 = widgets.Output()\n",
        "with out1:\n",
        "  from IPython.display import YouTubeVideo\n",
        "  video = YouTubeVideo(id=f\"DtCWDIlSo18\", width=854, height=480, fs=1, rel=0)\n",
        "  print(\"Video available at https://youtube.com/watch?v=\" + video.id)\n",
        "  display(video)\n",
        "\n",
        "out = widgets.Tab([out1, out2])\n",
        "out.set_title(0, 'Youtube')\n",
        "out.set_title(1, 'Bilibili')\n",
        "\n",
        "# add event to airtable\n",
        "atform.add_event('Video 6: Play using Monte-Carlo rollouts')\n",
        "\n",
        "display(out)"
      ],
      "execution_count": null,
      "outputs": [
        {
          "output_type": "display_data",
          "data": {
            "application/vnd.jupyter.widget-view+json": {
              "model_id": "37850e6e7fc5463db8eb031961d2d85b",
              "version_minor": 0,
              "version_major": 2
            },
            "text/plain": [
              "Tab(children=(Output(), Output()), _titles={'0': 'Youtube', '1': 'Bilibili'})"
            ]
          },
          "metadata": {
            "tags": []
          }
        }
      ]
    },
    {
      "cell_type": "markdown",
      "metadata": {
        "execution": {},
        "id": "Rf1QPUF2TdSq"
      },
      "source": [
        "## Coding Exercise 6: `MonteCarlo`"
      ]
    },
    {
      "cell_type": "code",
      "metadata": {
        "execution": {},
        "id": "p6zLjmYtTdSr"
      },
      "source": [
        "class MonteCarlo():\n",
        "  def __init__(self, game, nnet, args):\n",
        "    self.game = game\n",
        "    self.nnet = nnet\n",
        "    self.args = args\n",
        "\n",
        "    self.Ps = {}  # stores initial policy (returned by neural net)\n",
        "    self.Es = {}  # stores game.getGameEnded ended for board s\n",
        "\n",
        "  # call this rollout\n",
        "  def simulate(self, canonicalBoard):\n",
        "    \"\"\"\n",
        "    This function performs one monte carlo rollout\n",
        "    \"\"\"\n",
        "\n",
        "    s = self.game.stringRepresentation(canonicalBoard)\n",
        "    init_start_state = s\n",
        "    temp_v = 0\n",
        "    isfirstAction = None\n",
        "\n",
        "    for i in range(self.args.maxDepth): # maxDepth\n",
        "\n",
        "      if s not in self.Es:\n",
        "        self.Es[s] = self.game.getGameEnded(canonicalBoard, 1)\n",
        "      if self.Es[s] != 0:\n",
        "        # terminal state\n",
        "        temp_v= -self.Es[s]\n",
        "        break\n",
        "\n",
        "      self.Ps[s], v = self.nnet.predict(canonicalBoard)\n",
        "      valids = self.game.getValidMoves(canonicalBoard, 1)\n",
        "      self.Ps[s] = self.Ps[s] * valids  # masking invalid moves\n",
        "      sum_Ps_s = np.sum(self.Ps[s])\n",
        "\n",
        "      if sum_Ps_s > 0:\n",
        "        self.Ps[s] /= sum_Ps_s  # renormalize\n",
        "      else:\n",
        "        # if all valid moves were masked make all valid moves equally probable\n",
        "        # NB! All valid moves may be masked if either your NNet architecture is insufficient or you've get overfitting or something else.\n",
        "        # If you have got dozens or hundreds of these messages you should pay attention to your NNet and/or training process.\n",
        "        log.error(\"All valid moves were masked, doing a workaround.\")\n",
        "        self.Ps[s] = self.Ps[s] + valids\n",
        "        self.Ps[s] /= np.sum(self.Ps[s])\n",
        "\n",
        "      #################################################\n",
        "      ## TODO for students: Take a random action.\n",
        "      ## 1. Take the random action.\n",
        "      ## 2. Find the next state and the next player from the environment.\n",
        "      ## 3. Get the canonical form of the next state.\n",
        "      # Fill out function and remove\n",
        "      #raise NotImplementedError(\"Take the action, find the next state\")\n",
        "      #################################################\n",
        "      a = np.random.choice( self.game.getActionSize() , p = self.Ps[s] )\n",
        "      next_s, next_player = self.game.getNextState( canonicalBoard , 1 ,  a )\n",
        "      next_s = self.game.getCanonicalForm( next_s ,next_player )\n",
        "\n",
        "      s = self.game.stringRepresentation(next_s)\n",
        "      temp_v = v\n",
        "\n",
        "    return temp_v\n",
        "\n",
        "\n",
        "# add event to airtable\n",
        "atform.add_event('Coding Exercise 6: MonteCarlo')"
      ],
      "execution_count": null,
      "outputs": []
    },
    {
      "cell_type": "markdown",
      "metadata": {
        "execution": {},
        "id": "BR1NapVWTdSr"
      },
      "source": [
        "[*Click for solution*](https://github.com/NeuromatchAcademy/course-content-dl/tree/main//tutorials/W3D3_ReinforcementLearningForGames/solutions/W3D3_Tutorial1_Solution_d8a53ceb.py)\n",
        "\n"
      ]
    },
    {
      "cell_type": "markdown",
      "metadata": {
        "execution": {},
        "id": "tDgEWXz0TdSs"
      },
      "source": [
        "---\n",
        "# Section 7: Use Monte Carlo simulations to play games\n",
        "\n",
        "*Time estimate: ~20mins*"
      ]
    },
    {
      "cell_type": "markdown",
      "metadata": {
        "execution": {},
        "id": "DcyZU_INTdSs"
      },
      "source": [
        "**Goal:** Teach students how to use simple Monte Carlo planning to play games."
      ]
    },
    {
      "cell_type": "code",
      "metadata": {
        "cellView": "form",
        "execution": {},
        "id": "GWxxPEbATdSs",
        "colab": {
          "base_uri": "https://localhost:8080/",
          "height": 579,
          "referenced_widgets": [
            "1edb2297002d4eb29da952fb098f732c",
            "491c4a77ccf2457a89a426fa76f80669",
            "041335ef89b94b2296524b6c05a439f6",
            "27bb1e9bafd6427db7a8f2e2ad3631ba",
            "e34b7e87eb4e45e19dcef6c58223481a",
            "b1ccbafe598145a89c98cc31606844f8"
          ]
        },
        "outputId": "07c46b98-8a18-4751-c0d7-45f3e020f1a3"
      },
      "source": [
        "# @title Video 7: Play with planning\n",
        "from ipywidgets import widgets\n",
        "\n",
        "out2 = widgets.Output()\n",
        "with out2:\n",
        "  from IPython.display import IFrame\n",
        "  class BiliVideo(IFrame):\n",
        "    def __init__(self, id, page=1, width=400, height=300, **kwargs):\n",
        "      self.id=id\n",
        "      src = \"https://player.bilibili.com/player.html?bvid={0}&page={1}\".format(id, page)\n",
        "      super(BiliVideo, self).__init__(src, width, height, **kwargs)\n",
        "\n",
        "  video = BiliVideo(id=f\"BV1bh411B7S4\", width=854, height=480, fs=1)\n",
        "  print(\"Video available at https://www.bilibili.com/video/{0}\".format(video.id))\n",
        "  display(video)\n",
        "\n",
        "out1 = widgets.Output()\n",
        "with out1:\n",
        "  from IPython.display import YouTubeVideo\n",
        "  video = YouTubeVideo(id=f\"plmFzAy3H5s\", width=854, height=480, fs=1, rel=0)\n",
        "  print(\"Video available at https://youtube.com/watch?v=\" + video.id)\n",
        "  display(video)\n",
        "\n",
        "out = widgets.Tab([out1, out2])\n",
        "out.set_title(0, 'Youtube')\n",
        "out.set_title(1, 'Bilibili')\n",
        "\n",
        "# add event to airtable\n",
        "atform.add_event('Video 7: Play with planning')\n",
        "\n",
        "display(out)"
      ],
      "execution_count": null,
      "outputs": [
        {
          "output_type": "display_data",
          "data": {
            "application/vnd.jupyter.widget-view+json": {
              "model_id": "1edb2297002d4eb29da952fb098f732c",
              "version_minor": 0,
              "version_major": 2
            },
            "text/plain": [
              "Tab(children=(Output(), Output()), _titles={'0': 'Youtube', '1': 'Bilibili'})"
            ]
          },
          "metadata": {
            "tags": []
          }
        }
      ]
    },
    {
      "cell_type": "markdown",
      "metadata": {
        "execution": {},
        "id": "l6VbGc5PTdSt"
      },
      "source": [
        "## Coding Exercise 7: Monte-Carlo simulations\n",
        "\n",
        "* Incorporate Monte Carlo simulations into an agent.\n",
        "* Run the resulting player versus the random, value-based, and policy-based players."
      ]
    },
    {
      "cell_type": "code",
      "metadata": {
        "execution": {},
        "id": "RA694lBpTdSt"
      },
      "source": [
        "# Load MC model from the repository\n",
        "mc_model_save_name = 'MC.pth.tar'\n",
        "path = \"nma_rl_games/alpha-zero/pretrained_models/models/\""
      ],
      "execution_count": null,
      "outputs": []
    },
    {
      "cell_type": "code",
      "metadata": {
        "execution": {},
        "id": "aJHyqQjVTdSu",
        "colab": {
          "base_uri": "https://localhost:8080/"
        },
        "outputId": "f7ab65b7-930c-4f4f-9961-1515a6f60750"
      },
      "source": [
        "class MonteCarloBasedPlayer():\n",
        "  def __init__(self, game, nnet, args):\n",
        "    self.game = game\n",
        "    self.nnet = nnet\n",
        "    self.args = args\n",
        "    #################################################\n",
        "    ## TODO for students: Instantiate the Monte Carlo class.\n",
        "    # Fill out function and remove\n",
        "    #raise NotImplementedError(\"Use Monte Carlo!\")\n",
        "    #################################################\n",
        "    self.mc = MonteCarlo( self.game , self.nnet , self.args )\n",
        "    self.K = self.args.mc_topk\n",
        "\n",
        "  def play(self, canonicalBoard):\n",
        "    self.qsa = []\n",
        "    s = self.game.stringRepresentation(canonicalBoard)\n",
        "    Ps, v = self.nnet.predict(canonicalBoard)\n",
        "    valids = self.game.getValidMoves(canonicalBoard, 1)\n",
        "    Ps = Ps * valids  # masking invalid moves\n",
        "    sum_Ps_s = np.sum(Ps)\n",
        "\n",
        "    if sum_Ps_s > 0:\n",
        "      Ps /= sum_Ps_s  # renormalize\n",
        "    else:\n",
        "      # if all valid moves were masked make all valid moves equally probable\n",
        "      # NB! All valid moves may be masked if either your NNet architecture is insufficient or you've get overfitting or something else.\n",
        "      # If you have got dozens or hundreds of these messages you should pay attention to your NNet and/or training process.\n",
        "      log = logging.getLogger(__name__)\n",
        "      log.error(\"All valid moves were masked, doing a workaround.\")\n",
        "      Ps = Ps + valids\n",
        "      Ps /= np.sum(Ps)\n",
        "\n",
        "    num_valid_actions = np.shape(np.nonzero(Ps))[1]\n",
        "\n",
        "    if num_valid_actions < self.K:\n",
        "      top_k_actions = np.argpartition(Ps,-num_valid_actions)[-num_valid_actions:]\n",
        "    else:\n",
        "      top_k_actions = np.argpartition(Ps,-self.K)[-self.K:]  # to get actions that belongs to top k prob\n",
        "    #################################################\n",
        "    ## TODO for students:\n",
        "    ## 1. For each action in the top-k actions\n",
        "    ## 2. Get the next state using getNextState() function. You can find the implementation of this function in Section 1 in OthelloGame() class.\n",
        "    ## 3. Get the canonical form of the getNextState().\n",
        "    # Fill out function and remove\n",
        "    #raise NotImplementedError(\"Loop for the top actions\")\n",
        "    #################################################\n",
        "    for action in top_k_actions :\n",
        "      next_s, next_player = self.game.getNextState( canonicalBoard, 1 , action )\n",
        "      next_s = self.game.getCanonicalForm( next_s , next_player )\n",
        "\n",
        "      values = []\n",
        "\n",
        "      # do some rollouts\n",
        "      for rollout in range(self.args.numMCsims):\n",
        "        value = self.mc.simulate(canonicalBoard)\n",
        "        values.append(value)\n",
        "\n",
        "      # average out values\n",
        "      avg_value = np.mean(values)\n",
        "      self.qsa.append((avg_value, action))\n",
        "\n",
        "    self.qsa.sort(key=lambda a: a[0])\n",
        "    self.qsa.reverse()\n",
        "    best_action = self.qsa[0][1]\n",
        "    return best_action\n",
        "\n",
        "  def getActionProb(self, canonicalBoard, temp=1):\n",
        "    if self.game.getGameEnded(canonicalBoard, 1) != 0:\n",
        "      return np.zeros((self.game.getActionSize()))\n",
        "\n",
        "    else:\n",
        "      action_probs = np.zeros((self.game.getActionSize()))\n",
        "      best_action = self.play(canonicalBoard)\n",
        "      action_probs[best_action] = 1\n",
        "\n",
        "    return action_probs\n",
        "\n",
        "\n",
        "# add event to airtable\n",
        "atform.add_event('Coding Exercise 7: MonteCarlo siumulations')\n",
        "\n",
        "set_seed(seed=SEED)\n",
        "game = OthelloGame(6)\n",
        "# Run the resulting player versus the random player\n",
        "rp = RandomPlayer(game).play\n",
        "num_games = 20  # Feel free to change this number\n",
        "\n",
        "n1 = NNet(game)  # nNet players\n",
        "n1.load_checkpoint(folder=path, filename=mc_model_save_name)\n",
        "args1 = dotdict({'numMCsims': 10, 'maxRollouts':5, 'maxDepth':5, 'mc_topk': 3})\n",
        "\n",
        "## Uncomment below to check Monte Carlo agent!\n",
        "print('\\n******MC player versus random player******')\n",
        "mc1 = MonteCarloBasedPlayer(game, n1, args1)\n",
        "n1p = lambda x: np.argmax(mc1.getActionProb(x))\n",
        "arena = Arena.Arena(n1p, rp, game, display=OthelloGame.display)\n",
        "MC_result = arena.playGames(num_games, verbose=False)\n",
        "print(f\"\\n\\n{MC_result}\")\n",
        "print(f\"\\nNumber of games won by player1 = {MC_result[0]}, \"\n",
        "      f\"number of games won by player2 = {MC_result[1]}, out of {num_games} games\")\n",
        "win_rate_player1 = MC_result[0]/num_games\n",
        "print(f\"\\nWin rate for player1 over {num_games} games: {round(win_rate_player1*100, 1)}%\")"
      ],
      "execution_count": null,
      "outputs": [
        {
          "output_type": "stream",
          "text": [
            "Random seed 2021 has been set.\n",
            "\n",
            "******MC player versus random player******\n"
          ],
          "name": "stdout"
        },
        {
          "output_type": "stream",
          "text": [
            "Arena.playGames (1): 100%|██████████| 10/10 [00:55<00:00,  5.53s/it]\n",
            "Arena.playGames (2): 100%|██████████| 10/10 [00:54<00:00,  5.46s/it]"
          ],
          "name": "stderr"
        },
        {
          "output_type": "stream",
          "text": [
            "\n",
            "\n",
            "(11, 9, 0)\n",
            "\n",
            "Number of games won by player1 = 11, number of games won by player2 = 9, out of 20 games\n",
            "\n",
            "Win rate for player1 over 20 games: 55.0%\n"
          ],
          "name": "stdout"
        },
        {
          "output_type": "stream",
          "text": [
            "\n"
          ],
          "name": "stderr"
        }
      ]
    },
    {
      "cell_type": "markdown",
      "metadata": {
        "execution": {},
        "id": "YdJusw9yTdSu"
      },
      "source": [
        "[*Click for solution*](https://github.com/NeuromatchAcademy/course-content-dl/tree/main//tutorials/W3D3_ReinforcementLearningForGames/solutions/W3D3_Tutorial1_Solution_e774cb2e.py)\n",
        "\n"
      ]
    },
    {
      "cell_type": "markdown",
      "metadata": {
        "execution": {},
        "id": "Vh2IiL_RTdSv"
      },
      "source": [
        "```\n",
        "Number of games won by player1 = 11, number of games won by player2 = 9, out of 20 games\n",
        "\n",
        "Win rate for player1 over 20 games: 55.0%\n",
        "```"
      ]
    },
    {
      "cell_type": "markdown",
      "metadata": {
        "execution": {},
        "id": "P6y0NuLLTdSv"
      },
      "source": [
        "### Monte-Carlo player against Value-based player"
      ]
    },
    {
      "cell_type": "code",
      "metadata": {
        "execution": {},
        "id": "UYw5rXXwTdSw",
        "colab": {
          "base_uri": "https://localhost:8080/"
        },
        "outputId": "27ab173e-2832-44c0-ca42-252c5a9d793b"
      },
      "source": [
        "print('\\n******MC player versus value-based player******')\n",
        "set_seed(seed=SEED)\n",
        "vp = ValueBasedPlayer(game, vnet).play # value-based player\n",
        "arena = Arena.Arena(n1p, vp, game, display=OthelloGame.display)\n",
        "MC_result = arena.playGames(num_games, verbose=False)\n",
        "print(f\"\\n\\n{MC_result}\")\n",
        "print(f\"\\nNumber of games won by player1 = {MC_result[0]}, \"\n",
        "      f\"number of games won by player2 = {MC_result[1]}, out of {num_games} games\")\n",
        "win_rate_player1 = MC_result[0]/num_games\n",
        "print(f\"\\nWin rate for player1 over {num_games} games: {round(win_rate_player1*100, 1)}%\")"
      ],
      "execution_count": null,
      "outputs": [
        {
          "output_type": "stream",
          "text": [
            "\n",
            "******MC player versus value-based player******\n",
            "Random seed 2021 has been set.\n"
          ],
          "name": "stdout"
        },
        {
          "output_type": "stream",
          "text": [
            "\rArena.playGames (1):   0%|          | 0/10 [00:00<?, ?it/s]/usr/local/lib/python3.7/dist-packages/ipykernel_launcher.py:50: UserWarning: Implicit dimension choice for softmax has been deprecated. Change the call to include dim=X as an argument.\n",
            "/usr/local/lib/python3.7/dist-packages/torch/nn/functional.py:1794: UserWarning: nn.functional.tanh is deprecated. Use torch.tanh instead.\n",
            "  warnings.warn(\"nn.functional.tanh is deprecated. Use torch.tanh instead.\")\n",
            "Arena.playGames (1): 100%|██████████| 10/10 [00:55<00:00,  5.52s/it]\n",
            "Arena.playGames (2): 100%|██████████| 10/10 [00:54<00:00,  5.42s/it]"
          ],
          "name": "stderr"
        },
        {
          "output_type": "stream",
          "text": [
            "\n",
            "\n",
            "(10, 10, 0)\n",
            "\n",
            "Number of games won by player1 = 10, number of games won by player2 = 10, out of 20 games\n",
            "\n",
            "Win rate for player1 over 20 games: 50.0%\n"
          ],
          "name": "stdout"
        },
        {
          "output_type": "stream",
          "text": [
            "\n"
          ],
          "name": "stderr"
        }
      ]
    },
    {
      "cell_type": "markdown",
      "metadata": {
        "execution": {},
        "id": "zFUxQIitTdSw"
      },
      "source": [
        "```\n",
        "Number of games won by player1 = 10, number of games won by player2 = 10, out of 20 games\n",
        "\n",
        "Win rate for player1 over 20 games: 50.0%\n",
        "```"
      ]
    },
    {
      "cell_type": "markdown",
      "metadata": {
        "execution": {},
        "id": "jwxLCw28TdSw"
      },
      "source": [
        "### Monte-Carlo player against Policy-based player"
      ]
    },
    {
      "cell_type": "code",
      "metadata": {
        "execution": {},
        "id": "2Cd6LhkrTdSx",
        "colab": {
          "base_uri": "https://localhost:8080/"
        },
        "outputId": "c00c1835-4bed-4dca-8dfa-9156e6f4530c"
      },
      "source": [
        "print('\\n******MC player versus policy-based player******')\n",
        "set_seed(seed=SEED)\n",
        "pp = PolicyBasedPlayer(game, pnet).play # policy player\n",
        "arena = Arena.Arena(n1p, pp, game, display=OthelloGame.display)\n",
        "MC_result = arena.playGames(num_games, verbose=False)\n",
        "print(f\"\\n\\n{MC_result}\")\n",
        "print(f\"\\nNumber of games won by player1 = {MC_result[0]}, \"\n",
        "      f\"number of games won by player2 = {MC_result[1]}, out of {num_games} games\")\n",
        "win_rate_player1 = MC_result[0]/num_games\n",
        "print(f\"\\nWin rate for player1 over {num_games} games: {round(win_rate_player1*100, 1)}%\")"
      ],
      "execution_count": null,
      "outputs": [
        {
          "output_type": "stream",
          "text": [
            "\n",
            "******MC player versus policy-based player******\n",
            "Random seed 2021 has been set.\n"
          ],
          "name": "stdout"
        },
        {
          "output_type": "stream",
          "text": [
            "\rArena.playGames (1):   0%|          | 0/10 [00:00<?, ?it/s]/usr/local/lib/python3.7/dist-packages/ipykernel_launcher.py:50: UserWarning: Implicit dimension choice for softmax has been deprecated. Change the call to include dim=X as an argument.\n",
            "/usr/local/lib/python3.7/dist-packages/torch/nn/functional.py:1794: UserWarning: nn.functional.tanh is deprecated. Use torch.tanh instead.\n",
            "  warnings.warn(\"nn.functional.tanh is deprecated. Use torch.tanh instead.\")\n",
            "Arena.playGames (1): 100%|██████████| 10/10 [00:54<00:00,  5.42s/it]\n",
            "Arena.playGames (2): 100%|██████████| 10/10 [00:50<00:00,  5.03s/it]"
          ],
          "name": "stderr"
        },
        {
          "output_type": "stream",
          "text": [
            "\n",
            "\n",
            "(10, 10, 0)\n",
            "\n",
            "Number of games won by player1 = 10, number of games won by player2 = 10, out of 20 games\n",
            "\n",
            "Win rate for player1 over 20 games: 50.0%\n"
          ],
          "name": "stdout"
        },
        {
          "output_type": "stream",
          "text": [
            "\n"
          ],
          "name": "stderr"
        }
      ]
    },
    {
      "cell_type": "markdown",
      "metadata": {
        "execution": {},
        "id": "afeTptRGTdSx"
      },
      "source": [
        "```\n",
        "Number of games won by player1 = 10, number of games won by player2 = 10, out of 20 games\n",
        "\n",
        "Win rate for player1 over 20 games: 50.0%\n",
        "```"
      ]
    },
    {
      "cell_type": "markdown",
      "metadata": {
        "execution": {},
        "id": "O0ZadN34TdSx"
      },
      "source": [
        "---\n",
        "# Section 8: Ethical aspects\n",
        "\n",
        "*Time estimate: ~5mins*"
      ]
    },
    {
      "cell_type": "code",
      "metadata": {
        "cellView": "form",
        "execution": {},
        "id": "LF5T0U3OTdSy",
        "colab": {
          "base_uri": "https://localhost:8080/",
          "height": 579,
          "referenced_widgets": [
            "d478a9b7e3bf4f4aafac64087350f792",
            "e7cf4d03f2bf4fbca6d77221ccea4c83",
            "f33342d3847643bd8726ea814538f015",
            "b4d92369a43843428adee8de86bd4a0d",
            "0a75cc4604894769b0c6eccc1d4ad313",
            "dc5d151aff5441a8a8afeb39e2f92af3"
          ]
        },
        "outputId": "e5043d5b-1b8b-449b-e639-4c4755c67b4d"
      },
      "source": [
        "# @title Video 8: Unstoppable opponents\n",
        "from ipywidgets import widgets\n",
        "\n",
        "out2 = widgets.Output()\n",
        "with out2:\n",
        "  from IPython.display import IFrame\n",
        "  class BiliVideo(IFrame):\n",
        "    def __init__(self, id, page=1, width=400, height=300, **kwargs):\n",
        "      self.id=id\n",
        "      src = \"https://player.bilibili.com/player.html?bvid={0}&page={1}\".format(id, page)\n",
        "      super(BiliVideo, self).__init__(src, width, height, **kwargs)\n",
        "\n",
        "  video = BiliVideo(id=f\"BV1WA411w7mw\", width=854, height=480, fs=1)\n",
        "  print(\"Video available at https://www.bilibili.com/video/{0}\".format(video.id))\n",
        "  display(video)\n",
        "\n",
        "out1 = widgets.Output()\n",
        "with out1:\n",
        "  from IPython.display import YouTubeVideo\n",
        "  video = YouTubeVideo(id=f\"q7181lvoNpM\", width=854, height=480, fs=1, rel=0)\n",
        "  print(\"Video available at https://youtube.com/watch?v=\" + video.id)\n",
        "  display(video)\n",
        "\n",
        "out = widgets.Tab([out1, out2])\n",
        "out.set_title(0, 'Youtube')\n",
        "out.set_title(1, 'Bilibili')\n",
        "\n",
        "# add event to airtable\n",
        "atform.add_event('Video 8: Unstoppable opponents')\n",
        "\n",
        "display(out)"
      ],
      "execution_count": null,
      "outputs": [
        {
          "output_type": "display_data",
          "data": {
            "application/vnd.jupyter.widget-view+json": {
              "model_id": "d478a9b7e3bf4f4aafac64087350f792",
              "version_minor": 0,
              "version_major": 2
            },
            "text/plain": [
              "Tab(children=(Output(), Output()), _titles={'0': 'Youtube', '1': 'Bilibili'})"
            ]
          },
          "metadata": {
            "tags": []
          }
        }
      ]
    },
    {
      "cell_type": "markdown",
      "metadata": {
        "execution": {},
        "id": "U4My92uoTdSy"
      },
      "source": [
        "---\n",
        "# Summary\n",
        "\n",
        "In this tutotial, you have learned how to implement a game loop and improve the performance of a random player. More specifically, you are now able to understand the format of two-players games. We learned about value-based and policy-based players, and we compare them with the MCTS method."
      ]
    },
    {
      "cell_type": "code",
      "metadata": {
        "cellView": "form",
        "execution": {},
        "id": "QuoaRVR9TdSz",
        "colab": {
          "base_uri": "https://localhost:8080/",
          "height": 579,
          "referenced_widgets": [
            "23fbd03977cf46edb3735fe644bdd32c",
            "89b761adcea941a99aeba4adc8eb652d",
            "113ac9be0ca84b56853c864b65e8eb97",
            "75f0c7d5032e48e184f34e0c6e927d6f",
            "ab7d65e4b9714bf396180c6f95555578",
            "71548705c9954d67b01c4e05440038bb"
          ]
        },
        "outputId": "8d793ad6-e7e4-45e8-b341-8ba5371f9a48"
      },
      "source": [
        "# @title Video 9: Outro\n",
        "from ipywidgets import widgets\n",
        "\n",
        "out2 = widgets.Output()\n",
        "with out2:\n",
        "  from IPython.display import IFrame\n",
        "  class BiliVideo(IFrame):\n",
        "    def __init__(self, id, page=1, width=400, height=300, **kwargs):\n",
        "      self.id=id\n",
        "      src = \"https://player.bilibili.com/player.html?bvid={0}&page={1}\".format(id, page)\n",
        "      super(BiliVideo, self).__init__(src, width, height, **kwargs)\n",
        "\n",
        "  video = BiliVideo(id=f\"BV1a64y1s7Sh\", width=854, height=480, fs=1)\n",
        "  print(\"Video available at https://www.bilibili.com/video/{0}\".format(video.id))\n",
        "  display(video)\n",
        "\n",
        "out1 = widgets.Output()\n",
        "with out1:\n",
        "  from IPython.display import YouTubeVideo\n",
        "  video = YouTubeVideo(id=f\"uQ26iIUzmtw\", width=854, height=480, fs=1, rel=0)\n",
        "  print(\"Video available at https://youtube.com/watch?v=\" + video.id)\n",
        "  display(video)\n",
        "\n",
        "out = widgets.Tab([out1, out2])\n",
        "out.set_title(0, 'Youtube')\n",
        "out.set_title(1, 'Bilibili')\n",
        "\n",
        "# add event to airtable\n",
        "atform.add_event('Video 9: Outro')\n",
        "\n",
        "display(out)"
      ],
      "execution_count": null,
      "outputs": [
        {
          "output_type": "display_data",
          "data": {
            "application/vnd.jupyter.widget-view+json": {
              "model_id": "23fbd03977cf46edb3735fe644bdd32c",
              "version_minor": 0,
              "version_major": 2
            },
            "text/plain": [
              "Tab(children=(Output(), Output()), _titles={'0': 'Youtube', '1': 'Bilibili'})"
            ]
          },
          "metadata": {
            "tags": []
          }
        }
      ]
    },
    {
      "cell_type": "code",
      "metadata": {
        "cellView": "form",
        "execution": {},
        "id": "JAM33i5-TdSz"
      },
      "source": [
        "# @title Airtable Submission Link\n",
        "from IPython import display as IPydisplay\n",
        "IPydisplay.HTML(\n",
        "   f\"\"\"\n",
        " <div>\n",
        "   <a href= \"{atform.url()}\" target=\"_blank\">\n",
        "   <img src=\"https://github.com/NeuromatchAcademy/course-content-dl/blob/main/tutorials/static/SurveyButton.png?raw=1\"\n",
        " alt=\"button link end of day Survey\" style=\"width:410px\"></a>\n",
        "   </div>\"\"\" )"
      ],
      "execution_count": null,
      "outputs": []
    },
    {
      "cell_type": "markdown",
      "metadata": {
        "execution": {},
        "id": "kN6pGcw0TdS0"
      },
      "source": [
        "---\n",
        "# Bonus 1: Plan using Monte Carlo Tree Search (MCTS)\n",
        "\n",
        "*Time estimate: ~30mins"
      ]
    },
    {
      "cell_type": "markdown",
      "metadata": {
        "execution": {},
        "id": "R2XnZySQTdS0"
      },
      "source": [
        "**Goal:** Teach students to understand the core ideas behind Monte Carlo Tree Search (MCTS)."
      ]
    },
    {
      "cell_type": "code",
      "metadata": {
        "cellView": "form",
        "execution": {},
        "id": "OV7JEfp6TdS0",
        "colab": {
          "base_uri": "https://localhost:8080/",
          "height": 579,
          "referenced_widgets": [
            "af8a9febe8944cc19ece4f366d42648c",
            "5a451a282d3b4b26847c7c1efebd9219",
            "19bdd7f925af4cde922efdf00b4e87a8",
            "56675a1dbb4a49c99fd8279e35cad215",
            "1322901296464292a86c7b10f5091a7a",
            "7efc44e731d748aabd8a87b4909469b4"
          ]
        },
        "outputId": "39d2dfb8-cee4-44db-dca9-8064298743ed"
      },
      "source": [
        "# @title Video 10: Plan with MCTS\n",
        "from ipywidgets import widgets\n",
        "\n",
        "out2 = widgets.Output()\n",
        "with out2:\n",
        "  from IPython.display import IFrame\n",
        "  class BiliVideo(IFrame):\n",
        "    def __init__(self, id, page=1, width=400, height=300, **kwargs):\n",
        "      self.id=id\n",
        "      src = \"https://player.bilibili.com/player.html?bvid={0}&page={1}\".format(id, page)\n",
        "      super(BiliVideo, self).__init__(src, width, height, **kwargs)\n",
        "\n",
        "  video = BiliVideo(id=f\"BV1yQ4y127Sr\", width=854, height=480, fs=1)\n",
        "  print(\"Video available at https://www.bilibili.com/video/{0}\".format(video.id))\n",
        "  display(video)\n",
        "\n",
        "out1 = widgets.Output()\n",
        "with out1:\n",
        "  from IPython.display import YouTubeVideo\n",
        "  video = YouTubeVideo(id=f\"Hhw6Ed0Zmco\", width=854, height=480, fs=1, rel=0)\n",
        "  print(\"Video available at https://youtube.com/watch?v=\" + video.id)\n",
        "  display(video)\n",
        "\n",
        "out = widgets.Tab([out1, out2])\n",
        "out.set_title(0, 'Youtube')\n",
        "out.set_title(1, 'Bilibili')\n",
        "\n",
        "# add event to airtable\n",
        "atform.add_event('Video 10: Plan with MCTS')\n",
        "\n",
        "display(out)"
      ],
      "execution_count": null,
      "outputs": [
        {
          "output_type": "display_data",
          "data": {
            "application/vnd.jupyter.widget-view+json": {
              "model_id": "af8a9febe8944cc19ece4f366d42648c",
              "version_minor": 0,
              "version_major": 2
            },
            "text/plain": [
              "Tab(children=(Output(), Output()), _titles={'0': 'Youtube', '1': 'Bilibili'})"
            ]
          },
          "metadata": {
            "tags": []
          }
        }
      ]
    },
    {
      "cell_type": "markdown",
      "metadata": {
        "execution": {},
        "id": "-1p8zNyOTdS1"
      },
      "source": [
        "## Bonus Coding Exercise 1: MCTS planner\n",
        "\n",
        "* Plug together pre-built Selection, Expansion & Backpropagation code to complete an MCTS planner.\n",
        "* Deploy the MCTS planner to understand an interesting position, producing value estimates and action counts."
      ]
    },
    {
      "cell_type": "code",
      "metadata": {
        "execution": {},
        "id": "w3IoaLaKTdS1"
      },
      "source": [
        "class MCTS():\n",
        "  \"\"\"\n",
        "  This class handles the MCTS tree.\n",
        "  \"\"\"\n",
        "\n",
        "  def __init__(self, game, nnet, args):\n",
        "    self.game = game\n",
        "    self.nnet = nnet\n",
        "    self.args = args\n",
        "    self.Qsa = {}    # stores Q values for s,a (as defined in the paper)\n",
        "    self.Nsa = {}    # stores #times edge s,a was visited\n",
        "    self.Ns = {}     # stores #times board s was visited\n",
        "    self.Ps = {}     # stores initial policy (returned by neural net)\n",
        "    self.Es = {}     # stores game.getGameEnded ended for board s\n",
        "    self.Vs = {}     # stores game.getValidMoves for board s\n",
        "\n",
        "  def search(self, canonicalBoard):\n",
        "    \"\"\"\n",
        "    This function performs one iteration of MCTS. It is recursively called\n",
        "    till a leaf node is found. The action chosen at each node is one that\n",
        "    has the maximum upper confidence bound as in the paper.\n",
        "\n",
        "    Once a leaf node is found, the neural network is called to return an\n",
        "    initial policy P and a value v for the state. This value is propagated\n",
        "    up the search path. In case the leaf node is a terminal state, the\n",
        "    outcome is propagated up the search path. The values of Ns, Nsa, Qsa are\n",
        "    updated.\n",
        "\n",
        "    NOTE: the return values are the negative of the value of the current\n",
        "    state. This is done since v is in [-1,1] and if v is the value of a\n",
        "    state for the current player, then its value is -v for the other player.\n",
        "\n",
        "    Returns:\n",
        "        v: the negative of the value of the current canonicalBoard\n",
        "    \"\"\"\n",
        "\n",
        "    s = self.game.stringRepresentation(canonicalBoard)\n",
        "\n",
        "    if s not in self.Es:\n",
        "      self.Es[s] = self.game.getGameEnded(canonicalBoard, 1)\n",
        "    if self.Es[s] != 0:\n",
        "      # terminal node\n",
        "      return -self.Es[s]\n",
        "\n",
        "    if s not in self.Ps:\n",
        "      # leaf node\n",
        "      self.Ps[s], v = self.nnet.predict(canonicalBoard)\n",
        "      valids = self.game.getValidMoves(canonicalBoard, 1)\n",
        "      self.Ps[s] = self.Ps[s] * valids  # masking invalid moves\n",
        "      sum_Ps_s = np.sum(self.Ps[s])\n",
        "      if sum_Ps_s > 0:\n",
        "        self.Ps[s] /= sum_Ps_s  # renormalize\n",
        "      else:\n",
        "        # if all valid moves were masked make all valid moves equally probable\n",
        "        # NB! All valid moves may be masked if either your NNet architecture is insufficient or you've get overfitting or something else.\n",
        "        # If you have got dozens or hundreds of these messages you should pay attention to your NNet and/or training process.\n",
        "        log = logging.getLogger(__name__)\n",
        "        log.error(\"All valid moves were masked, doing a workaround.\")\n",
        "        self.Ps[s] = self.Ps[s] + valids\n",
        "        self.Ps[s] /= np.sum(self.Ps[s])\n",
        "\n",
        "      self.Vs[s] = valids\n",
        "      self.Ns[s] = 0\n",
        "\n",
        "      return -v\n",
        "\n",
        "    valids = self.Vs[s]\n",
        "    cur_best = -float('inf')\n",
        "    best_act = -1\n",
        "\n",
        "    # pick the action with the highest upper confidence bound\n",
        "    for a in range(self.game.getActionSize()):\n",
        "      if valids[a]:\n",
        "        if (s, a) in self.Qsa:\n",
        "          u = self.Qsa[(s, a)] + self.args.cpuct * self.Ps[s][a] * math.sqrt(self.Ns[s]) / (1 + self.Nsa[(s, a)])\n",
        "        else:\n",
        "          u = self.args.cpuct * self.Ps[s][a] * math.sqrt(self.Ns[s] + 1e-8)\n",
        "\n",
        "        if u > cur_best:\n",
        "          cur_best = u\n",
        "          best_act = a\n",
        "\n",
        "    a = best_act\n",
        "    next_s, next_player = self.game.getNextState(canonicalBoard, 1, a)\n",
        "    next_s = self.game.getCanonicalForm(next_s, next_player)\n",
        "\n",
        "    v = self.search(next_s)\n",
        "\n",
        "    if (s, a) in self.Qsa:\n",
        "      self.Qsa[(s, a)] = (self.Nsa[(s, a)] * self.Qsa[(s, a)] + v) / (self.Nsa[(s, a)] + 1)\n",
        "      self.Nsa[(s, a)] += 1\n",
        "\n",
        "    else:\n",
        "      self.Qsa[(s, a)] = v\n",
        "      self.Nsa[(s, a)] = 1\n",
        "\n",
        "    self.Ns[s] += 1\n",
        "    return -v\n",
        "\n",
        "  def getNsa(self):\n",
        "    return self.Nsa"
      ],
      "execution_count": null,
      "outputs": []
    },
    {
      "cell_type": "markdown",
      "metadata": {
        "execution": {},
        "id": "hoZo4ZNpTdS2"
      },
      "source": [
        "[*Click for solution*](https://github.com/NeuromatchAcademy/course-content-dl/tree/main//tutorials/W3D3_ReinforcementLearningForGames/solutions/W3D3_Tutorial1_Solution_83be26c4.py)\n",
        "\n"
      ]
    },
    {
      "cell_type": "markdown",
      "metadata": {
        "execution": {},
        "id": "osOdGim1TdS2"
      },
      "source": [
        "---\n",
        "# Bonus 2: Use MCTS to play games\n",
        "\n",
        "*Time estimate: ~10mins*\n"
      ]
    },
    {
      "cell_type": "markdown",
      "metadata": {
        "execution": {},
        "id": "9goYt2W1TdS3"
      },
      "source": [
        "**Goal:** Teach the students how to use the results of an MCTS to play games.\n",
        "\n",
        "**Exercise:** \n",
        "* Plug the MCTS planner into an agent.\n",
        "* Play games against other agents.\n",
        "* Explore the contributions of prior network, value function, number of simulations / time to play, and explore/exploit parameters."
      ]
    },
    {
      "cell_type": "code",
      "metadata": {
        "cellView": "form",
        "execution": {},
        "id": "A6mxCfV3TdS3",
        "colab": {
          "base_uri": "https://localhost:8080/",
          "height": 579,
          "referenced_widgets": [
            "29b8be3b7d5749999b2e49097ee38bbc",
            "8018d282b13a481dbc937bf17faef1a9",
            "b0d5a7e045e44f42a1dfdcea6188940f",
            "0063d635a21f43c8983bdb9966deef22",
            "6793b33576734727a9aa812dc3750724",
            "df0f976313df4d59a664d260f8bf215b"
          ]
        },
        "outputId": "da3d60c4-43c5-4b32-81a1-7845bbbc88e7"
      },
      "source": [
        "# @title Video 11: Play with MCTS\n",
        "from ipywidgets import widgets\n",
        "\n",
        "out2 = widgets.Output()\n",
        "with out2:\n",
        "  from IPython.display import IFrame\n",
        "  class BiliVideo(IFrame):\n",
        "    def __init__(self, id, page=1, width=400, height=300, **kwargs):\n",
        "      self.id=id\n",
        "      src = \"https://player.bilibili.com/player.html?bvid={0}&page={1}\".format(id, page)\n",
        "      super(BiliVideo, self).__init__(src, width, height, **kwargs)\n",
        "\n",
        "  video = BiliVideo(id=f\"BV13q4y1H7H6\", width=854, height=480, fs=1)\n",
        "  print(\"Video available at https://www.bilibili.com/video/{0}\".format(video.id))\n",
        "  display(video)\n",
        "\n",
        "out1 = widgets.Output()\n",
        "with out1:\n",
        "  from IPython.display import YouTubeVideo\n",
        "  video = YouTubeVideo(id=f\"1BRXb-igKAU\", width=854, height=480, fs=1, rel=0)\n",
        "  print(\"Video available at https://youtube.com/watch?v=\" + video.id)\n",
        "  display(video)\n",
        "\n",
        "out = widgets.Tab([out1, out2])\n",
        "out.set_title(0, 'Youtube')\n",
        "out.set_title(1, 'Bilibili')\n",
        "\n",
        "# add event to airtable\n",
        "atform.add_event('Video 11: Play with MCTS')\n",
        "\n",
        "display(out)"
      ],
      "execution_count": null,
      "outputs": [
        {
          "output_type": "display_data",
          "data": {
            "application/vnd.jupyter.widget-view+json": {
              "model_id": "29b8be3b7d5749999b2e49097ee38bbc",
              "version_minor": 0,
              "version_major": 2
            },
            "text/plain": [
              "Tab(children=(Output(), Output()), _titles={'0': 'Youtube', '1': 'Bilibili'})"
            ]
          },
          "metadata": {
            "tags": []
          }
        }
      ]
    },
    {
      "cell_type": "markdown",
      "metadata": {
        "execution": {},
        "id": "zfC7B2QvTdS4"
      },
      "source": [
        "## Bonus Coding Exercise 2: Agent that uses an MCTS planner\n",
        "\n",
        "* Plug the MCTS planner into an agent.\n",
        "* Play games against other agents.\n",
        "* Explore the contributions of prior network, value function, number of simulations / time to play, and explore/exploit parameters."
      ]
    },
    {
      "cell_type": "code",
      "metadata": {
        "execution": {},
        "id": "PlEvnc6NTdS4"
      },
      "source": [
        "# Load MCTS model from the repository\n",
        "mcts_model_save_name = 'MCTS.pth.tar'\n",
        "path = \"nma_rl_games/alpha-zero/pretrained_models/models/\""
      ],
      "execution_count": null,
      "outputs": []
    },
    {
      "cell_type": "code",
      "metadata": {
        "execution": {},
        "id": "yy5uxbAlTdS4"
      },
      "source": [
        "class MonteCarloTreeSearchBasedPlayer():\n",
        "  def __init__(self, game, nnet, args):\n",
        "    self.game = game\n",
        "    self.nnet = nnet\n",
        "    self.args = args\n",
        "    self.mcts = MCTS(game, nnet, args)\n",
        "\n",
        "  def play(self, canonicalBoard, temp=1):\n",
        "    for i in range(self.args.numMCTSSims):\n",
        "      self.mcts.search(canonicalBoard)\n",
        "\n",
        "    s = self.game.stringRepresentation(canonicalBoard)\n",
        "    self.Nsa = self.mcts.getNsa()\n",
        "    self.counts = [self.Nsa[(s, a)] if (s, a) in self.Nsa else 0 for a in range(self.game.getActionSize())]\n",
        "\n",
        "    if temp == 0:\n",
        "      bestAs = np.array(np.argwhere(self.counts == np.max(self.counts))).flatten()\n",
        "      bestA = np.random.choice(bestAs)\n",
        "      probs = [0] * len(self.counts)\n",
        "      probs[bestA] = 1\n",
        "      return probs\n",
        "\n",
        "    self.counts = [x ** (1. / temp) for x in self.counts]\n",
        "    self.counts_sum = float(sum(self.counts))\n",
        "    probs = [x / self.counts_sum for x in self.counts]\n",
        "    return np.argmax(probs)\n",
        "\n",
        "  def getActionProb(self, canonicalBoard, temp=1):\n",
        "    action_probs = np.zeros((self.game.getActionSize()))\n",
        "    best_action = self.play(canonicalBoard)\n",
        "    action_probs[best_action] = 1\n",
        "\n",
        "    return action_probs\n",
        "\n",
        "\n",
        "set_seed(seed=SEED)\n",
        "game = OthelloGame(6)\n",
        "rp = RandomPlayer(game).play  # all players\n",
        "num_games = 20  # games\n",
        "n1 = NNet(game)  # nnet players\n",
        "n1.load_checkpoint(folder=path, filename=mcts_model_save_name)\n",
        "args1 = dotdict({'numMCTSSims': 50, 'cpuct':1.0})\n",
        "\n",
        "## Uncomment below to check your agent!\n",
        "print('\\n******MCTS player versus random player******')\n",
        "mcts1 = MonteCarloTreeSearchBasedPlayer(game, n1, args1)\n",
        "n1p = lambda x: np.argmax(mcts1.getActionProb(x, temp=0))\n",
        "arena = Arena.Arena(n1p, rp, game, display=OthelloGame.display)\n",
        "MCTS_result = arena.playGames(num_games, verbose=False)\n",
        "print(f\"\\n\\n{MCTS_result}\")\n",
        "print(f\"\\nNumber of games won by player1 = {MCTS_result[0]}, \"\n",
        "      f\"number of games won by player2 = {MCTS_result[1]}, out of {num_games} games\")\n",
        "win_rate_player1 = MCTS_result[0]/num_games\n",
        "print(f\"\\nWin rate for player1 over {num_games} games: {round(win_rate_player1*100, 1)}%\")"
      ],
      "execution_count": null,
      "outputs": []
    },
    {
      "cell_type": "markdown",
      "metadata": {
        "execution": {},
        "id": "heeiDF0qTdS5"
      },
      "source": [
        "[*Click for solution*](https://github.com/NeuromatchAcademy/course-content-dl/tree/main//tutorials/W3D3_ReinforcementLearningForGames/solutions/W3D3_Tutorial1_Solution_80778c6b.py)\n",
        "\n"
      ]
    },
    {
      "cell_type": "markdown",
      "metadata": {
        "execution": {},
        "id": "HyjrrkuzTdS5"
      },
      "source": [
        "```\n",
        "Number of games won by player1 = 19, num of games won by player2 = 1, out of 20 games\n",
        "\n",
        "Win rate for player1 over 20 games: 95.0%\n",
        "```"
      ]
    },
    {
      "cell_type": "markdown",
      "metadata": {
        "execution": {},
        "id": "QNf2ohBUTdS6"
      },
      "source": [
        "### MCTS player against Value-based player"
      ]
    },
    {
      "cell_type": "code",
      "metadata": {
        "execution": {},
        "id": "BsJBfmjxTdS6"
      },
      "source": [
        "print('\\n******MCTS player versus value-based player******')\n",
        "set_seed(seed=SEED)\n",
        "vp = ValueBasedPlayer(game, vnet).play  # value-based player\n",
        "arena = Arena.Arena(n1p, vp, game, display=OthelloGame.display)\n",
        "MC_result = arena.playGames(num_games, verbose=False)\n",
        "print(f\"\\n\\n{MC_result}\")\n",
        "print(f\"\\nNumber of games won by player1 = {MC_result[0]}, \"\n",
        "      f\"number of games won by player2 = {MC_result[1]}, out of {num_games} games\")\n",
        "win_rate_player1 = MC_result[0]/num_games\n",
        "print(f\"\\nWin rate for player1 over {num_games} games: {round(win_rate_player1*100, 1)}%\")"
      ],
      "execution_count": null,
      "outputs": []
    },
    {
      "cell_type": "markdown",
      "metadata": {
        "execution": {},
        "id": "iQ7K_EOUTdS6"
      },
      "source": [
        "```\n",
        "Number of games won by player1 = 14, number of games won by player2 = 6, out of 20 games\n",
        "\n",
        "Win rate for player1 over 20 games: 70.0%\n",
        "```"
      ]
    },
    {
      "cell_type": "markdown",
      "metadata": {
        "execution": {},
        "id": "74wCWk8-TdS7"
      },
      "source": [
        "### MCTS player against Policy-based player"
      ]
    },
    {
      "cell_type": "code",
      "metadata": {
        "execution": {},
        "id": "nULra6j2TdS7"
      },
      "source": [
        "print('\\n******MCTS player versus policy-based player******')\n",
        "set_seed(seed=SEED)\n",
        "pp = PolicyBasedPlayer(game, pnet).play  # policy-based player\n",
        "arena = Arena.Arena(n1p, pp, game, display=OthelloGame.display)\n",
        "MC_result = arena.playGames(num_games, verbose=False)\n",
        "print(f\"\\n\\n{MC_result}\")\n",
        "print(f\"\\nNumber of games won by player1 = {MC_result[0]}, \"\n",
        "      f\"number of games won by player2 = {MC_result[1]}, out of {num_games} games\")\n",
        "win_rate_player1 = MC_result[0]/num_games\n",
        "print(f\"\\nWin rate for player1 over {num_games} games: {round(win_rate_player1*100, 1)}%\")"
      ],
      "execution_count": null,
      "outputs": []
    },
    {
      "cell_type": "markdown",
      "metadata": {
        "execution": {},
        "id": "Hl98FQygTdS7"
      },
      "source": [
        "```\n",
        "Number of games won by player1 = 20, number of games won by player2 = 0, out of 20 games\n",
        "\n",
        "Win rate for player1 over 20 games: 100.0%\n",
        "```"
      ]
    }
  ]
}