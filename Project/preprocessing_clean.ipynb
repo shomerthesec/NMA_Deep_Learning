{
  "nbformat": 4,
  "nbformat_minor": 0,
  "metadata": {
    "colab": {
      "name": "preprocessing -- clean",
      "provenance": [],
      "collapsed_sections": []
    },
    "kernelspec": {
      "name": "python3",
      "display_name": "Python 3"
    },
    "language_info": {
      "name": "python"
    }
  },
  "cells": [
    {
      "cell_type": "code",
      "metadata": {
        "id": "bUgr-NZFV8Dx"
      },
      "source": [
        "# Import necessary libraries.\n",
        "import os\n",
        "import glob\n",
        "import imageio\n",
        "import random, shutil\n",
        "import torch\n",
        "import torch.nn as nn\n",
        "from tqdm.notebook import tqdm\n",
        "import torch.nn.functional as F\n",
        "import torchvision.datasets as datasets\n",
        "import torchvision.transforms as transforms\n",
        "import numpy as np\n",
        "import matplotlib.pyplot as plt\n",
        "import IPython.display as display\n",
        "import librosa\n",
        "import librosa.display"
      ],
      "execution_count": null,
      "outputs": []
    },
    {
      "cell_type": "code",
      "metadata": {
        "id": "CEPKeTVmV-k3"
      },
      "source": [
        "import requests\n",
        "\n",
        "fname = \"music.zip\"\n",
        "url = \"https://osf.io/drjhb/download\"\n",
        "\n",
        "if not os.path.isfile(fname):\n",
        "  try:\n",
        "    r = requests.get(url)\n",
        "  except requests.ConnectionError:\n",
        "    print(\"!!! Failed to download data !!!\")\n",
        "  else:\n",
        "    if r.status_code != requests.codes.ok:\n",
        "      print(\"!!! Failed to download data !!!\")\n",
        "    else:\n",
        "      with open(fname, \"wb\") as fid:\n",
        "        fid.write(r.content)"
      ],
      "execution_count": null,
      "outputs": []
    },
    {
      "cell_type": "code",
      "metadata": {
        "id": "8c-m6-5WV_4c"
      },
      "source": [
        "from zipfile import ZipFile\n",
        "\n",
        "with ZipFile(fname, 'r') as zipObj:\n",
        "  # Extract all the contents of zip file in different directory\n",
        "  zipObj.extractall()"
      ],
      "execution_count": null,
      "outputs": []
    },
    {
      "cell_type": "code",
      "metadata": {
        "id": "_P6ardDaWBjv"
      },
      "source": [
        "import pandas as pd\n",
        "import shutil"
      ],
      "execution_count": null,
      "outputs": []
    },
    {
      "cell_type": "code",
      "metadata": {
        "id": "st8Ncmi5WDH_"
      },
      "source": [
        "dir= 'Data/genres_original/' # the dir with all the genres\n",
        "new_dir= 'new_music' # new dir for us\n",
        "\n",
        "shutil.rmtree(new_dir, ignore_errors = False)\n",
        "os.mkdir(new_dir)\n",
        "genre_dict={}\n",
        "for genre in os.listdir( dir ):\n",
        "    genre_dir= dir+genre \n",
        "  \n",
        "    os.mkdir(f'{new_dir}/{genre}')\n",
        "\n",
        "    genre_dict[genre]= []\n",
        "    print(f'we are in {genre} directory')\n",
        "    use_this_dir= f'{new_dir}/{genre}' # move files here\n",
        "    for music_file in os.listdir(genre_dir): # this is the music file name\n",
        "        music_loc =os.path.join( genre_dir ,music_file) # the address for the music file\n",
        "        \n",
        "        try:\n",
        "            y, sr = librosa.load(music_loc)\n",
        "            y_resamble= librosa.resample(y, 22050, 11025) # using subsampling\n",
        "\n",
        "            S = librosa.feature.melspectrogram( y_resamble, sr=11025 )\n",
        "            S_DB = librosa.amplitude_to_db(S, ref=np.max)\n",
        "\n",
        "            genre_dict[genre].append( S_DB )  # tries to add the signal to the genre\n",
        "\n",
        "        except:\n",
        "            print('error')"
      ],
      "execution_count": null,
      "outputs": []
    },
    {
      "cell_type": "code",
      "metadata": {
        "id": "WATdVurZWGwB"
      },
      "source": [
        "# taking only 99 signals instead of 100 because we have 1 faulty file inside genre: jazz\n",
        "for arr in genre_dict.keys():\n",
        "    if arr == 'jazz':\n",
        "        pass\n",
        "    else:\n",
        "        del genre_dict[arr][-1]"
      ],
      "execution_count": null,
      "outputs": []
    },
    {
      "cell_type": "code",
      "metadata": {
        "id": "_RUu2_CEWKOJ"
      },
      "source": [
        "df= pd.DataFrame( genre_dict)# , dtype= np.float32 )"
      ],
      "execution_count": null,
      "outputs": []
    },
    {
      "cell_type": "code",
      "metadata": {
        "id": "NYSVV5A1WLmh"
      },
      "source": [
        "df_as_array= df.to_numpy()"
      ],
      "execution_count": null,
      "outputs": []
    },
    {
      "cell_type": "code",
      "metadata": {
        "id": "L7fcLA2FWOfF"
      },
      "source": [
        "np.save('data_array.npy' , df_as_array  )"
      ],
      "execution_count": null,
      "outputs": []
    },
    {
      "cell_type": "code",
      "metadata": {
        "id": "YqClM8gtWXpy"
      },
      "source": [
        "data_tmp = np.load('/content/data_array.npy' , allow_pickle=True)"
      ],
      "execution_count": null,
      "outputs": []
    },
    {
      "cell_type": "code",
      "metadata": {
        "id": "xA0uyqN4Wj5G"
      },
      "source": [
        "data= pd.DataFrame(data_tmp)"
      ],
      "execution_count": null,
      "outputs": []
    },
    {
      "cell_type": "code",
      "metadata": {
        "id": "Jr900kU2WSct"
      },
      "source": [
        "# creating X for the signals\n",
        "# y for the labels\n",
        "y=[]\n",
        "x=[]\n",
        "for label in data:\n",
        "    for sig in data[label]:\n",
        "        y.append(label)\n",
        "        x.append(sig)\n"
      ],
      "execution_count": null,
      "outputs": []
    },
    {
      "cell_type": "code",
      "metadata": {
        "id": "x6P-HGiQWnjR"
      },
      "source": [
        "tmp_arr=np.zeros((990,1,128,645))\n",
        "for i in range(tmp_df.shape[0]):\n",
        "    tmp_arr[i]=tmp_df.iloc[i][0][:,:645]"
      ],
      "execution_count": null,
      "outputs": []
    },
    {
      "cell_type": "code",
      "metadata": {
        "id": "X30LRkfLWtWC"
      },
      "source": [
        "X= np.squeeze( tmp_arr.copy())"
      ],
      "execution_count": null,
      "outputs": []
    },
    {
      "cell_type": "code",
      "metadata": {
        "id": "t8OpI3NlWvwd"
      },
      "source": [
        "y=tmp_df.index.to_numpy()"
      ],
      "execution_count": null,
      "outputs": []
    },
    {
      "cell_type": "markdown",
      "metadata": {
        "id": "4uKNP15JW4Rd"
      },
      "source": [
        "## saving the features and labels"
      ]
    },
    {
      "cell_type": "code",
      "metadata": {
        "id": "dARpGZL5WyIz"
      },
      "source": [
        "np.save( 'features.npy',X)\n",
        "np.save('labels.npy' ,y)"
      ],
      "execution_count": null,
      "outputs": []
    },
    {
      "cell_type": "markdown",
      "metadata": {
        "id": "joXhycNrW60A"
      },
      "source": [
        "# loading the data"
      ]
    },
    {
      "cell_type": "code",
      "metadata": {
        "id": "-bMhInlsW4Bo"
      },
      "source": [
        "x_load= np.load('features.npy')\n",
        "y_load= np.load('labels.npy')"
      ],
      "execution_count": null,
      "outputs": []
    },
    {
      "cell_type": "code",
      "metadata": {
        "id": "9qKBZI2fWz6F"
      },
      "source": [
        "from  sklearn.model_selection import train_test_split \n",
        "x_train , x_test , y_train , y_test = train_test_split( x_load , y_load , train_size=0.8)\n",
        "\n",
        "# changing them into torch format\n",
        "x_train = torch.tensor(x_train )\n",
        "x_test = torch.tensor(x_test)\n",
        "\n",
        "y_train =torch.tensor(y_train).type(torch.IntTensor) \n",
        "y_test = torch.tensor(y_test).type(torch.IntTensor)\n",
        "\n",
        "train = torch.utils.data.TensorDataset(x_train,y_train)\n",
        "test = torch.utils.data.TensorDataset(x_test,y_test)"
      ],
      "execution_count": null,
      "outputs": []
    }
  ]
}