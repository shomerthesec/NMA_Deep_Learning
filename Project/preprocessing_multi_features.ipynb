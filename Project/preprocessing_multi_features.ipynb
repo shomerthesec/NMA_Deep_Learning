{
  "nbformat": 4,
  "nbformat_minor": 0,
  "metadata": {
    "colab": {
      "name": "preprocessing_multi_features.ipynb",
      "provenance": [],
      "collapsed_sections": []
    },
    "kernelspec": {
      "name": "python3",
      "display_name": "Python 3"
    },
    "language_info": {
      "name": "python"
    }
  },
  "cells": [
    {
      "cell_type": "code",
      "metadata": {
        "id": "bUgr-NZFV8Dx"
      },
      "source": [
        "# Import necessary libraries.\n",
        "import os\n",
        "import glob\n",
        "import imageio\n",
        "import random, shutil\n",
        "import torch\n",
        "import torch.nn as nn\n",
        "from tqdm.notebook import tqdm\n",
        "import torch.nn.functional as F\n",
        "import torchvision.datasets as datasets\n",
        "import torchvision.transforms as transforms\n",
        "import numpy as np\n",
        "import matplotlib.pyplot as plt\n",
        "import IPython.display as display\n",
        "import librosa\n",
        "import librosa.display"
      ],
      "execution_count": 1,
      "outputs": []
    },
    {
      "cell_type": "code",
      "metadata": {
        "id": "CEPKeTVmV-k3"
      },
      "source": [
        "import requests\n",
        "\n",
        "fname = \"music.zip\"\n",
        "url = \"https://osf.io/drjhb/download\"\n",
        "\n",
        "if not os.path.isfile(fname):\n",
        "  try:\n",
        "    r = requests.get(url)\n",
        "  except requests.ConnectionError:\n",
        "    print(\"!!! Failed to download data !!!\")\n",
        "  else:\n",
        "    if r.status_code != requests.codes.ok:\n",
        "      print(\"!!! Failed to download data !!!\")\n",
        "    else:\n",
        "      with open(fname, \"wb\") as fid:\n",
        "        fid.write(r.content)"
      ],
      "execution_count": 2,
      "outputs": []
    },
    {
      "cell_type": "code",
      "metadata": {
        "id": "8c-m6-5WV_4c"
      },
      "source": [
        "from zipfile import ZipFile\n",
        "\n",
        "with ZipFile(fname, 'r') as zipObj:\n",
        "  # Extract all the contents of zip file in different directory\n",
        "  zipObj.extractall()"
      ],
      "execution_count": 3,
      "outputs": []
    },
    {
      "cell_type": "code",
      "metadata": {
        "id": "_P6ardDaWBjv"
      },
      "source": [
        "import pandas as pd\n",
        "import shutil"
      ],
      "execution_count": 4,
      "outputs": []
    },
    {
      "cell_type": "code",
      "metadata": {
        "colab": {
          "base_uri": "https://localhost:8080/"
        },
        "id": "0WpktV2OlCku",
        "outputId": "bc856d3e-8df3-4e7b-93e8-35b0001dc904"
      },
      "source": [
        "sample_path = 'Data/genres_original/jazz/jazz.00000.wav'\n",
        "y, sample_rate = librosa.load(sample_path)\n",
        "y_resamble= librosa.resample(y, 22050, 11025)\n",
        "librosa.feature.chroma_stft(y_resamble ,11025  ) .shape"
      ],
      "execution_count": 6,
      "outputs": [
        {
          "output_type": "execute_result",
          "data": {
            "text/plain": [
              "(12, 647)"
            ]
          },
          "metadata": {
            "tags": []
          },
          "execution_count": 6
        }
      ]
    },
    {
      "cell_type": "markdown",
      "metadata": {
        "id": "DO_0qAwglX0D"
      },
      "source": [
        ""
      ]
    },
    {
      "cell_type": "code",
      "metadata": {
        "id": "st8Ncmi5WDH_",
        "colab": {
          "base_uri": "https://localhost:8080/"
        },
        "outputId": "ad935ef1-a722-4fed-cd35-d5c29c3b3105"
      },
      "source": [
        "dir= 'Data/genres_original/' # the dir with all the genres\n",
        "new_dir= 'new_music' # new dir for us\n",
        "try:\n",
        "    shutil.rmtree(new_dir, ignore_errors = False)\n",
        "except:\n",
        "    print('no file continue')\n",
        "os.mkdir(new_dir)\n",
        "genre_dict={}\n",
        "for genre in os.listdir( dir ):\n",
        "    genre_dir= dir+genre \n",
        "  \n",
        "    os.mkdir(f'{new_dir}/{genre}')\n",
        "\n",
        "    genre_dict[genre]= []\n",
        "    print(f'we are in {genre} directory')\n",
        "    use_this_dir= f'{new_dir}/{genre}' # move files here\n",
        "    for music_file in os.listdir(genre_dir): # this is the music file name\n",
        "        music_loc =os.path.join( genre_dir ,music_file) # the address for the music file\n",
        "        \n",
        "        try:\n",
        "            y, sr = librosa.load(music_loc)\n",
        "            y_resamble= librosa.resample(y, 22050, 11025) # using subsampling\n",
        "            S_C= librosa.feature.spectral_centroid( y_resamble, sr=11025  )\n",
        "            S_RO= librosa.feature.spectral_rolloff( y_resamble, sr=11025  )\n",
        "            C_STFT= librosa.feature.chroma_stft( y_resamble, sr=11025  )\n",
        "            S = librosa.feature.melspectrogram( y_resamble, sr=11025  )\n",
        "            S_DB = librosa.amplitude_to_db(S, ref=np.max)\n",
        "\n",
        "            genre_dict[genre].append( [S_DB, S_C , S_RO , C_STFT ] )  # tries to add the signal to the genre\n",
        "\n",
        "        except:\n",
        "            print('error')"
      ],
      "execution_count": 7,
      "outputs": [
        {
          "output_type": "stream",
          "text": [
            "we are in jazz directory\n"
          ],
          "name": "stdout"
        },
        {
          "output_type": "stream",
          "text": [
            "/usr/local/lib/python3.7/dist-packages/librosa/core/audio.py:165: UserWarning: PySoundFile failed. Trying audioread instead.\n",
            "  warnings.warn(\"PySoundFile failed. Trying audioread instead.\")\n"
          ],
          "name": "stderr"
        },
        {
          "output_type": "stream",
          "text": [
            "error\n",
            "we are in pop directory\n",
            "we are in country directory\n",
            "we are in rock directory\n",
            "we are in blues directory\n",
            "we are in hiphop directory\n",
            "we are in classical directory\n",
            "we are in metal directory\n",
            "we are in disco directory\n",
            "we are in reggae directory\n"
          ],
          "name": "stdout"
        }
      ]
    },
    {
      "cell_type": "code",
      "metadata": {
        "id": "WATdVurZWGwB"
      },
      "source": [
        "# taking only 99 signals instead of 100 because we have 1 faulty file inside genre: jazz\n",
        "for arr in genre_dict.keys():\n",
        "    if arr == 'jazz':\n",
        "        pass\n",
        "    else:\n",
        "        del genre_dict[arr][-1]"
      ],
      "execution_count": 8,
      "outputs": []
    },
    {
      "cell_type": "code",
      "metadata": {
        "id": "_RUu2_CEWKOJ",
        "colab": {
          "base_uri": "https://localhost:8080/",
          "height": 474
        },
        "outputId": "c458e64e-bbf4-4d3e-b332-0b6cc8098372"
      },
      "source": [
        "df= pd.DataFrame( genre_dict)# , dtype= np.float32 )\n",
        "df.head()"
      ],
      "execution_count": 9,
      "outputs": [
        {
          "output_type": "execute_result",
          "data": {
            "text/html": [
              "<div>\n",
              "<style scoped>\n",
              "    .dataframe tbody tr th:only-of-type {\n",
              "        vertical-align: middle;\n",
              "    }\n",
              "\n",
              "    .dataframe tbody tr th {\n",
              "        vertical-align: top;\n",
              "    }\n",
              "\n",
              "    .dataframe thead th {\n",
              "        text-align: right;\n",
              "    }\n",
              "</style>\n",
              "<table border=\"1\" class=\"dataframe\">\n",
              "  <thead>\n",
              "    <tr style=\"text-align: right;\">\n",
              "      <th></th>\n",
              "      <th>jazz</th>\n",
              "      <th>pop</th>\n",
              "      <th>country</th>\n",
              "      <th>rock</th>\n",
              "      <th>blues</th>\n",
              "      <th>hiphop</th>\n",
              "      <th>classical</th>\n",
              "      <th>metal</th>\n",
              "      <th>disco</th>\n",
              "      <th>reggae</th>\n",
              "    </tr>\n",
              "  </thead>\n",
              "  <tbody>\n",
              "    <tr>\n",
              "      <th>0</th>\n",
              "      <td>[[[-65.298096, -70.04863, -77.817276, -80.0, -...</td>\n",
              "      <td>[[[-71.087036, -75.05148, -80.0, -80.0, -80.0,...</td>\n",
              "      <td>[[[-46.835487, -58.266075, -80.0, -80.0, -67.5...</td>\n",
              "      <td>[[[-71.120415, -78.295044, -80.0, -73.21907, -...</td>\n",
              "      <td>[[[-80.0, -80.0, -80.0, -80.0, -80.0, -80.0, -...</td>\n",
              "      <td>[[[-37.62037, -46.842506, -59.62098, -45.18292...</td>\n",
              "      <td>[[[-80.0, -80.0, -80.0, -76.15962, -69.93909, ...</td>\n",
              "      <td>[[[-41.019203, -52.859505, -80.0, -80.0, -80.0...</td>\n",
              "      <td>[[[-80.0, -80.0, -80.0, -80.0, -80.0, -80.0, -...</td>\n",
              "      <td>[[[-80.0, -80.0, -80.0, -80.0, -80.0, -80.0, -...</td>\n",
              "    </tr>\n",
              "    <tr>\n",
              "      <th>1</th>\n",
              "      <td>[[[-64.74619, -74.24568, -80.0, -80.0, -80.0, ...</td>\n",
              "      <td>[[[-77.5818, -80.0, -80.0, -80.0, -80.0, -80.0...</td>\n",
              "      <td>[[[-55.32198, -68.65732, -80.0, -80.0, -80.0, ...</td>\n",
              "      <td>[[[-55.925564, -66.73613, -80.0, -80.0, -80.0,...</td>\n",
              "      <td>[[[-55.552357, -67.591354, -80.0, -80.0, -80.0...</td>\n",
              "      <td>[[[-39.519073, -51.55992, -80.0, -80.0, -80.0,...</td>\n",
              "      <td>[[[-80.0, -80.0, -80.0, -80.0, -80.0, -80.0, -...</td>\n",
              "      <td>[[[-46.913574, -47.10653, -35.61605, -41.73833...</td>\n",
              "      <td>[[[-33.52887, -45.750977, -72.40613, -69.67498...</td>\n",
              "      <td>[[[-80.0, -79.159966, -77.46018, -80.0, -80.0,...</td>\n",
              "    </tr>\n",
              "    <tr>\n",
              "      <th>2</th>\n",
              "      <td>[[[-80.0, -80.0, -80.0, -80.0, -80.0, -80.0, -...</td>\n",
              "      <td>[[[-80.0, -74.938545, -63.9778, -59.64665, -59...</td>\n",
              "      <td>[[[-72.3529, -79.62429, -80.0, -72.23688, -71....</td>\n",
              "      <td>[[[-44.20174, -52.632538, -62.276447, -61.7302...</td>\n",
              "      <td>[[[-47.816505, -55.820377, -64.73056, -60.7971...</td>\n",
              "      <td>[[[-65.22782, -75.527054, -80.0, -80.0, -80.0,...</td>\n",
              "      <td>[[[-58.97224, -59.695835, -61.236443, -59.2669...</td>\n",
              "      <td>[[[-45.245186, -47.934055, -41.114285, -49.475...</td>\n",
              "      <td>[[[-80.0, -80.0, -80.0, -80.0, -80.0, -80.0, -...</td>\n",
              "      <td>[[[-80.0, -80.0, -80.0, -80.0, -73.41835, -68....</td>\n",
              "    </tr>\n",
              "    <tr>\n",
              "      <th>3</th>\n",
              "      <td>[[[-67.64529, -60.859486, -56.007336, -54.7370...</td>\n",
              "      <td>[[[-65.58223, -70.38751, -70.984955, -80.0, -8...</td>\n",
              "      <td>[[[-64.84816, -56.42335, -48.77673, -50.60338,...</td>\n",
              "      <td>[[[-52.912495, -52.859367, -60.448555, -73.025...</td>\n",
              "      <td>[[[-64.39882, -62.83524, -58.741096, -58.94006...</td>\n",
              "      <td>[[[-60.656006, -67.13735, -70.674904, -61.2579...</td>\n",
              "      <td>[[[-80.0, -80.0, -80.0, -80.0, -80.0, -80.0, -...</td>\n",
              "      <td>[[[-77.368744, -79.86925, -80.0, -80.0, -80.0,...</td>\n",
              "      <td>[[[-51.39866, -51.435326, -51.838654, -61.5722...</td>\n",
              "      <td>[[[-53.92138, -64.062325, -80.0, -80.0, -80.0,...</td>\n",
              "    </tr>\n",
              "    <tr>\n",
              "      <th>4</th>\n",
              "      <td>[[[-56.985027, -68.57016, -64.7605, -55.85546,...</td>\n",
              "      <td>[[[-80.0, -80.0, -80.0, -80.0, -80.0, -80.0, -...</td>\n",
              "      <td>[[[-57.02016, -68.89549, -80.0, -80.0, -58.502...</td>\n",
              "      <td>[[[-60.12925, -57.828476, -55.82229, -47.68387...</td>\n",
              "      <td>[[[-47.42361, -55.557312, -68.46201, -72.0973,...</td>\n",
              "      <td>[[[-57.81318, -64.48157, -80.0, -80.0, -80.0, ...</td>\n",
              "      <td>[[[-80.0, -80.0, -80.0, -80.0, -80.0, -80.0, -...</td>\n",
              "      <td>[[[-80.0, -80.0, -80.0, -80.0, -80.0, -80.0, -...</td>\n",
              "      <td>[[[-48.585335, -60.65073, -80.0, -80.0, -80.0,...</td>\n",
              "      <td>[[[-80.0, -80.0, -80.0, -80.0, -80.0, -80.0, -...</td>\n",
              "    </tr>\n",
              "  </tbody>\n",
              "</table>\n",
              "</div>"
            ],
            "text/plain": [
              "                                                jazz  ...                                             reggae\n",
              "0  [[[-65.298096, -70.04863, -77.817276, -80.0, -...  ...  [[[-80.0, -80.0, -80.0, -80.0, -80.0, -80.0, -...\n",
              "1  [[[-64.74619, -74.24568, -80.0, -80.0, -80.0, ...  ...  [[[-80.0, -79.159966, -77.46018, -80.0, -80.0,...\n",
              "2  [[[-80.0, -80.0, -80.0, -80.0, -80.0, -80.0, -...  ...  [[[-80.0, -80.0, -80.0, -80.0, -73.41835, -68....\n",
              "3  [[[-67.64529, -60.859486, -56.007336, -54.7370...  ...  [[[-53.92138, -64.062325, -80.0, -80.0, -80.0,...\n",
              "4  [[[-56.985027, -68.57016, -64.7605, -55.85546,...  ...  [[[-80.0, -80.0, -80.0, -80.0, -80.0, -80.0, -...\n",
              "\n",
              "[5 rows x 10 columns]"
            ]
          },
          "metadata": {
            "tags": []
          },
          "execution_count": 9
        }
      ]
    },
    {
      "cell_type": "code",
      "metadata": {
        "colab": {
          "base_uri": "https://localhost:8080/"
        },
        "id": "ByqZcukevxRu",
        "outputId": "a6e09511-8906-4a2b-b9f9-90e2b9c2a1b6"
      },
      "source": [
        "print( df.jazz[0][0].shape , 'for S_DB' )\n",
        "print(df.jazz[0][1].shape  , 'for S_C' )\n",
        "print(df.jazz[0][2].shape , ' for S_RO ')\n",
        "print(df.jazz[0][3].shape , 'for C_STFT ')"
      ],
      "execution_count": 22,
      "outputs": [
        {
          "output_type": "stream",
          "text": [
            "(128, 647) for S_DB\n",
            "(1, 647) for S_C\n",
            "(1, 647)  for S_RO \n",
            "(12, 647) for C_STFT \n"
          ],
          "name": "stdout"
        }
      ]
    },
    {
      "cell_type": "code",
      "metadata": {
        "id": "NYSVV5A1WLmh"
      },
      "source": [
        "df_as_array= df.to_numpy()"
      ],
      "execution_count": 14,
      "outputs": []
    },
    {
      "cell_type": "code",
      "metadata": {
        "colab": {
          "base_uri": "https://localhost:8080/"
        },
        "id": "gpa49jovv8Pu",
        "outputId": "ca07b4c2-37f8-43b0-a619-49f3fed7d070"
      },
      "source": [
        "# first dim for class , sec for audio file , third for feature\n",
        "print( df_as_array[0][0][0].shape , 'for S_DB' )\n",
        "print(df_as_array[0][0][1].shape  , 'for S_C' )\n",
        "print(df_as_array[0][0][2].shape , ' for S_RO ')\n",
        "print(df_as_array[0][0][3].shape , 'for C_STFT ')"
      ],
      "execution_count": 25,
      "outputs": [
        {
          "output_type": "stream",
          "text": [
            "(128, 647) for S_DB\n",
            "(1, 647) for S_C\n",
            "(1, 647)  for S_RO \n",
            "(12, 647) for C_STFT \n"
          ],
          "name": "stdout"
        }
      ]
    },
    {
      "cell_type": "code",
      "metadata": {
        "id": "L7fcLA2FWOfF"
      },
      "source": [
        "np.save('4_features_array.npy' , df_as_array  )"
      ],
      "execution_count": 27,
      "outputs": []
    },
    {
      "cell_type": "markdown",
      "metadata": {
        "id": "MbbOxleXxJ75"
      },
      "source": [
        "# for loading the data"
      ]
    },
    {
      "cell_type": "code",
      "metadata": {
        "id": "YqClM8gtWXpy"
      },
      "source": [
        "data_tmp = np.load('/content/4_features_array.npy' , allow_pickle=True)"
      ],
      "execution_count": 28,
      "outputs": []
    },
    {
      "cell_type": "code",
      "metadata": {
        "id": "xA0uyqN4Wj5G"
      },
      "source": [
        "data= pd.DataFrame(data_tmp)"
      ],
      "execution_count": 29,
      "outputs": []
    },
    {
      "cell_type": "code",
      "metadata": {
        "colab": {
          "base_uri": "https://localhost:8080/",
          "height": 474
        },
        "id": "Z8yeEwtU1QPd",
        "outputId": "79b4d236-8242-446c-c219-8832d7d2f2ff"
      },
      "source": [
        "data.head()"
      ],
      "execution_count": 82,
      "outputs": [
        {
          "output_type": "execute_result",
          "data": {
            "text/html": [
              "<div>\n",
              "<style scoped>\n",
              "    .dataframe tbody tr th:only-of-type {\n",
              "        vertical-align: middle;\n",
              "    }\n",
              "\n",
              "    .dataframe tbody tr th {\n",
              "        vertical-align: top;\n",
              "    }\n",
              "\n",
              "    .dataframe thead th {\n",
              "        text-align: right;\n",
              "    }\n",
              "</style>\n",
              "<table border=\"1\" class=\"dataframe\">\n",
              "  <thead>\n",
              "    <tr style=\"text-align: right;\">\n",
              "      <th></th>\n",
              "      <th>0</th>\n",
              "      <th>1</th>\n",
              "      <th>2</th>\n",
              "      <th>3</th>\n",
              "      <th>4</th>\n",
              "      <th>5</th>\n",
              "      <th>6</th>\n",
              "      <th>7</th>\n",
              "      <th>8</th>\n",
              "      <th>9</th>\n",
              "    </tr>\n",
              "  </thead>\n",
              "  <tbody>\n",
              "    <tr>\n",
              "      <th>0</th>\n",
              "      <td>[[[-65.298096, -70.04863, -77.817276, -80.0, -...</td>\n",
              "      <td>[[[-71.087036, -75.05148, -80.0, -80.0, -80.0,...</td>\n",
              "      <td>[[[-46.835487, -58.266075, -80.0, -80.0, -67.5...</td>\n",
              "      <td>[[[-71.120415, -78.295044, -80.0, -73.21907, -...</td>\n",
              "      <td>[[[-80.0, -80.0, -80.0, -80.0, -80.0, -80.0, -...</td>\n",
              "      <td>[[[-37.62037, -46.842506, -59.62098, -45.18292...</td>\n",
              "      <td>[[[-80.0, -80.0, -80.0, -76.15962, -69.93909, ...</td>\n",
              "      <td>[[[-41.019203, -52.859505, -80.0, -80.0, -80.0...</td>\n",
              "      <td>[[[-80.0, -80.0, -80.0, -80.0, -80.0, -80.0, -...</td>\n",
              "      <td>[[[-80.0, -80.0, -80.0, -80.0, -80.0, -80.0, -...</td>\n",
              "    </tr>\n",
              "    <tr>\n",
              "      <th>1</th>\n",
              "      <td>[[[-64.74619, -74.24568, -80.0, -80.0, -80.0, ...</td>\n",
              "      <td>[[[-77.5818, -80.0, -80.0, -80.0, -80.0, -80.0...</td>\n",
              "      <td>[[[-55.32198, -68.65732, -80.0, -80.0, -80.0, ...</td>\n",
              "      <td>[[[-55.925564, -66.73613, -80.0, -80.0, -80.0,...</td>\n",
              "      <td>[[[-55.552357, -67.591354, -80.0, -80.0, -80.0...</td>\n",
              "      <td>[[[-39.519073, -51.55992, -80.0, -80.0, -80.0,...</td>\n",
              "      <td>[[[-80.0, -80.0, -80.0, -80.0, -80.0, -80.0, -...</td>\n",
              "      <td>[[[-46.913574, -47.10653, -35.61605, -41.73833...</td>\n",
              "      <td>[[[-33.52887, -45.750977, -72.40613, -69.67498...</td>\n",
              "      <td>[[[-80.0, -79.159966, -77.46018, -80.0, -80.0,...</td>\n",
              "    </tr>\n",
              "    <tr>\n",
              "      <th>2</th>\n",
              "      <td>[[[-80.0, -80.0, -80.0, -80.0, -80.0, -80.0, -...</td>\n",
              "      <td>[[[-80.0, -74.938545, -63.9778, -59.64665, -59...</td>\n",
              "      <td>[[[-72.3529, -79.62429, -80.0, -72.23688, -71....</td>\n",
              "      <td>[[[-44.20174, -52.632538, -62.276447, -61.7302...</td>\n",
              "      <td>[[[-47.816505, -55.820377, -64.73056, -60.7971...</td>\n",
              "      <td>[[[-65.22782, -75.527054, -80.0, -80.0, -80.0,...</td>\n",
              "      <td>[[[-58.97224, -59.695835, -61.236443, -59.2669...</td>\n",
              "      <td>[[[-45.245186, -47.934055, -41.114285, -49.475...</td>\n",
              "      <td>[[[-80.0, -80.0, -80.0, -80.0, -80.0, -80.0, -...</td>\n",
              "      <td>[[[-80.0, -80.0, -80.0, -80.0, -73.41835, -68....</td>\n",
              "    </tr>\n",
              "    <tr>\n",
              "      <th>3</th>\n",
              "      <td>[[[-67.64529, -60.859486, -56.007336, -54.7370...</td>\n",
              "      <td>[[[-65.58223, -70.38751, -70.984955, -80.0, -8...</td>\n",
              "      <td>[[[-64.84816, -56.42335, -48.77673, -50.60338,...</td>\n",
              "      <td>[[[-52.912495, -52.859367, -60.448555, -73.025...</td>\n",
              "      <td>[[[-64.39882, -62.83524, -58.741096, -58.94006...</td>\n",
              "      <td>[[[-60.656006, -67.13735, -70.674904, -61.2579...</td>\n",
              "      <td>[[[-80.0, -80.0, -80.0, -80.0, -80.0, -80.0, -...</td>\n",
              "      <td>[[[-77.368744, -79.86925, -80.0, -80.0, -80.0,...</td>\n",
              "      <td>[[[-51.39866, -51.435326, -51.838654, -61.5722...</td>\n",
              "      <td>[[[-53.92138, -64.062325, -80.0, -80.0, -80.0,...</td>\n",
              "    </tr>\n",
              "    <tr>\n",
              "      <th>4</th>\n",
              "      <td>[[[-56.985027, -68.57016, -64.7605, -55.85546,...</td>\n",
              "      <td>[[[-80.0, -80.0, -80.0, -80.0, -80.0, -80.0, -...</td>\n",
              "      <td>[[[-57.02016, -68.89549, -80.0, -80.0, -58.502...</td>\n",
              "      <td>[[[-60.12925, -57.828476, -55.82229, -47.68387...</td>\n",
              "      <td>[[[-47.42361, -55.557312, -68.46201, -72.0973,...</td>\n",
              "      <td>[[[-57.81318, -64.48157, -80.0, -80.0, -80.0, ...</td>\n",
              "      <td>[[[-80.0, -80.0, -80.0, -80.0, -80.0, -80.0, -...</td>\n",
              "      <td>[[[-80.0, -80.0, -80.0, -80.0, -80.0, -80.0, -...</td>\n",
              "      <td>[[[-48.585335, -60.65073, -80.0, -80.0, -80.0,...</td>\n",
              "      <td>[[[-80.0, -80.0, -80.0, -80.0, -80.0, -80.0, -...</td>\n",
              "    </tr>\n",
              "  </tbody>\n",
              "</table>\n",
              "</div>"
            ],
            "text/plain": [
              "                                                   0  ...                                                  9\n",
              "0  [[[-65.298096, -70.04863, -77.817276, -80.0, -...  ...  [[[-80.0, -80.0, -80.0, -80.0, -80.0, -80.0, -...\n",
              "1  [[[-64.74619, -74.24568, -80.0, -80.0, -80.0, ...  ...  [[[-80.0, -79.159966, -77.46018, -80.0, -80.0,...\n",
              "2  [[[-80.0, -80.0, -80.0, -80.0, -80.0, -80.0, -...  ...  [[[-80.0, -80.0, -80.0, -80.0, -73.41835, -68....\n",
              "3  [[[-67.64529, -60.859486, -56.007336, -54.7370...  ...  [[[-53.92138, -64.062325, -80.0, -80.0, -80.0,...\n",
              "4  [[[-56.985027, -68.57016, -64.7605, -55.85546,...  ...  [[[-80.0, -80.0, -80.0, -80.0, -80.0, -80.0, -...\n",
              "\n",
              "[5 rows x 10 columns]"
            ]
          },
          "metadata": {
            "tags": []
          },
          "execution_count": 82
        }
      ]
    },
    {
      "cell_type": "code",
      "metadata": {
        "id": "Jr900kU2WSct",
        "colab": {
          "base_uri": "https://localhost:8080/"
        },
        "outputId": "aacb412d-7474-4e57-923d-d808ef845b26"
      },
      "source": [
        "# creating X for the signals\n",
        "# y for the labels\n",
        "y=[]\n",
        "S_DB=[]\n",
        "S_C= []\n",
        "S_RO= []\n",
        "C_STFT=[]\n",
        "for label in data:\n",
        "    print(label)\n",
        "    for sig in data[label]:\n",
        "        y.append(label)\n",
        "\n",
        "        S_DB.append(sig[0])\n",
        "        S_C.append(sig[1])\n",
        "        S_RO.append(sig[2])\n",
        "        C_STFT.append(sig[3])\n"
      ],
      "execution_count": 83,
      "outputs": [
        {
          "output_type": "stream",
          "text": [
            "0\n",
            "1\n",
            "2\n",
            "3\n",
            "4\n",
            "5\n",
            "6\n",
            "7\n",
            "8\n",
            "9\n"
          ],
          "name": "stdout"
        }
      ]
    },
    {
      "cell_type": "code",
      "metadata": {
        "colab": {
          "base_uri": "https://localhost:8080/"
        },
        "id": "eURN96DsyHqn",
        "outputId": "d893b358-e7a6-4ec2-9132-18507ad896c0"
      },
      "source": [
        "data[0][0][1].shape"
      ],
      "execution_count": 36,
      "outputs": [
        {
          "output_type": "execute_result",
          "data": {
            "text/plain": [
              "(1, 647)"
            ]
          },
          "metadata": {
            "tags": []
          },
          "execution_count": 36
        }
      ]
    },
    {
      "cell_type": "code",
      "metadata": {
        "id": "x6P-HGiQWnjR"
      },
      "source": [
        "tmp_arr= np.array(df_as_array)\n",
        "for i in range(data.shape[0]): # files\n",
        "    for m in range(10): #  labels\n",
        "        for f in range(4): # features\n",
        "            tmp_arr[i][m][f]=data.iloc[i][m][f][:,:645]"
      ],
      "execution_count": 65,
      "outputs": []
    },
    {
      "cell_type": "code",
      "metadata": {
        "colab": {
          "base_uri": "https://localhost:8080/"
        },
        "id": "Dlb4DLjnzL6y",
        "outputId": "7c2241fe-ba36-4fae-f6b3-ac9745cd4203"
      },
      "source": [
        "# first dim for class , sec for audio file , third for feature\n",
        "print( tmp_arr[0][0][0].shape , 'for S_DB' )\n",
        "print(tmp_arr[0][2][1].shape  , 'for S_C' )\n",
        "print(tmp_arr[0][0][2].shape , ' for S_RO ')\n",
        "print(tmp_arr[0][3][3].shape , 'for C_STFT ')"
      ],
      "execution_count": 66,
      "outputs": [
        {
          "output_type": "stream",
          "text": [
            "(128, 645) for S_DB\n",
            "(1, 645) for S_C\n",
            "(1, 645)  for S_RO \n",
            "(12, 645) for C_STFT \n"
          ],
          "name": "stdout"
        }
      ]
    },
    {
      "cell_type": "code",
      "metadata": {
        "id": "X30LRkfLWtWC"
      },
      "source": [
        "X= np.squeeze( tmp_arr.copy() )"
      ],
      "execution_count": 67,
      "outputs": []
    },
    {
      "cell_type": "code",
      "metadata": {
        "id": "t8OpI3NlWvwd"
      },
      "source": [
        "y= np.array( y )"
      ],
      "execution_count": 84,
      "outputs": []
    },
    {
      "cell_type": "code",
      "metadata": {
        "colab": {
          "base_uri": "https://localhost:8080/"
        },
        "id": "usmGaxRT0ayE",
        "outputId": "6cfaf9ff-e059-4012-b602-1d69acea9d41"
      },
      "source": [
        "y"
      ],
      "execution_count": 85,
      "outputs": [
        {
          "output_type": "execute_result",
          "data": {
            "text/plain": [
              "array([0, 0, 0, 0, 0, 0, 0, 0, 0, 0, 0, 0, 0, 0, 0, 0, 0, 0, 0, 0, 0, 0,\n",
              "       0, 0, 0, 0, 0, 0, 0, 0, 0, 0, 0, 0, 0, 0, 0, 0, 0, 0, 0, 0, 0, 0,\n",
              "       0, 0, 0, 0, 0, 0, 0, 0, 0, 0, 0, 0, 0, 0, 0, 0, 0, 0, 0, 0, 0, 0,\n",
              "       0, 0, 0, 0, 0, 0, 0, 0, 0, 0, 0, 0, 0, 0, 0, 0, 0, 0, 0, 0, 0, 0,\n",
              "       0, 0, 0, 0, 0, 0, 0, 0, 0, 0, 0, 1, 1, 1, 1, 1, 1, 1, 1, 1, 1, 1,\n",
              "       1, 1, 1, 1, 1, 1, 1, 1, 1, 1, 1, 1, 1, 1, 1, 1, 1, 1, 1, 1, 1, 1,\n",
              "       1, 1, 1, 1, 1, 1, 1, 1, 1, 1, 1, 1, 1, 1, 1, 1, 1, 1, 1, 1, 1, 1,\n",
              "       1, 1, 1, 1, 1, 1, 1, 1, 1, 1, 1, 1, 1, 1, 1, 1, 1, 1, 1, 1, 1, 1,\n",
              "       1, 1, 1, 1, 1, 1, 1, 1, 1, 1, 1, 1, 1, 1, 1, 1, 1, 1, 1, 1, 1, 1,\n",
              "       2, 2, 2, 2, 2, 2, 2, 2, 2, 2, 2, 2, 2, 2, 2, 2, 2, 2, 2, 2, 2, 2,\n",
              "       2, 2, 2, 2, 2, 2, 2, 2, 2, 2, 2, 2, 2, 2, 2, 2, 2, 2, 2, 2, 2, 2,\n",
              "       2, 2, 2, 2, 2, 2, 2, 2, 2, 2, 2, 2, 2, 2, 2, 2, 2, 2, 2, 2, 2, 2,\n",
              "       2, 2, 2, 2, 2, 2, 2, 2, 2, 2, 2, 2, 2, 2, 2, 2, 2, 2, 2, 2, 2, 2,\n",
              "       2, 2, 2, 2, 2, 2, 2, 2, 2, 2, 2, 3, 3, 3, 3, 3, 3, 3, 3, 3, 3, 3,\n",
              "       3, 3, 3, 3, 3, 3, 3, 3, 3, 3, 3, 3, 3, 3, 3, 3, 3, 3, 3, 3, 3, 3,\n",
              "       3, 3, 3, 3, 3, 3, 3, 3, 3, 3, 3, 3, 3, 3, 3, 3, 3, 3, 3, 3, 3, 3,\n",
              "       3, 3, 3, 3, 3, 3, 3, 3, 3, 3, 3, 3, 3, 3, 3, 3, 3, 3, 3, 3, 3, 3,\n",
              "       3, 3, 3, 3, 3, 3, 3, 3, 3, 3, 3, 3, 3, 3, 3, 3, 3, 3, 3, 3, 3, 3,\n",
              "       4, 4, 4, 4, 4, 4, 4, 4, 4, 4, 4, 4, 4, 4, 4, 4, 4, 4, 4, 4, 4, 4,\n",
              "       4, 4, 4, 4, 4, 4, 4, 4, 4, 4, 4, 4, 4, 4, 4, 4, 4, 4, 4, 4, 4, 4,\n",
              "       4, 4, 4, 4, 4, 4, 4, 4, 4, 4, 4, 4, 4, 4, 4, 4, 4, 4, 4, 4, 4, 4,\n",
              "       4, 4, 4, 4, 4, 4, 4, 4, 4, 4, 4, 4, 4, 4, 4, 4, 4, 4, 4, 4, 4, 4,\n",
              "       4, 4, 4, 4, 4, 4, 4, 4, 4, 4, 4, 5, 5, 5, 5, 5, 5, 5, 5, 5, 5, 5,\n",
              "       5, 5, 5, 5, 5, 5, 5, 5, 5, 5, 5, 5, 5, 5, 5, 5, 5, 5, 5, 5, 5, 5,\n",
              "       5, 5, 5, 5, 5, 5, 5, 5, 5, 5, 5, 5, 5, 5, 5, 5, 5, 5, 5, 5, 5, 5,\n",
              "       5, 5, 5, 5, 5, 5, 5, 5, 5, 5, 5, 5, 5, 5, 5, 5, 5, 5, 5, 5, 5, 5,\n",
              "       5, 5, 5, 5, 5, 5, 5, 5, 5, 5, 5, 5, 5, 5, 5, 5, 5, 5, 5, 5, 5, 5,\n",
              "       6, 6, 6, 6, 6, 6, 6, 6, 6, 6, 6, 6, 6, 6, 6, 6, 6, 6, 6, 6, 6, 6,\n",
              "       6, 6, 6, 6, 6, 6, 6, 6, 6, 6, 6, 6, 6, 6, 6, 6, 6, 6, 6, 6, 6, 6,\n",
              "       6, 6, 6, 6, 6, 6, 6, 6, 6, 6, 6, 6, 6, 6, 6, 6, 6, 6, 6, 6, 6, 6,\n",
              "       6, 6, 6, 6, 6, 6, 6, 6, 6, 6, 6, 6, 6, 6, 6, 6, 6, 6, 6, 6, 6, 6,\n",
              "       6, 6, 6, 6, 6, 6, 6, 6, 6, 6, 6, 7, 7, 7, 7, 7, 7, 7, 7, 7, 7, 7,\n",
              "       7, 7, 7, 7, 7, 7, 7, 7, 7, 7, 7, 7, 7, 7, 7, 7, 7, 7, 7, 7, 7, 7,\n",
              "       7, 7, 7, 7, 7, 7, 7, 7, 7, 7, 7, 7, 7, 7, 7, 7, 7, 7, 7, 7, 7, 7,\n",
              "       7, 7, 7, 7, 7, 7, 7, 7, 7, 7, 7, 7, 7, 7, 7, 7, 7, 7, 7, 7, 7, 7,\n",
              "       7, 7, 7, 7, 7, 7, 7, 7, 7, 7, 7, 7, 7, 7, 7, 7, 7, 7, 7, 7, 7, 7,\n",
              "       8, 8, 8, 8, 8, 8, 8, 8, 8, 8, 8, 8, 8, 8, 8, 8, 8, 8, 8, 8, 8, 8,\n",
              "       8, 8, 8, 8, 8, 8, 8, 8, 8, 8, 8, 8, 8, 8, 8, 8, 8, 8, 8, 8, 8, 8,\n",
              "       8, 8, 8, 8, 8, 8, 8, 8, 8, 8, 8, 8, 8, 8, 8, 8, 8, 8, 8, 8, 8, 8,\n",
              "       8, 8, 8, 8, 8, 8, 8, 8, 8, 8, 8, 8, 8, 8, 8, 8, 8, 8, 8, 8, 8, 8,\n",
              "       8, 8, 8, 8, 8, 8, 8, 8, 8, 8, 8, 9, 9, 9, 9, 9, 9, 9, 9, 9, 9, 9,\n",
              "       9, 9, 9, 9, 9, 9, 9, 9, 9, 9, 9, 9, 9, 9, 9, 9, 9, 9, 9, 9, 9, 9,\n",
              "       9, 9, 9, 9, 9, 9, 9, 9, 9, 9, 9, 9, 9, 9, 9, 9, 9, 9, 9, 9, 9, 9,\n",
              "       9, 9, 9, 9, 9, 9, 9, 9, 9, 9, 9, 9, 9, 9, 9, 9, 9, 9, 9, 9, 9, 9,\n",
              "       9, 9, 9, 9, 9, 9, 9, 9, 9, 9, 9, 9, 9, 9, 9, 9, 9, 9, 9, 9, 9, 9])"
            ]
          },
          "metadata": {
            "tags": []
          },
          "execution_count": 85
        }
      ]
    },
    {
      "cell_type": "markdown",
      "metadata": {
        "id": "4uKNP15JW4Rd"
      },
      "source": [
        "## saving the features and labels"
      ]
    },
    {
      "cell_type": "code",
      "metadata": {
        "id": "dARpGZL5WyIz"
      },
      "source": [
        "np.save( 'all_the_features.npy',X)\n",
        "np.save('all_the_labels.npy' ,y)"
      ],
      "execution_count": 87,
      "outputs": []
    },
    {
      "cell_type": "markdown",
      "metadata": {
        "id": "joXhycNrW60A"
      },
      "source": [
        "# loading the data"
      ]
    },
    {
      "cell_type": "code",
      "metadata": {
        "id": "-bMhInlsW4Bo"
      },
      "source": [
        "x_load= np.load('all_the_features.npy', allow_pickle=True)\n",
        "y_load= np.load('all_the_labels.npy', allow_pickle=True)"
      ],
      "execution_count": 92,
      "outputs": []
    },
    {
      "cell_type": "code",
      "metadata": {
        "colab": {
          "base_uri": "https://localhost:8080/"
        },
        "id": "SYwAspjA20fj",
        "outputId": "14e64d21-2593-43e1-df74-159ad7dee3bc"
      },
      "source": [
        "x_load[0][0][0].shape"
      ],
      "execution_count": 99,
      "outputs": [
        {
          "output_type": "execute_result",
          "data": {
            "text/plain": [
              "(128, 645)"
            ]
          },
          "metadata": {
            "tags": []
          },
          "execution_count": 99
        }
      ]
    },
    {
      "cell_type": "code",
      "metadata": {
        "id": "9qKBZI2fWz6F"
      },
      "source": [
        "# # from  sklearn.model_selection import train_test_split \n",
        "# # x_train , x_test , y_train , y_test = train_test_split( x_load[:][:][:][0] , y_load , train_size=0.8)\n",
        "\n",
        "# # changing them into torch format\n",
        "# x_train = torch.tensor(x_load[:,0] )\n",
        "# ##x_test = torch.tensor(x_test)\n",
        "\n",
        "# y_train =torch.tensor(y_load).type(torch.IntTensor) \n",
        "# #y_test = torch.tensor(y_test).type(torch.IntTensor)\n",
        "\n",
        "# train = torch.utils.data.TensorDataset(x_train,y_train)\n",
        "# #test = torch.utils.data.TensorDataset(x_test,y_test)"
      ],
      "execution_count": 106,
      "outputs": []
    },
    {
      "cell_type": "markdown",
      "metadata": {
        "id": "WYrTt5572fqi"
      },
      "source": [
        "# copying "
      ]
    },
    {
      "cell_type": "code",
      "metadata": {
        "colab": {
          "base_uri": "https://localhost:8080/"
        },
        "id": "ZmvvRVY814KQ",
        "outputId": "6bfe207f-3b2f-4e09-fd86-b839055cce8e"
      },
      "source": [
        "from google.colab import drive\n",
        "drive.mount('/content/drive')"
      ],
      "execution_count": 88,
      "outputs": [
        {
          "output_type": "stream",
          "text": [
            "Mounted at /content/drive\n"
          ],
          "name": "stdout"
        }
      ]
    },
    {
      "cell_type": "code",
      "metadata": {
        "id": "0dfjlSoB2ATx"
      },
      "source": [
        "!cp  '/content/all_the_features.npy' '/content/drive/MyDrive/NMA_DL_project'"
      ],
      "execution_count": 107,
      "outputs": []
    },
    {
      "cell_type": "code",
      "metadata": {
        "id": "Tmsh84J-3eTC"
      },
      "source": [
        "!cp  '/content/all_the_labels.npy' '/content/drive/MyDrive/NMA_DL_project'"
      ],
      "execution_count": 108,
      "outputs": []
    }
  ]
}