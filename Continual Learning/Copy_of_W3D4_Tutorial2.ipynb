{
  "nbformat": 4,
  "nbformat_minor": 0,
  "metadata": {
    "accelerator": "GPU",
    "colab": {
      "name": "Copy of W3D4_Tutorial2",
      "provenance": [],
      "collapsed_sections": []
    },
    "kernel": {
      "display_name": "Python 3",
      "language": "python",
      "name": "python3"
    },
    "kernelspec": {
      "display_name": "Python 3",
      "language": "python",
      "name": "python3"
    },
    "language_info": {
      "codemirror_mode": {
        "name": "ipython",
        "version": 3
      },
      "file_extension": ".py",
      "mimetype": "text/x-python",
      "name": "python",
      "nbconvert_exporter": "python",
      "pygments_lexer": "ipython3",
      "version": "3.7.3"
    },
    "toc-autonumbering": true,
    "widgets": {
      "application/vnd.jupyter.widget-state+json": {
        "4d1cd88fbf274b87ae878d0c6f3caf38": {
          "model_module": "@jupyter-widgets/controls",
          "model_name": "TabModel",
          "model_module_version": "1.5.0",
          "state": {
            "_view_name": "TabView",
            "_dom_classes": [],
            "_titles": {
              "0": "Youtube",
              "1": "Bilibili"
            },
            "_model_name": "TabModel",
            "_view_module": "@jupyter-widgets/controls",
            "selected_index": 0,
            "_model_module_version": "1.5.0",
            "_view_count": null,
            "_view_module_version": "1.5.0",
            "box_style": "",
            "layout": "IPY_MODEL_053baaa3a4df447eaa5343bf425df3c3",
            "_model_module": "@jupyter-widgets/controls",
            "children": [
              "IPY_MODEL_662dbe2ee0214e03829ff67e6caf787e",
              "IPY_MODEL_c6889e3bb74e4956a677b6fb467def45"
            ]
          }
        },
        "053baaa3a4df447eaa5343bf425df3c3": {
          "model_module": "@jupyter-widgets/base",
          "model_name": "LayoutModel",
          "model_module_version": "1.2.0",
          "state": {
            "_view_name": "LayoutView",
            "grid_template_rows": null,
            "right": null,
            "justify_content": null,
            "_view_module": "@jupyter-widgets/base",
            "overflow": null,
            "_model_module_version": "1.2.0",
            "_view_count": null,
            "flex_flow": null,
            "width": null,
            "min_width": null,
            "border": null,
            "align_items": null,
            "bottom": null,
            "_model_module": "@jupyter-widgets/base",
            "top": null,
            "grid_column": null,
            "overflow_y": null,
            "overflow_x": null,
            "grid_auto_flow": null,
            "grid_area": null,
            "grid_template_columns": null,
            "flex": null,
            "_model_name": "LayoutModel",
            "justify_items": null,
            "grid_row": null,
            "max_height": null,
            "align_content": null,
            "visibility": null,
            "align_self": null,
            "height": null,
            "min_height": null,
            "padding": null,
            "grid_auto_rows": null,
            "grid_gap": null,
            "max_width": null,
            "order": null,
            "_view_module_version": "1.2.0",
            "grid_template_areas": null,
            "object_position": null,
            "object_fit": null,
            "grid_auto_columns": null,
            "margin": null,
            "display": null,
            "left": null
          }
        },
        "662dbe2ee0214e03829ff67e6caf787e": {
          "model_module": "@jupyter-widgets/output",
          "model_name": "OutputModel",
          "model_module_version": "1.0.0",
          "state": {
            "_view_name": "OutputView",
            "msg_id": "",
            "_dom_classes": [],
            "_model_name": "OutputModel",
            "outputs": [
              {
                "output_type": "stream",
                "text": [
                  "Video available at https://youtube.com/watch?v=zMQySpHBoGs\n"
                ],
                "name": "stdout"
              },
              {
                "output_type": "display_data",
                "data": {
                  "text/html": [
                    "\n",
                    "        <iframe\n",
                    "            width=\"854\"\n",
                    "            height=\"480\"\n",
                    "            src=\"https://www.youtube.com/embed/zMQySpHBoGs?fs=1&rel=0\"\n",
                    "            frameborder=\"0\"\n",
                    "            allowfullscreen\n",
                    "        ></iframe>\n",
                    "        "
                  ],
                  "text/plain": [
                    "<IPython.lib.display.YouTubeVideo at 0x7fd6bb13e410>"
                  ],
                  "image/jpeg": "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\n"
                },
                "metadata": {}
              }
            ],
            "_view_module": "@jupyter-widgets/output",
            "_model_module_version": "1.0.0",
            "_view_count": null,
            "_view_module_version": "1.0.0",
            "layout": "IPY_MODEL_51a7934fc8e74fb4ac73c69ad3aef366",
            "_model_module": "@jupyter-widgets/output"
          }
        },
        "c6889e3bb74e4956a677b6fb467def45": {
          "model_module": "@jupyter-widgets/output",
          "model_name": "OutputModel",
          "model_module_version": "1.0.0",
          "state": {
            "_view_name": "OutputView",
            "msg_id": "",
            "_dom_classes": [],
            "_model_name": "OutputModel",
            "outputs": [
              {
                "output_type": "stream",
                "text": [
                  "Video available at https://www.bilibili.com/video/BV1764y167fj\n"
                ],
                "name": "stdout"
              },
              {
                "output_type": "display_data",
                "data": {
                  "text/html": [
                    "\n",
                    "        <iframe\n",
                    "            width=\"854\"\n",
                    "            height=\"480\"\n",
                    "            src=\"https://player.bilibili.com/player.html?bvid=BV1764y167fj&page=1?fs=1\"\n",
                    "            frameborder=\"0\"\n",
                    "            allowfullscreen\n",
                    "        ></iframe>\n",
                    "        "
                  ],
                  "text/plain": [
                    "<__main__.BiliVideo at 0x7fd71de172d0>"
                  ]
                },
                "metadata": {}
              }
            ],
            "_view_module": "@jupyter-widgets/output",
            "_model_module_version": "1.0.0",
            "_view_count": null,
            "_view_module_version": "1.0.0",
            "layout": "IPY_MODEL_86600ee604894e4d8c8b5b8c7f7fe917",
            "_model_module": "@jupyter-widgets/output"
          }
        },
        "51a7934fc8e74fb4ac73c69ad3aef366": {
          "model_module": "@jupyter-widgets/base",
          "model_name": "LayoutModel",
          "model_module_version": "1.2.0",
          "state": {
            "_view_name": "LayoutView",
            "grid_template_rows": null,
            "right": null,
            "justify_content": null,
            "_view_module": "@jupyter-widgets/base",
            "overflow": null,
            "_model_module_version": "1.2.0",
            "_view_count": null,
            "flex_flow": null,
            "width": null,
            "min_width": null,
            "border": null,
            "align_items": null,
            "bottom": null,
            "_model_module": "@jupyter-widgets/base",
            "top": null,
            "grid_column": null,
            "overflow_y": null,
            "overflow_x": null,
            "grid_auto_flow": null,
            "grid_area": null,
            "grid_template_columns": null,
            "flex": null,
            "_model_name": "LayoutModel",
            "justify_items": null,
            "grid_row": null,
            "max_height": null,
            "align_content": null,
            "visibility": null,
            "align_self": null,
            "height": null,
            "min_height": null,
            "padding": null,
            "grid_auto_rows": null,
            "grid_gap": null,
            "max_width": null,
            "order": null,
            "_view_module_version": "1.2.0",
            "grid_template_areas": null,
            "object_position": null,
            "object_fit": null,
            "grid_auto_columns": null,
            "margin": null,
            "display": null,
            "left": null
          }
        },
        "86600ee604894e4d8c8b5b8c7f7fe917": {
          "model_module": "@jupyter-widgets/base",
          "model_name": "LayoutModel",
          "model_module_version": "1.2.0",
          "state": {
            "_view_name": "LayoutView",
            "grid_template_rows": null,
            "right": null,
            "justify_content": null,
            "_view_module": "@jupyter-widgets/base",
            "overflow": null,
            "_model_module_version": "1.2.0",
            "_view_count": null,
            "flex_flow": null,
            "width": null,
            "min_width": null,
            "border": null,
            "align_items": null,
            "bottom": null,
            "_model_module": "@jupyter-widgets/base",
            "top": null,
            "grid_column": null,
            "overflow_y": null,
            "overflow_x": null,
            "grid_auto_flow": null,
            "grid_area": null,
            "grid_template_columns": null,
            "flex": null,
            "_model_name": "LayoutModel",
            "justify_items": null,
            "grid_row": null,
            "max_height": null,
            "align_content": null,
            "visibility": null,
            "align_self": null,
            "height": null,
            "min_height": null,
            "padding": null,
            "grid_auto_rows": null,
            "grid_gap": null,
            "max_width": null,
            "order": null,
            "_view_module_version": "1.2.0",
            "grid_template_areas": null,
            "object_position": null,
            "object_fit": null,
            "grid_auto_columns": null,
            "margin": null,
            "display": null,
            "left": null
          }
        },
        "2e6f3df56bfa41978a2e7d7f26c89d2e": {
          "model_module": "@jupyter-widgets/controls",
          "model_name": "TabModel",
          "model_module_version": "1.5.0",
          "state": {
            "_view_name": "TabView",
            "_dom_classes": [],
            "_titles": {
              "0": "Youtube",
              "1": "Bilibili"
            },
            "_model_name": "TabModel",
            "_view_module": "@jupyter-widgets/controls",
            "selected_index": 0,
            "_model_module_version": "1.5.0",
            "_view_count": null,
            "_view_module_version": "1.5.0",
            "box_style": "",
            "layout": "IPY_MODEL_403e203ee72b4ff68e82b2cb549196dd",
            "_model_module": "@jupyter-widgets/controls",
            "children": [
              "IPY_MODEL_ac3eb85d9c6d42dfa0a09effee7af8cd",
              "IPY_MODEL_e8d07cd8fc16433aa156a00bbef3df84"
            ]
          }
        },
        "403e203ee72b4ff68e82b2cb549196dd": {
          "model_module": "@jupyter-widgets/base",
          "model_name": "LayoutModel",
          "model_module_version": "1.2.0",
          "state": {
            "_view_name": "LayoutView",
            "grid_template_rows": null,
            "right": null,
            "justify_content": null,
            "_view_module": "@jupyter-widgets/base",
            "overflow": null,
            "_model_module_version": "1.2.0",
            "_view_count": null,
            "flex_flow": null,
            "width": null,
            "min_width": null,
            "border": null,
            "align_items": null,
            "bottom": null,
            "_model_module": "@jupyter-widgets/base",
            "top": null,
            "grid_column": null,
            "overflow_y": null,
            "overflow_x": null,
            "grid_auto_flow": null,
            "grid_area": null,
            "grid_template_columns": null,
            "flex": null,
            "_model_name": "LayoutModel",
            "justify_items": null,
            "grid_row": null,
            "max_height": null,
            "align_content": null,
            "visibility": null,
            "align_self": null,
            "height": null,
            "min_height": null,
            "padding": null,
            "grid_auto_rows": null,
            "grid_gap": null,
            "max_width": null,
            "order": null,
            "_view_module_version": "1.2.0",
            "grid_template_areas": null,
            "object_position": null,
            "object_fit": null,
            "grid_auto_columns": null,
            "margin": null,
            "display": null,
            "left": null
          }
        },
        "ac3eb85d9c6d42dfa0a09effee7af8cd": {
          "model_module": "@jupyter-widgets/output",
          "model_name": "OutputModel",
          "model_module_version": "1.0.0",
          "state": {
            "_view_name": "OutputView",
            "msg_id": "",
            "_dom_classes": [],
            "_model_name": "OutputModel",
            "outputs": [
              {
                "output_type": "stream",
                "text": [
                  "Video available at https://youtube.com/watch?v=PplDj0vXuIY\n"
                ],
                "name": "stdout"
              },
              {
                "output_type": "display_data",
                "data": {
                  "text/html": [
                    "\n",
                    "        <iframe\n",
                    "            width=\"854\"\n",
                    "            height=\"480\"\n",
                    "            src=\"https://www.youtube.com/embed/PplDj0vXuIY?fs=1&rel=0\"\n",
                    "            frameborder=\"0\"\n",
                    "            allowfullscreen\n",
                    "        ></iframe>\n",
                    "        "
                  ],
                  "text/plain": [
                    "<IPython.lib.display.YouTubeVideo at 0x7fd719d598d0>"
                  ],
                  "image/jpeg": "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\n"
                },
                "metadata": {}
              }
            ],
            "_view_module": "@jupyter-widgets/output",
            "_model_module_version": "1.0.0",
            "_view_count": null,
            "_view_module_version": "1.0.0",
            "layout": "IPY_MODEL_bff259dda71945f5a6b05215152cb4d6",
            "_model_module": "@jupyter-widgets/output"
          }
        },
        "e8d07cd8fc16433aa156a00bbef3df84": {
          "model_module": "@jupyter-widgets/output",
          "model_name": "OutputModel",
          "model_module_version": "1.0.0",
          "state": {
            "_view_name": "OutputView",
            "msg_id": "",
            "_dom_classes": [],
            "_model_name": "OutputModel",
            "outputs": [
              {
                "output_type": "stream",
                "text": [
                  "Video available at https://www.bilibili.com/video/BV18w41197o8\n"
                ],
                "name": "stdout"
              },
              {
                "output_type": "display_data",
                "data": {
                  "text/html": [
                    "\n",
                    "        <iframe\n",
                    "            width=\"854\"\n",
                    "            height=\"480\"\n",
                    "            src=\"https://player.bilibili.com/player.html?bvid=BV18w41197o8&page=1?fs=1\"\n",
                    "            frameborder=\"0\"\n",
                    "            allowfullscreen\n",
                    "        ></iframe>\n",
                    "        "
                  ],
                  "text/plain": [
                    "<__main__.BiliVideo at 0x7fd71de17dd0>"
                  ]
                },
                "metadata": {}
              }
            ],
            "_view_module": "@jupyter-widgets/output",
            "_model_module_version": "1.0.0",
            "_view_count": null,
            "_view_module_version": "1.0.0",
            "layout": "IPY_MODEL_f7643c6f66214f3092d641952c58f7a4",
            "_model_module": "@jupyter-widgets/output"
          }
        },
        "bff259dda71945f5a6b05215152cb4d6": {
          "model_module": "@jupyter-widgets/base",
          "model_name": "LayoutModel",
          "model_module_version": "1.2.0",
          "state": {
            "_view_name": "LayoutView",
            "grid_template_rows": null,
            "right": null,
            "justify_content": null,
            "_view_module": "@jupyter-widgets/base",
            "overflow": null,
            "_model_module_version": "1.2.0",
            "_view_count": null,
            "flex_flow": null,
            "width": null,
            "min_width": null,
            "border": null,
            "align_items": null,
            "bottom": null,
            "_model_module": "@jupyter-widgets/base",
            "top": null,
            "grid_column": null,
            "overflow_y": null,
            "overflow_x": null,
            "grid_auto_flow": null,
            "grid_area": null,
            "grid_template_columns": null,
            "flex": null,
            "_model_name": "LayoutModel",
            "justify_items": null,
            "grid_row": null,
            "max_height": null,
            "align_content": null,
            "visibility": null,
            "align_self": null,
            "height": null,
            "min_height": null,
            "padding": null,
            "grid_auto_rows": null,
            "grid_gap": null,
            "max_width": null,
            "order": null,
            "_view_module_version": "1.2.0",
            "grid_template_areas": null,
            "object_position": null,
            "object_fit": null,
            "grid_auto_columns": null,
            "margin": null,
            "display": null,
            "left": null
          }
        },
        "f7643c6f66214f3092d641952c58f7a4": {
          "model_module": "@jupyter-widgets/base",
          "model_name": "LayoutModel",
          "model_module_version": "1.2.0",
          "state": {
            "_view_name": "LayoutView",
            "grid_template_rows": null,
            "right": null,
            "justify_content": null,
            "_view_module": "@jupyter-widgets/base",
            "overflow": null,
            "_model_module_version": "1.2.0",
            "_view_count": null,
            "flex_flow": null,
            "width": null,
            "min_width": null,
            "border": null,
            "align_items": null,
            "bottom": null,
            "_model_module": "@jupyter-widgets/base",
            "top": null,
            "grid_column": null,
            "overflow_y": null,
            "overflow_x": null,
            "grid_auto_flow": null,
            "grid_area": null,
            "grid_template_columns": null,
            "flex": null,
            "_model_name": "LayoutModel",
            "justify_items": null,
            "grid_row": null,
            "max_height": null,
            "align_content": null,
            "visibility": null,
            "align_self": null,
            "height": null,
            "min_height": null,
            "padding": null,
            "grid_auto_rows": null,
            "grid_gap": null,
            "max_width": null,
            "order": null,
            "_view_module_version": "1.2.0",
            "grid_template_areas": null,
            "object_position": null,
            "object_fit": null,
            "grid_auto_columns": null,
            "margin": null,
            "display": null,
            "left": null
          }
        },
        "ac335061d63a4e789f3a01a359ca4a99": {
          "model_module": "@jupyter-widgets/controls",
          "model_name": "TabModel",
          "model_module_version": "1.5.0",
          "state": {
            "_view_name": "TabView",
            "_dom_classes": [],
            "_titles": {
              "0": "Youtube",
              "1": "Bilibili"
            },
            "_model_name": "TabModel",
            "_view_module": "@jupyter-widgets/controls",
            "selected_index": 0,
            "_model_module_version": "1.5.0",
            "_view_count": null,
            "_view_module_version": "1.5.0",
            "box_style": "",
            "layout": "IPY_MODEL_974f2ced2aca4d83a5b7b1e42fb2628c",
            "_model_module": "@jupyter-widgets/controls",
            "children": [
              "IPY_MODEL_999630ceacfa4bbba96c0a2d615bd686",
              "IPY_MODEL_f596d5f01d464e419999dce725f14540"
            ]
          }
        },
        "974f2ced2aca4d83a5b7b1e42fb2628c": {
          "model_module": "@jupyter-widgets/base",
          "model_name": "LayoutModel",
          "model_module_version": "1.2.0",
          "state": {
            "_view_name": "LayoutView",
            "grid_template_rows": null,
            "right": null,
            "justify_content": null,
            "_view_module": "@jupyter-widgets/base",
            "overflow": null,
            "_model_module_version": "1.2.0",
            "_view_count": null,
            "flex_flow": null,
            "width": null,
            "min_width": null,
            "border": null,
            "align_items": null,
            "bottom": null,
            "_model_module": "@jupyter-widgets/base",
            "top": null,
            "grid_column": null,
            "overflow_y": null,
            "overflow_x": null,
            "grid_auto_flow": null,
            "grid_area": null,
            "grid_template_columns": null,
            "flex": null,
            "_model_name": "LayoutModel",
            "justify_items": null,
            "grid_row": null,
            "max_height": null,
            "align_content": null,
            "visibility": null,
            "align_self": null,
            "height": null,
            "min_height": null,
            "padding": null,
            "grid_auto_rows": null,
            "grid_gap": null,
            "max_width": null,
            "order": null,
            "_view_module_version": "1.2.0",
            "grid_template_areas": null,
            "object_position": null,
            "object_fit": null,
            "grid_auto_columns": null,
            "margin": null,
            "display": null,
            "left": null
          }
        },
        "999630ceacfa4bbba96c0a2d615bd686": {
          "model_module": "@jupyter-widgets/output",
          "model_name": "OutputModel",
          "model_module_version": "1.0.0",
          "state": {
            "_view_name": "OutputView",
            "msg_id": "",
            "_dom_classes": [],
            "_model_name": "OutputModel",
            "outputs": [
              {
                "output_type": "stream",
                "text": [
                  "Video available at https://youtube.com/watch?v=P_QtnN1_wMM\n"
                ],
                "name": "stdout"
              },
              {
                "output_type": "display_data",
                "data": {
                  "text/html": [
                    "\n",
                    "        <iframe\n",
                    "            width=\"854\"\n",
                    "            height=\"480\"\n",
                    "            src=\"https://www.youtube.com/embed/P_QtnN1_wMM?fs=1&rel=0\"\n",
                    "            frameborder=\"0\"\n",
                    "            allowfullscreen\n",
                    "        ></iframe>\n",
                    "        "
                  ],
                  "text/plain": [
                    "<IPython.lib.display.YouTubeVideo at 0x7fd69311dcd0>"
                  ],
                  "image/jpeg": "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\n"
                },
                "metadata": {}
              }
            ],
            "_view_module": "@jupyter-widgets/output",
            "_model_module_version": "1.0.0",
            "_view_count": null,
            "_view_module_version": "1.0.0",
            "layout": "IPY_MODEL_5c0f08fe627a4e25ab51b0df35d97b80",
            "_model_module": "@jupyter-widgets/output"
          }
        },
        "f596d5f01d464e419999dce725f14540": {
          "model_module": "@jupyter-widgets/output",
          "model_name": "OutputModel",
          "model_module_version": "1.0.0",
          "state": {
            "_view_name": "OutputView",
            "msg_id": "",
            "_dom_classes": [],
            "_model_name": "OutputModel",
            "outputs": [
              {
                "output_type": "stream",
                "text": [
                  "Video available at https://www.bilibili.com/video/BV1Ey4y1j7Jj\n"
                ],
                "name": "stdout"
              },
              {
                "output_type": "display_data",
                "data": {
                  "text/html": [
                    "\n",
                    "        <iframe\n",
                    "            width=\"854\"\n",
                    "            height=\"480\"\n",
                    "            src=\"https://player.bilibili.com/player.html?bvid=BV1Ey4y1j7Jj&page=1?fs=1\"\n",
                    "            frameborder=\"0\"\n",
                    "            allowfullscreen\n",
                    "        ></iframe>\n",
                    "        "
                  ],
                  "text/plain": [
                    "<__main__.BiliVideo at 0x7fd69311d690>"
                  ]
                },
                "metadata": {}
              }
            ],
            "_view_module": "@jupyter-widgets/output",
            "_model_module_version": "1.0.0",
            "_view_count": null,
            "_view_module_version": "1.0.0",
            "layout": "IPY_MODEL_712d0b0e8bfa44ff98f590b8a43ae955",
            "_model_module": "@jupyter-widgets/output"
          }
        },
        "5c0f08fe627a4e25ab51b0df35d97b80": {
          "model_module": "@jupyter-widgets/base",
          "model_name": "LayoutModel",
          "model_module_version": "1.2.0",
          "state": {
            "_view_name": "LayoutView",
            "grid_template_rows": null,
            "right": null,
            "justify_content": null,
            "_view_module": "@jupyter-widgets/base",
            "overflow": null,
            "_model_module_version": "1.2.0",
            "_view_count": null,
            "flex_flow": null,
            "width": null,
            "min_width": null,
            "border": null,
            "align_items": null,
            "bottom": null,
            "_model_module": "@jupyter-widgets/base",
            "top": null,
            "grid_column": null,
            "overflow_y": null,
            "overflow_x": null,
            "grid_auto_flow": null,
            "grid_area": null,
            "grid_template_columns": null,
            "flex": null,
            "_model_name": "LayoutModel",
            "justify_items": null,
            "grid_row": null,
            "max_height": null,
            "align_content": null,
            "visibility": null,
            "align_self": null,
            "height": null,
            "min_height": null,
            "padding": null,
            "grid_auto_rows": null,
            "grid_gap": null,
            "max_width": null,
            "order": null,
            "_view_module_version": "1.2.0",
            "grid_template_areas": null,
            "object_position": null,
            "object_fit": null,
            "grid_auto_columns": null,
            "margin": null,
            "display": null,
            "left": null
          }
        },
        "712d0b0e8bfa44ff98f590b8a43ae955": {
          "model_module": "@jupyter-widgets/base",
          "model_name": "LayoutModel",
          "model_module_version": "1.2.0",
          "state": {
            "_view_name": "LayoutView",
            "grid_template_rows": null,
            "right": null,
            "justify_content": null,
            "_view_module": "@jupyter-widgets/base",
            "overflow": null,
            "_model_module_version": "1.2.0",
            "_view_count": null,
            "flex_flow": null,
            "width": null,
            "min_width": null,
            "border": null,
            "align_items": null,
            "bottom": null,
            "_model_module": "@jupyter-widgets/base",
            "top": null,
            "grid_column": null,
            "overflow_y": null,
            "overflow_x": null,
            "grid_auto_flow": null,
            "grid_area": null,
            "grid_template_columns": null,
            "flex": null,
            "_model_name": "LayoutModel",
            "justify_items": null,
            "grid_row": null,
            "max_height": null,
            "align_content": null,
            "visibility": null,
            "align_self": null,
            "height": null,
            "min_height": null,
            "padding": null,
            "grid_auto_rows": null,
            "grid_gap": null,
            "max_width": null,
            "order": null,
            "_view_module_version": "1.2.0",
            "grid_template_areas": null,
            "object_position": null,
            "object_fit": null,
            "grid_auto_columns": null,
            "margin": null,
            "display": null,
            "left": null
          }
        },
        "81377b34795c4f05b1844204a199ed55": {
          "model_module": "@jupyter-widgets/controls",
          "model_name": "TextareaModel",
          "model_module_version": "1.5.0",
          "state": {
            "_view_name": "TextareaView",
            "style": "IPY_MODEL_2c0c769a0d04484e98da02f4f1433ad0",
            "rows": null,
            "_dom_classes": [],
            "description": "",
            "_model_name": "TextareaModel",
            "placeholder": "Type something",
            "_view_module": "@jupyter-widgets/controls",
            "_model_module_version": "1.5.0",
            "value": "Type your answer here and click on `Submit!`",
            "_view_count": null,
            "disabled": false,
            "_view_module_version": "1.5.0",
            "continuous_update": true,
            "description_tooltip": null,
            "_model_module": "@jupyter-widgets/controls",
            "layout": "IPY_MODEL_cf9e38e77b4e4ffca9c60c5d97be9e6e"
          }
        },
        "2c0c769a0d04484e98da02f4f1433ad0": {
          "model_module": "@jupyter-widgets/controls",
          "model_name": "DescriptionStyleModel",
          "model_module_version": "1.5.0",
          "state": {
            "_view_name": "StyleView",
            "_model_name": "DescriptionStyleModel",
            "description_width": "",
            "_view_module": "@jupyter-widgets/base",
            "_model_module_version": "1.5.0",
            "_view_count": null,
            "_view_module_version": "1.2.0",
            "_model_module": "@jupyter-widgets/controls"
          }
        },
        "cf9e38e77b4e4ffca9c60c5d97be9e6e": {
          "model_module": "@jupyter-widgets/base",
          "model_name": "LayoutModel",
          "model_module_version": "1.2.0",
          "state": {
            "_view_name": "LayoutView",
            "grid_template_rows": null,
            "right": null,
            "justify_content": null,
            "_view_module": "@jupyter-widgets/base",
            "overflow": null,
            "_model_module_version": "1.2.0",
            "_view_count": null,
            "flex_flow": null,
            "width": null,
            "min_width": null,
            "border": null,
            "align_items": null,
            "bottom": null,
            "_model_module": "@jupyter-widgets/base",
            "top": null,
            "grid_column": null,
            "overflow_y": null,
            "overflow_x": null,
            "grid_auto_flow": null,
            "grid_area": null,
            "grid_template_columns": null,
            "flex": null,
            "_model_name": "LayoutModel",
            "justify_items": null,
            "grid_row": null,
            "max_height": null,
            "align_content": null,
            "visibility": null,
            "align_self": null,
            "height": null,
            "min_height": null,
            "padding": null,
            "grid_auto_rows": null,
            "grid_gap": null,
            "max_width": null,
            "order": null,
            "_view_module_version": "1.2.0",
            "grid_template_areas": null,
            "object_position": null,
            "object_fit": null,
            "grid_auto_columns": null,
            "margin": null,
            "display": null,
            "left": null
          }
        },
        "c7a95483716f490e8969d105c97cb26b": {
          "model_module": "@jupyter-widgets/controls",
          "model_name": "ButtonModel",
          "model_module_version": "1.5.0",
          "state": {
            "_view_name": "ButtonView",
            "style": "IPY_MODEL_4107ebb164054f9d8bc0127cf76a8701",
            "_dom_classes": [],
            "description": "Submit!",
            "_model_name": "ButtonModel",
            "button_style": "",
            "_view_module": "@jupyter-widgets/controls",
            "_model_module_version": "1.5.0",
            "tooltip": "",
            "_view_count": null,
            "disabled": false,
            "_view_module_version": "1.5.0",
            "layout": "IPY_MODEL_9bb99e5ac70d4117ad8ae323151092be",
            "_model_module": "@jupyter-widgets/controls",
            "icon": ""
          }
        },
        "4107ebb164054f9d8bc0127cf76a8701": {
          "model_module": "@jupyter-widgets/controls",
          "model_name": "ButtonStyleModel",
          "model_module_version": "1.5.0",
          "state": {
            "_view_name": "StyleView",
            "_model_name": "ButtonStyleModel",
            "_view_module": "@jupyter-widgets/base",
            "_model_module_version": "1.5.0",
            "_view_count": null,
            "button_color": null,
            "font_weight": "",
            "_view_module_version": "1.2.0",
            "_model_module": "@jupyter-widgets/controls"
          }
        },
        "9bb99e5ac70d4117ad8ae323151092be": {
          "model_module": "@jupyter-widgets/base",
          "model_name": "LayoutModel",
          "model_module_version": "1.2.0",
          "state": {
            "_view_name": "LayoutView",
            "grid_template_rows": null,
            "right": null,
            "justify_content": null,
            "_view_module": "@jupyter-widgets/base",
            "overflow": null,
            "_model_module_version": "1.2.0",
            "_view_count": null,
            "flex_flow": null,
            "width": null,
            "min_width": null,
            "border": null,
            "align_items": null,
            "bottom": null,
            "_model_module": "@jupyter-widgets/base",
            "top": null,
            "grid_column": null,
            "overflow_y": null,
            "overflow_x": null,
            "grid_auto_flow": null,
            "grid_area": null,
            "grid_template_columns": null,
            "flex": null,
            "_model_name": "LayoutModel",
            "justify_items": null,
            "grid_row": null,
            "max_height": null,
            "align_content": null,
            "visibility": null,
            "align_self": null,
            "height": null,
            "min_height": null,
            "padding": null,
            "grid_auto_rows": null,
            "grid_gap": null,
            "max_width": null,
            "order": null,
            "_view_module_version": "1.2.0",
            "grid_template_areas": null,
            "object_position": null,
            "object_fit": null,
            "grid_auto_columns": null,
            "margin": null,
            "display": null,
            "left": null
          }
        },
        "4379c4c3694d4b6180851a1b083a199a": {
          "model_module": "@jupyter-widgets/controls",
          "model_name": "TextareaModel",
          "model_module_version": "1.5.0",
          "state": {
            "_view_name": "TextareaView",
            "style": "IPY_MODEL_6c0b8e694a2c4dda80cca94918daec44",
            "rows": null,
            "_dom_classes": [],
            "description": "",
            "_model_name": "TextareaModel",
            "placeholder": "Type something",
            "_view_module": "@jupyter-widgets/controls",
            "_model_module_version": "1.5.0",
            "value": "Type the most important characteristic and click on `Submit!`",
            "_view_count": null,
            "disabled": false,
            "_view_module_version": "1.5.0",
            "continuous_update": true,
            "description_tooltip": null,
            "_model_module": "@jupyter-widgets/controls",
            "layout": "IPY_MODEL_3a0c1b00cd284d10a3b98c60784933ec"
          }
        },
        "6c0b8e694a2c4dda80cca94918daec44": {
          "model_module": "@jupyter-widgets/controls",
          "model_name": "DescriptionStyleModel",
          "model_module_version": "1.5.0",
          "state": {
            "_view_name": "StyleView",
            "_model_name": "DescriptionStyleModel",
            "description_width": "",
            "_view_module": "@jupyter-widgets/base",
            "_model_module_version": "1.5.0",
            "_view_count": null,
            "_view_module_version": "1.2.0",
            "_model_module": "@jupyter-widgets/controls"
          }
        },
        "3a0c1b00cd284d10a3b98c60784933ec": {
          "model_module": "@jupyter-widgets/base",
          "model_name": "LayoutModel",
          "model_module_version": "1.2.0",
          "state": {
            "_view_name": "LayoutView",
            "grid_template_rows": null,
            "right": null,
            "justify_content": null,
            "_view_module": "@jupyter-widgets/base",
            "overflow": null,
            "_model_module_version": "1.2.0",
            "_view_count": null,
            "flex_flow": null,
            "width": null,
            "min_width": null,
            "border": null,
            "align_items": null,
            "bottom": null,
            "_model_module": "@jupyter-widgets/base",
            "top": null,
            "grid_column": null,
            "overflow_y": null,
            "overflow_x": null,
            "grid_auto_flow": null,
            "grid_area": null,
            "grid_template_columns": null,
            "flex": null,
            "_model_name": "LayoutModel",
            "justify_items": null,
            "grid_row": null,
            "max_height": null,
            "align_content": null,
            "visibility": null,
            "align_self": null,
            "height": null,
            "min_height": null,
            "padding": null,
            "grid_auto_rows": null,
            "grid_gap": null,
            "max_width": null,
            "order": null,
            "_view_module_version": "1.2.0",
            "grid_template_areas": null,
            "object_position": null,
            "object_fit": null,
            "grid_auto_columns": null,
            "margin": null,
            "display": null,
            "left": null
          }
        },
        "4702d3f7019845a6bc20c7bae437e965": {
          "model_module": "@jupyter-widgets/controls",
          "model_name": "ButtonModel",
          "model_module_version": "1.5.0",
          "state": {
            "_view_name": "ButtonView",
            "style": "IPY_MODEL_f9d519f18af64c46a133a0387d7d0675",
            "_dom_classes": [],
            "description": "Submit!",
            "_model_name": "ButtonModel",
            "button_style": "",
            "_view_module": "@jupyter-widgets/controls",
            "_model_module_version": "1.5.0",
            "tooltip": "",
            "_view_count": null,
            "disabled": false,
            "_view_module_version": "1.5.0",
            "layout": "IPY_MODEL_3d3041b3919049ce8d0e798c29971229",
            "_model_module": "@jupyter-widgets/controls",
            "icon": ""
          }
        },
        "f9d519f18af64c46a133a0387d7d0675": {
          "model_module": "@jupyter-widgets/controls",
          "model_name": "ButtonStyleModel",
          "model_module_version": "1.5.0",
          "state": {
            "_view_name": "StyleView",
            "_model_name": "ButtonStyleModel",
            "_view_module": "@jupyter-widgets/base",
            "_model_module_version": "1.5.0",
            "_view_count": null,
            "button_color": null,
            "font_weight": "",
            "_view_module_version": "1.2.0",
            "_model_module": "@jupyter-widgets/controls"
          }
        },
        "3d3041b3919049ce8d0e798c29971229": {
          "model_module": "@jupyter-widgets/base",
          "model_name": "LayoutModel",
          "model_module_version": "1.2.0",
          "state": {
            "_view_name": "LayoutView",
            "grid_template_rows": null,
            "right": null,
            "justify_content": null,
            "_view_module": "@jupyter-widgets/base",
            "overflow": null,
            "_model_module_version": "1.2.0",
            "_view_count": null,
            "flex_flow": null,
            "width": null,
            "min_width": null,
            "border": null,
            "align_items": null,
            "bottom": null,
            "_model_module": "@jupyter-widgets/base",
            "top": null,
            "grid_column": null,
            "overflow_y": null,
            "overflow_x": null,
            "grid_auto_flow": null,
            "grid_area": null,
            "grid_template_columns": null,
            "flex": null,
            "_model_name": "LayoutModel",
            "justify_items": null,
            "grid_row": null,
            "max_height": null,
            "align_content": null,
            "visibility": null,
            "align_self": null,
            "height": null,
            "min_height": null,
            "padding": null,
            "grid_auto_rows": null,
            "grid_gap": null,
            "max_width": null,
            "order": null,
            "_view_module_version": "1.2.0",
            "grid_template_areas": null,
            "object_position": null,
            "object_fit": null,
            "grid_auto_columns": null,
            "margin": null,
            "display": null,
            "left": null
          }
        },
        "9b12f3cccc7e46239694f3de41bdc4c0": {
          "model_module": "@jupyter-widgets/controls",
          "model_name": "TextareaModel",
          "model_module_version": "1.5.0",
          "state": {
            "_view_name": "TextareaView",
            "style": "IPY_MODEL_43cbe316d4b1490ca257c86064d5ecde",
            "rows": null,
            "_dom_classes": [],
            "description": "",
            "_model_name": "TextareaModel",
            "placeholder": "Type something",
            "_view_module": "@jupyter-widgets/controls",
            "_model_module_version": "1.5.0",
            "value": "Type the second most important characteristic and click on `Submit!`",
            "_view_count": null,
            "disabled": false,
            "_view_module_version": "1.5.0",
            "continuous_update": true,
            "description_tooltip": null,
            "_model_module": "@jupyter-widgets/controls",
            "layout": "IPY_MODEL_14b4a652c07a4c308b4ff4b952734dbd"
          }
        },
        "43cbe316d4b1490ca257c86064d5ecde": {
          "model_module": "@jupyter-widgets/controls",
          "model_name": "DescriptionStyleModel",
          "model_module_version": "1.5.0",
          "state": {
            "_view_name": "StyleView",
            "_model_name": "DescriptionStyleModel",
            "description_width": "",
            "_view_module": "@jupyter-widgets/base",
            "_model_module_version": "1.5.0",
            "_view_count": null,
            "_view_module_version": "1.2.0",
            "_model_module": "@jupyter-widgets/controls"
          }
        },
        "14b4a652c07a4c308b4ff4b952734dbd": {
          "model_module": "@jupyter-widgets/base",
          "model_name": "LayoutModel",
          "model_module_version": "1.2.0",
          "state": {
            "_view_name": "LayoutView",
            "grid_template_rows": null,
            "right": null,
            "justify_content": null,
            "_view_module": "@jupyter-widgets/base",
            "overflow": null,
            "_model_module_version": "1.2.0",
            "_view_count": null,
            "flex_flow": null,
            "width": null,
            "min_width": null,
            "border": null,
            "align_items": null,
            "bottom": null,
            "_model_module": "@jupyter-widgets/base",
            "top": null,
            "grid_column": null,
            "overflow_y": null,
            "overflow_x": null,
            "grid_auto_flow": null,
            "grid_area": null,
            "grid_template_columns": null,
            "flex": null,
            "_model_name": "LayoutModel",
            "justify_items": null,
            "grid_row": null,
            "max_height": null,
            "align_content": null,
            "visibility": null,
            "align_self": null,
            "height": null,
            "min_height": null,
            "padding": null,
            "grid_auto_rows": null,
            "grid_gap": null,
            "max_width": null,
            "order": null,
            "_view_module_version": "1.2.0",
            "grid_template_areas": null,
            "object_position": null,
            "object_fit": null,
            "grid_auto_columns": null,
            "margin": null,
            "display": null,
            "left": null
          }
        },
        "767d4a362b9a469f9dea481096a35585": {
          "model_module": "@jupyter-widgets/controls",
          "model_name": "ButtonModel",
          "model_module_version": "1.5.0",
          "state": {
            "_view_name": "ButtonView",
            "style": "IPY_MODEL_275eec76398f41029314a4ce77d9ca12",
            "_dom_classes": [],
            "description": "Submit!",
            "_model_name": "ButtonModel",
            "button_style": "",
            "_view_module": "@jupyter-widgets/controls",
            "_model_module_version": "1.5.0",
            "tooltip": "",
            "_view_count": null,
            "disabled": false,
            "_view_module_version": "1.5.0",
            "layout": "IPY_MODEL_685dbe62339040d98fa2eb8a8f45a440",
            "_model_module": "@jupyter-widgets/controls",
            "icon": ""
          }
        },
        "275eec76398f41029314a4ce77d9ca12": {
          "model_module": "@jupyter-widgets/controls",
          "model_name": "ButtonStyleModel",
          "model_module_version": "1.5.0",
          "state": {
            "_view_name": "StyleView",
            "_model_name": "ButtonStyleModel",
            "_view_module": "@jupyter-widgets/base",
            "_model_module_version": "1.5.0",
            "_view_count": null,
            "button_color": null,
            "font_weight": "",
            "_view_module_version": "1.2.0",
            "_model_module": "@jupyter-widgets/controls"
          }
        },
        "685dbe62339040d98fa2eb8a8f45a440": {
          "model_module": "@jupyter-widgets/base",
          "model_name": "LayoutModel",
          "model_module_version": "1.2.0",
          "state": {
            "_view_name": "LayoutView",
            "grid_template_rows": null,
            "right": null,
            "justify_content": null,
            "_view_module": "@jupyter-widgets/base",
            "overflow": null,
            "_model_module_version": "1.2.0",
            "_view_count": null,
            "flex_flow": null,
            "width": null,
            "min_width": null,
            "border": null,
            "align_items": null,
            "bottom": null,
            "_model_module": "@jupyter-widgets/base",
            "top": null,
            "grid_column": null,
            "overflow_y": null,
            "overflow_x": null,
            "grid_auto_flow": null,
            "grid_area": null,
            "grid_template_columns": null,
            "flex": null,
            "_model_name": "LayoutModel",
            "justify_items": null,
            "grid_row": null,
            "max_height": null,
            "align_content": null,
            "visibility": null,
            "align_self": null,
            "height": null,
            "min_height": null,
            "padding": null,
            "grid_auto_rows": null,
            "grid_gap": null,
            "max_width": null,
            "order": null,
            "_view_module_version": "1.2.0",
            "grid_template_areas": null,
            "object_position": null,
            "object_fit": null,
            "grid_auto_columns": null,
            "margin": null,
            "display": null,
            "left": null
          }
        },
        "ff3aa30bc7b7432fa9a20519d294126b": {
          "model_module": "@jupyter-widgets/controls",
          "model_name": "TextareaModel",
          "model_module_version": "1.5.0",
          "state": {
            "_view_name": "TextareaView",
            "style": "IPY_MODEL_ff79b69ca8c14709bda14416a4e254c2",
            "rows": null,
            "_dom_classes": [],
            "description": "",
            "_model_name": "TextareaModel",
            "placeholder": "Type something",
            "_view_module": "@jupyter-widgets/controls",
            "_model_module_version": "1.5.0",
            "value": "Type your answer here and click on `Submit!`",
            "_view_count": null,
            "disabled": false,
            "_view_module_version": "1.5.0",
            "continuous_update": true,
            "description_tooltip": null,
            "_model_module": "@jupyter-widgets/controls",
            "layout": "IPY_MODEL_c6d54eefedbf4025bb3562d703d5aa44"
          }
        },
        "ff79b69ca8c14709bda14416a4e254c2": {
          "model_module": "@jupyter-widgets/controls",
          "model_name": "DescriptionStyleModel",
          "model_module_version": "1.5.0",
          "state": {
            "_view_name": "StyleView",
            "_model_name": "DescriptionStyleModel",
            "description_width": "",
            "_view_module": "@jupyter-widgets/base",
            "_model_module_version": "1.5.0",
            "_view_count": null,
            "_view_module_version": "1.2.0",
            "_model_module": "@jupyter-widgets/controls"
          }
        },
        "c6d54eefedbf4025bb3562d703d5aa44": {
          "model_module": "@jupyter-widgets/base",
          "model_name": "LayoutModel",
          "model_module_version": "1.2.0",
          "state": {
            "_view_name": "LayoutView",
            "grid_template_rows": null,
            "right": null,
            "justify_content": null,
            "_view_module": "@jupyter-widgets/base",
            "overflow": null,
            "_model_module_version": "1.2.0",
            "_view_count": null,
            "flex_flow": null,
            "width": null,
            "min_width": null,
            "border": null,
            "align_items": null,
            "bottom": null,
            "_model_module": "@jupyter-widgets/base",
            "top": null,
            "grid_column": null,
            "overflow_y": null,
            "overflow_x": null,
            "grid_auto_flow": null,
            "grid_area": null,
            "grid_template_columns": null,
            "flex": null,
            "_model_name": "LayoutModel",
            "justify_items": null,
            "grid_row": null,
            "max_height": null,
            "align_content": null,
            "visibility": null,
            "align_self": null,
            "height": null,
            "min_height": null,
            "padding": null,
            "grid_auto_rows": null,
            "grid_gap": null,
            "max_width": null,
            "order": null,
            "_view_module_version": "1.2.0",
            "grid_template_areas": null,
            "object_position": null,
            "object_fit": null,
            "grid_auto_columns": null,
            "margin": null,
            "display": null,
            "left": null
          }
        },
        "d296ae5474994886b8aa696fa61e2518": {
          "model_module": "@jupyter-widgets/controls",
          "model_name": "ButtonModel",
          "model_module_version": "1.5.0",
          "state": {
            "_view_name": "ButtonView",
            "style": "IPY_MODEL_bdec5a0d33834463b30ae9e1cd0c380d",
            "_dom_classes": [],
            "description": "Submit!",
            "_model_name": "ButtonModel",
            "button_style": "",
            "_view_module": "@jupyter-widgets/controls",
            "_model_module_version": "1.5.0",
            "tooltip": "",
            "_view_count": null,
            "disabled": false,
            "_view_module_version": "1.5.0",
            "layout": "IPY_MODEL_c86c451437234684a69f8f6882f18348",
            "_model_module": "@jupyter-widgets/controls",
            "icon": ""
          }
        },
        "bdec5a0d33834463b30ae9e1cd0c380d": {
          "model_module": "@jupyter-widgets/controls",
          "model_name": "ButtonStyleModel",
          "model_module_version": "1.5.0",
          "state": {
            "_view_name": "StyleView",
            "_model_name": "ButtonStyleModel",
            "_view_module": "@jupyter-widgets/base",
            "_model_module_version": "1.5.0",
            "_view_count": null,
            "button_color": null,
            "font_weight": "",
            "_view_module_version": "1.2.0",
            "_model_module": "@jupyter-widgets/controls"
          }
        },
        "c86c451437234684a69f8f6882f18348": {
          "model_module": "@jupyter-widgets/base",
          "model_name": "LayoutModel",
          "model_module_version": "1.2.0",
          "state": {
            "_view_name": "LayoutView",
            "grid_template_rows": null,
            "right": null,
            "justify_content": null,
            "_view_module": "@jupyter-widgets/base",
            "overflow": null,
            "_model_module_version": "1.2.0",
            "_view_count": null,
            "flex_flow": null,
            "width": null,
            "min_width": null,
            "border": null,
            "align_items": null,
            "bottom": null,
            "_model_module": "@jupyter-widgets/base",
            "top": null,
            "grid_column": null,
            "overflow_y": null,
            "overflow_x": null,
            "grid_auto_flow": null,
            "grid_area": null,
            "grid_template_columns": null,
            "flex": null,
            "_model_name": "LayoutModel",
            "justify_items": null,
            "grid_row": null,
            "max_height": null,
            "align_content": null,
            "visibility": null,
            "align_self": null,
            "height": null,
            "min_height": null,
            "padding": null,
            "grid_auto_rows": null,
            "grid_gap": null,
            "max_width": null,
            "order": null,
            "_view_module_version": "1.2.0",
            "grid_template_areas": null,
            "object_position": null,
            "object_fit": null,
            "grid_auto_columns": null,
            "margin": null,
            "display": null,
            "left": null
          }
        },
        "d118ad3d444641a19d15b3020df996d9": {
          "model_module": "@jupyter-widgets/controls",
          "model_name": "TextareaModel",
          "model_module_version": "1.5.0",
          "state": {
            "_view_name": "TextareaView",
            "style": "IPY_MODEL_c119f81758c3499ab798f445fd5ffd89",
            "rows": null,
            "_dom_classes": [],
            "description": "",
            "_model_name": "TextareaModel",
            "placeholder": "Type something",
            "_view_module": "@jupyter-widgets/controls",
            "_model_module_version": "1.5.0",
            "value": "Type your answer here and click on `Submit!`",
            "_view_count": null,
            "disabled": false,
            "_view_module_version": "1.5.0",
            "continuous_update": true,
            "description_tooltip": null,
            "_model_module": "@jupyter-widgets/controls",
            "layout": "IPY_MODEL_5bf71010d67d49629a2bf59c014caf5e"
          }
        },
        "c119f81758c3499ab798f445fd5ffd89": {
          "model_module": "@jupyter-widgets/controls",
          "model_name": "DescriptionStyleModel",
          "model_module_version": "1.5.0",
          "state": {
            "_view_name": "StyleView",
            "_model_name": "DescriptionStyleModel",
            "description_width": "",
            "_view_module": "@jupyter-widgets/base",
            "_model_module_version": "1.5.0",
            "_view_count": null,
            "_view_module_version": "1.2.0",
            "_model_module": "@jupyter-widgets/controls"
          }
        },
        "5bf71010d67d49629a2bf59c014caf5e": {
          "model_module": "@jupyter-widgets/base",
          "model_name": "LayoutModel",
          "model_module_version": "1.2.0",
          "state": {
            "_view_name": "LayoutView",
            "grid_template_rows": null,
            "right": null,
            "justify_content": null,
            "_view_module": "@jupyter-widgets/base",
            "overflow": null,
            "_model_module_version": "1.2.0",
            "_view_count": null,
            "flex_flow": null,
            "width": null,
            "min_width": null,
            "border": null,
            "align_items": null,
            "bottom": null,
            "_model_module": "@jupyter-widgets/base",
            "top": null,
            "grid_column": null,
            "overflow_y": null,
            "overflow_x": null,
            "grid_auto_flow": null,
            "grid_area": null,
            "grid_template_columns": null,
            "flex": null,
            "_model_name": "LayoutModel",
            "justify_items": null,
            "grid_row": null,
            "max_height": null,
            "align_content": null,
            "visibility": null,
            "align_self": null,
            "height": null,
            "min_height": null,
            "padding": null,
            "grid_auto_rows": null,
            "grid_gap": null,
            "max_width": null,
            "order": null,
            "_view_module_version": "1.2.0",
            "grid_template_areas": null,
            "object_position": null,
            "object_fit": null,
            "grid_auto_columns": null,
            "margin": null,
            "display": null,
            "left": null
          }
        },
        "74590f7527f54b5697c837bf4487b57c": {
          "model_module": "@jupyter-widgets/controls",
          "model_name": "ButtonModel",
          "model_module_version": "1.5.0",
          "state": {
            "_view_name": "ButtonView",
            "style": "IPY_MODEL_42de0a13db224824b86289b81203a2c2",
            "_dom_classes": [],
            "description": "Submit!",
            "_model_name": "ButtonModel",
            "button_style": "",
            "_view_module": "@jupyter-widgets/controls",
            "_model_module_version": "1.5.0",
            "tooltip": "",
            "_view_count": null,
            "disabled": false,
            "_view_module_version": "1.5.0",
            "layout": "IPY_MODEL_915e36b1360c4b37a9dc77fcfa8dc9b6",
            "_model_module": "@jupyter-widgets/controls",
            "icon": ""
          }
        },
        "42de0a13db224824b86289b81203a2c2": {
          "model_module": "@jupyter-widgets/controls",
          "model_name": "ButtonStyleModel",
          "model_module_version": "1.5.0",
          "state": {
            "_view_name": "StyleView",
            "_model_name": "ButtonStyleModel",
            "_view_module": "@jupyter-widgets/base",
            "_model_module_version": "1.5.0",
            "_view_count": null,
            "button_color": null,
            "font_weight": "",
            "_view_module_version": "1.2.0",
            "_model_module": "@jupyter-widgets/controls"
          }
        },
        "915e36b1360c4b37a9dc77fcfa8dc9b6": {
          "model_module": "@jupyter-widgets/base",
          "model_name": "LayoutModel",
          "model_module_version": "1.2.0",
          "state": {
            "_view_name": "LayoutView",
            "grid_template_rows": null,
            "right": null,
            "justify_content": null,
            "_view_module": "@jupyter-widgets/base",
            "overflow": null,
            "_model_module_version": "1.2.0",
            "_view_count": null,
            "flex_flow": null,
            "width": null,
            "min_width": null,
            "border": null,
            "align_items": null,
            "bottom": null,
            "_model_module": "@jupyter-widgets/base",
            "top": null,
            "grid_column": null,
            "overflow_y": null,
            "overflow_x": null,
            "grid_auto_flow": null,
            "grid_area": null,
            "grid_template_columns": null,
            "flex": null,
            "_model_name": "LayoutModel",
            "justify_items": null,
            "grid_row": null,
            "max_height": null,
            "align_content": null,
            "visibility": null,
            "align_self": null,
            "height": null,
            "min_height": null,
            "padding": null,
            "grid_auto_rows": null,
            "grid_gap": null,
            "max_width": null,
            "order": null,
            "_view_module_version": "1.2.0",
            "grid_template_areas": null,
            "object_position": null,
            "object_fit": null,
            "grid_auto_columns": null,
            "margin": null,
            "display": null,
            "left": null
          }
        },
        "2dc06f4b6fd64ca99df555473bcf1edd": {
          "model_module": "@jupyter-widgets/controls",
          "model_name": "TextareaModel",
          "model_module_version": "1.5.0",
          "state": {
            "_view_name": "TextareaView",
            "style": "IPY_MODEL_2ebe89cecec24d74b7369fd720ae2463",
            "rows": null,
            "_dom_classes": [],
            "description": "",
            "_model_name": "TextareaModel",
            "placeholder": "Type something",
            "_view_module": "@jupyter-widgets/controls",
            "_model_module_version": "1.5.0",
            "value": "Type your answer here and click on `Submit!`",
            "_view_count": null,
            "disabled": false,
            "_view_module_version": "1.5.0",
            "continuous_update": true,
            "description_tooltip": null,
            "_model_module": "@jupyter-widgets/controls",
            "layout": "IPY_MODEL_c85cb50a999c46988fc3d98e85f7f01f"
          }
        },
        "2ebe89cecec24d74b7369fd720ae2463": {
          "model_module": "@jupyter-widgets/controls",
          "model_name": "DescriptionStyleModel",
          "model_module_version": "1.5.0",
          "state": {
            "_view_name": "StyleView",
            "_model_name": "DescriptionStyleModel",
            "description_width": "",
            "_view_module": "@jupyter-widgets/base",
            "_model_module_version": "1.5.0",
            "_view_count": null,
            "_view_module_version": "1.2.0",
            "_model_module": "@jupyter-widgets/controls"
          }
        },
        "c85cb50a999c46988fc3d98e85f7f01f": {
          "model_module": "@jupyter-widgets/base",
          "model_name": "LayoutModel",
          "model_module_version": "1.2.0",
          "state": {
            "_view_name": "LayoutView",
            "grid_template_rows": null,
            "right": null,
            "justify_content": null,
            "_view_module": "@jupyter-widgets/base",
            "overflow": null,
            "_model_module_version": "1.2.0",
            "_view_count": null,
            "flex_flow": null,
            "width": null,
            "min_width": null,
            "border": null,
            "align_items": null,
            "bottom": null,
            "_model_module": "@jupyter-widgets/base",
            "top": null,
            "grid_column": null,
            "overflow_y": null,
            "overflow_x": null,
            "grid_auto_flow": null,
            "grid_area": null,
            "grid_template_columns": null,
            "flex": null,
            "_model_name": "LayoutModel",
            "justify_items": null,
            "grid_row": null,
            "max_height": null,
            "align_content": null,
            "visibility": null,
            "align_self": null,
            "height": null,
            "min_height": null,
            "padding": null,
            "grid_auto_rows": null,
            "grid_gap": null,
            "max_width": null,
            "order": null,
            "_view_module_version": "1.2.0",
            "grid_template_areas": null,
            "object_position": null,
            "object_fit": null,
            "grid_auto_columns": null,
            "margin": null,
            "display": null,
            "left": null
          }
        },
        "a0a2a0101cba43e79ef9b54dbb17fbc1": {
          "model_module": "@jupyter-widgets/controls",
          "model_name": "ButtonModel",
          "model_module_version": "1.5.0",
          "state": {
            "_view_name": "ButtonView",
            "style": "IPY_MODEL_4a2a42b2cd5140178f2810326b3bbbe0",
            "_dom_classes": [],
            "description": "Submit!",
            "_model_name": "ButtonModel",
            "button_style": "",
            "_view_module": "@jupyter-widgets/controls",
            "_model_module_version": "1.5.0",
            "tooltip": "",
            "_view_count": null,
            "disabled": false,
            "_view_module_version": "1.5.0",
            "layout": "IPY_MODEL_a491e5e322094752875f356c4f9794be",
            "_model_module": "@jupyter-widgets/controls",
            "icon": ""
          }
        },
        "4a2a42b2cd5140178f2810326b3bbbe0": {
          "model_module": "@jupyter-widgets/controls",
          "model_name": "ButtonStyleModel",
          "model_module_version": "1.5.0",
          "state": {
            "_view_name": "StyleView",
            "_model_name": "ButtonStyleModel",
            "_view_module": "@jupyter-widgets/base",
            "_model_module_version": "1.5.0",
            "_view_count": null,
            "button_color": null,
            "font_weight": "",
            "_view_module_version": "1.2.0",
            "_model_module": "@jupyter-widgets/controls"
          }
        },
        "a491e5e322094752875f356c4f9794be": {
          "model_module": "@jupyter-widgets/base",
          "model_name": "LayoutModel",
          "model_module_version": "1.2.0",
          "state": {
            "_view_name": "LayoutView",
            "grid_template_rows": null,
            "right": null,
            "justify_content": null,
            "_view_module": "@jupyter-widgets/base",
            "overflow": null,
            "_model_module_version": "1.2.0",
            "_view_count": null,
            "flex_flow": null,
            "width": null,
            "min_width": null,
            "border": null,
            "align_items": null,
            "bottom": null,
            "_model_module": "@jupyter-widgets/base",
            "top": null,
            "grid_column": null,
            "overflow_y": null,
            "overflow_x": null,
            "grid_auto_flow": null,
            "grid_area": null,
            "grid_template_columns": null,
            "flex": null,
            "_model_name": "LayoutModel",
            "justify_items": null,
            "grid_row": null,
            "max_height": null,
            "align_content": null,
            "visibility": null,
            "align_self": null,
            "height": null,
            "min_height": null,
            "padding": null,
            "grid_auto_rows": null,
            "grid_gap": null,
            "max_width": null,
            "order": null,
            "_view_module_version": "1.2.0",
            "grid_template_areas": null,
            "object_position": null,
            "object_fit": null,
            "grid_auto_columns": null,
            "margin": null,
            "display": null,
            "left": null
          }
        },
        "6aec4070792a4b35b27aeeb4e70b06be": {
          "model_module": "@jupyter-widgets/controls",
          "model_name": "TabModel",
          "model_module_version": "1.5.0",
          "state": {
            "_view_name": "TabView",
            "_dom_classes": [],
            "_titles": {
              "0": "Youtube",
              "1": "Bilibili"
            },
            "_model_name": "TabModel",
            "_view_module": "@jupyter-widgets/controls",
            "selected_index": 0,
            "_model_module_version": "1.5.0",
            "_view_count": null,
            "_view_module_version": "1.5.0",
            "box_style": "",
            "layout": "IPY_MODEL_049d0e80662348f9a12a385779d73a8a",
            "_model_module": "@jupyter-widgets/controls",
            "children": [
              "IPY_MODEL_573c1ea3594d437caddd9d75adc1c0a3",
              "IPY_MODEL_1c8209de501f47519bc376da9b189d91"
            ]
          }
        },
        "049d0e80662348f9a12a385779d73a8a": {
          "model_module": "@jupyter-widgets/base",
          "model_name": "LayoutModel",
          "model_module_version": "1.2.0",
          "state": {
            "_view_name": "LayoutView",
            "grid_template_rows": null,
            "right": null,
            "justify_content": null,
            "_view_module": "@jupyter-widgets/base",
            "overflow": null,
            "_model_module_version": "1.2.0",
            "_view_count": null,
            "flex_flow": null,
            "width": null,
            "min_width": null,
            "border": null,
            "align_items": null,
            "bottom": null,
            "_model_module": "@jupyter-widgets/base",
            "top": null,
            "grid_column": null,
            "overflow_y": null,
            "overflow_x": null,
            "grid_auto_flow": null,
            "grid_area": null,
            "grid_template_columns": null,
            "flex": null,
            "_model_name": "LayoutModel",
            "justify_items": null,
            "grid_row": null,
            "max_height": null,
            "align_content": null,
            "visibility": null,
            "align_self": null,
            "height": null,
            "min_height": null,
            "padding": null,
            "grid_auto_rows": null,
            "grid_gap": null,
            "max_width": null,
            "order": null,
            "_view_module_version": "1.2.0",
            "grid_template_areas": null,
            "object_position": null,
            "object_fit": null,
            "grid_auto_columns": null,
            "margin": null,
            "display": null,
            "left": null
          }
        },
        "573c1ea3594d437caddd9d75adc1c0a3": {
          "model_module": "@jupyter-widgets/output",
          "model_name": "OutputModel",
          "model_module_version": "1.0.0",
          "state": {
            "_view_name": "OutputView",
            "msg_id": "",
            "_dom_classes": [],
            "_model_name": "OutputModel",
            "outputs": [
              {
                "output_type": "stream",
                "text": [
                  "Video available at https://youtube.com/watch?v=8grBwtrzcDI\n"
                ],
                "name": "stdout"
              },
              {
                "output_type": "display_data",
                "data": {
                  "text/html": [
                    "\n",
                    "        <iframe\n",
                    "            width=\"854\"\n",
                    "            height=\"480\"\n",
                    "            src=\"https://www.youtube.com/embed/8grBwtrzcDI?fs=1&rel=0\"\n",
                    "            frameborder=\"0\"\n",
                    "            allowfullscreen\n",
                    "        ></iframe>\n",
                    "        "
                  ],
                  "text/plain": [
                    "<IPython.lib.display.YouTubeVideo at 0x7fd693126e90>"
                  ],
                  "image/jpeg": "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\n"
                },
                "metadata": {}
              }
            ],
            "_view_module": "@jupyter-widgets/output",
            "_model_module_version": "1.0.0",
            "_view_count": null,
            "_view_module_version": "1.0.0",
            "layout": "IPY_MODEL_f74096ade2674e888596701ce25775ed",
            "_model_module": "@jupyter-widgets/output"
          }
        },
        "1c8209de501f47519bc376da9b189d91": {
          "model_module": "@jupyter-widgets/output",
          "model_name": "OutputModel",
          "model_module_version": "1.0.0",
          "state": {
            "_view_name": "OutputView",
            "msg_id": "",
            "_dom_classes": [],
            "_model_name": "OutputModel",
            "outputs": [
              {
                "output_type": "stream",
                "text": [
                  "Video available at https://www.bilibili.com/video/BV1zU4y1n77d\n"
                ],
                "name": "stdout"
              },
              {
                "output_type": "display_data",
                "data": {
                  "text/html": [
                    "\n",
                    "        <iframe\n",
                    "            width=\"854\"\n",
                    "            height=\"480\"\n",
                    "            src=\"https://player.bilibili.com/player.html?bvid=BV1zU4y1n77d&page=1?fs=1\"\n",
                    "            frameborder=\"0\"\n",
                    "            allowfullscreen\n",
                    "        ></iframe>\n",
                    "        "
                  ],
                  "text/plain": [
                    "<__main__.BiliVideo at 0x7fd6920d2a10>"
                  ]
                },
                "metadata": {}
              }
            ],
            "_view_module": "@jupyter-widgets/output",
            "_model_module_version": "1.0.0",
            "_view_count": null,
            "_view_module_version": "1.0.0",
            "layout": "IPY_MODEL_42286817cd0545febfd667073afcef94",
            "_model_module": "@jupyter-widgets/output"
          }
        },
        "f74096ade2674e888596701ce25775ed": {
          "model_module": "@jupyter-widgets/base",
          "model_name": "LayoutModel",
          "model_module_version": "1.2.0",
          "state": {
            "_view_name": "LayoutView",
            "grid_template_rows": null,
            "right": null,
            "justify_content": null,
            "_view_module": "@jupyter-widgets/base",
            "overflow": null,
            "_model_module_version": "1.2.0",
            "_view_count": null,
            "flex_flow": null,
            "width": null,
            "min_width": null,
            "border": null,
            "align_items": null,
            "bottom": null,
            "_model_module": "@jupyter-widgets/base",
            "top": null,
            "grid_column": null,
            "overflow_y": null,
            "overflow_x": null,
            "grid_auto_flow": null,
            "grid_area": null,
            "grid_template_columns": null,
            "flex": null,
            "_model_name": "LayoutModel",
            "justify_items": null,
            "grid_row": null,
            "max_height": null,
            "align_content": null,
            "visibility": null,
            "align_self": null,
            "height": null,
            "min_height": null,
            "padding": null,
            "grid_auto_rows": null,
            "grid_gap": null,
            "max_width": null,
            "order": null,
            "_view_module_version": "1.2.0",
            "grid_template_areas": null,
            "object_position": null,
            "object_fit": null,
            "grid_auto_columns": null,
            "margin": null,
            "display": null,
            "left": null
          }
        },
        "42286817cd0545febfd667073afcef94": {
          "model_module": "@jupyter-widgets/base",
          "model_name": "LayoutModel",
          "model_module_version": "1.2.0",
          "state": {
            "_view_name": "LayoutView",
            "grid_template_rows": null,
            "right": null,
            "justify_content": null,
            "_view_module": "@jupyter-widgets/base",
            "overflow": null,
            "_model_module_version": "1.2.0",
            "_view_count": null,
            "flex_flow": null,
            "width": null,
            "min_width": null,
            "border": null,
            "align_items": null,
            "bottom": null,
            "_model_module": "@jupyter-widgets/base",
            "top": null,
            "grid_column": null,
            "overflow_y": null,
            "overflow_x": null,
            "grid_auto_flow": null,
            "grid_area": null,
            "grid_template_columns": null,
            "flex": null,
            "_model_name": "LayoutModel",
            "justify_items": null,
            "grid_row": null,
            "max_height": null,
            "align_content": null,
            "visibility": null,
            "align_self": null,
            "height": null,
            "min_height": null,
            "padding": null,
            "grid_auto_rows": null,
            "grid_gap": null,
            "max_width": null,
            "order": null,
            "_view_module_version": "1.2.0",
            "grid_template_areas": null,
            "object_position": null,
            "object_fit": null,
            "grid_auto_columns": null,
            "margin": null,
            "display": null,
            "left": null
          }
        },
        "c1dd6ff19836410396b03b6b61944b49": {
          "model_module": "@jupyter-widgets/controls",
          "model_name": "TabModel",
          "model_module_version": "1.5.0",
          "state": {
            "_view_name": "TabView",
            "_dom_classes": [],
            "_titles": {
              "0": "Youtube",
              "1": "Bilibili"
            },
            "_model_name": "TabModel",
            "_view_module": "@jupyter-widgets/controls",
            "selected_index": 0,
            "_model_module_version": "1.5.0",
            "_view_count": null,
            "_view_module_version": "1.5.0",
            "box_style": "",
            "layout": "IPY_MODEL_5cb8b0caac9a4c3f9ca268f7b52afe2a",
            "_model_module": "@jupyter-widgets/controls",
            "children": [
              "IPY_MODEL_3411a2dc8b58414aa0ccfc6290bc5e9a",
              "IPY_MODEL_ba0dab1d424d4a788c2a39ad63a2c33a"
            ]
          }
        },
        "5cb8b0caac9a4c3f9ca268f7b52afe2a": {
          "model_module": "@jupyter-widgets/base",
          "model_name": "LayoutModel",
          "model_module_version": "1.2.0",
          "state": {
            "_view_name": "LayoutView",
            "grid_template_rows": null,
            "right": null,
            "justify_content": null,
            "_view_module": "@jupyter-widgets/base",
            "overflow": null,
            "_model_module_version": "1.2.0",
            "_view_count": null,
            "flex_flow": null,
            "width": null,
            "min_width": null,
            "border": null,
            "align_items": null,
            "bottom": null,
            "_model_module": "@jupyter-widgets/base",
            "top": null,
            "grid_column": null,
            "overflow_y": null,
            "overflow_x": null,
            "grid_auto_flow": null,
            "grid_area": null,
            "grid_template_columns": null,
            "flex": null,
            "_model_name": "LayoutModel",
            "justify_items": null,
            "grid_row": null,
            "max_height": null,
            "align_content": null,
            "visibility": null,
            "align_self": null,
            "height": null,
            "min_height": null,
            "padding": null,
            "grid_auto_rows": null,
            "grid_gap": null,
            "max_width": null,
            "order": null,
            "_view_module_version": "1.2.0",
            "grid_template_areas": null,
            "object_position": null,
            "object_fit": null,
            "grid_auto_columns": null,
            "margin": null,
            "display": null,
            "left": null
          }
        },
        "3411a2dc8b58414aa0ccfc6290bc5e9a": {
          "model_module": "@jupyter-widgets/output",
          "model_name": "OutputModel",
          "model_module_version": "1.0.0",
          "state": {
            "_view_name": "OutputView",
            "msg_id": "",
            "_dom_classes": [],
            "_model_name": "OutputModel",
            "outputs": [
              {
                "output_type": "stream",
                "text": [
                  "Video available at https://youtube.com/watch?v=-lmY_lc75As\n"
                ],
                "name": "stdout"
              },
              {
                "output_type": "display_data",
                "data": {
                  "text/html": [
                    "\n",
                    "        <iframe\n",
                    "            width=\"854\"\n",
                    "            height=\"480\"\n",
                    "            src=\"https://www.youtube.com/embed/-lmY_lc75As?fs=1&rel=0\"\n",
                    "            frameborder=\"0\"\n",
                    "            allowfullscreen\n",
                    "        ></iframe>\n",
                    "        "
                  ],
                  "text/plain": [
                    "<IPython.lib.display.YouTubeVideo at 0x7fd6b2f10b10>"
                  ],
                  "image/jpeg": "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\n"
                },
                "metadata": {}
              }
            ],
            "_view_module": "@jupyter-widgets/output",
            "_model_module_version": "1.0.0",
            "_view_count": null,
            "_view_module_version": "1.0.0",
            "layout": "IPY_MODEL_d4ca59f91adf4741b450ec8df266b644",
            "_model_module": "@jupyter-widgets/output"
          }
        },
        "ba0dab1d424d4a788c2a39ad63a2c33a": {
          "model_module": "@jupyter-widgets/output",
          "model_name": "OutputModel",
          "model_module_version": "1.0.0",
          "state": {
            "_view_name": "OutputView",
            "msg_id": "",
            "_dom_classes": [],
            "_model_name": "OutputModel",
            "outputs": [
              {
                "output_type": "stream",
                "text": [
                  "Video available at https://www.bilibili.com/video/BV1uX4y1c7Yh\n"
                ],
                "name": "stdout"
              },
              {
                "output_type": "display_data",
                "data": {
                  "text/html": [
                    "\n",
                    "        <iframe\n",
                    "            width=\"854\"\n",
                    "            height=\"480\"\n",
                    "            src=\"https://player.bilibili.com/player.html?bvid=BV1uX4y1c7Yh&page=1?fs=1\"\n",
                    "            frameborder=\"0\"\n",
                    "            allowfullscreen\n",
                    "        ></iframe>\n",
                    "        "
                  ],
                  "text/plain": [
                    "<__main__.BiliVideo at 0x7fd6b303a9d0>"
                  ]
                },
                "metadata": {}
              }
            ],
            "_view_module": "@jupyter-widgets/output",
            "_model_module_version": "1.0.0",
            "_view_count": null,
            "_view_module_version": "1.0.0",
            "layout": "IPY_MODEL_e45be75fefd1494c9b0a56c17df2f33b",
            "_model_module": "@jupyter-widgets/output"
          }
        },
        "d4ca59f91adf4741b450ec8df266b644": {
          "model_module": "@jupyter-widgets/base",
          "model_name": "LayoutModel",
          "model_module_version": "1.2.0",
          "state": {
            "_view_name": "LayoutView",
            "grid_template_rows": null,
            "right": null,
            "justify_content": null,
            "_view_module": "@jupyter-widgets/base",
            "overflow": null,
            "_model_module_version": "1.2.0",
            "_view_count": null,
            "flex_flow": null,
            "width": null,
            "min_width": null,
            "border": null,
            "align_items": null,
            "bottom": null,
            "_model_module": "@jupyter-widgets/base",
            "top": null,
            "grid_column": null,
            "overflow_y": null,
            "overflow_x": null,
            "grid_auto_flow": null,
            "grid_area": null,
            "grid_template_columns": null,
            "flex": null,
            "_model_name": "LayoutModel",
            "justify_items": null,
            "grid_row": null,
            "max_height": null,
            "align_content": null,
            "visibility": null,
            "align_self": null,
            "height": null,
            "min_height": null,
            "padding": null,
            "grid_auto_rows": null,
            "grid_gap": null,
            "max_width": null,
            "order": null,
            "_view_module_version": "1.2.0",
            "grid_template_areas": null,
            "object_position": null,
            "object_fit": null,
            "grid_auto_columns": null,
            "margin": null,
            "display": null,
            "left": null
          }
        },
        "e45be75fefd1494c9b0a56c17df2f33b": {
          "model_module": "@jupyter-widgets/base",
          "model_name": "LayoutModel",
          "model_module_version": "1.2.0",
          "state": {
            "_view_name": "LayoutView",
            "grid_template_rows": null,
            "right": null,
            "justify_content": null,
            "_view_module": "@jupyter-widgets/base",
            "overflow": null,
            "_model_module_version": "1.2.0",
            "_view_count": null,
            "flex_flow": null,
            "width": null,
            "min_width": null,
            "border": null,
            "align_items": null,
            "bottom": null,
            "_model_module": "@jupyter-widgets/base",
            "top": null,
            "grid_column": null,
            "overflow_y": null,
            "overflow_x": null,
            "grid_auto_flow": null,
            "grid_area": null,
            "grid_template_columns": null,
            "flex": null,
            "_model_name": "LayoutModel",
            "justify_items": null,
            "grid_row": null,
            "max_height": null,
            "align_content": null,
            "visibility": null,
            "align_self": null,
            "height": null,
            "min_height": null,
            "padding": null,
            "grid_auto_rows": null,
            "grid_gap": null,
            "max_width": null,
            "order": null,
            "_view_module_version": "1.2.0",
            "grid_template_areas": null,
            "object_position": null,
            "object_fit": null,
            "grid_auto_columns": null,
            "margin": null,
            "display": null,
            "left": null
          }
        }
      }
    }
  },
  "cells": [
    {
      "cell_type": "markdown",
      "metadata": {
        "execution": {},
        "id": "EH-zuCRJtkBX"
      },
      "source": [
        "# Tutorial 2: Out-of-distribution (OOD) Learning\n",
        "\n",
        "**Week 3, Day 4: Continual Learning**\n",
        "\n",
        "**By Neuromatch Academy**\n",
        "\n",
        "__Content creators:__  Avishree Khare, Het Shah, Joshua Vogelstein\n",
        "\n",
        "__Content reviewers:__ Arush Tagade, Jeremy Forest, Kelson Shilling-Scrivo\n",
        "\n",
        "__Content editors:__ Anoop Kulkarni, Spiros Chavlis\n",
        "\n",
        "__Production editors:__ Deepak Raya, Spiros Chavlis\n",
        " \n",
        "\n"
      ]
    },
    {
      "cell_type": "markdown",
      "metadata": {
        "execution": {},
        "id": "En58oawbtkBi"
      },
      "source": [
        "**Our 2021 Sponsors, including Presenting Sponsor Facebook Reality Labs**\n",
        "\n",
        "<p align='center'><img src='https://github.com/NeuromatchAcademy/widgets/blob/master/sponsors.png?raw=True'/></p>"
      ]
    },
    {
      "cell_type": "markdown",
      "metadata": {
        "execution": {},
        "id": "TCVugTy9tkBk"
      },
      "source": [
        "---\n",
        "# Tutorial Objectives\n",
        "\n",
        "Deep Learning has seen tremendous growth in recent years thanks to more data, more compute and *very* deep neural networks. Although these networks perform extremely well on the specified task, they fail to generalize to newer tasks. \n",
        "\n",
        "In this tutorial, we will explore Out-of-distribution (OOD) Learning and the several OOD paradigms that have been gaining popularity in recent years. We will understand what OOD really means and how it is different from anything else that we've looked at so far. We'll also take a look at Transfer Learning, Multi-task Learning and Meta-Learning which aim to facilitate OOD Learning in different ways. Here is a list of topics that we would be covering in this tutorial:\n",
        "\n",
        "1. Introduction to OOD Learning\n",
        "2. Transfer Learning\n",
        "3. Multi-Task Learning\n",
        "4. Meta-Learning"
      ]
    },
    {
      "cell_type": "code",
      "metadata": {
        "cellView": "form",
        "execution": {},
        "id": "jJBCaTb4tkBn",
        "colab": {
          "base_uri": "https://localhost:8080/",
          "height": 500
        },
        "outputId": "e2273f81-a49f-4574-b4f7-00f7081d1e14"
      },
      "source": [
        "# @title Tutorial slides\n",
        "\n",
        "# @markdown These are the slides for the videos in this tutorials\n",
        "\n",
        "# @markdown If you want to locally download the slides, click [here](https://osf.io/dqnm6/download)\n",
        "from IPython.display import IFrame\n",
        "IFrame(src=f\"https://mfr.ca-1.osf.io/render?url=https://osf.io/dqnm6/?direct%26mode=render%26action=download%26mode=render\", width=854, height=480)"
      ],
      "execution_count": 1,
      "outputs": [
        {
          "output_type": "execute_result",
          "data": {
            "text/html": [
              "\n",
              "        <iframe\n",
              "            width=\"854\"\n",
              "            height=\"480\"\n",
              "            src=\"https://mfr.ca-1.osf.io/render?url=https://osf.io/dqnm6/?direct%26mode=render%26action=download%26mode=render\"\n",
              "            frameborder=\"0\"\n",
              "            allowfullscreen\n",
              "        ></iframe>\n",
              "        "
            ],
            "text/plain": [
              "<IPython.lib.display.IFrame at 0x7fd7222a4910>"
            ]
          },
          "metadata": {},
          "execution_count": 1
        }
      ]
    },
    {
      "cell_type": "markdown",
      "metadata": {
        "execution": {},
        "id": "q5gPW1DMtkBu"
      },
      "source": [
        "---\n",
        "# Setup"
      ]
    },
    {
      "cell_type": "code",
      "metadata": {
        "cellView": "form",
        "execution": {},
        "id": "ZCJgGuAItkBw",
        "colab": {
          "base_uri": "https://localhost:8080/"
        },
        "outputId": "55aa8c53-ddd0-4434-dcc9-71ea9f208145"
      },
      "source": [
        "# @title Install dependencies\n",
        "!pip install Pillow --quiet\n",
        "!pip install pandas --quiet\n",
        "\n",
        "!pip install git+https://github.com/NeuromatchAcademy/evaltools --quiet\n",
        "from evaltools.airtable import AirtableForm\n",
        "\n",
        "# generate airtable form\n",
        "atform = AirtableForm('appn7VdPRseSoMXEG','W3D4_T2','https://portal.neuromatchacademy.org/api/redirect/to/1d7fcd5d-f1e9-4ac5-ae58-b0ade54a4f87')"
      ],
      "execution_count": 2,
      "outputs": [
        {
          "output_type": "stream",
          "text": [
            "  Building wheel for evaltools (setup.py) ... \u001b[?25l\u001b[?25hdone\n"
          ],
          "name": "stdout"
        }
      ]
    },
    {
      "cell_type": "code",
      "metadata": {
        "cellView": "both",
        "execution": {},
        "id": "VgK32Jk4tkBy"
      },
      "source": [
        "# Imports\n",
        "import os\n",
        "import copy\n",
        "import time\n",
        "import torch\n",
        "import torchvision\n",
        "\n",
        "import numpy as np\n",
        "import matplotlib.pyplot as plt\n",
        "\n",
        "import torch.nn as nn\n",
        "import torch.optim as optim\n",
        "import torch.nn.functional as F\n",
        "from torch.optim import lr_scheduler\n",
        "from torch.utils.data import Dataset, DataLoader, random_split\n",
        "\n",
        "from torchvision.datasets import CelebA, Omniglot\n",
        "from torchvision import datasets, models, transforms"
      ],
      "execution_count": 3,
      "outputs": []
    },
    {
      "cell_type": "code",
      "metadata": {
        "cellView": "form",
        "execution": {},
        "id": "4TkFSsb_tkB0"
      },
      "source": [
        "# @title Figure settings\n",
        "import ipywidgets as widgets       # interactive display\n",
        "%matplotlib inline\n",
        "%config InlineBackend.figure_format = 'retina'\n",
        "plt.style.use(\"https://raw.githubusercontent.com/NeuromatchAcademy/content-creation/main/nma.mplstyle\")"
      ],
      "execution_count": 4,
      "outputs": []
    },
    {
      "cell_type": "code",
      "metadata": {
        "cellView": "form",
        "execution": {},
        "id": "lF6fANq9tkB2"
      },
      "source": [
        "# @title Plotting functions\n",
        "\n",
        "def visualize_siamese_sample(sample):\n",
        "  to_PIL = transforms.ToPILImage()\n",
        "  fig, axs = plt.subplots(1, 2, figsize=(8, 10))\n",
        "  x1, x2, y = sample\n",
        "  label = y.item()\n",
        "  similarity = \"Same character\" if label == 1.0 else \"Different characters\"\n",
        "  print(f\"-------------------- Label: {label} ({similarity}) -------------------\")\n",
        "  axs[0].imshow(to_PIL(x1), cmap='gray')\n",
        "  axs[1].imshow(to_PIL(x2), cmap='gray')\n",
        "  # axs[0].set_title(f'Label: {label} ({similarity})')\n",
        "\n",
        "  for i in range(2):\n",
        "    axs[i].xaxis.set_ticks([])\n",
        "    axs[i].yaxis.set_ticks([])\n",
        "\n",
        "  plt.tight_layout()\n",
        "  plt.show()\n",
        "\n",
        "\n",
        "def visualize_mtfl_sample(sample):\n",
        "  to_PIL = transforms.ToPILImage()\n",
        "  img, labels = sample\n",
        "\n",
        "  fig, ax = plt.subplots()\n",
        "  ax.xaxis.set_ticks([])\n",
        "  ax.yaxis.set_ticks([])\n",
        "  print(f\"Labels: {labels.tolist()}\")\n",
        "  ax.imshow(to_PIL(img))\n",
        "  plt.show()\n",
        "\n",
        "\n",
        "def visualize_one_shot_sample(sample):\n",
        "  to_PIL = transforms.ToPILImage()\n",
        "  query_img, support_imgs, support_labels, similarity = sample\n",
        "  n_rows = 1\n",
        "  n_cols = len(support_imgs) + 1\n",
        "  fig, axs = plt.subplots(n_rows, n_cols, figsize=(n_cols*4, 10))\n",
        "\n",
        "  axs[0].imshow(to_PIL(query_img), cmap='gray')\n",
        "  axs[0].set_title('Query Image')\n",
        "  axs[0].xaxis.set_ticks([])\n",
        "  axs[0].yaxis.set_ticks([])\n",
        "\n",
        "  for i, (s_img, s_label) in enumerate(zip(support_imgs, support_labels)):\n",
        "    axs[i+1].imshow(to_PIL(s_img), cmap='gray')\n",
        "    label = s_label.item()\n",
        "    similarity = \"Same character\" if label == 1.0 else \"Different characters\"\n",
        "    axs[i+1].set_title(f\"Support Image {i+1} \\n \"\n",
        "                       f\"Label: {s_label.item()} ({similarity})\")\n",
        "    axs[i+1].xaxis.set_ticks([])\n",
        "    axs[i+1].yaxis.set_ticks([])\n",
        "\n",
        "  plt.tight_layout()\n",
        "  plt.show()"
      ],
      "execution_count": 5,
      "outputs": []
    },
    {
      "cell_type": "code",
      "metadata": {
        "cellView": "form",
        "execution": {},
        "id": "Yd3oq-QmtkB5"
      },
      "source": [
        "# @title Dataset Definitions and Helper Functions\n",
        "\n",
        "# @markdown `pandas` and `PIL` libraries should be installed.\n",
        "import pandas as pd\n",
        "from PIL import Image\n",
        "\n",
        "\"\"\"\n",
        "Datasets for N-way 1-shot classification on the Omniglot Dataset\n",
        "\"\"\"\n",
        "\n",
        "class SiameseOmniglotDataset(Dataset):\n",
        "  def __init__(self, num_samples=10000,\n",
        "               data_transforms=transforms.ToTensor(), download=True):\n",
        "    self.dataset = Omniglot(root='./data/',\n",
        "                            background=True,\n",
        "                            download=download,\n",
        "                            transform=data_transforms)\n",
        "    self.num_samples = num_samples\n",
        "    self.num_classes = len(self.dataset._characters)\n",
        "    self.classes = range(self.num_classes)\n",
        "    self.instances_per_class = dict()\n",
        "    self.get_instances_per_class()\n",
        "\n",
        "  def __getitem__(self, idx):\n",
        "    if idx % 2 == 0:\n",
        "      return self.get_instances_from_same_class()\n",
        "    return self.get_instances_from_diff_classes()\n",
        "\n",
        "  def get_instances_from_same_class(self):\n",
        "    c = random.randint(0, self.num_classes-1)\n",
        "    [ch_1, ch_2] = random.sample(self.instances_per_class[c], 2)\n",
        "    return ch_1, ch_2, torch.tensor([1.0])\n",
        "\n",
        "  def get_instances_from_diff_classes(self):\n",
        "    [c1, c2] = random.sample(self.classes, 2)\n",
        "    [ch_1] = random.sample(self.instances_per_class[c1], 1)\n",
        "    [ch_2] = random.sample(self.instances_per_class[c2], 1)\n",
        "    return ch_1, ch_2, torch.tensor([0.0])\n",
        "\n",
        "  def get_random_instance(self):\n",
        "    ids = np.random.randint(0, len(self.dataset), 2)\n",
        "    character_1 = self.dataset[ids[0]][0]\n",
        "    character_2 = self.dataset[ids[1]][0]\n",
        "    label_1 = self.dataset[ids[0]][1]\n",
        "    label_2 = self.dataset[ids[1]][1]\n",
        "    similarity = torch.tensor([label_1 == label_2], dtype=torch.float)\n",
        "    return character_1, character_2, similarity\n",
        "\n",
        "  def __len__(self):\n",
        "    return self.num_samples\n",
        "\n",
        "  def get_instances_per_class(self):\n",
        "    for (image, label) in self.dataset:\n",
        "      if label in self.instances_per_class:\n",
        "        self.instances_per_class[label].append(image)\n",
        "      else:\n",
        "        self.instances_per_class[label] = [image]\n",
        "\n",
        "\n",
        "class NWayOneShotOmniglotDataset(Dataset):\n",
        "  def __init__(self, data_transforms=transforms.ToTensor(), n_ways=5,\n",
        "               download=True):\n",
        "    self.dataset = Omniglot(root='./data/',\n",
        "                            background=False,\n",
        "                            download=download,\n",
        "                            transform=data_transforms)\n",
        "    self.size = len(self.dataset)\n",
        "    self.num_classes = len(self.dataset._characters)\n",
        "    self.classes = range(self.num_classes)\n",
        "    self.n_ways = n_ways\n",
        "    self.instances_per_class = dict()\n",
        "    self.get_instances_per_class()\n",
        "\n",
        "  def __getitem__(self, idx):\n",
        "    query_img, query_class = self.dataset[idx]\n",
        "\n",
        "    # Find (n_ways - 1) distinct characters different from query_class\n",
        "    support_imgs = []\n",
        "    support_labels = []\n",
        "    support_classes = random.sample([c for c in self.classes if c != query_class], self.n_ways-1)\n",
        "\n",
        "    # Find 1 support image from query_class\n",
        "    support_classes.append(query_class)\n",
        "\n",
        "    random.shuffle(support_classes)\n",
        "\n",
        "    for c in support_classes:\n",
        "      [img] = random.sample(self.instances_per_class[c], 1)\n",
        "      support_imgs.append(img)\n",
        "      support_labels.append(torch.tensor([c == query_class], dtype=torch.float))\n",
        "\n",
        "    _, similarity = torch.max(torch.tensor(support_labels), axis=0)\n",
        "    return query_img, support_imgs, support_labels, similarity\n",
        "\n",
        "  def __len__(self):\n",
        "    return self.size\n",
        "\n",
        "  def get_instances_per_class(self):\n",
        "    for (image, label) in self.dataset:\n",
        "      if label in self.instances_per_class:\n",
        "        self.instances_per_class[label].append(image)\n",
        "      else:\n",
        "        self.instances_per_class[label] = [image]\n",
        "\n",
        "\n",
        "class MTFLDataset(Dataset):\n",
        "  def __init__(self, data_file,\n",
        "               num_samples=10000,\n",
        "               data_transforms=transforms.ToTensor(), ):\n",
        "\n",
        "    self.df = pd.read_csv(data_file, sep=' ', header=None,\n",
        "                          skipinitialspace=True, nrows=num_samples)\n",
        "    self.df.iloc[:, 0] = self.df.iloc[:, 0].apply(lambda s: s.replace('\\\\', '/'))\n",
        "    self.transform = data_transforms\n",
        "\n",
        "  def __getitem__(self, idx):\n",
        "    item = self.df.iloc[idx]\n",
        "    img_name = item[0]\n",
        "    labels = (item[11:] - 1)  # 1-indexed to 0-indexed\n",
        "\n",
        "    img = Image.open(img_name)\n",
        "    img = self.transform(img)\n",
        "\n",
        "    return img, torch.from_numpy(np.array(labels, dtype=np.float32)).long()\n",
        "\n",
        "  def __len__(self):\n",
        "    return len(self.df)\n",
        "\n",
        "\n",
        "\"\"\"\n",
        "Load datasets\n",
        "\"\"\"\n",
        "\n",
        "def get_train_val_datasets(background_dataset_size=10000,\n",
        "                           val_split=0.2, download=True):\n",
        "\n",
        "  dataset_size = background_dataset_size\n",
        "  val_split = 0.2\n",
        "  train_size = int(dataset_size * (1 - val_split))\n",
        "  val_size = dataset_size - train_size\n",
        "\n",
        "  background_dataset = SiameseOmniglotDataset(num_samples=dataset_size,\n",
        "                                              download=download)\n",
        "  train_dataset, val_dataset = random_split(background_dataset, [train_size, val_size])\n",
        "\n",
        "  return train_dataset, val_dataset\n",
        "\n",
        "\n",
        "def get_test_dataset(n_ways=5, download=True):\n",
        "  return NWayOneShotOmniglotDataset(n_ways=n_ways, download=download)\n",
        "\n",
        "\n",
        "def get_train_val_datasets_mtfl(dataset_size=10000, val_split=0.2):\n",
        "\n",
        "  data_transforms = transforms.Compose([transforms.Resize((256, 256)),\n",
        "                                        transforms.ToTensor()])\n",
        "\n",
        "  train_size = int(dataset_size * (1 - val_split))\n",
        "  val_size = dataset_size - train_size\n",
        "\n",
        "  background_dataset = MTFLDataset(data_file='/content/MTFL/training.txt',\n",
        "                                   num_samples=dataset_size,\n",
        "                                   data_transforms=data_transforms)\n",
        "\n",
        "  train_dataset, val_dataset = random_split(background_dataset, [train_size, val_size])\n",
        "\n",
        "  return train_dataset, val_dataset"
      ],
      "execution_count": 6,
      "outputs": []
    },
    {
      "cell_type": "code",
      "metadata": {
        "cellView": "form",
        "execution": {},
        "id": "T6oJs4pbtkCJ"
      },
      "source": [
        "# @title Training/Evaluation Helper Functions\n",
        "\n",
        "# @markdown `train_multi_task(model, trainloader, valloader, criterion, optimizer, epochs=10, device='cpu')`\n",
        "def train_multi_task(model, trainloader, valloader, criterion, optimizer,\n",
        "                     epochs=10, device='cpu'):\n",
        "\n",
        "  best_model_weights = copy.deepcopy(model.state_dict())\n",
        "  best_overall_acc = 0.0\n",
        "\n",
        "  for ep in range(epochs):\n",
        "    print(\"\")\n",
        "    print(\"======== Epoch {:} / {:} ========\".format(ep + 1, epochs))\n",
        "\n",
        "    running_corrects = np.zeros(4)\n",
        "    running_loss = 0.0\n",
        "    model.train()\n",
        "    model.to(device)\n",
        "    for inps, labels in trainloader:\n",
        "      inps = inps.to(device)\n",
        "      labels = labels.to(device)\n",
        "      outs = model(inps)\n",
        "      overall_loss = 0.0\n",
        "\n",
        "      for i in range(4):\n",
        "        overall_loss += criterion(outs[i].to(device), labels[:, i].to(device))\n",
        "        _, preds = torch.max(outs[i], 1)\n",
        "        running_corrects[i] += torch.sum(preds == labels[:, i].data)\n",
        "\n",
        "      running_loss += overall_loss.item()\n",
        "\n",
        "      optimizer.zero_grad()\n",
        "      overall_loss.backward()\n",
        "      optimizer.step()\n",
        "\n",
        "    train_loss = running_loss/(len(trainloader) * inps.size(0))\n",
        "    train_accs = running_corrects / (len(trainloader) * inps.size(0))\n",
        "    train_overall_acc = np.mean(train_accs)\n",
        "    running_corrects_val = np.zeros(4)\n",
        "\n",
        "    model.eval()\n",
        "    with torch.no_grad():\n",
        "      for inps, labels in valloader:\n",
        "        inps = inps.to(device)\n",
        "        labels = labels.to(device)\n",
        "        outs = model(inps)\n",
        "\n",
        "        overall_loss = 0.0\n",
        "\n",
        "        for i in range(4):\n",
        "          _, preds = torch.max(outs[i], 1)\n",
        "          running_corrects_val[i] += torch.sum(preds == labels[:, i].data)\n",
        "\n",
        "      val_accs = running_corrects_val / (len(valloader) * inps.size(0))\n",
        "\n",
        "      val_overall_acc = np.mean(val_accs)\n",
        "\n",
        "      if val_overall_acc > best_overall_acc:\n",
        "        best_overall_acc = val_overall_acc\n",
        "        best_model_weights = copy.deepcopy(model.state_dict())\n",
        "\n",
        "    print(f\"Training => Avg. Task Accuracy: {train_overall_acc}\")\n",
        "    print(f\"Validation => Avg. Task Accuracy: {val_overall_acc}\")\n",
        "\n",
        "  model.load_state_dict(best_model_weights)\n",
        "  return model\n",
        "\n",
        "\n",
        "# @markdown `train_siamese_network(model, criterion, optimizer, train_loader, device='cpu', print_freq=100)`\n",
        "def train_siamese_network(model, criterion, optimizer, train_loader,\n",
        "                          device=\"cpu\", print_freq=100):\n",
        "  model.to(device)\n",
        "  running_loss = 0.0\n",
        "  correct = 0.0\n",
        "  total = 0.0\n",
        "  for batch_idx, data in enumerate(train_loader):\n",
        "    x1 = data[0].to(device)\n",
        "    x2 = data[1].to(device)\n",
        "    y = data[2].to(device)\n",
        "\n",
        "    optimizer.zero_grad() #Set parameter gradients to zero\n",
        "\n",
        "    y_pred = model(x1, x2)\n",
        "    # print(y_pred.shape, y.shape)\n",
        "    loss = criterion(y_pred.view(-1), y.view(-1))\n",
        "    loss.backward() #Set the values for gradients (`grad`) of all the parameters\n",
        "    optimizer.step() #Update the parameter values using the computed gradients\n",
        "\n",
        "    running_loss += loss.item()\n",
        "\n",
        "    y_out = torch.round(torch.sigmoid(y_pred)) #To do: do necessary modifs from sigmoid to regular\n",
        "    correct += y_out.eq(y.to(device)).sum()\n",
        "    total += y_out.shape[0]\n",
        "\n",
        "    # if (batch_idx % print_freq) == (print_freq - 1):\n",
        "    #   print(f\"Batch: {batch_idx} Running loss: {running_loss / print_freq} Train accuracy: {acc}\")\n",
        "    #   running_loss = 0.0\n",
        "\n",
        "  print(f\"Training => Average Loss: {running_loss/len(train_loader)} | Accuracy: {correct/total}\")\n",
        "\n",
        "\n",
        "# @markdown `evaluate_siamese_network(model, criterion, val_loader, device='cpu')`\n",
        "def evaluate_siamese_network(model, criterion, val_loader, device='cpu'):\n",
        "  model.eval()\n",
        "  model.to(device)\n",
        "  correct = 0.0\n",
        "  total = 0.0\n",
        "  val_loss = 0.0\n",
        "  with torch.no_grad():\n",
        "    for (x1, x2, y) in val_loader:\n",
        "      y_pred = model(x1.to(device), x2.to(device))\n",
        "      loss = criterion(y_pred.view(-1), y.to(device).view(-1))\n",
        "      val_loss += loss.item()\n",
        "      y_out = torch.round(torch.sigmoid(y_pred)) #To do: do necessary modifs from sigmoid to regular\n",
        "      correct += y_out.eq(y.to(device)).sum()\n",
        "      total += y_out.shape[0]\n",
        "\n",
        "  val_acc = correct/total\n",
        "  val_loss = val_loss/len(val_loader)\n",
        "\n",
        "  print(f\"Validation => Average Loss: {val_loss} | Accuracy: {val_acc}\")\n",
        "\n",
        "def evaluate_one_shot(model, test_loader, device='cpu'):\n",
        "  model.eval()\n",
        "  model.to(device)\n",
        "\n",
        "  correct = 0.0\n",
        "  total = 0.0\n",
        "\n",
        "  with torch.no_grad():\n",
        "    for (query_img, support_imgs, support_labels, similarity) in test_loader:\n",
        "      x_query = query_img.to(device)\n",
        "      y_pred_fc = [model(x_query, x_support.to(device)) for x_support in support_imgs]\n",
        "      y_pred = [torch.sigmoid(pred) for pred in y_pred_fc]\n",
        "      _, y_out = torch.max(torch.cat(y_pred, dim=1), 1)\n",
        "      correct += y_out.eq(similarity.to(device)).sum()\n",
        "      total += y_out.shape[0]\n",
        "\n",
        "  print(f'Testing (One-shot) => Accuracy: {correct/total}')"
      ],
      "execution_count": 7,
      "outputs": []
    },
    {
      "cell_type": "code",
      "metadata": {
        "cellView": "form",
        "execution": {},
        "id": "sioMl8YntkCQ"
      },
      "source": [
        "# @title Set random seed\n",
        "\n",
        "# @markdown Executing `set_seed(seed=seed)` you are setting the seed\n",
        "\n",
        "# for DL its critical to set the random seed so that students can have a\n",
        "# baseline to compare their results to expected results.\n",
        "# Read more here: https://pytorch.org/docs/stable/notes/randomness.html\n",
        "\n",
        "# Call `set_seed` function in the exercises to ensure reproducibility.\n",
        "import random\n",
        "import torch\n",
        "\n",
        "def set_seed(seed=None, seed_torch=True):\n",
        "  if seed is None:\n",
        "    seed = np.random.choice(2 ** 32)\n",
        "  random.seed(seed)\n",
        "  np.random.seed(seed)\n",
        "  if seed_torch:\n",
        "    torch.manual_seed(seed)\n",
        "    torch.cuda.manual_seed_all(seed)\n",
        "    torch.cuda.manual_seed(seed)\n",
        "    torch.backends.cudnn.benchmark = False\n",
        "    torch.backends.cudnn.deterministic = True\n",
        "\n",
        "  print(f'Random seed {seed} has been set.')\n",
        "\n",
        "\n",
        "# In case that `DataLoader` is used\n",
        "def seed_worker(worker_id):\n",
        "  worker_seed = torch.initial_seed() % 2**32\n",
        "  np.random.seed(worker_seed)\n",
        "  random.seed(worker_seed)"
      ],
      "execution_count": 8,
      "outputs": []
    },
    {
      "cell_type": "code",
      "metadata": {
        "cellView": "form",
        "execution": {},
        "id": "yfycC93xtkCR"
      },
      "source": [
        "# @title Set device (GPU or CPU). Execute `set_device()`\n",
        "# especially if torch modules used.\n",
        "\n",
        "# inform the user if the notebook uses GPU or CPU.\n",
        "\n",
        "def set_device():\n",
        "  device = \"cuda\" if torch.cuda.is_available() else \"cpu\"\n",
        "  if device != \"cuda\":\n",
        "    print(\"WARNING: For this notebook to perform best, \"\n",
        "        \"if possible, in the menu under `Runtime` -> \"\n",
        "        \"`Change runtime type.`  select `GPU` \")\n",
        "  else:\n",
        "    print(\"GPU is enabled in this notebook.\")\n",
        "\n",
        "  return device"
      ],
      "execution_count": 9,
      "outputs": []
    },
    {
      "cell_type": "code",
      "metadata": {
        "execution": {},
        "id": "S0Bxd8nytkCb",
        "colab": {
          "base_uri": "https://localhost:8080/"
        },
        "outputId": "ad12cb76-0ba6-46d7-e1cb-5d2f679f2063"
      },
      "source": [
        "SEED = 2021\n",
        "set_seed(seed=SEED)\n",
        "DEVICE = set_device()"
      ],
      "execution_count": 10,
      "outputs": [
        {
          "output_type": "stream",
          "text": [
            "Random seed 2021 has been set.\n",
            "GPU is enabled in this notebook.\n"
          ],
          "name": "stdout"
        }
      ]
    },
    {
      "cell_type": "markdown",
      "metadata": {
        "execution": {},
        "id": "MxIjkoTJtkCh"
      },
      "source": [
        "---\n",
        "# Section 1: Introduction to Out-of-Distribution (OOD) Learning\n",
        "\n",
        "*Time estimate: ~5mins*"
      ]
    },
    {
      "cell_type": "markdown",
      "metadata": {
        "execution": {},
        "id": "4nN-sCFqtkCj"
      },
      "source": [
        "In this section, we'll take a brief look at what OOD Learning is and how it can be useful in solving various problems with traditional Deep Learning."
      ]
    },
    {
      "cell_type": "code",
      "metadata": {
        "cellView": "form",
        "execution": {},
        "id": "-fCIwMNjtkCl",
        "colab": {
          "base_uri": "https://localhost:8080/",
          "height": 579,
          "referenced_widgets": [
            "4d1cd88fbf274b87ae878d0c6f3caf38",
            "053baaa3a4df447eaa5343bf425df3c3",
            "662dbe2ee0214e03829ff67e6caf787e",
            "c6889e3bb74e4956a677b6fb467def45",
            "51a7934fc8e74fb4ac73c69ad3aef366",
            "86600ee604894e4d8c8b5b8c7f7fe917"
          ]
        },
        "outputId": "4c793517-f1f9-42ce-de4e-184e1e260b61"
      },
      "source": [
        "# @title Video 1: The Future of Learning\n",
        "from ipywidgets import widgets\n",
        "\n",
        "out2 = widgets.Output()\n",
        "with out2:\n",
        "  from IPython.display import IFrame\n",
        "  class BiliVideo(IFrame):\n",
        "    def __init__(self, id, page=1, width=400, height=300, **kwargs):\n",
        "      self.id=id\n",
        "      src = \"https://player.bilibili.com/player.html?bvid={0}&page={1}\".format(id, page)\n",
        "      super(BiliVideo, self).__init__(src, width, height, **kwargs)\n",
        "\n",
        "  video = BiliVideo(id=f\"BV1764y167fj\", width=854, height=480, fs=1)\n",
        "  print(\"Video available at https://www.bilibili.com/video/{0}\".format(video.id))\n",
        "  display(video)\n",
        "\n",
        "out1 = widgets.Output()\n",
        "with out1:\n",
        "  from IPython.display import YouTubeVideo\n",
        "  video = YouTubeVideo(id=f\"zMQySpHBoGs\", width=854, height=480, fs=1, rel=0)\n",
        "  print(\"Video available at https://youtube.com/watch?v=\" + video.id)\n",
        "  display(video)\n",
        "\n",
        "out = widgets.Tab([out1, out2])\n",
        "out.set_title(0, 'Youtube')\n",
        "out.set_title(1, 'Bilibili')\n",
        "\n",
        "# add event to airtable\n",
        "atform.add_event('Video 1: The Future of Learning')\n",
        "\n",
        "display(out)"
      ],
      "execution_count": 11,
      "outputs": [
        {
          "output_type": "display_data",
          "data": {
            "application/vnd.jupyter.widget-view+json": {
              "model_id": "4d1cd88fbf274b87ae878d0c6f3caf38",
              "version_minor": 0,
              "version_major": 2
            },
            "text/plain": [
              "Tab(children=(Output(), Output()), _titles={'0': 'Youtube', '1': 'Bilibili'})"
            ]
          },
          "metadata": {}
        }
      ]
    },
    {
      "cell_type": "markdown",
      "metadata": {
        "execution": {},
        "id": "gq_HkZmptkCq"
      },
      "source": [
        "## Think! 1.1: What are the problems that *you* want to solve?"
      ]
    },
    {
      "cell_type": "markdown",
      "metadata": {
        "execution": {},
        "id": "_e7E9hSxtkCr"
      },
      "source": [
        "Think of a problem that you would want to have solved using Deep Learning. Don't restrict yourself to the problems you have looked at so far! \n",
        "\n",
        "Take 2 mins to think in silence and jot down a brief description of the problem here."
      ]
    },
    {
      "cell_type": "code",
      "metadata": {
        "execution": {},
        "id": "5BNt4gVWtkCs",
        "cellView": "form"
      },
      "source": [
        "# @markdown\n",
        "Problem_that_you_want_to_solve = 'something' # @param {type:\"string\"}"
      ],
      "execution_count": 13,
      "outputs": []
    },
    {
      "cell_type": "markdown",
      "metadata": {
        "execution": {},
        "id": "lA9v4tYYtkCs"
      },
      "source": [
        "Now discuss the following as a group:\n",
        "\n",
        "1. Can these problems be solved using the techniques that you have looked at so far? If not, why?\n",
        "2. Is there an OOD element attached to any of the problems, which makes them harder to solve? \n",
        "3. Can you think of ways you could solve these problems? (Don't worry if you struggle, we'll hopefully find some suggestions by the end of this tutorial)"
      ]
    },
    {
      "cell_type": "markdown",
      "metadata": {
        "execution": {},
        "id": "yHb-GtqktkCt"
      },
      "source": [
        "---\n",
        "# Section 2: Transfer and Multi-Task Learning\n",
        "\n",
        "*Time estimate: ~35mins*"
      ]
    },
    {
      "cell_type": "markdown",
      "metadata": {
        "execution": {},
        "id": "WXKCWmsItkCv"
      },
      "source": [
        "In this tutorial we will learn transfer learning and multi-task learning. Transfer learning is a machine learning method where a model which is trained on a task (or dataset) can be used as a good initialization for training on a completely different and unrelated task (or dataset). Transfer learning is a very commonly used practice in a lot of Deep Learning works. This method is not limited to any particular subdomain and is widely used in almost all the domains, namely Computer Vision, Natural Language Processing, Reinforcement Learning, etc. \n",
        "\n",
        "Multi-task learning aims to learn multiple tasks simultaneously using shared knowledge across these tasks. We can use Transfer learning to initialize the shared parts of the network. \n",
        "\n",
        "We aim to learn these concepts via a simple problem of attributes classification for the celebA dataset. "
      ]
    },
    {
      "cell_type": "code",
      "metadata": {
        "cellView": "form",
        "execution": {},
        "id": "tRmoQxLPtkCw",
        "colab": {
          "base_uri": "https://localhost:8080/",
          "height": 579,
          "referenced_widgets": [
            "2e6f3df56bfa41978a2e7d7f26c89d2e",
            "403e203ee72b4ff68e82b2cb549196dd",
            "ac3eb85d9c6d42dfa0a09effee7af8cd",
            "e8d07cd8fc16433aa156a00bbef3df84",
            "bff259dda71945f5a6b05215152cb4d6",
            "f7643c6f66214f3092d641952c58f7a4"
          ]
        },
        "outputId": "22d1adb8-0373-40a1-a54e-45a3b6191a5b"
      },
      "source": [
        "# @title Video 2: Transfer and Multi-Tasking Learning\n",
        "from ipywidgets import widgets\n",
        "\n",
        "out2 = widgets.Output()\n",
        "with out2:\n",
        "  from IPython.display import IFrame\n",
        "  class BiliVideo(IFrame):\n",
        "    def __init__(self, id, page=1, width=400, height=300, **kwargs):\n",
        "      self.id=id\n",
        "      src = \"https://player.bilibili.com/player.html?bvid={0}&page={1}\".format(id, page)\n",
        "      super(BiliVideo, self).__init__(src, width, height, **kwargs)\n",
        "\n",
        "  video = BiliVideo(id=f\"BV18w41197o8\", width=854, height=480, fs=1)\n",
        "  print(\"Video available at https://www.bilibili.com/video/{0}\".format(video.id))\n",
        "  display(video)\n",
        "\n",
        "out1 = widgets.Output()\n",
        "with out1:\n",
        "  from IPython.display import YouTubeVideo\n",
        "  video = YouTubeVideo(id=f\"PplDj0vXuIY\", width=854, height=480, fs=1, rel=0)\n",
        "  print(\"Video available at https://youtube.com/watch?v=\" + video.id)\n",
        "  display(video)\n",
        "\n",
        "out = widgets.Tab([out1, out2])\n",
        "out.set_title(0, 'Youtube')\n",
        "out.set_title(1, 'Bilibili')\n",
        "\n",
        "# add event to airtable\n",
        "atform.add_event('Video 2: Transfer and Multi-Tasking Learning')\n",
        "\n",
        "display(out)"
      ],
      "execution_count": 14,
      "outputs": [
        {
          "output_type": "display_data",
          "data": {
            "application/vnd.jupyter.widget-view+json": {
              "model_id": "2e6f3df56bfa41978a2e7d7f26c89d2e",
              "version_minor": 0,
              "version_major": 2
            },
            "text/plain": [
              "Tab(children=(Output(), Output()), _titles={'0': 'Youtube', '1': 'Bilibili'})"
            ]
          },
          "metadata": {}
        }
      ]
    },
    {
      "cell_type": "markdown",
      "metadata": {
        "execution": {},
        "id": "RiNNqbVttkCx"
      },
      "source": [
        "## Section 2.1: Getting the data\n",
        "We will be using the [MTFL](http://mmlab.ie.cuhk.edu.hk/projects/TCDCN.html) dataset for demonstrating the concepts of Transfer and Multi-Task Learning. "
      ]
    },
    {
      "cell_type": "code",
      "metadata": {
        "cellView": "form",
        "execution": {},
        "id": "iaj10kD_tkCy",
        "colab": {
          "base_uri": "https://localhost:8080/"
        },
        "outputId": "a2967406-31c9-48b2-c2ae-b5e602395120"
      },
      "source": [
        "# @title Download and unzip the dataset\n",
        "import requests, zipfile\n",
        "\n",
        "# originally from 'http://mmlab.ie.cuhk.edu.hk/projects/TCDCN/data/MTFL.zip'\n",
        "os.chdir('/content')\n",
        "name = 'MTFL'\n",
        "fname = f\"{name}.zip\"\n",
        "url = \"https://osf.io/u5emj/download\"\n",
        "\n",
        "if not os.path.exists(name):\n",
        "  print(\"Start downloading and unzipping `MTFL` dataset...\")\n",
        "  r = requests.get(url, allow_redirects=True)\n",
        "  with open(fname, 'wb') as fd:\n",
        "    fd.write(r.content)\n",
        "  with zipfile.ZipFile(fname, 'r') as zip_ref:\n",
        "    zip_ref.extractall(name)\n",
        "  print(\"Download completed.\")\n",
        "else:\n",
        "  print('Data has been already downloaded.')\n",
        "\n",
        "print('Change direcrtory!')\n",
        "os.chdir(name)\n",
        "print(f'Current dir: {os.getcwd()}')"
      ],
      "execution_count": 15,
      "outputs": [
        {
          "output_type": "stream",
          "text": [
            "Start downloading and unzipping `MTFL` dataset...\n",
            "Download completed.\n",
            "Change direcrtory!\n",
            "Current dir: /content/MTFL\n"
          ],
          "name": "stdout"
        }
      ]
    },
    {
      "cell_type": "markdown",
      "metadata": {
        "execution": {},
        "id": "aTb4WjZltkCy"
      },
      "source": [
        "Lets load the dataset into dataloaders which will help us in training the model! \n",
        "\n",
        "You can check the implementation  of the `get_train_val_datasets_mtfl()` in the hidden cell `Dataset Definition and Helper Functions`"
      ]
    },
    {
      "cell_type": "code",
      "metadata": {
        "execution": {},
        "id": "M5MC2-Y4tkC0"
      },
      "source": [
        "\"\"\"\n",
        "Create dataloaders for the train and validation datasets\n",
        "\"\"\"\n",
        "\n",
        "train_dataset, val_dataset = get_train_val_datasets_mtfl()\n",
        "\n",
        "# Change this for a different batch size\n",
        "batch_size = 16\n",
        "\n",
        "g_seed = torch.Generator()\n",
        "g_seed.manual_seed(SEED)\n",
        "\n",
        "train_loader = DataLoader(\n",
        "    dataset=train_dataset,\n",
        "    batch_size=batch_size,\n",
        "    num_workers=2,\n",
        "    worker_init_fn=seed_worker,\n",
        "    generator=g_seed\n",
        "    )\n",
        "\n",
        "val_loader = DataLoader(\n",
        "    dataset=val_dataset,\n",
        "    batch_size=batch_size,\n",
        "    num_workers=2,\n",
        "    worker_init_fn=seed_worker,\n",
        "    generator=g_seed\n",
        "    )"
      ],
      "execution_count": 16,
      "outputs": []
    },
    {
      "cell_type": "markdown",
      "metadata": {
        "execution": {},
        "id": "VNyliaJEtkC1"
      },
      "source": [
        "We visualize the samples from the dataset, we can see  that the input will be an image and there are multiple labels for the same image. The description of each label - \n",
        "\n",
        " - gender : 0 - male, 1 - female\n",
        " - smiling : 0 - yes, 1 - no\n",
        " - wearing glasses : 0 - yes, 1 - no\n",
        " - head pose : 0° - 0, +30° - 1, -30° - 2, +60° - 3, -60° - 4 "
      ]
    },
    {
      "cell_type": "code",
      "metadata": {
        "execution": {},
        "id": "YO4W0nb2tkC2",
        "colab": {
          "base_uri": "https://localhost:8080/",
          "height": 447
        },
        "outputId": "88fedf43-5aa3-4838-fca3-ea18d247205d"
      },
      "source": [
        "sample = train_dataset[0]\n",
        "visualize_mtfl_sample(sample)"
      ],
      "execution_count": 17,
      "outputs": [
        {
          "output_type": "stream",
          "text": [
            "Labels: [0, 0, 0, 2]\n"
          ],
          "name": "stdout"
        },
        {
          "output_type": "display_data",
          "data": {
            "image/png": "[encoded data removed]",
            "text/plain": [
              "<Figure size 576x432 with 1 Axes>"
            ]
          },
          "metadata": {
            "image/png": {
              "width": 414,
              "height": 413
            }
          }
        }
      ]
    },
    {
      "cell_type": "markdown",
      "metadata": {
        "execution": {},
        "id": "SAp1zHb6tkC2"
      },
      "source": [
        "Can you interpret the above image and the labels corresponding to the image? Let's have a look at some more instances from the dataset."
      ]
    },
    {
      "cell_type": "markdown",
      "metadata": {
        "execution": {},
        "id": "ypgW8YJatkC9"
      },
      "source": [
        "<img src=\"https://raw.githubusercontent.com/NeuromatchAcademy/course-content-dl/main/tutorials/W3D4_ContinualLearning/static/labels_cl.png\">"
      ]
    },
    {
      "cell_type": "markdown",
      "metadata": {
        "execution": {},
        "id": "iEhta5bftkC9"
      },
      "source": [
        "## Section 2.2: Defining the model \n",
        "\n",
        "A typical multi-task model looks like below, with shared layers being layers where knowledge is shared. Task-specific layers, as the name suggests, are specific to the tasks. \n",
        "\n",
        "<img src=\"https://raw.githubusercontent.com/NeuromatchAcademy/course-content-dl/main/tutorials/W3D4_ContinualLearning/static/model_cl.png\">\n",
        "\n",
        "\n",
        "For the shared layers we will use a pre-trained backbone network. Here you can try out various models, we have provided an example of using resnet18 backbone. We have to remove the last fully connected layer, because that is specifically used for classificiation task. Futher, for each task we have some fully connected layers, you can play around with more layers on your own! "
      ]
    },
    {
      "cell_type": "markdown",
      "metadata": {
        "execution": {},
        "id": "yG-t8Y3itkC-"
      },
      "source": [
        "### Coding Exercise 2.2: Creating a Multi-Task model\n",
        "\n",
        "Complete the custom model class `Multi_task_model`. \n",
        "Complete the `forward()` function, by adding your solution to collect outputs for all the tasks using the fully connected for the corresponding task. \n",
        "\n",
        "You can find an entire list of pre-trained models provided by PyTorch [here](https://pytorch.org/vision/stable/models.html)"
      ]
    },
    {
      "cell_type": "code",
      "metadata": {
        "execution": {},
        "id": "V-KYJJ6JtkC_"
      },
      "source": [
        "class Multi_task_model(nn.Module):\n",
        "  def __init__(self, pretrained=True, num_tasks=4, load_file=None,\n",
        "               num_labels_per_task=[2, 2, 2, 5]):\n",
        "    super(Multi_task_model, self).__init__()\n",
        "    self.backbone = models.resnet18(pretrained=pretrained)  # You can play around with different pre-trained models\n",
        "    if load_file:\n",
        "      self.backbone.load_state_dict(torch.load(load_file))\n",
        "    self.backbone = torch.nn.Sequential(*(list(self.backbone.children())[:-1]))  # Remove the last fully connected layer\n",
        "\n",
        "    if pretrained:\n",
        "      for param in self.backbone.parameters():\n",
        "        param.requires_grad = False\n",
        "\n",
        "    self.fcs = []\n",
        "\n",
        "    self.num_tasks = num_tasks\n",
        "\n",
        "    for i in range(self.num_tasks):\n",
        "      self.fcs.append(nn.Sequential(\n",
        "          nn.Linear(512, 128),\n",
        "          nn.ReLU(),\n",
        "          nn.Dropout(0.4),\n",
        "          nn.Linear(128, num_labels_per_task[i]),\n",
        "          ################################\n",
        "          # Add more layers if you want! #\n",
        "          ################################\n",
        "          nn.Softmax(dim=1),\n",
        "      ))\n",
        "\n",
        "      self.fcs = nn.ModuleList(self.fcs)\n",
        "\n",
        "  def forward(self, x):\n",
        "    x = self.backbone(x)\n",
        "    x = torch.flatten(x, 1)\n",
        "    outs = []\n",
        "    #################################################\n",
        "    # Collect outputs for each task\n",
        "    # Fill in missing code below (...),\n",
        "    # then remove or comment the line below to test your implementation\n",
        "    #raise NotImplementedError(\"Complete the model!\")\n",
        "    #################################################\n",
        "    for i in range(self.num_tasks):\n",
        "      outs.append( self.fcs[i] (x) )\n",
        "    return outs\n",
        "\n",
        "\n",
        "# add event to airtable\n",
        "atform.add_event('Coding Exercise 2.2: Creating a Multi-Task model')"
      ],
      "execution_count": 18,
      "outputs": []
    },
    {
      "cell_type": "markdown",
      "metadata": {
        "execution": {},
        "id": "R5tIVM3ytkDC"
      },
      "source": [
        "[*Click for solution*](https://github.com/NeuromatchAcademy/course-content-dl/tree/main//tutorials/W3D4_ContinualLearning/solutions/W3D4_Tutorial2_Solution_0a937c07.py)\n",
        "\n"
      ]
    },
    {
      "cell_type": "markdown",
      "metadata": {
        "execution": {},
        "id": "UEgJpXgItkDE"
      },
      "source": [
        "To avoid any major blackout due to multiple downloads, we download a pretrained ResNet model locally.\n",
        "\n",
        "**Note:** If `pretrained=False` and `load_file` exists, we load the pretrained model from a file. If you want to use a different model, set `load_file` to `None`."
      ]
    },
    {
      "cell_type": "code",
      "metadata": {
        "cellView": "form",
        "execution": {},
        "id": "1Hrrf1wPtkDW"
      },
      "source": [
        "# @title Download `resnet18` pretrained\n",
        "url = \"https://osf.io/2kd98/download\"\n",
        "fname = \"resnet18-f37072fd.pth\"\n",
        "r = requests.get(url, allow_redirects=True)\n",
        "\n",
        "with open(fname, 'wb') as fd:\n",
        "  fd.write(r.content)"
      ],
      "execution_count": 19,
      "outputs": []
    },
    {
      "cell_type": "code",
      "metadata": {
        "execution": {},
        "id": "UAzfE091tkDX"
      },
      "source": [
        "\"\"\"\n",
        "Initialize two models with and without pre-trained weights\n",
        "\"\"\"\n",
        "model_with_pre_trained_backbone = Multi_task_model(pretrained=False,\n",
        "                                                   load_file=fname).to(DEVICE)\n",
        "model_without_pre_trained_backbone = Multi_task_model(pretrained=False).to(DEVICE)"
      ],
      "execution_count": 20,
      "outputs": []
    },
    {
      "cell_type": "markdown",
      "metadata": {
        "execution": {},
        "id": "0FeP3E9VtkDY"
      },
      "source": [
        "Let's define the loss function and optimizer. Since this is a classification task, we will be using cross-entropy loss. For the optimizer we will be using Stochastic Gradient descent. "
      ]
    },
    {
      "cell_type": "code",
      "metadata": {
        "execution": {},
        "id": "n3rYp1oPtkDY"
      },
      "source": [
        "criterion = nn.CrossEntropyLoss()\n",
        "\n",
        "# Observe that all parameters are being optimized\n",
        "optimizer_without_pre_trained_backbone = optim.SGD(\n",
        "    model_without_pre_trained_backbone.parameters(),\n",
        "    lr=0.001,\n",
        "    momentum=0.9\n",
        "    )\n",
        "\n",
        "optimizer_pre_trained_backbone = optim.SGD(\n",
        "    model_with_pre_trained_backbone.parameters(),\n",
        "    lr=0.001,\n",
        "    momentum=0.9\n",
        "    )"
      ],
      "execution_count": 21,
      "outputs": []
    },
    {
      "cell_type": "markdown",
      "metadata": {
        "execution": {},
        "id": "Xc22xq1AtkDZ"
      },
      "source": [
        "## Section 2.3: Training model without pretrained backbone"
      ]
    },
    {
      "cell_type": "code",
      "metadata": {
        "execution": {},
        "id": "nLm9YwuGtkDZ",
        "colab": {
          "base_uri": "https://localhost:8080/"
        },
        "outputId": "9e506e72-12d2-4adc-b19b-5424881a5bf6"
      },
      "source": [
        "model_without_pre_trained_backbone = train_multi_task(\n",
        "    model_without_pre_trained_backbone,\n",
        "    train_loader,\n",
        "    val_loader,\n",
        "    criterion,\n",
        "    optimizer_without_pre_trained_backbone,\n",
        "    epochs=5, device=DEVICE\n",
        "    )"
      ],
      "execution_count": 22,
      "outputs": [
        {
          "output_type": "stream",
          "text": [
            "\n",
            "======== Epoch 1 / 5 ========\n"
          ],
          "name": "stdout"
        },
        {
          "output_type": "stream",
          "text": [
            "/usr/local/lib/python3.7/dist-packages/torch/nn/functional.py:718: UserWarning: Named tensors and all their associated APIs are an experimental feature and subject to change. Please do not use them for anything important until they are released as stable. (Triggered internally at  /pytorch/c10/core/TensorImpl.h:1156.)\n",
            "  return torch.max_pool2d(input, kernel_size, stride, padding, dilation, ceil_mode)\n"
          ],
          "name": "stderr"
        },
        {
          "output_type": "stream",
          "text": [
            "Training => Avg. Task Accuracy: 0.68796875\n",
            "Validation => Avg. Task Accuracy: 0.6956249999999999\n",
            "\n",
            "======== Epoch 2 / 5 ========\n",
            "Training => Avg. Task Accuracy: 0.7139375000000001\n",
            "Validation => Avg. Task Accuracy: 0.717\n",
            "\n",
            "======== Epoch 3 / 5 ========\n",
            "Training => Avg. Task Accuracy: 0.72409375\n",
            "Validation => Avg. Task Accuracy: 0.7198749999999999\n",
            "\n",
            "======== Epoch 4 / 5 ========\n",
            "Training => Avg. Task Accuracy: 0.7301562500000001\n",
            "Validation => Avg. Task Accuracy: 0.724\n",
            "\n",
            "======== Epoch 5 / 5 ========\n",
            "Training => Avg. Task Accuracy: 0.734375\n",
            "Validation => Avg. Task Accuracy: 0.724375\n"
          ],
          "name": "stdout"
        }
      ]
    },
    {
      "cell_type": "markdown",
      "metadata": {
        "execution": {},
        "id": "DaBtCgcBtkDa"
      },
      "source": [
        "## Section 2.4: Training model with pretrained backbone"
      ]
    },
    {
      "cell_type": "code",
      "metadata": {
        "execution": {},
        "id": "IxmjgL7htkDa",
        "colab": {
          "base_uri": "https://localhost:8080/"
        },
        "outputId": "a176a4bc-887d-4e09-897d-51b9a5b5b1bf"
      },
      "source": [
        "model_pre_trained_backbone = train_multi_task(model_with_pre_trained_backbone,\n",
        "                                              train_loader,\n",
        "                                              val_loader,\n",
        "                                              criterion,\n",
        "                                              optimizer_pre_trained_backbone,\n",
        "                                              epochs=5, device=DEVICE)"
      ],
      "execution_count": 23,
      "outputs": [
        {
          "output_type": "stream",
          "text": [
            "\n",
            "======== Epoch 1 / 5 ========\n",
            "Training => Avg. Task Accuracy: 0.7601875\n",
            "Validation => Avg. Task Accuracy: 0.81175\n",
            "\n",
            "======== Epoch 2 / 5 ========\n",
            "Training => Avg. Task Accuracy: 0.8239375\n",
            "Validation => Avg. Task Accuracy: 0.831125\n",
            "\n",
            "======== Epoch 3 / 5 ========\n",
            "Training => Avg. Task Accuracy: 0.8485\n",
            "Validation => Avg. Task Accuracy: 0.8365\n",
            "\n",
            "======== Epoch 4 / 5 ========\n",
            "Training => Avg. Task Accuracy: 0.8636250000000001\n",
            "Validation => Avg. Task Accuracy: 0.8405\n",
            "\n",
            "======== Epoch 5 / 5 ========\n",
            "Training => Avg. Task Accuracy: 0.872625\n",
            "Validation => Avg. Task Accuracy: 0.840625\n"
          ],
          "name": "stdout"
        }
      ]
    },
    {
      "cell_type": "markdown",
      "metadata": {
        "execution": {},
        "id": "2WvHTLLltkDb"
      },
      "source": [
        "## Section 2.5: Section Summary\n",
        "\n",
        "We can summarize this section as follows\n",
        "\n",
        "* Transfer learning helps in initializing the model better and thus makes learning of the model faster. It also gives better performance compared to the same model that was trained from scratch. Below is a table which contains validation accuracies after 5 epochs (your accuracies can be slightly different when you run the training loops. It will also depend on the number of epochs and the model you have implemented)-\n",
        "\n",
        "\n",
        "|           Method          | Validation Accuracy |\n",
        "|:-------------------------:|:-------------------:|\n",
        "|   With Transfer Learning  |      **0.779**      | \n",
        "| Without Transfer Learning |        0.728        |\n",
        "\n",
        "* Multi-task learning helps us learn multiple tasks together, by sharing knowledge across layers. Task specific layers then help the model learn task specific features. \n"
      ]
    },
    {
      "cell_type": "markdown",
      "metadata": {
        "execution": {},
        "id": "CX53JkNxtkDj"
      },
      "source": [
        "---\n",
        "# Section 3: Interpretability"
      ]
    },
    {
      "cell_type": "code",
      "metadata": {
        "cellView": "form",
        "execution": {},
        "id": "exQikIRhtkDk",
        "colab": {
          "base_uri": "https://localhost:8080/",
          "height": 579,
          "referenced_widgets": [
            "ac335061d63a4e789f3a01a359ca4a99",
            "974f2ced2aca4d83a5b7b1e42fb2628c",
            "999630ceacfa4bbba96c0a2d615bd686",
            "f596d5f01d464e419999dce725f14540",
            "5c0f08fe627a4e25ab51b0df35d97b80",
            "712d0b0e8bfa44ff98f590b8a43ae955"
          ]
        },
        "outputId": "8231069e-cf54-464b-84a9-baccda1c49a1"
      },
      "source": [
        "# @title Video 3: Interpretability\n",
        "from ipywidgets import widgets\n",
        "\n",
        "out2 = widgets.Output()\n",
        "with out2:\n",
        "  from IPython.display import IFrame\n",
        "  class BiliVideo(IFrame):\n",
        "    def __init__(self, id, page=1, width=400, height=300, **kwargs):\n",
        "      self.id=id\n",
        "      src = \"https://player.bilibili.com/player.html?bvid={0}&page={1}\".format(id, page)\n",
        "      super(BiliVideo, self).__init__(src, width, height, **kwargs)\n",
        "\n",
        "  video = BiliVideo(id=f\"BV1Ey4y1j7Jj\", width=854, height=480, fs=1)\n",
        "  print(\"Video available at https://www.bilibili.com/video/{0}\".format(video.id))\n",
        "  display(video)\n",
        "\n",
        "out1 = widgets.Output()\n",
        "with out1:\n",
        "  from IPython.display import YouTubeVideo\n",
        "  video = YouTubeVideo(id=f\"P_QtnN1_wMM\", width=854, height=480, fs=1, rel=0)\n",
        "  print(\"Video available at https://youtube.com/watch?v=\" + video.id)\n",
        "  display(video)\n",
        "\n",
        "out = widgets.Tab([out1, out2])\n",
        "out.set_title(0, 'Youtube')\n",
        "out.set_title(1, 'Bilibili')\n",
        "\n",
        "# add event to airtable\n",
        "atform.add_event('Video 3: Interpretability')\n",
        "\n",
        "display(out)"
      ],
      "execution_count": 24,
      "outputs": [
        {
          "output_type": "display_data",
          "data": {
            "application/vnd.jupyter.widget-view+json": {
              "model_id": "ac335061d63a4e789f3a01a359ca4a99",
              "version_minor": 0,
              "version_major": 2
            },
            "text/plain": [
              "Tab(children=(Output(), Output()), _titles={'0': 'Youtube', '1': 'Bilibili'})"
            ]
          },
          "metadata": {}
        }
      ]
    },
    {
      "cell_type": "markdown",
      "metadata": {
        "execution": {},
        "id": "TQboo4SmtkDk"
      },
      "source": [
        "Lets' find the most important feature for Cancer prediction and see if it belongs to the set of two most important features for the same problem!"
      ]
    },
    {
      "cell_type": "markdown",
      "metadata": {
        "execution": {},
        "id": "k9kLCN1ytkDl"
      },
      "source": [
        "## Section 3.1: Defining the problem setup"
      ]
    },
    {
      "cell_type": "markdown",
      "metadata": {
        "execution": {},
        "id": "5S_MesnMtkDl"
      },
      "source": [
        "Imagine that you want to apply all the knowledge that you have gained from this course to a real health problem, say predicting cancer. You develop an algorithm for predicting cancer using certain input features from patient data. \n",
        "\n",
        "This is a composite model that takes in three binary variables: does the patient have a family history of cancer (1=yes, 0=no), does the patient smoke (1=yes, 0=no), and is the patient young (age < 40) (1=yes, 0=no).\n",
        "\n",
        "The algorithm does not favour either of the outcomes, so $P(cancer) = P(no\\_cancer) = .5$\n",
        "\n",
        "You wish to find the most important feature according to the model and you have the following list of conditional probabilities.\n",
        "\n",
        "\\\\\n",
        "\n",
        "\\begin{align}\n",
        "P(family\\_history = 1  | no\\_cancer) = .1 &, P(family\\_history = 1 | cancer) = .9 \\\\\n",
        "P(smoker = 1 | no\\_cancer) = .05 &, P(smoker = 1| cancer) = .8 \\\\\n",
        "P(young = 1 | no\\_cancer) = .01 &, P(young = 1 | cancer) = .71\n",
        "\\end{align}"
      ]
    },
    {
      "cell_type": "markdown",
      "metadata": {
        "execution": {},
        "id": "45XH8-N7tkDm"
      },
      "source": [
        "## Section 3.2: Defining a feature importance metric"
      ]
    },
    {
      "cell_type": "markdown",
      "metadata": {
        "execution": {},
        "id": "AoHSg9yStkDm"
      },
      "source": [
        "Let's define a metric that can help us quantify how important a feature (or a given set of features) is!"
      ]
    },
    {
      "cell_type": "markdown",
      "metadata": {
        "execution": {},
        "id": "OwXGJ900tkDn"
      },
      "source": [
        "### Think! 3.2.1: Think of a suitable feature importance metric!\n",
        "\n",
        "Take a moment to think about feature importance and a simple metric for quantifying it! Remember that the feature importance should depend on how useful the feature is for predicting the outcome *alone*."
      ]
    },
    {
      "cell_type": "code",
      "metadata": {
        "cellView": "form",
        "execution": {},
        "id": "lvPUuQHltkDn",
        "colab": {
          "base_uri": "https://localhost:8080/",
          "height": 93,
          "referenced_widgets": [
            "81377b34795c4f05b1844204a199ed55",
            "2c0c769a0d04484e98da02f4f1433ad0",
            "cf9e38e77b4e4ffca9c60c5d97be9e6e",
            "c7a95483716f490e8969d105c97cb26b",
            "4107ebb164054f9d8bc0127cf76a8701",
            "9bb99e5ac70d4117ad8ae323151092be"
          ]
        },
        "outputId": "7fea1582-4999-47fb-f478-36b8bb390cbe"
      },
      "source": [
        "# @title Student Response\n",
        "from ipywidgets import widgets\n",
        "\n",
        "\n",
        "text=widgets.Textarea(\n",
        "   value='Type your answer here and click on `Submit!`',\n",
        "   placeholder='Type something',\n",
        "   description='',\n",
        "   disabled=False\n",
        ")\n",
        "\n",
        "button = widgets.Button(description=\"Submit!\")\n",
        "\n",
        "display(text,button)\n",
        "\n",
        "def on_button_clicked(b):\n",
        "   atform.add_answer('q1' , text.value)\n",
        "   print(\"Submission successful!\")\n",
        "\n",
        "\n",
        "button.on_click(on_button_clicked)"
      ],
      "execution_count": 25,
      "outputs": [
        {
          "output_type": "display_data",
          "data": {
            "application/vnd.jupyter.widget-view+json": {
              "model_id": "81377b34795c4f05b1844204a199ed55",
              "version_minor": 0,
              "version_major": 2
            },
            "text/plain": [
              "Textarea(value='Type your answer here and click on `Submit!`', placeholder='Type something')"
            ]
          },
          "metadata": {}
        },
        {
          "output_type": "display_data",
          "data": {
            "application/vnd.jupyter.widget-view+json": {
              "model_id": "c7a95483716f490e8969d105c97cb26b",
              "version_minor": 0,
              "version_major": 2
            },
            "text/plain": [
              "Button(description='Submit!', style=ButtonStyle())"
            ]
          },
          "metadata": {}
        }
      ]
    },
    {
      "cell_type": "markdown",
      "metadata": {
        "execution": {},
        "id": "z67VvBe_tkDo"
      },
      "source": [
        "[*Click for solution*](https://github.com/NeuromatchAcademy/course-content-dl/tree/main//tutorials/W3D4_ContinualLearning/solutions/W3D4_Tutorial2_Solution_c60bc138.py)\n",
        "\n"
      ]
    },
    {
      "cell_type": "markdown",
      "metadata": {
        "execution": {},
        "id": "6oOBotP9tkDo"
      },
      "source": [
        "Now discuss the following with the group: \n",
        "\n",
        "1. Each member of the group should briefly talk about the feature metric they came up with and why they think it is suitable for the given problem setup.\n",
        "2. Identify the most important characterics of a good feature importance metric. (As different members of the group used different criteria to select their metrics, find out the most important criteria that helped!). Try to limit yourself to the two most important characteristics. "
      ]
    },
    {
      "cell_type": "markdown",
      "metadata": {
        "execution": {},
        "id": "byCjAIIntkDp"
      },
      "source": [
        "Note down the most important characteristic here!"
      ]
    },
    {
      "cell_type": "code",
      "metadata": {
        "cellView": "form",
        "execution": {},
        "id": "sgkf3TJGtkDp",
        "colab": {
          "base_uri": "https://localhost:8080/",
          "height": 93,
          "referenced_widgets": [
            "4379c4c3694d4b6180851a1b083a199a",
            "6c0b8e694a2c4dda80cca94918daec44",
            "3a0c1b00cd284d10a3b98c60784933ec",
            "4702d3f7019845a6bc20c7bae437e965",
            "f9d519f18af64c46a133a0387d7d0675",
            "3d3041b3919049ce8d0e798c29971229"
          ]
        },
        "outputId": "3d20e9f1-0e50-49e2-d6c1-1a956853043f"
      },
      "source": [
        "# @title Student Response\n",
        "from ipywidgets import widgets\n",
        "\n",
        "\n",
        "text=widgets.Textarea(\n",
        "   value='Type the most important characteristic and click on `Submit!`',\n",
        "   placeholder='Type something',\n",
        "   description='',\n",
        "   disabled=False\n",
        ")\n",
        "\n",
        "button = widgets.Button(description=\"Submit!\")\n",
        "\n",
        "display(text,button)\n",
        "\n",
        "def on_button_clicked(b):\n",
        "   atform.add_answer('q2' , text.value)\n",
        "   print(\"Submission successful!\")\n",
        "\n",
        "\n",
        "button.on_click(on_button_clicked)"
      ],
      "execution_count": 26,
      "outputs": [
        {
          "output_type": "display_data",
          "data": {
            "application/vnd.jupyter.widget-view+json": {
              "model_id": "4379c4c3694d4b6180851a1b083a199a",
              "version_minor": 0,
              "version_major": 2
            },
            "text/plain": [
              "Textarea(value='Type the most important characteristic and click on `Submit!`', placeholder='Type something')"
            ]
          },
          "metadata": {}
        },
        {
          "output_type": "display_data",
          "data": {
            "application/vnd.jupyter.widget-view+json": {
              "model_id": "4702d3f7019845a6bc20c7bae437e965",
              "version_minor": 0,
              "version_major": 2
            },
            "text/plain": [
              "Button(description='Submit!', style=ButtonStyle())"
            ]
          },
          "metadata": {}
        }
      ]
    },
    {
      "cell_type": "markdown",
      "metadata": {
        "execution": {},
        "id": "o6Kq0udktkDq"
      },
      "source": [
        "Also note down the second most important characteristic here."
      ]
    },
    {
      "cell_type": "code",
      "metadata": {
        "cellView": "form",
        "execution": {},
        "id": "_pUBeUdBtkDq",
        "colab": {
          "base_uri": "https://localhost:8080/",
          "height": 93,
          "referenced_widgets": [
            "9b12f3cccc7e46239694f3de41bdc4c0",
            "43cbe316d4b1490ca257c86064d5ecde",
            "14b4a652c07a4c308b4ff4b952734dbd",
            "767d4a362b9a469f9dea481096a35585",
            "275eec76398f41029314a4ce77d9ca12",
            "685dbe62339040d98fa2eb8a8f45a440"
          ]
        },
        "outputId": "77cae602-51af-47c2-b906-ea49ef97b206"
      },
      "source": [
        "# @title Student Response\n",
        "from ipywidgets import widgets\n",
        "\n",
        "\n",
        "text=widgets.Textarea(\n",
        "   value='Type the second most important characteristic and click on `Submit!`',\n",
        "   placeholder='Type something',\n",
        "   description='',\n",
        "   disabled=False\n",
        ")\n",
        "\n",
        "button = widgets.Button(description=\"Submit!\")\n",
        "\n",
        "display(text,button)\n",
        "\n",
        "def on_button_clicked(b):\n",
        "   atform.add_answer('q3' , text.value)\n",
        "   print(\"Submission successful!\")\n",
        "\n",
        "\n",
        "button.on_click(on_button_clicked)"
      ],
      "execution_count": 27,
      "outputs": [
        {
          "output_type": "display_data",
          "data": {
            "application/vnd.jupyter.widget-view+json": {
              "model_id": "9b12f3cccc7e46239694f3de41bdc4c0",
              "version_minor": 0,
              "version_major": 2
            },
            "text/plain": [
              "Textarea(value='Type the second most important characteristic and click on `Submit!`', placeholder='Type somet…"
            ]
          },
          "metadata": {}
        },
        {
          "output_type": "display_data",
          "data": {
            "application/vnd.jupyter.widget-view+json": {
              "model_id": "767d4a362b9a469f9dea481096a35585",
              "version_minor": 0,
              "version_major": 2
            },
            "text/plain": [
              "Button(description='Submit!', style=ButtonStyle())"
            ]
          },
          "metadata": {}
        }
      ]
    },
    {
      "cell_type": "markdown",
      "metadata": {
        "execution": {},
        "id": "5IAwHa9otkDr"
      },
      "source": [
        "Thank you for coming up with some guidelines for what makes a feature importance metric good!\n",
        "\n",
        "Although the metrics defined by you must be great, we here define a simple metric for maintaining consistency throughout the rest of this tutorial.\n",
        "\n",
        "Let's assume that we wish to find the K best features. We know that a set of K features would be most important if they can predict the outcome with high confidence and better than any other set of the same size! We could hence try to predict the outcome using only the given set of features and record the accuracy. If this accuracy is higher than that using any other set of the same size, then we can say that the given set has the most important K features!\n",
        "\n",
        "In essence, we would want to find the accuracies considering all feature sets of size K and then pick the one with the highest accuracy.\n",
        "\n",
        "If we wish to define a loss instead (the lower the better), we could simply extend the above notion as follows:\n",
        "\n",
        "\\begin{equation}\n",
        "Loss = 1 - Accuracy\n",
        "\\end{equation}"
      ]
    },
    {
      "cell_type": "markdown",
      "metadata": {
        "execution": {},
        "id": "uZC4aTmZtkDs"
      },
      "source": [
        "### Think! 3.2.2: Is our feature importance metric good?\n",
        "\n",
        "Now that we have provided a new feature importance metric, think of the following: \n",
        "\n",
        "1. What do you think of this new feature importance metric, and how is it different from the one that you came up with? \n",
        "2. Does it satify the criteria that you came up with? \n",
        "3. If not, why? Does the metric need to be modified or the criteria?"
      ]
    },
    {
      "cell_type": "code",
      "metadata": {
        "cellView": "form",
        "execution": {},
        "id": "csG8mli3tkDs",
        "colab": {
          "base_uri": "https://localhost:8080/",
          "height": 93,
          "referenced_widgets": [
            "ff3aa30bc7b7432fa9a20519d294126b",
            "ff79b69ca8c14709bda14416a4e254c2",
            "c6d54eefedbf4025bb3562d703d5aa44",
            "d296ae5474994886b8aa696fa61e2518",
            "bdec5a0d33834463b30ae9e1cd0c380d",
            "c86c451437234684a69f8f6882f18348"
          ]
        },
        "outputId": "4afc802d-1dc8-4c7a-d347-b4b34b5f6020"
      },
      "source": [
        "# @title Student Response\n",
        "from ipywidgets import widgets\n",
        "\n",
        "\n",
        "text=widgets.Textarea(\n",
        "   value='Type your answer here and click on `Submit!`',\n",
        "   placeholder='Type something',\n",
        "   description='',\n",
        "   disabled=False\n",
        ")\n",
        "\n",
        "button = widgets.Button(description=\"Submit!\")\n",
        "\n",
        "display(text,button)\n",
        "\n",
        "def on_button_clicked(b):\n",
        "   atform.add_answer('q4' , text.value)\n",
        "   print(\"Submission successful!\")\n",
        "\n",
        "\n",
        "button.on_click(on_button_clicked)"
      ],
      "execution_count": 28,
      "outputs": [
        {
          "output_type": "display_data",
          "data": {
            "application/vnd.jupyter.widget-view+json": {
              "model_id": "ff3aa30bc7b7432fa9a20519d294126b",
              "version_minor": 0,
              "version_major": 2
            },
            "text/plain": [
              "Textarea(value='Type your answer here and click on `Submit!`', placeholder='Type something')"
            ]
          },
          "metadata": {}
        },
        {
          "output_type": "display_data",
          "data": {
            "application/vnd.jupyter.widget-view+json": {
              "model_id": "d296ae5474994886b8aa696fa61e2518",
              "version_minor": 0,
              "version_major": 2
            },
            "text/plain": [
              "Button(description='Submit!', style=ButtonStyle())"
            ]
          },
          "metadata": {}
        }
      ]
    },
    {
      "cell_type": "markdown",
      "metadata": {
        "execution": {},
        "id": "HJdIdFJ4tkDt"
      },
      "source": [
        "[*Click for solution*](https://github.com/NeuromatchAcademy/course-content-dl/tree/main//tutorials/W3D4_ContinualLearning/solutions/W3D4_Tutorial2_Solution_53ad20ac.py)\n",
        "\n"
      ]
    },
    {
      "cell_type": "markdown",
      "metadata": {
        "execution": {},
        "id": "YjgIYDqStkDu"
      },
      "source": [
        "## Section 3.3: Finding the most important feature"
      ]
    },
    {
      "cell_type": "markdown",
      "metadata": {
        "execution": {},
        "id": "kkPXq8CstkDu"
      },
      "source": [
        "Considering the feature importance metric that we defined above, let's try to find the most important and the two most important features!\n",
        "\n",
        "The accuracy can be calculated using the probabilities specified above. Here are the accuracies for different feature sets! (Note that we have not detailed the calculation of these accuracies. If you are curious, refer to the bonus section!)\n",
        "\n",
        "For a detailed explanation, see *Bonus 3*."
      ]
    },
    {
      "cell_type": "markdown",
      "metadata": {
        "execution": {},
        "id": "CaK5yL0ktkDv"
      },
      "source": [
        "|           Feature(s)          | Accuracy |\n",
        "|:---------------------------:|:-------------------:|\n",
        "|   Family History            |        0.90         | \n",
        "| Is a Smoker                 |        0.875        |\n",
        "| Is Young                    |        0.85         |\n",
        "| Family History, Is a Smoker |        0.917        |\n",
        "| Is a Smoker, Is Young       |        0.941        |\n",
        "| Family History, Is Young    |        0.931        |\n"
      ]
    },
    {
      "cell_type": "markdown",
      "metadata": {
        "execution": {},
        "id": "wnA-kB7TtkDv"
      },
      "source": [
        "### Think! 3.3.1: Finding important features\n",
        "\n",
        "Given the table above, what is the single most important feature?"
      ]
    },
    {
      "cell_type": "code",
      "metadata": {
        "cellView": "form",
        "execution": {},
        "id": "JtKncnwmtkDw",
        "colab": {
          "base_uri": "https://localhost:8080/",
          "height": 93,
          "referenced_widgets": [
            "d118ad3d444641a19d15b3020df996d9",
            "c119f81758c3499ab798f445fd5ffd89",
            "5bf71010d67d49629a2bf59c014caf5e",
            "74590f7527f54b5697c837bf4487b57c",
            "42de0a13db224824b86289b81203a2c2",
            "915e36b1360c4b37a9dc77fcfa8dc9b6"
          ]
        },
        "outputId": "8e1eeb7b-1353-4bc1-f103-fbba0152ed54"
      },
      "source": [
        "# @title Student Response\n",
        "from ipywidgets import widgets\n",
        "\n",
        "\n",
        "text=widgets.Textarea(\n",
        "   value='Type your answer here and click on `Submit!`',\n",
        "   placeholder='Type something',\n",
        "   description='',\n",
        "   disabled=False\n",
        ")\n",
        "\n",
        "button = widgets.Button(description=\"Submit!\")\n",
        "\n",
        "display(text,button)\n",
        "\n",
        "def on_button_clicked(b):\n",
        "   atform.add_answer('q5' , text.value)\n",
        "   print(\"Submission successful!\")\n",
        "\n",
        "\n",
        "button.on_click(on_button_clicked)"
      ],
      "execution_count": 29,
      "outputs": [
        {
          "output_type": "display_data",
          "data": {
            "application/vnd.jupyter.widget-view+json": {
              "model_id": "d118ad3d444641a19d15b3020df996d9",
              "version_minor": 0,
              "version_major": 2
            },
            "text/plain": [
              "Textarea(value='Type your answer here and click on `Submit!`', placeholder='Type something')"
            ]
          },
          "metadata": {}
        },
        {
          "output_type": "display_data",
          "data": {
            "application/vnd.jupyter.widget-view+json": {
              "model_id": "74590f7527f54b5697c837bf4487b57c",
              "version_minor": 0,
              "version_major": 2
            },
            "text/plain": [
              "Button(description='Submit!', style=ButtonStyle())"
            ]
          },
          "metadata": {}
        }
      ]
    },
    {
      "cell_type": "markdown",
      "metadata": {
        "execution": {},
        "id": "pkQ5ZnoVtkDx"
      },
      "source": [
        "[*Click for solution*](https://github.com/NeuromatchAcademy/course-content-dl/tree/main//tutorials/W3D4_ContinualLearning/solutions/W3D4_Tutorial2_Solution_240f6cb7.py)\n",
        "\n"
      ]
    },
    {
      "cell_type": "markdown",
      "metadata": {
        "execution": {},
        "id": "MSfFLP6vtkDx"
      },
      "source": [
        "Can you also find out the second most important features?"
      ]
    },
    {
      "cell_type": "code",
      "metadata": {
        "cellView": "form",
        "execution": {},
        "id": "sepZ-Pd7tkDy",
        "colab": {
          "base_uri": "https://localhost:8080/",
          "height": 93,
          "referenced_widgets": [
            "2dc06f4b6fd64ca99df555473bcf1edd",
            "2ebe89cecec24d74b7369fd720ae2463",
            "c85cb50a999c46988fc3d98e85f7f01f",
            "a0a2a0101cba43e79ef9b54dbb17fbc1",
            "4a2a42b2cd5140178f2810326b3bbbe0",
            "a491e5e322094752875f356c4f9794be"
          ]
        },
        "outputId": "d05e22cf-ccdb-486f-e084-fb879777d29a"
      },
      "source": [
        "# @title Student Response\n",
        "from ipywidgets import widgets\n",
        "\n",
        "\n",
        "text=widgets.Textarea(\n",
        "   value='Type your answer here and click on `Submit!`',\n",
        "   placeholder='Type something',\n",
        "   description='',\n",
        "   disabled=False\n",
        ")\n",
        "\n",
        "button = widgets.Button(description=\"Submit!\")\n",
        "\n",
        "display(text,button)\n",
        "\n",
        "def on_button_clicked(b):\n",
        "   atform.add_answer('q6' , text.value)\n",
        "   print(\"Submission successful!\")\n",
        "\n",
        "\n",
        "button.on_click(on_button_clicked)"
      ],
      "execution_count": 30,
      "outputs": [
        {
          "output_type": "display_data",
          "data": {
            "application/vnd.jupyter.widget-view+json": {
              "model_id": "2dc06f4b6fd64ca99df555473bcf1edd",
              "version_minor": 0,
              "version_major": 2
            },
            "text/plain": [
              "Textarea(value='Type your answer here and click on `Submit!`', placeholder='Type something')"
            ]
          },
          "metadata": {}
        },
        {
          "output_type": "display_data",
          "data": {
            "application/vnd.jupyter.widget-view+json": {
              "model_id": "a0a2a0101cba43e79ef9b54dbb17fbc1",
              "version_minor": 0,
              "version_major": 2
            },
            "text/plain": [
              "Button(description='Submit!', style=ButtonStyle())"
            ]
          },
          "metadata": {}
        }
      ]
    },
    {
      "cell_type": "markdown",
      "metadata": {
        "execution": {},
        "id": "hbPLgdPztkDz"
      },
      "source": [
        "[*Click for solution*](https://github.com/NeuromatchAcademy/course-content-dl/tree/main//tutorials/W3D4_ContinualLearning/solutions/W3D4_Tutorial2_Solution_2566d409.py)\n",
        "\n"
      ]
    },
    {
      "cell_type": "markdown",
      "metadata": {
        "execution": {},
        "id": "vZe81Wg3tkDz"
      },
      "source": [
        "The most important feature is not one of the two most important features! Can you find out why this is the case?"
      ]
    },
    {
      "cell_type": "markdown",
      "metadata": {
        "execution": {},
        "id": "F5CTucdMtkD0"
      },
      "source": [
        "## Section 3.4: Section Summary\n",
        "\n",
        "In this section, we discussed the following:\n",
        "\n",
        "* What is Interpretability and why is it important?\n",
        "\n",
        "* How can input features be used to understand the model's predictions (aka feature importances)? \n"
      ]
    },
    {
      "cell_type": "markdown",
      "metadata": {
        "execution": {},
        "id": "O6IhwbeTtkD1"
      },
      "source": [
        "---\n",
        "# Summary"
      ]
    },
    {
      "cell_type": "markdown",
      "metadata": {
        "execution": {},
        "id": "DsiWrfO8tkD1"
      },
      "source": [
        "Recall the problem that you set out to solve at the beginning of this tutorial."
      ]
    },
    {
      "cell_type": "code",
      "metadata": {
        "cellView": "form",
        "execution": {},
        "id": "keE03MzCtkD2",
        "colab": {
          "base_uri": "https://localhost:8080/"
        },
        "outputId": "99cb9cab-2ac9-469b-cfa7-7bd880728b20"
      },
      "source": [
        "# @markdown *Run me to print the problem that you wanted to solve!*\n",
        "print(Problem_that_you_want_to_solve)"
      ],
      "execution_count": 31,
      "outputs": [
        {
          "output_type": "stream",
          "text": [
            "something\n"
          ],
          "name": "stdout"
        }
      ]
    },
    {
      "cell_type": "markdown",
      "metadata": {
        "execution": {},
        "id": "1WsVZhJEtkD2"
      },
      "source": [
        "Take a moment to think about the following:\n",
        "\n",
        "1. Did this tutorial help you find some ideas to solve this problem?\n",
        "2. Can you now come up with a solution to this problem by using all the tools that you learnt from this course?\n",
        "\n",
        "We sincerely hope that your answers to these two questions are yes and YES! Recall all that you learnt from this course and how this knowledge and practical experience can help with a problem that *you* want to solve. Go back and experiment with your solutions and see if you can solve this problem that matters to you!    "
      ]
    },
    {
      "cell_type": "code",
      "metadata": {
        "cellView": "form",
        "execution": {},
        "id": "e5g-cty2tkD3",
        "colab": {
          "base_uri": "https://localhost:8080/",
          "height": 158
        },
        "outputId": "8c594d15-f1c6-4664-c6e1-1c50de3225a1"
      },
      "source": [
        "# @title Airtable Submission Link\n",
        "from IPython import display as IPydisplay\n",
        "IPydisplay.HTML(\n",
        "   f\"\"\"\n",
        " <div>\n",
        "   <a href= \"{atform.url()}\" target=\"_blank\">\n",
        "   <img src=\"https://github.com/NeuromatchAcademy/course-content-dl/blob/main/tutorials/static/SurveyButton.png?raw=1\"\n",
        " alt=\"button link end of day Survey\" style=\"width:410px\"></a>\n",
        "   </div>\"\"\" )"
      ],
      "execution_count": 32,
      "outputs": [
        {
          "output_type": "execute_result",
          "data": {
            "text/html": [
              "\n",
              " <div>\n",
              "   <a href= \"https://portal.neuromatchacademy.org/api/redirect/to/1d7fcd5d-f1e9-4ac5-ae58-b0ade54a4f87?data=eyJmb3JtX2lkIjogImFwcG43VmRQUnNlU29NWEVHIiwgInRhYmxlX25hbWUiOiAiVzNENF9UMiIsICJhbnN3ZXJzIjoge30sICJldmVudHMiOiBbeyJldmVudCI6ICJpbml0IiwgInRzIjogMTYyOTQwMjE3NS41OTE4NDc0fSwgeyJldmVudCI6ICJWaWRlbyAxOiBUaGUgRnV0dXJlIG9mIExlYXJuaW5nIiwgInRzIjogMTYyOTQwMjE4MC41MzA0MTg5fSwgeyJldmVudCI6ICJWaWRlbyAyOiBUcmFuc2ZlciBhbmQgTXVsdGktVGFza2luZyBMZWFybmluZyIsICJ0cyI6IDE2Mjk0MDIzMTUuNzQ0ODUyM30sIHsiZXZlbnQiOiAiQ29kaW5nIEV4ZXJjaXNlIDIuMjogQ3JlYXRpbmcgYSBNdWx0aS1UYXNrIG1vZGVsIiwgInRzIjogMTYyOTQwMjY3My40MzgzNTY2fSwgeyJldmVudCI6ICJWaWRlbyAzOiBJbnRlcnByZXRhYmlsaXR5IiwgInRzIjogMTYyOTQwMzIwMi4zMTExNTY1fSwgeyJldmVudCI6ICJ1cmwgZ2VuZXJhdGVkIiwgInRzIjogMTYyOTQwMzM3OC4wMTAzNjU1fV19\" target=\"_blank\">\n",
              "   <img src=\"https://github.com/NeuromatchAcademy/course-content-dl/blob/main/tutorials/static/SurveyButton.png?raw=1\"\n",
              " alt=\"button link end of day Survey\" style=\"width:410px\"></a>\n",
              "   </div>"
            ],
            "text/plain": [
              "<IPython.core.display.HTML object>"
            ]
          },
          "metadata": {},
          "execution_count": 32
        }
      ]
    },
    {
      "cell_type": "markdown",
      "metadata": {
        "execution": {},
        "id": "9FUoo6eZtkD3"
      },
      "source": [
        "---\n",
        "# Bonus 1: Introduction to Meta Learning\n",
        "\n",
        "*Time estimate: ~20mins*"
      ]
    },
    {
      "cell_type": "markdown",
      "metadata": {
        "execution": {},
        "id": "E7WDfx3itkD4"
      },
      "source": [
        "In this section, we will *literally* learn to learn by exploring the concept of Meta Learning. Meta Learning attempts to improve the generalization capabilities of neural networks by teaching them *how to learn new tasks fast*. We aim to introduce you to the following topics:\n",
        "\n",
        "1. Meta-Learning and its applications \n",
        "2. Few-shot classification (the most common application of Meta-Learning in supervised classification settings)\n",
        "3. One-shot Learning with Convolutional Siamese Networks"
      ]
    },
    {
      "cell_type": "code",
      "metadata": {
        "cellView": "form",
        "execution": {},
        "id": "CxORNLldtkD4",
        "colab": {
          "base_uri": "https://localhost:8080/",
          "height": 579,
          "referenced_widgets": [
            "6aec4070792a4b35b27aeeb4e70b06be",
            "049d0e80662348f9a12a385779d73a8a",
            "573c1ea3594d437caddd9d75adc1c0a3",
            "1c8209de501f47519bc376da9b189d91",
            "f74096ade2674e888596701ce25775ed",
            "42286817cd0545febfd667073afcef94"
          ]
        },
        "outputId": "fe05bb88-823c-4b85-a6e0-547dd684d27e"
      },
      "source": [
        "# @title Video 4: Meta Learning\n",
        "from ipywidgets import widgets\n",
        "\n",
        "out2 = widgets.Output()\n",
        "with out2:\n",
        "  from IPython.display import IFrame\n",
        "  class BiliVideo(IFrame):\n",
        "    def __init__(self, id, page=1, width=400, height=300, **kwargs):\n",
        "      self.id=id\n",
        "      src = \"https://player.bilibili.com/player.html?bvid={0}&page={1}\".format(id, page)\n",
        "      super(BiliVideo, self).__init__(src, width, height, **kwargs)\n",
        "\n",
        "  video = BiliVideo(id=f\"BV1zU4y1n77d\", width=854, height=480, fs=1)\n",
        "  print(\"Video available at https://www.bilibili.com/video/{0}\".format(video.id))\n",
        "  display(video)\n",
        "\n",
        "out1 = widgets.Output()\n",
        "with out1:\n",
        "  from IPython.display import YouTubeVideo\n",
        "  video = YouTubeVideo(id=f\"8grBwtrzcDI\", width=854, height=480, fs=1, rel=0)\n",
        "  print(\"Video available at https://youtube.com/watch?v=\" + video.id)\n",
        "  display(video)\n",
        "\n",
        "out = widgets.Tab([out1, out2])\n",
        "out.set_title(0, 'Youtube')\n",
        "out.set_title(1, 'Bilibili')\n",
        "\n",
        "# add event to airtable\n",
        "atform.add_event('Video 4: Meta Learning')\n",
        "\n",
        "display(out)"
      ],
      "execution_count": 33,
      "outputs": [
        {
          "output_type": "display_data",
          "data": {
            "application/vnd.jupyter.widget-view+json": {
              "model_id": "6aec4070792a4b35b27aeeb4e70b06be",
              "version_minor": 0,
              "version_major": 2
            },
            "text/plain": [
              "Tab(children=(Output(), Output()), _titles={'0': 'Youtube', '1': 'Bilibili'})"
            ]
          },
          "metadata": {}
        }
      ]
    },
    {
      "cell_type": "markdown",
      "metadata": {
        "execution": {},
        "id": "pYgvYDm-tkD5"
      },
      "source": [
        "Meta-Learning is most commonly observed as Few-shot Learning in Supervised learning settings.\n",
        "\n",
        "Few-shot Learning aims to answer the following question: How can a neural network learn a task well with *very little* data? \n",
        "\n",
        "In the context of supervised classification, K-shot learning refers to learning with only K examples of each class. An extension of this would be N-way K-shot learning, which attempts to train a network with only K examples of each of the N classes. Let's take an example of a 5-way 1-shot problem: "
      ]
    },
    {
      "cell_type": "markdown",
      "metadata": {
        "execution": {},
        "id": "hfEOigwUtkD5"
      },
      "source": [
        "<img src=\"https://raw.githubusercontent.com/NeuromatchAcademy/course-content-dl/main/tutorials/W3D4_ContinualLearning/static/Metalearning.png\">"
      ]
    },
    {
      "cell_type": "markdown",
      "metadata": {
        "execution": {},
        "id": "j-vmwFlktkD6"
      },
      "source": [
        "Now that we know what Few-shot learning is, let's take a look at a One-shot classification problem using Siamese Networks!"
      ]
    },
    {
      "cell_type": "markdown",
      "metadata": {
        "execution": {},
        "id": "mqsMXbDYtkD6"
      },
      "source": [
        "## Bonus Section 1.1: Introduction to Omniglot"
      ]
    },
    {
      "cell_type": "markdown",
      "metadata": {
        "execution": {},
        "id": "h1jTdfThtkD7"
      },
      "source": [
        "The Omniglot data set is a a standardized benchmark for evaluating the performance of Few-shot Learning algorithms. It contains 1623 different handwritten characters from 50 different alphabets. The alphabets range from well-established international languages like Latin and Korean to lesser known local dialects. Fictitious character sets such as Aurek-Besh and Klingon are also included. Here are a few examples from the Omniglot dataset."
      ]
    },
    {
      "cell_type": "markdown",
      "metadata": {
        "execution": {},
        "id": "gyHLGIfmtkD8"
      },
      "source": [
        "<img src=\"https://raw.githubusercontent.com/NeuromatchAcademy/course-content-dl/main/tutorials/W3D4_ContinualLearning/static/omni.jpeg.png\">"
      ]
    },
    {
      "cell_type": "markdown",
      "metadata": {
        "execution": {},
        "id": "ktwcOieitkD8"
      },
      "source": [
        "## Bonus Section 1.2: Convolutional Siamese Networks"
      ]
    },
    {
      "cell_type": "markdown",
      "metadata": {
        "execution": {},
        "id": "e57ZQd2dtkD9"
      },
      "source": [
        "The simplest way to evaluate where an image belongs to a class is by comparing it with other images of the same class. Convolutional Siamese networks help us in comparing two images and quantify how similar or different they are from one another. This is known as verification.\n",
        "\n",
        "Verification of two images is done as follows: Both the images are passed through the convolutional network to generate *feature vectors* representing them. These feature vectors are then compared for similarity. (Find a better image for siamese network maybe)\n"
      ]
    },
    {
      "cell_type": "markdown",
      "metadata": {
        "execution": {},
        "id": "pLeEB8RrtkD9"
      },
      "source": [
        "<img src=\"https://raw.githubusercontent.com/NeuromatchAcademy/course-content-dl/main/tutorials/W3D4_ContinualLearning/static/siamese.png\">"
      ]
    },
    {
      "cell_type": "markdown",
      "metadata": {
        "execution": {},
        "id": "hcXVakNytkD_"
      },
      "source": [
        "\n",
        "How can we compare if two vectors are similar? By using a distance metric! **L1 distance** is one such metric that evaluates the distance between two vectors by computing the absolute value of the difference of invidual components of both vectors. More specifically, given vectors `v1` and `v2`, the component-wise L1 distance would be as follows:\n",
        "\n",
        "```\n",
        "l1_distance = abs(v1 - v2)\n",
        "```\n",
        "\n",
        "After this, the problem boils down to a binary classification problem where two images either belong to the same class or not!"
      ]
    },
    {
      "cell_type": "markdown",
      "metadata": {
        "execution": {},
        "id": "n37cECn4tkEA"
      },
      "source": [
        "### Bonus Coding Exercise 1.2: Creating a Convolutional Siamese Network\n",
        "\n",
        "Let's create a Convolutional Siamese Network! The structure of the network is created in the `ConvSiameseNet` class. You have to compute the L1 distance (`l1_distance`) between the feature vectors (`x1_fv` and `x2_fv`). You can use `torch.abs()` to compute the absolute value of a tensor."
      ]
    },
    {
      "cell_type": "code",
      "metadata": {
        "execution": {},
        "id": "IrXd_SZ9tkEA"
      },
      "source": [
        "# Define the Siamese Network\n",
        "class ConvSiameseNet(nn.Module):\n",
        "  \"\"\"\n",
        "  Convolutional Siamese Network from \"Siamese Neural Networks for One-shot Image Recognition\"\n",
        "  Paper can be found at http://www.cs.toronto.edu/~rsalakhu/papers/oneshot1.pdf\n",
        "  \"\"\"\n",
        "\n",
        "  def __init__(self):\n",
        "    super().__init__()\n",
        "    self.conv1 = nn.Conv2d(1, 64, 10)\n",
        "    self.conv2 = nn.Conv2d(64, 128, 7)\n",
        "    self.conv3 = nn.Conv2d(128, 128, 4)\n",
        "    self.conv4 = nn.Conv2d(128, 256, 4)\n",
        "    self.pool = nn.MaxPool2d(2, 2)\n",
        "    self.fc1 = nn.Linear(256*6*6, 4096)\n",
        "    self.fc2 = nn.Linear(4096, 1)\n",
        "\n",
        "  def model(self, x):\n",
        "    x = self.pool(F.relu(self.conv1(x)))\n",
        "    x = self.pool(F.relu(self.conv2(x)))\n",
        "    x = self.pool(F.relu(self.conv3(x)))\n",
        "    x = F.relu(self.conv4(x))\n",
        "    x = torch.flatten(x, 1)\n",
        "    x = torch.sigmoid(self.fc1(x))\n",
        "    return x\n",
        "\n",
        "  def forward(self, x1, x2):\n",
        "    x1_fv = self.model(x1)\n",
        "    x2_fv = self.model(x2)\n",
        "    ############################################################################\n",
        "    ## TODO: Calculate the component-wise l1_distance between x1_fv and x2_fv ##\n",
        "    # Fill out function and remove\n",
        "    #raise NotImplementedError(\"Student exercise: Calculate l1_distance\")\n",
        "    ############################################################################\n",
        "    # Calculate L1 distance (as l1_distance) between x1_fv and x2_fv\n",
        "    l1_distance = torch.abs(x1_fv - x2_fv)\n",
        "\n",
        "    return self.fc2(l1_distance)"
      ],
      "execution_count": 46,
      "outputs": []
    },
    {
      "cell_type": "markdown",
      "metadata": {
        "execution": {},
        "id": "PsbjVk7XtkEC"
      },
      "source": [
        "[*Click for solution*](https://github.com/NeuromatchAcademy/course-content-dl/tree/main//tutorials/W3D4_ContinualLearning/solutions/W3D4_Tutorial2_Solution_696c354e.py)\n",
        "\n"
      ]
    },
    {
      "cell_type": "markdown",
      "metadata": {
        "execution": {},
        "id": "EylISmKMtkEC"
      },
      "source": [
        "## Bonus Section 1.3: Verification using Siamese Networks"
      ]
    },
    {
      "cell_type": "markdown",
      "metadata": {
        "execution": {},
        "id": "C8r3x6dCtkED"
      },
      "source": [
        "Let's train the siamese network we created on verification of images. We'll take pairs of images from the Omniglot dataset and train the network to identify if the pairs belong to the same class or not.\n",
        "\n",
        "Let's first get the Omniglot dataset with pairs of images. A pair is labelled \"1\" if the images are of the same character, and \"0\" otherwise."
      ]
    },
    {
      "cell_type": "code",
      "metadata": {
        "cellView": "form",
        "execution": {},
        "id": "dbreiIEVtkED",
        "colab": {
          "base_uri": "https://localhost:8080/"
        },
        "outputId": "6a849fd2-4806-44ad-9a02-b5c2a7d6b3b9"
      },
      "source": [
        "# @title Download Omniglot dataset with pairs\n",
        "import zipfile, os, requests\n",
        "\n",
        "# original location: https://github.com/brendenlake/omniglot/tree/master/python\n",
        "os.chdir('/content')\n",
        "print(f'Change dir: {os.getcwd()}')\n",
        "\n",
        "dirname = 'data/omniglot-py/'\n",
        "if not os.path.exists(dirname):\n",
        "  os.makedirs(dirname)\n",
        "\n",
        "fname = 'images_background.zip'\n",
        "url = \"https://osf.io/6hq9u/download\"\n",
        "\n",
        "if not os.path.exists(dirname + 'images_background'):\n",
        "  print('Downlading the dataset...')\n",
        "  r = requests.get(url, allow_redirects=True)\n",
        "  with open(dirname + fname, 'wb') as fd:\n",
        "    fd.write(r.content)\n",
        "  with zipfile.ZipFile(dirname + fname, 'r') as zip_ref:\n",
        "    zip_ref.extractall(dirname)\n",
        "  print('Dataset is downloaded.')\n",
        "else:\n",
        "  print('Dataset has already been downloaded.')"
      ],
      "execution_count": 47,
      "outputs": [
        {
          "output_type": "stream",
          "text": [
            "Change dir: /content\n",
            "Dataset has already been downloaded.\n"
          ],
          "name": "stdout"
        }
      ]
    },
    {
      "cell_type": "code",
      "metadata": {
        "execution": {},
        "id": "YrZW-TLPtkEE"
      },
      "source": [
        "\"\"\"\n",
        "Load train and validation datasets for training the Siamese Network\n",
        "\"\"\"\n",
        "\n",
        "train_dataset, val_dataset = get_train_val_datasets(background_dataset_size=10000, val_split=0.2, download=False)"
      ],
      "execution_count": 48,
      "outputs": []
    },
    {
      "cell_type": "code",
      "metadata": {
        "execution": {},
        "id": "e411UgZStkEF",
        "colab": {
          "base_uri": "https://localhost:8080/",
          "height": 312
        },
        "outputId": "a26995ca-0a2d-4450-d8c9-f05040e5862a"
      },
      "source": [
        "\"\"\"\n",
        "Visualize a sample from the training dataset\n",
        "\"\"\"\n",
        "\n",
        "# Change this to visualize another sample from the dataset\n",
        "sample_idx = 1\n",
        "sample = train_dataset[sample_idx]\n",
        "\n",
        "visualize_siamese_sample(sample)"
      ],
      "execution_count": 49,
      "outputs": [
        {
          "output_type": "stream",
          "text": [
            "-------------------- Label: 0.0 (Different characters) -------------------\n"
          ],
          "name": "stdout"
        },
        {
          "output_type": "display_data",
          "data": {
            "image/png": "[encoded data removed]",
            "text/plain": [
              "<Figure size 576x720 with 2 Axes>"
            ]
          },
          "metadata": {
            "image/png": {
              "width": 557,
              "height": 278
            }
          }
        }
      ]
    },
    {
      "cell_type": "code",
      "metadata": {
        "execution": {},
        "id": "2cUbet_TtkEG"
      },
      "source": [
        "\"\"\"\n",
        "Create dataloaders for the train and validation datasets\n",
        "\"\"\"\n",
        "\n",
        "# Change this for a different batch size\n",
        "batch_size = 16\n",
        "\n",
        "train_loader = DataLoader(\n",
        "    dataset=train_dataset,\n",
        "    batch_size=batch_size,\n",
        "    num_workers=2,\n",
        "    worker_init_fn=seed_worker,\n",
        "    generator=g_seed\n",
        "    )\n",
        "\n",
        "val_loader = DataLoader(\n",
        "    dataset=val_dataset,\n",
        "    batch_size=batch_size,\n",
        "    num_workers=2,\n",
        "    worker_init_fn=seed_worker,\n",
        "    generator=g_seed\n",
        "    )"
      ],
      "execution_count": 50,
      "outputs": []
    },
    {
      "cell_type": "markdown",
      "metadata": {
        "execution": {},
        "id": "bKruix6dtkEH"
      },
      "source": [
        "Now that we have the necessary dataloaders, let's train a siamese network! "
      ]
    },
    {
      "cell_type": "code",
      "metadata": {
        "execution": {},
        "id": "MzGxkX4RtkEH",
        "colab": {
          "base_uri": "https://localhost:8080/"
        },
        "outputId": "b921b718-1f7c-48e0-f90b-7f0f1534f327"
      },
      "source": [
        "\"\"\"\n",
        "Train the network on Omniglot\n",
        "\"\"\"\n",
        "\n",
        "siamese_net = ConvSiameseNet()\n",
        "\n",
        "criterion = nn.BCEWithLogitsLoss()\n",
        "optimizer = optim.Adam(siamese_net.parameters(), lr=0.0001)\n",
        "\n",
        "# Change this to train for any number of epochs\n",
        "num_epochs = 10\n",
        "\n",
        "for epoch in range(num_epochs):\n",
        "  print(f\"\\n Epoch {epoch + 1} / {num_epochs} ================================\")\n",
        "\n",
        "  train_siamese_network(siamese_net, criterion, optimizer, train_loader, DEVICE)\n",
        "  evaluate_siamese_network(siamese_net, criterion, val_loader, DEVICE)"
      ],
      "execution_count": 51,
      "outputs": [
        {
          "output_type": "stream",
          "text": [
            "\n",
            " Epoch 1 / 10 ================================\n",
            "Training => Average Loss: 0.5794959098398685 | Accuracy: 0.6672500371932983\n",
            "Validation => Average Loss: 0.5542398257255554 | Accuracy: 0.7105000615119934\n",
            "\n",
            " Epoch 2 / 10 ================================\n",
            "Training => Average Loss: 0.503911802560091 | Accuracy: 0.752750039100647\n",
            "Validation => Average Loss: 0.4531570062637329 | Accuracy: 0.7820000648498535\n",
            "\n",
            " Epoch 3 / 10 ================================\n",
            "Training => Average Loss: 0.4343121802806854 | Accuracy: 0.8086250424385071\n",
            "Validation => Average Loss: 0.39834562611579893 | Accuracy: 0.8285000324249268\n",
            "\n",
            " Epoch 4 / 10 ================================\n",
            "Training => Average Loss: 0.3662474506944418 | Accuracy: 0.8426250219345093\n",
            "Validation => Average Loss: 0.3281757217645645 | Accuracy: 0.8670000433921814\n",
            "\n",
            " Epoch 5 / 10 ================================\n",
            "Training => Average Loss: 0.3177599415183067 | Accuracy: 0.8721250295639038\n",
            "Validation => Average Loss: 0.30471839332580564 | Accuracy: 0.8750000596046448\n",
            "\n",
            " Epoch 6 / 10 ================================\n",
            "Training => Average Loss: 0.2805531026571989 | Accuracy: 0.8855000138282776\n",
            "Validation => Average Loss: 0.2857034924030304 | Accuracy: 0.8905000686645508\n",
            "\n",
            " Epoch 7 / 10 ================================\n",
            "Training => Average Loss: 0.2553694952502847 | Accuracy: 0.9013750553131104\n",
            "Validation => Average Loss: 0.3007557445168495 | Accuracy: 0.8740000128746033\n",
            "\n",
            " Epoch 8 / 10 ================================\n",
            "Training => Average Loss: 0.24554320373386146 | Accuracy: 0.9021250605583191\n",
            "Validation => Average Loss: 0.21134005361795424 | Accuracy: 0.9150000214576721\n",
            "\n",
            " Epoch 9 / 10 ================================\n",
            "Training => Average Loss: 0.22380068127438427 | Accuracy: 0.9123750329017639\n",
            "Validation => Average Loss: 0.22263567048311234 | Accuracy: 0.921000063419342\n",
            "\n",
            " Epoch 10 / 10 ================================\n",
            "Training => Average Loss: 0.2206631811596453 | Accuracy: 0.9175000190734863\n",
            "Validation => Average Loss: 0.19282885418832302 | Accuracy: 0.936500072479248\n"
          ],
          "name": "stdout"
        }
      ]
    },
    {
      "cell_type": "markdown",
      "metadata": {
        "execution": {},
        "id": "idhi9fGStkEI"
      },
      "source": [
        "## Bonus Section 1.4: One-shot Classification with Siamese Networks"
      ]
    },
    {
      "cell_type": "markdown",
      "metadata": {
        "execution": {},
        "id": "b_qXUFuStkEJ"
      },
      "source": [
        "Now that we have a siamese network trained on verification, let's try to extend it to one-shot classification. How can we do this? \n",
        "\n",
        "Let's first try to understand what the current network offers: Given two images, find out if they belong to the same class or not. \n",
        "\n",
        "What does N-way one-shot classification ask for? Given one image from each of the N classes (the support set), find out which class does the query image belong to.\n",
        "\n",
        "Take a moment to think about how the verification network can be extended to work in the one-shot setting.\n",
        "\n",
        "Given a query image, compare it with different images in the support set using our siamese network. Pick the class that is most similar to the query image!\n",
        "\n",
        "Let's get the test dataset where one sample corresponds to a query image and N support images!"
      ]
    },
    {
      "cell_type": "code",
      "metadata": {
        "cellView": "form",
        "execution": {},
        "id": "8-RhOiJFtkEJ",
        "colab": {
          "base_uri": "https://localhost:8080/"
        },
        "outputId": "121faae5-0db7-4872-dcfa-ed3007f12315"
      },
      "source": [
        "# @title Download the test dataset\n",
        "import zipfile, os, requests\n",
        "\n",
        "# original location: https://github.com/brendenlake/omniglot/tree/master/python\n",
        "\n",
        "dirname = 'data/omniglot-py/'\n",
        "if not os.path.exists(dirname):\n",
        "  os.makedirs(dirname)\n",
        "\n",
        "fname = 'images_evaluation.zip'\n",
        "url = \"https://osf.io/uq4gw/download\"\n",
        "\n",
        "if not os.path.exists(dirname + 'images_evaluation'):\n",
        "  print('Downlading the dataset...')\n",
        "  r = requests.get(url, allow_redirects=True)\n",
        "  with open(dirname + fname, 'wb') as fd:\n",
        "    fd.write(r.content)\n",
        "  with zipfile.ZipFile(dirname + fname, 'r') as zip_ref:\n",
        "    zip_ref.extractall(dirname)\n",
        "  print('Dataset is downloaded.')\n",
        "else:\n",
        "  print('Dataset has already been downloaded.')"
      ],
      "execution_count": 52,
      "outputs": [
        {
          "output_type": "stream",
          "text": [
            "Downlading the dataset...\n",
            "Dataset is downloaded.\n"
          ],
          "name": "stdout"
        }
      ]
    },
    {
      "cell_type": "code",
      "metadata": {
        "execution": {},
        "id": "zvAcHQ9UtkEK",
        "colab": {
          "base_uri": "https://localhost:8080/"
        },
        "outputId": "c9f4a527-1bc4-47fa-9805-a850f76f1098"
      },
      "source": [
        "\"\"\"\n",
        "Load the test dataset for N-way One-shot classification\n",
        "\"\"\"\n",
        "\n",
        "# Change this to change the number of classes in the support set\n",
        "n_ways = 5\n",
        "\n",
        "test_dataset = get_test_dataset(n_ways=n_ways, download=True)"
      ],
      "execution_count": 53,
      "outputs": [
        {
          "output_type": "stream",
          "text": [
            "Files already downloaded and verified\n"
          ],
          "name": "stdout"
        }
      ]
    },
    {
      "cell_type": "code",
      "metadata": {
        "execution": {},
        "id": "2gM9qik8tkEK",
        "colab": {
          "base_uri": "https://localhost:8080/",
          "height": 231
        },
        "outputId": "3dfd7db6-ade3-46c7-8c17-bcfbbf67331b"
      },
      "source": [
        "\"\"\"\n",
        "Visualize a sample from the test dataset\n",
        "\"\"\"\n",
        "\n",
        "# Change this to visualize another sample from the dataset\n",
        "sample_idx = 1\n",
        "sample = test_dataset[sample_idx]\n",
        "\n",
        "visualize_one_shot_sample(sample)"
      ],
      "execution_count": 54,
      "outputs": [
        {
          "output_type": "display_data",
          "data": {
            "image/png": "[encoded data removed]",
            "text/plain": [
              "<Figure size 1728x720 with 6 Axes>"
            ]
          },
          "metadata": {
            "image/png": {
              "width": 1718,
              "height": 214
            }
          }
        }
      ]
    },
    {
      "cell_type": "markdown",
      "metadata": {
        "execution": {},
        "id": "2ReYuXnstkEL"
      },
      "source": [
        "We are in the endgame now. Let's look at how our siamese network performs on N-way One-shot classification!"
      ]
    },
    {
      "cell_type": "code",
      "metadata": {
        "execution": {},
        "id": "hi4qHuoItkEL",
        "colab": {
          "base_uri": "https://localhost:8080/"
        },
        "outputId": "1d6ca054-3790-41d7-fc8f-ef08776c384c"
      },
      "source": [
        "\"\"\"\n",
        "Evaluate our Siamese Network on N-way One-shot classification\n",
        "\"\"\"\n",
        "\n",
        "batch_size = 16\n",
        "\n",
        "test_loader = DataLoader(\n",
        "    dataset=test_dataset,\n",
        "    batch_size=batch_size,\n",
        "    num_workers=2,\n",
        "    worker_init_fn=seed_worker,\n",
        "    generator=g_seed\n",
        "    )\n",
        "\n",
        "evaluate_one_shot(siamese_net, test_loader, DEVICE)"
      ],
      "execution_count": 55,
      "outputs": [
        {
          "output_type": "stream",
          "text": [
            "Testing (One-shot) => Accuracy: 0.8076631426811218\n"
          ],
          "name": "stdout"
        }
      ]
    },
    {
      "cell_type": "markdown",
      "metadata": {
        "execution": {},
        "id": "idoZbTgXtkEM"
      },
      "source": [
        "Congratulations! We successfully solved our first Meta-Learning problem. Feel free to run through this section again with different parameters and compare the differences!"
      ]
    },
    {
      "cell_type": "markdown",
      "metadata": {
        "execution": {},
        "id": "V5Bx0XDVtkEN"
      },
      "source": [
        "## Bonus Section 1.5: Section Summary\n",
        "\n",
        "In this section, we learnt the following (try to answer these questions to ensure that you understood the content fairly well):\n",
        "\n",
        "* What is Meta-Learning and how is it used to solve various problems with Deep Learning?\n",
        "\n",
        "* What is Few-shot Learning? We took a look at what is N-way K-shot classification using the Omniglot dataset and Convolutional Siamese Networks.\n"
      ]
    },
    {
      "cell_type": "markdown",
      "metadata": {
        "execution": {},
        "id": "Wem4T3irtkEO"
      },
      "source": [
        "---\n",
        "# Bonus 2: Continual and Life-Long Learning"
      ]
    },
    {
      "cell_type": "code",
      "metadata": {
        "cellView": "form",
        "execution": {},
        "id": "FnJ5yljstkEP",
        "colab": {
          "base_uri": "https://localhost:8080/",
          "height": 579,
          "referenced_widgets": [
            "c1dd6ff19836410396b03b6b61944b49",
            "5cb8b0caac9a4c3f9ca268f7b52afe2a",
            "3411a2dc8b58414aa0ccfc6290bc5e9a",
            "ba0dab1d424d4a788c2a39ad63a2c33a",
            "d4ca59f91adf4741b450ec8df266b644",
            "e45be75fefd1494c9b0a56c17df2f33b"
          ]
        },
        "outputId": "5ea2a67c-fc85-4bc4-c746-75a0b3ffee95"
      },
      "source": [
        "# @title Video 5: Continual and Life-Long Learning\n",
        "from ipywidgets import widgets\n",
        "\n",
        "out2 = widgets.Output()\n",
        "with out2:\n",
        "  from IPython.display import IFrame\n",
        "  class BiliVideo(IFrame):\n",
        "    def __init__(self, id, page=1, width=400, height=300, **kwargs):\n",
        "      self.id=id\n",
        "      src = \"https://player.bilibili.com/player.html?bvid={0}&page={1}\".format(id, page)\n",
        "      super(BiliVideo, self).__init__(src, width, height, **kwargs)\n",
        "\n",
        "  video = BiliVideo(id=f\"BV1uX4y1c7Yh\", width=854, height=480, fs=1)\n",
        "  print(\"Video available at https://www.bilibili.com/video/{0}\".format(video.id))\n",
        "  display(video)\n",
        "\n",
        "out1 = widgets.Output()\n",
        "with out1:\n",
        "  from IPython.display import YouTubeVideo\n",
        "  video = YouTubeVideo(id=f\"-lmY_lc75As\", width=854, height=480, fs=1, rel=0)\n",
        "  print(\"Video available at https://youtube.com/watch?v=\" + video.id)\n",
        "  display(video)\n",
        "\n",
        "out = widgets.Tab([out1, out2])\n",
        "out.set_title(0, 'Youtube')\n",
        "out.set_title(1, 'Bilibili')\n",
        "\n",
        "# add event to airtable\n",
        "atform.add_event('Video 5: Continual and Life-Long Learning')\n",
        "\n",
        "display(out)"
      ],
      "execution_count": 56,
      "outputs": [
        {
          "output_type": "display_data",
          "data": {
            "application/vnd.jupyter.widget-view+json": {
              "model_id": "c1dd6ff19836410396b03b6b61944b49",
              "version_minor": 0,
              "version_major": 2
            },
            "text/plain": [
              "Tab(children=(Output(), Output()), _titles={'0': 'Youtube', '1': 'Bilibili'})"
            ]
          },
          "metadata": {}
        }
      ]
    },
    {
      "cell_type": "markdown",
      "metadata": {
        "execution": {},
        "id": "TH2OzOIotkER"
      },
      "source": [
        "## Bonus Think! 2: Why are Continual and Life-Long Learning tough?\n",
        "\n",
        "Take a moment to think about the following:\n",
        "\n",
        "1. You have had an extensive tutorial on Continual Learning. Can you quickly recall the different problems with Continual Learning and how these problems were solved?\n",
        "2. What do you think makes Life-Long Learning tough to implement? How is this learning paradigm different from those that you have seen before? "
      ]
    },
    {
      "cell_type": "markdown",
      "metadata": {
        "execution": {},
        "id": "3OKQpSFPtkES"
      },
      "source": [
        "---\n",
        "# Bonus 3 - Feature Importance Tutorial"
      ]
    },
    {
      "cell_type": "markdown",
      "metadata": {
        "execution": {},
        "id": "yZRhftv9tkES"
      },
      "source": [
        "If you wish to understand how the accuracies are calculated in Section 3.3, continue reading!"
      ]
    },
    {
      "cell_type": "markdown",
      "metadata": {
        "execution": {},
        "id": "1kCxYUr-tkET"
      },
      "source": [
        "Recall the problem setup:\n",
        "\n",
        "There exist binary-valued random variables $X^{(1)}, X^{(2)}, X^{(3)}, Y \\in {0,1}$ such that $X^{(1)}, X^{(2)}$, and $X^{(3)}$ are conditionally independent (given $Y$).\n",
        "\n",
        "Let $P(Y=1) = 1/2$. Then the joint distribution of $X^{(1)}, X^{(2)}, X^{(3)}, Y$ is specified by the conditional probabilities $P(X_i=1 | Y=0)$ and $P(X_i=1 | Y=1)$, for $i=1,2,3$:\n",
        "\n",
        "\\begin{align}\n",
        "P(X^{(1)}=1|Y=0)=0.10 &, P(X^{(1)}=1|Y=1)=0.0.90 \\\\\n",
        "P(X^{(2)}=1|Y=0)=0.05 &, P(X^{(2)}=1|Y=1)=0.0.80 \\\\\n",
        "P(X^{(3)}=1|Y=0)=0.01 &, P(X^{(1)}=1|Y=1)=0.0.71\n",
        "\\end{align}"
      ]
    },
    {
      "cell_type": "markdown",
      "metadata": {
        "execution": {},
        "id": "mQuka3qItkEU"
      },
      "source": [
        "## Define a feature importance metric\n",
        "\n",
        "Here we'll use 0-1 loss to define feature importance. We can imagine using $X^{(1)}, X^{(2)}$, and $X^{(3)}$ to predict $Y$. $Y$ can only be 0 or 1, so your predictions must be 0 or 1 and will either be right or wrong (i.e, perfect for 0-1 loss)."
      ]
    },
    {
      "cell_type": "markdown",
      "metadata": {
        "execution": {},
        "id": "dLwvxMJLtkEV"
      },
      "source": [
        "## Calculate the individual feature importance (0-1 loss) for  $X^{(1)}$, $X^{(2)}$, and $X^{(3)}$\n",
        "\n",
        "**Hint:** You can accomplish this by finding the probability that  X  and  Y  match. You're given $P(X^{(1)}=1|Y=0)$, but you need $P(X^{(1)}=0|Y=0)$ . Recall that $P(Y)=1/2$ and compute an equally weighted average of the two accuracies you can compute given the two possible values of $X^{(1)}$ .\n",
        "\n",
        "**Solution:** If $P(X^{(1)} = 1|Y = 0)=0.10$, then $P(X^{(1)} = 0|Y = 0)=0.90$. \n",
        "\n",
        "There's a symmetry we can take advantage of here: we know that 90% of the time $Y=1$ we have $X=1$, which implies that 90% of the time $X=1$ we have $Y=1$, which is a more natural way of thinking about prediction.\n",
        "\n",
        "This means we predict correctly 90% of the time when $Y=0$, and we predict correctly 90% of the time when $Y=1$. Since $P(Y)=1/2$, we have 0-1 loss $L = 1-(0.5 \\times 0.9 + 0.5 \\times 0.9)=0.1$.\n",
        "\n",
        "In total, we have:\n",
        "\n",
        "\\begin{align}\n",
        "L_1 =& 1 - (0.5 \\times 0.9 + 0.5 \\times 0.9) = 0.1 \\\\\n",
        "L_2 =& 1 - (0.5 \\times 0.95 + 0.5 \\times 0.8) = 0.125 \\\\\n",
        "L_3 =& 1 - (0.5 \\times 0.99 + 0.5 \\times 0.71) = 0.15.\n",
        "\\end{align}\n",
        "\n",
        "**Check:** If you did not observe that feature $X^{(1)}$ is the most important feature by virtue of having the smallest 0-1 loss (0.1), check your calculations before proceeding."
      ]
    },
    {
      "cell_type": "markdown",
      "metadata": {
        "execution": {},
        "id": "JF8tThzMtkEW"
      },
      "source": [
        "### Calculate the importance of feature pairs (0-1 loss) for $\\{X^{(1)}, X^{(2)}\\}$, $\\{X^{(1)}, X^{(3)}\\}$, and $\\{X^{(2)}, X^{(3)}\\}$\n",
        "\n",
        "\n"
      ]
    },
    {
      "cell_type": "markdown",
      "metadata": {
        "execution": {},
        "id": "ZxEvb5QetkEW"
      },
      "source": [
        "### Let's start with $\\{X^{(1)}, X^{(2)}\\}$\n",
        "\n",
        "Working out these calculations is a bit tedious, so we'll provide various tables and descriptions of their origins.\n",
        "\n",
        "First, we compute conditional PMFs $P\\left( X^{(1)}, X^{(2)}∣Y \\right)$ by multiplying the provided conditionally independent probabilities together.\n",
        "\n",
        "**Conditional PMFs:**\n",
        "\n",
        "| $P(X_1,X_2|Y=0)$ |$X_2=0$  |$X_2=1$ |\n",
        "|------------------|---------|--------|\n",
        "| $X_1=0$          | 0.855   | 0.045  |\n",
        "| $X_1=1$          | 0.095   | 0.005  |\n",
        "\n",
        "| $P(X_1,X_2|Y=1)$ |$X_2=0$  |$X_2=1$ |       \n",
        "|------------------|---------|--------|\n",
        "| $X_1=0$          | 0.02    | 0.08   |\n",
        "| $X_1=1$          | 0.18    | 0.72   |\n",
        "\n",
        "\n",
        "We can then obtain a marginal PMF for $\\{X^{(1)}, X^{(2)}\\}$ by element-wise averaging these two 2x2 tables because $P(Y)=1/2$.\n",
        "\n",
        "**Marginal PMF:**\n",
        "\n",
        "| $P(X_1,X_2)$ |$X_2=0$  |$X_2=1$ |       \n",
        "|--------------|---------|--------|\n",
        "| $X_1=0$      | 0.4375  | 0.0625 |       \n",
        "| $X_1=1$      | 0.1375  | 0.3625 |\n",
        "\n",
        "\n",
        "We now use the conditional PMFs to evaluate the conditional probability expressions we care about: $P\\left( Y∣X^{(1)}, X^{(2)} \\right)$.\n",
        "\n",
        "<br>\n",
        "\n",
        "**Conditional Probabilities: $P \\left( Y=\\{0, 1\\}|X_1,X_2 \\right)$**\n",
        "\n",
        "<br>\n",
        "\n",
        "\\begin{equation}\n",
        "\\frac{P(X_1,X_2 | Y=0)}{P(X_1,X_2|Y=0) + P(X_1,X_2|Y=1)}\n",
        "\\end{equation}\n",
        "\n",
        "<br>\n",
        "\n",
        "| $P(Y=0|X_1,X_2)$ |$X_2=0$   |$X_2=1$   |\n",
        "|------------------|----------|----------|\n",
        "| $X_1=0$          | 0.977143 | 0.36     |\n",
        "| $X_1=1$          | 0.345455 | 0.006897 |\n",
        "\n",
        "\n",
        "\\begin{equation}\n",
        "\\frac{P(X_1, X_2 | Y=1)}{P(X_1,X_2|Y=0) + P(X_1,X_2|Y=1)}\n",
        "\\end{equation}\n",
        "\n",
        "<br>\n",
        "\n",
        "| $P(Y=1|X_1,X_2)$ |$X_2=0$    |$X_2=1$   |\n",
        "|------------------|-----------|----------|\n",
        "| $X_1=0$          | 0.022857  | 0.64     |\n",
        "| $X_1=1$          | 0.654545  | 0.993103 |\n",
        "\n",
        "<br>\n",
        "\n",
        "We now implement a 0-1 classifier that predicts $\\hat{Y}=0$ or $\\hat{Y}=1$ based on the element-wise maximum in these two tables. For example, when $X^{(1)}=0$ and $X^{(2)}=0$, there's a 0.977 probability that $Y=0$ and a 0.023 probability that $Y=1$. We would of course predict $\\hat{Y}=1$ , and we expect to be correct 97.7% of the time.\n",
        "\n",
        "We now know the expected probability of success for our classifier for each $\\{X^{(1)}, X^{(2)}\\}$ combination.\n",
        "\n",
        "<br>\n",
        "\n",
        "**Maximum Conditional Probability:**\n",
        "\n",
        "| $P(\\text{Correct}|X_1,X_2)$ |$X_2=0$   |$X_2=1$   |\n",
        "|-----------------------------|----------|----------|\n",
        "| $X_1=0$                     | 0.977143 | 0.64     |\n",
        "| $X_1=1$                     | 0.654545 | 0.993103 |\n",
        "\n",
        "\n",
        "Only one task remains for you to complete: compute the expected 0-1 loss for this classifier.\n",
        "\n",
        "<br>\n",
        "\n",
        "**Hint:** We know how likely we are to be correct given some $\\{X(1), X(2)\\}$ combination. We also know how likely those combinations are to appear.\n",
        "\n",
        "**Solution:**"
      ]
    },
    {
      "cell_type": "code",
      "metadata": {
        "execution": {},
        "id": "OnMjWYAstkEX",
        "colab": {
          "base_uri": "https://localhost:8080/"
        },
        "outputId": "b5e0c618-2f28-4fbd-a25b-62bc2c0c20d2"
      },
      "source": [
        "marginal = np.array([[0.4375, 0.0625],\n",
        "                     [0.1375, 0.3625]])\n",
        "max_cond_prob = np.array([[0.977, 0.64],\n",
        "                          [0.6545, 0.993]])\n",
        "# We need the sum-product of these two arrays.\n",
        "# (1) element-wise multiplication to produce one array.\n",
        "# (2) sum the elements of the resulting array\n",
        "accuracy = np.sum(np.multiply(marginal, max_cond_prob))\n",
        "print(accuracy)"
      ],
      "execution_count": 57,
      "outputs": [
        {
          "output_type": "stream",
          "text": [
            "0.9173937499999999\n"
          ],
          "name": "stdout"
        }
      ]
    },
    {
      "cell_type": "code",
      "metadata": {
        "execution": {},
        "id": "2fA8t_28tkEY",
        "colab": {
          "base_uri": "https://localhost:8080/"
        },
        "outputId": "3f33f4e8-ce3e-4bdd-8b12-6875efc3bd02"
      },
      "source": [
        "# 0-1 loss is 1 - accuracy.\n",
        "print(1 - accuracy)"
      ],
      "execution_count": 58,
      "outputs": [
        {
          "output_type": "stream",
          "text": [
            "0.0826062500000001\n"
          ],
          "name": "stdout"
        }
      ]
    },
    {
      "cell_type": "markdown",
      "metadata": {
        "execution": {},
        "id": "_n0Psvb1tkEZ"
      },
      "source": [
        "**Check:** You should have gotten 0-1 loss for $\\{X^{(1)}, X^{(2)}\\}$ to be 0.0826."
      ]
    },
    {
      "cell_type": "markdown",
      "metadata": {
        "execution": {},
        "id": "IhDgbFe0tkEZ"
      },
      "source": [
        "### Let's move on to  $\\{X^{(2)}, X^{(3)}\\}$\n",
        "\n",
        "Our claim was that the most important single feature, already found to be $\\{X^{(1)}$\\}, is not in the most important pair of features, so we just need to show that the 0-1 loss for $\\{X^{(2)}, X^{(3)}\\}$ is less than 0.0826.\n",
        "\n",
        "First, we compute conditional PMFs $P \\left( X^{(2)}, X^{(3)}∣Y \\right)$ by multiplying conditionally independent probabilities together.\n",
        "\n",
        "**Conditional PMFs:**\n",
        "\n",
        "| $P(X_2,X_3|Y=0)$ |$X_3=0$  |$X_3=1$ |\n",
        "|------------------|---------|--------|\n",
        "| $X_2=0$          | 0.9405  | 0.0095 |\n",
        "| $X_2=1$          | 0.0495  | 0.0005 |\n",
        "\n",
        "| $P(X_2,X_3|Y=1)$ |$X_3=0$  |$X_3=1$ | \n",
        "|-----------------|---------|--------|\n",
        "| $X_2=0$          | 0.058   | 0.142  |\n",
        "| $X_2=1$          | 0.232   | 0.568  |\n",
        "\n",
        "\n",
        "We can then obtain a marginal PMF for $\\{X^{(2)}, X^{(3)|\\}$ by element-wise averaging these two 2x2 tables because $P(Y)=1/2$.\n",
        "\n",
        "**Marginal PMF:**\n",
        "\n",
        "| $P(X_2,X_3)$   |$X_3=0$    |$X_3=1$  |\n",
        "|----------------|-----------|---------|\n",
        "| $X_2=0$        | 0.49925   | 0.07575 |\n",
        "| $X_2=1$        | 0.14075   | 0.28425 |\n",
        "\n",
        "\n",
        "We now use the conditional PMFs to evaluate the conditional probability expressions we care about: $P \\left( Y∣X^{(2)}, X^{(3)} \\right)$.\n",
        "\n",
        "<br>\n",
        "\n",
        "**Conditional Probabilities: $P \\left( Y=\\{0, 1\\}|X_2, X_3 \\right)$**\n",
        "\n",
        "<br>\n",
        "\n",
        "\\begin{equation}\n",
        "\\frac{P(X_2,X_3 | Y=0)}{P(X_2, X_3|Y=0) + P(X_2, X_3|Y=1)}\n",
        "\\end{equation}\n",
        "\n",
        "<br>\n",
        "\n",
        "| $P(Y=0|X_2,X_3)$ | $X_3=0$     |$X_3=1$      |   \n",
        "|------------------|-------------|-------------|\n",
        "| $X_2=0$          | 0.941912869 | 0.062706271 |\n",
        "| $X_2=1$          | 0.175843694 | 0.000879507 |\n",
        "\n",
        "\n",
        "\\begin{equation}\n",
        "\\frac{P(X_2,X_3 | Y=1)}{P(X_2, X_3|Y=0) + P(X_2, X_3|Y=1)}\n",
        "\\end{equation}\n",
        "\n",
        "<br>\n",
        "\n",
        "| $P(Y=0|X_2,X_3)$ | $X_3=0$     |$X_3=1$      |   \n",
        "|------------------|-------------|-------------|\n",
        "| $X_2=0$          | 0.058087131 | 0.937293729 |\n",
        "| $X_2=1$          | 0.824156306 | 0.999120493 |\n",
        "\n",
        "<br>\n",
        "\n",
        "We now implement a 0-1 classifier that predicts $\\hat{Y}=0$ or $\\hat{Y}=1$ based on the element-wise maximum in these two tables. For example, when $X^{(2)}=0$ and $X^{(3)}=0$, there's a 0.942 probability that $Y=0$ and a 0.058 probability that $Y=1$. We would of course predict $\\hat{Y}=1$ , and we expect to be correct 94.2% of the time.\n",
        "\n",
        "We now know the expected probability of success for our classifier for each $\\{X^{(2)}, X^{(3)}\\}$ combination.\n",
        "\n",
        "<br>\n",
        "\n",
        "**Maximum Conditional Probability:**\n",
        "\n",
        "| $P(\\text{Correct}|X_2,X_3)$ |$X_3=0$      |$X_3=1$      |\n",
        "|-----------------------------|-------------|-------------|\n",
        "| $X_1=0$                     | 0.941912869 | 0.937293729 |\n",
        "| $X_1=1$                     | 0.824156306 | 0.999120493 |\n",
        "\n",
        "\n",
        "Only one task remains for you to complete: compute the expected 0-1 loss for this classifier.\n",
        "\n",
        "<br>\n",
        "\n",
        "**Hint:** We know how likely we are to be correct given some $\\{X(2), X(3)\\}$ combination. We also know how likely those combinations are to appear.\n",
        "\n",
        "**Solution:**"
      ]
    },
    {
      "cell_type": "code",
      "metadata": {
        "execution": {},
        "id": "ubB9hWZrtkEb",
        "colab": {
          "base_uri": "https://localhost:8080/"
        },
        "outputId": "7a2c89ef-c08b-4975-dc62-0321022c4484"
      },
      "source": [
        "marginal = np.array([[0.49925, 0.07575],\n",
        "                     [0.14075, 0.28425]])\n",
        "max_cond_prob = np.array([[0.941912869, 0.937293729],\n",
        "                          [0.824156306,0.999120493]])\n",
        "# We need the sum-product of these two arrays.\n",
        "# (1) element-wise multiplication to produce one array.\n",
        "# (2) sum the elements of the resulting array\n",
        "accuracy = np.sum(np.multiply(marginal, max_cond_prob))\n",
        "print(accuracy)"
      ],
      "execution_count": 59,
      "outputs": [
        {
          "output_type": "stream",
          "text": [
            "0.9412500000247499\n"
          ],
          "name": "stdout"
        }
      ]
    },
    {
      "cell_type": "code",
      "metadata": {
        "execution": {},
        "id": "gxq1B2UhtkEc",
        "colab": {
          "base_uri": "https://localhost:8080/"
        },
        "outputId": "a945d32b-b9bd-4cb1-82d6-3baea7c4f837"
      },
      "source": [
        "# 0-1 loss is 1 - accuracy.\n",
        "print(1 - accuracy)"
      ],
      "execution_count": 60,
      "outputs": [
        {
          "output_type": "stream",
          "text": [
            "0.0587499999752501\n"
          ],
          "name": "stdout"
        }
      ]
    },
    {
      "cell_type": "markdown",
      "metadata": {
        "execution": {},
        "id": "mCWioMPKtkEc"
      },
      "source": [
        "**Check:** You should have gotten 0-1 loss for $\\{X^{(2)}, X^{(3)}\\}$ to be 0.05875."
      ]
    },
    {
      "cell_type": "markdown",
      "metadata": {
        "execution": {},
        "id": "4a8IE4AJtkEd"
      },
      "source": [
        "## Conclusion\n",
        "\n",
        "We demonstrated that our intuition could be misleading - it's not always the case that a feature that ranks highly among individual features would necessarily warrant being included at all when larger sets of features are considered.\n",
        "\n",
        "Something to think about: What does this tell you about stepwise feature selection approaches?"
      ]
    }
  ]
}