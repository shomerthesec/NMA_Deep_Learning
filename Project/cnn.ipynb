{
  "nbformat": 4,
  "nbformat_minor": 0,
  "metadata": {
    "colab": {
      "name": "cnn",
      "provenance": [],
      "collapsed_sections": []
    },
    "kernelspec": {
      "display_name": "Python 3",
      "name": "python3"
    },
    "language_info": {
      "name": "python"
    },
    "accelerator": "GPU",
    "widgets": {
      "application/vnd.jupyter.widget-state+json": {
        "d378bf67c15547089f97c3366675dda1": {
          "model_module": "@jupyter-widgets/controls",
          "model_name": "HBoxModel",
          "model_module_version": "1.5.0",
          "state": {
            "_view_name": "HBoxView",
            "_dom_classes": [],
            "_model_name": "HBoxModel",
            "_view_module": "@jupyter-widgets/controls",
            "_model_module_version": "1.5.0",
            "_view_count": null,
            "_view_module_version": "1.5.0",
            "box_style": "",
            "layout": "IPY_MODEL_081cf5a4f3f5450f8b320cb3f1bdc74b",
            "_model_module": "@jupyter-widgets/controls",
            "children": [
              "IPY_MODEL_b66c3272530a4524bd4e19fb5d899345",
              "IPY_MODEL_97cd63ee66bb4976934435c7e3bb8073"
            ]
          }
        },
        "081cf5a4f3f5450f8b320cb3f1bdc74b": {
          "model_module": "@jupyter-widgets/base",
          "model_name": "LayoutModel",
          "model_module_version": "1.2.0",
          "state": {
            "_view_name": "LayoutView",
            "grid_template_rows": null,
            "right": null,
            "justify_content": null,
            "_view_module": "@jupyter-widgets/base",
            "overflow": null,
            "_model_module_version": "1.2.0",
            "_view_count": null,
            "flex_flow": null,
            "width": null,
            "min_width": null,
            "border": null,
            "align_items": null,
            "bottom": null,
            "_model_module": "@jupyter-widgets/base",
            "top": null,
            "grid_column": null,
            "overflow_y": null,
            "overflow_x": null,
            "grid_auto_flow": null,
            "grid_area": null,
            "grid_template_columns": null,
            "flex": null,
            "_model_name": "LayoutModel",
            "justify_items": null,
            "grid_row": null,
            "max_height": null,
            "align_content": null,
            "visibility": null,
            "align_self": null,
            "height": null,
            "min_height": null,
            "padding": null,
            "grid_auto_rows": null,
            "grid_gap": null,
            "max_width": null,
            "order": null,
            "_view_module_version": "1.2.0",
            "grid_template_areas": null,
            "object_position": null,
            "object_fit": null,
            "grid_auto_columns": null,
            "margin": null,
            "display": null,
            "left": null
          }
        },
        "b66c3272530a4524bd4e19fb5d899345": {
          "model_module": "@jupyter-widgets/controls",
          "model_name": "FloatProgressModel",
          "model_module_version": "1.5.0",
          "state": {
            "_view_name": "ProgressView",
            "style": "IPY_MODEL_6b1a903af78e44c3af7d6e90eaa5d592",
            "_dom_classes": [],
            "description": "Training: 100%",
            "_model_name": "FloatProgressModel",
            "bar_style": "success",
            "max": 15,
            "_view_module": "@jupyter-widgets/controls",
            "_model_module_version": "1.5.0",
            "value": 15,
            "_view_count": null,
            "_view_module_version": "1.5.0",
            "orientation": "horizontal",
            "min": 0,
            "description_tooltip": null,
            "_model_module": "@jupyter-widgets/controls",
            "layout": "IPY_MODEL_6bf453e7070a4cecbd002af76b33ef6f"
          }
        },
        "97cd63ee66bb4976934435c7e3bb8073": {
          "model_module": "@jupyter-widgets/controls",
          "model_name": "HTMLModel",
          "model_module_version": "1.5.0",
          "state": {
            "_view_name": "HTMLView",
            "style": "IPY_MODEL_cf61d54dc6df434597dd00577a420b1f",
            "_dom_classes": [],
            "description": "",
            "_model_name": "HTMLModel",
            "placeholder": "​",
            "_view_module": "@jupyter-widgets/controls",
            "_model_module_version": "1.5.0",
            "value": " 15/15 [00:46&lt;00:00,  3.09s/epoch, loss=0.0243]",
            "_view_count": null,
            "_view_module_version": "1.5.0",
            "description_tooltip": null,
            "_model_module": "@jupyter-widgets/controls",
            "layout": "IPY_MODEL_666968f8bd98472b8d29786c2494f48e"
          }
        },
        "6b1a903af78e44c3af7d6e90eaa5d592": {
          "model_module": "@jupyter-widgets/controls",
          "model_name": "ProgressStyleModel",
          "model_module_version": "1.5.0",
          "state": {
            "_view_name": "StyleView",
            "_model_name": "ProgressStyleModel",
            "description_width": "initial",
            "_view_module": "@jupyter-widgets/base",
            "_model_module_version": "1.5.0",
            "_view_count": null,
            "_view_module_version": "1.2.0",
            "bar_color": null,
            "_model_module": "@jupyter-widgets/controls"
          }
        },
        "6bf453e7070a4cecbd002af76b33ef6f": {
          "model_module": "@jupyter-widgets/base",
          "model_name": "LayoutModel",
          "model_module_version": "1.2.0",
          "state": {
            "_view_name": "LayoutView",
            "grid_template_rows": null,
            "right": null,
            "justify_content": null,
            "_view_module": "@jupyter-widgets/base",
            "overflow": null,
            "_model_module_version": "1.2.0",
            "_view_count": null,
            "flex_flow": null,
            "width": null,
            "min_width": null,
            "border": null,
            "align_items": null,
            "bottom": null,
            "_model_module": "@jupyter-widgets/base",
            "top": null,
            "grid_column": null,
            "overflow_y": null,
            "overflow_x": null,
            "grid_auto_flow": null,
            "grid_area": null,
            "grid_template_columns": null,
            "flex": null,
            "_model_name": "LayoutModel",
            "justify_items": null,
            "grid_row": null,
            "max_height": null,
            "align_content": null,
            "visibility": null,
            "align_self": null,
            "height": null,
            "min_height": null,
            "padding": null,
            "grid_auto_rows": null,
            "grid_gap": null,
            "max_width": null,
            "order": null,
            "_view_module_version": "1.2.0",
            "grid_template_areas": null,
            "object_position": null,
            "object_fit": null,
            "grid_auto_columns": null,
            "margin": null,
            "display": null,
            "left": null
          }
        },
        "cf61d54dc6df434597dd00577a420b1f": {
          "model_module": "@jupyter-widgets/controls",
          "model_name": "DescriptionStyleModel",
          "model_module_version": "1.5.0",
          "state": {
            "_view_name": "StyleView",
            "_model_name": "DescriptionStyleModel",
            "description_width": "",
            "_view_module": "@jupyter-widgets/base",
            "_model_module_version": "1.5.0",
            "_view_count": null,
            "_view_module_version": "1.2.0",
            "_model_module": "@jupyter-widgets/controls"
          }
        },
        "666968f8bd98472b8d29786c2494f48e": {
          "model_module": "@jupyter-widgets/base",
          "model_name": "LayoutModel",
          "model_module_version": "1.2.0",
          "state": {
            "_view_name": "LayoutView",
            "grid_template_rows": null,
            "right": null,
            "justify_content": null,
            "_view_module": "@jupyter-widgets/base",
            "overflow": null,
            "_model_module_version": "1.2.0",
            "_view_count": null,
            "flex_flow": null,
            "width": null,
            "min_width": null,
            "border": null,
            "align_items": null,
            "bottom": null,
            "_model_module": "@jupyter-widgets/base",
            "top": null,
            "grid_column": null,
            "overflow_y": null,
            "overflow_x": null,
            "grid_auto_flow": null,
            "grid_area": null,
            "grid_template_columns": null,
            "flex": null,
            "_model_name": "LayoutModel",
            "justify_items": null,
            "grid_row": null,
            "max_height": null,
            "align_content": null,
            "visibility": null,
            "align_self": null,
            "height": null,
            "min_height": null,
            "padding": null,
            "grid_auto_rows": null,
            "grid_gap": null,
            "max_width": null,
            "order": null,
            "_view_module_version": "1.2.0",
            "grid_template_areas": null,
            "object_position": null,
            "object_fit": null,
            "grid_auto_columns": null,
            "margin": null,
            "display": null,
            "left": null
          }
        }
      }
    }
  },
  "cells": [
    {
      "cell_type": "markdown",
      "metadata": {
        "id": "w9z0EEo25Xsw"
      },
      "source": [
        "Importing numpy"
      ]
    },
    {
      "cell_type": "code",
      "metadata": {
        "id": "1aDu7Jip4evY"
      },
      "source": [
        "import numpy as np"
      ],
      "execution_count": 1,
      "outputs": []
    },
    {
      "cell_type": "markdown",
      "metadata": {
        "id": "R5hZ8czn5Vqg"
      },
      "source": [
        "## First, add this file to your drive [File](https://drive.google.com/drive/folders/1T1ox5SBkEf5QDn1w07f2w2teXbpPOjQX?usp=sharing)"
      ]
    },
    {
      "cell_type": "code",
      "metadata": {
        "colab": {
          "base_uri": "https://localhost:8080/"
        },
        "id": "Qgo5KUtelog_",
        "outputId": "95855853-31ce-4d8e-cdf7-77e89a90be88"
      },
      "source": [
        "from google.colab import drive\n",
        "drive.mount('/content/drive')"
      ],
      "execution_count": 2,
      "outputs": [
        {
          "output_type": "stream",
          "text": [
            "Mounted at /content/drive\n"
          ],
          "name": "stdout"
        }
      ]
    },
    {
      "cell_type": "markdown",
      "metadata": {
        "id": "bZ33IJ3x4qfj"
      },
      "source": [
        "## Then mount your drive using colab's icon in the files section to the left\n"
      ]
    },
    {
      "cell_type": "code",
      "metadata": {
        "id": "ViStaxis46yQ"
      },
      "source": [
        "features= np.load('/content/drive/MyDrive/NMA_DL_project/feature_0.npy')\n",
        "labels= np.load('/content/drive/MyDrive/NMA_DL_project/labels.npy')"
      ],
      "execution_count": 3,
      "outputs": []
    },
    {
      "cell_type": "markdown",
      "metadata": {
        "id": "mGEz_ppP5lVY"
      },
      "source": [
        "Making sure that the data has the correct length"
      ]
    },
    {
      "cell_type": "code",
      "metadata": {
        "id": "yLHI2gzN5CV8"
      },
      "source": [
        "assert len(features)==len(labels)"
      ],
      "execution_count": 4,
      "outputs": []
    },
    {
      "cell_type": "code",
      "metadata": {
        "colab": {
          "base_uri": "https://localhost:8080/"
        },
        "id": "iiMvlvkLlFwx",
        "outputId": "8b465513-a913-4729-d078-a348718e6625"
      },
      "source": [
        "features.shape"
      ],
      "execution_count": 5,
      "outputs": [
        {
          "output_type": "execute_result",
          "data": {
            "text/plain": [
              "(990, 128, 645)"
            ]
          },
          "metadata": {
            "tags": []
          },
          "execution_count": 5
        }
      ]
    },
    {
      "cell_type": "code",
      "metadata": {
        "colab": {
          "base_uri": "https://localhost:8080/"
        },
        "id": "vJQHw9zKwO9C",
        "outputId": "9989ccad-b1cd-4078-ac11-7033f768890e"
      },
      "source": [
        "features=features.reshape(990,1,128,645)\n",
        "features.shape"
      ],
      "execution_count": 6,
      "outputs": [
        {
          "output_type": "execute_result",
          "data": {
            "text/plain": [
              "(990, 1, 128, 645)"
            ]
          },
          "metadata": {
            "tags": []
          },
          "execution_count": 6
        }
      ]
    },
    {
      "cell_type": "code",
      "metadata": {
        "id": "e0ZrhlTItD4Q"
      },
      "source": [
        "import os\n",
        "import glob\n",
        "import imageio\n",
        "import random, shutil\n",
        "import torch\n",
        "import torch.nn as nn\n",
        "from tqdm.notebook import tqdm\n",
        "import torch.nn.functional as F\n",
        "import torchvision.datasets as datasets\n",
        "import torchvision.transforms as transforms\n",
        "import numpy as np\n",
        "import matplotlib.pyplot as plt\n",
        "import IPython.display as display\n",
        "import librosa\n",
        "import librosa.display"
      ],
      "execution_count": 7,
      "outputs": []
    },
    {
      "cell_type": "code",
      "metadata": {
        "id": "pIbVpa6emTf7"
      },
      "source": [
        "from  sklearn.model_selection import train_test_split \n",
        "x_train , x_test , y_train , y_test = train_test_split( features , labels , train_size=0.7, stratify=labels )\n",
        "\n",
        "# changing them into torch format\n",
        "x_train = torch.tensor(x_train )\n",
        "x_test = torch.tensor(x_test)\n",
        "\n",
        "y_train =torch.tensor(y_train)\n",
        "y_test = torch.tensor(y_test)\n",
        "\n",
        "train = torch.utils.data.TensorDataset(x_train,y_train)\n",
        "test = torch.utils.data.TensorDataset(x_test,y_test)\n",
        "\n",
        "train_loader=torch.utils.data.DataLoader(train,batch_size=8,\n",
        "                                         transforms. , # add transform here\n",
        "                                         shuffle=True)\n",
        "test_loader=torch.utils.data.DataLoader(test,batch_size=8)"
      ],
      "execution_count": 60,
      "outputs": []
    },
    {
      "cell_type": "code",
      "metadata": {
        "id": "4uQsafNKquvu",
        "outputId": "a6e6ad91-a441-40cb-ac71-4d1aa4b1138e",
        "colab": {
          "base_uri": "https://localhost:8080/"
        }
      },
      "source": [
        "len(train_loader)"
      ],
      "execution_count": 41,
      "outputs": [
        {
          "output_type": "execute_result",
          "data": {
            "text/plain": [
              "99"
            ]
          },
          "metadata": {
            "tags": []
          },
          "execution_count": 41
        }
      ]
    },
    {
      "cell_type": "code",
      "metadata": {
        "colab": {
          "base_uri": "https://localhost:8080/"
        },
        "id": "kdsDb-Batvts",
        "outputId": "33e875e2-17ee-4490-8200-44a25e8111a3"
      },
      "source": [
        "train.tensors[0].shape"
      ],
      "execution_count": 33,
      "outputs": [
        {
          "output_type": "execute_result",
          "data": {
            "text/plain": [
              "torch.Size([792, 1, 128, 645])"
            ]
          },
          "metadata": {
            "tags": []
          },
          "execution_count": 33
        }
      ]
    },
    {
      "cell_type": "code",
      "metadata": {
        "colab": {
          "base_uri": "https://localhost:8080/"
        },
        "id": "NmST0BSbuG_X",
        "outputId": "c7ecea7b-21ff-492d-de7e-71c743330d37"
      },
      "source": [
        "x_train.shape"
      ],
      "execution_count": 45,
      "outputs": [
        {
          "output_type": "execute_result",
          "data": {
            "text/plain": [
              "torch.Size([792, 1, 128, 645])"
            ]
          },
          "metadata": {
            "tags": []
          },
          "execution_count": 45
        }
      ]
    },
    {
      "cell_type": "code",
      "metadata": {
        "colab": {
          "base_uri": "https://localhost:8080/"
        },
        "id": "YmXyqzMeuONn",
        "outputId": "7c31f04c-9b9a-43eb-b3aa-011832e6f859"
      },
      "source": [
        "y_train.shape"
      ],
      "execution_count": 44,
      "outputs": [
        {
          "output_type": "execute_result",
          "data": {
            "text/plain": [
              "torch.Size([792])"
            ]
          },
          "metadata": {
            "tags": []
          },
          "execution_count": 44
        }
      ]
    },
    {
      "cell_type": "code",
      "metadata": {
        "colab": {
          "base_uri": "https://localhost:8080/"
        },
        "id": "p7G17GNbtS-B",
        "outputId": "db80dcd9-53a1-4f87-ec84-18aae65b26da"
      },
      "source": [
        "len(x_train)"
      ],
      "execution_count": 12,
      "outputs": [
        {
          "output_type": "execute_result",
          "data": {
            "text/plain": [
              "792"
            ]
          },
          "metadata": {
            "tags": []
          },
          "execution_count": 12
        }
      ]
    },
    {
      "cell_type": "code",
      "metadata": {
        "colab": {
          "base_uri": "https://localhost:8080/"
        },
        "id": "wqfmK5fgtV8N",
        "outputId": "f2732ada-68c1-40eb-9538-1f95bc2ccb83"
      },
      "source": [
        "len(y_test)"
      ],
      "execution_count": 13,
      "outputs": [
        {
          "output_type": "execute_result",
          "data": {
            "text/plain": [
              "198"
            ]
          },
          "metadata": {
            "tags": []
          },
          "execution_count": 13
        }
      ]
    },
    {
      "cell_type": "code",
      "metadata": {
        "colab": {
          "base_uri": "https://localhost:8080/"
        },
        "id": "Nd5NCwssf0tw",
        "cellView": "form",
        "outputId": "fdd1c796-4ea3-4fd8-a431-68238dad9738"
      },
      "source": [
        "# @title Helper functions (run me)\n",
        "\n",
        "def set_device():\n",
        "  device = \"cuda\" if torch.cuda.is_available() else \"cpu\"\n",
        "  if device != \"cuda\":\n",
        "      print(\"WARNING: For this notebook to perform best, \"\n",
        "          \"if possible, in the menu under `Runtime` -> \"\n",
        "          \"`Change runtime type.`  select `GPU` \")\n",
        "  else:\n",
        "      print(\"GPU is enabled in this notebook.\")\n",
        "\n",
        "  return device\n",
        "\n",
        "\n",
        "#  Plotting function.\n",
        "\n",
        "def plot_loss_accuracy(train_loss, train_acc, validation_loss, validation_acc):\n",
        "  epochs = len(train_loss)\n",
        "  fig, (ax1, ax2) = plt.subplots(1, 2)\n",
        "  ax1.plot(list(range(epochs)), train_loss, label='Training Loss')\n",
        "  ax1.plot(list(range(epochs)), validation_loss, label='Validation Loss')\n",
        "  ax1.set_xlabel('Epochs')\n",
        "  ax1.set_ylabel('Loss')\n",
        "  ax1.set_title('Epoch vs Loss')\n",
        "  ax1.legend()\n",
        "\n",
        "  ax2.plot(list(range(epochs)), train_acc, label='Training Accuracy')\n",
        "  ax2.plot(list(range(epochs)), validation_acc, label='Validation Accuracy')\n",
        "  ax2.set_xlabel('Epochs')\n",
        "  ax2.set_ylabel('Accuracy')\n",
        "  ax2.set_title('Epoch vs Accuracy')\n",
        "  ax2.legend()\n",
        "  fig.set_size_inches(15.5, 5.5)\n",
        "  plt.show()\n",
        "device = set_device()"
      ],
      "execution_count": 82,
      "outputs": [
        {
          "output_type": "stream",
          "text": [
            "GPU is enabled in this notebook.\n"
          ],
          "name": "stdout"
        }
      ]
    },
    {
      "cell_type": "code",
      "metadata": {
        "id": "-St94pwRHqy2"
      },
      "source": [
        "import torch\n",
        "from torch import nn\n",
        "\n",
        "import functools\n",
        "import operator\n",
        "\n",
        "class music_CNN(nn.Module):\n",
        "    \"\"\"Basic Pytorch CNN implementation\"\"\"\n",
        "\n",
        "    def __init__(self, in_channels=1, \n",
        "                 out_channels=10,\n",
        "                 input_dim=(1, 128, 645)):\n",
        "        \n",
        "        nn.Module.__init__(self)\n",
        "        self.feature_extractor = nn.Sequential(\n",
        "            nn.Conv2d(in_channels=1, out_channels=16, kernel_size=3, stride=1),\n",
        "            nn.ReLU(inplace=True),\n",
        "            nn.BatchNorm2d( 16 ) ,\n",
        "            nn.MaxPool2d(kernel_size=2),\n",
        "\n",
        "            nn.Conv2d(in_channels=16, out_channels=32, kernel_size=3, stride=1),\n",
        "            nn.ReLU(inplace=True),\n",
        "            nn.MaxPool2d(kernel_size=2),\n",
        "\n",
        "        )\n",
        "\n",
        "        num_features_before_fcnn = functools.reduce(operator.mul, list(self.feature_extractor(torch.rand(1, *input_dim)).shape))\n",
        "\n",
        "        self.classifier = nn.Sequential(\n",
        "            nn.Linear(in_features=num_features_before_fcnn, out_features=32),\n",
        "            nn.Dropout(0.4),\n",
        "            nn.Linear(in_features=32, out_features=out_channels),\n",
        "        )\n",
        "\n",
        "    def forward(self, x):\n",
        "        batch_size = x.size(0)\n",
        "\n",
        "        out = self.feature_extractor(x)\n",
        "        out = out.view(batch_size, -1)  # flatten the vector\n",
        "        out = self.classifier(out)\n",
        "        return out"
      ],
      "execution_count": 83,
      "outputs": []
    },
    {
      "cell_type": "code",
      "metadata": {
        "id": "ce46tnY-wiGx"
      },
      "source": [
        "def train(model, device, train_loader, validation_loader, epochs):\n",
        "  criterion =  nn.CrossEntropyLoss()\n",
        "  optimizer = torch.optim.Adam(model.parameters(), lr=0.0001)\n",
        "  train_loss, validation_loss = [], []\n",
        "  train_acc, validation_acc = [], []\n",
        "  with tqdm(range(epochs), unit='epoch') as tepochs:\n",
        "    tepochs.set_description('Training')\n",
        "    for epoch in tepochs:\n",
        "      model.train()\n",
        "      # keep track of the running loss\n",
        "      running_loss = 0.\n",
        "      correct, total = 0, 0\n",
        "\n",
        "      for data, target in train_loader:\n",
        "        # getting the training set\n",
        "        data, target = data.to(device, dtype=torch.float ), target.to(device)\n",
        "        # Get the model output (call the model with the data from this batch)\n",
        "        output = model(data)\n",
        "        # Zero the gradients out)\n",
        "        optimizer.zero_grad()\n",
        "        # Get the Loss\n",
        "        loss  = criterion(output, target)\n",
        "        # Calculate the gradients\n",
        "        loss.backward()\n",
        "        # Update the weights (using the training step of the optimizer)\n",
        "        optimizer.step()\n",
        "\n",
        "        tepochs.set_postfix(loss=loss.item())\n",
        "        running_loss += loss  # add the loss for this batch\n",
        "\n",
        "        # get accuracy\n",
        "        _, predicted = torch.max(output, 1)\n",
        "        total += target.size(0)\n",
        "        correct += (predicted == target).sum().item()\n",
        "\n",
        "      # append the loss for this epoch\n",
        "      train_loss.append(running_loss/len(train_loader))\n",
        "      train_acc.append(correct/total)\n",
        "\n",
        "      # evaluate on validation data\n",
        "      model.eval()\n",
        "      running_loss = 0.\n",
        "      correct, total = 0, 0\n",
        "\n",
        "      for data, target in validation_loader:\n",
        "        # getting the validation set\n",
        "        data, target = data.to(device, dtype=torch.float), target.to(device)\n",
        "        optimizer.zero_grad()\n",
        "        output = model(data)\n",
        "        loss = criterion(output, target)\n",
        "        tepochs.set_postfix(loss=loss.item())\n",
        "        running_loss += loss.item()\n",
        "        # get accuracy\n",
        "        _, predicted = torch.max(output, 1)\n",
        "        total += target.size(0)\n",
        "        correct += (predicted == target).sum().item()\n",
        "\n",
        "      validation_loss.append(running_loss/len(validation_loader))\n",
        "      validation_acc.append(correct/total)\n",
        "      print(f'The Train accuracy= {train_acc[epoch]} \\n The Validation acc {validation_acc[epoch]}') \n",
        "      print(f'The Train loss= {train_loss[epoch]} \\n The Validation loss {validation_loss[epoch]}')  \n",
        "      print('\\n')\n",
        "  return train_loss, train_acc, validation_loss, validation_acc"
      ],
      "execution_count": 84,
      "outputs": []
    },
    {
      "cell_type": "code",
      "metadata": {
        "colab": {
          "base_uri": "https://localhost:8080/",
          "height": 1000,
          "referenced_widgets": [
            "d378bf67c15547089f97c3366675dda1",
            "081cf5a4f3f5450f8b320cb3f1bdc74b",
            "b66c3272530a4524bd4e19fb5d899345",
            "97cd63ee66bb4976934435c7e3bb8073",
            "6b1a903af78e44c3af7d6e90eaa5d592",
            "6bf453e7070a4cecbd002af76b33ef6f",
            "cf61d54dc6df434597dd00577a420b1f",
            "666968f8bd98472b8d29786c2494f48e"
          ]
        },
        "id": "6cZKRj9rjZXX",
        "outputId": "3dc9f2bd-5794-480b-9557-0f3c88745f18"
      },
      "source": [
        "net = music_CNN().to(device)\n",
        "train_loss, train_acc, validation_loss, validation_acc = train(net, device, train_loader,test_loader, 15)\n",
        "plot_loss_accuracy(train_loss, train_acc, validation_loss, validation_acc)"
      ],
      "execution_count": 85,
      "outputs": [
        {
          "output_type": "display_data",
          "data": {
            "application/vnd.jupyter.widget-view+json": {
              "model_id": "d378bf67c15547089f97c3366675dda1",
              "version_minor": 0,
              "version_major": 2
            },
            "text/plain": [
              "HBox(children=(FloatProgress(value=0.0, max=15.0), HTML(value='')))"
            ]
          },
          "metadata": {
            "tags": []
          }
        },
        {
          "output_type": "stream",
          "text": [
            "The Train accuracy= 0.227994227994228 \n",
            " The Validation acc 0.4478114478114478\n",
            "The Train loss= 3.6044816970825195 \n",
            " The Validation loss 1.612493281693835\n",
            "\n",
            "\n",
            "The Train accuracy= 0.6334776334776335 \n",
            " The Validation acc 0.45791245791245794\n",
            "The Train loss= 1.1058337688446045 \n",
            " The Validation loss 1.672966265364697\n",
            "\n",
            "\n",
            "The Train accuracy= 0.8297258297258298 \n",
            " The Validation acc 0.4882154882154882\n",
            "The Train loss= 0.5724167823791504 \n",
            " The Validation loss 1.5118760768520205\n",
            "\n",
            "\n",
            "The Train accuracy= 0.9466089466089466 \n",
            " The Validation acc 0.494949494949495\n",
            "The Train loss= 0.26252588629722595 \n",
            " The Validation loss 1.534821314247031\n",
            "\n",
            "\n",
            "The Train accuracy= 0.961038961038961 \n",
            " The Validation acc 0.4377104377104377\n",
            "The Train loss= 0.21059739589691162 \n",
            " The Validation loss 1.9009292110016471\n",
            "\n",
            "\n",
            "The Train accuracy= 0.9754689754689755 \n",
            " The Validation acc 0.5521885521885522\n",
            "The Train loss= 0.13693715631961823 \n",
            " The Validation loss 1.4156184114123647\n",
            "\n",
            "\n",
            "The Train accuracy= 0.9913419913419913 \n",
            " The Validation acc 0.5387205387205387\n",
            "The Train loss= 0.10037849843502045 \n",
            " The Validation loss 1.4262713280163313\n",
            "\n",
            "\n",
            "The Train accuracy= 0.9913419913419913 \n",
            " The Validation acc 0.49158249158249157\n",
            "The Train loss= 0.06603901088237762 \n",
            " The Validation loss 1.5720949894503544\n",
            "\n",
            "\n",
            "The Train accuracy= 0.9884559884559885 \n",
            " The Validation acc 0.5218855218855218\n",
            "The Train loss= 0.07172290980815887 \n",
            " The Validation loss 1.5031039667756934\n",
            "\n",
            "\n",
            "The Train accuracy= 0.9855699855699855 \n",
            " The Validation acc 0.5185185185185185\n",
            "The Train loss= 0.06933733820915222 \n",
            " The Validation loss 1.8654857805292857\n",
            "\n",
            "\n",
            "The Train accuracy= 0.98989898989899 \n",
            " The Validation acc 0.4882154882154882\n",
            "The Train loss= 0.05786295607686043 \n",
            " The Validation loss 1.7488929088178433\n",
            "\n",
            "\n",
            "The Train accuracy= 0.9956709956709957 \n",
            " The Validation acc 0.5218855218855218\n",
            "The Train loss= 0.045887358486652374 \n",
            " The Validation loss 1.6045087043588098\n",
            "\n",
            "\n",
            "The Train accuracy= 0.9942279942279942 \n",
            " The Validation acc 0.5185185185185185\n",
            "The Train loss= 0.036530472338199615 \n",
            " The Validation loss 1.7834298285214525\n",
            "\n",
            "\n",
            "The Train accuracy= 0.9942279942279942 \n",
            " The Validation acc 0.48484848484848486\n",
            "The Train loss= 0.043099913746118546 \n",
            " The Validation loss 1.8970742962862317\n",
            "\n",
            "\n",
            "The Train accuracy= 0.9927849927849928 \n",
            " The Validation acc 0.5420875420875421\n",
            "The Train loss= 0.037413131445646286 \n",
            " The Validation loss 1.9206421945342107\n",
            "\n",
            "\n",
            "\n"
          ],
          "name": "stdout"
        },
        {
          "output_type": "display_data",
          "data": {
            "image/png": "[encoded data removed]",
            "text/plain": [
              "<Figure size 1116x396 with 2 Axes>"
            ]
          },
          "metadata": {
            "tags": [],
            "needs_background": "light"
          }
        }
      ]
    },
    {
      "cell_type": "code",
      "metadata": {
        "id": "v2Q56bwewi8E"
      },
      "source": [
        ""
      ],
      "execution_count": 85,
      "outputs": []
    }
  ]
}