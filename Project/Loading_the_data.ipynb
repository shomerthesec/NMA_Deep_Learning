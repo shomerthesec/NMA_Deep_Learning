{
  "nbformat": 4,
  "nbformat_minor": 0,
  "metadata": {
    "colab": {
      "name": "Loading the data",
      "provenance": [],
      "collapsed_sections": []
    },
    "kernelspec": {
      "name": "python3",
      "display_name": "Python 3"
    },
    "language_info": {
      "name": "python"
    }
  },
  "cells": [
    {
      "cell_type": "markdown",
      "metadata": {
        "id": "w9z0EEo25Xsw"
      },
      "source": [
        "Importing numpy"
      ]
    },
    {
      "cell_type": "code",
      "metadata": {
        "id": "1aDu7Jip4evY"
      },
      "source": [
        "import numpy as np"
      ],
      "execution_count": 2,
      "outputs": []
    },
    {
      "cell_type": "markdown",
      "metadata": {
        "id": "R5hZ8czn5Vqg"
      },
      "source": [
        "## First, add this file to your drive [File](https://drive.google.com/drive/folders/1T1ox5SBkEf5QDn1w07f2w2teXbpPOjQX?usp=sharing)"
      ]
    },
    {
      "cell_type": "markdown",
      "metadata": {
        "id": "bZ33IJ3x4qfj"
      },
      "source": [
        "## Then mount your drive using colab's icon in the files section to the left\n"
      ]
    },
    {
      "cell_type": "code",
      "metadata": {
        "id": "ViStaxis46yQ"
      },
      "source": [
        "features= np.load('/content/drive/MyDrive/NMA_DL_project/features.npy')\n",
        "labels= np.load('/content/drive/MyDrive/NMA_DL_project/labels.npy')"
      ],
      "execution_count": 4,
      "outputs": []
    },
    {
      "cell_type": "markdown",
      "metadata": {
        "id": "mGEz_ppP5lVY"
      },
      "source": [
        "Making sure that the data has the correct length"
      ]
    },
    {
      "cell_type": "code",
      "metadata": {
        "id": "yLHI2gzN5CV8"
      },
      "source": [
        "assert len(features)==len(labels)"
      ],
      "execution_count": 5,
      "outputs": []
    },
    {
      "cell_type": "markdown",
      "metadata": {
        "id": "SagHpDy_5K6g"
      },
      "source": [
        "Great now you have the Data!\n",
        "you can now load it into ```sklearn.model_selection.train_test_split```"
      ]
    }
  ]
}