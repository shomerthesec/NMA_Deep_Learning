{
  "nbformat": 4,
  "nbformat_minor": 0,
  "metadata": {
    "colab": {
      "name": "Creating feature arrays for 3-parts clip",
      "provenance": []
    },
    "kernelspec": {
      "name": "python3",
      "display_name": "Python 3"
    },
    "language_info": {
      "name": "python"
    }
  },
  "cells": [
    {
      "cell_type": "code",
      "metadata": {
        "id": "dehtjRXvUaVl"
      },
      "source": [
        "# Import necessary libraries.\n",
        "import os\n",
        "import pandas as pd\n",
        "import random, shutil\n",
        "import torch\n",
        "import torch.nn as nn\n",
        "from tqdm.notebook import tqdm\n",
        "import torch.nn.functional as F\n",
        "import torchvision.datasets as datasets\n",
        "import torchvision.transforms as transforms\n",
        "import numpy as np\n",
        "import matplotlib.pyplot as plt\n",
        "import IPython.display as display\n"
      ],
      "execution_count": 1,
      "outputs": []
    },
    {
      "cell_type": "code",
      "metadata": {
        "id": "UEH2nH9_UkuM"
      },
      "source": [
        "features= np.load('/content/drive/MyDrive/NMA_DL_project/all_the_features.npy',allow_pickle=True)\n",
        "labels=np.load('/content/drive/MyDrive/NMA_DL_project/all_the_labels.npy',allow_pickle=True)"
      ],
      "execution_count": 2,
      "outputs": []
    },
    {
      "cell_type": "code",
      "metadata": {
        "colab": {
          "base_uri": "https://localhost:8080/"
        },
        "id": "eHbOl7-LWxjd",
        "outputId": "38358bb2-0d4e-416a-9957-83b232db24c5"
      },
      "source": [
        "np.array( features[0][0] )[0].shape"
      ],
      "execution_count": 3,
      "outputs": [
        {
          "output_type": "stream",
          "text": [
            "/usr/local/lib/python3.7/dist-packages/ipykernel_launcher.py:1: VisibleDeprecationWarning: Creating an ndarray from ragged nested sequences (which is a list-or-tuple of lists-or-tuples-or ndarrays with different lengths or shapes) is deprecated. If you meant to do this, you must specify 'dtype=object' when creating the ndarray\n",
            "  \"\"\"Entry point for launching an IPython kernel.\n"
          ],
          "name": "stderr"
        },
        {
          "output_type": "execute_result",
          "data": {
            "text/plain": [
              "(128, 108)"
            ]
          },
          "metadata": {
            "tags": []
          },
          "execution_count": 3
        }
      ]
    },
    {
      "cell_type": "code",
      "metadata": {
        "colab": {
          "base_uri": "https://localhost:8080/"
        },
        "id": "G-d2SfMbjDqu",
        "outputId": "78cebf40-316a-4f36-991d-d296ee34ebe9"
      },
      "source": [
        "features= features.T\n",
        "features.shape"
      ],
      "execution_count": 12,
      "outputs": [
        {
          "output_type": "execute_result",
          "data": {
            "text/plain": [
              "(10, 297)"
            ]
          },
          "metadata": {
            "tags": []
          },
          "execution_count": 12
        }
      ]
    },
    {
      "cell_type": "markdown",
      "metadata": {
        "id": "GIf6MQl6oEH0"
      },
      "source": [
        "# creating an array for each feature"
      ]
    },
    {
      "cell_type": "code",
      "metadata": {
        "id": "JjpK8o8YWuDw"
      },
      "source": [
        "f0 = np.zeros( (10,297,128, 108 ) )\n",
        "f1 = np.zeros( (10,297,1, 108 ) )\n",
        "f2 = np.zeros( (10,297,1, 108 ) )\n",
        "f3 = np.zeros( (10,297,12, 108 ) )\n",
        "\n",
        "for label_10  in range(10) :  \n",
        "    for n_99 in range (297) :\n",
        "        #for feature in range (4):\n",
        "        f0[label_10][n_99]= features[label_10][n_99][0]\n",
        "        f1[label_10][n_99]= features[label_10][n_99][1]\n",
        "        f2[label_10][n_99]= features[label_10][n_99][2]\n",
        "        f3[label_10][n_99]= features[label_10][n_99][3]\n",
        "        \n"
      ],
      "execution_count": 13,
      "outputs": []
    },
    {
      "cell_type": "code",
      "metadata": {
        "colab": {
          "base_uri": "https://localhost:8080/"
        },
        "id": "KH320aJtkw3-",
        "outputId": "aca44a13-d629-43c5-ca5a-08dc98e0fb84"
      },
      "source": [
        "labels.shape"
      ],
      "execution_count": 14,
      "outputs": [
        {
          "output_type": "execute_result",
          "data": {
            "text/plain": [
              "(2970,)"
            ]
          },
          "metadata": {
            "tags": []
          },
          "execution_count": 14
        }
      ]
    },
    {
      "cell_type": "code",
      "metadata": {
        "colab": {
          "base_uri": "https://localhost:8080/"
        },
        "id": "UQf4LdmyltPL",
        "outputId": "7d259add-b88d-459e-92aa-746028eb7e23"
      },
      "source": [
        "f0.shape "
      ],
      "execution_count": 15,
      "outputs": [
        {
          "output_type": "execute_result",
          "data": {
            "text/plain": [
              "(10, 297, 128, 108)"
            ]
          },
          "metadata": {
            "tags": []
          },
          "execution_count": 15
        }
      ]
    },
    {
      "cell_type": "code",
      "metadata": {
        "colab": {
          "base_uri": "https://localhost:8080/"
        },
        "id": "isSLWUvomCQf",
        "outputId": "d91b6c33-1d37-4a20-8723-63e96f78afbb"
      },
      "source": [
        "f1.shape"
      ],
      "execution_count": 16,
      "outputs": [
        {
          "output_type": "execute_result",
          "data": {
            "text/plain": [
              "(10, 297, 1, 108)"
            ]
          },
          "metadata": {
            "tags": []
          },
          "execution_count": 16
        }
      ]
    },
    {
      "cell_type": "code",
      "metadata": {
        "colab": {
          "base_uri": "https://localhost:8080/"
        },
        "id": "eNtAlNPVmDig",
        "outputId": "d2c99377-1702-4333-f9f7-e6c229dfbadb"
      },
      "source": [
        "f2.shape"
      ],
      "execution_count": 17,
      "outputs": [
        {
          "output_type": "execute_result",
          "data": {
            "text/plain": [
              "(10, 297, 1, 108)"
            ]
          },
          "metadata": {
            "tags": []
          },
          "execution_count": 17
        }
      ]
    },
    {
      "cell_type": "code",
      "metadata": {
        "colab": {
          "base_uri": "https://localhost:8080/"
        },
        "id": "UBgr1GQrmERH",
        "outputId": "1c320366-eaa5-4bf3-84da-66a1d6578ac8"
      },
      "source": [
        "f3.shape"
      ],
      "execution_count": 18,
      "outputs": [
        {
          "output_type": "execute_result",
          "data": {
            "text/plain": [
              "(10, 297, 12, 108)"
            ]
          },
          "metadata": {
            "tags": []
          },
          "execution_count": 18
        }
      ]
    },
    {
      "cell_type": "markdown",
      "metadata": {
        "id": "HNjklUado8lD"
      },
      "source": [
        "# reshaping into the needed shape"
      ]
    },
    {
      "cell_type": "code",
      "metadata": {
        "colab": {
          "base_uri": "https://localhost:8080/"
        },
        "id": "6Xvnm2cqmE2h",
        "outputId": "b794f117-d016-4db3-98ff-fe89735ede7b"
      },
      "source": [
        "f0.reshape(2970 , 128 , 108).shape"
      ],
      "execution_count": 19,
      "outputs": [
        {
          "output_type": "execute_result",
          "data": {
            "text/plain": [
              "(2970, 128, 108)"
            ]
          },
          "metadata": {
            "tags": []
          },
          "execution_count": 19
        }
      ]
    },
    {
      "cell_type": "code",
      "metadata": {
        "colab": {
          "base_uri": "https://localhost:8080/"
        },
        "id": "1YVnOPeLmRrK",
        "outputId": "e347042c-5ad4-4a61-9230-b15fa84bae98"
      },
      "source": [
        "f0[0][3] == f0.reshape(2970 , 128 , 108)[3]"
      ],
      "execution_count": 20,
      "outputs": [
        {
          "output_type": "execute_result",
          "data": {
            "text/plain": [
              "array([[ True,  True,  True, ...,  True,  True,  True],\n",
              "       [ True,  True,  True, ...,  True,  True,  True],\n",
              "       [ True,  True,  True, ...,  True,  True,  True],\n",
              "       ...,\n",
              "       [ True,  True,  True, ...,  True,  True,  True],\n",
              "       [ True,  True,  True, ...,  True,  True,  True],\n",
              "       [ True,  True,  True, ...,  True,  True,  True]])"
            ]
          },
          "metadata": {
            "tags": []
          },
          "execution_count": 20
        }
      ]
    },
    {
      "cell_type": "code",
      "metadata": {
        "id": "bbElna6vmYGq"
      },
      "source": [
        "feature_0=f0.reshape(2970 , 128 , 108)\n",
        "feature_1=f1.reshape(2970 , 1 , 108)\n",
        "feature_2=f2.reshape(2970 , 1 , 108)\n",
        "feature_3=f3.reshape(2970 , 12 , 108)"
      ],
      "execution_count": 21,
      "outputs": []
    },
    {
      "cell_type": "code",
      "metadata": {
        "colab": {
          "base_uri": "https://localhost:8080/"
        },
        "id": "NDIDW1Zdmyii",
        "outputId": "13211e09-3411-4619-e13a-9afff6ce7be9"
      },
      "source": [
        "type( feature_0 )"
      ],
      "execution_count": 22,
      "outputs": [
        {
          "output_type": "execute_result",
          "data": {
            "text/plain": [
              "numpy.ndarray"
            ]
          },
          "metadata": {
            "tags": []
          },
          "execution_count": 22
        }
      ]
    },
    {
      "cell_type": "code",
      "metadata": {
        "id": "LkLFJkVjm4vg"
      },
      "source": [
        "np.save( 'feature_0.npy' , feature_0 )\n",
        "np.save( 'feature_1.npy' , feature_1 )\n",
        "np.save( 'feature_2.npy' , feature_2 )\n",
        "np.save( 'feature_3.npy' , feature_3 )"
      ],
      "execution_count": 23,
      "outputs": []
    },
    {
      "cell_type": "code",
      "metadata": {
        "id": "4-2UqPRMnN3_"
      },
      "source": [
        "!cp  '/content/feature_0.npy' '/content/drive/MyDrive/NMA_DL_project'\n",
        "!cp  '/content/feature_1.npy' '/content/drive/MyDrive/NMA_DL_project'\n",
        "!cp  '/content/feature_2.npy' '/content/drive/MyDrive/NMA_DL_project'\n",
        "!cp  '/content/feature_3.npy' '/content/drive/MyDrive/NMA_DL_project'"
      ],
      "execution_count": 24,
      "outputs": []
    }
  ]
}