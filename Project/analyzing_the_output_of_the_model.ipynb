{
  "nbformat": 4,
  "nbformat_minor": 0,
  "metadata": {
    "colab": {
      "name": "analyzing the output of the model",
      "provenance": [],
      "collapsed_sections": [
        "ln9vJLeogQy-",
        "O2Ra7mYQfwW8",
        "GDp661EPfzKn",
        "vUQewIGCf3RJ"
      ]
    },
    "kernelspec": {
      "name": "python3",
      "display_name": "Python 3"
    },
    "language_info": {
      "name": "python"
    },
    "accelerator": "GPU"
  },
  "cells": [
    {
      "cell_type": "markdown",
      "metadata": {
        "id": "ln9vJLeogQy-"
      },
      "source": [
        "# Our libraries"
      ]
    },
    {
      "cell_type": "code",
      "metadata": {
        "id": "WzuFmDOxeNLa"
      },
      "source": [
        "import os\n",
        "import glob\n",
        "import imageio\n",
        "import random, shutil\n",
        "import torch\n",
        "import torch.nn as nn\n",
        "from tqdm.notebook import tqdm\n",
        "import torch.nn.functional as F\n",
        "import torchvision.datasets as datasets\n",
        "import torchvision.transforms as transforms\n",
        "import numpy as np\n",
        "import matplotlib.pyplot as plt\n",
        "import IPython.display as display\n",
        "from  sklearn.model_selection import train_test_split \n",
        "from torch.utils.data import Dataset, TensorDataset\n",
        "import functools\n",
        "import operator"
      ],
      "execution_count": 1,
      "outputs": []
    },
    {
      "cell_type": "markdown",
      "metadata": {
        "id": "FN04VztTgKxh"
      },
      "source": [
        "# The helper functions for plotting and creating a pytorch dataset"
      ]
    },
    {
      "cell_type": "code",
      "metadata": {
        "colab": {
          "base_uri": "https://localhost:8080/"
        },
        "id": "xTN855WOeg_D",
        "cellView": "form",
        "outputId": "9c2bf8bd-edaa-4a60-a877-e6f0d94b0c3c"
      },
      "source": [
        "# @title Helper functions (run me)\n",
        "\n",
        "def set_device():\n",
        "  device = \"cuda\" if torch.cuda.is_available() else \"cpu\"\n",
        "  if device != \"cuda\":\n",
        "      print(\"WARNING: For this notebook to perform best, \"\n",
        "          \"if possible, in the menu under `Runtime` -> \"\n",
        "          \"`Change runtime type.`  select `GPU` \")\n",
        "  else:\n",
        "      print(\"GPU is enabled in this notebook.\")\n",
        "\n",
        "  return device\n",
        "\n",
        "\n",
        "#  Plotting function.\n",
        "\n",
        "def plot_loss_accuracy(train_loss, train_acc, validation_loss, validation_acc):\n",
        "  epochs = len(train_loss)\n",
        "  fig, (ax1, ax2) = plt.subplots(1, 2)\n",
        "  ax1.plot(list(range(epochs)), train_loss, label='Training Loss')\n",
        "  ax1.plot(list(range(epochs)), validation_loss, label='Validation Loss')\n",
        "  ax1.set_xlabel('Epochs')\n",
        "  ax1.set_ylabel('Loss')\n",
        "  ax1.set_title('Epoch vs Loss')\n",
        "  ax1.legend()\n",
        "\n",
        "  ax2.plot(list(range(epochs)), train_acc, label='Training Accuracy')\n",
        "  ax2.plot(list(range(epochs)), validation_acc, label='Validation Accuracy')\n",
        "  ax2.set_xlabel('Epochs')\n",
        "  ax2.set_ylabel('Accuracy')\n",
        "  ax2.set_title('Epoch vs Accuracy')\n",
        "  ax2.legend()\n",
        "  fig.set_size_inches(15.5, 5.5)\n",
        "  plt.show()\n",
        "device = set_device()\n",
        "\n",
        "class CustomTensorDataset(Dataset):\n",
        "    \"\"\"TensorDataset with support of transforms.\n",
        "    \"\"\"\n",
        "    def __init__(self, tensors, transform=None):\n",
        "        assert all(tensors[0].size(0) == tensor.size(0) for tensor in tensors)\n",
        "        self.tensors = tensors\n",
        "        self.transform = transform\n",
        "\n",
        "    def __getitem__(self, index):\n",
        "        x = self.tensors[0][index]\n",
        "\n",
        "        if self.transform:\n",
        "            x = self.transform(x)\n",
        "\n",
        "        y = self.tensors[1][index]\n",
        "\n",
        "        return x, y\n",
        "        \n",
        "    def __len__(self):\n",
        "        return self.tensors[0].size(0)    "
      ],
      "execution_count": 2,
      "outputs": [
        {
          "output_type": "stream",
          "text": [
            "GPU is enabled in this notebook.\n"
          ],
          "name": "stdout"
        }
      ]
    },
    {
      "cell_type": "markdown",
      "metadata": {
        "id": "ejBs8Y_Yf8Tx"
      },
      "source": [
        "# Loading the preprocessed data and process it further more"
      ]
    },
    {
      "cell_type": "code",
      "metadata": {
        "id": "mvatUzwNer0D"
      },
      "source": [
        "# loading the preprocessed data\n",
        "melspectrogram= np.load('/content/drive/MyDrive/NMA_DL_project/feature_0.npy')\n",
        "chroma_stft= np.load('/content/drive/MyDrive/NMA_DL_project/feature_3.npy')\n",
        "labels= np.load('/content/drive/MyDrive/NMA_DL_project/all_the_labels.npy')\n",
        "\n",
        "# compining both features and adding the channel dimention\n",
        "compined_feat= np.concatenate( (melspectrogram , chroma_stft ), axis=1).reshape( 2970,1,140, 108)\n",
        "\n",
        "x_train , x_test , y_train , y_test = train_test_split( compined_feat , labels , train_size=0.75, stratify=labels )\n",
        "\n",
        "x_val , x_test , y_val , y_test= train_test_split( x_test , y_test , train_size=0.5 , stratify= y_test )\n",
        "\n",
        "#transform =transforms.GaussianBlur(3 , (0.001,0.5))\n",
        "\n",
        "# changing them into torch format\n",
        "x_train = torch.tensor(x_train )\n",
        "x_test = torch.tensor(x_test)\n",
        "x_val= torch.tensor(x_val)\n",
        "y_train =torch.tensor(y_train)\n",
        "y_test = torch.tensor(y_test)\n",
        "y_val=  torch.tensor(y_val)\n",
        "\n",
        "train_dataset= CustomTensorDataset(tensors=(x_train, y_train)) #,  transform=transform)\n",
        "test_dataset = CustomTensorDataset(tensors=(x_test, y_test))\n",
        "val_dataset= CustomTensorDataset(tensors=(x_val, y_val))\n",
        "\n",
        "train_loader=torch.utils.data.DataLoader(train_dataset ,batch_size=32)\n",
        "test_loader=torch.utils.data.DataLoader(test_dataset )\n",
        "val_loader=torch.utils.data.DataLoader(val_dataset ,batch_size=32)"
      ],
      "execution_count": 3,
      "outputs": []
    },
    {
      "cell_type": "markdown",
      "metadata": {
        "id": "O2Ra7mYQfwW8"
      },
      "source": [
        "# Building the model"
      ]
    },
    {
      "cell_type": "code",
      "metadata": {
        "id": "om6-9xCXfxsm"
      },
      "source": [
        "class music_CNN(nn.Module):\n",
        "    \"\"\"Basic Pytorch CNN implementation\"\"\"\n",
        "\n",
        "    def __init__(self, in_channels=1, \n",
        "                 out_channels=10,\n",
        "                 input_dim=(1, 128, 108)):\n",
        "        \n",
        "        nn.Module.__init__(self)\n",
        "        self.feature_extractor = nn.Sequential(\n",
        "            nn.Conv2d(in_channels=1, out_channels= 64, kernel_size=3, stride=1 , padding='same'),\n",
        "            nn.ReLU(inplace=True),\n",
        "            nn.BatchNorm2d( 64 ) ,\n",
        "            nn.MaxPool2d(kernel_size=2),\n",
        "\n",
        "            nn.Conv2d(in_channels=64, out_channels=64, kernel_size=3, stride=1, padding='same'),\n",
        "            nn.ReLU(inplace=True),\n",
        "            nn.BatchNorm2d( 64 ) ,\n",
        "            nn.MaxPool2d(kernel_size=2),\n",
        "\n",
        "            nn.Conv2d(in_channels=64, out_channels=128, kernel_size=3, stride=1, padding='same'),\n",
        "            nn.ReLU(inplace=True),\n",
        "            nn.BatchNorm2d( 128 ) ,\n",
        "            nn.MaxPool2d(kernel_size=2),\n",
        "\n",
        "            nn.Dropout(0.3),\n",
        "\n",
        "            nn.Conv2d(in_channels=128, out_channels=128, kernel_size=3, stride=1, padding='same'),\n",
        "            nn.ReLU(inplace=True),\n",
        "            nn.BatchNorm2d( 128 ) ,\n",
        "            nn.MaxPool2d(kernel_size=2),\n",
        "\n",
        "            nn.Conv2d(in_channels=128, out_channels= 256, kernel_size=3, stride=1 , padding='same'),\n",
        "            nn.ReLU(inplace=True),\n",
        "            nn.BatchNorm2d( 256 ) ,\n",
        "            nn.MaxPool2d(kernel_size=2),\n",
        "\n",
        "            nn.Dropout(0.4),\n",
        "\n",
        "            nn.Conv2d(in_channels=256, out_channels=512, kernel_size=3, stride=1, padding='same'),\n",
        "            nn.ReLU(inplace=True),\n",
        "            nn.BatchNorm2d( 512 ) ,\n",
        "            nn.MaxPool2d(kernel_size=2),\n",
        "\n",
        "        )\n",
        "\n",
        "        num_features_before_fcnn = functools.reduce(operator.mul, list(self.feature_extractor(torch.rand(1, *input_dim)).shape))\n",
        "\n",
        "        self.classifier = nn.Sequential(\n",
        "            nn.Linear(in_features=num_features_before_fcnn, out_features=256),\n",
        "            nn.Dropout(0.4),\n",
        "            nn.Linear(in_features=256, out_features=out_channels),\n",
        "        )\n",
        "\n",
        "    def forward(self, x):\n",
        "        batch_size = x.size(0)\n",
        "\n",
        "        out = self.feature_extractor(x)\n",
        "        features = out.view(batch_size, -1)  # flatten the vector\n",
        "        out = self.classifier(features)\n",
        "        \n",
        "        return out , features"
      ],
      "execution_count": 4,
      "outputs": []
    },
    {
      "cell_type": "markdown",
      "metadata": {
        "id": "B5ERLNECHoQ_"
      },
      "source": [
        "# Loading the weights"
      ]
    },
    {
      "cell_type": "code",
      "metadata": {
        "colab": {
          "base_uri": "https://localhost:8080/"
        },
        "id": "DX1Sxhk2ygk9",
        "outputId": "0a1f28d5-6264-4602-fe12-fdb4e313bb7f"
      },
      "source": [
        "tmp_model= music_CNN()\n",
        "tmp_model.load_state_dict(torch.load( '/content/drive/MyDrive/NMA_DL_project/final_model.cp'))"
      ],
      "execution_count": 22,
      "outputs": [
        {
          "output_type": "execute_result",
          "data": {
            "text/plain": [
              "<All keys matched successfully>"
            ]
          },
          "metadata": {
            "tags": []
          },
          "execution_count": 22
        }
      ]
    },
    {
      "cell_type": "markdown",
      "metadata": {
        "id": "6NZrp4woHsJJ"
      },
      "source": [
        "# Trying the model"
      ]
    },
    {
      "cell_type": "code",
      "metadata": {
        "colab": {
          "base_uri": "https://localhost:8080/"
        },
        "id": "N58fNNKnyuGD",
        "outputId": "d006602e-d128-427b-fad6-2da53a1d9bda"
      },
      "source": [
        "criterion =  nn.CrossEntropyLoss()\n",
        "running_loss=0\n",
        "total=0\n",
        "correct=0\n",
        "test_loss=[]\n",
        "test_acc=[]\n",
        "tmp_model.to(device)\n",
        "for data, target in test_loader:\n",
        "        # getting the validation set\n",
        "        data, target = data.to(device, dtype=torch.float), target.to(device)\n",
        "        output,_ = tmp_model(data)\n",
        "        loss = criterion(output, target)\n",
        "        running_loss += loss.item()\n",
        "        # get accuracy\n",
        "        _, predicted = torch.max(output, 1)\n",
        "        total += target.size(0)\n",
        "        correct += (predicted == target).sum().item()\n",
        "\n",
        "        test_loss.append(running_loss/len(test_loader))\n",
        "        test_acc.append(correct/total)\n",
        "\n",
        "print(f'The test acc {np.mean(test_acc)}') \n",
        "print(f'The test loss {np.mean(test_loss)}')  "
      ],
      "execution_count": 23,
      "outputs": [
        {
          "output_type": "stream",
          "text": [
            "The test acc 0.6097652472877543\n",
            "The test loss 0.5755054592249139\n"
          ],
          "name": "stdout"
        }
      ]
    },
    {
      "cell_type": "markdown",
      "metadata": {
        "id": "qboY6M9q1xVp"
      },
      "source": [
        "# RSM"
      ]
    },
    {
      "cell_type": "code",
      "metadata": {
        "colab": {
          "base_uri": "https://localhost:8080/"
        },
        "id": "1dB65ET7179_",
        "outputId": "3d64dce8-f86e-49b6-ad1a-db57bc7305a3"
      },
      "source": [
        "for name, param in tmp_model.named_parameters():\n",
        "    print(name)"
      ],
      "execution_count": 7,
      "outputs": [
        {
          "output_type": "stream",
          "text": [
            "feature_extractor.0.weight\n",
            "feature_extractor.0.bias\n",
            "feature_extractor.2.weight\n",
            "feature_extractor.2.bias\n",
            "feature_extractor.4.weight\n",
            "feature_extractor.4.bias\n",
            "feature_extractor.6.weight\n",
            "feature_extractor.6.bias\n",
            "feature_extractor.8.weight\n",
            "feature_extractor.8.bias\n",
            "feature_extractor.10.weight\n",
            "feature_extractor.10.bias\n",
            "feature_extractor.13.weight\n",
            "feature_extractor.13.bias\n",
            "feature_extractor.15.weight\n",
            "feature_extractor.15.bias\n",
            "feature_extractor.17.weight\n",
            "feature_extractor.17.bias\n",
            "feature_extractor.19.weight\n",
            "feature_extractor.19.bias\n",
            "feature_extractor.22.weight\n",
            "feature_extractor.22.bias\n",
            "feature_extractor.24.weight\n",
            "feature_extractor.24.bias\n",
            "classifier.0.weight\n",
            "classifier.0.bias\n",
            "classifier.2.weight\n",
            "classifier.2.bias\n"
          ],
          "name": "stdout"
        }
      ]
    },
    {
      "cell_type": "code",
      "metadata": {
        "id": "Wlr7tD4g8TrX"
      },
      "source": [
        "features_list = []\n",
        "targets=[]\n",
        "for data, target in test_loader:\n",
        "        # getting the validation set\n",
        "        data, target = data.to(device, dtype=torch.float), target\n",
        "        output, feat = tmp_model(data)\n",
        "        features_list.append(feat)\n",
        "        targets.append(target)"
      ],
      "execution_count": 25,
      "outputs": []
    },
    {
      "cell_type": "code",
      "metadata": {
        "id": "tukXt7zt_p3N"
      },
      "source": [
        "out_features= np.array([ torch.squeeze( f ).to('cpu').detach().numpy()   for f in features_list ]).squeeze()"
      ],
      "execution_count": 26,
      "outputs": []
    },
    {
      "cell_type": "markdown",
      "metadata": {
        "id": "8ljCFRvXH-2b"
      },
      "source": [
        "conducting PCA on the features"
      ]
    },
    {
      "cell_type": "code",
      "metadata": {
        "id": "a242nqeJA9Qr"
      },
      "source": [
        "from sklearn.decomposition import PCA\n",
        "pca= PCA( 2 )\n",
        "features_2d = pca.fit_transform( out_features )"
      ],
      "execution_count": 27,
      "outputs": []
    },
    {
      "cell_type": "code",
      "metadata": {
        "colab": {
          "base_uri": "https://localhost:8080/"
        },
        "id": "rupdhD5dBP3g",
        "outputId": "f4491867-bb6c-4163-b0dc-43b0ba26dd74"
      },
      "source": [
        "features_2d.shape"
      ],
      "execution_count": 28,
      "outputs": [
        {
          "output_type": "execute_result",
          "data": {
            "text/plain": [
              "(372, 2)"
            ]
          },
          "metadata": {
            "tags": []
          },
          "execution_count": 28
        }
      ]
    },
    {
      "cell_type": "code",
      "metadata": {
        "id": "H9RwBs8fCKAT"
      },
      "source": [
        "targets= np.array(targets)"
      ],
      "execution_count": 29,
      "outputs": []
    },
    {
      "cell_type": "code",
      "metadata": {
        "id": "j25mBI3ZDb-t"
      },
      "source": [
        "targets= targets.reshape(372,1)"
      ],
      "execution_count": 30,
      "outputs": []
    },
    {
      "cell_type": "code",
      "metadata": {
        "id": "hIh1nRvHDAAA"
      },
      "source": [
        "feat_targ = np.concatenate( (features_2d , targets) ,axis=1 )"
      ],
      "execution_count": 31,
      "outputs": []
    },
    {
      "cell_type": "code",
      "metadata": {
        "id": "Z1rh6r7MCylt"
      },
      "source": [
        "import pandas as pd"
      ],
      "execution_count": 32,
      "outputs": []
    },
    {
      "cell_type": "code",
      "metadata": {
        "id": "S2_q7hDACnTk"
      },
      "source": [
        "df= pd.DataFrame( feat_targ , columns=['first component','second componend','label'])"
      ],
      "execution_count": 33,
      "outputs": []
    },
    {
      "cell_type": "code",
      "metadata": {
        "colab": {
          "base_uri": "https://localhost:8080/",
          "height": 203
        },
        "id": "PlEe-IgXCxZr",
        "outputId": "dcd3888b-059a-4f69-9624-ca5ceba3d21d"
      },
      "source": [
        "df.head()"
      ],
      "execution_count": 34,
      "outputs": [
        {
          "output_type": "execute_result",
          "data": {
            "text/html": [
              "<div>\n",
              "<style scoped>\n",
              "    .dataframe tbody tr th:only-of-type {\n",
              "        vertical-align: middle;\n",
              "    }\n",
              "\n",
              "    .dataframe tbody tr th {\n",
              "        vertical-align: top;\n",
              "    }\n",
              "\n",
              "    .dataframe thead th {\n",
              "        text-align: right;\n",
              "    }\n",
              "</style>\n",
              "<table border=\"1\" class=\"dataframe\">\n",
              "  <thead>\n",
              "    <tr style=\"text-align: right;\">\n",
              "      <th></th>\n",
              "      <th>first component</th>\n",
              "      <th>second componend</th>\n",
              "      <th>label</th>\n",
              "    </tr>\n",
              "  </thead>\n",
              "  <tbody>\n",
              "    <tr>\n",
              "      <th>0</th>\n",
              "      <td>-0.823905</td>\n",
              "      <td>-3.362482</td>\n",
              "      <td>7.0</td>\n",
              "    </tr>\n",
              "    <tr>\n",
              "      <th>1</th>\n",
              "      <td>1.196703</td>\n",
              "      <td>2.225627</td>\n",
              "      <td>1.0</td>\n",
              "    </tr>\n",
              "    <tr>\n",
              "      <th>2</th>\n",
              "      <td>-4.790988</td>\n",
              "      <td>-6.991938</td>\n",
              "      <td>6.0</td>\n",
              "    </tr>\n",
              "    <tr>\n",
              "      <th>3</th>\n",
              "      <td>1.050046</td>\n",
              "      <td>4.347703</td>\n",
              "      <td>4.0</td>\n",
              "    </tr>\n",
              "    <tr>\n",
              "      <th>4</th>\n",
              "      <td>4.840811</td>\n",
              "      <td>4.850285</td>\n",
              "      <td>3.0</td>\n",
              "    </tr>\n",
              "  </tbody>\n",
              "</table>\n",
              "</div>"
            ],
            "text/plain": [
              "   first component  second componend  label\n",
              "0        -0.823905         -3.362482    7.0\n",
              "1         1.196703          2.225627    1.0\n",
              "2        -4.790988         -6.991938    6.0\n",
              "3         1.050046          4.347703    4.0\n",
              "4         4.840811          4.850285    3.0"
            ]
          },
          "metadata": {
            "tags": []
          },
          "execution_count": 34
        }
      ]
    },
    {
      "cell_type": "markdown",
      "metadata": {
        "id": "97pTHcy7IFAs"
      },
      "source": [
        "# plotting the mean of the components for each genre"
      ]
    },
    {
      "cell_type": "code",
      "metadata": {
        "id": "zTlQniRBC3Z4"
      },
      "source": [
        "genres= [0,1,2,3,4,5,6,7,8,9]\n",
        "mean_of_component=[]\n",
        "for i in genres:\n",
        "    mean_of_component.append( df[df['label']==i].iloc[:,:-1].mean() ) # feature components for each genre\n",
        "    "
      ],
      "execution_count": 35,
      "outputs": []
    },
    {
      "cell_type": "code",
      "metadata": {
        "colab": {
          "base_uri": "https://localhost:8080/"
        },
        "id": "kBVdhD08EgDF",
        "outputId": "085ccf1a-1ea6-4062-c21b-9b3575cec5de"
      },
      "source": [
        "mean_of_component[0][1] # ( num of genre X mean of components )"
      ],
      "execution_count": 36,
      "outputs": [
        {
          "output_type": "execute_result",
          "data": {
            "text/plain": [
              "-0.9289882609973082"
            ]
          },
          "metadata": {
            "tags": []
          },
          "execution_count": 36
        }
      ]
    },
    {
      "cell_type": "code",
      "metadata": {
        "id": "NjWN0nCTG6cb"
      },
      "source": [
        "import matplotlib.cm as cm\n",
        "colors = cm.rainbow(np.linspace(0, 1, 10))\n",
        "genre_dict={ 0:'classical',\n",
        "            1:'hiphop',\n",
        "            2:'pop',\n",
        "            3:'country',\n",
        "            4:'disco',\n",
        "            5: 'reggae',\n",
        "            6: 'jazz',\n",
        "            7: 'rock',\n",
        "            8: 'blues',\n",
        "            9: 'metal',\n",
        "            }"
      ],
      "execution_count": 37,
      "outputs": []
    },
    {
      "cell_type": "code",
      "metadata": {
        "colab": {
          "base_uri": "https://localhost:8080/",
          "height": 285
        },
        "id": "6pbtfl7SFrm6",
        "outputId": "b9749776-8964-4180-bb03-7faa6811c6c2"
      },
      "source": [
        " fig, ax = plt.subplots()\n",
        "for i in range(10):\n",
        "\n",
        "    ax.scatter( mean_of_component[i][0] , mean_of_component[i][1] , color=colors[i] ,  )\n",
        "        \n",
        "    ax.annotate(f'{genre_dict[i]}', xy=(mean_of_component[i][0], mean_of_component[i][1] ), xytext=(-20,20), \n",
        "                textcoords='offset points', ha='center', va='bottom',\n",
        "                bbox=dict(boxstyle='round,pad=0.2', fc='yellow', alpha=0.3),\n",
        "                arrowprops=dict(arrowstyle='->', connectionstyle='arc3,rad=0.5', \n",
        "                                color='red'))"
      ],
      "execution_count": 39,
      "outputs": [
        {
          "output_type": "display_data",
          "data": {
            "image/png": "[encoded data removed]",
            "text/plain": [
              "<Figure size 432x288 with 1 Axes>"
            ]
          },
          "metadata": {
            "tags": [],
            "needs_background": "light"
          }
        }
      ]
    },
    {
      "cell_type": "code",
      "metadata": {
        "id": "9IVKoetxGbpt"
      },
      "source": [
        ""
      ],
      "execution_count": 38,
      "outputs": []
    }
  ]
}