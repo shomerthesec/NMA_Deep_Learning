{
  "nbformat": 4,
  "nbformat_minor": 0,
  "metadata": {
    "colab": {
      "name": "Music Genre Classifier v2.0 -regularization- ",
      "provenance": [],
      "collapsed_sections": [
        "ln9vJLeogQy-",
        "O2Ra7mYQfwW8",
        "GDp661EPfzKn",
        "vUQewIGCf3RJ"
      ]
    },
    "kernelspec": {
      "name": "python3",
      "display_name": "Python 3"
    },
    "language_info": {
      "name": "python"
    },
    "accelerator": "GPU",
    "widgets": {
      "application/vnd.jupyter.widget-state+json": {
        "eec017b5177340058656a527fd6959f4": {
          "model_module": "@jupyter-widgets/controls",
          "model_name": "HBoxModel",
          "model_module_version": "1.5.0",
          "state": {
            "_view_name": "HBoxView",
            "_dom_classes": [],
            "_model_name": "HBoxModel",
            "_view_module": "@jupyter-widgets/controls",
            "_model_module_version": "1.5.0",
            "_view_count": null,
            "_view_module_version": "1.5.0",
            "box_style": "",
            "layout": "IPY_MODEL_014aca20bf5d419ab7a50a338326bc83",
            "_model_module": "@jupyter-widgets/controls",
            "children": [
              "IPY_MODEL_eced31581d874c2daf0ccd17ed86a32c",
              "IPY_MODEL_0e33355960ab47b395d60ebea34de140"
            ]
          }
        },
        "014aca20bf5d419ab7a50a338326bc83": {
          "model_module": "@jupyter-widgets/base",
          "model_name": "LayoutModel",
          "model_module_version": "1.2.0",
          "state": {
            "_view_name": "LayoutView",
            "grid_template_rows": null,
            "right": null,
            "justify_content": null,
            "_view_module": "@jupyter-widgets/base",
            "overflow": null,
            "_model_module_version": "1.2.0",
            "_view_count": null,
            "flex_flow": null,
            "width": null,
            "min_width": null,
            "border": null,
            "align_items": null,
            "bottom": null,
            "_model_module": "@jupyter-widgets/base",
            "top": null,
            "grid_column": null,
            "overflow_y": null,
            "overflow_x": null,
            "grid_auto_flow": null,
            "grid_area": null,
            "grid_template_columns": null,
            "flex": null,
            "_model_name": "LayoutModel",
            "justify_items": null,
            "grid_row": null,
            "max_height": null,
            "align_content": null,
            "visibility": null,
            "align_self": null,
            "height": null,
            "min_height": null,
            "padding": null,
            "grid_auto_rows": null,
            "grid_gap": null,
            "max_width": null,
            "order": null,
            "_view_module_version": "1.2.0",
            "grid_template_areas": null,
            "object_position": null,
            "object_fit": null,
            "grid_auto_columns": null,
            "margin": null,
            "display": null,
            "left": null
          }
        },
        "eced31581d874c2daf0ccd17ed86a32c": {
          "model_module": "@jupyter-widgets/controls",
          "model_name": "FloatProgressModel",
          "model_module_version": "1.5.0",
          "state": {
            "_view_name": "ProgressView",
            "style": "IPY_MODEL_e2979710f7d54b43826175967bdf0404",
            "_dom_classes": [],
            "description": "Training: 100%",
            "_model_name": "FloatProgressModel",
            "bar_style": "success",
            "max": 40,
            "_view_module": "@jupyter-widgets/controls",
            "_model_module_version": "1.5.0",
            "value": 40,
            "_view_count": null,
            "_view_module_version": "1.5.0",
            "orientation": "horizontal",
            "min": 0,
            "description_tooltip": null,
            "_model_module": "@jupyter-widgets/controls",
            "layout": "IPY_MODEL_701fb9938c114a6590eceb171b910896"
          }
        },
        "0e33355960ab47b395d60ebea34de140": {
          "model_module": "@jupyter-widgets/controls",
          "model_name": "HTMLModel",
          "model_module_version": "1.5.0",
          "state": {
            "_view_name": "HTMLView",
            "style": "IPY_MODEL_4c6cfdacad104014a649e193e5f03ff2",
            "_dom_classes": [],
            "description": "",
            "_model_name": "HTMLModel",
            "placeholder": "​",
            "_view_module": "@jupyter-widgets/controls",
            "_model_module_version": "1.5.0",
            "value": " 40/40 [04:20&lt;00:00,  6.51s/epoch, loss=0.806]",
            "_view_count": null,
            "_view_module_version": "1.5.0",
            "description_tooltip": null,
            "_model_module": "@jupyter-widgets/controls",
            "layout": "IPY_MODEL_5070d84b3983438eaa55006f6fd72f91"
          }
        },
        "e2979710f7d54b43826175967bdf0404": {
          "model_module": "@jupyter-widgets/controls",
          "model_name": "ProgressStyleModel",
          "model_module_version": "1.5.0",
          "state": {
            "_view_name": "StyleView",
            "_model_name": "ProgressStyleModel",
            "description_width": "initial",
            "_view_module": "@jupyter-widgets/base",
            "_model_module_version": "1.5.0",
            "_view_count": null,
            "_view_module_version": "1.2.0",
            "bar_color": null,
            "_model_module": "@jupyter-widgets/controls"
          }
        },
        "701fb9938c114a6590eceb171b910896": {
          "model_module": "@jupyter-widgets/base",
          "model_name": "LayoutModel",
          "model_module_version": "1.2.0",
          "state": {
            "_view_name": "LayoutView",
            "grid_template_rows": null,
            "right": null,
            "justify_content": null,
            "_view_module": "@jupyter-widgets/base",
            "overflow": null,
            "_model_module_version": "1.2.0",
            "_view_count": null,
            "flex_flow": null,
            "width": null,
            "min_width": null,
            "border": null,
            "align_items": null,
            "bottom": null,
            "_model_module": "@jupyter-widgets/base",
            "top": null,
            "grid_column": null,
            "overflow_y": null,
            "overflow_x": null,
            "grid_auto_flow": null,
            "grid_area": null,
            "grid_template_columns": null,
            "flex": null,
            "_model_name": "LayoutModel",
            "justify_items": null,
            "grid_row": null,
            "max_height": null,
            "align_content": null,
            "visibility": null,
            "align_self": null,
            "height": null,
            "min_height": null,
            "padding": null,
            "grid_auto_rows": null,
            "grid_gap": null,
            "max_width": null,
            "order": null,
            "_view_module_version": "1.2.0",
            "grid_template_areas": null,
            "object_position": null,
            "object_fit": null,
            "grid_auto_columns": null,
            "margin": null,
            "display": null,
            "left": null
          }
        },
        "4c6cfdacad104014a649e193e5f03ff2": {
          "model_module": "@jupyter-widgets/controls",
          "model_name": "DescriptionStyleModel",
          "model_module_version": "1.5.0",
          "state": {
            "_view_name": "StyleView",
            "_model_name": "DescriptionStyleModel",
            "description_width": "",
            "_view_module": "@jupyter-widgets/base",
            "_model_module_version": "1.5.0",
            "_view_count": null,
            "_view_module_version": "1.2.0",
            "_model_module": "@jupyter-widgets/controls"
          }
        },
        "5070d84b3983438eaa55006f6fd72f91": {
          "model_module": "@jupyter-widgets/base",
          "model_name": "LayoutModel",
          "model_module_version": "1.2.0",
          "state": {
            "_view_name": "LayoutView",
            "grid_template_rows": null,
            "right": null,
            "justify_content": null,
            "_view_module": "@jupyter-widgets/base",
            "overflow": null,
            "_model_module_version": "1.2.0",
            "_view_count": null,
            "flex_flow": null,
            "width": null,
            "min_width": null,
            "border": null,
            "align_items": null,
            "bottom": null,
            "_model_module": "@jupyter-widgets/base",
            "top": null,
            "grid_column": null,
            "overflow_y": null,
            "overflow_x": null,
            "grid_auto_flow": null,
            "grid_area": null,
            "grid_template_columns": null,
            "flex": null,
            "_model_name": "LayoutModel",
            "justify_items": null,
            "grid_row": null,
            "max_height": null,
            "align_content": null,
            "visibility": null,
            "align_self": null,
            "height": null,
            "min_height": null,
            "padding": null,
            "grid_auto_rows": null,
            "grid_gap": null,
            "max_width": null,
            "order": null,
            "_view_module_version": "1.2.0",
            "grid_template_areas": null,
            "object_position": null,
            "object_fit": null,
            "grid_auto_columns": null,
            "margin": null,
            "display": null,
            "left": null
          }
        }
      }
    }
  },
  "cells": [
    {
      "cell_type": "markdown",
      "metadata": {
        "id": "ln9vJLeogQy-"
      },
      "source": [
        "# Our libraries"
      ]
    },
    {
      "cell_type": "code",
      "metadata": {
        "id": "WzuFmDOxeNLa"
      },
      "source": [
        "import os\n",
        "import glob\n",
        "import imageio\n",
        "import random, shutil\n",
        "import torch\n",
        "import torch.nn as nn\n",
        "from tqdm.notebook import tqdm\n",
        "import torch.nn.functional as F\n",
        "import torchvision.datasets as datasets\n",
        "import torchvision.transforms as transforms\n",
        "import numpy as np\n",
        "import matplotlib.pyplot as plt\n",
        "import IPython.display as display\n",
        "from  sklearn.model_selection import train_test_split \n",
        "from torch.utils.data import Dataset, TensorDataset\n",
        "import functools\n",
        "import operator"
      ],
      "execution_count": 1,
      "outputs": []
    },
    {
      "cell_type": "markdown",
      "metadata": {
        "id": "FN04VztTgKxh"
      },
      "source": [
        "# The helper functions for plotting and creating a pytorch dataset"
      ]
    },
    {
      "cell_type": "code",
      "metadata": {
        "colab": {
          "base_uri": "https://localhost:8080/"
        },
        "cellView": "form",
        "id": "xTN855WOeg_D",
        "outputId": "b6e9cd89-1075-478d-df07-1c56fcf8fe0a"
      },
      "source": [
        "# @title Helper functions (run me)\n",
        "\n",
        "def set_device():\n",
        "  device = \"cuda\" if torch.cuda.is_available() else \"cpu\"\n",
        "  if device != \"cuda\":\n",
        "      print(\"WARNING: For this notebook to perform best, \"\n",
        "          \"if possible, in the menu under `Runtime` -> \"\n",
        "          \"`Change runtime type.`  select `GPU` \")\n",
        "  else:\n",
        "      print(\"GPU is enabled in this notebook.\")\n",
        "\n",
        "  return device\n",
        "\n",
        "\n",
        "#  Plotting function.\n",
        "\n",
        "def plot_loss_accuracy(train_loss, train_acc, validation_loss, validation_acc):\n",
        "  epochs = len(train_loss)\n",
        "  fig, (ax1, ax2) = plt.subplots(1, 2)\n",
        "  ax1.plot(list(range(epochs)), train_loss, label='Training Loss')\n",
        "  ax1.plot(list(range(epochs)), validation_loss, label='Validation Loss')\n",
        "  ax1.set_xlabel('Epochs')\n",
        "  ax1.set_ylabel('Loss')\n",
        "  ax1.set_title('Epoch vs Loss')\n",
        "  ax1.legend()\n",
        "\n",
        "  ax2.plot(list(range(epochs)), train_acc, label='Training Accuracy')\n",
        "  ax2.plot(list(range(epochs)), validation_acc, label='Validation Accuracy')\n",
        "  ax2.set_xlabel('Epochs')\n",
        "  ax2.set_ylabel('Accuracy')\n",
        "  ax2.set_title('Epoch vs Accuracy')\n",
        "  ax2.legend()\n",
        "  fig.set_size_inches(15.5, 5.5)\n",
        "  plt.show()\n",
        "device = set_device()\n",
        "\n",
        "class CustomTensorDataset(Dataset):\n",
        "    \"\"\"TensorDataset with support of transforms.\n",
        "    \"\"\"\n",
        "    def __init__(self, tensors, transform=None):\n",
        "        assert all(tensors[0].size(0) == tensor.size(0) for tensor in tensors)\n",
        "        self.tensors = tensors\n",
        "        self.transform = transform\n",
        "\n",
        "    def __getitem__(self, index):\n",
        "        x = self.tensors[0][index]\n",
        "\n",
        "        if self.transform:\n",
        "            x = self.transform(x)\n",
        "\n",
        "        y = self.tensors[1][index]\n",
        "\n",
        "        return x, y\n",
        "        \n",
        "    def __len__(self):\n",
        "        return self.tensors[0].size(0)    "
      ],
      "execution_count": 2,
      "outputs": [
        {
          "output_type": "stream",
          "text": [
            "GPU is enabled in this notebook.\n"
          ],
          "name": "stdout"
        }
      ]
    },
    {
      "cell_type": "markdown",
      "metadata": {
        "id": "ejBs8Y_Yf8Tx"
      },
      "source": [
        "# Loading the preprocessed data and process it further more"
      ]
    },
    {
      "cell_type": "code",
      "metadata": {
        "id": "mvatUzwNer0D"
      },
      "source": [
        "# loading the preprocessed data\n",
        "melspectrogram= np.load('/content/drive/MyDrive/NMA_DL_project/feature_0.npy')\n",
        "chroma_stft= np.load('/content/drive/MyDrive/NMA_DL_project/feature_3.npy')\n",
        "labels= np.load('/content/drive/MyDrive/NMA_DL_project/all_the_labels.npy')\n",
        "\n",
        "# compining both features and adding the channel dimention\n",
        "compined_feat= np.concatenate( (melspectrogram , chroma_stft ), axis=1).reshape( 2970,1,140, 108)\n",
        "\n",
        "x_train , x_test , y_train , y_test = train_test_split( compined_feat , labels , train_size=0.75, stratify=labels )\n",
        "\n",
        "x_val , x_test , y_val , y_test= train_test_split( x_test , y_test , train_size=0.5 , stratify= y_test )\n",
        "\n",
        "#transform =transforms.GaussianBlur(3 , (0.001,0.5))\n",
        "\n",
        "# changing them into torch format\n",
        "x_train = torch.tensor(x_train )\n",
        "x_test = torch.tensor(x_test)\n",
        "x_val= torch.tensor(x_val)\n",
        "y_train =torch.tensor(y_train)\n",
        "y_test = torch.tensor(y_test)\n",
        "y_val=  torch.tensor(y_val)\n",
        "\n",
        "train_dataset= CustomTensorDataset(tensors=(x_train, y_train)) #,  transform=transform)\n",
        "test_dataset = CustomTensorDataset(tensors=(x_test, y_test))\n",
        "val_dataset= CustomTensorDataset(tensors=(x_val, y_val))\n",
        "\n",
        "train_loader=torch.utils.data.DataLoader(train_dataset ,batch_size=32)\n",
        "test_loader=torch.utils.data.DataLoader(test_dataset )\n",
        "val_loader=torch.utils.data.DataLoader(val_dataset ,batch_size=32)"
      ],
      "execution_count": 32,
      "outputs": []
    },
    {
      "cell_type": "markdown",
      "metadata": {
        "id": "O2Ra7mYQfwW8"
      },
      "source": [
        "# Building the model"
      ]
    },
    {
      "cell_type": "code",
      "metadata": {
        "id": "om6-9xCXfxsm"
      },
      "source": [
        "class music_CNN(nn.Module):\n",
        "    \"\"\"Basic Pytorch CNN implementation\"\"\"\n",
        "\n",
        "    def __init__(self, in_channels=1, \n",
        "                 out_channels=10,\n",
        "                 input_dim=(1, 128, 108)):\n",
        "        \n",
        "        nn.Module.__init__(self)\n",
        "        self.feature_extractor = nn.Sequential(\n",
        "            nn.Conv2d(in_channels=1, out_channels= 64, kernel_size=3, stride=1 , padding='same'),\n",
        "            nn.ReLU(inplace=True),\n",
        "            nn.BatchNorm2d( 64 ) ,\n",
        "            nn.MaxPool2d(kernel_size=2),\n",
        "\n",
        "            nn.Conv2d(in_channels=64, out_channels=64, kernel_size=3, stride=1, padding='same'),\n",
        "            nn.ReLU(inplace=True),\n",
        "            nn.BatchNorm2d( 64 ) ,\n",
        "            nn.MaxPool2d(kernel_size=2),\n",
        "\n",
        "            nn.Conv2d(in_channels=64, out_channels=128, kernel_size=3, stride=1, padding='same'),\n",
        "            nn.ReLU(inplace=True),\n",
        "            nn.BatchNorm2d( 128 ) ,\n",
        "            nn.MaxPool2d(kernel_size=2),\n",
        "\n",
        "            nn.Dropout(0.3),\n",
        "\n",
        "            nn.Conv2d(in_channels=128, out_channels=128, kernel_size=3, stride=1, padding='same'),\n",
        "            nn.ReLU(inplace=True),\n",
        "            nn.BatchNorm2d( 128 ) ,\n",
        "            nn.MaxPool2d(kernel_size=2),\n",
        "\n",
        "            nn.Conv2d(in_channels=128, out_channels= 256, kernel_size=3, stride=1 , padding='same'),\n",
        "            nn.ReLU(inplace=True),\n",
        "            nn.BatchNorm2d( 256 ) ,\n",
        "            nn.MaxPool2d(kernel_size=2),\n",
        "\n",
        "            nn.Dropout(0.4),\n",
        "\n",
        "            nn.Conv2d(in_channels=256, out_channels=512, kernel_size=3, stride=1, padding='same'),\n",
        "            nn.ReLU(inplace=True),\n",
        "            nn.BatchNorm2d( 512 ) ,\n",
        "            nn.MaxPool2d(kernel_size=2),\n",
        "\n",
        "        )\n",
        "\n",
        "        num_features_before_fcnn = functools.reduce(operator.mul, list(self.feature_extractor(torch.rand(1, *input_dim)).shape))\n",
        "\n",
        "        self.classifier = nn.Sequential(\n",
        "            nn.Linear(in_features=num_features_before_fcnn, out_features=256),\n",
        "            nn.Dropout(0.4),\n",
        "            nn.Linear(in_features=256, out_features=out_channels),\n",
        "        )\n",
        "\n",
        "    def forward(self, x):\n",
        "        batch_size = x.size(0)\n",
        "\n",
        "        out = self.feature_extractor(x)\n",
        "        out = out.view(batch_size, -1)  # flatten the vector\n",
        "        out = self.classifier(out)\n",
        "        return out"
      ],
      "execution_count": 4,
      "outputs": []
    },
    {
      "cell_type": "markdown",
      "metadata": {
        "id": "GDp661EPfzKn"
      },
      "source": [
        "# Creating the training loop"
      ]
    },
    {
      "cell_type": "code",
      "metadata": {
        "id": "vkFZ7GCgeUgo"
      },
      "source": [
        "def train(model, device, train_loader, validation_loader, epochs , lr ):\n",
        "  criterion =  nn.CrossEntropyLoss( )\n",
        "  optimizer = torch.optim.SGD(model.parameters(), lr=lr, momentum=0.99 )\n",
        "  train_loss, validation_loss = [], []\n",
        "  train_acc, validation_acc = [], []\n",
        "  with tqdm(range(epochs), unit='epoch') as tepochs:\n",
        "    tepochs.set_description('Training')\n",
        "    for epoch in tepochs:\n",
        "      model.train()\n",
        "      # keep track of the running loss\n",
        "      running_loss = 0.\n",
        "      correct, total = 0, 0\n",
        "\n",
        "      if epoch%5==0 & epoch>0:\n",
        "         for param_group in optimizer.param_groups:\n",
        "                param_group['lr'] /= 5\n",
        "                print('new lr=' , param_group['lr'] )\n",
        "       \n",
        "      for data, target in train_loader:\n",
        "        # getting the training set\n",
        "        data, target = data.to(device, dtype=torch.float ), target.to(device)\n",
        "        # Get the model output (call the model with the data from this batch)\n",
        "        output = model(data)\n",
        "        # Zero the gradients out)\n",
        "        optimizer.zero_grad()\n",
        "\n",
        "        # Get the Loss\n",
        "        all_linear1_params = torch.cat( [x.view(-1) for x in model.parameters()]) \n",
        "        all_linear2_params = torch.cat( [x.view(-1) for x in model.parameters()])\n",
        "        l1_regularization = 0.001 * torch.norm(all_linear1_params, 1)\n",
        "        l2_regularization = 0.5 * torch.norm(all_linear2_params, 2) # this is the one\n",
        "\n",
        "\n",
        "        loss  = criterion(output, target)  + l2_regularization + l1_regularization\n",
        "        # Calculate the gradients\n",
        "        loss.backward()\n",
        "        # Update the weights (using the training step of the optimizer)\n",
        "        optimizer.step()\n",
        "\n",
        "        tepochs.set_postfix(loss=loss.item())\n",
        "        running_loss += loss  # add the loss for this batch\n",
        "\n",
        "        # get accuracy\n",
        "        _, predicted = torch.max(output, 1)\n",
        "        total += target.size(0)\n",
        "        correct += (predicted == target).sum().item()\n",
        "\n",
        "      # append the loss for this epoch\n",
        "      train_loss.append(running_loss/len(train_loader))\n",
        "      train_acc.append(correct/total)\n",
        "\n",
        "      # evaluate on validation data\n",
        "      model.eval()\n",
        "      running_loss = 0.\n",
        "      correct, total = 0, 0\n",
        "\n",
        "      for data, target in validation_loader:\n",
        "        # getting the validation set\n",
        "        data, target = data.to(device, dtype=torch.float), target.to(device)\n",
        "        output = model(data)\n",
        "        loss = criterion(output, target)\n",
        "        tepochs.set_postfix(loss=loss.item())\n",
        "        running_loss += loss.item()\n",
        "        # get accuracy\n",
        "        _, predicted = torch.max(output, 1)\n",
        "        total += target.size(0)\n",
        "        correct += (predicted == target).sum().item()\n",
        "\n",
        "      validation_loss.append(running_loss/len(validation_loader))\n",
        "      validation_acc.append(correct/total)\n",
        "      print(f'Epoch: {epoch+1}')\n",
        "      print(f'The Train accuracy= {train_acc[epoch]} \\n The Validation acc {validation_acc[epoch]}') \n",
        "      print(f'The Train loss= {train_loss[epoch]} \\n The Validation loss {validation_loss[epoch]}')  \n",
        "      print('\\n')\n",
        "\n",
        "  return train_loss, train_acc, validation_loss, validation_acc\n"
      ],
      "execution_count": 39,
      "outputs": []
    },
    {
      "cell_type": "markdown",
      "metadata": {
        "id": "vUQewIGCf3RJ"
      },
      "source": [
        "# Training the model"
      ]
    },
    {
      "cell_type": "code",
      "metadata": {
        "colab": {
          "base_uri": "https://localhost:8080/",
          "height": 1000,
          "referenced_widgets": [
            "eec017b5177340058656a527fd6959f4",
            "014aca20bf5d419ab7a50a338326bc83",
            "eced31581d874c2daf0ccd17ed86a32c",
            "0e33355960ab47b395d60ebea34de140",
            "e2979710f7d54b43826175967bdf0404",
            "701fb9938c114a6590eceb171b910896",
            "4c6cfdacad104014a649e193e5f03ff2",
            "5070d84b3983438eaa55006f6fd72f91"
          ]
        },
        "id": "4Jwbs_TJf25a",
        "outputId": "938d5b5c-6492-4ba7-f845-f93bec3dec09"
      },
      "source": [
        "net = music_CNN().to(device)\n",
        "init_lr = 0.0001\n",
        "train_loss, train_acc, validation_loss, validation_acc = train(net, device, train_loader, val_loader, 40, init_lr)\n",
        "plot_loss_accuracy(train_loss, train_acc, validation_loss, validation_acc)"
      ],
      "execution_count": 40,
      "outputs": [
        {
          "output_type": "display_data",
          "data": {
            "application/vnd.jupyter.widget-view+json": {
              "model_id": "eec017b5177340058656a527fd6959f4",
              "version_minor": 0,
              "version_major": 2
            },
            "text/plain": [
              "HBox(children=(FloatProgress(value=0.0, max=40.0), HTML(value='')))"
            ]
          },
          "metadata": {
            "tags": []
          }
        },
        {
          "output_type": "stream",
          "text": [
            "Epoch: 1\n",
            "The Train accuracy= 0.22272114952851368 \n",
            " The Validation acc 0.3423180592991914\n",
            "The Train loss= 48.68663024902344 \n",
            " The Validation loss 1.7716091672579448\n",
            "\n",
            "\n",
            "Epoch: 2\n",
            "The Train accuracy= 0.3929052537045353 \n",
            " The Validation acc 0.40431266846361186\n",
            "The Train loss= 47.28042984008789 \n",
            " The Validation loss 1.572541207075119\n",
            "\n",
            "\n",
            "Epoch: 3\n",
            "The Train accuracy= 0.4360125729681186 \n",
            " The Validation acc 0.4636118598382749\n",
            "The Train loss= 45.739933013916016 \n",
            " The Validation loss 1.4990199108918507\n",
            "\n",
            "\n",
            "Epoch: 4\n",
            "The Train accuracy= 0.5002245172878311 \n",
            " The Validation acc 0.5040431266846361\n",
            "The Train loss= 43.962684631347656 \n",
            " The Validation loss 1.375054230292638\n",
            "\n",
            "\n",
            "Epoch: 5\n",
            "The Train accuracy= 0.5711719802424786 \n",
            " The Validation acc 0.5148247978436657\n",
            "The Train loss= 42.103702545166016 \n",
            " The Validation loss 1.346307138601939\n",
            "\n",
            "\n",
            "Epoch: 6\n",
            "The Train accuracy= 0.6264032330489447 \n",
            " The Validation acc 0.6226415094339622\n",
            "The Train loss= 40.25911331176758 \n",
            " The Validation loss 1.1403768360614777\n",
            "\n",
            "\n",
            "Epoch: 7\n",
            "The Train accuracy= 0.6578356533453076 \n",
            " The Validation acc 0.5849056603773585\n",
            "The Train loss= 38.46381759643555 \n",
            " The Validation loss 1.2295026630163193\n",
            "\n",
            "\n",
            "Epoch: 8\n",
            "The Train accuracy= 0.6897171082173328 \n",
            " The Validation acc 0.6253369272237197\n",
            "The Train loss= 36.74605178833008 \n",
            " The Validation loss 1.1209730406602223\n",
            "\n",
            "\n",
            "Epoch: 9\n",
            "The Train accuracy= 0.7049842837898518 \n",
            " The Validation acc 0.6469002695417789\n",
            "The Train loss= 35.08660888671875 \n",
            " The Validation loss 1.1123889585336049\n",
            "\n",
            "\n",
            "Epoch: 10\n",
            "The Train accuracy= 0.7431522227211496 \n",
            " The Validation acc 0.6415094339622641\n",
            "The Train loss= 33.472984313964844 \n",
            " The Validation loss 1.2008805970350902\n",
            "\n",
            "\n",
            "Epoch: 11\n",
            "The Train accuracy= 0.7642568477772789 \n",
            " The Validation acc 0.6900269541778976\n",
            "The Train loss= 31.95299530029297 \n",
            " The Validation loss 0.998708372314771\n",
            "\n",
            "\n",
            "Epoch: 12\n",
            "The Train accuracy= 0.778176919622811 \n",
            " The Validation acc 0.5256064690026954\n",
            "The Train loss= 30.51597785949707 \n",
            " The Validation loss 1.603764295578003\n",
            "\n",
            "\n",
            "Epoch: 13\n",
            "The Train accuracy= 0.8145487202514594 \n",
            " The Validation acc 0.5768194070080862\n",
            "The Train loss= 29.14029312133789 \n",
            " The Validation loss 1.4251272579034169\n",
            "\n",
            "\n",
            "Epoch: 14\n",
            "The Train accuracy= 0.8325101032779524 \n",
            " The Validation acc 0.7250673854447439\n",
            "The Train loss= 27.829700469970703 \n",
            " The Validation loss 0.9031460881233215\n",
            "\n",
            "\n",
            "Epoch: 15\n",
            "The Train accuracy= 0.8572070049393803 \n",
            " The Validation acc 0.7493261455525606\n",
            "The Train loss= 26.575611114501953 \n",
            " The Validation loss 0.7735646242896715\n",
            "\n",
            "\n",
            "Epoch: 16\n",
            "The Train accuracy= 0.8724741805118994 \n",
            " The Validation acc 0.6684636118598383\n",
            "The Train loss= 25.427148818969727 \n",
            " The Validation loss 1.1249414881070454\n",
            "\n",
            "\n",
            "Epoch: 17\n",
            "The Train accuracy= 0.9066008082622362 \n",
            " The Validation acc 0.7358490566037735\n",
            "The Train loss= 24.320987701416016 \n",
            " The Validation loss 0.8191595673561096\n",
            "\n",
            "\n",
            "Epoch: 18\n",
            "The Train accuracy= 0.9083969465648855 \n",
            " The Validation acc 0.738544474393531\n",
            "The Train loss= 23.32689094543457 \n",
            " The Validation loss 0.8933147092660269\n",
            "\n",
            "\n",
            "Epoch: 19\n",
            "The Train accuracy= 0.9142343960484958 \n",
            " The Validation acc 0.7439353099730458\n",
            "The Train loss= 22.406658172607422 \n",
            " The Validation loss 0.8643098771572113\n",
            "\n",
            "\n",
            "Epoch: 20\n",
            "The Train accuracy= 0.9142343960484958 \n",
            " The Validation acc 0.7547169811320755\n",
            "The Train loss= 21.601572036743164 \n",
            " The Validation loss 0.7911755045255026\n",
            "\n",
            "\n",
            "Epoch: 21\n",
            "The Train accuracy= 0.9137853614728334 \n",
            " The Validation acc 0.7735849056603774\n",
            "The Train loss= 20.86868667602539 \n",
            " The Validation loss 0.7351874361435572\n",
            "\n",
            "\n",
            "Epoch: 22\n",
            "The Train accuracy= 0.9250112258643916 \n",
            " The Validation acc 0.7223719676549866\n",
            "The Train loss= 20.193994522094727 \n",
            " The Validation loss 0.9656458149353663\n",
            "\n",
            "\n",
            "Epoch: 23\n",
            "The Train accuracy= 0.9295015716210148 \n",
            " The Validation acc 0.7574123989218329\n",
            "The Train loss= 19.581274032592773 \n",
            " The Validation loss 0.8595140998562177\n",
            "\n",
            "\n",
            "Epoch: 24\n",
            "The Train accuracy= 0.9290525370453525 \n",
            " The Validation acc 0.7250673854447439\n",
            "The Train loss= 19.036849975585938 \n",
            " The Validation loss 0.9086825400590897\n",
            "\n",
            "\n",
            "Epoch: 25\n",
            "The Train accuracy= 0.9178266726537944 \n",
            " The Validation acc 0.7978436657681941\n",
            "The Train loss= 18.55864906311035 \n",
            " The Validation loss 0.6607024470965067\n",
            "\n",
            "\n",
            "Epoch: 26\n",
            "The Train accuracy= 0.9205208801077683 \n",
            " The Validation acc 0.7169811320754716\n",
            "The Train loss= 18.104829788208008 \n",
            " The Validation loss 0.952771912018458\n",
            "\n",
            "\n",
            "Epoch: 27\n",
            "The Train accuracy= 0.9209699146834306 \n",
            " The Validation acc 0.7304582210242587\n",
            "The Train loss= 17.693105697631836 \n",
            " The Validation loss 0.9188294063011805\n",
            "\n",
            "\n",
            "Epoch: 28\n",
            "The Train accuracy= 0.9245621912887292 \n",
            " The Validation acc 0.7735849056603774\n",
            "The Train loss= 17.320911407470703 \n",
            " The Validation loss 0.6578222885727882\n",
            "\n",
            "\n",
            "Epoch: 29\n",
            "The Train accuracy= 0.921418949259093 \n",
            " The Validation acc 0.706199460916442\n",
            "The Train loss= 16.975923538208008 \n",
            " The Validation loss 0.8921574826041857\n",
            "\n",
            "\n",
            "Epoch: 30\n",
            "The Train accuracy= 0.918724741805119 \n",
            " The Validation acc 0.6846361185983828\n",
            "The Train loss= 16.652204513549805 \n",
            " The Validation loss 1.0315361817677815\n",
            "\n",
            "\n",
            "Epoch: 31\n",
            "The Train accuracy= 0.9142343960484958 \n",
            " The Validation acc 0.7628032345013477\n",
            "The Train loss= 16.37000846862793 \n",
            " The Validation loss 0.7749647522966067\n",
            "\n",
            "\n",
            "Epoch: 32\n",
            "The Train accuracy= 0.9205208801077683 \n",
            " The Validation acc 0.7681940700808625\n",
            "The Train loss= 16.095890045166016 \n",
            " The Validation loss 0.7863511294126511\n",
            "\n",
            "\n",
            "Epoch: 33\n",
            "The Train accuracy= 0.920071845532106 \n",
            " The Validation acc 0.7870619946091644\n",
            "The Train loss= 15.810702323913574 \n",
            " The Validation loss 0.7149949669837952\n",
            "\n",
            "\n",
            "Epoch: 34\n",
            "The Train accuracy= 0.9456668163448586 \n",
            " The Validation acc 0.7628032345013477\n",
            "The Train loss= 15.49866771697998 \n",
            " The Validation loss 0.7385841930905978\n",
            "\n",
            "\n",
            "Epoch: 35\n",
            "The Train accuracy= 0.9443197126178716 \n",
            " The Validation acc 0.7789757412398922\n",
            "The Train loss= 15.19192123413086 \n",
            " The Validation loss 0.7358469739556313\n",
            "\n",
            "\n",
            "Epoch: 36\n",
            "The Train accuracy= 0.9483610237988325 \n",
            " The Validation acc 0.7654986522911051\n",
            "The Train loss= 14.892520904541016 \n",
            " The Validation loss 0.7449063708384832\n",
            "\n",
            "\n",
            "Epoch: 37\n",
            "The Train accuracy= 0.9384822631342613 \n",
            " The Validation acc 0.7008086253369272\n",
            "The Train loss= 14.624074935913086 \n",
            " The Validation loss 0.9368334660927454\n",
            "\n",
            "\n",
            "Epoch: 38\n",
            "The Train accuracy= 0.9339919173776381 \n",
            " The Validation acc 0.77088948787062\n",
            "The Train loss= 14.39706039428711 \n",
            " The Validation loss 0.7657174145181974\n",
            "\n",
            "\n",
            "Epoch: 39\n",
            "The Train accuracy= 0.914683430624158 \n",
            " The Validation acc 0.7466307277628033\n",
            "The Train loss= 14.230894088745117 \n",
            " The Validation loss 0.7662019928296407\n",
            "\n",
            "\n",
            "Epoch: 40\n",
            "The Train accuracy= 0.9151324651998204 \n",
            " The Validation acc 0.7520215633423181\n",
            "The Train loss= 14.028421401977539 \n",
            " The Validation loss 0.7907948270440102\n",
            "\n",
            "\n",
            "\n"
          ],
          "name": "stdout"
        },
        {
          "output_type": "display_data",
          "data": {
            "image/png": "[encoded data removed]",
            "text/plain": [
              "<Figure size 1116x396 with 2 Axes>"
            ]
          },
          "metadata": {
            "tags": [],
            "needs_background": "light"
          }
        }
      ]
    },
    {
      "cell_type": "markdown",
      "metadata": {
        "id": "ewyeQU489oMs"
      },
      "source": [
        "# Testing on Test set"
      ]
    },
    {
      "cell_type": "code",
      "metadata": {
        "colab": {
          "base_uri": "https://localhost:8080/"
        },
        "id": "fidW0g6d9qV2",
        "outputId": "16ff525f-4553-48a0-f73c-f30913f49a74"
      },
      "source": [
        "criterion =  nn.CrossEntropyLoss()\n",
        "running_loss=0\n",
        "total=0\n",
        "correct=0\n",
        "test_loss=[]\n",
        "test_acc=[]\n",
        "for data, target in test_loader:\n",
        "        # getting the validation set\n",
        "        data, target = data.to(device, dtype=torch.float), target.to(device)\n",
        "        output = net(data)\n",
        "        loss = criterion(output, target)\n",
        "        running_loss += loss.item()\n",
        "        # get accuracy\n",
        "        _, predicted = torch.max(output, 1)\n",
        "        total += target.size(0)\n",
        "        correct += (predicted == target).sum().item()\n",
        "\n",
        "        test_loss.append(running_loss/len(test_loader))\n",
        "        test_acc.append(correct/total)\n",
        "\n",
        "print(f'The test acc {np.mean(test_acc)}') \n",
        "print(f'The test loss {np.mean(test_loss)}')  "
      ],
      "execution_count": 49,
      "outputs": [
        {
          "output_type": "stream",
          "text": [
            "The test acc 0.7339060973363897\n",
            "The test loss 0.3820257244291893\n"
          ],
          "name": "stdout"
        }
      ]
    },
    {
      "cell_type": "markdown",
      "metadata": {
        "id": "ibW3YHblx2pI"
      },
      "source": [
        "# Saving the model with val accuracy 81%"
      ]
    },
    {
      "cell_type": "code",
      "metadata": {
        "id": "ceCOqqySxgP2"
      },
      "source": [
        "torch.save(net.state_dict(), 'regularized_model.cp')"
      ],
      "execution_count": 50,
      "outputs": []
    },
    {
      "cell_type": "code",
      "metadata": {
        "colab": {
          "base_uri": "https://localhost:8080/"
        },
        "id": "DX1Sxhk2ygk9",
        "outputId": "5b76d865-5603-4a2c-83b9-d58ee9258e87"
      },
      "source": [
        "tmp_model= music_CNN()\n",
        "tmp_model.load_state_dict(torch.load( 'regularized_model.cp' ))"
      ],
      "execution_count": 55,
      "outputs": [
        {
          "output_type": "execute_result",
          "data": {
            "text/plain": [
              "<All keys matched successfully>"
            ]
          },
          "metadata": {
            "tags": []
          },
          "execution_count": 55
        }
      ]
    },
    {
      "cell_type": "code",
      "metadata": {
        "colab": {
          "base_uri": "https://localhost:8080/"
        },
        "id": "N58fNNKnyuGD",
        "outputId": "06920704-dee8-4208-e5cc-bafb94bee9de"
      },
      "source": [
        "def validate_model(model):\n",
        "    criterion =  nn.CrossEntropyLoss()\n",
        "    running_loss=0\n",
        "    total=0\n",
        "    correct=0\n",
        "    for data, target in test_loader:\n",
        "        # getting the validation set\n",
        "        data, target = data.to(device, dtype=torch.float), target.to(device)\n",
        "        output = model(data)\n",
        "        loss = criterion(output, target)\n",
        "        running_loss += loss.item()\n",
        "        # get accuracy\n",
        "        _, predicted = torch.max(output, 1)\n",
        "        total += target.size(0)\n",
        "        correct += (predicted == target).sum().item()\n",
        "\n",
        "        test_loss.append(running_loss/len(test_loader))\n",
        "        test_acc.append(correct/total)\n",
        "\n",
        "    print(f'The Validation acc {np.mean(test_acc)}') \n",
        "    print(f'The Validation loss {np.mean(test_loss)}')  \n",
        "    print('\\n')\n",
        "\n",
        "validate_model(tmp_model.to('cuda') )"
      ],
      "execution_count": 62,
      "outputs": [
        {
          "output_type": "stream",
          "text": [
            "The Validation acc 0.4712194567104732\n",
            "The Validation loss 0.7509206928101266\n",
            "\n",
            "\n"
          ],
          "name": "stdout"
        }
      ]
    },
    {
      "cell_type": "markdown",
      "metadata": {
        "id": "e28cgYza3xGi"
      },
      "source": [
        "copying the trained model into my drive"
      ]
    },
    {
      "cell_type": "code",
      "metadata": {
        "id": "CPlVc2x-024Z"
      },
      "source": [
        "!cp  '/content/regularized_model.cp' '/content/drive/MyDrive/NMA_DL_project'"
      ],
      "execution_count": 63,
      "outputs": []
    },
    {
      "cell_type": "markdown",
      "metadata": {
        "id": "J5BVRTDkhThP"
      },
      "source": [
        "# Testing"
      ]
    },
    {
      "cell_type": "code",
      "metadata": {
        "id": "jlhGoV3OhGWl"
      },
      "source": [
        "def classify_music( path ):\n",
        "    import librosa\n",
        "    import warnings\n",
        "    warnings.filterwarnings(\"ignore\", category=UserWarning,)\n",
        "    classes=[ 'classical ', 'hiphop', 'pop','country',\n",
        "                     'disco', 'reggae', 'jazz', 'rock', 'blues', 'metal']\n",
        "    music_loc= path # insert path for the audio wav file prefereably\n",
        "    y, sr = librosa.load(music_loc)\n",
        "    y_resamble= librosa.resample(y[110299:110299*2], 22050, 11025)\n",
        "    C_STFT= librosa.feature.chroma_stft( y_resamble, sr=11025  )\n",
        "    S = librosa.feature.melspectrogram( y_resamble, sr=11025  )\n",
        "    S_DB = librosa.amplitude_to_db(S, ref=np.max)\n",
        "    input_test= np.concatenate( (S_DB , C_STFT), axis=0).reshape( 1,1,140, 108)\n",
        "    input_test=torch.tensor(input_test, device='cuda')\n",
        "    # we are using the tmp_model that I saved it's weights b4\n",
        "\n",
        "    idx= torch.argmax(F.softmax( tmp_model( input_test ).to('cuda') , dim=0  )) \n",
        "    return print(f' Genre is: {classes[idx]}')\n"
      ],
      "execution_count": null,
      "outputs": []
    },
    {
      "cell_type": "code",
      "metadata": {
        "id": "GnSER3oV1LJt"
      },
      "source": [
        "classify_music( '/content/jazz_song.mp3' ) # this is let's face the music and dance song by nat king cole"
      ],
      "execution_count": null,
      "outputs": []
    }
  ]
}