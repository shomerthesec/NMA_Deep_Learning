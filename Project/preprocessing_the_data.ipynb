{
  "nbformat": 4,
  "nbformat_minor": 0,
  "metadata": {
    "colab": {
      "name": "preprocessing the data",
      "provenance": [],
      "collapsed_sections": []
    },
    "kernel": {
      "display_name": "Python 3",
      "language": "python",
      "name": "python3"
    },
    "kernelspec": {
      "display_name": "Python 3",
      "name": "python3"
    },
    "language_info": {
      "name": "python"
    }
  },
  "cells": [
    {
      "cell_type": "markdown",
      "metadata": {
        "execution": {},
        "id": "WmJckpCBMBqT"
      },
      "source": [
        "# Music classification and generation with spectrograms\n",
        "\n",
        "**By Neuromatch Academy**\n",
        "\n",
        "__Content creators:__ Beatrix Benko, Lina Teichmann"
      ]
    },
    {
      "cell_type": "markdown",
      "metadata": {
        "execution": {},
        "id": "ZKN6iOvsMBqX"
      },
      "source": [
        "**Our 2021 Sponsors, including Presenting Sponsor Facebook Reality Labs**\n",
        "\n",
        "<p align='center'><img src='https://github.com/NeuromatchAcademy/widgets/blob/master/sponsors.png?raw=True'/></p>"
      ]
    },
    {
      "cell_type": "markdown",
      "metadata": {
        "execution": {},
        "id": "JuLmegUYMBqY"
      },
      "source": [
        "## This notebook\n",
        "This notebook loads the GTZAN dataset which includes audiofiles and spectrograms. You can use this dataset or find your own. The first part of the notebook is all about data visualization and show how to make spectrograms from audiofiles. The second part of the notebook includes a CNN that is trained on the spectrograms to predict music genre. Below we also provide links to tutorials and other resources if you want to try to do some of the harder project ideas. \n",
        "\n",
        "Have fun :) \n"
      ]
    },
    {
      "cell_type": "markdown",
      "metadata": {
        "execution": {},
        "id": "VDnKsVEVMBqZ"
      },
      "source": [
        "## Acknowledgements\n",
        "This notebook was written by Beatrix Benkő and Lina Teichmann.\n",
        "\n",
        "**Useful code examples:** \n",
        "\n",
        "https://towardsdatascience.com/music-genre-classification-with-python-c714d032f0d8\n",
        "\n",
        "[https://pytorch.org/vision/stable/models.html](https://pytorch.org/vision/stable/models.html)\n",
        "\n",
        "[https://github.com/rwightman/pytorch-image-models/blob/master/timm/models/vision_transformer.py](https://github.com/rwightman/pytorch-image-models/blob/master/timm/models/vision_transformer.py)\n",
        "\n",
        "https://github.com/kamalesh0406/Audio-Classification \n",
        "\n",
        "https://github.com/zcaceres/spec_augment\n",
        "\n",
        "https://musicinformationretrieval.com/ipython_audio.html "
      ]
    },
    {
      "cell_type": "markdown",
      "metadata": {
        "execution": {},
        "id": "8n7ozHRHMBqa"
      },
      "source": [
        "---\n",
        "# Setup"
      ]
    },
    {
      "cell_type": "code",
      "metadata": {
        "cellView": "form",
        "execution": {},
        "id": "7mnFsbvtMBqb",
        "colab": {
          "base_uri": "https://localhost:8080/"
        },
        "outputId": "9c6f1c56-b34b-4936-d888-430be73c3cd2"
      },
      "source": [
        "# @title Install dependencies\n",
        "!sudo apt-get install -y ffmpeg --quiet\n",
        "!pip install librosa --quiet\n",
        "!pip install imageio --quiet\n",
        "!pip install imageio-ffmpeg --quiet"
      ],
      "execution_count": 1,
      "outputs": [
        {
          "output_type": "stream",
          "text": [
            "Reading package lists...\n",
            "Building dependency tree...\n",
            "Reading state information...\n",
            "ffmpeg is already the newest version (7:3.4.8-0ubuntu0.2).\n",
            "0 upgraded, 0 newly installed, 0 to remove and 40 not upgraded.\n",
            "\u001b[K     |████████████████████████████████| 26.9 MB 94 kB/s \n",
            "\u001b[?25h"
          ],
          "name": "stdout"
        }
      ]
    },
    {
      "cell_type": "code",
      "metadata": {
        "execution": {},
        "id": "C0yneu5CMBqe"
      },
      "source": [
        "# Import necessary libraries.\n",
        "import os\n",
        "import glob\n",
        "import imageio\n",
        "import random, shutil\n",
        "import torch\n",
        "import torch.nn as nn\n",
        "from tqdm.notebook import tqdm\n",
        "import torch.nn.functional as F\n",
        "import torchvision.datasets as datasets\n",
        "import torchvision.transforms as transforms\n",
        "import numpy as np\n",
        "import matplotlib.pyplot as plt\n",
        "import IPython.display as display\n",
        "import librosa\n",
        "import librosa.display"
      ],
      "execution_count": 2,
      "outputs": []
    },
    {
      "cell_type": "code",
      "metadata": {
        "execution": {},
        "id": "gX_8Y1YvMBqg"
      },
      "source": [
        "import requests\n",
        "\n",
        "fname = \"music.zip\"\n",
        "url = \"https://osf.io/drjhb/download\"\n",
        "\n",
        "if not os.path.isfile(fname):\n",
        "  try:\n",
        "    r = requests.get(url)\n",
        "  except requests.ConnectionError:\n",
        "    print(\"!!! Failed to download data !!!\")\n",
        "  else:\n",
        "    if r.status_code != requests.codes.ok:\n",
        "      print(\"!!! Failed to download data !!!\")\n",
        "    else:\n",
        "      with open(fname, \"wb\") as fid:\n",
        "        fid.write(r.content)"
      ],
      "execution_count": 3,
      "outputs": []
    },
    {
      "cell_type": "markdown",
      "metadata": {
        "execution": {},
        "id": "b_ZPDR2uMBqi"
      },
      "source": [
        "## Loading GTZAN dataset (includes spectrograms)\n",
        "\n",
        "The GTZAN dataset for music genre classification can be dowloaded from Kaggle: https://www.kaggle.com/andradaolteanu/gtzan-dataset-music-genre-classification. \n",
        "\n",
        "To download from Kaggle using this code you need to download and copy over your api token. In Kaggle go to the upper right side -> account -> API -> create API token. This downloads a json file. Copy the content into api_token. It should look like this: \n",
        "\n",
        "api_token = {\"username\":\"johnsmith\",\"key\":\"123a123a123\"}\n"
      ]
    },
    {
      "cell_type": "code",
      "metadata": {
        "execution": {},
        "id": "RPSX0VCfMBqj"
      },
      "source": [
        "from zipfile import ZipFile\n",
        "\n",
        "with ZipFile(fname, 'r') as zipObj:\n",
        "  # Extract all the contents of zip file in different directory\n",
        "  zipObj.extractall()"
      ],
      "execution_count": 4,
      "outputs": []
    },
    {
      "cell_type": "markdown",
      "metadata": {
        "execution": {},
        "id": "AyQsxJPEMBqk"
      },
      "source": [
        "# **Have a look at the data**\n",
        "\n",
        "In this section we are looking at an example of an audio waveform. Then we'll transform the sound wave to a spectrogram and compare it with the spectrogram that was included with the downloaded dataset."
      ]
    },
    {
      "cell_type": "code",
      "metadata": {
        "id": "EoxFaEFUs0_V"
      },
      "source": [
        "import pandas as pd\n",
        "import shutil"
      ],
      "execution_count": 11,
      "outputs": []
    },
    {
      "cell_type": "code",
      "metadata": {
        "colab": {
          "base_uri": "https://localhost:8080/"
        },
        "id": "yx3oo_CQMQK-",
        "outputId": "ea3aa1f0-18c1-4415-87d5-41cad22c63e3"
      },
      "source": [
        "dir= 'Data/genres_original/' # the dir with all the genres\n",
        "new_dir= 'new_music' # new dir for us\n",
        "\n",
        "shutil.rmtree(new_dir, ignore_errors = False)\n",
        "os.mkdir(new_dir)\n",
        "genre_dict={}\n",
        "for genre in os.listdir( dir ):\n",
        "    genre_dir= dir+genre \n",
        "  \n",
        "    os.mkdir(f'{new_dir}/{genre}')\n",
        "\n",
        "    genre_dict[genre]= []\n",
        "    print(f'we are in {genre} directory')\n",
        "    use_this_dir= f'{new_dir}/{genre}' # move files here\n",
        "    for music_file in os.listdir(genre_dir): # this is the music file name\n",
        "        music_loc =os.path.join( genre_dir ,music_file) # the address for the music file\n",
        "        \n",
        "        try:\n",
        "            y, sr = librosa.load(music_loc)\n",
        "            y_resamble= librosa.resample(y, 22050, 11025) # using subsampling\n",
        "\n",
        "            S = librosa.feature.melspectrogram( y_resamble, sr=11025 )\n",
        "            S_DB = librosa.amplitude_to_db(S, ref=np.max)\n",
        "\n",
        "            genre_dict[genre].append( S_DB )  # tries to add the signal to the genre\n",
        "\n",
        "        except:\n",
        "            print('error')"
      ],
      "execution_count": 64,
      "outputs": [
        {
          "output_type": "stream",
          "text": [
            "we are in classical directory\n",
            "we are in reggae directory\n",
            "we are in rock directory\n",
            "we are in country directory\n",
            "we are in jazz directory\n"
          ],
          "name": "stdout"
        },
        {
          "output_type": "stream",
          "text": [
            "/usr/local/lib/python3.7/dist-packages/librosa/core/audio.py:165: UserWarning: PySoundFile failed. Trying audioread instead.\n",
            "  warnings.warn(\"PySoundFile failed. Trying audioread instead.\")\n"
          ],
          "name": "stderr"
        },
        {
          "output_type": "stream",
          "text": [
            "error\n",
            "we are in blues directory\n",
            "we are in disco directory\n",
            "we are in pop directory\n",
            "we are in metal directory\n",
            "we are in hiphop directory\n"
          ],
          "name": "stdout"
        }
      ]
    },
    {
      "cell_type": "code",
      "metadata": {
        "colab": {
          "base_uri": "https://localhost:8080/"
        },
        "id": "pu1vkXEwEVep",
        "outputId": "1f1ed23f-7112-4645-ccf7-73938d4a9bff"
      },
      "source": [
        "type( S_DB[0][0] )"
      ],
      "execution_count": 156,
      "outputs": [
        {
          "output_type": "execute_result",
          "data": {
            "text/plain": [
              "numpy.float32"
            ]
          },
          "metadata": {
            "tags": []
          },
          "execution_count": 156
        }
      ]
    },
    {
      "cell_type": "code",
      "metadata": {
        "colab": {
          "base_uri": "https://localhost:8080/"
        },
        "id": "ORWcJhgsEe0S",
        "outputId": "82225e9b-e669-4a39-c73e-128e46abf889"
      },
      "source": [
        "type( genre_dict['jazz'][0][0] )"
      ],
      "execution_count": 158,
      "outputs": [
        {
          "output_type": "execute_result",
          "data": {
            "text/plain": [
              "numpy.ndarray"
            ]
          },
          "metadata": {
            "tags": []
          },
          "execution_count": 158
        }
      ]
    },
    {
      "cell_type": "code",
      "metadata": {
        "colab": {
          "base_uri": "https://localhost:8080/"
        },
        "id": "eeis91bIwLlS",
        "outputId": "7b0689de-51a2-43f4-ee6c-d3696c45e422"
      },
      "source": [
        "# np.array( genre_dict['classical'][0] ).shape"
      ],
      "execution_count": 50,
      "outputs": [
        {
          "output_type": "execute_result",
          "data": {
            "text/plain": [
              "(128, 647)"
            ]
          },
          "metadata": {
            "tags": []
          },
          "execution_count": 50
        }
      ]
    },
    {
      "cell_type": "code",
      "metadata": {
        "colab": {
          "base_uri": "https://localhost:8080/"
        },
        "id": "wWI3ONRq3g6w",
        "outputId": "5395c5a9-40e5-416f-8867-f66a80565ea4"
      },
      "source": [
        "#len( genre_dict['classical'] )"
      ],
      "execution_count": 54,
      "outputs": [
        {
          "output_type": "execute_result",
          "data": {
            "text/plain": [
              "100"
            ]
          },
          "metadata": {
            "tags": []
          },
          "execution_count": 54
        }
      ]
    },
    {
      "cell_type": "code",
      "metadata": {
        "colab": {
          "base_uri": "https://localhost:8080/"
        },
        "id": "-89yOJfR3cKX",
        "outputId": "29b33099-7be3-4a9a-befc-6c632ef33ac0"
      },
      "source": [
        "#len( genre_dict['classical'][:-1] )"
      ],
      "execution_count": 57,
      "outputs": [
        {
          "output_type": "execute_result",
          "data": {
            "text/plain": [
              "99"
            ]
          },
          "metadata": {
            "tags": []
          },
          "execution_count": 57
        }
      ]
    },
    {
      "cell_type": "code",
      "metadata": {
        "id": "Yw8IGRz46evn"
      },
      "source": [
        "backup_dict=genre_dict.copy()"
      ],
      "execution_count": 65,
      "outputs": []
    },
    {
      "cell_type": "code",
      "metadata": {
        "id": "rMeotp0M4Jkj"
      },
      "source": [
        "# taking only 99 signals instead of 100 because we have 1 faulty file inside genre: jazz\n",
        "for arr in genre_dict.keys():\n",
        "    if arr == 'jazz':\n",
        "        pass\n",
        "    else:\n",
        "        del genre_dict[arr][-1]"
      ],
      "execution_count": 66,
      "outputs": []
    },
    {
      "cell_type": "code",
      "metadata": {
        "colab": {
          "base_uri": "https://localhost:8080/"
        },
        "id": "hWKChYgG2w6Q",
        "outputId": "7f47f621-a428-4764-acd9-b0be94e87763"
      },
      "source": [
        " for arr in genre_dict.keys() :\n",
        "    print( len(genre_dict[arr] ) ) #= genre_dict[arr]"
      ],
      "execution_count": 67,
      "outputs": [
        {
          "output_type": "stream",
          "text": [
            "99\n",
            "99\n",
            "99\n",
            "99\n",
            "99\n",
            "99\n",
            "99\n",
            "99\n",
            "99\n",
            "99\n"
          ],
          "name": "stdout"
        }
      ]
    },
    {
      "cell_type": "code",
      "metadata": {
        "id": "sF2_QBbk0J6B"
      },
      "source": [
        "df= pd.DataFrame( genre_dict)# , dtype= np.float32 )"
      ],
      "execution_count": 161,
      "outputs": []
    },
    {
      "cell_type": "code",
      "metadata": {
        "colab": {
          "base_uri": "https://localhost:8080/",
          "height": 223
        },
        "id": "WnjWMG7VE0wG",
        "outputId": "b837bf76-23f4-49cd-e925-989cfd5af279"
      },
      "source": [
        "df.describe()"
      ],
      "execution_count": 162,
      "outputs": [
        {
          "output_type": "execute_result",
          "data": {
            "text/html": [
              "<div>\n",
              "<style scoped>\n",
              "    .dataframe tbody tr th:only-of-type {\n",
              "        vertical-align: middle;\n",
              "    }\n",
              "\n",
              "    .dataframe tbody tr th {\n",
              "        vertical-align: top;\n",
              "    }\n",
              "\n",
              "    .dataframe thead th {\n",
              "        text-align: right;\n",
              "    }\n",
              "</style>\n",
              "<table border=\"1\" class=\"dataframe\">\n",
              "  <thead>\n",
              "    <tr style=\"text-align: right;\">\n",
              "      <th></th>\n",
              "      <th>classical</th>\n",
              "      <th>reggae</th>\n",
              "      <th>rock</th>\n",
              "      <th>country</th>\n",
              "      <th>jazz</th>\n",
              "      <th>blues</th>\n",
              "      <th>disco</th>\n",
              "      <th>pop</th>\n",
              "      <th>metal</th>\n",
              "      <th>hiphop</th>\n",
              "    </tr>\n",
              "  </thead>\n",
              "  <tbody>\n",
              "    <tr>\n",
              "      <th>count</th>\n",
              "      <td>99</td>\n",
              "      <td>99</td>\n",
              "      <td>99</td>\n",
              "      <td>99</td>\n",
              "      <td>99</td>\n",
              "      <td>99</td>\n",
              "      <td>99</td>\n",
              "      <td>99</td>\n",
              "      <td>99</td>\n",
              "      <td>99</td>\n",
              "    </tr>\n",
              "    <tr>\n",
              "      <th>unique</th>\n",
              "      <td>99</td>\n",
              "      <td>99</td>\n",
              "      <td>99</td>\n",
              "      <td>99</td>\n",
              "      <td>99</td>\n",
              "      <td>99</td>\n",
              "      <td>99</td>\n",
              "      <td>99</td>\n",
              "      <td>99</td>\n",
              "      <td>99</td>\n",
              "    </tr>\n",
              "    <tr>\n",
              "      <th>top</th>\n",
              "      <td>[[-80.0, -80.0, -80.0, -80.0, -80.0, -80.0, -8...</td>\n",
              "      <td>[[-80.0, -80.0, -80.0, -80.0, -76.52898, -66.3...</td>\n",
              "      <td>[[-53.572636, -63.776825, -70.671234, -73.9513...</td>\n",
              "      <td>[[-50.659946, -62.22157, -68.24938, -62.283287...</td>\n",
              "      <td>[[-77.21803, -80.0, -80.0, -80.0, -72.27919, -...</td>\n",
              "      <td>[[-45.802464, -52.50522, -48.651497, -50.63896...</td>\n",
              "      <td>[[-53.371067, -63.823544, -69.51855, -70.93449...</td>\n",
              "      <td>[[-56.789703, -67.73527, -80.0, -80.0, -80.0, ...</td>\n",
              "      <td>[[-42.893692, -48.554314, -69.68238, -68.8456,...</td>\n",
              "      <td>[[-80.0, -80.0, -80.0, -63.684887, -38.709923,...</td>\n",
              "    </tr>\n",
              "    <tr>\n",
              "      <th>freq</th>\n",
              "      <td>1</td>\n",
              "      <td>1</td>\n",
              "      <td>1</td>\n",
              "      <td>1</td>\n",
              "      <td>1</td>\n",
              "      <td>1</td>\n",
              "      <td>1</td>\n",
              "      <td>1</td>\n",
              "      <td>1</td>\n",
              "      <td>1</td>\n",
              "    </tr>\n",
              "  </tbody>\n",
              "</table>\n",
              "</div>"
            ],
            "text/plain": [
              "                                                classical  ...                                             hiphop\n",
              "count                                                  99  ...                                                 99\n",
              "unique                                                 99  ...                                                 99\n",
              "top     [[-80.0, -80.0, -80.0, -80.0, -80.0, -80.0, -8...  ...  [[-80.0, -80.0, -80.0, -63.684887, -38.709923,...\n",
              "freq                                                    1  ...                                                  1\n",
              "\n",
              "[4 rows x 10 columns]"
            ]
          },
          "metadata": {
            "tags": []
          },
          "execution_count": 162
        }
      ]
    },
    {
      "cell_type": "code",
      "metadata": {
        "colab": {
          "base_uri": "https://localhost:8080/"
        },
        "id": "Yi6-gQ09E7jI",
        "outputId": "392c34bf-7309-4d38-e4a5-8997d88a9fa1"
      },
      "source": [
        "type( df.iloc[0,0][0] )"
      ],
      "execution_count": 168,
      "outputs": [
        {
          "output_type": "execute_result",
          "data": {
            "text/plain": [
              "numpy.ndarray"
            ]
          },
          "metadata": {
            "tags": []
          },
          "execution_count": 168
        }
      ]
    },
    {
      "cell_type": "code",
      "metadata": {
        "colab": {
          "base_uri": "https://localhost:8080/"
        },
        "id": "7HGXZHA07WYp",
        "outputId": "6985dc2d-70e1-464a-cf5e-b58510fe16e3"
      },
      "source": [
        "df.shape"
      ],
      "execution_count": 79,
      "outputs": [
        {
          "output_type": "execute_result",
          "data": {
            "text/plain": [
              "(99, 10)"
            ]
          },
          "metadata": {
            "tags": []
          },
          "execution_count": 79
        }
      ]
    },
    {
      "cell_type": "code",
      "metadata": {
        "colab": {
          "base_uri": "https://localhost:8080/",
          "height": 525
        },
        "id": "j6r1x91e7Y4Q",
        "outputId": "81d47358-f72b-4ec1-b018-a107e882f98a"
      },
      "source": [
        "df.head()"
      ],
      "execution_count": 80,
      "outputs": [
        {
          "output_type": "execute_result",
          "data": {
            "text/html": [
              "<div>\n",
              "<style scoped>\n",
              "    .dataframe tbody tr th:only-of-type {\n",
              "        vertical-align: middle;\n",
              "    }\n",
              "\n",
              "    .dataframe tbody tr th {\n",
              "        vertical-align: top;\n",
              "    }\n",
              "\n",
              "    .dataframe thead th {\n",
              "        text-align: right;\n",
              "    }\n",
              "</style>\n",
              "<table border=\"1\" class=\"dataframe\">\n",
              "  <thead>\n",
              "    <tr style=\"text-align: right;\">\n",
              "      <th></th>\n",
              "      <th>classical</th>\n",
              "      <th>reggae</th>\n",
              "      <th>rock</th>\n",
              "      <th>country</th>\n",
              "      <th>jazz</th>\n",
              "      <th>blues</th>\n",
              "      <th>disco</th>\n",
              "      <th>pop</th>\n",
              "      <th>metal</th>\n",
              "      <th>hiphop</th>\n",
              "    </tr>\n",
              "  </thead>\n",
              "  <tbody>\n",
              "    <tr>\n",
              "      <th>0</th>\n",
              "      <td>[[-56.169285, -51.565807, -53.041862, -57.9066...</td>\n",
              "      <td>[[-22.948582, -34.874153, -59.623585, -80.0, -...</td>\n",
              "      <td>[[-80.0, -71.236534, -64.92233, -70.93353, -77...</td>\n",
              "      <td>[[-55.022278, -67.0602, -80.0, -80.0, -80.0, -...</td>\n",
              "      <td>[[-49.520855, -61.457485, -80.0, -80.0, -80.0,...</td>\n",
              "      <td>[[-54.446106, -65.96031, -80.0, -80.0, -80.0, ...</td>\n",
              "      <td>[[-80.0, -80.0, -80.0, -80.0, -80.0, -80.0, -5...</td>\n",
              "      <td>[[-49.887108, -50.27855, -53.37818, -58.324833...</td>\n",
              "      <td>[[-37.505733, -48.246883, -58.930107, -52.3785...</td>\n",
              "      <td>[[-65.22782, -75.527054, -80.0, -80.0, -80.0, ...</td>\n",
              "    </tr>\n",
              "    <tr>\n",
              "      <th>1</th>\n",
              "      <td>[[-65.06656, -64.6403, -66.99222, -64.071014, ...</td>\n",
              "      <td>[[-28.089111, -39.634796, -56.31231, -47.22966...</td>\n",
              "      <td>[[-80.0, -80.0, -80.0, -80.0, -73.34844, -63.9...</td>\n",
              "      <td>[[-45.519897, -54.378494, -68.088135, -76.5962...</td>\n",
              "      <td>[[-75.08989, -72.537346, -61.03471, -66.81137,...</td>\n",
              "      <td>[[-56.534782, -62.605957, -68.94722, -74.14601...</td>\n",
              "      <td>[[-59.511555, -58.501495, -67.2402, -80.0, -80...</td>\n",
              "      <td>[[-77.8993, -59.018692, -56.494858, -76.02396,...</td>\n",
              "      <td>[[-64.871185, -70.61197, -73.46569, -75.072845...</td>\n",
              "      <td>[[-80.0, -68.52204, -57.228115, -64.56891, -63...</td>\n",
              "    </tr>\n",
              "    <tr>\n",
              "      <th>2</th>\n",
              "      <td>[[-65.852036, -72.035774, -80.0, -80.0, -80.0,...</td>\n",
              "      <td>[[-80.0, -79.159966, -77.46018, -80.0, -80.0, ...</td>\n",
              "      <td>[[-49.03448, -61.152744, -80.0, -80.0, -79.504...</td>\n",
              "      <td>[[-80.0, -80.0, -63.975315, -45.75179, -46.260...</td>\n",
              "      <td>[[-60.805717, -72.986404, -80.0, -80.0, -80.0,...</td>\n",
              "      <td>[[-45.1009, -55.695137, -68.64857, -42.568092,...</td>\n",
              "      <td>[[-73.52011, -72.99132, -73.915634, -73.27798,...</td>\n",
              "      <td>[[-54.31614, -53.601448, -60.40483, -64.333466...</td>\n",
              "      <td>[[-58.680965, -45.77376, -49.96103, -59.26811,...</td>\n",
              "      <td>[[-73.01895, -70.211136, -66.077484, -67.89532...</td>\n",
              "    </tr>\n",
              "    <tr>\n",
              "      <th>3</th>\n",
              "      <td>[[-52.188923, -62.116604, -69.53473, -68.55293...</td>\n",
              "      <td>[[-30.585752, -36.768913, -57.213676, -80.0, -...</td>\n",
              "      <td>[[-64.26881, -57.198017, -57.116177, -71.72972...</td>\n",
              "      <td>[[-62.06629, -74.05279, -80.0, -80.0, -80.0, -...</td>\n",
              "      <td>[[-70.6375, -77.56033, -80.0, -80.0, -80.0, -7...</td>\n",
              "      <td>[[-80.0, -71.65339, -59.64942, -61.843056, -73...</td>\n",
              "      <td>[[-73.13697, -80.0, -80.0, -80.0, -80.0, -80.0...</td>\n",
              "      <td>[[-22.615208, -26.546936, -30.665283, -33.8948...</td>\n",
              "      <td>[[-51.67262, -53.97884, -63.815582, -78.71507,...</td>\n",
              "      <td>[[-68.76893, -77.34634, -80.0, -80.0, -80.0, -...</td>\n",
              "    </tr>\n",
              "    <tr>\n",
              "      <th>4</th>\n",
              "      <td>[[-80.0, -80.0, -78.219925, -80.0, -80.0, -80....</td>\n",
              "      <td>[[-74.92324, -64.09145, -68.459274, -80.0, -74...</td>\n",
              "      <td>[[-80.0, -80.0, -80.0, -80.0, -80.0, -80.0, -8...</td>\n",
              "      <td>[[-80.0, -80.0, -55.73512, -50.668514, -63.956...</td>\n",
              "      <td>[[-50.657246, -62.851837, -80.0, -80.0, -79.75...</td>\n",
              "      <td>[[-57.860146, -55.983177, -49.027184, -41.9949...</td>\n",
              "      <td>[[-59.896927, -69.328415, -80.0, -71.97351, -5...</td>\n",
              "      <td>[[-48.575806, -60.09677, -80.0, -80.0, -74.953...</td>\n",
              "      <td>[[-79.39782, -80.0, -69.799545, -61.424614, -6...</td>\n",
              "      <td>[[-80.0, -80.0, -80.0, -80.0, -80.0, -80.0, -8...</td>\n",
              "    </tr>\n",
              "  </tbody>\n",
              "</table>\n",
              "</div>"
            ],
            "text/plain": [
              "                                           classical  ...                                             hiphop\n",
              "0  [[-56.169285, -51.565807, -53.041862, -57.9066...  ...  [[-65.22782, -75.527054, -80.0, -80.0, -80.0, ...\n",
              "1  [[-65.06656, -64.6403, -66.99222, -64.071014, ...  ...  [[-80.0, -68.52204, -57.228115, -64.56891, -63...\n",
              "2  [[-65.852036, -72.035774, -80.0, -80.0, -80.0,...  ...  [[-73.01895, -70.211136, -66.077484, -67.89532...\n",
              "3  [[-52.188923, -62.116604, -69.53473, -68.55293...  ...  [[-68.76893, -77.34634, -80.0, -80.0, -80.0, -...\n",
              "4  [[-80.0, -80.0, -78.219925, -80.0, -80.0, -80....  ...  [[-80.0, -80.0, -80.0, -80.0, -80.0, -80.0, -8...\n",
              "\n",
              "[5 rows x 10 columns]"
            ]
          },
          "metadata": {
            "tags": []
          },
          "execution_count": 80
        }
      ]
    },
    {
      "cell_type": "code",
      "metadata": {
        "id": "KwCD0s8FFfKX"
      },
      "source": [
        "df_as_array= df.to_numpy()"
      ],
      "execution_count": 169,
      "outputs": []
    },
    {
      "cell_type": "markdown",
      "metadata": {
        "id": "qxtkFLTvGRga"
      },
      "source": [
        "# save the data as array"
      ]
    },
    {
      "cell_type": "code",
      "metadata": {
        "id": "VFSI9Un1Foww"
      },
      "source": [
        "np.save('data_array.npy' , df_as_array  )"
      ],
      "execution_count": 170,
      "outputs": []
    },
    {
      "cell_type": "markdown",
      "metadata": {
        "id": "TYXswGYtGPO9"
      },
      "source": [
        "bad don't save it as csv"
      ]
    },
    {
      "cell_type": "code",
      "metadata": {
        "id": "ipFcSu4i7d6V"
      },
      "source": [
        "# saving the csv data\n",
        "df.to_csv('signals_df.csv', )"
      ],
      "execution_count": 81,
      "outputs": []
    },
    {
      "cell_type": "code",
      "metadata": {
        "colab": {
          "base_uri": "https://localhost:8080/"
        },
        "id": "d4rKdgpp75uE",
        "outputId": "437ec0d9-fbdf-46b1-abd8-9bcc1e14b675"
      },
      "source": [
        "df['classical'][0].shape"
      ],
      "execution_count": 84,
      "outputs": [
        {
          "output_type": "execute_result",
          "data": {
            "text/plain": [
              "(128, 647)"
            ]
          },
          "metadata": {
            "tags": []
          },
          "execution_count": 84
        }
      ]
    },
    {
      "cell_type": "code",
      "metadata": {
        "colab": {
          "base_uri": "https://localhost:8080/"
        },
        "id": "rCG7zqFy8FxV",
        "outputId": "24438672-3e5c-4fcc-dfcd-d708e46f85d1"
      },
      "source": [
        "for i in df : # this is the labels\n",
        "    print(i)"
      ],
      "execution_count": 87,
      "outputs": [
        {
          "output_type": "stream",
          "text": [
            "classical\n",
            "reggae\n",
            "rock\n",
            "country\n",
            "jazz\n",
            "blues\n",
            "disco\n",
            "pop\n",
            "metal\n",
            "hiphop\n"
          ],
          "name": "stdout"
        }
      ]
    },
    {
      "cell_type": "code",
      "metadata": {
        "id": "oeYJLSkZ8lkf"
      },
      "source": [
        "# creating X for the signals\n",
        "# y for the labels\n",
        "y=[]\n",
        "x=[]\n",
        "for label in df:\n",
        "    for sig in df[label]:\n",
        "        y.append(label)\n",
        "        x.append(sig)\n"
      ],
      "execution_count": 89,
      "outputs": []
    },
    {
      "cell_type": "code",
      "metadata": {
        "colab": {
          "base_uri": "https://localhost:8080/",
          "height": 35
        },
        "id": "1V8j_aVX9KtM",
        "outputId": "fd2edd2d-6161-4b2c-bce1-3f5db4dfd7fe"
      },
      "source": [
        "y[0]"
      ],
      "execution_count": 90,
      "outputs": [
        {
          "output_type": "execute_result",
          "data": {
            "application/vnd.google.colaboratory.intrinsic+json": {
              "type": "string"
            },
            "text/plain": [
              "'classical'"
            ]
          },
          "metadata": {
            "tags": []
          },
          "execution_count": 90
        }
      ]
    },
    {
      "cell_type": "code",
      "metadata": {
        "colab": {
          "base_uri": "https://localhost:8080/"
        },
        "id": "Zsw6U8z99NEA",
        "outputId": "ef239199-d5f2-4d29-c7b6-d815ac54cbe7"
      },
      "source": [
        "type( x[0] )"
      ],
      "execution_count": 149,
      "outputs": [
        {
          "output_type": "execute_result",
          "data": {
            "text/plain": [
              "str"
            ]
          },
          "metadata": {
            "tags": []
          },
          "execution_count": 149
        }
      ]
    },
    {
      "cell_type": "code",
      "metadata": {
        "colab": {
          "base_uri": "https://localhost:8080/"
        },
        "id": "8-Lww-Uc9N2C",
        "outputId": "57ad46e3-4f69-4b4e-d08d-575ff79685d3"
      },
      "source": [
        "len(y)==len(x)"
      ],
      "execution_count": 92,
      "outputs": [
        {
          "output_type": "execute_result",
          "data": {
            "text/plain": [
              "True"
            ]
          },
          "metadata": {
            "tags": []
          },
          "execution_count": 92
        }
      ]
    },
    {
      "cell_type": "code",
      "metadata": {
        "colab": {
          "base_uri": "https://localhost:8080/"
        },
        "id": "vLIjOxiF9RHa",
        "outputId": "73fa18b6-96df-469e-ec1c-0c47144be9a7"
      },
      "source": [
        "x[0].shape"
      ],
      "execution_count": 100,
      "outputs": [
        {
          "output_type": "execute_result",
          "data": {
            "text/plain": [
              "(128, 647)"
            ]
          },
          "metadata": {
            "tags": []
          },
          "execution_count": 100
        }
      ]
    },
    {
      "cell_type": "code",
      "metadata": {
        "colab": {
          "base_uri": "https://localhost:8080/"
        },
        "id": "vo9X6veN9Xfv",
        "outputId": "a4ccfec7-7785-4379-8176-587a0f72c8a1"
      },
      "source": [
        "type(x[0])"
      ],
      "execution_count": 103,
      "outputs": [
        {
          "output_type": "execute_result",
          "data": {
            "text/plain": [
              "numpy.ndarray"
            ]
          },
          "metadata": {
            "tags": []
          },
          "execution_count": 103
        }
      ]
    },
    {
      "cell_type": "code",
      "metadata": {
        "id": "Lv43pKtb95Pf"
      },
      "source": [
        "from  sklearn.model_selection import train_test_split "
      ],
      "execution_count": 105,
      "outputs": []
    },
    {
      "cell_type": "code",
      "metadata": {
        "id": "3QCdwOYy-NCV"
      },
      "source": [
        "x_train , x_test , y_train , y_test = train_test_split( x , y , train_size=0.8)"
      ],
      "execution_count": 106,
      "outputs": []
    },
    {
      "cell_type": "code",
      "metadata": {
        "colab": {
          "base_uri": "https://localhost:8080/"
        },
        "id": "dNL5z74z-XjJ",
        "outputId": "62f201f5-6b71-420c-b98f-e18cad69945f"
      },
      "source": [
        "len(x_train) == len(y_train)"
      ],
      "execution_count": 108,
      "outputs": [
        {
          "output_type": "execute_result",
          "data": {
            "text/plain": [
              "True"
            ]
          },
          "metadata": {
            "tags": []
          },
          "execution_count": 108
        }
      ]
    },
    {
      "cell_type": "code",
      "metadata": {
        "colab": {
          "base_uri": "https://localhost:8080/"
        },
        "id": "fNzb4CwJ-ciK",
        "outputId": "9495c7af-4fd8-425a-d73f-d6040310113e"
      },
      "source": [
        "len(x_train)"
      ],
      "execution_count": 109,
      "outputs": [
        {
          "output_type": "execute_result",
          "data": {
            "text/plain": [
              "792"
            ]
          },
          "metadata": {
            "tags": []
          },
          "execution_count": 109
        }
      ]
    },
    {
      "cell_type": "markdown",
      "metadata": {
        "id": "S4r35SwG-jY5"
      },
      "source": [
        "# for loading the data"
      ]
    },
    {
      "cell_type": "code",
      "metadata": {
        "id": "MhXhE52X-lPf"
      },
      "source": [
        "df= pd.read_csv( '/content/signals_df.csv', dtype=float ).drop(columns='Unnamed: 0')"
      ],
      "execution_count": null,
      "outputs": []
    },
    {
      "cell_type": "code",
      "metadata": {
        "id": "lkXLYf1v-kn2"
      },
      "source": [
        "# creating X for the signals\n",
        "# y for the labels\n",
        "y=[]\n",
        "x=[]\n",
        "for label in df:\n",
        "    for sig in df[label]:\n",
        "        y.append(label)\n",
        "        x.append(sig)\n"
      ],
      "execution_count": 122,
      "outputs": []
    },
    {
      "cell_type": "code",
      "metadata": {
        "id": "WpYVoIqS-u7u"
      },
      "source": [
        "from  sklearn.model_selection import train_test_split \n",
        "x_train , x_test , y_train , y_test = train_test_split( x , y , train_size=0.8)"
      ],
      "execution_count": 123,
      "outputs": []
    },
    {
      "cell_type": "code",
      "metadata": {
        "id": "iCYF9AC7_szB"
      },
      "source": [
        "train_df= pd.DataFrame(x_train,y_train)"
      ],
      "execution_count": 124,
      "outputs": []
    },
    {
      "cell_type": "code",
      "metadata": {
        "colab": {
          "base_uri": "https://localhost:8080/",
          "height": 203
        },
        "id": "NghU29me_0SO",
        "outputId": "7e8a1417-eb83-44dd-f035-943ceb622075"
      },
      "source": [
        "test_df= pd.DataFrame(x_test,y_test)\n",
        "test_df.head()"
      ],
      "execution_count": 125,
      "outputs": [
        {
          "output_type": "execute_result",
          "data": {
            "text/html": [
              "<div>\n",
              "<style scoped>\n",
              "    .dataframe tbody tr th:only-of-type {\n",
              "        vertical-align: middle;\n",
              "    }\n",
              "\n",
              "    .dataframe tbody tr th {\n",
              "        vertical-align: top;\n",
              "    }\n",
              "\n",
              "    .dataframe thead th {\n",
              "        text-align: right;\n",
              "    }\n",
              "</style>\n",
              "<table border=\"1\" class=\"dataframe\">\n",
              "  <thead>\n",
              "    <tr style=\"text-align: right;\">\n",
              "      <th></th>\n",
              "      <th>0</th>\n",
              "    </tr>\n",
              "  </thead>\n",
              "  <tbody>\n",
              "    <tr>\n",
              "      <th>pop</th>\n",
              "      <td>[[-50.162785 -60.512604 -71.810326 ... -60.938...</td>\n",
              "    </tr>\n",
              "    <tr>\n",
              "      <th>country</th>\n",
              "      <td>[[-45.721294 -57.762127 -80.       ... -80.   ...</td>\n",
              "    </tr>\n",
              "    <tr>\n",
              "      <th>jazz</th>\n",
              "      <td>[[-80.       -76.86156  -57.081234 ... -53.789...</td>\n",
              "    </tr>\n",
              "    <tr>\n",
              "      <th>disco</th>\n",
              "      <td>[[-59.511555 -58.501495 -67.2402   ... -68.254...</td>\n",
              "    </tr>\n",
              "    <tr>\n",
              "      <th>hiphop</th>\n",
              "      <td>[[-61.437412 -73.42264  -80.       ... -80.   ...</td>\n",
              "    </tr>\n",
              "  </tbody>\n",
              "</table>\n",
              "</div>"
            ],
            "text/plain": [
              "                                                         0\n",
              "pop      [[-50.162785 -60.512604 -71.810326 ... -60.938...\n",
              "country  [[-45.721294 -57.762127 -80.       ... -80.   ...\n",
              "jazz     [[-80.       -76.86156  -57.081234 ... -53.789...\n",
              "disco    [[-59.511555 -58.501495 -67.2402   ... -68.254...\n",
              "hiphop   [[-61.437412 -73.42264  -80.       ... -80.   ..."
            ]
          },
          "metadata": {
            "tags": []
          },
          "execution_count": 125
        }
      ]
    },
    {
      "cell_type": "code",
      "metadata": {
        "colab": {
          "base_uri": "https://localhost:8080/"
        },
        "id": "X8o_4lZoAMQe",
        "outputId": "f1e2ed24-e5c0-4b9b-cef8-c23ecb49996b"
      },
      "source": [
        "train_df.index.unique()"
      ],
      "execution_count": 126,
      "outputs": [
        {
          "output_type": "execute_result",
          "data": {
            "text/plain": [
              "Index(['reggae', 'rock', 'classical', 'pop', 'disco', 'blues', 'jazz',\n",
              "       'hiphop', 'country', 'metal'],\n",
              "      dtype='object')"
            ]
          },
          "metadata": {
            "tags": []
          },
          "execution_count": 126
        }
      ]
    },
    {
      "cell_type": "code",
      "metadata": {
        "colab": {
          "base_uri": "https://localhost:8080/"
        },
        "id": "z683CwywAT8P",
        "outputId": "22c384de-e355-44ed-f4be-149d488b54ec"
      },
      "source": [
        "train_df.shape"
      ],
      "execution_count": 128,
      "outputs": [
        {
          "output_type": "execute_result",
          "data": {
            "text/plain": [
              "(792, 1)"
            ]
          },
          "metadata": {
            "tags": []
          },
          "execution_count": 128
        }
      ]
    },
    {
      "cell_type": "code",
      "metadata": {
        "colab": {
          "base_uri": "https://localhost:8080/"
        },
        "id": "M1-8sjuJCp6O",
        "outputId": "5b6cc62b-eb35-4157-8ac7-5fb7f0e0f0a7"
      },
      "source": [
        "train_df.iloc[0].values"
      ],
      "execution_count": 145,
      "outputs": [
        {
          "output_type": "execute_result",
          "data": {
            "text/plain": [
              "array(['[[-21.685291 -32.59768  -68.05658  ... -80.       -76.73924  -66.61024 ]\\n [-24.346855 -36.347206 -70.20903  ... -69.52498  -46.145756 -34.493423]\\n [-10.908199 -10.183983 -10.519562 ... -36.794903 -29.28776  -20.9455  ]\\n ...\\n [-80.       -80.       -80.       ... -80.       -80.       -80.      ]\\n [-80.       -80.       -80.       ... -80.       -80.       -80.      ]\\n [-80.       -80.       -80.       ... -80.       -80.       -80.      ]]'],\n",
              "      dtype=object)"
            ]
          },
          "metadata": {
            "tags": []
          },
          "execution_count": 145
        }
      ]
    },
    {
      "cell_type": "code",
      "metadata": {
        "colab": {
          "base_uri": "https://localhost:8080/",
          "height": 199
        },
        "id": "ZIuAD7RdCLhM",
        "outputId": "4ef056af-032f-4b67-d044-5e6a7f3106d4"
      },
      "source": [
        "np.array( x_train, dtype=np.float32) "
      ],
      "execution_count": 146,
      "outputs": [
        {
          "output_type": "error",
          "ename": "ValueError",
          "evalue": "ignored",
          "traceback": [
            "\u001b[0;31m---------------------------------------------------------------------------\u001b[0m",
            "\u001b[0;31mValueError\u001b[0m                                Traceback (most recent call last)",
            "\u001b[0;32m<ipython-input-146-b066668b36d3>\u001b[0m in \u001b[0;36m<module>\u001b[0;34m()\u001b[0m\n\u001b[0;32m----> 1\u001b[0;31m \u001b[0mnp\u001b[0m\u001b[0;34m.\u001b[0m\u001b[0marray\u001b[0m\u001b[0;34m(\u001b[0m \u001b[0mx_train\u001b[0m\u001b[0;34m,\u001b[0m \u001b[0mdtype\u001b[0m\u001b[0;34m=\u001b[0m\u001b[0mnp\u001b[0m\u001b[0;34m.\u001b[0m\u001b[0mfloat32\u001b[0m\u001b[0;34m)\u001b[0m\u001b[0;34m\u001b[0m\u001b[0;34m\u001b[0m\u001b[0m\n\u001b[0m",
            "\u001b[0;31mValueError\u001b[0m: could not convert string to float: '[[-21.685291 -32.59768  -68.05658  ... -80.       -76.73924  -66.61024 ]\\n [-24.346855 -36.347206 -70.20903  ... -69.52498  -46.145756 -34.493423]\\n [-10.908199 -10.183983 -10.519562 ... -36.794903 -29.28776  -20.9455  ]\\n ...\\n [-80.       -80.       -80.       ... -80.       -80.       -80.      ]\\n [-80.       -80.       -80.       ... -80.       -80.       -80.      ]\\n [-80.       -80.       -80.       ... -80.       -80.       -80.      ]]'"
          ]
        }
      ]
    },
    {
      "cell_type": "code",
      "metadata": {
        "colab": {
          "base_uri": "https://localhost:8080/",
          "height": 233
        },
        "id": "FeIC3z_AAxHc",
        "outputId": "10e028df-e315-40e4-df4d-0560fa9c07c1"
      },
      "source": [
        "x_train = torch.from_numpy(x_train)\n",
        "x_test = torch.from_numpy(x_test)\n",
        "\n",
        "y_train =torch.from_numpy(y_train).type(torch.IntTensor) \n",
        "y_test = torch.from_numpy(y_test).type(torch.IntTensor)\n",
        "\n",
        "train = torch.utils.data.TensorDataset(X_train,Y_train)\n",
        "test = torch.utils.data.TensorDataset(X_test,Y_test)"
      ],
      "execution_count": 129,
      "outputs": [
        {
          "output_type": "error",
          "ename": "TypeError",
          "evalue": "ignored",
          "traceback": [
            "\u001b[0;31m---------------------------------------------------------------------------\u001b[0m",
            "\u001b[0;31mTypeError\u001b[0m                                 Traceback (most recent call last)",
            "\u001b[0;32m<ipython-input-129-b602a776557b>\u001b[0m in \u001b[0;36m<module>\u001b[0;34m()\u001b[0m\n\u001b[0;32m----> 1\u001b[0;31m \u001b[0mx_train\u001b[0m \u001b[0;34m=\u001b[0m \u001b[0mtorch\u001b[0m\u001b[0;34m.\u001b[0m\u001b[0mfrom_numpy\u001b[0m\u001b[0;34m(\u001b[0m\u001b[0mx_train\u001b[0m\u001b[0;34m)\u001b[0m\u001b[0;34m\u001b[0m\u001b[0;34m\u001b[0m\u001b[0m\n\u001b[0m\u001b[1;32m      2\u001b[0m \u001b[0mx_test\u001b[0m \u001b[0;34m=\u001b[0m \u001b[0mtorch\u001b[0m\u001b[0;34m.\u001b[0m\u001b[0mfrom_numpy\u001b[0m\u001b[0;34m(\u001b[0m\u001b[0mx_test\u001b[0m\u001b[0;34m)\u001b[0m\u001b[0;34m\u001b[0m\u001b[0;34m\u001b[0m\u001b[0m\n\u001b[1;32m      3\u001b[0m \u001b[0;34m\u001b[0m\u001b[0m\n\u001b[1;32m      4\u001b[0m \u001b[0my_train\u001b[0m \u001b[0;34m=\u001b[0m\u001b[0mtorch\u001b[0m\u001b[0;34m.\u001b[0m\u001b[0mfrom_numpy\u001b[0m\u001b[0;34m(\u001b[0m\u001b[0my_train\u001b[0m\u001b[0;34m)\u001b[0m\u001b[0;34m.\u001b[0m\u001b[0mtype\u001b[0m\u001b[0;34m(\u001b[0m\u001b[0mtorch\u001b[0m\u001b[0;34m.\u001b[0m\u001b[0mIntTensor\u001b[0m\u001b[0;34m)\u001b[0m\u001b[0;34m\u001b[0m\u001b[0;34m\u001b[0m\u001b[0m\n\u001b[1;32m      5\u001b[0m \u001b[0my_test\u001b[0m \u001b[0;34m=\u001b[0m \u001b[0mtorch\u001b[0m\u001b[0;34m.\u001b[0m\u001b[0mfrom_numpy\u001b[0m\u001b[0;34m(\u001b[0m\u001b[0my_test\u001b[0m\u001b[0;34m)\u001b[0m\u001b[0;34m.\u001b[0m\u001b[0mtype\u001b[0m\u001b[0;34m(\u001b[0m\u001b[0mtorch\u001b[0m\u001b[0;34m.\u001b[0m\u001b[0mIntTensor\u001b[0m\u001b[0;34m)\u001b[0m\u001b[0;34m\u001b[0m\u001b[0;34m\u001b[0m\u001b[0m\n",
            "\u001b[0;31mTypeError\u001b[0m: expected np.ndarray (got list)"
          ]
        }
      ]
    },
    {
      "cell_type": "markdown",
      "metadata": {
        "id": "v4NiaZqWGdF2"
      },
      "source": [
        "## THIS1 : trying to load the data"
      ]
    },
    {
      "cell_type": "code",
      "metadata": {
        "id": "szmx_CtDGeqx"
      },
      "source": [
        "data_tmp = np.load('/content/data_array.npy' , allow_pickle=True)"
      ],
      "execution_count": 173,
      "outputs": []
    },
    {
      "cell_type": "code",
      "metadata": {
        "id": "SHA5Bia2GF1j"
      },
      "source": [
        "data= pd.DataFrame(data_tmp)"
      ],
      "execution_count": 174,
      "outputs": []
    },
    {
      "cell_type": "code",
      "metadata": {
        "colab": {
          "base_uri": "https://localhost:8080/",
          "height": 525
        },
        "id": "4E5nC9r9GZNF",
        "outputId": "2558dbf6-ad81-4665-c7b1-b15d6777be0f"
      },
      "source": [
        "data.head()"
      ],
      "execution_count": 176,
      "outputs": [
        {
          "output_type": "execute_result",
          "data": {
            "text/html": [
              "<div>\n",
              "<style scoped>\n",
              "    .dataframe tbody tr th:only-of-type {\n",
              "        vertical-align: middle;\n",
              "    }\n",
              "\n",
              "    .dataframe tbody tr th {\n",
              "        vertical-align: top;\n",
              "    }\n",
              "\n",
              "    .dataframe thead th {\n",
              "        text-align: right;\n",
              "    }\n",
              "</style>\n",
              "<table border=\"1\" class=\"dataframe\">\n",
              "  <thead>\n",
              "    <tr style=\"text-align: right;\">\n",
              "      <th></th>\n",
              "      <th>0</th>\n",
              "      <th>1</th>\n",
              "      <th>2</th>\n",
              "      <th>3</th>\n",
              "      <th>4</th>\n",
              "      <th>5</th>\n",
              "      <th>6</th>\n",
              "      <th>7</th>\n",
              "      <th>8</th>\n",
              "      <th>9</th>\n",
              "    </tr>\n",
              "  </thead>\n",
              "  <tbody>\n",
              "    <tr>\n",
              "      <th>0</th>\n",
              "      <td>[[-56.169285, -51.565807, -53.041862, -57.9066...</td>\n",
              "      <td>[[-22.948582, -34.874153, -59.623585, -80.0, -...</td>\n",
              "      <td>[[-80.0, -71.236534, -64.92233, -70.93353, -77...</td>\n",
              "      <td>[[-55.022278, -67.0602, -80.0, -80.0, -80.0, -...</td>\n",
              "      <td>[[-49.520855, -61.457485, -80.0, -80.0, -80.0,...</td>\n",
              "      <td>[[-54.446106, -65.96031, -80.0, -80.0, -80.0, ...</td>\n",
              "      <td>[[-80.0, -80.0, -80.0, -80.0, -80.0, -80.0, -5...</td>\n",
              "      <td>[[-49.887108, -50.27855, -53.37818, -58.324833...</td>\n",
              "      <td>[[-37.505733, -48.246883, -58.930107, -52.3785...</td>\n",
              "      <td>[[-65.22782, -75.527054, -80.0, -80.0, -80.0, ...</td>\n",
              "    </tr>\n",
              "    <tr>\n",
              "      <th>1</th>\n",
              "      <td>[[-65.06656, -64.6403, -66.99222, -64.071014, ...</td>\n",
              "      <td>[[-28.089111, -39.634796, -56.31231, -47.22966...</td>\n",
              "      <td>[[-80.0, -80.0, -80.0, -80.0, -73.34844, -63.9...</td>\n",
              "      <td>[[-45.519897, -54.378494, -68.088135, -76.5962...</td>\n",
              "      <td>[[-75.08989, -72.537346, -61.03471, -66.81137,...</td>\n",
              "      <td>[[-56.534782, -62.605957, -68.94722, -74.14601...</td>\n",
              "      <td>[[-59.511555, -58.501495, -67.2402, -80.0, -80...</td>\n",
              "      <td>[[-77.8993, -59.018692, -56.494858, -76.02396,...</td>\n",
              "      <td>[[-64.871185, -70.61197, -73.46569, -75.072845...</td>\n",
              "      <td>[[-80.0, -68.52204, -57.228115, -64.56891, -63...</td>\n",
              "    </tr>\n",
              "    <tr>\n",
              "      <th>2</th>\n",
              "      <td>[[-65.852036, -72.035774, -80.0, -80.0, -80.0,...</td>\n",
              "      <td>[[-80.0, -79.159966, -77.46018, -80.0, -80.0, ...</td>\n",
              "      <td>[[-49.03448, -61.152744, -80.0, -80.0, -79.504...</td>\n",
              "      <td>[[-80.0, -80.0, -63.975315, -45.75179, -46.260...</td>\n",
              "      <td>[[-60.805717, -72.986404, -80.0, -80.0, -80.0,...</td>\n",
              "      <td>[[-45.1009, -55.695137, -68.64857, -42.568092,...</td>\n",
              "      <td>[[-73.52011, -72.99132, -73.915634, -73.27798,...</td>\n",
              "      <td>[[-54.31614, -53.601448, -60.40483, -64.333466...</td>\n",
              "      <td>[[-58.680965, -45.77376, -49.96103, -59.26811,...</td>\n",
              "      <td>[[-73.01895, -70.211136, -66.077484, -67.89532...</td>\n",
              "    </tr>\n",
              "    <tr>\n",
              "      <th>3</th>\n",
              "      <td>[[-52.188923, -62.116604, -69.53473, -68.55293...</td>\n",
              "      <td>[[-30.585752, -36.768913, -57.213676, -80.0, -...</td>\n",
              "      <td>[[-64.26881, -57.198017, -57.116177, -71.72972...</td>\n",
              "      <td>[[-62.06629, -74.05279, -80.0, -80.0, -80.0, -...</td>\n",
              "      <td>[[-70.6375, -77.56033, -80.0, -80.0, -80.0, -7...</td>\n",
              "      <td>[[-80.0, -71.65339, -59.64942, -61.843056, -73...</td>\n",
              "      <td>[[-73.13697, -80.0, -80.0, -80.0, -80.0, -80.0...</td>\n",
              "      <td>[[-22.615208, -26.546936, -30.665283, -33.8948...</td>\n",
              "      <td>[[-51.67262, -53.97884, -63.815582, -78.71507,...</td>\n",
              "      <td>[[-68.76893, -77.34634, -80.0, -80.0, -80.0, -...</td>\n",
              "    </tr>\n",
              "    <tr>\n",
              "      <th>4</th>\n",
              "      <td>[[-80.0, -80.0, -78.219925, -80.0, -80.0, -80....</td>\n",
              "      <td>[[-74.92324, -64.09145, -68.459274, -80.0, -74...</td>\n",
              "      <td>[[-80.0, -80.0, -80.0, -80.0, -80.0, -80.0, -8...</td>\n",
              "      <td>[[-80.0, -80.0, -55.73512, -50.668514, -63.956...</td>\n",
              "      <td>[[-50.657246, -62.851837, -80.0, -80.0, -79.75...</td>\n",
              "      <td>[[-57.860146, -55.983177, -49.027184, -41.9949...</td>\n",
              "      <td>[[-59.896927, -69.328415, -80.0, -71.97351, -5...</td>\n",
              "      <td>[[-48.575806, -60.09677, -80.0, -80.0, -74.953...</td>\n",
              "      <td>[[-79.39782, -80.0, -69.799545, -61.424614, -6...</td>\n",
              "      <td>[[-80.0, -80.0, -80.0, -80.0, -80.0, -80.0, -8...</td>\n",
              "    </tr>\n",
              "  </tbody>\n",
              "</table>\n",
              "</div>"
            ],
            "text/plain": [
              "                                                   0  ...                                                  9\n",
              "0  [[-56.169285, -51.565807, -53.041862, -57.9066...  ...  [[-65.22782, -75.527054, -80.0, -80.0, -80.0, ...\n",
              "1  [[-65.06656, -64.6403, -66.99222, -64.071014, ...  ...  [[-80.0, -68.52204, -57.228115, -64.56891, -63...\n",
              "2  [[-65.852036, -72.035774, -80.0, -80.0, -80.0,...  ...  [[-73.01895, -70.211136, -66.077484, -67.89532...\n",
              "3  [[-52.188923, -62.116604, -69.53473, -68.55293...  ...  [[-68.76893, -77.34634, -80.0, -80.0, -80.0, -...\n",
              "4  [[-80.0, -80.0, -78.219925, -80.0, -80.0, -80....  ...  [[-80.0, -80.0, -80.0, -80.0, -80.0, -80.0, -8...\n",
              "\n",
              "[5 rows x 10 columns]"
            ]
          },
          "metadata": {
            "tags": []
          },
          "execution_count": 176
        }
      ]
    },
    {
      "cell_type": "code",
      "metadata": {
        "colab": {
          "base_uri": "https://localhost:8080/"
        },
        "id": "ajYfum1tGsyB",
        "outputId": "f2df3d92-07c0-4b4b-f906-c3660d5b5cff"
      },
      "source": [
        "type( data.iloc[0,0][0] )"
      ],
      "execution_count": 178,
      "outputs": [
        {
          "output_type": "execute_result",
          "data": {
            "text/plain": [
              "numpy.ndarray"
            ]
          },
          "metadata": {
            "tags": []
          },
          "execution_count": 178
        }
      ]
    },
    {
      "cell_type": "code",
      "metadata": {
        "id": "8cwRpiYBGyKL"
      },
      "source": [
        "# creating X for the signals\n",
        "# y for the labels\n",
        "y=[]\n",
        "x=[]\n",
        "for label in data:\n",
        "    for sig in data[label]:\n",
        "        y.append(label)\n",
        "        x.append(sig)\n"
      ],
      "execution_count": 179,
      "outputs": []
    },
    {
      "cell_type": "markdown",
      "metadata": {
        "id": "J2-rSZjyL05m"
      },
      "source": [
        "## min index to clip by"
      ]
    },
    {
      "cell_type": "code",
      "metadata": {
        "colab": {
          "base_uri": "https://localhost:8080/"
        },
        "id": "5KCxY-FiK6hA",
        "outputId": "fc5af3f6-1166-4403-a7ee-abbff28b4197"
      },
      "source": [
        "np.array( tmp_list_for_len ).min()"
      ],
      "execution_count": 251,
      "outputs": [
        {
          "output_type": "execute_result",
          "data": {
            "text/plain": [
              "645"
            ]
          },
          "metadata": {
            "tags": []
          },
          "execution_count": 251
        }
      ]
    },
    {
      "cell_type": "markdown",
      "metadata": {
        "id": "aBZmkxxvNcK0"
      },
      "source": [
        "journey to the clipped value "
      ]
    },
    {
      "cell_type": "code",
      "metadata": {
        "colab": {
          "base_uri": "https://localhost:8080/"
        },
        "id": "P_zvOZyuPXDy",
        "outputId": "5b025240-63d9-477e-ea89-5ab1af0a6c5b"
      },
      "source": [
        "tmp_df= pd.DataFrame( x, y )"
      ],
      "execution_count": 293,
      "outputs": [
        {
          "output_type": "stream",
          "text": [
            "/usr/local/lib/python3.7/dist-packages/pandas/core/internals/construction.py:305: VisibleDeprecationWarning: Creating an ndarray from ragged nested sequences (which is a list-or-tuple of lists-or-tuples-or ndarrays with different lengths or shapes) is deprecated. If you meant to do this, you must specify 'dtype=object' when creating the ndarray\n",
            "  values = np.array([convert(v) for v in values])\n"
          ],
          "name": "stderr"
        }
      ]
    },
    {
      "cell_type": "code",
      "metadata": {
        "colab": {
          "base_uri": "https://localhost:8080/"
        },
        "id": "PTyHGbaZPbDw",
        "outputId": "d2c732d1-016a-4323-e714-bb89b223fecc"
      },
      "source": [
        "tmp_df.shape"
      ],
      "execution_count": 294,
      "outputs": [
        {
          "output_type": "execute_result",
          "data": {
            "text/plain": [
              "(990, 1)"
            ]
          },
          "metadata": {
            "tags": []
          },
          "execution_count": 294
        }
      ]
    },
    {
      "cell_type": "code",
      "metadata": {
        "colab": {
          "base_uri": "https://localhost:8080/"
        },
        "id": "nf0lL2-iPkUl",
        "outputId": "4b3410a6-48ae-4dd9-999c-5e1c28ac07e1"
      },
      "source": [
        "tmp_df.index # labels"
      ],
      "execution_count": 296,
      "outputs": [
        {
          "output_type": "execute_result",
          "data": {
            "text/plain": [
              "Int64Index([0, 0, 0, 0, 0, 0, 0, 0, 0, 0,\n",
              "            ...\n",
              "            9, 9, 9, 9, 9, 9, 9, 9, 9, 9],\n",
              "           dtype='int64', length=990)"
            ]
          },
          "metadata": {
            "tags": []
          },
          "execution_count": 296
        }
      ]
    },
    {
      "cell_type": "markdown",
      "metadata": {
        "id": "ye9EpqX6U37I"
      },
      "source": [
        "# creating our new clipped data"
      ]
    },
    {
      "cell_type": "code",
      "metadata": {
        "id": "7a9r4NgiOc8E"
      },
      "source": [
        "tmp_arr=np.zeros((990,1,128,645))\n",
        "for i in range(tmp_df.shape[0]):\n",
        "    tmp_arr[i]=tmp_df.iloc[i][0][:,:645]"
      ],
      "execution_count": 328,
      "outputs": []
    },
    {
      "cell_type": "code",
      "metadata": {
        "colab": {
          "base_uri": "https://localhost:8080/"
        },
        "id": "SXfs3QLrPszo",
        "outputId": "3632a245-bbe7-481d-d995-114c978e9ec0"
      },
      "source": [
        "np.shape( tmp_df.iloc[5][0][:,:645])"
      ],
      "execution_count": 306,
      "outputs": [
        {
          "output_type": "execute_result",
          "data": {
            "text/plain": [
              "(128, 645)"
            ]
          },
          "metadata": {
            "tags": []
          },
          "execution_count": 306
        }
      ]
    },
    {
      "cell_type": "code",
      "metadata": {
        "colab": {
          "base_uri": "https://localhost:8080/"
        },
        "id": "opNTf8MMPuUm",
        "outputId": "d82439a7-3c44-49b2-81c4-7a012b35a52a"
      },
      "source": [
        "tmp_arr.shape"
      ],
      "execution_count": 331,
      "outputs": [
        {
          "output_type": "execute_result",
          "data": {
            "text/plain": [
              "(990, 1, 128, 645)"
            ]
          },
          "metadata": {
            "tags": []
          },
          "execution_count": 331
        }
      ]
    },
    {
      "cell_type": "code",
      "metadata": {
        "id": "jaIDFnuISp_z"
      },
      "source": [
        "X= np.squeeze( tmp_arr.copy())"
      ],
      "execution_count": 342,
      "outputs": []
    },
    {
      "cell_type": "code",
      "metadata": {
        "colab": {
          "base_uri": "https://localhost:8080/"
        },
        "id": "ox7-baq1S_3u",
        "outputId": "395990ab-31c5-4450-cfb6-93272685c370"
      },
      "source": [
        "type(X)"
      ],
      "execution_count": 343,
      "outputs": [
        {
          "output_type": "execute_result",
          "data": {
            "text/plain": [
              "numpy.ndarray"
            ]
          },
          "metadata": {
            "tags": []
          },
          "execution_count": 343
        }
      ]
    },
    {
      "cell_type": "code",
      "metadata": {
        "id": "tYVR2jnRS9OH"
      },
      "source": [
        "y=tmp_df.index.to_numpy()"
      ],
      "execution_count": 337,
      "outputs": []
    },
    {
      "cell_type": "code",
      "metadata": {
        "colab": {
          "base_uri": "https://localhost:8080/"
        },
        "id": "YFJ46lcXTCAl",
        "outputId": "60b36bc0-1eb3-4218-ea2c-4a6f9f58abf9"
      },
      "source": [
        "type(y)"
      ],
      "execution_count": 338,
      "outputs": [
        {
          "output_type": "execute_result",
          "data": {
            "text/plain": [
              "numpy.ndarray"
            ]
          },
          "metadata": {
            "tags": []
          },
          "execution_count": 338
        }
      ]
    },
    {
      "cell_type": "code",
      "metadata": {
        "colab": {
          "base_uri": "https://localhost:8080/"
        },
        "id": "N0w2O_bhTCrx",
        "outputId": "46550c81-e7e3-457f-d307-7b93307b97cd"
      },
      "source": [
        "X.shape"
      ],
      "execution_count": 344,
      "outputs": [
        {
          "output_type": "execute_result",
          "data": {
            "text/plain": [
              "(990, 128, 645)"
            ]
          },
          "metadata": {
            "tags": []
          },
          "execution_count": 344
        }
      ]
    },
    {
      "cell_type": "code",
      "metadata": {
        "colab": {
          "base_uri": "https://localhost:8080/"
        },
        "id": "PeD0uX_uTIPg",
        "outputId": "cb82d175-fd35-4c52-e1c2-f9cefaf9e82b"
      },
      "source": [
        "y.shape"
      ],
      "execution_count": 340,
      "outputs": [
        {
          "output_type": "execute_result",
          "data": {
            "text/plain": [
              "(990,)"
            ]
          },
          "metadata": {
            "tags": []
          },
          "execution_count": 340
        }
      ]
    },
    {
      "cell_type": "code",
      "metadata": {
        "id": "jDNxOd3ETx8s"
      },
      "source": [
        "np.save( 'features.npy',X)\n",
        "np.save('labels.npy' ,y)"
      ],
      "execution_count": 348,
      "outputs": []
    },
    {
      "cell_type": "code",
      "metadata": {
        "id": "Gv8h3keITX0Q"
      },
      "source": [
        "from  sklearn.model_selection import train_test_split \n",
        "x_train , x_test , y_train , y_test = train_test_split( X , y , train_size=0.8)"
      ],
      "execution_count": 345,
      "outputs": []
    },
    {
      "cell_type": "code",
      "metadata": {
        "colab": {
          "base_uri": "https://localhost:8080/"
        },
        "id": "GIELpMKVTJak",
        "outputId": "2cf5d223-3e14-407a-c818-bcc752a6b3ca"
      },
      "source": [
        "x_train = torch.tensor(x_train )\n",
        "x_test = torch.tensor(x_test)\n",
        "\n",
        "y_train =torch.tensor(y_train).type(torch.IntTensor) \n",
        "y_test = torch.tensor(y_test).type(torch.IntTensor)\n",
        "\n",
        "train = torch.utils.data.TensorDataset(x_train,y_train)\n",
        "test = torch.utils.data.TensorDataset(x_test,y_test)"
      ],
      "execution_count": 347,
      "outputs": [
        {
          "output_type": "stream",
          "text": [
            "/usr/local/lib/python3.7/dist-packages/ipykernel_launcher.py:1: UserWarning: To copy construct from a tensor, it is recommended to use sourceTensor.clone().detach() or sourceTensor.clone().detach().requires_grad_(True), rather than torch.tensor(sourceTensor).\n",
            "  \"\"\"Entry point for launching an IPython kernel.\n",
            "/usr/local/lib/python3.7/dist-packages/ipykernel_launcher.py:2: UserWarning: To copy construct from a tensor, it is recommended to use sourceTensor.clone().detach() or sourceTensor.clone().detach().requires_grad_(True), rather than torch.tensor(sourceTensor).\n",
            "  \n",
            "/usr/local/lib/python3.7/dist-packages/ipykernel_launcher.py:4: UserWarning: To copy construct from a tensor, it is recommended to use sourceTensor.clone().detach() or sourceTensor.clone().detach().requires_grad_(True), rather than torch.tensor(sourceTensor).\n",
            "  after removing the cwd from sys.path.\n",
            "/usr/local/lib/python3.7/dist-packages/ipykernel_launcher.py:5: UserWarning: To copy construct from a tensor, it is recommended to use sourceTensor.clone().detach() or sourceTensor.clone().detach().requires_grad_(True), rather than torch.tensor(sourceTensor).\n",
            "  \"\"\"\n"
          ],
          "name": "stderr"
        }
      ]
    },
    {
      "cell_type": "markdown",
      "metadata": {
        "id": "7x8YUBkwajjk"
      },
      "source": [
        "# Saving the files onto the drive"
      ]
    },
    {
      "cell_type": "code",
      "metadata": {
        "colab": {
          "base_uri": "https://localhost:8080/"
        },
        "id": "sTUzbqaFZlnM",
        "outputId": "65512fba-9966-4ace-eaa2-c3a62201781f"
      },
      "source": [
        "from google.colab import drive\n",
        "drive.mount('/content/drive')"
      ],
      "execution_count": 365,
      "outputs": [
        {
          "output_type": "stream",
          "text": [
            "Mounted at /content/drive\n"
          ],
          "name": "stdout"
        }
      ]
    },
    {
      "cell_type": "code",
      "metadata": {
        "id": "IXG1idtNZivf"
      },
      "source": [
        "!cp /content/features.npy /content/drive/MyDrive"
      ],
      "execution_count": 366,
      "outputs": []
    },
    {
      "cell_type": "code",
      "metadata": {
        "id": "LUo77MQGaGPo"
      },
      "source": [
        "!cp /content/labels.npy /content/drive/MyDrive"
      ],
      "execution_count": 367,
      "outputs": []
    },
    {
      "cell_type": "markdown",
      "metadata": {
        "id": "cpd9Qo4Hatly"
      },
      "source": [
        "# Loading the files \n",
        "## you may want to get the new address from your drive\n",
        "[Data here](https://drive.google.com/drive/folders/1T1ox5SBkEf5QDn1w07f2w2teXbpPOjQX?usp=sharing\n",
        ")"
      ]
    },
    {
      "cell_type": "code",
      "metadata": {
        "id": "q0DEqBk_TiDl"
      },
      "source": [
        "x_load= np.load('features.npy')\n",
        "y_load= np.load('labels.npy')"
      ],
      "execution_count": 349,
      "outputs": []
    },
    {
      "cell_type": "code",
      "metadata": {
        "id": "Xkh2d737UVvJ"
      },
      "source": [
        "from  sklearn.model_selection import train_test_split \n",
        "x_train , x_test , y_train , y_test = train_test_split( x_load , y_load , train_size=0.8)"
      ],
      "execution_count": 350,
      "outputs": []
    },
    {
      "cell_type": "code",
      "metadata": {
        "id": "YtZ8TFvHUZtB"
      },
      "source": [
        "x_train = torch.tensor(x_train )\n",
        "x_test = torch.tensor(x_test)\n",
        "\n",
        "y_train =torch.tensor(y_train).type(torch.IntTensor) \n",
        "y_test = torch.tensor(y_test).type(torch.IntTensor)\n",
        "\n",
        "train = torch.utils.data.TensorDataset(x_train,y_train)\n",
        "test = torch.utils.data.TensorDataset(x_test,y_test)"
      ],
      "execution_count": 351,
      "outputs": []
    }
  ]
}