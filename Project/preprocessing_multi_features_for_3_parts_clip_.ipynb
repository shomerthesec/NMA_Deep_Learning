{
  "nbformat": 4,
  "nbformat_minor": 0,
  "metadata": {
    "colab": {
      "name": "preprocessing multi features for 3-parts clip .ipynb",
      "provenance": [],
      "collapsed_sections": []
    },
    "kernelspec": {
      "name": "python3",
      "display_name": "Python 3"
    },
    "language_info": {
      "name": "python"
    }
  },
  "cells": [
    {
      "cell_type": "code",
      "metadata": {
        "id": "bUgr-NZFV8Dx"
      },
      "source": [
        "# Import necessary libraries.\n",
        "import os\n",
        "import glob\n",
        "import imageio\n",
        "import random, shutil\n",
        "import torch\n",
        "import torch.nn as nn\n",
        "from tqdm.notebook import tqdm\n",
        "import torch.nn.functional as F\n",
        "import torchvision.datasets as datasets\n",
        "import torchvision.transforms as transforms\n",
        "import numpy as np\n",
        "import matplotlib.pyplot as plt\n",
        "import IPython.display as display\n",
        "import librosa\n",
        "import librosa.display"
      ],
      "execution_count": 1,
      "outputs": []
    },
    {
      "cell_type": "code",
      "metadata": {
        "id": "CEPKeTVmV-k3"
      },
      "source": [
        "import requests\n",
        "\n",
        "fname = \"music.zip\"\n",
        "url = \"https://osf.io/drjhb/download\"\n",
        "\n",
        "if not os.path.isfile(fname):\n",
        "  try:\n",
        "    r = requests.get(url)\n",
        "  except requests.ConnectionError:\n",
        "    print(\"!!! Failed to download data !!!\")\n",
        "  else:\n",
        "    if r.status_code != requests.codes.ok:\n",
        "      print(\"!!! Failed to download data !!!\")\n",
        "    else:\n",
        "      with open(fname, \"wb\") as fid:\n",
        "        fid.write(r.content)"
      ],
      "execution_count": 2,
      "outputs": []
    },
    {
      "cell_type": "code",
      "metadata": {
        "id": "8c-m6-5WV_4c"
      },
      "source": [
        "from zipfile import ZipFile\n",
        "\n",
        "with ZipFile(fname, 'r') as zipObj:\n",
        "  # Extract all the contents of zip file in different directory\n",
        "  zipObj.extractall()"
      ],
      "execution_count": 3,
      "outputs": []
    },
    {
      "cell_type": "code",
      "metadata": {
        "id": "_P6ardDaWBjv"
      },
      "source": [
        "import pandas as pd\n",
        "import shutil"
      ],
      "execution_count": 4,
      "outputs": []
    },
    {
      "cell_type": "code",
      "metadata": {
        "colab": {
          "base_uri": "https://localhost:8080/"
        },
        "id": "0WpktV2OlCku",
        "outputId": "26c08347-6aee-4138-ac90-b4e965ba034c"
      },
      "source": [
        "sample_path = 'Data/genres_original/jazz/jazz.00000.wav'\n",
        "y, sample_rate = librosa.load(sample_path)\n",
        "y_resamble= librosa.resample(y, 22050, 11025)\n",
        "\n",
        "S = librosa.feature.melspectrogram( y_resamble[:110299] , sr=11025  )\n",
        "print(S.shape)\n",
        "S_DB = librosa.amplitude_to_db(S, ref=np.max)\n",
        "print(S_DB.shape)"
      ],
      "execution_count": 5,
      "outputs": [
        {
          "output_type": "stream",
          "text": [
            "(128, 216)\n",
            "(128, 216)\n"
          ],
          "name": "stdout"
        }
      ]
    },
    {
      "cell_type": "code",
      "metadata": {
        "colab": {
          "base_uri": "https://localhost:8080/"
        },
        "id": "LTUFCMDyLLwc",
        "outputId": "04132103-cd4e-4b06-e393-6344c515ef4e"
      },
      "source": [
        "S = librosa.feature.melspectrogram( y_resamble[110299:110299*2] , sr=11025  )\n",
        "print(S.shape)\n",
        "S_DB = librosa.amplitude_to_db(S, ref=np.max)\n",
        "print(S_DB.shape)"
      ],
      "execution_count": 6,
      "outputs": [
        {
          "output_type": "stream",
          "text": [
            "(128, 216)\n",
            "(128, 216)\n"
          ],
          "name": "stdout"
        }
      ]
    },
    {
      "cell_type": "code",
      "metadata": {
        "colab": {
          "base_uri": "https://localhost:8080/"
        },
        "id": "jvqHJewnLRpO",
        "outputId": "3ed8e903-902b-4efe-b037-d546e6af31c0"
      },
      "source": [
        "S = librosa.feature.melspectrogram( y_resamble[110299*2:110299*3] , sr=11025  )\n",
        "print(S.shape)\n",
        "S_DB = librosa.amplitude_to_db(S, ref=np.max)\n",
        "print(S_DB.shape)"
      ],
      "execution_count": 7,
      "outputs": [
        {
          "output_type": "stream",
          "text": [
            "(128, 216)\n",
            "(128, 216)\n"
          ],
          "name": "stdout"
        }
      ]
    },
    {
      "cell_type": "markdown",
      "metadata": {
        "id": "DO_0qAwglX0D"
      },
      "source": [
        ""
      ]
    },
    {
      "cell_type": "code",
      "metadata": {
        "id": "uB3DT_PDLgjH"
      },
      "source": [
        "#time_intervals= [ [:110299] , [110299 : 110299*2] , [110299*2 :110299*3 ] ]"
      ],
      "execution_count": 8,
      "outputs": []
    },
    {
      "cell_type": "code",
      "metadata": {
        "id": "st8Ncmi5WDH_",
        "colab": {
          "base_uri": "https://localhost:8080/"
        },
        "outputId": "f74845e6-7296-4ab1-81ee-d2ef9649baf0"
      },
      "source": [
        "dir= 'Data/genres_original/' # the dir with all the genres\n",
        "new_dir= 'new_music' # new dir for us\n",
        "try:\n",
        "    shutil.rmtree(new_dir, ignore_errors = False)\n",
        "except:\n",
        "    print('no file continue')\n",
        "os.mkdir(new_dir)\n",
        "genre_dict={}\n",
        "for genre in os.listdir( dir ):\n",
        "    genre_dir= dir+genre \n",
        "  \n",
        "    os.mkdir(f'{new_dir}/{genre}')\n",
        "\n",
        "    genre_dict[genre]= []\n",
        "    print(f'we are in {genre} directory')\n",
        "    use_this_dir= f'{new_dir}/{genre}' # move files here\n",
        "    for music_file in os.listdir(genre_dir): # this is the music file name\n",
        "        music_loc =os.path.join( genre_dir ,music_file) # the address for the music file\n",
        "        \n",
        "        try:\n",
        "            y, sr = librosa.load(music_loc)\n",
        "            # THIS IS WHERE TO START\n",
        "            for i in range(3):\n",
        "                if i ==0: \n",
        "                    y_resamble= librosa.resample(y[:110299], 22050, 11025) # using subsampling\n",
        "                    S_C= librosa.feature.spectral_centroid( y_resamble, sr=11025  )\n",
        "                    S_RO= librosa.feature.spectral_rolloff( y_resamble, sr=11025  )\n",
        "                    C_STFT= librosa.feature.chroma_stft( y_resamble, sr=11025  )\n",
        "                    S = librosa.feature.melspectrogram( y_resamble, sr=11025  )\n",
        "                    S_DB = librosa.amplitude_to_db(S, ref=np.max)\n",
        "                    genre_dict[genre].append( [S_DB, S_C , S_RO , C_STFT ] )  # tries to add the signal to the genre\n",
        "\n",
        "                elif i ==1: \n",
        "                    y_resamble= librosa.resample(y[110299:110299*2], 22050, 11025)\n",
        "                    S_C= librosa.feature.spectral_centroid( y_resamble, sr=11025  )\n",
        "                    S_RO= librosa.feature.spectral_rolloff( y_resamble, sr=11025  )\n",
        "                    C_STFT= librosa.feature.chroma_stft( y_resamble, sr=11025  )\n",
        "                    S = librosa.feature.melspectrogram( y_resamble, sr=11025  )\n",
        "                    S_DB = librosa.amplitude_to_db(S, ref=np.max)\n",
        "                    genre_dict[genre].append( [S_DB, S_C , S_RO , C_STFT ] )  # tries to add the signal to the genre\n",
        "\n",
        "                elif i==2: \n",
        "                    y_resamble= librosa.resample(y[110299*2:110299*3], 22050, 11025)\n",
        "                    S_C= librosa.feature.spectral_centroid( y_resamble, sr=11025  )\n",
        "                    S_RO= librosa.feature.spectral_rolloff( y_resamble, sr=11025  )\n",
        "                    C_STFT= librosa.feature.chroma_stft( y_resamble, sr=11025  )\n",
        "                    S = librosa.feature.melspectrogram( y_resamble, sr=11025  )\n",
        "                    S_DB = librosa.amplitude_to_db(S, ref=np.max)\n",
        "                    genre_dict[genre].append( [S_DB, S_C , S_RO , C_STFT ] )  # tries to add the signal to the genre\n",
        "\n",
        "\n",
        "        except:\n",
        "            print('error')"
      ],
      "execution_count": 9,
      "outputs": [
        {
          "output_type": "stream",
          "text": [
            "we are in classical directory\n",
            "we are in hiphop directory\n",
            "we are in pop directory\n",
            "we are in country directory\n",
            "we are in disco directory\n",
            "we are in reggae directory\n",
            "we are in jazz directory\n"
          ],
          "name": "stdout"
        },
        {
          "output_type": "stream",
          "text": [
            "/usr/local/lib/python3.7/dist-packages/librosa/core/audio.py:165: UserWarning: PySoundFile failed. Trying audioread instead.\n",
            "  warnings.warn(\"PySoundFile failed. Trying audioread instead.\")\n"
          ],
          "name": "stderr"
        },
        {
          "output_type": "stream",
          "text": [
            "error\n",
            "we are in rock directory\n",
            "we are in blues directory\n",
            "we are in metal directory\n"
          ],
          "name": "stdout"
        }
      ]
    },
    {
      "cell_type": "code",
      "metadata": {
        "id": "WATdVurZWGwB"
      },
      "source": [
        "# taking only 99 signals instead of 100 because we have 1 faulty file inside genre: jazz\n",
        "for arr in genre_dict.keys():\n",
        "    if arr == 'jazz':\n",
        "        pass\n",
        "    else:\n",
        "        del genre_dict[arr][-4:-1]"
      ],
      "execution_count": 10,
      "outputs": []
    },
    {
      "cell_type": "code",
      "metadata": {
        "colab": {
          "base_uri": "https://localhost:8080/"
        },
        "id": "tkN8pzPSQaOO",
        "outputId": "b5ca60e6-dd28-40f7-ab5c-93459f5c9e8c"
      },
      "source": [
        "len( genre_dict['pop'] )"
      ],
      "execution_count": 11,
      "outputs": [
        {
          "output_type": "execute_result",
          "data": {
            "text/plain": [
              "297"
            ]
          },
          "metadata": {
            "tags": []
          },
          "execution_count": 11
        }
      ]
    },
    {
      "cell_type": "code",
      "metadata": {
        "colab": {
          "base_uri": "https://localhost:8080/"
        },
        "id": "thyNCRV1P8IG",
        "outputId": "bc230eee-005c-4596-f4c2-8c7b086981c9"
      },
      "source": [
        "len( genre_dict['jazz'] )"
      ],
      "execution_count": 12,
      "outputs": [
        {
          "output_type": "execute_result",
          "data": {
            "text/plain": [
              "297"
            ]
          },
          "metadata": {
            "tags": []
          },
          "execution_count": 12
        }
      ]
    },
    {
      "cell_type": "code",
      "metadata": {
        "id": "_RUu2_CEWKOJ"
      },
      "source": [
        "df= pd.DataFrame( genre_dict)# , dtype= np.float32 )"
      ],
      "execution_count": 13,
      "outputs": []
    },
    {
      "cell_type": "code",
      "metadata": {
        "colab": {
          "base_uri": "https://localhost:8080/"
        },
        "id": "ByqZcukevxRu",
        "outputId": "44bfbee1-99ea-4ab3-8fc6-a5d22a107c49"
      },
      "source": [
        "print( df.jazz[4][0].shape , 'for S_DB' )\n",
        "print(df.jazz[3][1].shape  , 'for S_C' )\n",
        "print(df.jazz[4][2].shape , ' for S_RO ')\n",
        "print(df.jazz[5][3].shape , 'for C_STFT ')"
      ],
      "execution_count": 14,
      "outputs": [
        {
          "output_type": "stream",
          "text": [
            "(128, 108) for S_DB\n",
            "(1, 108) for S_C\n",
            "(1, 108)  for S_RO \n",
            "(12, 108) for C_STFT \n"
          ],
          "name": "stdout"
        }
      ]
    },
    {
      "cell_type": "code",
      "metadata": {
        "id": "NYSVV5A1WLmh"
      },
      "source": [
        "df_as_array= df.to_numpy()"
      ],
      "execution_count": 15,
      "outputs": []
    },
    {
      "cell_type": "code",
      "metadata": {
        "colab": {
          "base_uri": "https://localhost:8080/"
        },
        "id": "gpa49jovv8Pu",
        "outputId": "b8dfbefe-8425-4c8f-e1d9-534cda0ae596"
      },
      "source": [
        "#sec for audio file , first dim for class , , third for feature\n",
        "print( df_as_array[200][4][0].shape , 'for S_DB' )\n",
        "print(df_as_array[120][1][1].shape  , 'for S_C' )\n",
        "print(df_as_array[76][3][2].shape , ' for S_RO ')\n",
        "print(df_as_array[89][2][3].shape , 'for C_STFT ')"
      ],
      "execution_count": 18,
      "outputs": [
        {
          "output_type": "stream",
          "text": [
            "(128, 108) for S_DB\n",
            "(1, 108) for S_C\n",
            "(1, 108)  for S_RO \n",
            "(12, 108) for C_STFT \n"
          ],
          "name": "stdout"
        }
      ]
    },
    {
      "cell_type": "code",
      "metadata": {
        "id": "L7fcLA2FWOfF"
      },
      "source": [
        "np.save('4_features_array.npy' , df_as_array  )"
      ],
      "execution_count": 19,
      "outputs": []
    },
    {
      "cell_type": "markdown",
      "metadata": {
        "id": "MbbOxleXxJ75"
      },
      "source": [
        "# for loading the data"
      ]
    },
    {
      "cell_type": "code",
      "metadata": {
        "id": "YqClM8gtWXpy"
      },
      "source": [
        "data_tmp = np.load('/content/4_features_array.npy' , allow_pickle=True)"
      ],
      "execution_count": 20,
      "outputs": []
    },
    {
      "cell_type": "code",
      "metadata": {
        "id": "xA0uyqN4Wj5G"
      },
      "source": [
        "data= pd.DataFrame(data_tmp)"
      ],
      "execution_count": 21,
      "outputs": []
    },
    {
      "cell_type": "code",
      "metadata": {
        "id": "Jr900kU2WSct",
        "colab": {
          "base_uri": "https://localhost:8080/"
        },
        "outputId": "33ed1259-ce29-47f6-b017-42081942678b"
      },
      "source": [
        "# creating X for the signals\n",
        "# y for the labels\n",
        "y=[]\n",
        "S_DB=[]\n",
        "S_C= []\n",
        "S_RO= []\n",
        "C_STFT=[]\n",
        "for label in data:\n",
        "    print(label)\n",
        "    for sig in data[label]:\n",
        "        y.append(label)\n",
        "\n",
        "        S_DB.append(sig[0])\n",
        "        S_C.append(sig[1])\n",
        "        S_RO.append(sig[2])\n",
        "        C_STFT.append(sig[3])\n"
      ],
      "execution_count": 23,
      "outputs": [
        {
          "output_type": "stream",
          "text": [
            "0\n",
            "1\n",
            "2\n",
            "3\n",
            "4\n",
            "5\n",
            "6\n",
            "7\n",
            "8\n",
            "9\n"
          ],
          "name": "stdout"
        }
      ]
    },
    {
      "cell_type": "code",
      "metadata": {
        "colab": {
          "base_uri": "https://localhost:8080/"
        },
        "id": "eURN96DsyHqn",
        "outputId": "d3f59ce2-9bd4-4bf3-b312-095ac7553eaa"
      },
      "source": [
        "data[0][0][0].shape"
      ],
      "execution_count": 24,
      "outputs": [
        {
          "output_type": "execute_result",
          "data": {
            "text/plain": [
              "(128, 108)"
            ]
          },
          "metadata": {
            "tags": []
          },
          "execution_count": 24
        }
      ]
    },
    {
      "cell_type": "code",
      "metadata": {
        "id": "x6P-HGiQWnjR"
      },
      "source": [
        "tmp_arr= np.array(df_as_array)\n",
        "for i in range(data.shape[0]): # files\n",
        "    for m in range(10): #  labels\n",
        "        for f in range(4): # features\n",
        "            tmp_arr[i][m][f]=data.iloc[i][m][f][:,:108]"
      ],
      "execution_count": 25,
      "outputs": []
    },
    {
      "cell_type": "code",
      "metadata": {
        "colab": {
          "base_uri": "https://localhost:8080/"
        },
        "id": "Dlb4DLjnzL6y",
        "outputId": "fa600e03-a387-4bf5-b4de-7f7457ac733b"
      },
      "source": [
        "# first dim for class , sec for audio file , third for feature\n",
        "print( tmp_arr[230][1][0].shape , 'for S_DB' )\n",
        "print(tmp_arr[120][2][1].shape  , 'for S_C' )\n",
        "print(tmp_arr[34][5][2].shape , ' for S_RO ')\n",
        "print(tmp_arr[76][3][3].shape , 'for C_STFT ')"
      ],
      "execution_count": 28,
      "outputs": [
        {
          "output_type": "stream",
          "text": [
            "(128, 108) for S_DB\n",
            "(1, 108) for S_C\n",
            "(1, 108)  for S_RO \n",
            "(12, 108) for C_STFT \n"
          ],
          "name": "stdout"
        }
      ]
    },
    {
      "cell_type": "code",
      "metadata": {
        "id": "X30LRkfLWtWC"
      },
      "source": [
        "X= np.squeeze( tmp_arr.copy() )"
      ],
      "execution_count": 29,
      "outputs": []
    },
    {
      "cell_type": "code",
      "metadata": {
        "id": "t8OpI3NlWvwd"
      },
      "source": [
        "y= np.array( y )"
      ],
      "execution_count": 30,
      "outputs": []
    },
    {
      "cell_type": "code",
      "metadata": {
        "colab": {
          "base_uri": "https://localhost:8080/"
        },
        "id": "usmGaxRT0ayE",
        "outputId": "951d0b82-ae86-4a9f-c89c-0925797da101"
      },
      "source": [
        "len( y )"
      ],
      "execution_count": 31,
      "outputs": [
        {
          "output_type": "execute_result",
          "data": {
            "text/plain": [
              "2970"
            ]
          },
          "metadata": {
            "tags": []
          },
          "execution_count": 31
        }
      ]
    },
    {
      "cell_type": "markdown",
      "metadata": {
        "id": "4uKNP15JW4Rd"
      },
      "source": [
        "## saving the features and labels"
      ]
    },
    {
      "cell_type": "code",
      "metadata": {
        "id": "dARpGZL5WyIz"
      },
      "source": [
        "np.save( 'all_the_features.npy',X)\n",
        "np.save('all_the_labels.npy' ,y)"
      ],
      "execution_count": 32,
      "outputs": []
    },
    {
      "cell_type": "markdown",
      "metadata": {
        "id": "joXhycNrW60A"
      },
      "source": [
        "# loading the data"
      ]
    },
    {
      "cell_type": "code",
      "metadata": {
        "id": "-bMhInlsW4Bo"
      },
      "source": [
        "x_load= np.load('all_the_features.npy', allow_pickle=True)\n",
        "y_load= np.load('all_the_labels.npy', allow_pickle=True)"
      ],
      "execution_count": 33,
      "outputs": []
    },
    {
      "cell_type": "code",
      "metadata": {
        "colab": {
          "base_uri": "https://localhost:8080/"
        },
        "id": "SYwAspjA20fj",
        "outputId": "ec78d11c-3a7c-415b-f2cd-c2c8ab0b4d90"
      },
      "source": [
        "x_load[0][0][0].shape"
      ],
      "execution_count": 34,
      "outputs": [
        {
          "output_type": "execute_result",
          "data": {
            "text/plain": [
              "(128, 108)"
            ]
          },
          "metadata": {
            "tags": []
          },
          "execution_count": 34
        }
      ]
    },
    {
      "cell_type": "markdown",
      "metadata": {
        "id": "WYrTt5572fqi"
      },
      "source": [
        "# copying "
      ]
    },
    {
      "cell_type": "code",
      "metadata": {
        "colab": {
          "base_uri": "https://localhost:8080/"
        },
        "id": "ZmvvRVY814KQ",
        "outputId": "0d1635c7-ec3a-4932-efcb-3d74cd774f33"
      },
      "source": [
        "from google.colab import drive\n",
        "drive.mount('/content/drive')"
      ],
      "execution_count": 35,
      "outputs": [
        {
          "output_type": "stream",
          "text": [
            "Mounted at /content/drive\n"
          ],
          "name": "stdout"
        }
      ]
    },
    {
      "cell_type": "code",
      "metadata": {
        "id": "0dfjlSoB2ATx"
      },
      "source": [
        "!cp  '/content/all_the_features.npy' '/content/drive/MyDrive/NMA_DL_project'"
      ],
      "execution_count": 36,
      "outputs": []
    },
    {
      "cell_type": "code",
      "metadata": {
        "id": "Tmsh84J-3eTC"
      },
      "source": [
        "!cp  '/content/all_the_labels.npy' '/content/drive/MyDrive/NMA_DL_project'"
      ],
      "execution_count": 37,
      "outputs": []
    }
  ]
}