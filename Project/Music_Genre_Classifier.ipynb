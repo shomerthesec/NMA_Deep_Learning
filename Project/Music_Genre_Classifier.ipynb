{
  "nbformat": 4,
  "nbformat_minor": 0,
  "metadata": {
    "colab": {
      "name": "Music Genre Classifier ",
      "provenance": [],
      "collapsed_sections": [
        "ln9vJLeogQy-",
        "O2Ra7mYQfwW8",
        "GDp661EPfzKn",
        "vUQewIGCf3RJ"
      ]
    },
    "kernelspec": {
      "name": "python3",
      "display_name": "Python 3"
    },
    "language_info": {
      "name": "python"
    },
    "accelerator": "GPU",
    "widgets": {
      "application/vnd.jupyter.widget-state+json": {
        "21327e8570e846c78549f5826b4411d3": {
          "model_module": "@jupyter-widgets/controls",
          "model_name": "HBoxModel",
          "model_module_version": "1.5.0",
          "state": {
            "_view_name": "HBoxView",
            "_dom_classes": [],
            "_model_name": "HBoxModel",
            "_view_module": "@jupyter-widgets/controls",
            "_model_module_version": "1.5.0",
            "_view_count": null,
            "_view_module_version": "1.5.0",
            "box_style": "",
            "layout": "IPY_MODEL_2d707014a2394d23b36893693949e151",
            "_model_module": "@jupyter-widgets/controls",
            "children": [
              "IPY_MODEL_929d62d5942f4e34bbdd66b092ffc9e9",
              "IPY_MODEL_fc55ba93b64b4e8d8ce7800b63fb1792"
            ]
          }
        },
        "2d707014a2394d23b36893693949e151": {
          "model_module": "@jupyter-widgets/base",
          "model_name": "LayoutModel",
          "model_module_version": "1.2.0",
          "state": {
            "_view_name": "LayoutView",
            "grid_template_rows": null,
            "right": null,
            "justify_content": null,
            "_view_module": "@jupyter-widgets/base",
            "overflow": null,
            "_model_module_version": "1.2.0",
            "_view_count": null,
            "flex_flow": null,
            "width": null,
            "min_width": null,
            "border": null,
            "align_items": null,
            "bottom": null,
            "_model_module": "@jupyter-widgets/base",
            "top": null,
            "grid_column": null,
            "overflow_y": null,
            "overflow_x": null,
            "grid_auto_flow": null,
            "grid_area": null,
            "grid_template_columns": null,
            "flex": null,
            "_model_name": "LayoutModel",
            "justify_items": null,
            "grid_row": null,
            "max_height": null,
            "align_content": null,
            "visibility": null,
            "align_self": null,
            "height": null,
            "min_height": null,
            "padding": null,
            "grid_auto_rows": null,
            "grid_gap": null,
            "max_width": null,
            "order": null,
            "_view_module_version": "1.2.0",
            "grid_template_areas": null,
            "object_position": null,
            "object_fit": null,
            "grid_auto_columns": null,
            "margin": null,
            "display": null,
            "left": null
          }
        },
        "929d62d5942f4e34bbdd66b092ffc9e9": {
          "model_module": "@jupyter-widgets/controls",
          "model_name": "FloatProgressModel",
          "model_module_version": "1.5.0",
          "state": {
            "_view_name": "ProgressView",
            "style": "IPY_MODEL_f4f9c71c73584c4f99c8b2811f6bfedb",
            "_dom_classes": [],
            "description": "Training:  80%",
            "_model_name": "FloatProgressModel",
            "bar_style": "danger",
            "max": 30,
            "_view_module": "@jupyter-widgets/controls",
            "_model_module_version": "1.5.0",
            "value": 24,
            "_view_count": null,
            "_view_module_version": "1.5.0",
            "orientation": "horizontal",
            "min": 0,
            "description_tooltip": null,
            "_model_module": "@jupyter-widgets/controls",
            "layout": "IPY_MODEL_b1b68e6532ab476fa1bffab616b78589"
          }
        },
        "fc55ba93b64b4e8d8ce7800b63fb1792": {
          "model_module": "@jupyter-widgets/controls",
          "model_name": "HTMLModel",
          "model_module_version": "1.5.0",
          "state": {
            "_view_name": "HTMLView",
            "style": "IPY_MODEL_58605da7d5b04aac86c949796bf385e0",
            "_dom_classes": [],
            "description": "",
            "_model_name": "HTMLModel",
            "placeholder": "​",
            "_view_module": "@jupyter-widgets/controls",
            "_model_module_version": "1.5.0",
            "value": " 24/30 [01:14&lt;00:18,  3.09s/epoch, loss=0.365]",
            "_view_count": null,
            "_view_module_version": "1.5.0",
            "description_tooltip": null,
            "_model_module": "@jupyter-widgets/controls",
            "layout": "IPY_MODEL_03173dbad8c846139f1a14e792ed5804"
          }
        },
        "f4f9c71c73584c4f99c8b2811f6bfedb": {
          "model_module": "@jupyter-widgets/controls",
          "model_name": "ProgressStyleModel",
          "model_module_version": "1.5.0",
          "state": {
            "_view_name": "StyleView",
            "_model_name": "ProgressStyleModel",
            "description_width": "initial",
            "_view_module": "@jupyter-widgets/base",
            "_model_module_version": "1.5.0",
            "_view_count": null,
            "_view_module_version": "1.2.0",
            "bar_color": null,
            "_model_module": "@jupyter-widgets/controls"
          }
        },
        "b1b68e6532ab476fa1bffab616b78589": {
          "model_module": "@jupyter-widgets/base",
          "model_name": "LayoutModel",
          "model_module_version": "1.2.0",
          "state": {
            "_view_name": "LayoutView",
            "grid_template_rows": null,
            "right": null,
            "justify_content": null,
            "_view_module": "@jupyter-widgets/base",
            "overflow": null,
            "_model_module_version": "1.2.0",
            "_view_count": null,
            "flex_flow": null,
            "width": null,
            "min_width": null,
            "border": null,
            "align_items": null,
            "bottom": null,
            "_model_module": "@jupyter-widgets/base",
            "top": null,
            "grid_column": null,
            "overflow_y": null,
            "overflow_x": null,
            "grid_auto_flow": null,
            "grid_area": null,
            "grid_template_columns": null,
            "flex": null,
            "_model_name": "LayoutModel",
            "justify_items": null,
            "grid_row": null,
            "max_height": null,
            "align_content": null,
            "visibility": null,
            "align_self": null,
            "height": null,
            "min_height": null,
            "padding": null,
            "grid_auto_rows": null,
            "grid_gap": null,
            "max_width": null,
            "order": null,
            "_view_module_version": "1.2.0",
            "grid_template_areas": null,
            "object_position": null,
            "object_fit": null,
            "grid_auto_columns": null,
            "margin": null,
            "display": null,
            "left": null
          }
        },
        "58605da7d5b04aac86c949796bf385e0": {
          "model_module": "@jupyter-widgets/controls",
          "model_name": "DescriptionStyleModel",
          "model_module_version": "1.5.0",
          "state": {
            "_view_name": "StyleView",
            "_model_name": "DescriptionStyleModel",
            "description_width": "",
            "_view_module": "@jupyter-widgets/base",
            "_model_module_version": "1.5.0",
            "_view_count": null,
            "_view_module_version": "1.2.0",
            "_model_module": "@jupyter-widgets/controls"
          }
        },
        "03173dbad8c846139f1a14e792ed5804": {
          "model_module": "@jupyter-widgets/base",
          "model_name": "LayoutModel",
          "model_module_version": "1.2.0",
          "state": {
            "_view_name": "LayoutView",
            "grid_template_rows": null,
            "right": null,
            "justify_content": null,
            "_view_module": "@jupyter-widgets/base",
            "overflow": null,
            "_model_module_version": "1.2.0",
            "_view_count": null,
            "flex_flow": null,
            "width": null,
            "min_width": null,
            "border": null,
            "align_items": null,
            "bottom": null,
            "_model_module": "@jupyter-widgets/base",
            "top": null,
            "grid_column": null,
            "overflow_y": null,
            "overflow_x": null,
            "grid_auto_flow": null,
            "grid_area": null,
            "grid_template_columns": null,
            "flex": null,
            "_model_name": "LayoutModel",
            "justify_items": null,
            "grid_row": null,
            "max_height": null,
            "align_content": null,
            "visibility": null,
            "align_self": null,
            "height": null,
            "min_height": null,
            "padding": null,
            "grid_auto_rows": null,
            "grid_gap": null,
            "max_width": null,
            "order": null,
            "_view_module_version": "1.2.0",
            "grid_template_areas": null,
            "object_position": null,
            "object_fit": null,
            "grid_auto_columns": null,
            "margin": null,
            "display": null,
            "left": null
          }
        }
      }
    }
  },
  "cells": [
    {
      "cell_type": "markdown",
      "metadata": {
        "id": "ln9vJLeogQy-"
      },
      "source": [
        "# Our libraries"
      ]
    },
    {
      "cell_type": "code",
      "metadata": {
        "id": "WzuFmDOxeNLa"
      },
      "source": [
        "import os\n",
        "import glob\n",
        "import imageio\n",
        "import random, shutil\n",
        "import torch\n",
        "import torch.nn as nn\n",
        "from tqdm.notebook import tqdm\n",
        "import torch.nn.functional as F\n",
        "import torchvision.datasets as datasets\n",
        "import torchvision.transforms as transforms\n",
        "import numpy as np\n",
        "import matplotlib.pyplot as plt\n",
        "import IPython.display as display\n",
        "from  sklearn.model_selection import train_test_split \n",
        "from torch.utils.data import Dataset, TensorDataset\n",
        "import functools\n",
        "import operator"
      ],
      "execution_count": 1,
      "outputs": []
    },
    {
      "cell_type": "markdown",
      "metadata": {
        "id": "FN04VztTgKxh"
      },
      "source": [
        "# The helper functions for plotting and creating a pytorch dataset"
      ]
    },
    {
      "cell_type": "code",
      "metadata": {
        "colab": {
          "base_uri": "https://localhost:8080/"
        },
        "cellView": "form",
        "id": "xTN855WOeg_D",
        "outputId": "3a1b0965-3202-4106-bcdf-4691c7a3c5d9"
      },
      "source": [
        "# @title Helper functions (run me)\n",
        "\n",
        "def set_device():\n",
        "  device = \"cuda\" if torch.cuda.is_available() else \"cpu\"\n",
        "  if device != \"cuda\":\n",
        "      print(\"WARNING: For this notebook to perform best, \"\n",
        "          \"if possible, in the menu under `Runtime` -> \"\n",
        "          \"`Change runtime type.`  select `GPU` \")\n",
        "  else:\n",
        "      print(\"GPU is enabled in this notebook.\")\n",
        "\n",
        "  return device\n",
        "\n",
        "\n",
        "#  Plotting function.\n",
        "\n",
        "def plot_loss_accuracy(train_loss, train_acc, validation_loss, validation_acc):\n",
        "  epochs = len(train_loss)\n",
        "  fig, (ax1, ax2) = plt.subplots(1, 2)\n",
        "  ax1.plot(list(range(epochs)), train_loss, label='Training Loss')\n",
        "  ax1.plot(list(range(epochs)), validation_loss, label='Validation Loss')\n",
        "  ax1.set_xlabel('Epochs')\n",
        "  ax1.set_ylabel('Loss')\n",
        "  ax1.set_title('Epoch vs Loss')\n",
        "  ax1.legend()\n",
        "\n",
        "  ax2.plot(list(range(epochs)), train_acc, label='Training Accuracy')\n",
        "  ax2.plot(list(range(epochs)), validation_acc, label='Validation Accuracy')\n",
        "  ax2.set_xlabel('Epochs')\n",
        "  ax2.set_ylabel('Accuracy')\n",
        "  ax2.set_title('Epoch vs Accuracy')\n",
        "  ax2.legend()\n",
        "  fig.set_size_inches(15.5, 5.5)\n",
        "  plt.show()\n",
        "device = set_device()\n",
        "\n",
        "class CustomTensorDataset(Dataset):\n",
        "    \"\"\"TensorDataset with support of transforms.\n",
        "    \"\"\"\n",
        "    def __init__(self, tensors, transform=None):\n",
        "        assert all(tensors[0].size(0) == tensor.size(0) for tensor in tensors)\n",
        "        self.tensors = tensors\n",
        "        self.transform = transform\n",
        "\n",
        "    def __getitem__(self, index):\n",
        "        x = self.tensors[0][index]\n",
        "\n",
        "        if self.transform:\n",
        "            x = self.transform(x)\n",
        "\n",
        "        y = self.tensors[1][index]\n",
        "\n",
        "        return x, y\n",
        "        \n",
        "    def __len__(self):\n",
        "        return self.tensors[0].size(0)    "
      ],
      "execution_count": 2,
      "outputs": [
        {
          "output_type": "stream",
          "text": [
            "GPU is enabled in this notebook.\n"
          ],
          "name": "stdout"
        }
      ]
    },
    {
      "cell_type": "markdown",
      "metadata": {
        "id": "ejBs8Y_Yf8Tx"
      },
      "source": [
        "# Loading the preprocessed data and process it further more"
      ]
    },
    {
      "cell_type": "code",
      "metadata": {
        "id": "mvatUzwNer0D"
      },
      "source": [
        "# loading the preprocessed data\n",
        "melspectrogram= np.load('/content/drive/MyDrive/NMA_DL_project/feature_0.npy')\n",
        "chroma_stft= np.load('/content/drive/MyDrive/NMA_DL_project/feature_3.npy')\n",
        "labels= np.load('/content/drive/MyDrive/NMA_DL_project/all_the_labels.npy')\n",
        "\n",
        "# compining both features and adding the channel dimention\n",
        "compined_feat= np.concatenate( (melspectrogram , chroma_stft), axis=1).reshape( 2970,1,140, 108)\n",
        "\n",
        "x_train , x_test , y_train , y_test = train_test_split( compined_feat , labels , train_size=0.8, stratify=labels )\n",
        "\n",
        "#transform =transforms.GaussianBlur(3 , (0.001,0.5))\n",
        "\n",
        "# changing them into torch format\n",
        "x_train = torch.tensor(x_train )\n",
        "x_test = torch.tensor(x_test)\n",
        "\n",
        "y_train =torch.tensor(y_train)\n",
        "y_test = torch.tensor(y_test)\n",
        "\n",
        "train_dataset= CustomTensorDataset(tensors=(x_train, y_train), )# transform=transform)\n",
        "test_dataset = CustomTensorDataset(tensors=(x_test, y_test))\n",
        "\n",
        "train_loader=torch.utils.data.DataLoader(train_dataset ,batch_size=30)\n",
        "test_loader=torch.utils.data.DataLoader(test_dataset ,batch_size=30)"
      ],
      "execution_count": 3,
      "outputs": []
    },
    {
      "cell_type": "markdown",
      "metadata": {
        "id": "O2Ra7mYQfwW8"
      },
      "source": [
        "# Building the model"
      ]
    },
    {
      "cell_type": "code",
      "metadata": {
        "id": "om6-9xCXfxsm"
      },
      "source": [
        "class music_CNN(nn.Module):\n",
        "    \"\"\"Basic Pytorch CNN implementation\"\"\"\n",
        "\n",
        "    def __init__(self, in_channels=1, \n",
        "                 out_channels=10,\n",
        "                 input_dim=(1, 128, 108)):\n",
        "        \n",
        "        nn.Module.__init__(self)\n",
        "        self.feature_extractor = nn.Sequential(\n",
        "            nn.Conv2d(in_channels=1, out_channels= 64, kernel_size=3, stride=1 , padding='same'),\n",
        "            nn.ReLU(inplace=True),\n",
        "            nn.BatchNorm2d( 64 ) ,\n",
        "            nn.MaxPool2d(kernel_size=2),\n",
        "\n",
        "            nn.Conv2d(in_channels=64, out_channels=64, kernel_size=3, stride=1, padding='same'),\n",
        "            nn.ReLU(inplace=True),\n",
        "            nn.BatchNorm2d( 64 ) ,\n",
        "            nn.MaxPool2d(kernel_size=2),\n",
        "\n",
        "            nn.Conv2d(in_channels=64, out_channels=128, kernel_size=3, stride=1, padding='same'),\n",
        "            nn.ReLU(inplace=True),\n",
        "            nn.BatchNorm2d( 128 ) ,\n",
        "            nn.MaxPool2d(kernel_size=2),\n",
        "\n",
        "            nn.Dropout(0.3),\n",
        "\n",
        "            nn.Conv2d(in_channels=128, out_channels=128, kernel_size=3, stride=1, padding='same'),\n",
        "            nn.ReLU(inplace=True),\n",
        "            nn.BatchNorm2d( 128 ) ,\n",
        "            nn.MaxPool2d(kernel_size=2),\n",
        "\n",
        "            nn.Conv2d(in_channels=128, out_channels= 256, kernel_size=3, stride=1 , padding='same'),\n",
        "            nn.ReLU(inplace=True),\n",
        "            nn.BatchNorm2d( 256 ) ,\n",
        "            nn.MaxPool2d(kernel_size=2),\n",
        "\n",
        "            nn.Dropout(0.4),\n",
        "\n",
        "            nn.Conv2d(in_channels=256, out_channels=512, kernel_size=3, stride=1, padding='same'),\n",
        "            nn.ReLU(inplace=True),\n",
        "            nn.BatchNorm2d( 512 ) ,\n",
        "            nn.MaxPool2d(kernel_size=2),\n",
        "\n",
        "\n",
        "        )\n",
        "\n",
        "        num_features_before_fcnn = functools.reduce(operator.mul, list(self.feature_extractor(torch.rand(1, *input_dim)).shape))\n",
        "\n",
        "        self.classifier = nn.Sequential(\n",
        "            nn.Linear(in_features=num_features_before_fcnn, out_features=256),\n",
        "            nn.Dropout(0.4),\n",
        "            nn.Linear(in_features=256, out_features=out_channels),\n",
        "        )\n",
        "\n",
        "    def forward(self, x):\n",
        "        batch_size = x.size(0)\n",
        "\n",
        "        out = self.feature_extractor(x)\n",
        "        out = out.view(batch_size, -1)  # flatten the vector\n",
        "        out = self.classifier(out)\n",
        "        return out"
      ],
      "execution_count": 13,
      "outputs": []
    },
    {
      "cell_type": "markdown",
      "metadata": {
        "id": "GDp661EPfzKn"
      },
      "source": [
        "# Creating the training loop"
      ]
    },
    {
      "cell_type": "code",
      "metadata": {
        "id": "vkFZ7GCgeUgo"
      },
      "source": [
        "def train(model, device, train_loader, validation_loader, epochs , optimizer):\n",
        "  criterion =  nn.CrossEntropyLoss()\n",
        "  #optimizer = torch.optim.Adam(model.parameters(), lr=0.0001)\n",
        "  train_loss, validation_loss = [], []\n",
        "  train_acc, validation_acc = [], []\n",
        "  with tqdm(range(epochs), unit='epoch') as tepochs:\n",
        "    tepochs.set_description('Training')\n",
        "    for epoch in tepochs:\n",
        "      model.train()\n",
        "      # keep track of the running loss\n",
        "      running_loss = 0.\n",
        "      correct, total = 0, 0\n",
        "\n",
        "      for data, target in train_loader:\n",
        "        # getting the training set\n",
        "        data, target = data.to(device, dtype=torch.float ), target.to(device)\n",
        "        # Get the model output (call the model with the data from this batch)\n",
        "        output = model(data)\n",
        "        # Zero the gradients out)\n",
        "        optimizer.zero_grad()\n",
        "        # Get the Loss\n",
        "        loss  = criterion(output, target)\n",
        "        # Calculate the gradients\n",
        "        loss.backward()\n",
        "        # Update the weights (using the training step of the optimizer)\n",
        "        optimizer.step()\n",
        "\n",
        "        tepochs.set_postfix(loss=loss.item())\n",
        "        running_loss += loss  # add the loss for this batch\n",
        "\n",
        "        # get accuracy\n",
        "        _, predicted = torch.max(output, 1)\n",
        "        total += target.size(0)\n",
        "        correct += (predicted == target).sum().item()\n",
        "\n",
        "      # append the loss for this epoch\n",
        "      train_loss.append(running_loss/len(train_loader))\n",
        "      train_acc.append(correct/total)\n",
        "\n",
        "      # evaluate on validation data\n",
        "      model.eval()\n",
        "      running_loss = 0.\n",
        "      correct, total = 0, 0\n",
        "\n",
        "      for data, target in validation_loader:\n",
        "        # getting the validation set\n",
        "        data, target = data.to(device, dtype=torch.float), target.to(device)\n",
        "        optimizer.zero_grad()\n",
        "        output = model(data)\n",
        "        loss = criterion(output, target)\n",
        "        tepochs.set_postfix(loss=loss.item())\n",
        "        running_loss += loss.item()\n",
        "        # get accuracy\n",
        "        _, predicted = torch.max(output, 1)\n",
        "        total += target.size(0)\n",
        "        correct += (predicted == target).sum().item()\n",
        "\n",
        "      validation_loss.append(running_loss/len(validation_loader))\n",
        "      validation_acc.append(correct/total)\n",
        "      print(f'Epoch: {epoch+1}')\n",
        "      print(f'The Train accuracy= {train_acc[epoch]} \\n The Validation acc {validation_acc[epoch]}') \n",
        "      print(f'The Train loss= {train_loss[epoch]} \\n The Validation loss {validation_loss[epoch]}')  \n",
        "      print('\\n')\n",
        "      if validation_acc[epoch] > 0.8:\n",
        "          return train_loss, train_acc, validation_loss, validation_acc\n",
        "\n",
        "  return train_loss, train_acc, validation_loss, validation_acc\n"
      ],
      "execution_count": 11,
      "outputs": []
    },
    {
      "cell_type": "markdown",
      "metadata": {
        "id": "vUQewIGCf3RJ"
      },
      "source": [
        "# Training the model"
      ]
    },
    {
      "cell_type": "code",
      "metadata": {
        "colab": {
          "base_uri": "https://localhost:8080/",
          "height": 1000,
          "referenced_widgets": [
            "21327e8570e846c78549f5826b4411d3",
            "2d707014a2394d23b36893693949e151",
            "929d62d5942f4e34bbdd66b092ffc9e9",
            "fc55ba93b64b4e8d8ce7800b63fb1792",
            "f4f9c71c73584c4f99c8b2811f6bfedb",
            "b1b68e6532ab476fa1bffab616b78589",
            "58605da7d5b04aac86c949796bf385e0",
            "03173dbad8c846139f1a14e792ed5804"
          ]
        },
        "id": "4Jwbs_TJf25a",
        "outputId": "62fd2f8a-ca53-4998-8595-001df05a9bd9"
      },
      "source": [
        "net = music_CNN().to(device)\n",
        "optimizer = torch.optim.SGD(net.parameters(), lr=0.0001, momentum=0.99 )\n",
        "train_loss, train_acc, validation_loss, validation_acc = train(net, device, train_loader, test_loader, 30, optimizer)\n",
        "plot_loss_accuracy(train_loss, train_acc, validation_loss, validation_acc)"
      ],
      "execution_count": 14,
      "outputs": [
        {
          "output_type": "display_data",
          "data": {
            "application/vnd.jupyter.widget-view+json": {
              "model_id": "21327e8570e846c78549f5826b4411d3",
              "version_minor": 0,
              "version_major": 2
            },
            "text/plain": [
              "HBox(children=(FloatProgress(value=0.0, max=30.0), HTML(value='')))"
            ]
          },
          "metadata": {
            "tags": []
          }
        },
        {
          "output_type": "stream",
          "text": [
            "Epoch: 1\n",
            "The Train accuracy= 0.22685185185185186 \n",
            " The Validation acc 0.39730639730639733\n",
            "The Train loss= 2.1439363956451416 \n",
            " The Validation loss 1.7037693202495574\n",
            "\n",
            "\n",
            "Epoch: 2\n",
            "The Train accuracy= 0.4196127946127946 \n",
            " The Validation acc 0.42592592592592593\n",
            "The Train loss= 1.6127256155014038 \n",
            " The Validation loss 1.7487988650798798\n",
            "\n",
            "\n",
            "Epoch: 3\n",
            "The Train accuracy= 0.48653198653198654 \n",
            " The Validation acc 0.4882154882154882\n",
            "The Train loss= 1.4286812543869019 \n",
            " The Validation loss 1.4687904506921767\n",
            "\n",
            "\n",
            "Epoch: 4\n",
            "The Train accuracy= 0.5357744107744108 \n",
            " The Validation acc 0.5370370370370371\n",
            "The Train loss= 1.3027738332748413 \n",
            " The Validation loss 1.348850554227829\n",
            "\n",
            "\n",
            "Epoch: 5\n",
            "The Train accuracy= 0.5757575757575758 \n",
            " The Validation acc 0.49158249158249157\n",
            "The Train loss= 1.1923199892044067 \n",
            " The Validation loss 1.484496885538101\n",
            "\n",
            "\n",
            "Epoch: 6\n",
            "The Train accuracy= 0.6308922558922558 \n",
            " The Validation acc 0.49326599326599324\n",
            "The Train loss= 1.0375995635986328 \n",
            " The Validation loss 1.4934963792562486\n",
            "\n",
            "\n",
            "Epoch: 7\n",
            "The Train accuracy= 0.6746632996632996 \n",
            " The Validation acc 0.6717171717171717\n",
            "The Train loss= 0.9284189343452454 \n",
            " The Validation loss 0.9665378719568253\n",
            "\n",
            "\n",
            "Epoch: 8\n",
            "The Train accuracy= 0.7024410774410774 \n",
            " The Validation acc 0.6936026936026936\n",
            "The Train loss= 0.8277264833450317 \n",
            " The Validation loss 0.9347328513860702\n",
            "\n",
            "\n",
            "Epoch: 9\n",
            "The Train accuracy= 0.7369528619528619 \n",
            " The Validation acc 0.6127946127946128\n",
            "The Train loss= 0.7552233338356018 \n",
            " The Validation loss 1.153058710694313\n",
            "\n",
            "\n",
            "Epoch: 10\n",
            "The Train accuracy= 0.7596801346801347 \n",
            " The Validation acc 0.6313131313131313\n",
            "The Train loss= 0.6861421465873718 \n",
            " The Validation loss 1.2394691586494446\n",
            "\n",
            "\n",
            "Epoch: 11\n",
            "The Train accuracy= 0.789983164983165 \n",
            " The Validation acc 0.7356902356902357\n",
            "The Train loss= 0.6067083477973938 \n",
            " The Validation loss 0.8782888263463974\n",
            "\n",
            "\n",
            "Epoch: 12\n",
            "The Train accuracy= 0.8244949494949495 \n",
            " The Validation acc 0.6582491582491582\n",
            "The Train loss= 0.51895672082901 \n",
            " The Validation loss 1.095022165775299\n",
            "\n",
            "\n",
            "Epoch: 13\n",
            "The Train accuracy= 0.8324915824915825 \n",
            " The Validation acc 0.7138047138047138\n",
            "The Train loss= 0.47075900435447693 \n",
            " The Validation loss 0.9452948704361915\n",
            "\n",
            "\n",
            "Epoch: 14\n",
            "The Train accuracy= 0.8632154882154882 \n",
            " The Validation acc 0.7676767676767676\n",
            "The Train loss= 0.3941732347011566 \n",
            " The Validation loss 0.8668910652399063\n",
            "\n",
            "\n",
            "Epoch: 15\n",
            "The Train accuracy= 0.8686868686868687 \n",
            " The Validation acc 0.7609427609427609\n",
            "The Train loss= 0.37066471576690674 \n",
            " The Validation loss 0.8140457063913346\n",
            "\n",
            "\n",
            "Epoch: 16\n",
            "The Train accuracy= 0.8867845117845118 \n",
            " The Validation acc 0.6043771043771043\n",
            "The Train loss= 0.316194623708725 \n",
            " The Validation loss 1.5646278709173203\n",
            "\n",
            "\n",
            "Epoch: 17\n",
            "The Train accuracy= 0.8897306397306397 \n",
            " The Validation acc 0.7828282828282829\n",
            "The Train loss= 0.30441775918006897 \n",
            " The Validation loss 0.8036107912659645\n",
            "\n",
            "\n",
            "Epoch: 18\n",
            "The Train accuracy= 0.9040404040404041 \n",
            " The Validation acc 0.696969696969697\n",
            "The Train loss= 0.2659536302089691 \n",
            " The Validation loss 1.1261420249938965\n",
            "\n",
            "\n",
            "Epoch: 19\n",
            "The Train accuracy= 0.9040404040404041 \n",
            " The Validation acc 0.7138047138047138\n",
            "The Train loss= 0.2762930989265442 \n",
            " The Validation loss 1.0909716308116912\n",
            "\n",
            "\n",
            "Epoch: 20\n",
            "The Train accuracy= 0.9078282828282829 \n",
            " The Validation acc 0.7121212121212122\n",
            "The Train loss= 0.26219484210014343 \n",
            " The Validation loss 1.0749417304992677\n",
            "\n",
            "\n",
            "Epoch: 21\n",
            "The Train accuracy= 0.9204545454545454 \n",
            " The Validation acc 0.7104377104377104\n",
            "The Train loss= 0.23355023562908173 \n",
            " The Validation loss 1.1122085511684419\n",
            "\n",
            "\n",
            "Epoch: 22\n",
            "The Train accuracy= 0.9242424242424242 \n",
            " The Validation acc 0.6582491582491582\n",
            "The Train loss= 0.21207308769226074 \n",
            " The Validation loss 1.2882857471704483\n",
            "\n",
            "\n",
            "Epoch: 23\n",
            "The Train accuracy= 0.9461279461279462 \n",
            " The Validation acc 0.7929292929292929\n",
            "The Train loss= 0.1562403291463852 \n",
            " The Validation loss 0.8124774105846881\n",
            "\n",
            "\n",
            "Epoch: 24\n",
            "The Train accuracy= 0.9591750841750841 \n",
            " The Validation acc 0.7828282828282829\n",
            "The Train loss= 0.12327045202255249 \n",
            " The Validation loss 0.8624368615448474\n",
            "\n",
            "\n",
            "Epoch: 25\n",
            "The Train accuracy= 0.9701178451178452 \n",
            " The Validation acc 0.8164983164983165\n",
            "The Train loss= 0.10188215970993042 \n",
            " The Validation loss 0.6912789352238178\n",
            "\n",
            "\n",
            "\n"
          ],
          "name": "stdout"
        },
        {
          "output_type": "display_data",
          "data": {
            "image/png": "[encoded data removed]",
            "text/plain": [
              "<Figure size 1116x396 with 2 Axes>"
            ]
          },
          "metadata": {
            "tags": [],
            "needs_background": "light"
          }
        }
      ]
    },
    {
      "cell_type": "markdown",
      "metadata": {
        "id": "ibW3YHblx2pI"
      },
      "source": [
        "# Saving the model with val accuracy 81%"
      ]
    },
    {
      "cell_type": "code",
      "metadata": {
        "id": "ceCOqqySxgP2"
      },
      "source": [
        "torch.save(net.state_dict(), 'model_81val_acc.cp')"
      ],
      "execution_count": 15,
      "outputs": []
    },
    {
      "cell_type": "code",
      "metadata": {
        "colab": {
          "base_uri": "https://localhost:8080/"
        },
        "id": "DX1Sxhk2ygk9",
        "outputId": "d714e717-f208-4862-8b10-5101efef0bbd"
      },
      "source": [
        "tmp_model= music_CNN()\n",
        "tmp_model.load_state_dict(torch.load( 'model_81val_acc.cp' ))"
      ],
      "execution_count": 16,
      "outputs": [
        {
          "output_type": "execute_result",
          "data": {
            "text/plain": [
              "<All keys matched successfully>"
            ]
          },
          "metadata": {
            "tags": []
          },
          "execution_count": 16
        }
      ]
    },
    {
      "cell_type": "code",
      "metadata": {
        "colab": {
          "base_uri": "https://localhost:8080/"
        },
        "id": "N58fNNKnyuGD",
        "outputId": "e9c1ce5b-3366-4106-c700-d3f0c2c573ef"
      },
      "source": [
        "def validate_model(model):\n",
        "    criterion =  nn.CrossEntropyLoss()\n",
        "    running_loss=0\n",
        "    total=0\n",
        "    correct=0\n",
        "    for data, target in test_loader:\n",
        "            # getting the validation set\n",
        "            data, target = data.to(device, dtype=torch.float), target.to(device)\n",
        "            optimizer.zero_grad()\n",
        "            output = model(data)\n",
        "            loss = criterion(output, target)\n",
        "            #tepochs.set_postfix(loss=loss.item())\n",
        "            running_loss += loss.item()\n",
        "            # get accuracy\n",
        "            _, predicted = torch.max(output, 1)\n",
        "            total += target.size(0)\n",
        "            correct += (predicted == target).sum().item()\n",
        "\n",
        "            validation_loss.append(running_loss/len(test_loader))\n",
        "            validation_acc.append(correct/total)\n",
        "\n",
        "    print(f'The Validation acc {np.mean(validation_acc)}') \n",
        "    print(f'The Validation loss {np.mean(validation_loss)}')  \n",
        "    print('\\n')\n",
        "\n",
        "validate_model(tmp_model.to('cuda'))"
      ],
      "execution_count": 30,
      "outputs": [
        {
          "output_type": "stream",
          "text": [
            "The Validation acc 0.777098434355271\n",
            "The Validation loss 0.5419047256961229\n",
            "\n",
            "\n"
          ],
          "name": "stdout"
        }
      ]
    },
    {
      "cell_type": "markdown",
      "metadata": {
        "id": "e28cgYza3xGi"
      },
      "source": [
        "copying the trained model into my drive"
      ]
    },
    {
      "cell_type": "code",
      "metadata": {
        "id": "CPlVc2x-024Z"
      },
      "source": [
        "!cp  '/content/model_81val_acc.cp' '/content/drive/MyDrive/NMA_DL_project'"
      ],
      "execution_count": 31,
      "outputs": []
    },
    {
      "cell_type": "markdown",
      "metadata": {
        "id": "J5BVRTDkhThP"
      },
      "source": [
        "# Testing"
      ]
    },
    {
      "cell_type": "code",
      "metadata": {
        "id": "jlhGoV3OhGWl"
      },
      "source": [
        "def classify_music( path ):\n",
        "    import librosa\n",
        "    import warnings\n",
        "    warnings.filterwarnings(\"ignore\", category=UserWarning,)\n",
        "    classes=[ 'classical ', 'hiphop', 'pop','country',\n",
        "                     'disco', 'reggae', 'jazz', 'rock', 'blues', 'metal']\n",
        "    music_loc= path # insert path for the audio wav file prefereably\n",
        "    y, sr = librosa.load(music_loc)\n",
        "    y_resamble= librosa.resample(y[110299:110299*2], 22050, 11025)\n",
        "    C_STFT= librosa.feature.chroma_stft( y_resamble, sr=11025  )\n",
        "    S = librosa.feature.melspectrogram( y_resamble, sr=11025  )\n",
        "    S_DB = librosa.amplitude_to_db(S, ref=np.max)\n",
        "    input_test= np.concatenate( (S_DB , C_STFT), axis=0).reshape( 1,1,140, 108)\n",
        "    input_test=torch.tensor(input_test, device='cuda')\n",
        "    # we are using the tmp_model that I saved it's weights b4\n",
        "\n",
        "    idx= torch.argmax(F.softmax( tmp_model( input_test ).to('cuda') , dim=0  )) \n",
        "    return print(f' Genre is: {classes[idx]}')\n"
      ],
      "execution_count": 93,
      "outputs": []
    },
    {
      "cell_type": "code",
      "metadata": {
        "colab": {
          "base_uri": "https://localhost:8080/"
        },
        "id": "GnSER3oV1LJt",
        "outputId": "040e9664-4c22-434c-d3ce-02349f72ee0e"
      },
      "source": [
        "classify_music( '/content/jazz_song.mp3' ) # this is let's face the music and dance song by nat king cole"
      ],
      "execution_count": 95,
      "outputs": [
        {
          "output_type": "stream",
          "text": [
            " Genre is: classical \n"
          ],
          "name": "stdout"
        }
      ]
    },
    {
      "cell_type": "code",
      "metadata": {
        "id": "fUKGAzP254ux"
      },
      "source": [
        ""
      ],
      "execution_count": null,
      "outputs": []
    }
  ]
}