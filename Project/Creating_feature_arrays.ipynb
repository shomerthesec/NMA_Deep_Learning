{
  "nbformat": 4,
  "nbformat_minor": 0,
  "metadata": {
    "colab": {
      "name": "Creating feature arrays",
      "provenance": []
    },
    "kernelspec": {
      "name": "python3",
      "display_name": "Python 3"
    },
    "language_info": {
      "name": "python"
    }
  },
  "cells": [
    {
      "cell_type": "code",
      "metadata": {
        "id": "dehtjRXvUaVl"
      },
      "source": [
        "# Import necessary libraries.\n",
        "import os\n",
        "import pandas as pd\n",
        "import random, shutil\n",
        "import torch\n",
        "import torch.nn as nn\n",
        "from tqdm.notebook import tqdm\n",
        "import torch.nn.functional as F\n",
        "import torchvision.datasets as datasets\n",
        "import torchvision.transforms as transforms\n",
        "import numpy as np\n",
        "import matplotlib.pyplot as plt\n",
        "import IPython.display as display\n"
      ],
      "execution_count": 5,
      "outputs": []
    },
    {
      "cell_type": "code",
      "metadata": {
        "id": "UEH2nH9_UkuM"
      },
      "source": [
        "features= np.load('/content/drive/MyDrive/NMA_DL_project/all_the_features.npy',allow_pickle=True)\n",
        "labels=np.load('/content/drive/MyDrive/NMA_DL_project/all_the_labels.npy',allow_pickle=True)"
      ],
      "execution_count": 78,
      "outputs": []
    },
    {
      "cell_type": "code",
      "metadata": {
        "colab": {
          "base_uri": "https://localhost:8080/",
          "height": 474
        },
        "id": "j0_onrb-Uvou",
        "outputId": "52f7a261-c8b6-4853-bd2a-d21c28e32ac3"
      },
      "source": [
        "df= pd.DataFrame(features)\n",
        "df.head()"
      ],
      "execution_count": 79,
      "outputs": [
        {
          "output_type": "execute_result",
          "data": {
            "text/html": [
              "<div>\n",
              "<style scoped>\n",
              "    .dataframe tbody tr th:only-of-type {\n",
              "        vertical-align: middle;\n",
              "    }\n",
              "\n",
              "    .dataframe tbody tr th {\n",
              "        vertical-align: top;\n",
              "    }\n",
              "\n",
              "    .dataframe thead th {\n",
              "        text-align: right;\n",
              "    }\n",
              "</style>\n",
              "<table border=\"1\" class=\"dataframe\">\n",
              "  <thead>\n",
              "    <tr style=\"text-align: right;\">\n",
              "      <th></th>\n",
              "      <th>0</th>\n",
              "      <th>1</th>\n",
              "      <th>2</th>\n",
              "      <th>3</th>\n",
              "      <th>4</th>\n",
              "      <th>5</th>\n",
              "      <th>6</th>\n",
              "      <th>7</th>\n",
              "      <th>8</th>\n",
              "      <th>9</th>\n",
              "    </tr>\n",
              "  </thead>\n",
              "  <tbody>\n",
              "    <tr>\n",
              "      <th>0</th>\n",
              "      <td>[[[-65.298096, -70.04863, -77.817276, -80.0, -...</td>\n",
              "      <td>[[[-71.087036, -75.05148, -80.0, -80.0, -80.0,...</td>\n",
              "      <td>[[[-46.835487, -58.266075, -80.0, -80.0, -67.5...</td>\n",
              "      <td>[[[-71.120415, -78.295044, -80.0, -73.21907, -...</td>\n",
              "      <td>[[[-80.0, -80.0, -80.0, -80.0, -80.0, -80.0, -...</td>\n",
              "      <td>[[[-37.62037, -46.842506, -59.62098, -45.18292...</td>\n",
              "      <td>[[[-80.0, -80.0, -80.0, -76.15962, -69.93909, ...</td>\n",
              "      <td>[[[-41.019203, -52.859505, -80.0, -80.0, -80.0...</td>\n",
              "      <td>[[[-80.0, -80.0, -80.0, -80.0, -80.0, -80.0, -...</td>\n",
              "      <td>[[[-80.0, -80.0, -80.0, -80.0, -80.0, -80.0, -...</td>\n",
              "    </tr>\n",
              "    <tr>\n",
              "      <th>1</th>\n",
              "      <td>[[[-64.74619, -74.24568, -80.0, -80.0, -80.0, ...</td>\n",
              "      <td>[[[-77.5818, -80.0, -80.0, -80.0, -80.0, -80.0...</td>\n",
              "      <td>[[[-55.32198, -68.65732, -80.0, -80.0, -80.0, ...</td>\n",
              "      <td>[[[-55.925564, -66.73613, -80.0, -80.0, -80.0,...</td>\n",
              "      <td>[[[-55.552357, -67.591354, -80.0, -80.0, -80.0...</td>\n",
              "      <td>[[[-39.519073, -51.55992, -80.0, -80.0, -80.0,...</td>\n",
              "      <td>[[[-80.0, -80.0, -80.0, -80.0, -80.0, -80.0, -...</td>\n",
              "      <td>[[[-46.913574, -47.10653, -35.61605, -41.73833...</td>\n",
              "      <td>[[[-33.52887, -45.750977, -72.40613, -69.67498...</td>\n",
              "      <td>[[[-80.0, -79.159966, -77.46018, -80.0, -80.0,...</td>\n",
              "    </tr>\n",
              "    <tr>\n",
              "      <th>2</th>\n",
              "      <td>[[[-80.0, -80.0, -80.0, -80.0, -80.0, -80.0, -...</td>\n",
              "      <td>[[[-80.0, -74.938545, -63.9778, -59.64665, -59...</td>\n",
              "      <td>[[[-72.3529, -79.62429, -80.0, -72.23688, -71....</td>\n",
              "      <td>[[[-44.20174, -52.632538, -62.276447, -61.7302...</td>\n",
              "      <td>[[[-47.816505, -55.820377, -64.73056, -60.7971...</td>\n",
              "      <td>[[[-65.22782, -75.527054, -80.0, -80.0, -80.0,...</td>\n",
              "      <td>[[[-58.97224, -59.695835, -61.236443, -59.2669...</td>\n",
              "      <td>[[[-45.245186, -47.934055, -41.114285, -49.475...</td>\n",
              "      <td>[[[-80.0, -80.0, -80.0, -80.0, -80.0, -80.0, -...</td>\n",
              "      <td>[[[-80.0, -80.0, -80.0, -80.0, -73.41835, -68....</td>\n",
              "    </tr>\n",
              "    <tr>\n",
              "      <th>3</th>\n",
              "      <td>[[[-67.64529, -60.859486, -56.007336, -54.7370...</td>\n",
              "      <td>[[[-65.58223, -70.38751, -70.984955, -80.0, -8...</td>\n",
              "      <td>[[[-64.84816, -56.42335, -48.77673, -50.60338,...</td>\n",
              "      <td>[[[-52.912495, -52.859367, -60.448555, -73.025...</td>\n",
              "      <td>[[[-64.39882, -62.83524, -58.741096, -58.94006...</td>\n",
              "      <td>[[[-60.656006, -67.13735, -70.674904, -61.2579...</td>\n",
              "      <td>[[[-80.0, -80.0, -80.0, -80.0, -80.0, -80.0, -...</td>\n",
              "      <td>[[[-77.368744, -79.86925, -80.0, -80.0, -80.0,...</td>\n",
              "      <td>[[[-51.39866, -51.435326, -51.838654, -61.5722...</td>\n",
              "      <td>[[[-53.92138, -64.062325, -80.0, -80.0, -80.0,...</td>\n",
              "    </tr>\n",
              "    <tr>\n",
              "      <th>4</th>\n",
              "      <td>[[[-56.985027, -68.57016, -64.7605, -55.85546,...</td>\n",
              "      <td>[[[-80.0, -80.0, -80.0, -80.0, -80.0, -80.0, -...</td>\n",
              "      <td>[[[-57.02016, -68.89549, -80.0, -80.0, -58.502...</td>\n",
              "      <td>[[[-60.12925, -57.828476, -55.82229, -47.68387...</td>\n",
              "      <td>[[[-47.42361, -55.557312, -68.46201, -72.0973,...</td>\n",
              "      <td>[[[-57.81318, -64.48157, -80.0, -80.0, -80.0, ...</td>\n",
              "      <td>[[[-80.0, -80.0, -80.0, -80.0, -80.0, -80.0, -...</td>\n",
              "      <td>[[[-80.0, -80.0, -80.0, -80.0, -80.0, -80.0, -...</td>\n",
              "      <td>[[[-48.585335, -60.65073, -80.0, -80.0, -80.0,...</td>\n",
              "      <td>[[[-80.0, -80.0, -80.0, -80.0, -80.0, -80.0, -...</td>\n",
              "    </tr>\n",
              "  </tbody>\n",
              "</table>\n",
              "</div>"
            ],
            "text/plain": [
              "                                                   0  ...                                                  9\n",
              "0  [[[-65.298096, -70.04863, -77.817276, -80.0, -...  ...  [[[-80.0, -80.0, -80.0, -80.0, -80.0, -80.0, -...\n",
              "1  [[[-64.74619, -74.24568, -80.0, -80.0, -80.0, ...  ...  [[[-80.0, -79.159966, -77.46018, -80.0, -80.0,...\n",
              "2  [[[-80.0, -80.0, -80.0, -80.0, -80.0, -80.0, -...  ...  [[[-80.0, -80.0, -80.0, -80.0, -73.41835, -68....\n",
              "3  [[[-67.64529, -60.859486, -56.007336, -54.7370...  ...  [[[-53.92138, -64.062325, -80.0, -80.0, -80.0,...\n",
              "4  [[[-56.985027, -68.57016, -64.7605, -55.85546,...  ...  [[[-80.0, -80.0, -80.0, -80.0, -80.0, -80.0, -...\n",
              "\n",
              "[5 rows x 10 columns]"
            ]
          },
          "metadata": {
            "tags": []
          },
          "execution_count": 79
        }
      ]
    },
    {
      "cell_type": "code",
      "metadata": {
        "colab": {
          "base_uri": "https://localhost:8080/"
        },
        "id": "eHbOl7-LWxjd",
        "outputId": "184d5e6b-0549-4a52-9538-3e79ffb2d1cf"
      },
      "source": [
        "np.array( features[0][0] )[0].shape"
      ],
      "execution_count": 56,
      "outputs": [
        {
          "output_type": "stream",
          "text": [
            "/usr/local/lib/python3.7/dist-packages/ipykernel_launcher.py:1: VisibleDeprecationWarning: Creating an ndarray from ragged nested sequences (which is a list-or-tuple of lists-or-tuples-or ndarrays with different lengths or shapes) is deprecated. If you meant to do this, you must specify 'dtype=object' when creating the ndarray\n",
            "  \"\"\"Entry point for launching an IPython kernel.\n"
          ],
          "name": "stderr"
        },
        {
          "output_type": "execute_result",
          "data": {
            "text/plain": [
              "(128, 645)"
            ]
          },
          "metadata": {
            "tags": []
          },
          "execution_count": 56
        }
      ]
    },
    {
      "cell_type": "code",
      "metadata": {
        "id": "zn_DpSLKU6my"
      },
      "source": [
        "# for row_of_music_files  in features : # music file 99\n",
        "#     for i , music_label in enumerate(row_of_music_files) :\n",
        "#         #print( music_label[4] ) # this is the features\n",
        "#         print(i)"
      ],
      "execution_count": 24,
      "outputs": []
    },
    {
      "cell_type": "code",
      "metadata": {
        "id": "D6HWxZdMZiUD"
      },
      "source": [
        "tmp_array= np.zeros_like( 0 , shape= (990,5) )"
      ],
      "execution_count": 58,
      "outputs": []
    },
    {
      "cell_type": "code",
      "metadata": {
        "colab": {
          "base_uri": "https://localhost:8080/"
        },
        "id": "TouLLcZLZmCb",
        "outputId": "ca1a1cb9-334d-4b9e-dad8-d4bd3f384b84"
      },
      "source": [
        "tmp_array.shape"
      ],
      "execution_count": 59,
      "outputs": [
        {
          "output_type": "execute_result",
          "data": {
            "text/plain": [
              "(990, 5)"
            ]
          },
          "metadata": {
            "tags": []
          },
          "execution_count": 59
        }
      ]
    },
    {
      "cell_type": "code",
      "metadata": {
        "colab": {
          "base_uri": "https://localhost:8080/"
        },
        "id": "NonlVZIUa5Gs",
        "outputId": "1c5e9487-bde4-4e95-a31d-992cf6fe91a2"
      },
      "source": [
        "tmp_array[98][4]"
      ],
      "execution_count": 41,
      "outputs": [
        {
          "output_type": "execute_result",
          "data": {
            "text/plain": [
              "0"
            ]
          },
          "metadata": {
            "tags": []
          },
          "execution_count": 41
        }
      ]
    },
    {
      "cell_type": "code",
      "metadata": {
        "id": "mAm0vDCpYH46"
      },
      "source": [
        "# for m_file , _ in enumerate(features):\n",
        "#     for label, _ in enumerate(labels):\n",
        "#         for feature in range(4):\n",
        "#             #features[m_file][label][feature] # the feature value\n",
        "#             tmp_array[m_file][feature]= np.array( features[m_file][label] ) [feature]\n",
        "#             tmp_array[m_file][4]= label"
      ],
      "execution_count": 64,
      "outputs": []
    },
    {
      "cell_type": "code",
      "metadata": {
        "id": "qFT7hl-hhjPu"
      },
      "source": [
        "#features= features.reshape(990,)"
      ],
      "execution_count": 66,
      "outputs": []
    },
    {
      "cell_type": "code",
      "metadata": {
        "id": "pGgSqQ7JiRiN"
      },
      "source": [
        "#df_tmp= pd.DataFrame( features )"
      ],
      "execution_count": 74,
      "outputs": []
    },
    {
      "cell_type": "code",
      "metadata": {
        "id": "Ds6eTgP7ilsR"
      },
      "source": [
        "#df_tmp"
      ],
      "execution_count": 77,
      "outputs": []
    },
    {
      "cell_type": "code",
      "metadata": {
        "colab": {
          "base_uri": "https://localhost:8080/"
        },
        "id": "G-d2SfMbjDqu",
        "outputId": "f7906bfa-bdc5-46d7-dc38-efb20b1f2e9f"
      },
      "source": [
        "features= features.T\n",
        "features.shape"
      ],
      "execution_count": 81,
      "outputs": [
        {
          "output_type": "execute_result",
          "data": {
            "text/plain": [
              "(10, 99)"
            ]
          },
          "metadata": {
            "tags": []
          },
          "execution_count": 81
        }
      ]
    },
    {
      "cell_type": "markdown",
      "metadata": {
        "id": "GIf6MQl6oEH0"
      },
      "source": [
        "# creating an array for each feature"
      ]
    },
    {
      "cell_type": "code",
      "metadata": {
        "id": "JjpK8o8YWuDw"
      },
      "source": [
        "f0 = np.zeros( (10,99,128, 645 ) )\n",
        "f1 = np.zeros( (10,99,1, 645 ) )\n",
        "f2 = np.zeros( (10,99,1, 645 ) )\n",
        "f3 = np.zeros( (10,99,12, 645 ) )\n",
        "\n",
        "for label_10  in range(10) :  \n",
        "    for n_99 in range (99) :\n",
        "        #for feature in range (4):\n",
        "        f0[label_10][n_99]= features[label_10][n_99][0]\n",
        "        f1[label_10][n_99]= features[label_10][n_99][1]\n",
        "        f2[label_10][n_99]= features[label_10][n_99][2]\n",
        "        f3[label_10][n_99]= features[label_10][n_99][3]\n",
        "        \n"
      ],
      "execution_count": 94,
      "outputs": []
    },
    {
      "cell_type": "code",
      "metadata": {
        "colab": {
          "base_uri": "https://localhost:8080/"
        },
        "id": "KH320aJtkw3-",
        "outputId": "9c93f325-8d08-4234-fbb8-26a20b1799b3"
      },
      "source": [
        "labels.shape"
      ],
      "execution_count": 98,
      "outputs": [
        {
          "output_type": "execute_result",
          "data": {
            "text/plain": [
              "(990,)"
            ]
          },
          "metadata": {
            "tags": []
          },
          "execution_count": 98
        }
      ]
    },
    {
      "cell_type": "code",
      "metadata": {
        "colab": {
          "base_uri": "https://localhost:8080/"
        },
        "id": "UQf4LdmyltPL",
        "outputId": "cb936dd0-f867-4037-e44d-b8d5ee1872ca"
      },
      "source": [
        "f0.shape "
      ],
      "execution_count": 99,
      "outputs": [
        {
          "output_type": "execute_result",
          "data": {
            "text/plain": [
              "(10, 99, 128, 645)"
            ]
          },
          "metadata": {
            "tags": []
          },
          "execution_count": 99
        }
      ]
    },
    {
      "cell_type": "code",
      "metadata": {
        "colab": {
          "base_uri": "https://localhost:8080/"
        },
        "id": "isSLWUvomCQf",
        "outputId": "7629b7a4-2220-4110-c3aa-de12525b6d1d"
      },
      "source": [
        "f1.shape"
      ],
      "execution_count": 100,
      "outputs": [
        {
          "output_type": "execute_result",
          "data": {
            "text/plain": [
              "(10, 99, 1, 645)"
            ]
          },
          "metadata": {
            "tags": []
          },
          "execution_count": 100
        }
      ]
    },
    {
      "cell_type": "code",
      "metadata": {
        "colab": {
          "base_uri": "https://localhost:8080/"
        },
        "id": "eNtAlNPVmDig",
        "outputId": "2aad410f-8b3e-4c33-c648-66405f1d4853"
      },
      "source": [
        "f2.shape"
      ],
      "execution_count": 101,
      "outputs": [
        {
          "output_type": "execute_result",
          "data": {
            "text/plain": [
              "(10, 99, 1, 645)"
            ]
          },
          "metadata": {
            "tags": []
          },
          "execution_count": 101
        }
      ]
    },
    {
      "cell_type": "code",
      "metadata": {
        "colab": {
          "base_uri": "https://localhost:8080/"
        },
        "id": "UBgr1GQrmERH",
        "outputId": "bb52a400-09a1-4b4b-bfc3-f5144537da85"
      },
      "source": [
        "f3.shape"
      ],
      "execution_count": 102,
      "outputs": [
        {
          "output_type": "execute_result",
          "data": {
            "text/plain": [
              "(10, 99, 12, 645)"
            ]
          },
          "metadata": {
            "tags": []
          },
          "execution_count": 102
        }
      ]
    },
    {
      "cell_type": "markdown",
      "metadata": {
        "id": "HNjklUado8lD"
      },
      "source": [
        "# reshaping into the needed shape"
      ]
    },
    {
      "cell_type": "code",
      "metadata": {
        "colab": {
          "base_uri": "https://localhost:8080/"
        },
        "id": "6Xvnm2cqmE2h",
        "outputId": "ea971dab-898d-4e3e-aca1-097a1538db78"
      },
      "source": [
        "f0.reshape(990 , 128 , 645).shape"
      ],
      "execution_count": 104,
      "outputs": [
        {
          "output_type": "execute_result",
          "data": {
            "text/plain": [
              "(990, 128, 645)"
            ]
          },
          "metadata": {
            "tags": []
          },
          "execution_count": 104
        }
      ]
    },
    {
      "cell_type": "code",
      "metadata": {
        "colab": {
          "base_uri": "https://localhost:8080/"
        },
        "id": "1YVnOPeLmRrK",
        "outputId": "fe135bd7-4bc7-4878-b8bf-77b2a09e17ca"
      },
      "source": [
        "f0[0][3] == f0.reshape(990 , 128 , 645)[3]"
      ],
      "execution_count": 108,
      "outputs": [
        {
          "output_type": "execute_result",
          "data": {
            "text/plain": [
              "array([[ True,  True,  True, ...,  True,  True,  True],\n",
              "       [ True,  True,  True, ...,  True,  True,  True],\n",
              "       [ True,  True,  True, ...,  True,  True,  True],\n",
              "       ...,\n",
              "       [ True,  True,  True, ...,  True,  True,  True],\n",
              "       [ True,  True,  True, ...,  True,  True,  True],\n",
              "       [ True,  True,  True, ...,  True,  True,  True]])"
            ]
          },
          "metadata": {
            "tags": []
          },
          "execution_count": 108
        }
      ]
    },
    {
      "cell_type": "code",
      "metadata": {
        "id": "bbElna6vmYGq"
      },
      "source": [
        "feature_0=f0.reshape(990 , 128 , 645)\n",
        "feature_1=f1.reshape(990 , 1 , 645)\n",
        "feature_2=f2.reshape(990 , 1 , 645)\n",
        "feature_3=f3.reshape(990 , 12 , 645)"
      ],
      "execution_count": 109,
      "outputs": []
    },
    {
      "cell_type": "code",
      "metadata": {
        "colab": {
          "base_uri": "https://localhost:8080/"
        },
        "id": "NDIDW1Zdmyii",
        "outputId": "fc789413-f981-413f-fd70-c9d7c08f1341"
      },
      "source": [
        "type( feature_0 )"
      ],
      "execution_count": 111,
      "outputs": [
        {
          "output_type": "execute_result",
          "data": {
            "text/plain": [
              "numpy.ndarray"
            ]
          },
          "metadata": {
            "tags": []
          },
          "execution_count": 111
        }
      ]
    },
    {
      "cell_type": "code",
      "metadata": {
        "id": "LkLFJkVjm4vg"
      },
      "source": [
        "np.save( 'feature_0.npy' , feature_0 )\n",
        "np.save( 'feature_1.npy' , feature_1 )\n",
        "np.save( 'feature_2.npy' , feature_2 )\n",
        "np.save( 'feature_3.npy' , feature_3 )"
      ],
      "execution_count": 112,
      "outputs": []
    },
    {
      "cell_type": "code",
      "metadata": {
        "id": "4-2UqPRMnN3_"
      },
      "source": [
        "!cp  '/content/feature_0.npy' '/content/drive/MyDrive/NMA_DL_project'\n",
        "!cp  '/content/feature_1.npy' '/content/drive/MyDrive/NMA_DL_project'\n",
        "!cp  '/content/feature_2.npy' '/content/drive/MyDrive/NMA_DL_project'\n",
        "!cp  '/content/feature_3.npy' '/content/drive/MyDrive/NMA_DL_project'"
      ],
      "execution_count": 113,
      "outputs": []
    }
  ]
}